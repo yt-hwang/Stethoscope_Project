{
 "cells": [
  {
   "cell_type": "code",
   "execution_count": 1,
   "id": "7d391076-550b-481f-9e31-92abf583cca4",
   "metadata": {},
   "outputs": [],
   "source": [
    "\n",
    "\n",
    "\n",
    "import numpy as np\n",
    "import os\n",
    "os.environ[\"CUBLAS_WORKSPACE_CONFIG\"] = \":16:8\" \n",
    "import random\n",
    "import math\n",
    "import time\n",
    "import pandas as pd\n",
    "import librosa\n",
    "import matplotlib.pyplot as plt\n",
    "import seaborn as sns\n",
    "import glob as gb\n",
    "import argparse\n",
    "import re\n",
    "\n",
    "import torch\n",
    "import torch.nn as nn\n",
    "import torch.nn.functional as F\n",
    "from torch.utils.data import DataLoader\n",
    "\n",
    "import pytorch_lightning as pl\n",
    "from pytorch_lightning.callbacks import ModelCheckpoint\n",
    "from pytorch_lightning.loggers import CSVLogger\n",
    "from lightning.pytorch.utilities import CombinedLoader\n",
    "\n",
    "\n",
    "\n",
    "\n",
    "from pytorch_lightning.callbacks import ModelCheckpoint\n",
    "from pytorch_lightning.callbacks.early_stopping import EarlyStopping\n",
    "from lightning.pytorch import seed_everything\n",
    "from sklearn.model_selection import train_test_split\n",
    "\n",
    "\n",
    "from src.model.models_cola import Cola, ColaMD\n",
    "from src.util import random_crop, random_mask, random_multiply, crop_first\n",
    "from src.model.models_eval import AudioClassifier, AudioClassifierCLAP, AudioClassifierAudioMAE\n",
    "from src.benchmark.model_util import get_encoder_path, initialize_pretrained_model\n",
    "from src.util import train_test_split_from_list\n",
    "import collections\n",
    "from tqdm import tqdm\n",
    "from pathlib import Path\n",
    "from torch.utils.data import Dataset\n",
    "\n",
    "torch.backends.cudnn.deterministic = True"
   ]
  },
  {
   "cell_type": "markdown",
   "id": "3db6f98a-22ce-4046-b0e4-295bb36676f0",
   "metadata": {
    "jp-MarkdownHeadingCollapsed": true
   },
   "source": [
    "# Data processing (sound_dir_loc.npy, embedding)"
   ]
  },
  {
   "cell_type": "code",
   "execution_count": 26,
   "id": "89acf9e4-027f-4465-886e-91814f90e2c8",
   "metadata": {},
   "outputs": [],
   "source": [
    "def process_mydata_interpatient(data_dir=\"data/Yeo/\", feature_dir=\"feature/yeo_eval/fixed_split/\", split = False, normal_flag = False):\n",
    "    \"\"\"\n",
    "    오디오 데이터를 inter-patient 방식으로 train/val/test 분할하여\n",
    "    sound_dir_loc.npy, labels.npy, split.npy 파일을 저장.\n",
    "    \n",
    "    [폴더 구조 예시]\n",
    "    data_dir = \"audio/\"\n",
    "      ├── normal/*.wav      (ex: 1.wav, 2.wav, 3.wav, ...)\n",
    "      └── abnormal/*.wav    (ex: WEBSS-002 T1.wav, WEBSS-002 T2.wav, ...)\n",
    "    \n",
    "    [출력]\n",
    "    feature_dir = \"feature/mydata/\"\n",
    "      ├── sound_dir_loc.npy  : 각 파일 경로 (str) 목록\n",
    "      ├── labels.npy         : 0(정상) or 1(비정상) 라벨\n",
    "      └── split.npy          : \"train\" / \"val\" / \"test\" 문자열 목록\n",
    "    \"\"\"\n",
    "\n",
    "    os.makedirs(feature_dir, exist_ok=True)\n",
    "\n",
    "    # 1) 파일 목록 수집\n",
    "    if normal_flag == True:\n",
    "        normal_files = gb.glob(os.path.join(data_dir, \"normal\", \"*.wav\"))\n",
    "        abnormal_files = gb.glob(os.path.join(data_dir, \"abnormal\", \"*.wav\"))\n",
    "    else:\n",
    "        abnormal_files = gb.glob(os.path.join(data_dir, \"abnormal\", \"*.wav\"))\n",
    "\n",
    "    # 2) patient_id 추출 함수\n",
    "    def get_patient_id(filepath, label_type):\n",
    "        \"\"\"\n",
    "        label_type = 'normal' or 'abnormal'\n",
    "        filepath 예:\n",
    "          - normal -> audio/normal/1.wav\n",
    "          - abnormal -> audio/abnormal/WEBSS-002 T1.wav\n",
    "        반환: 환자 ID (str)\n",
    "        \"\"\"\n",
    "        basename = os.path.basename(filepath)  # 예: \"1.wav\" or \"WEBSS-002 T1.wav\"\n",
    "        name_only = os.path.splitext(basename)[0]  # 확장자 제거: \"1\" or \"WEBSS-002 T1\"\n",
    "        \n",
    "        if label_type == \"normal\":\n",
    "            # 예: \"1\" -> \"normal_1\"\n",
    "            return f\"normal_{name_only}\"\n",
    "        else:\n",
    "            # abnormal: 예: \"WEBSS-002 T1\"\n",
    "            # \"WEBSS-002\" 부분을 split, 그 중간 \"002\" 뽑기\n",
    "            # 실제 파일명이 어떻게 생겼는지에 따라 parsing 로직 조정\n",
    "            # 아래는 예시 (WEBSS-002를 -로 split -> [\"WEBSS\", \"002 T1\"] -> 다시 공백 split -> [\"002\", \"T1\"])\n",
    "            parts = name_only.split('-', maxsplit=1)   # [\"WEBSS\", \"002 T1\"]\n",
    "            if len(parts) == 2:\n",
    "                second_part = parts[1].strip()         # \"002 T1\"\n",
    "                pid = second_part.split()[0]          # \"002\"\n",
    "                return pid\n",
    "            else:\n",
    "                # 혹시 파일명 구조가 다른 경우 대비\n",
    "                return name_only\n",
    "\n",
    "    # 3) 각 파일마다 label(0/1), patient_id를 추출\n",
    "    filenames = []\n",
    "    labels = []\n",
    "    patient_ids = []\n",
    "\n",
    "    # 정상(0)\n",
    "    if normal_flag == True:\n",
    "        for nf in normal_files:\n",
    "            filenames.append(nf)\n",
    "            labels.append(0)\n",
    "            patient_ids.append(get_patient_id(nf, \"normal\"))\n",
    "\n",
    "    # 비정상(1)\n",
    "    for af in abnormal_files:\n",
    "        filenames.append(af)\n",
    "        labels.append(1)\n",
    "        patient_ids.append(get_patient_id(af, \"abnormal\"))\n",
    "\n",
    "    filenames = np.array(filenames)\n",
    "    labels = np.array(labels)\n",
    "    patient_ids = np.array(patient_ids)\n",
    "\n",
    "    if normal_flag == True:\n",
    "        print(f\"[process_mydata_interpatient] normal:{len(normal_files)}개, abnormal:{len(abnormal_files)}개, 총 {len(filenames)}개 파일\")\n",
    "    else: \n",
    "        print(f\"[process_mydata_interpatient] abnormal:{len(abnormal_files)}개, 총 {len(filenames)}개 파일\")\n",
    "    # 4) 고유 환자 ID 목록\n",
    "    unique_pids = np.unique(patient_ids)\n",
    "    print(f\" - 고유 환자 수: {len(unique_pids)}\")\n",
    "\n",
    "    if split == True:\n",
    "        # 5) 환자 ID 단위로 train/val/test 분할\n",
    "        #    여기서는 예시로 6:2:2\n",
    "        train_pids, test_pids = train_test_split(unique_pids, test_size=0.2, random_state=42)\n",
    "        train_pids, val_pids  = train_test_split(train_pids,  test_size=0.25, random_state=42)\n",
    "        # => train 60%, val 20%, test 20%\n",
    "        \n",
    "        train_pids = set(train_pids)\n",
    "        val_pids   = set(val_pids)\n",
    "        test_pids  = set(test_pids)\n",
    "    \n",
    "        split_list = []\n",
    "        for pid in patient_ids:\n",
    "            if pid in train_pids:\n",
    "                split_list.append(\"train\")\n",
    "            elif pid in val_pids:\n",
    "                split_list.append(\"val\")\n",
    "            else:\n",
    "                split_list.append(\"test\")\n",
    "        split_list = np.array(split_list)\n",
    "        np.save(os.path.join(feature_dir, \"split.npy\"), split_list)\n",
    "\n",
    "    # 6) 저장\n",
    "    np.save(os.path.join(feature_dir, \"sound_dir_loc.npy\"), filenames)\n",
    "    np.save(os.path.join(feature_dir, \"labels.npy\"), labels)\n",
    "    np.save(os.path.join(feature_dir, \"patient_ids.npy\"), patient_ids)\n",
    "    \n",
    "    print(\" - 저장 완료!\")"
   ]
  },
  {
   "cell_type": "code",
   "execution_count": 21,
   "id": "56a8ab61-34b1-4d6b-b831-8390a344ad34",
   "metadata": {},
   "outputs": [],
   "source": [
    "def extract_and_save_embeddings(feature_dir=\"feature/yeo_eval/\", \n",
    "                                pretrain=\"operaCT\", \n",
    "                                input_sec=8, \n",
    "                                dim=768):\n",
    "    sound_dir_loc = np.load(os.path.join(feature_dir, \"sound_dir_loc.npy\"))\n",
    "    from src.benchmark.model_util import extract_opera_feature\n",
    "\n",
    "    opera_features = extract_opera_feature(\n",
    "        sound_dir_loc, pretrain=pretrain, input_sec=input_sec, dim=dim\n",
    "    )\n",
    "    feature_name = pretrain + str(dim)\n",
    "    np.save(os.path.join(feature_dir, f\"{feature_name}_feature.npy\"), np.array(opera_features))\n",
    "    print(f\"[extract_and_save_embeddings] {feature_name}_feature.npy 저장 완료!\")\n"
   ]
  },
  {
   "cell_type": "markdown",
   "id": "de6291bf-9070-4a64-938f-5454578ff279",
   "metadata": {
    "jp-MarkdownHeadingCollapsed": true
   },
   "source": [
    "### abnormal 만 저장한 sound_dir_loc.npy, embedding"
   ]
  },
  {
   "cell_type": "code",
   "execution_count": 22,
   "id": "3c848dc9-9fc6-4378-a109-b3537e10a348",
   "metadata": {},
   "outputs": [
    {
     "name": "stdout",
     "output_type": "stream",
     "text": [
      "[process_mydata_interpatient] abnormal:39개, 총 39개 파일\n",
      " - 고유 환자 수: 6\n",
      " - 저장 완료!\n",
      "extracting feature from operaCT model with input_sec 60\n"
     ]
    },
    {
     "name": "stderr",
     "output_type": "stream",
     "text": [
      "/opt/conda/envs/audio/lib/python3.10/site-packages/torch/functional.py:512: UserWarning: torch.meshgrid: in an upcoming release, it will be required to pass the indexing argument. (Triggered internally at ../aten/src/ATen/native/TensorShape.cpp:3587.)\n",
      "  return _VF.meshgrid(tensors, **kwargs)  # type: ignore[attr-defined]\n",
      "100%|██████████████████████████████████████████████████████████████████████████████████████████████████| 39/39 [18:17<00:00, 28.14s/it]"
     ]
    },
    {
     "name": "stdout",
     "output_type": "stream",
     "text": [
      "(39, 768)\n",
      "[extract_and_save_embeddings] operaCT768_feature.npy 저장 완료!\n"
     ]
    },
    {
     "name": "stderr",
     "output_type": "stream",
     "text": [
      "\n"
     ]
    }
   ],
   "source": [
    "data_dir = \"data/Yeo/\"\n",
    "feature_dir = \"feature/yeo_eval/\"\n",
    "\n",
    "pretrain = \"operaCT\"\n",
    "dim = 768\n",
    "min_len_htsat = 60\n",
    "\n",
    "\n",
    "process_mydata_interpatient(data_dir, feature_dir)\n",
    "\n",
    "extract_and_save_embeddings(\n",
    "    feature_dir=feature_dir, \n",
    "    pretrain=\"operaCT\",   \n",
    "    input_sec=min_len_htsat, \n",
    "    dim=768\n",
    ")"
   ]
  },
  {
   "cell_type": "code",
   "execution_count": 19,
   "id": "a4ede2cc-1d9f-465f-a75d-2867b02e3568",
   "metadata": {},
   "outputs": [
    {
     "name": "stdout",
     "output_type": "stream",
     "text": [
      "총 항목 수: 39\n",
      "['data/Yeo/abnormal/WEBSS-005 TP5_60sec.wav'\n",
      " 'data/Yeo/abnormal/WEBSS-003 TP2_60sec.wav'\n",
      " 'data/Yeo/abnormal/WEBSS-006 TP11_60sec.wav'\n",
      " 'data/Yeo/abnormal/WEBSS-003 TP4_60sec.wav'\n",
      " 'data/Yeo/abnormal/WEBSS-007 TP3_60sec.wav'\n",
      " 'data/Yeo/abnormal/WEBSS-006 TP4_60sec.wav'\n",
      " 'data/Yeo/abnormal/WEBSS-007 TP2_60sec.wav'\n",
      " 'data/Yeo/abnormal/WEBSS-005 TP6_60sec.wav'\n",
      " 'data/Yeo/abnormal/WEBSS-003 TP6_60sec.wav'\n",
      " 'data/Yeo/abnormal/WEBSS-007 TP1_60sec.wav'\n",
      " 'data/Yeo/abnormal/WEBSS-002 TP2_60sec.wav'\n",
      " 'data/Yeo/abnormal/WEBSS-005 TP1_60sec.wav'\n",
      " 'data/Yeo/abnormal/WEBSS-006 TP10_60sec.wav'\n",
      " 'data/Yeo/abnormal/WEBSS-007 TP4_60sec.wav'\n",
      " 'data/Yeo/abnormal/WEBSS-003 TP1_60sec.wav'\n",
      " 'data/Yeo/abnormal/WEBSS-003 TP3_60sec.wav'\n",
      " 'data/Yeo/abnormal/WEBSS-006 TP12_60sec.wav'\n",
      " 'data/Yeo/abnormal/WEBSS-004 TP3_60sec.wav'\n",
      " 'data/Yeo/abnormal/WEBSS-006 TP6_60sec.wav'\n",
      " 'data/Yeo/abnormal/WEBSS-003 TP7_60sec.wav'\n",
      " 'data/Yeo/abnormal/WEBSS-007 TP6_60sec.wav'\n",
      " 'data/Yeo/abnormal/WEBSS-005 TP2_60sec.wav'\n",
      " 'data/Yeo/abnormal/WEBSS-006 TP8_60sec.wav'\n",
      " 'data/Yeo/abnormal/WEBSS-007 TP7_60sec.wav'\n",
      " 'data/Yeo/abnormal/WEBSS-004 TP4_60sec.wav'\n",
      " 'data/Yeo/abnormal/WEBSS-004 TP1_60sec.wav'\n",
      " 'data/Yeo/abnormal/WEBSS-006 TP3_60sec.wav'\n",
      " 'data/Yeo/abnormal/WEBSS-006 TP7_60sec.wav'\n",
      " 'data/Yeo/abnormal/WEBSS-005 TP4_60sec.wav'\n",
      " 'data/Yeo/abnormal/WEBSS-007 TP5_60sec.wav'\n",
      " 'data/Yeo/abnormal/WEBSS-006 TP9_60sec.wav'\n",
      " 'data/Yeo/abnormal/WEBSS-006 TP5_60sec.wav'\n",
      " 'data/Yeo/abnormal/WEBSS-006 TP1_60sec.wav'\n",
      " 'data/Yeo/abnormal/WEBSS-005 TP3_60sec.wav'\n",
      " 'data/Yeo/abnormal/WEBSS-002 TP4_60sec.wav'\n",
      " 'data/Yeo/abnormal/WEBSS-002 TP3_60sec.wav'\n",
      " 'data/Yeo/abnormal/WEBSS-004 TP2_60sec.wav'\n",
      " 'data/Yeo/abnormal/WEBSS-006 TP2_60sec.wav'\n",
      " 'data/Yeo/abnormal/WEBSS-004 TP5_60sec.wav']\n"
     ]
    }
   ],
   "source": [
    "\n",
    "# 파일 읽기 (문자열 배열이라 피클 허용)\n",
    "sound_paths = np.load(\"feature/yeo_eval/sound_dir_loc.npy\", allow_pickle=True)\n",
    "\n",
    "print(\"총 항목 수:\", len(sound_paths))\n",
    "print(sound_paths)\n"
   ]
  },
  {
   "cell_type": "markdown",
   "id": "e153e937-54f5-4578-8c9a-8ff9e0e75f09",
   "metadata": {
    "jp-MarkdownHeadingCollapsed": true
   },
   "source": [
    "### NORMAL 포함한 sound_dir_loc.npy, embedding"
   ]
  },
  {
   "cell_type": "code",
   "execution_count": 29,
   "id": "4a7701fd-a430-46b6-8439-b4ef57fa19dc",
   "metadata": {},
   "outputs": [
    {
     "name": "stdout",
     "output_type": "stream",
     "text": [
      "[process_mydata_interpatient] normal:19개, abnormal:39개, 총 58개 파일\n",
      " - 고유 환자 수: 25\n",
      " - 저장 완료!\n",
      "extracting feature from operaCT model with input_sec 60\n"
     ]
    },
    {
     "name": "stderr",
     "output_type": "stream",
     "text": [
      "100%|██████████████████████████████████████████████████████████████████████████████████████████████████| 58/58 [27:34<00:00, 28.53s/it]"
     ]
    },
    {
     "name": "stdout",
     "output_type": "stream",
     "text": [
      "(58, 768)\n",
      "[extract_and_save_embeddings] operaCT768_feature.npy 저장 완료!\n"
     ]
    },
    {
     "name": "stderr",
     "output_type": "stream",
     "text": [
      "\n"
     ]
    }
   ],
   "source": [
    "data_dir = \"data/Yeo/\"\n",
    "feature_dir = \"feature/yeo_eval_with_normal/\"\n",
    "\n",
    "pretrain = \"operaCT\"\n",
    "dim = 768\n",
    "min_len_htsat = 60\n",
    "\n",
    "\n",
    "process_mydata_interpatient(data_dir, feature_dir, normal_flag = True)\n",
    "\n",
    "extract_and_save_embeddings(\n",
    "    feature_dir=feature_dir, \n",
    "    pretrain=\"operaCT\",   \n",
    "    input_sec=min_len_htsat, \n",
    "    dim=768\n",
    ")"
   ]
  },
  {
   "cell_type": "code",
   "execution_count": null,
   "id": "172bcebe-6dbc-43cf-9166-803e64bf4a1c",
   "metadata": {},
   "outputs": [],
   "source": []
  },
  {
   "cell_type": "code",
   "execution_count": 28,
   "id": "39a96d9e-9aca-4d81-8d63-86455630adea",
   "metadata": {},
   "outputs": [
    {
     "name": "stdout",
     "output_type": "stream",
     "text": [
      "총 항목 수: 58\n",
      "['data/Yeo/normal/5.wav' 'data/Yeo/normal/12.wav' 'data/Yeo/normal/16.wav'\n",
      " 'data/Yeo/normal/1.wav' 'data/Yeo/normal/17.wav' 'data/Yeo/normal/13.wav'\n",
      " 'data/Yeo/normal/8.wav' 'data/Yeo/normal/4.wav' 'data/Yeo/normal/2.wav'\n",
      " 'data/Yeo/normal/7.wav' 'data/Yeo/normal/11.wav' 'data/Yeo/normal/15.wav'\n",
      " 'data/Yeo/normal/19.wav' 'data/Yeo/normal/10.wav' 'data/Yeo/normal/6.wav'\n",
      " 'data/Yeo/normal/3.wav' 'data/Yeo/normal/14.wav' 'data/Yeo/normal/18.wav'\n",
      " 'data/Yeo/normal/9.wav' 'data/Yeo/abnormal/WEBSS-005 TP5_60sec.wav'\n",
      " 'data/Yeo/abnormal/WEBSS-003 TP2_60sec.wav'\n",
      " 'data/Yeo/abnormal/WEBSS-006 TP11_60sec.wav'\n",
      " 'data/Yeo/abnormal/WEBSS-003 TP4_60sec.wav'\n",
      " 'data/Yeo/abnormal/WEBSS-007 TP3_60sec.wav'\n",
      " 'data/Yeo/abnormal/WEBSS-006 TP4_60sec.wav'\n",
      " 'data/Yeo/abnormal/WEBSS-007 TP2_60sec.wav'\n",
      " 'data/Yeo/abnormal/WEBSS-005 TP6_60sec.wav'\n",
      " 'data/Yeo/abnormal/WEBSS-003 TP6_60sec.wav'\n",
      " 'data/Yeo/abnormal/WEBSS-007 TP1_60sec.wav'\n",
      " 'data/Yeo/abnormal/WEBSS-002 TP2_60sec.wav'\n",
      " 'data/Yeo/abnormal/WEBSS-005 TP1_60sec.wav'\n",
      " 'data/Yeo/abnormal/WEBSS-006 TP10_60sec.wav'\n",
      " 'data/Yeo/abnormal/WEBSS-007 TP4_60sec.wav'\n",
      " 'data/Yeo/abnormal/WEBSS-003 TP1_60sec.wav'\n",
      " 'data/Yeo/abnormal/WEBSS-003 TP3_60sec.wav'\n",
      " 'data/Yeo/abnormal/WEBSS-006 TP12_60sec.wav'\n",
      " 'data/Yeo/abnormal/WEBSS-004 TP3_60sec.wav'\n",
      " 'data/Yeo/abnormal/WEBSS-006 TP6_60sec.wav'\n",
      " 'data/Yeo/abnormal/WEBSS-003 TP7_60sec.wav'\n",
      " 'data/Yeo/abnormal/WEBSS-007 TP6_60sec.wav'\n",
      " 'data/Yeo/abnormal/WEBSS-005 TP2_60sec.wav'\n",
      " 'data/Yeo/abnormal/WEBSS-006 TP8_60sec.wav'\n",
      " 'data/Yeo/abnormal/WEBSS-007 TP7_60sec.wav'\n",
      " 'data/Yeo/abnormal/WEBSS-004 TP4_60sec.wav'\n",
      " 'data/Yeo/abnormal/WEBSS-004 TP1_60sec.wav'\n",
      " 'data/Yeo/abnormal/WEBSS-006 TP3_60sec.wav'\n",
      " 'data/Yeo/abnormal/WEBSS-006 TP7_60sec.wav'\n",
      " 'data/Yeo/abnormal/WEBSS-005 TP4_60sec.wav'\n",
      " 'data/Yeo/abnormal/WEBSS-007 TP5_60sec.wav'\n",
      " 'data/Yeo/abnormal/WEBSS-006 TP9_60sec.wav'\n",
      " 'data/Yeo/abnormal/WEBSS-006 TP5_60sec.wav'\n",
      " 'data/Yeo/abnormal/WEBSS-006 TP1_60sec.wav'\n",
      " 'data/Yeo/abnormal/WEBSS-005 TP3_60sec.wav'\n",
      " 'data/Yeo/abnormal/WEBSS-002 TP4_60sec.wav'\n",
      " 'data/Yeo/abnormal/WEBSS-002 TP3_60sec.wav'\n",
      " 'data/Yeo/abnormal/WEBSS-004 TP2_60sec.wav'\n",
      " 'data/Yeo/abnormal/WEBSS-006 TP2_60sec.wav'\n",
      " 'data/Yeo/abnormal/WEBSS-004 TP5_60sec.wav']\n"
     ]
    }
   ],
   "source": [
    "\n",
    "# 파일 읽기 (문자열 배열이라 피클 허용)\n",
    "sound_paths = np.load(\"feature/yeo_eval_with_normal/sound_dir_loc.npy\", allow_pickle=True)\n",
    "\n",
    "print(\"총 항목 수:\", len(sound_paths))\n",
    "print(sound_paths)\n"
   ]
  },
  {
   "cell_type": "markdown",
   "id": "913ccfca-2287-4b96-9335-d9567edb3d34",
   "metadata": {
    "jp-MarkdownHeadingCollapsed": true
   },
   "source": [
    "# single-step modeling"
   ]
  },
  {
   "cell_type": "code",
   "execution_count": null,
   "id": "4eba7be1-6938-456c-ad23-543e0455b16f",
   "metadata": {},
   "outputs": [],
   "source": []
  },
  {
   "cell_type": "code",
   "execution_count": null,
   "id": "169b0567-138c-4c2b-a747-349eb0a0672f",
   "metadata": {},
   "outputs": [],
   "source": []
  },
  {
   "cell_type": "markdown",
   "id": "b28ad084-402a-4f2e-b5ae-b1bb2e498e9b",
   "metadata": {
    "jp-MarkdownHeadingCollapsed": true
   },
   "source": [
    "## Normal 포함"
   ]
  },
  {
   "cell_type": "code",
   "execution_count": null,
   "id": "13813ef5-bfdf-4cfc-8601-fa74341d3673",
   "metadata": {},
   "outputs": [],
   "source": []
  },
  {
   "cell_type": "code",
   "execution_count": 10,
   "id": "03ba75ba-716c-4387-8c22-afa3f8dfcdec",
   "metadata": {},
   "outputs": [],
   "source": [
    "\n",
    "\n",
    "# ──────────────────────────────────────────────────────────────────────────────\n",
    "# 2. CRSTimeSeriesDataset\n",
    "# ──────────────────────────────────────────────────────────────────────────────\n",
    "import os, re, numpy as np, pandas as pd, torch\n",
    "from torch.utils.data import Dataset\n",
    "\n",
    "# ───────────────────────────\n",
    "# 0. 파일명 정규화\n",
    "# ───────────────────────────\n",
    "def unify_filename(path: str) -> str:\n",
    "    name = os.path.basename(path).strip().lower()\n",
    "    base, _ = os.path.splitext(re.sub(r\"\\s{2,}\", \" \", name))\n",
    "\n",
    "    # ' tp1_60sec' → '-01'\n",
    "    base = re.sub(\n",
    "        r\"[ _]tp(\\d+)_\\d+(?:sec|ec)\",\n",
    "        lambda m: f\"-{int(m.group(1)):02d}\",\n",
    "        base, flags=re.I,\n",
    "    )\n",
    "    base = re.sub(r\"-(\\d)(?=$)\", r\"-0\\\\1\", base)  # 1자리 패딩\n",
    "    return base + \".wav\"\n",
    "\n",
    "# ───────────────────────────\n",
    "# 1. 데이터셋 클래스\n",
    "# ───────────────────────────\n",
    "class CRSTimeSeriesDataset(Dataset):\n",
    "    DRUG_COLS = [\"Albuterol\", \"Atrovent\", \"Prednisolone\", \"Bolus\"]  # 필요시 추가\n",
    "    NUMERIC   = [\"Age\", \"Height\", \"Weight\"]\n",
    "    CAT_ONEHOT = [\"Ethnicity\", \"Diagnosis\"]       # factorize 예시\n",
    "\n",
    "    def __init__(self, meta_csv, soundlist_npy, emb_npy, transform=None, pad_crs = -100.0):\n",
    "        super().__init__()\n",
    "        self.transform = transform\n",
    "        self.pad_crs = pad_crs\n",
    "\n",
    "        # 1) CSV ──────────────────────\n",
    "        df = pd.read_csv(meta_csv)\n",
    "\n",
    "        # 1-a) 결측 채우기(아래로)\n",
    "        id_cols = [\"Patient ID\", *self.NUMERIC, \"Gender\", *self.CAT_ONEHOT]\n",
    "        df[id_cols] = df[id_cols].ffill()\n",
    "\n",
    "        # 1-b) 날짜형으로 파싱\n",
    "        df[\"Date/Time\"] = pd.to_datetime(df[\"Date/Time\"], errors=\"coerce\")\n",
    "\n",
    "        # 1-c) 범주형 숫자화\n",
    "        df[\"Gender\"] = df[\"Gender\"].map({\"Male\": 1, \"Female\": 0})\n",
    "        for col in self.DRUG_COLS:\n",
    "            df[col] = df[col].map({\"o\": 1, \"x\": 0}).fillna(0).astype(int)\n",
    "        for col in self.CAT_ONEHOT:\n",
    "            df[col] = pd.factorize(df[col])[0]\n",
    "\n",
    "        # 1-d) 파일명 통일\n",
    "        df[\"uf_name\"] = df[\"Audio File\"].apply(unify_filename)\n",
    "\n",
    "        med = df[self.NUMERIC].median()\n",
    "        df[self.NUMERIC] = df[self.NUMERIC].fillna(med)\n",
    "        \n",
    "        # 2) 임베딩 인덱스 매핑 ────────\n",
    "        sound_paths = np.load(soundlist_npy, allow_pickle=True)\n",
    "        emb_mat     = np.load(emb_npy)            # (N, 768)\n",
    "\n",
    "        index_dict = {unify_filename(p): i for i, p in enumerate(sound_paths)}\n",
    "\n",
    "        # 3) 시퀀스 구성 ───────────────\n",
    "        self.data, self.pids = [], []\n",
    "        tab_cols = self.NUMERIC + [\"Gender\", *self.DRUG_COLS, *self.CAT_ONEHOT]\n",
    "\n",
    "        for pid, g in (\n",
    "            df.sort_values([\"Patient ID\", \"Date/Time\"])\n",
    "              .groupby(\"Patient ID\", sort=False)\n",
    "        ):\n",
    "            rows = []\n",
    "            for _, row in g.iterrows():\n",
    "                key = row[\"uf_name\"]\n",
    "                if key not in index_dict:\n",
    "                    continue  # 매칭 실패 → 스킵\n",
    "                idx = index_dict[key]\n",
    "                audio_feat = emb_mat[idx]\n",
    "                tab_arr    = (\n",
    "                    row[tab_cols]\n",
    "                    .apply(pd.to_numeric, errors=\"coerce\")\n",
    "                    .to_numpy(dtype=np.float32)\n",
    "                )\n",
    "                crs_raw = row[\"CRS Score\"]\n",
    "                crs_val = float(crs_raw) if pd.notna(crs_raw) else self.pad_crs\n",
    "                rows.append((audio_feat, tab_arr, crs_val))\n",
    "\n",
    "\n",
    "            if not rows:\n",
    "                continue  # 오디오 전부 실패 시 제외\n",
    "\n",
    "            audio_seq, tab_seq, crs_seq = map(\n",
    "                lambda x: np.stack(x).astype(np.float32), zip(*rows)\n",
    "            )\n",
    "\n",
    "            bad = row[tab_cols][row[tab_cols].apply(lambda v: isinstance(v, str))]\n",
    "            print(\"Strings that stayed strings:\", bad)\n",
    "\n",
    "\n",
    "            self.data.append((audio_seq, tab_seq, crs_seq, pid))\n",
    "            self.pids.append(pid)\n",
    "\n",
    "        self.tab_dim = len(tab_cols)  # 모델 설계 시 활용\n",
    "        # 4) **normal 클립 추가** ───────────────────────────────\n",
    "        normal_rows = []                      # (audio, tab, crs, pid) 쌓을 임시 리스트\n",
    "        zero_tab    = np.zeros(self.tab_dim, dtype=np.float32)  # [0,0,…]\n",
    "        \n",
    "        for p in sound_paths:\n",
    "            if \"/normal/\" not in p.lower():\n",
    "                continue                      # normal 폴더가 아닌 건 건너뜀\n",
    "            idx  = index_dict[unify_filename(p)]\n",
    "            pid  = f\"normal-{os.path.splitext(os.path.basename(p))[0]}\"\n",
    "            audio_feat = emb_mat[idx]\n",
    "            normal_rows.append((audio_feat, zero_tab, 0.0, pid))   # CRS=0\n",
    "        \n",
    "        # 환자 loop가 끝난 뒤에 self.data, self.pids 에 추가 ──────────────\n",
    "        for audio_feat, tab_arr, crs_val, pid in normal_rows:\n",
    "            self.data.append((\n",
    "                np.expand_dims(audio_feat, 0),     # (1, 768)\n",
    "                np.expand_dims(tab_arr,  0),       # (1, F)\n",
    "                np.array([crs_val], dtype=np.float32),  # (1,)\n",
    "                pid,\n",
    "            ))\n",
    "            self.pids.append(pid)\n",
    "\n",
    "        \n",
    "\n",
    "    # ───── 필수 메서드 ─────\n",
    "    def __len__(self):\n",
    "        return len(self.data)\n",
    "\n",
    "    def __getitem__(self, idx):\n",
    "        audio, tab, crs, pid = self.data[idx]\n",
    "        if self.transform:\n",
    "            audio, tab = self.transform(audio, tab)\n",
    "        return (\n",
    "            torch.tensor(audio, dtype=torch.float32),      # (T, 768)\n",
    "            torch.tensor(tab,   dtype=torch.float32),      # (T, F)\n",
    "            torch.tensor(crs,   dtype=torch.float32),      # (T,)\n",
    "            pid,\n",
    "        )"
   ]
  },
  {
   "cell_type": "code",
   "execution_count": null,
   "id": "3b3e7f6d-dc18-4e60-99c7-c4cd204edf96",
   "metadata": {},
   "outputs": [],
   "source": []
  },
  {
   "cell_type": "code",
   "execution_count": 11,
   "id": "ff3dc1e7-ed82-4719-9ef2-f3836e414f8b",
   "metadata": {},
   "outputs": [
    {
     "name": "stdout",
     "output_type": "stream",
     "text": [
      "Strings that stayed strings: Series([], Name: 19, dtype: object)\n",
      "Strings that stayed strings: Series([], Name: 24, dtype: object)\n",
      "Strings that stayed strings: Series([], Name: 30, dtype: object)\n",
      "Strings that stayed strings: Series([], Name: 42, dtype: object)\n",
      "Strings that stayed strings: Series([], Name: 51, dtype: object)\n",
      "Dataset length: 24\n",
      "PID: WEBSS-003\n",
      "audio_seq shape: torch.Size([6, 768])\n",
      "tab_seq shape: torch.Size([6, 10])\n",
      "crs_seq shape: torch.Size([6])\n"
     ]
    }
   ],
   "source": [
    "\n",
    "#if __name__ == \"__main__\":\n",
    "dataset = CRSTimeSeriesDataset(\n",
    "    meta_csv=\"data/Yeo/Sheet 1-Tabular_asthma_data.csv\",\n",
    "    soundlist_npy=\"feature/yeo_eval_with_normal/sound_dir_loc.npy\",\n",
    "    emb_npy=\"feature/yeo_eval_with_normal/operaCT768_feature.npy\"\n",
    ")\n",
    "    \n",
    "print(\"Dataset length:\", len(dataset))\n",
    "    \n",
    "        # 첫 번째 샘플 확인\n",
    "audio_seq, tab_seq, crs_seq, pid = dataset[0]\n",
    "print(f\"PID: {pid}\")\n",
    "print(\"audio_seq shape:\", audio_seq.shape)  # (seq_len, 768)\n",
    "print(\"tab_seq shape:\", tab_seq.shape)      # (seq_len, tab_dim)\n",
    "print(\"crs_seq shape:\", crs_seq.shape)      # (seq_len,)"
   ]
  },
  {
   "cell_type": "code",
   "execution_count": 12,
   "id": "59dfc7e9-d478-4f49-b127-575ff2834552",
   "metadata": {},
   "outputs": [
    {
     "name": "stdout",
     "output_type": "stream",
     "text": [
      "전체 샘플 수: 24\n",
      "normal 샘플만: 19\n"
     ]
    }
   ],
   "source": [
    "print(\"전체 샘플 수:\", len(dataset))\n",
    "print(\"normal 샘플만:\", sum(pid.startswith(\"normal\") for pid in dataset.pids))"
   ]
  },
  {
   "cell_type": "markdown",
   "id": "f0523ed8-408a-4aa8-af8d-b048085ef401",
   "metadata": {},
   "source": [
    "### Data Loader"
   ]
  },
  {
   "cell_type": "code",
   "execution_count": 13,
   "id": "89ff4d42-a739-4496-a0c6-3625b329edf2",
   "metadata": {},
   "outputs": [
    {
     "name": "stdout",
     "output_type": "stream",
     "text": [
      "PID: WEBSS-003\n",
      "tab_seq: tensor([[ 15.0000, 163.0000,  63.6000,   1.0000,   1.0000,   0.0000,   1.0000,\n",
      "           1.0000,   0.0000,   1.0000],\n",
      "        [ 15.0000, 163.0000,  63.6000,   1.0000,   1.0000,   0.0000,   1.0000,\n",
      "           1.0000,   0.0000,   1.0000],\n",
      "        [ 15.0000, 163.0000,  63.6000,   1.0000,   1.0000,   0.0000,   1.0000,\n",
      "           1.0000,   0.0000,   1.0000],\n",
      "        [ 15.0000, 163.0000,  63.6000,   1.0000,   0.0000,   0.0000,   0.0000,\n",
      "           1.0000,   0.0000,   1.0000],\n",
      "        [ 15.0000, 163.0000,  63.6000,   1.0000,   0.0000,   0.0000,   0.0000,\n",
      "           0.0000,   0.0000,   1.0000],\n",
      "        [ 15.0000, 163.0000,  63.6000,   1.0000,   0.0000,   0.0000,   0.0000,\n",
      "           0.0000,   0.0000,   1.0000]])\n",
      "crs_seq: tensor([   3., -100., -100., -100., -100., -100.])\n"
     ]
    }
   ],
   "source": [
    "audio_seq, tab_seq, crs_seq, pid = dataset[0]\n",
    "print(f\"PID: {pid}\")\n",
    "print(\"tab_seq:\", tab_seq)     # (seq_len, 2)  → [[age, gender]]\n",
    "print(\"crs_seq:\", crs_seq)     # (seq_len,)    → [crs_t0, crs_t1, ...]"
   ]
  },
  {
   "cell_type": "code",
   "execution_count": 14,
   "id": "1332dc6f-894d-4f68-ab8c-bc325dac8916",
   "metadata": {},
   "outputs": [
    {
     "name": "stdout",
     "output_type": "stream",
     "text": [
      "WEBSS-003 6\n",
      "WEBSS-004 5\n",
      "WEBSS-005 6\n",
      "WEBSS-006 11\n",
      "WEBSS-007 6\n",
      "normal-5 1\n",
      "normal-12 1\n",
      "normal-16 1\n",
      "normal-1 1\n",
      "normal-17 1\n",
      "normal-13 1\n",
      "normal-8 1\n",
      "normal-4 1\n",
      "normal-2 1\n",
      "normal-7 1\n",
      "normal-11 1\n",
      "normal-15 1\n",
      "normal-19 1\n",
      "normal-10 1\n",
      "normal-6 1\n",
      "normal-3 1\n",
      "normal-14 1\n",
      "normal-18 1\n",
      "normal-9 1\n"
     ]
    }
   ],
   "source": [
    "for i in range(len(dataset)):\n",
    "    print(dataset.pids[i], dataset[i][0].shape[0])   # seq_len"
   ]
  },
  {
   "cell_type": "code",
   "execution_count": 15,
   "id": "a3ae4899-deeb-4121-89c8-ca35662f0d1d",
   "metadata": {},
   "outputs": [],
   "source": [
    "import torch\n",
    "from torch.nn.utils.rnn import pad_sequence\n",
    "\n",
    "PAD_AUDIO = 0.0          # or np.nan if you mask later\n",
    "PAD_TAB   = 0.0\n",
    "PAD_CRS   = -100.0       # example: ignore_index for loss\n",
    "\n",
    "def collate_pad(batch):\n",
    "    \"\"\"\n",
    "    batch = list of (audio_seq, tab_seq, crs_seq, pid)\n",
    "                audio_seq : (T_i, 768)\n",
    "                tab_seq   : (T_i, F)\n",
    "                crs_seq   : (T_i,)\n",
    "    \"\"\"\n",
    "    audio, tab, crs, pids = zip(*batch)          # lists of length B\n",
    "\n",
    "    lengths = torch.tensor([x.shape[0] for x in audio])   # (B,)\n",
    "\n",
    "    audio = pad_sequence(audio, batch_first=True, padding_value=PAD_AUDIO)  # (B, Tmax, 768)\n",
    "    tab   = pad_sequence(tab,   batch_first=True, padding_value=PAD_TAB)    # (B, Tmax, F)\n",
    "    crs   = pad_sequence(crs,   batch_first=True, padding_value=PAD_CRS)    # (B, Tmax)\n",
    "\n",
    "    return audio, tab, crs, lengths, pids\n"
   ]
  },
  {
   "cell_type": "code",
   "execution_count": 16,
   "id": "6df259cb-2ab8-4e8f-a416-5bd25f03a379",
   "metadata": {},
   "outputs": [
    {
     "name": "stdout",
     "output_type": "stream",
     "text": [
      "audio: torch.Size([3, 6, 768]) tab: torch.Size([3, 6, 10]) crs: torch.Size([3, 6])\n",
      "tensor([1, 1, 6])\n"
     ]
    }
   ],
   "source": [
    "loader = DataLoader(dataset, batch_size=3, shuffle=True, collate_fn=collate_pad)\n",
    "audio_b, tab_b, crs_b, lens_b, pid_b = next(iter(loader))\n",
    "print(\"audio:\", audio_b.shape, #  (batch_size, Tmax, 768)\n",
    "      \"tab:\", tab_b.shape,  # (batch_size, Tmax, F)\n",
    "      \"crs:\", crs_b.shape) # (batch_size, Tmax)\n",
    "print(lens_b)   # original lengths → handy for pack_padded_sequence"
   ]
  },
  {
   "cell_type": "markdown",
   "id": "66ec0152-65b4-4ddc-b31b-136103ffcf56",
   "metadata": {},
   "source": [
    "### Model 구성"
   ]
  },
  {
   "cell_type": "code",
   "execution_count": 17,
   "id": "dbaa3c41-645e-4acc-a8ec-cbdda0dccd6d",
   "metadata": {},
   "outputs": [],
   "source": [
    "import torch\n",
    "import torch.nn as nn\n",
    "import pytorch_lightning as pl\n",
    "import torchmetrics\n",
    "import numpy as np\n",
    "from torchmetrics.classification import MulticlassAUROC\n",
    "\n",
    "class TabularEncoder(nn.Module):\n",
    "    def __init__(self, in_dim: int, hid: int = 64, out: int = 64):\n",
    "        super().__init__()\n",
    "        self.net = nn.Sequential(\n",
    "            nn.Linear(in_dim, hid), nn.ReLU(),\n",
    "            nn.Linear(hid, out),    nn.ReLU()\n",
    "        )\n",
    "\n",
    "    def forward(self, x):                     # x: (B, T, F)\n",
    "        B, T, F = x.shape\n",
    "        x = self.net(x.view(B * T, F))\n",
    "        return x.view(B, T, -1)               # (B, T, out)\n",
    "\n",
    "class AudioTabularRNN(pl.LightningModule):\n",
    "    def __init__(\n",
    "        self,\n",
    "        audio_dim: int = 768,\n",
    "        tab_dim: int   = 10,     # dataset.tab_dim 로 전달\n",
    "        tab_emb: int   = 64,\n",
    "        rnn_hid: int   = 128,\n",
    "        lr: float      = 1e-3,\n",
    "        pad_value: float = -100.0,   # collate_pad 의 CRS 패딩값\n",
    "        max_crs: int = 5, tol: int = 1, num_classes=7, **kw\n",
    "    ):\n",
    "        super().__init__()\n",
    "        self.save_hyperparameters()\n",
    "\n",
    "        # 1) 서브네트\n",
    "        self.tab_enc  = TabularEncoder(tab_dim, 64, tab_emb)\n",
    "        self.rnn      = nn.GRU(audio_dim + tab_emb, rnn_hid,\n",
    "                               batch_first=True)\n",
    "        self.head     = nn.Linear(rnn_hid, 1)\n",
    "\n",
    "        # 2) 손실 / 메트릭\n",
    "        self.criterion = nn.MSELoss(reduction=\"none\")\n",
    "        self.train_mae = torchmetrics.MeanAbsoluteError()\n",
    "        self.val_mae   = torchmetrics.MeanAbsoluteError()\n",
    "        self.test_mae  = torchmetrics.MeanAbsoluteError()\n",
    "        self.pad_value = pad_value\n",
    "        self.num_classes = num_classes\n",
    "\n",
    "        # ── 추가 ──\n",
    "        self.train_rmse = torchmetrics.MeanSquaredError(squared=False)\n",
    "        self.val_rmse   = torchmetrics.MeanSquaredError(squared=False)\n",
    "        self.test_rmse  = torchmetrics.MeanSquaredError(squared=False)\n",
    "\n",
    "        # Exact‑match accuracy\n",
    "        self.train_acc = torchmetrics.Accuracy(task=\"multiclass\", num_classes=max_crs+1)\n",
    "        self.val_acc   = torchmetrics.Accuracy(task=\"multiclass\", num_classes=max_crs+1)\n",
    "        self.test_acc  = torchmetrics.Accuracy(task=\"multiclass\", num_classes=max_crs+1)\n",
    "\n",
    "        # ±tol Accuracy (커스텀)\n",
    "        self.tol = tol\n",
    "        self.train_acc_tol = torchmetrics.SumMetric()\n",
    "        self.val_acc_tol   = torchmetrics.SumMetric()\n",
    "        self.test_acc_tol  = torchmetrics.SumMetric()\n",
    "        self.train_cnt     = torchmetrics.SumMetric()\n",
    "        self.val_cnt       = torchmetrics.SumMetric()\n",
    "        self.test_cnt      = torchmetrics.SumMetric()\n",
    "\n",
    "        self.train_auroc = MulticlassAUROC(num_classes=num_classes)\n",
    "        self.val_auroc   = MulticlassAUROC(num_classes=num_classes)\n",
    "        self.test_auroc  = MulticlassAUROC(num_classes=num_classes)\n",
    "\n",
    "    # ────────────────── forward (전체 시퀀스) ──────────────────\n",
    "    def forward(self, audio, tab, lengths):\n",
    "        \"\"\"\n",
    "        audio : (B, Tmax, audio_dim)\n",
    "        tab   : (B, Tmax, tab_dim)\n",
    "        lengths : (B,) 실제 시퀀스 길이\n",
    "        \"\"\"\n",
    "        tab_f   = self.tab_enc(tab)                       # (B,T,tab_emb)\n",
    "        fused   = torch.cat([audio, tab_f], dim=-1)       # (B,T,D)\n",
    "\n",
    "        packed  = nn.utils.rnn.pack_padded_sequence(\n",
    "            fused, lengths.cpu(), batch_first=True,\n",
    "            enforce_sorted=False\n",
    "        )\n",
    "        packed_out, _ = self.rnn(packed)\n",
    "        out, _ = nn.utils.rnn.pad_packed_sequence(\n",
    "            packed_out, batch_first=True\n",
    "        )                                                 # (B,Tmax,H)\n",
    "\n",
    "        pred = self.head(out).squeeze(-1)                 # (B,Tmax)\n",
    "        return pred\n",
    "\n",
    "    # ────────────────── 공용 스텝 ──────────────────\n",
    "\n",
    "    def _step(self, batch, stage):\n",
    "        audio, tab, crs, lengths, _ = batch\n",
    "        pred = self(audio, tab, lengths)\n",
    "        # mask: True 는 실제 값, False 는 패딩\n",
    "        mask = (crs != self.pad_value)          # (B,T)\n",
    "        pred_v = pred[mask]                     # 1‑D\n",
    "        targ_v = crs[mask]\n",
    "    \n",
    "        # ── 손실 ──\n",
    "        loss = self.criterion(pred_v, targ_v).mean()\n",
    "    \n",
    "        # ── 메트릭용 정수 라벨 ──\n",
    "        pred_round = torch.clamp(torch.round(pred_v), 0, 5).long()\n",
    "\n",
    "        targ_long  = targ_v.long()\n",
    "        logits = torch.nn.functional.one_hot(pred_round, num_classes=self.num_classes).float()\n",
    "        targ_oh = torch.nn.functional.one_hot(targ_long,  num_classes=self.num_classes).float()\n",
    "\n",
    "    \n",
    "        # ── 업데이트 함수 핸들 ──\n",
    "        def upd(metric, *args): getattr(self, f\"{stage}_{metric}\").update(*args)\n",
    "    \n",
    "        upd(\"mae\",  pred_v, targ_v)\n",
    "        upd(\"rmse\", pred_v, targ_v)\n",
    "        upd(\"acc\",  pred_round, targ_long)\n",
    "        upd(\"auroc\", logits, targ_long)\n",
    "    \n",
    "        within_tol = (torch.abs(pred_v - targ_v) <= self.tol).float().sum()\n",
    "        upd(\"acc_tol\", within_tol)\n",
    "        upd(\"cnt\",     torch.tensor(targ_v.numel(), device=self.device))\n",
    "    \n",
    "        self.log(f\"{stage}_loss\", loss, prog_bar=(stage!=\"test\"), batch_size=len(lengths))\n",
    "        \n",
    "        return loss\n",
    "\n",
    "\n",
    "    # ────────────────── Lightning hooks ──────────────────\n",
    "    def training_step(self, batch, batch_idx):\n",
    "        return self._step(batch, \"train\")\n",
    "\n",
    "    def validation_step(self, batch, batch_idx):\n",
    "        self._step(batch, \"val\")\n",
    "\n",
    "    def test_step(self, batch, batch_idx):\n",
    "        self._step(batch, \"test\")\n",
    "\n",
    "    # v2.x 권장 hook\n",
    "    def on_train_epoch_end(self):\n",
    "        mae = self.train_mae.compute()\n",
    "        self.log(\"train_mae\", mae, prog_bar=True)\n",
    "        self.train_mae.reset()\n",
    "    \n",
    "    def on_train_epoch_end(self):\n",
    "        mae  = self.train_mae.compute();  rmse = self.train_rmse.compute()\n",
    "        acc  = self.train_acc.compute()\n",
    "        acc1 = self.train_acc_tol.compute() / self.train_cnt.compute()\n",
    "        auroc = self.train_auroc.compute()\n",
    "        self.log_dict({\"train_mae\":mae,\"train_rmse\":rmse,\n",
    "                       \"train_acc\":acc,\"train_acc±1\":acc1, \"auroc\":auroc}, prog_bar=True)\n",
    "        for m in [\"mae\",\"rmse\",\"acc\",\"acc_tol\",\"cnt\"]:\n",
    "            getattr(self, f\"train_{m}\").reset()\n",
    "\n",
    "    def on_validation_epoch_end(self):\n",
    "        mae  = self.val_mae.compute();  rmse = self.val_rmse.compute()\n",
    "        acc  = self.val_acc.compute()\n",
    "        acc1 = self.val_acc_tol.compute() / self.val_cnt.compute()\n",
    "        auroc = self.val_auroc.compute()\n",
    "        self.log_dict({\"val_mae\":mae,\"val_rmse\":rmse,\n",
    "                       \"val_acc\":acc,\"val_acc±1\":acc1, \"auroc\":auroc}, prog_bar=True)\n",
    "        for m in [\"mae\",\"rmse\",\"acc\",\"acc_tol\",\"cnt\"]:\n",
    "            getattr(self, f\"val_{m}\").reset()\n",
    "        \n",
    "\n",
    "    def on_test_epoch_end(self):\n",
    "        mae  = self.test_mae.compute();  rmse = self.test_rmse.compute()\n",
    "        acc  = self.test_acc.compute()\n",
    "        acc1 = self.test_acc_tol.compute() / self.test_cnt.compute()\n",
    "        auroc = self.test_auroc.compute()\n",
    "        self.log_dict({\"test_mae\":mae,\"test_rmse\":rmse,\n",
    "                       \"test_acc\":acc,\"test_acc±1\":acc1, \"auroc\":auroc}, prog_bar=True)\n",
    "        for m in [\"mae\",\"rmse\",\"acc\",\"acc_tol\",\"cnt\"]:\n",
    "            getattr(self, f\"test_{m}\").reset()\n",
    "\n",
    "    # ────────────────── optim ──────────────────\n",
    "    def configure_optimizers(self):\n",
    "        return torch.optim.Adam(self.parameters(), lr=self.hparams.lr)\n"
   ]
  },
  {
   "cell_type": "code",
   "execution_count": 18,
   "id": "7ffddec1-acdc-499b-ba08-67133b52226c",
   "metadata": {
    "scrolled": true
   },
   "outputs": [
    {
     "name": "stderr",
     "output_type": "stream",
     "text": [
      "Seed set to 38\n"
     ]
    },
    {
     "name": "stdout",
     "output_type": "stream",
     "text": [
      "Strings that stayed strings: Series([], Name: 19, dtype: object)\n",
      "Strings that stayed strings: Series([], Name: 24, dtype: object)\n",
      "Strings that stayed strings: Series([], Name: 30, dtype: object)\n",
      "Strings that stayed strings: Series([], Name: 42, dtype: object)\n",
      "Strings that stayed strings: Series([], Name: 51, dtype: object)\n"
     ]
    },
    {
     "name": "stderr",
     "output_type": "stream",
     "text": [
      "GPU available: True (cuda), used: True\n",
      "TPU available: False, using: 0 TPU cores\n",
      "IPU available: False, using: 0 IPUs\n",
      "HPU available: False, using: 0 HPUs\n",
      "You are using a CUDA device ('NVIDIA RTX A6000') that has Tensor Cores. To properly utilize them, you should set `torch.set_float32_matmul_precision('medium' | 'high')` which will trade-off precision for performance. For more details, read https://pytorch.org/docs/stable/generated/torch.set_float32_matmul_precision.html#torch.set_float32_matmul_precision\n",
      "2025-07-02 22:36:01.196881: E external/local_xla/xla/stream_executor/cuda/cuda_dnn.cc:9261] Unable to register cuDNN factory: Attempting to register factory for plugin cuDNN when one has already been registered\n",
      "2025-07-02 22:36:01.196954: E external/local_xla/xla/stream_executor/cuda/cuda_fft.cc:607] Unable to register cuFFT factory: Attempting to register factory for plugin cuFFT when one has already been registered\n",
      "2025-07-02 22:36:01.198313: E external/local_xla/xla/stream_executor/cuda/cuda_blas.cc:1515] Unable to register cuBLAS factory: Attempting to register factory for plugin cuBLAS when one has already been registered\n",
      "2025-07-02 22:36:01.207996: I tensorflow/core/platform/cpu_feature_guard.cc:182] This TensorFlow binary is optimized to use available CPU instructions in performance-critical operations.\n",
      "To enable the following instructions: AVX2 FMA, in other operations, rebuild TensorFlow with the appropriate compiler flags.\n",
      "2025-07-02 22:36:02.289907: W tensorflow/compiler/tf2tensorrt/utils/py_utils.cc:38] TF-TRT Warning: Could not find TensorRT\n",
      "LOCAL_RANK: 0 - CUDA_VISIBLE_DEVICES: [0,1,2,3,4,5,6]\n",
      "\n",
      "   | Name          | Type               | Params\n",
      "------------------------------------------------------\n",
      "0  | tab_enc       | TabularEncoder     | 4.9 K \n",
      "1  | rnn           | GRU                | 369 K \n",
      "2  | head          | Linear             | 129   \n",
      "3  | criterion     | MSELoss            | 0     \n",
      "4  | train_mae     | MeanAbsoluteError  | 0     \n",
      "5  | val_mae       | MeanAbsoluteError  | 0     \n",
      "6  | test_mae      | MeanAbsoluteError  | 0     \n",
      "7  | train_rmse    | MeanSquaredError   | 0     \n",
      "8  | val_rmse      | MeanSquaredError   | 0     \n",
      "9  | test_rmse     | MeanSquaredError   | 0     \n",
      "10 | train_acc     | MulticlassAccuracy | 0     \n",
      "11 | val_acc       | MulticlassAccuracy | 0     \n",
      "12 | test_acc      | MulticlassAccuracy | 0     \n",
      "13 | train_acc_tol | SumMetric          | 0     \n",
      "14 | val_acc_tol   | SumMetric          | 0     \n",
      "15 | test_acc_tol  | SumMetric          | 0     \n",
      "16 | train_cnt     | SumMetric          | 0     \n",
      "17 | val_cnt       | SumMetric          | 0     \n",
      "18 | test_cnt      | SumMetric          | 0     \n",
      "19 | train_auroc   | MulticlassAUROC    | 0     \n",
      "20 | val_auroc     | MulticlassAUROC    | 0     \n",
      "21 | test_auroc    | MulticlassAUROC    | 0     \n",
      "------------------------------------------------------\n",
      "374 K     Trainable params\n",
      "0         Non-trainable params\n",
      "374 K     Total params\n",
      "1.498     Total estimated model params size (MB)\n"
     ]
    },
    {
     "data": {
      "application/vnd.jupyter.widget-view+json": {
       "model_id": "0551791feee74b26a1302f14430f25f3",
       "version_major": 2,
       "version_minor": 0
      },
      "text/plain": [
       "Sanity Checking: |                                                                                            …"
      ]
     },
     "metadata": {},
     "output_type": "display_data"
    },
    {
     "name": "stderr",
     "output_type": "stream",
     "text": [
      "/opt/conda/envs/audio/lib/python3.10/site-packages/pytorch_lightning/trainer/connectors/data_connector.py:441: The 'val_dataloader' does not have many workers which may be a bottleneck. Consider increasing the value of the `num_workers` argument` to `num_workers=127` in the `DataLoader` to improve performance.\n",
      "/opt/conda/envs/audio/lib/python3.10/site-packages/torchmetrics/utilities/prints.py:43: TorchMetricsUserWarning: You are trying to use a metric in deterministic mode on GPU that uses `torch.cumsum`, which is currently not supported. The tensor will be copied to the CPU memory to compute it and then copied back to GPU. Expect some slowdowns.\n",
      "  warnings.warn(*args, **kwargs)  # noqa: B028\n",
      "/opt/conda/envs/audio/lib/python3.10/site-packages/torchmetrics/utilities/prints.py:43: UserWarning: No negative samples in targets, false positive value should be meaningless. Returning zero tensor in false positive score\n",
      "  warnings.warn(*args, **kwargs)  # noqa: B028\n",
      "/opt/conda/envs/audio/lib/python3.10/site-packages/torchmetrics/utilities/prints.py:43: UserWarning: No positive samples in targets, true positive value should be meaningless. Returning zero tensor in true positive score\n",
      "  warnings.warn(*args, **kwargs)  # noqa: B028\n",
      "/opt/conda/envs/audio/lib/python3.10/site-packages/pytorch_lightning/trainer/connectors/data_connector.py:441: The 'train_dataloader' does not have many workers which may be a bottleneck. Consider increasing the value of the `num_workers` argument` to `num_workers=127` in the `DataLoader` to improve performance.\n",
      "/opt/conda/envs/audio/lib/python3.10/site-packages/pytorch_lightning/loops/fit_loop.py:298: The number of training batches (8) is smaller than the logging interval Trainer(log_every_n_steps=50). Set a lower value for log_every_n_steps if you want to see logs for the training epoch.\n"
     ]
    },
    {
     "data": {
      "application/vnd.jupyter.widget-view+json": {
       "model_id": "431b896fd1dc4531ae50bf7ffa3ffeba",
       "version_major": 2,
       "version_minor": 0
      },
      "text/plain": [
       "Training: |                                                                                                   …"
      ]
     },
     "metadata": {},
     "output_type": "display_data"
    },
    {
     "data": {
      "application/vnd.jupyter.widget-view+json": {
       "model_id": "bf654b7b516747be8b805853b98da0bc",
       "version_major": 2,
       "version_minor": 0
      },
      "text/plain": [
       "Validation: |                                                                                                 …"
      ]
     },
     "metadata": {},
     "output_type": "display_data"
    },
    {
     "data": {
      "application/vnd.jupyter.widget-view+json": {
       "model_id": "2c58be39a87e4b549a83dd33adf92821",
       "version_major": 2,
       "version_minor": 0
      },
      "text/plain": [
       "Validation: |                                                                                                 …"
      ]
     },
     "metadata": {},
     "output_type": "display_data"
    },
    {
     "data": {
      "application/vnd.jupyter.widget-view+json": {
       "model_id": "4433d0c238fa4217b361fc963d3676ee",
       "version_major": 2,
       "version_minor": 0
      },
      "text/plain": [
       "Validation: |                                                                                                 …"
      ]
     },
     "metadata": {},
     "output_type": "display_data"
    },
    {
     "data": {
      "application/vnd.jupyter.widget-view+json": {
       "model_id": "8277f572014a4b67a0dad2769ce2525f",
       "version_major": 2,
       "version_minor": 0
      },
      "text/plain": [
       "Validation: |                                                                                                 …"
      ]
     },
     "metadata": {},
     "output_type": "display_data"
    },
    {
     "data": {
      "application/vnd.jupyter.widget-view+json": {
       "model_id": "1e88cce6d5454e84999e02a08f233bdd",
       "version_major": 2,
       "version_minor": 0
      },
      "text/plain": [
       "Validation: |                                                                                                 …"
      ]
     },
     "metadata": {},
     "output_type": "display_data"
    },
    {
     "data": {
      "application/vnd.jupyter.widget-view+json": {
       "model_id": "5e95cda82ff64d018ab0777e014eb201",
       "version_major": 2,
       "version_minor": 0
      },
      "text/plain": [
       "Validation: |                                                                                                 …"
      ]
     },
     "metadata": {},
     "output_type": "display_data"
    },
    {
     "data": {
      "application/vnd.jupyter.widget-view+json": {
       "model_id": "e2f14eae0e2948e3b14cb0e312e5cd2b",
       "version_major": 2,
       "version_minor": 0
      },
      "text/plain": [
       "Validation: |                                                                                                 …"
      ]
     },
     "metadata": {},
     "output_type": "display_data"
    },
    {
     "data": {
      "application/vnd.jupyter.widget-view+json": {
       "model_id": "961faeecdf20413caadf8a4da86f8a70",
       "version_major": 2,
       "version_minor": 0
      },
      "text/plain": [
       "Validation: |                                                                                                 …"
      ]
     },
     "metadata": {},
     "output_type": "display_data"
    },
    {
     "data": {
      "application/vnd.jupyter.widget-view+json": {
       "model_id": "0f7b7e9d2d544fc1a80996d504607651",
       "version_major": 2,
       "version_minor": 0
      },
      "text/plain": [
       "Validation: |                                                                                                 …"
      ]
     },
     "metadata": {},
     "output_type": "display_data"
    },
    {
     "data": {
      "application/vnd.jupyter.widget-view+json": {
       "model_id": "c9179fc29dcf4372b5daf88ae260a79b",
       "version_major": 2,
       "version_minor": 0
      },
      "text/plain": [
       "Validation: |                                                                                                 …"
      ]
     },
     "metadata": {},
     "output_type": "display_data"
    },
    {
     "data": {
      "application/vnd.jupyter.widget-view+json": {
       "model_id": "168c2dfc11bf4cb7af81cc4f1a9d769d",
       "version_major": 2,
       "version_minor": 0
      },
      "text/plain": [
       "Validation: |                                                                                                 …"
      ]
     },
     "metadata": {},
     "output_type": "display_data"
    },
    {
     "data": {
      "application/vnd.jupyter.widget-view+json": {
       "model_id": "e325178e96fc494cae18d1161a0171ff",
       "version_major": 2,
       "version_minor": 0
      },
      "text/plain": [
       "Validation: |                                                                                                 …"
      ]
     },
     "metadata": {},
     "output_type": "display_data"
    },
    {
     "data": {
      "application/vnd.jupyter.widget-view+json": {
       "model_id": "48508cc261624aa7ab81004730438b67",
       "version_major": 2,
       "version_minor": 0
      },
      "text/plain": [
       "Validation: |                                                                                                 …"
      ]
     },
     "metadata": {},
     "output_type": "display_data"
    },
    {
     "data": {
      "application/vnd.jupyter.widget-view+json": {
       "model_id": "b41a358499bb46278b553871122a2e4e",
       "version_major": 2,
       "version_minor": 0
      },
      "text/plain": [
       "Validation: |                                                                                                 …"
      ]
     },
     "metadata": {},
     "output_type": "display_data"
    },
    {
     "data": {
      "application/vnd.jupyter.widget-view+json": {
       "model_id": "a37c6870d30e4d1b8d86654b12aa047b",
       "version_major": 2,
       "version_minor": 0
      },
      "text/plain": [
       "Validation: |                                                                                                 …"
      ]
     },
     "metadata": {},
     "output_type": "display_data"
    },
    {
     "data": {
      "application/vnd.jupyter.widget-view+json": {
       "model_id": "a7095ab712c046908c1e4b7891c91140",
       "version_major": 2,
       "version_minor": 0
      },
      "text/plain": [
       "Validation: |                                                                                                 …"
      ]
     },
     "metadata": {},
     "output_type": "display_data"
    },
    {
     "data": {
      "application/vnd.jupyter.widget-view+json": {
       "model_id": "5357a05e0c304a17bf67412d5aed84f1",
       "version_major": 2,
       "version_minor": 0
      },
      "text/plain": [
       "Validation: |                                                                                                 …"
      ]
     },
     "metadata": {},
     "output_type": "display_data"
    },
    {
     "data": {
      "application/vnd.jupyter.widget-view+json": {
       "model_id": "92b36d5958d64f98acef227782613611",
       "version_major": 2,
       "version_minor": 0
      },
      "text/plain": [
       "Validation: |                                                                                                 …"
      ]
     },
     "metadata": {},
     "output_type": "display_data"
    },
    {
     "data": {
      "application/vnd.jupyter.widget-view+json": {
       "model_id": "6beef92386c94a6b96bb4d5c9caffc2d",
       "version_major": 2,
       "version_minor": 0
      },
      "text/plain": [
       "Validation: |                                                                                                 …"
      ]
     },
     "metadata": {},
     "output_type": "display_data"
    },
    {
     "data": {
      "application/vnd.jupyter.widget-view+json": {
       "model_id": "410c25f336734d07902c551546a4b79b",
       "version_major": 2,
       "version_minor": 0
      },
      "text/plain": [
       "Validation: |                                                                                                 …"
      ]
     },
     "metadata": {},
     "output_type": "display_data"
    },
    {
     "data": {
      "application/vnd.jupyter.widget-view+json": {
       "model_id": "1e4e8d23dcb54ae9a286211fdcb45e49",
       "version_major": 2,
       "version_minor": 0
      },
      "text/plain": [
       "Validation: |                                                                                                 …"
      ]
     },
     "metadata": {},
     "output_type": "display_data"
    },
    {
     "data": {
      "application/vnd.jupyter.widget-view+json": {
       "model_id": "38fe0e06c57d41e6bc8b4d7d40f91d27",
       "version_major": 2,
       "version_minor": 0
      },
      "text/plain": [
       "Validation: |                                                                                                 …"
      ]
     },
     "metadata": {},
     "output_type": "display_data"
    },
    {
     "data": {
      "application/vnd.jupyter.widget-view+json": {
       "model_id": "6f40b85b896346c696b3cf5071be0239",
       "version_major": 2,
       "version_minor": 0
      },
      "text/plain": [
       "Validation: |                                                                                                 …"
      ]
     },
     "metadata": {},
     "output_type": "display_data"
    },
    {
     "data": {
      "application/vnd.jupyter.widget-view+json": {
       "model_id": "401b73d5bea94c02a55a9a4c8a4285ec",
       "version_major": 2,
       "version_minor": 0
      },
      "text/plain": [
       "Validation: |                                                                                                 …"
      ]
     },
     "metadata": {},
     "output_type": "display_data"
    },
    {
     "data": {
      "application/vnd.jupyter.widget-view+json": {
       "model_id": "3baf0e823b3d462fbe2e1edc594592fd",
       "version_major": 2,
       "version_minor": 0
      },
      "text/plain": [
       "Validation: |                                                                                                 …"
      ]
     },
     "metadata": {},
     "output_type": "display_data"
    },
    {
     "data": {
      "application/vnd.jupyter.widget-view+json": {
       "model_id": "33c0ad46035047d08a31bebe39e4ffcf",
       "version_major": 2,
       "version_minor": 0
      },
      "text/plain": [
       "Validation: |                                                                                                 …"
      ]
     },
     "metadata": {},
     "output_type": "display_data"
    },
    {
     "data": {
      "application/vnd.jupyter.widget-view+json": {
       "model_id": "1d4cee198c374bf7878fc45fc586700e",
       "version_major": 2,
       "version_minor": 0
      },
      "text/plain": [
       "Validation: |                                                                                                 …"
      ]
     },
     "metadata": {},
     "output_type": "display_data"
    },
    {
     "data": {
      "application/vnd.jupyter.widget-view+json": {
       "model_id": "96cac308366b4e489165559e97e99998",
       "version_major": 2,
       "version_minor": 0
      },
      "text/plain": [
       "Validation: |                                                                                                 …"
      ]
     },
     "metadata": {},
     "output_type": "display_data"
    },
    {
     "data": {
      "application/vnd.jupyter.widget-view+json": {
       "model_id": "b7c78395e647412a845e4b8cb2521109",
       "version_major": 2,
       "version_minor": 0
      },
      "text/plain": [
       "Validation: |                                                                                                 …"
      ]
     },
     "metadata": {},
     "output_type": "display_data"
    },
    {
     "data": {
      "application/vnd.jupyter.widget-view+json": {
       "model_id": "d4908506435d4c6cb59117e4fdcdfa36",
       "version_major": 2,
       "version_minor": 0
      },
      "text/plain": [
       "Validation: |                                                                                                 …"
      ]
     },
     "metadata": {},
     "output_type": "display_data"
    },
    {
     "name": "stderr",
     "output_type": "stream",
     "text": [
      "`Trainer.fit` stopped: `max_epochs=30` reached.\n",
      "LOCAL_RANK: 0 - CUDA_VISIBLE_DEVICES: [0,1,2,3,4,5,6]\n",
      "/opt/conda/envs/audio/lib/python3.10/site-packages/pytorch_lightning/trainer/connectors/data_connector.py:441: The 'test_dataloader' does not have many workers which may be a bottleneck. Consider increasing the value of the `num_workers` argument` to `num_workers=127` in the `DataLoader` to improve performance.\n"
     ]
    },
    {
     "data": {
      "application/vnd.jupyter.widget-view+json": {
       "model_id": "fcfc9a0c08cd48ce8f7e6dbaabd30ce4",
       "version_major": 2,
       "version_minor": 0
      },
      "text/plain": [
       "Testing: |                                                                                                    …"
      ]
     },
     "metadata": {},
     "output_type": "display_data"
    },
    {
     "name": "stdout",
     "output_type": "stream",
     "text": [
      "────────────────────────────────────────────────────────────────────────────────────────────────────────────────────────\n",
      "       Test metric             DataLoader 0\n",
      "────────────────────────────────────────────────────────────────────────────────────────────────────────────────────────\n",
      "          auroc                     0.0\n",
      "        test_acc                    1.0\n",
      "       test_acc±1                   1.0\n",
      "        test_loss          0.0010888748802244663\n",
      "        test_mae            0.03299810364842415\n",
      "        test_rmse           0.03299810364842415\n",
      "────────────────────────────────────────────────────────────────────────────────────────────────────────────────────────\n"
     ]
    },
    {
     "data": {
      "text/plain": [
       "[{'test_loss': 0.0010888748802244663,\n",
       "  'test_mae': 0.03299810364842415,\n",
       "  'test_rmse': 0.03299810364842415,\n",
       "  'test_acc': 1.0,\n",
       "  'test_acc±1': 1.0,\n",
       "  'auroc': 0.0}]"
      ]
     },
     "execution_count": 18,
     "metadata": {},
     "output_type": "execute_result"
    }
   ],
   "source": [
    "from torch.utils.data import DataLoader, random_split\n",
    "import pytorch_lightning as pl\n",
    "\n",
    "import random\n",
    "import numpy as np\n",
    "import torch\n",
    "\n",
    "def seed_everything(seed=30):\n",
    "    random.seed(seed)\n",
    "    np.random.seed(seed)\n",
    "    torch.manual_seed(seed)\n",
    "    torch.cuda.manual_seed_all(seed)\n",
    "    torch.use_deterministic_algorithms(True, warn_only=True)  # 또는 False (안정성 vs 성능 trade-off)\n",
    "    pl.seed_everything(seed, workers=True)\n",
    "\n",
    "seed_everything(38)\n",
    "#56\n",
    "#158\n",
    "#78\n",
    "#38\n",
    "\n",
    "# 1) Dataset\n",
    "dataset = CRSTimeSeriesDataset(\n",
    "    meta_csv      = \"data/Yeo/Sheet 1-Tabular_asthma_data.csv\",\n",
    "    soundlist_npy = \"feature/yeo_eval_with_normal/sound_dir_loc.npy\",\n",
    "    emb_npy       = \"feature/yeo_eval_with_normal/operaCT768_feature.npy\",\n",
    ")\n",
    "\n",
    "# 2) Split\n",
    "n = len(dataset)\n",
    "generator = torch.Generator().manual_seed(38)\n",
    "\n",
    "val_len  = 1#int(n * 0.15)\n",
    "test_len = 1#int(n * 0.15)\n",
    "train_len = n - val_len - test_len\n",
    "\n",
    "train, val, test = random_split(dataset, [train_len, val_len, test_len], generator=generator)\n",
    "\n",
    "# 3) DataLoader\n",
    "batch_size = 3\n",
    "train_loader = DataLoader(train, batch_size=batch_size, shuffle=True,  collate_fn=collate_pad)\n",
    "val_loader   = DataLoader(val,   batch_size=batch_size, shuffle=False, collate_fn=collate_pad)\n",
    "test_loader  = DataLoader(test,  batch_size=batch_size, shuffle=False, collate_fn=collate_pad)\n",
    "\n",
    "# 4) Model\n",
    "model = AudioTabularRNN(\n",
    "    audio_dim = 768,\n",
    "    tab_dim   = dataset.tab_dim,   # ← 데이터셋에서 자동 획득\n",
    "    tab_emb   = 64,\n",
    "    rnn_hid   = 128,\n",
    "    lr        = 1e-3,\n",
    "    pad_value = -100.0,            # collate_pad 와 동일\n",
    ")\n",
    "\n",
    "# 5) Trainer\n",
    "trainer = pl.Trainer(\n",
    "    max_epochs = 30,\n",
    "    accelerator = \"gpu\" if torch.cuda.is_available() else \"cpu\",\n",
    "    devices     = 1,\n",
    ")\n",
    "\n",
    "# 6) 학습 / 평가\n",
    "trainer.fit(model, train_loader, val_loader)\n",
    "trainer.test(model, test_loader)\n"
   ]
  },
  {
   "cell_type": "code",
   "execution_count": null,
   "id": "b978ebac-c48c-4fc7-a94b-22ca54aafa18",
   "metadata": {},
   "outputs": [],
   "source": []
  },
  {
   "cell_type": "markdown",
   "id": "4b02f0ca-178f-4a38-a0e8-5814f76fc64b",
   "metadata": {
    "jp-MarkdownHeadingCollapsed": true
   },
   "source": [
    "### k-fold, loocv"
   ]
  },
  {
   "cell_type": "code",
   "execution_count": 13,
   "id": "2f2675e0-e06f-4b02-902e-218c9be525ae",
   "metadata": {
    "scrolled": true
   },
   "outputs": [],
   "source": [
    "from sklearn.model_selection import StratifiedKFold\n",
    "from torch.utils.data import Subset\n",
    "\n",
    "# 1) 환자별 label 산출\n",
    "pid2label = {}\n",
    "for idx, pid in enumerate(dataset.pids):          # dataset 은 이미 완성된 CRSTimeSeriesDataset\n",
    "    _, _, crs_seq, _ = dataset[idx]\n",
    "    pid2label[pid] = int(torch.max(crs_seq).item())   # 0–5\n",
    "\n",
    "pid_list   = list(pid2label.keys())\n",
    "labels     = [pid2label[p] for p in pid_list]\n",
    "pid_index  = {p: i for i, p in enumerate(pid_list)}\n",
    "\n",
    "# # 2) K‑fold\n",
    "# kfold = StratifiedKFold()#n_splits=2, shuffle=True, random_state=42)\n",
    "\n",
    "# for fold, (train_pidx, test_pidx) in enumerate(kfold.split(pid_list, labels), 1):\n",
    "   \n",
    "#     train_pids = [pid_list[i] for i in train_pidx]\n",
    "#     test_pids  = [pid_list[i] for i in test_pidx]\n",
    "\n",
    "#     # train → 다시 10 % validation split (여기도 stratify)\n",
    "#     val_kfold = StratifiedKFold(n_splits=10, shuffle=True, random_state=fold)\n",
    "#     train_pidx2, val_pidx2 = next(val_kfold.split(train_pids, [pid2label[p] for p in train_pids]))\n",
    "#     val_pids  = [train_pids[i] for i in val_pidx2]\n",
    "#     train_pids = [train_pids[i] for i in train_pidx2]\n",
    "\n",
    "#     # 3) 인덱스 추출\n",
    "#     train_idx = [i for i, (_, _, _, pid) in enumerate(dataset.data) if pid in train_pids]\n",
    "#     val_idx   = [i for i, (_, _, _, pid) in enumerate(dataset.data) if pid in val_pids]\n",
    "#     test_idx  = [i for i, (_, _, _, pid) in enumerate(dataset.data) if pid in test_pids]\n",
    "\n",
    "#     train_ds = Subset(dataset, train_idx)\n",
    "#     val_ds   = Subset(dataset, val_idx)\n",
    "#     test_ds  = Subset(dataset, test_idx)\n",
    "\n",
    "#     # 이후 DataLoader → Trainer.fit / .test"
   ]
  },
  {
   "cell_type": "code",
   "execution_count": 14,
   "id": "9e201fbd-af15-48c8-9c61-c24da264be4b",
   "metadata": {
    "scrolled": true
   },
   "outputs": [
    {
     "name": "stderr",
     "output_type": "stream",
     "text": [
      "/opt/conda/envs/audio/lib/python3.10/site-packages/sklearn/model_selection/_split.py:737: UserWarning: The least populated class in y has only 1 members, which is less than n_splits=2.\n",
      "  warnings.warn(\n",
      "GPU available: True (cuda), used: True\n",
      "TPU available: False, using: 0 TPU cores\n",
      "IPU available: False, using: 0 IPUs\n",
      "HPU available: False, using: 0 HPUs\n",
      "LOCAL_RANK: 0 - CUDA_VISIBLE_DEVICES: [0,1,2,3,4,5,6]\n",
      "\n",
      "   | Name          | Type               | Params\n",
      "------------------------------------------------------\n",
      "0  | tab_enc       | TabularEncoder     | 4.9 K \n",
      "1  | rnn           | GRU                | 369 K \n",
      "2  | head          | Linear             | 129   \n",
      "3  | criterion     | MSELoss            | 0     \n",
      "4  | train_mae     | MeanAbsoluteError  | 0     \n",
      "5  | val_mae       | MeanAbsoluteError  | 0     \n",
      "6  | test_mae      | MeanAbsoluteError  | 0     \n",
      "7  | train_rmse    | MeanSquaredError   | 0     \n",
      "8  | val_rmse      | MeanSquaredError   | 0     \n",
      "9  | test_rmse     | MeanSquaredError   | 0     \n",
      "10 | train_acc     | MulticlassAccuracy | 0     \n",
      "11 | val_acc       | MulticlassAccuracy | 0     \n",
      "12 | test_acc      | MulticlassAccuracy | 0     \n",
      "13 | train_acc_tol | SumMetric          | 0     \n",
      "14 | val_acc_tol   | SumMetric          | 0     \n",
      "15 | test_acc_tol  | SumMetric          | 0     \n",
      "16 | train_cnt     | SumMetric          | 0     \n",
      "17 | val_cnt       | SumMetric          | 0     \n",
      "18 | test_cnt      | SumMetric          | 0     \n",
      "19 | train_auroc   | MulticlassAUROC    | 0     \n",
      "20 | val_auroc     | MulticlassAUROC    | 0     \n",
      "21 | test_auroc    | MulticlassAUROC    | 0     \n",
      "------------------------------------------------------\n",
      "374 K     Trainable params\n",
      "0         Non-trainable params\n",
      "374 K     Total params\n",
      "1.498     Total estimated model params size (MB)\n"
     ]
    },
    {
     "data": {
      "application/vnd.jupyter.widget-view+json": {
       "model_id": "c64b704c145d4cd986a9ce0100ccc23f",
       "version_major": 2,
       "version_minor": 0
      },
      "text/plain": [
       "Sanity Checking: |                                                                                            …"
      ]
     },
     "metadata": {},
     "output_type": "display_data"
    },
    {
     "name": "stderr",
     "output_type": "stream",
     "text": [
      "/opt/conda/envs/audio/lib/python3.10/site-packages/pytorch_lightning/trainer/connectors/data_connector.py:441: The 'val_dataloader' does not have many workers which may be a bottleneck. Consider increasing the value of the `num_workers` argument` to `num_workers=127` in the `DataLoader` to improve performance.\n",
      "/opt/conda/envs/audio/lib/python3.10/site-packages/torch/nn/modules/linear.py:116: UserWarning: Deterministic behavior was enabled with either `torch.use_deterministic_algorithms(True)` or `at::Context::setDeterministicAlgorithms(true)`, but this operation is not deterministic because it uses CuBLAS and you have CUDA >= 10.2. To enable deterministic behavior in this case, you must set an environment variable before running your PyTorch application: CUBLAS_WORKSPACE_CONFIG=:4096:8 or CUBLAS_WORKSPACE_CONFIG=:16:8. For more information, go to https://docs.nvidia.com/cuda/cublas/index.html#results-reproducibility (Triggered internally at ../aten/src/ATen/Context.cpp:185.)\n",
      "  return F.linear(input, self.weight, self.bias)\n",
      "/opt/conda/envs/audio/lib/python3.10/site-packages/torchmetrics/utilities/prints.py:43: TorchMetricsUserWarning: You are trying to use a metric in deterministic mode on GPU that uses `torch.cumsum`, which is currently not supported. The tensor will be copied to the CPU memory to compute it and then copied back to GPU. Expect some slowdowns.\n",
      "  warnings.warn(*args, **kwargs)  # noqa: B028\n",
      "/opt/conda/envs/audio/lib/python3.10/site-packages/torchmetrics/utilities/prints.py:43: UserWarning: No positive samples in targets, true positive value should be meaningless. Returning zero tensor in true positive score\n",
      "  warnings.warn(*args, **kwargs)  # noqa: B028\n",
      "/opt/conda/envs/audio/lib/python3.10/site-packages/pytorch_lightning/trainer/connectors/data_connector.py:441: The 'train_dataloader' does not have many workers which may be a bottleneck. Consider increasing the value of the `num_workers` argument` to `num_workers=127` in the `DataLoader` to improve performance.\n",
      "/opt/conda/envs/audio/lib/python3.10/site-packages/pytorch_lightning/loops/fit_loop.py:298: The number of training batches (4) is smaller than the logging interval Trainer(log_every_n_steps=50). Set a lower value for log_every_n_steps if you want to see logs for the training epoch.\n"
     ]
    },
    {
     "data": {
      "application/vnd.jupyter.widget-view+json": {
       "model_id": "ac73aeebd754461bbc622051d6da6a50",
       "version_major": 2,
       "version_minor": 0
      },
      "text/plain": [
       "Training: |                                                                                                   …"
      ]
     },
     "metadata": {},
     "output_type": "display_data"
    },
    {
     "name": "stderr",
     "output_type": "stream",
     "text": [
      "/opt/conda/envs/audio/lib/python3.10/site-packages/torch/autograd/graph.py:744: UserWarning: Deterministic behavior was enabled with either `torch.use_deterministic_algorithms(True)` or `at::Context::setDeterministicAlgorithms(true)`, but this operation is not deterministic because it uses CuBLAS and you have CUDA >= 10.2. To enable deterministic behavior in this case, you must set an environment variable before running your PyTorch application: CUBLAS_WORKSPACE_CONFIG=:4096:8 or CUBLAS_WORKSPACE_CONFIG=:16:8. For more information, go to https://docs.nvidia.com/cuda/cublas/index.html#results-reproducibility (Triggered internally at ../aten/src/ATen/Context.cpp:185.)\n",
      "  return Variable._execution_engine.run_backward(  # Calls into the C++ engine to run the backward pass\n"
     ]
    },
    {
     "data": {
      "application/vnd.jupyter.widget-view+json": {
       "model_id": "87e55a53cc684cd9b202268e2406c664",
       "version_major": 2,
       "version_minor": 0
      },
      "text/plain": [
       "Validation: |                                                                                                 …"
      ]
     },
     "metadata": {},
     "output_type": "display_data"
    },
    {
     "data": {
      "application/vnd.jupyter.widget-view+json": {
       "model_id": "994ca8365ad441279559dfd5f91c3ffa",
       "version_major": 2,
       "version_minor": 0
      },
      "text/plain": [
       "Validation: |                                                                                                 …"
      ]
     },
     "metadata": {},
     "output_type": "display_data"
    },
    {
     "data": {
      "application/vnd.jupyter.widget-view+json": {
       "model_id": "466c835bff5945dd8942ad169c1e9bf6",
       "version_major": 2,
       "version_minor": 0
      },
      "text/plain": [
       "Validation: |                                                                                                 …"
      ]
     },
     "metadata": {},
     "output_type": "display_data"
    },
    {
     "data": {
      "application/vnd.jupyter.widget-view+json": {
       "model_id": "246567f902a64d3e89d09ef1a9cb2f97",
       "version_major": 2,
       "version_minor": 0
      },
      "text/plain": [
       "Validation: |                                                                                                 …"
      ]
     },
     "metadata": {},
     "output_type": "display_data"
    },
    {
     "data": {
      "application/vnd.jupyter.widget-view+json": {
       "model_id": "8beec75dc0e442bf9ab72cdf4a74ce5b",
       "version_major": 2,
       "version_minor": 0
      },
      "text/plain": [
       "Validation: |                                                                                                 …"
      ]
     },
     "metadata": {},
     "output_type": "display_data"
    },
    {
     "data": {
      "application/vnd.jupyter.widget-view+json": {
       "model_id": "47c5b19f211848d982aa984a500eff83",
       "version_major": 2,
       "version_minor": 0
      },
      "text/plain": [
       "Validation: |                                                                                                 …"
      ]
     },
     "metadata": {},
     "output_type": "display_data"
    },
    {
     "data": {
      "application/vnd.jupyter.widget-view+json": {
       "model_id": "7db2681b85ed4a448a015f1c9f41bf08",
       "version_major": 2,
       "version_minor": 0
      },
      "text/plain": [
       "Validation: |                                                                                                 …"
      ]
     },
     "metadata": {},
     "output_type": "display_data"
    },
    {
     "data": {
      "application/vnd.jupyter.widget-view+json": {
       "model_id": "c55ea32c54f84ebdb77f074e22d6e41a",
       "version_major": 2,
       "version_minor": 0
      },
      "text/plain": [
       "Validation: |                                                                                                 …"
      ]
     },
     "metadata": {},
     "output_type": "display_data"
    },
    {
     "data": {
      "application/vnd.jupyter.widget-view+json": {
       "model_id": "71c5eaae7af747b48c2d564d5bf20bd0",
       "version_major": 2,
       "version_minor": 0
      },
      "text/plain": [
       "Validation: |                                                                                                 …"
      ]
     },
     "metadata": {},
     "output_type": "display_data"
    },
    {
     "data": {
      "application/vnd.jupyter.widget-view+json": {
       "model_id": "c6ef514351504b6699d9fde2fd5e9c7a",
       "version_major": 2,
       "version_minor": 0
      },
      "text/plain": [
       "Validation: |                                                                                                 …"
      ]
     },
     "metadata": {},
     "output_type": "display_data"
    },
    {
     "data": {
      "application/vnd.jupyter.widget-view+json": {
       "model_id": "acee508b9a1c4e989c4274a30b42536b",
       "version_major": 2,
       "version_minor": 0
      },
      "text/plain": [
       "Validation: |                                                                                                 …"
      ]
     },
     "metadata": {},
     "output_type": "display_data"
    },
    {
     "data": {
      "application/vnd.jupyter.widget-view+json": {
       "model_id": "f0e620b2e81c4e17b3dd404b533bbcaa",
       "version_major": 2,
       "version_minor": 0
      },
      "text/plain": [
       "Validation: |                                                                                                 …"
      ]
     },
     "metadata": {},
     "output_type": "display_data"
    },
    {
     "data": {
      "application/vnd.jupyter.widget-view+json": {
       "model_id": "38cd77f9ccd5457b92aedfc87aa07d87",
       "version_major": 2,
       "version_minor": 0
      },
      "text/plain": [
       "Validation: |                                                                                                 …"
      ]
     },
     "metadata": {},
     "output_type": "display_data"
    },
    {
     "data": {
      "application/vnd.jupyter.widget-view+json": {
       "model_id": "bdb786cec2a2406ba36fddb15781809f",
       "version_major": 2,
       "version_minor": 0
      },
      "text/plain": [
       "Validation: |                                                                                                 …"
      ]
     },
     "metadata": {},
     "output_type": "display_data"
    },
    {
     "data": {
      "application/vnd.jupyter.widget-view+json": {
       "model_id": "5550600d4a6a4b1b8a8f7e197fa6545c",
       "version_major": 2,
       "version_minor": 0
      },
      "text/plain": [
       "Validation: |                                                                                                 …"
      ]
     },
     "metadata": {},
     "output_type": "display_data"
    },
    {
     "data": {
      "application/vnd.jupyter.widget-view+json": {
       "model_id": "8782060c8bec402da88a3734f980d9c8",
       "version_major": 2,
       "version_minor": 0
      },
      "text/plain": [
       "Validation: |                                                                                                 …"
      ]
     },
     "metadata": {},
     "output_type": "display_data"
    },
    {
     "data": {
      "application/vnd.jupyter.widget-view+json": {
       "model_id": "d2f13f6b25af4b0e89678c3e6065a214",
       "version_major": 2,
       "version_minor": 0
      },
      "text/plain": [
       "Validation: |                                                                                                 …"
      ]
     },
     "metadata": {},
     "output_type": "display_data"
    },
    {
     "data": {
      "application/vnd.jupyter.widget-view+json": {
       "model_id": "9b9100cb3c20495caf6281ce48e68207",
       "version_major": 2,
       "version_minor": 0
      },
      "text/plain": [
       "Validation: |                                                                                                 …"
      ]
     },
     "metadata": {},
     "output_type": "display_data"
    },
    {
     "data": {
      "application/vnd.jupyter.widget-view+json": {
       "model_id": "d406c3ccdeb5449e8ba0acaefebfbec6",
       "version_major": 2,
       "version_minor": 0
      },
      "text/plain": [
       "Validation: |                                                                                                 …"
      ]
     },
     "metadata": {},
     "output_type": "display_data"
    },
    {
     "data": {
      "application/vnd.jupyter.widget-view+json": {
       "model_id": "ecb57f17ee7341718d34fdc9ef3f94dc",
       "version_major": 2,
       "version_minor": 0
      },
      "text/plain": [
       "Validation: |                                                                                                 …"
      ]
     },
     "metadata": {},
     "output_type": "display_data"
    },
    {
     "data": {
      "application/vnd.jupyter.widget-view+json": {
       "model_id": "4d9c23cf044943438c1ac46db00bef8e",
       "version_major": 2,
       "version_minor": 0
      },
      "text/plain": [
       "Validation: |                                                                                                 …"
      ]
     },
     "metadata": {},
     "output_type": "display_data"
    },
    {
     "data": {
      "application/vnd.jupyter.widget-view+json": {
       "model_id": "ca261a6d13e9478380da5bdde84ca86b",
       "version_major": 2,
       "version_minor": 0
      },
      "text/plain": [
       "Validation: |                                                                                                 …"
      ]
     },
     "metadata": {},
     "output_type": "display_data"
    },
    {
     "data": {
      "application/vnd.jupyter.widget-view+json": {
       "model_id": "30faab43355449dd992b199338ad6fb5",
       "version_major": 2,
       "version_minor": 0
      },
      "text/plain": [
       "Validation: |                                                                                                 …"
      ]
     },
     "metadata": {},
     "output_type": "display_data"
    },
    {
     "data": {
      "application/vnd.jupyter.widget-view+json": {
       "model_id": "c76aaa24043a471d9507d763e278304e",
       "version_major": 2,
       "version_minor": 0
      },
      "text/plain": [
       "Validation: |                                                                                                 …"
      ]
     },
     "metadata": {},
     "output_type": "display_data"
    },
    {
     "data": {
      "application/vnd.jupyter.widget-view+json": {
       "model_id": "437d83ea473f40ba8ec79d527a03affe",
       "version_major": 2,
       "version_minor": 0
      },
      "text/plain": [
       "Validation: |                                                                                                 …"
      ]
     },
     "metadata": {},
     "output_type": "display_data"
    },
    {
     "data": {
      "application/vnd.jupyter.widget-view+json": {
       "model_id": "840092a9a3d847a48e98a17775de11a9",
       "version_major": 2,
       "version_minor": 0
      },
      "text/plain": [
       "Validation: |                                                                                                 …"
      ]
     },
     "metadata": {},
     "output_type": "display_data"
    },
    {
     "data": {
      "application/vnd.jupyter.widget-view+json": {
       "model_id": "933ee461380b4a129761e8530d6533f8",
       "version_major": 2,
       "version_minor": 0
      },
      "text/plain": [
       "Validation: |                                                                                                 …"
      ]
     },
     "metadata": {},
     "output_type": "display_data"
    },
    {
     "data": {
      "application/vnd.jupyter.widget-view+json": {
       "model_id": "c9a633da410444a2a40d0faf8bdeefb7",
       "version_major": 2,
       "version_minor": 0
      },
      "text/plain": [
       "Validation: |                                                                                                 …"
      ]
     },
     "metadata": {},
     "output_type": "display_data"
    },
    {
     "data": {
      "application/vnd.jupyter.widget-view+json": {
       "model_id": "4c0ffd9fe04847008ed6ba63512831b6",
       "version_major": 2,
       "version_minor": 0
      },
      "text/plain": [
       "Validation: |                                                                                                 …"
      ]
     },
     "metadata": {},
     "output_type": "display_data"
    },
    {
     "data": {
      "application/vnd.jupyter.widget-view+json": {
       "model_id": "63525d1780bb45399faf7f1b8aeaa091",
       "version_major": 2,
       "version_minor": 0
      },
      "text/plain": [
       "Validation: |                                                                                                 …"
      ]
     },
     "metadata": {},
     "output_type": "display_data"
    },
    {
     "name": "stderr",
     "output_type": "stream",
     "text": [
      "`Trainer.fit` stopped: `max_epochs=30` reached.\n",
      "LOCAL_RANK: 0 - CUDA_VISIBLE_DEVICES: [0,1,2,3,4,5,6]\n",
      "/opt/conda/envs/audio/lib/python3.10/site-packages/pytorch_lightning/trainer/connectors/data_connector.py:441: The 'test_dataloader' does not have many workers which may be a bottleneck. Consider increasing the value of the `num_workers` argument` to `num_workers=127` in the `DataLoader` to improve performance.\n"
     ]
    },
    {
     "data": {
      "application/vnd.jupyter.widget-view+json": {
       "model_id": "10b5e7b789fc4e0488a46610a380ef27",
       "version_major": 2,
       "version_minor": 0
      },
      "text/plain": [
       "Testing: |                                                                                                    …"
      ]
     },
     "metadata": {},
     "output_type": "display_data"
    },
    {
     "name": "stderr",
     "output_type": "stream",
     "text": [
      "/opt/conda/envs/audio/lib/python3.10/site-packages/torchmetrics/utilities/prints.py:43: UserWarning: No negative samples in targets, false positive value should be meaningless. Returning zero tensor in false positive score\n",
      "  warnings.warn(*args, **kwargs)  # noqa: B028\n",
      "/opt/conda/envs/audio/lib/python3.10/site-packages/sklearn/model_selection/_split.py:737: UserWarning: The least populated class in y has only 1 members, which is less than n_splits=2.\n",
      "  warnings.warn(\n",
      "GPU available: True (cuda), used: True\n",
      "TPU available: False, using: 0 TPU cores\n",
      "IPU available: False, using: 0 IPUs\n",
      "HPU available: False, using: 0 HPUs\n",
      "LOCAL_RANK: 0 - CUDA_VISIBLE_DEVICES: [0,1,2,3,4,5,6]\n",
      "\n",
      "   | Name          | Type               | Params\n",
      "------------------------------------------------------\n",
      "0  | tab_enc       | TabularEncoder     | 4.9 K \n",
      "1  | rnn           | GRU                | 369 K \n",
      "2  | head          | Linear             | 129   \n",
      "3  | criterion     | MSELoss            | 0     \n",
      "4  | train_mae     | MeanAbsoluteError  | 0     \n",
      "5  | val_mae       | MeanAbsoluteError  | 0     \n",
      "6  | test_mae      | MeanAbsoluteError  | 0     \n",
      "7  | train_rmse    | MeanSquaredError   | 0     \n",
      "8  | val_rmse      | MeanSquaredError   | 0     \n",
      "9  | test_rmse     | MeanSquaredError   | 0     \n",
      "10 | train_acc     | MulticlassAccuracy | 0     \n",
      "11 | val_acc       | MulticlassAccuracy | 0     \n",
      "12 | test_acc      | MulticlassAccuracy | 0     \n",
      "13 | train_acc_tol | SumMetric          | 0     \n",
      "14 | val_acc_tol   | SumMetric          | 0     \n",
      "15 | test_acc_tol  | SumMetric          | 0     \n",
      "16 | train_cnt     | SumMetric          | 0     \n",
      "17 | val_cnt       | SumMetric          | 0     \n",
      "18 | test_cnt      | SumMetric          | 0     \n",
      "19 | train_auroc   | MulticlassAUROC    | 0     \n",
      "20 | val_auroc     | MulticlassAUROC    | 0     \n",
      "21 | test_auroc    | MulticlassAUROC    | 0     \n",
      "------------------------------------------------------\n",
      "374 K     Trainable params\n",
      "0         Non-trainable params\n",
      "374 K     Total params\n",
      "1.498     Total estimated model params size (MB)\n"
     ]
    },
    {
     "name": "stdout",
     "output_type": "stream",
     "text": [
      "Fold 1 (Test PID: WEBSS-003): {'test_loss': 2.6313626766204834, 'test_mae': 1.622147560119629, 'test_rmse': 1.622147560119629, 'test_acc': 0.0, 'test_acc±1': 0.0, 'auroc': 0.0, 'fold': 1, 'test_pid': 'WEBSS-003'}\n"
     ]
    },
    {
     "data": {
      "application/vnd.jupyter.widget-view+json": {
       "model_id": "7f7eb5b261f7427fbaeb5ededec3c0fd",
       "version_major": 2,
       "version_minor": 0
      },
      "text/plain": [
       "Sanity Checking: |                                                                                            …"
      ]
     },
     "metadata": {},
     "output_type": "display_data"
    },
    {
     "name": "stderr",
     "output_type": "stream",
     "text": [
      "/opt/conda/envs/audio/lib/python3.10/site-packages/pytorch_lightning/trainer/connectors/data_connector.py:441: The 'val_dataloader' does not have many workers which may be a bottleneck. Consider increasing the value of the `num_workers` argument` to `num_workers=127` in the `DataLoader` to improve performance.\n",
      "/opt/conda/envs/audio/lib/python3.10/site-packages/torch/nn/modules/linear.py:116: UserWarning: Deterministic behavior was enabled with either `torch.use_deterministic_algorithms(True)` or `at::Context::setDeterministicAlgorithms(true)`, but this operation is not deterministic because it uses CuBLAS and you have CUDA >= 10.2. To enable deterministic behavior in this case, you must set an environment variable before running your PyTorch application: CUBLAS_WORKSPACE_CONFIG=:4096:8 or CUBLAS_WORKSPACE_CONFIG=:16:8. For more information, go to https://docs.nvidia.com/cuda/cublas/index.html#results-reproducibility (Triggered internally at ../aten/src/ATen/Context.cpp:185.)\n",
      "  return F.linear(input, self.weight, self.bias)\n",
      "/opt/conda/envs/audio/lib/python3.10/site-packages/torchmetrics/utilities/prints.py:43: TorchMetricsUserWarning: You are trying to use a metric in deterministic mode on GPU that uses `torch.cumsum`, which is currently not supported. The tensor will be copied to the CPU memory to compute it and then copied back to GPU. Expect some slowdowns.\n",
      "  warnings.warn(*args, **kwargs)  # noqa: B028\n",
      "/opt/conda/envs/audio/lib/python3.10/site-packages/torchmetrics/utilities/prints.py:43: UserWarning: No positive samples in targets, true positive value should be meaningless. Returning zero tensor in true positive score\n",
      "  warnings.warn(*args, **kwargs)  # noqa: B028\n",
      "/opt/conda/envs/audio/lib/python3.10/site-packages/pytorch_lightning/trainer/connectors/data_connector.py:441: The 'train_dataloader' does not have many workers which may be a bottleneck. Consider increasing the value of the `num_workers` argument` to `num_workers=127` in the `DataLoader` to improve performance.\n",
      "/opt/conda/envs/audio/lib/python3.10/site-packages/pytorch_lightning/loops/fit_loop.py:298: The number of training batches (4) is smaller than the logging interval Trainer(log_every_n_steps=50). Set a lower value for log_every_n_steps if you want to see logs for the training epoch.\n"
     ]
    },
    {
     "data": {
      "application/vnd.jupyter.widget-view+json": {
       "model_id": "2107ac336bff45e5929d61d1e1590a05",
       "version_major": 2,
       "version_minor": 0
      },
      "text/plain": [
       "Training: |                                                                                                   …"
      ]
     },
     "metadata": {},
     "output_type": "display_data"
    },
    {
     "name": "stderr",
     "output_type": "stream",
     "text": [
      "/opt/conda/envs/audio/lib/python3.10/site-packages/torch/autograd/graph.py:744: UserWarning: Deterministic behavior was enabled with either `torch.use_deterministic_algorithms(True)` or `at::Context::setDeterministicAlgorithms(true)`, but this operation is not deterministic because it uses CuBLAS and you have CUDA >= 10.2. To enable deterministic behavior in this case, you must set an environment variable before running your PyTorch application: CUBLAS_WORKSPACE_CONFIG=:4096:8 or CUBLAS_WORKSPACE_CONFIG=:16:8. For more information, go to https://docs.nvidia.com/cuda/cublas/index.html#results-reproducibility (Triggered internally at ../aten/src/ATen/Context.cpp:185.)\n",
      "  return Variable._execution_engine.run_backward(  # Calls into the C++ engine to run the backward pass\n"
     ]
    },
    {
     "data": {
      "application/vnd.jupyter.widget-view+json": {
       "model_id": "8c2f42e921ce43f3bb033c8f284f427c",
       "version_major": 2,
       "version_minor": 0
      },
      "text/plain": [
       "Validation: |                                                                                                 …"
      ]
     },
     "metadata": {},
     "output_type": "display_data"
    },
    {
     "data": {
      "application/vnd.jupyter.widget-view+json": {
       "model_id": "04b68934bd464a4db08fdbe7952d1383",
       "version_major": 2,
       "version_minor": 0
      },
      "text/plain": [
       "Validation: |                                                                                                 …"
      ]
     },
     "metadata": {},
     "output_type": "display_data"
    },
    {
     "data": {
      "application/vnd.jupyter.widget-view+json": {
       "model_id": "656d1eca988d48208c0c4149b7f9a893",
       "version_major": 2,
       "version_minor": 0
      },
      "text/plain": [
       "Validation: |                                                                                                 …"
      ]
     },
     "metadata": {},
     "output_type": "display_data"
    },
    {
     "data": {
      "application/vnd.jupyter.widget-view+json": {
       "model_id": "0a3654ae71ed4cd6906d54b8949c82ed",
       "version_major": 2,
       "version_minor": 0
      },
      "text/plain": [
       "Validation: |                                                                                                 …"
      ]
     },
     "metadata": {},
     "output_type": "display_data"
    },
    {
     "data": {
      "application/vnd.jupyter.widget-view+json": {
       "model_id": "b63f207125a748659dc9677d93fa607a",
       "version_major": 2,
       "version_minor": 0
      },
      "text/plain": [
       "Validation: |                                                                                                 …"
      ]
     },
     "metadata": {},
     "output_type": "display_data"
    },
    {
     "data": {
      "application/vnd.jupyter.widget-view+json": {
       "model_id": "9430f59d4cb748d0bbb755029d938cdf",
       "version_major": 2,
       "version_minor": 0
      },
      "text/plain": [
       "Validation: |                                                                                                 …"
      ]
     },
     "metadata": {},
     "output_type": "display_data"
    },
    {
     "data": {
      "application/vnd.jupyter.widget-view+json": {
       "model_id": "a20eeb3669d44016b5f8b36c7781f59e",
       "version_major": 2,
       "version_minor": 0
      },
      "text/plain": [
       "Validation: |                                                                                                 …"
      ]
     },
     "metadata": {},
     "output_type": "display_data"
    },
    {
     "data": {
      "application/vnd.jupyter.widget-view+json": {
       "model_id": "68f1c37d35e64755beb07d82a1c14efa",
       "version_major": 2,
       "version_minor": 0
      },
      "text/plain": [
       "Validation: |                                                                                                 …"
      ]
     },
     "metadata": {},
     "output_type": "display_data"
    },
    {
     "data": {
      "application/vnd.jupyter.widget-view+json": {
       "model_id": "ccdc0fa3e3764d88b910434453abbc27",
       "version_major": 2,
       "version_minor": 0
      },
      "text/plain": [
       "Validation: |                                                                                                 …"
      ]
     },
     "metadata": {},
     "output_type": "display_data"
    },
    {
     "data": {
      "application/vnd.jupyter.widget-view+json": {
       "model_id": "a77a52f3f3b44378bf86ddf83f9a4386",
       "version_major": 2,
       "version_minor": 0
      },
      "text/plain": [
       "Validation: |                                                                                                 …"
      ]
     },
     "metadata": {},
     "output_type": "display_data"
    },
    {
     "data": {
      "application/vnd.jupyter.widget-view+json": {
       "model_id": "80d43806d6734f32810bd087f4dcd347",
       "version_major": 2,
       "version_minor": 0
      },
      "text/plain": [
       "Validation: |                                                                                                 …"
      ]
     },
     "metadata": {},
     "output_type": "display_data"
    },
    {
     "data": {
      "application/vnd.jupyter.widget-view+json": {
       "model_id": "667b4e6652fc45cd9b073493a6541ab2",
       "version_major": 2,
       "version_minor": 0
      },
      "text/plain": [
       "Validation: |                                                                                                 …"
      ]
     },
     "metadata": {},
     "output_type": "display_data"
    },
    {
     "data": {
      "application/vnd.jupyter.widget-view+json": {
       "model_id": "db9149b1316843118e0571a118ec62bc",
       "version_major": 2,
       "version_minor": 0
      },
      "text/plain": [
       "Validation: |                                                                                                 …"
      ]
     },
     "metadata": {},
     "output_type": "display_data"
    },
    {
     "data": {
      "application/vnd.jupyter.widget-view+json": {
       "model_id": "e0bcf1105d93479ebc6e7fff4b0db533",
       "version_major": 2,
       "version_minor": 0
      },
      "text/plain": [
       "Validation: |                                                                                                 …"
      ]
     },
     "metadata": {},
     "output_type": "display_data"
    },
    {
     "data": {
      "application/vnd.jupyter.widget-view+json": {
       "model_id": "c1afe75a357c47b3a47ffd974999bafa",
       "version_major": 2,
       "version_minor": 0
      },
      "text/plain": [
       "Validation: |                                                                                                 …"
      ]
     },
     "metadata": {},
     "output_type": "display_data"
    },
    {
     "data": {
      "application/vnd.jupyter.widget-view+json": {
       "model_id": "f2e494874a9c4e1ba57d4c7b229e646d",
       "version_major": 2,
       "version_minor": 0
      },
      "text/plain": [
       "Validation: |                                                                                                 …"
      ]
     },
     "metadata": {},
     "output_type": "display_data"
    },
    {
     "data": {
      "application/vnd.jupyter.widget-view+json": {
       "model_id": "31adaba350b548eba0a5c680a4eedd1f",
       "version_major": 2,
       "version_minor": 0
      },
      "text/plain": [
       "Validation: |                                                                                                 …"
      ]
     },
     "metadata": {},
     "output_type": "display_data"
    },
    {
     "data": {
      "application/vnd.jupyter.widget-view+json": {
       "model_id": "9d7a3ffdc785452b95319079a972f9de",
       "version_major": 2,
       "version_minor": 0
      },
      "text/plain": [
       "Validation: |                                                                                                 …"
      ]
     },
     "metadata": {},
     "output_type": "display_data"
    },
    {
     "data": {
      "application/vnd.jupyter.widget-view+json": {
       "model_id": "918f218979b244738a86ba853ed780d2",
       "version_major": 2,
       "version_minor": 0
      },
      "text/plain": [
       "Validation: |                                                                                                 …"
      ]
     },
     "metadata": {},
     "output_type": "display_data"
    },
    {
     "data": {
      "application/vnd.jupyter.widget-view+json": {
       "model_id": "a577da91a4564f5ca345bfe9760bb22f",
       "version_major": 2,
       "version_minor": 0
      },
      "text/plain": [
       "Validation: |                                                                                                 …"
      ]
     },
     "metadata": {},
     "output_type": "display_data"
    },
    {
     "data": {
      "application/vnd.jupyter.widget-view+json": {
       "model_id": "7901588138a646cd814f8d682b2aaeee",
       "version_major": 2,
       "version_minor": 0
      },
      "text/plain": [
       "Validation: |                                                                                                 …"
      ]
     },
     "metadata": {},
     "output_type": "display_data"
    },
    {
     "data": {
      "application/vnd.jupyter.widget-view+json": {
       "model_id": "4b210f8ee7334536b6c18dca7717129f",
       "version_major": 2,
       "version_minor": 0
      },
      "text/plain": [
       "Validation: |                                                                                                 …"
      ]
     },
     "metadata": {},
     "output_type": "display_data"
    },
    {
     "data": {
      "application/vnd.jupyter.widget-view+json": {
       "model_id": "c2a9aabdff7841aa8e6cee29be7e8f63",
       "version_major": 2,
       "version_minor": 0
      },
      "text/plain": [
       "Validation: |                                                                                                 …"
      ]
     },
     "metadata": {},
     "output_type": "display_data"
    },
    {
     "data": {
      "application/vnd.jupyter.widget-view+json": {
       "model_id": "01558e7cbf734c32b55ff96b12961014",
       "version_major": 2,
       "version_minor": 0
      },
      "text/plain": [
       "Validation: |                                                                                                 …"
      ]
     },
     "metadata": {},
     "output_type": "display_data"
    },
    {
     "data": {
      "application/vnd.jupyter.widget-view+json": {
       "model_id": "fad3389a4ac440b79460b2a931fcb257",
       "version_major": 2,
       "version_minor": 0
      },
      "text/plain": [
       "Validation: |                                                                                                 …"
      ]
     },
     "metadata": {},
     "output_type": "display_data"
    },
    {
     "data": {
      "application/vnd.jupyter.widget-view+json": {
       "model_id": "bb837c6313f74408ae3a75e4d88ae517",
       "version_major": 2,
       "version_minor": 0
      },
      "text/plain": [
       "Validation: |                                                                                                 …"
      ]
     },
     "metadata": {},
     "output_type": "display_data"
    },
    {
     "data": {
      "application/vnd.jupyter.widget-view+json": {
       "model_id": "f28a9b9dddd843d599b7c450409f12d0",
       "version_major": 2,
       "version_minor": 0
      },
      "text/plain": [
       "Validation: |                                                                                                 …"
      ]
     },
     "metadata": {},
     "output_type": "display_data"
    },
    {
     "data": {
      "application/vnd.jupyter.widget-view+json": {
       "model_id": "afc8a49d703f4f2d88ffddeb19848403",
       "version_major": 2,
       "version_minor": 0
      },
      "text/plain": [
       "Validation: |                                                                                                 …"
      ]
     },
     "metadata": {},
     "output_type": "display_data"
    },
    {
     "data": {
      "application/vnd.jupyter.widget-view+json": {
       "model_id": "999f4a20848a418183b37d59d9d32ab3",
       "version_major": 2,
       "version_minor": 0
      },
      "text/plain": [
       "Validation: |                                                                                                 …"
      ]
     },
     "metadata": {},
     "output_type": "display_data"
    },
    {
     "data": {
      "application/vnd.jupyter.widget-view+json": {
       "model_id": "b6c3bdc396e74fd19d7ad711d059781e",
       "version_major": 2,
       "version_minor": 0
      },
      "text/plain": [
       "Validation: |                                                                                                 …"
      ]
     },
     "metadata": {},
     "output_type": "display_data"
    },
    {
     "name": "stderr",
     "output_type": "stream",
     "text": [
      "`Trainer.fit` stopped: `max_epochs=30` reached.\n",
      "LOCAL_RANK: 0 - CUDA_VISIBLE_DEVICES: [0,1,2,3,4,5,6]\n",
      "/opt/conda/envs/audio/lib/python3.10/site-packages/pytorch_lightning/trainer/connectors/data_connector.py:441: The 'test_dataloader' does not have many workers which may be a bottleneck. Consider increasing the value of the `num_workers` argument` to `num_workers=127` in the `DataLoader` to improve performance.\n"
     ]
    },
    {
     "data": {
      "application/vnd.jupyter.widget-view+json": {
       "model_id": "b042cbd5c04844c48a92cdcb0fadb09f",
       "version_major": 2,
       "version_minor": 0
      },
      "text/plain": [
       "Testing: |                                                                                                    …"
      ]
     },
     "metadata": {},
     "output_type": "display_data"
    },
    {
     "name": "stderr",
     "output_type": "stream",
     "text": [
      "/opt/conda/envs/audio/lib/python3.10/site-packages/torchmetrics/utilities/prints.py:43: UserWarning: No negative samples in targets, false positive value should be meaningless. Returning zero tensor in false positive score\n",
      "  warnings.warn(*args, **kwargs)  # noqa: B028\n",
      "/opt/conda/envs/audio/lib/python3.10/site-packages/sklearn/model_selection/_split.py:737: UserWarning: The least populated class in y has only 1 members, which is less than n_splits=2.\n",
      "  warnings.warn(\n",
      "GPU available: True (cuda), used: True\n",
      "TPU available: False, using: 0 TPU cores\n",
      "IPU available: False, using: 0 IPUs\n",
      "HPU available: False, using: 0 HPUs\n",
      "LOCAL_RANK: 0 - CUDA_VISIBLE_DEVICES: [0,1,2,3,4,5,6]\n",
      "\n",
      "   | Name          | Type               | Params\n",
      "------------------------------------------------------\n",
      "0  | tab_enc       | TabularEncoder     | 4.9 K \n",
      "1  | rnn           | GRU                | 369 K \n",
      "2  | head          | Linear             | 129   \n",
      "3  | criterion     | MSELoss            | 0     \n",
      "4  | train_mae     | MeanAbsoluteError  | 0     \n",
      "5  | val_mae       | MeanAbsoluteError  | 0     \n",
      "6  | test_mae      | MeanAbsoluteError  | 0     \n",
      "7  | train_rmse    | MeanSquaredError   | 0     \n",
      "8  | val_rmse      | MeanSquaredError   | 0     \n",
      "9  | test_rmse     | MeanSquaredError   | 0     \n",
      "10 | train_acc     | MulticlassAccuracy | 0     \n",
      "11 | val_acc       | MulticlassAccuracy | 0     \n",
      "12 | test_acc      | MulticlassAccuracy | 0     \n",
      "13 | train_acc_tol | SumMetric          | 0     \n",
      "14 | val_acc_tol   | SumMetric          | 0     \n",
      "15 | test_acc_tol  | SumMetric          | 0     \n",
      "16 | train_cnt     | SumMetric          | 0     \n",
      "17 | val_cnt       | SumMetric          | 0     \n",
      "18 | test_cnt      | SumMetric          | 0     \n",
      "19 | train_auroc   | MulticlassAUROC    | 0     \n",
      "20 | val_auroc     | MulticlassAUROC    | 0     \n",
      "21 | test_auroc    | MulticlassAUROC    | 0     \n",
      "------------------------------------------------------\n",
      "374 K     Trainable params\n",
      "0         Non-trainable params\n",
      "374 K     Total params\n",
      "1.498     Total estimated model params size (MB)\n"
     ]
    },
    {
     "name": "stdout",
     "output_type": "stream",
     "text": [
      "Fold 2 (Test PID: WEBSS-004): {'test_loss': 1.2511030435562134, 'test_mae': 1.1185271739959717, 'test_rmse': 1.1185271739959717, 'test_acc': 0.0, 'test_acc±1': 0.0, 'auroc': 0.0, 'fold': 2, 'test_pid': 'WEBSS-004'}\n"
     ]
    },
    {
     "data": {
      "application/vnd.jupyter.widget-view+json": {
       "model_id": "7dc287d053594012bb5f6aeb24a9e675",
       "version_major": 2,
       "version_minor": 0
      },
      "text/plain": [
       "Sanity Checking: |                                                                                            …"
      ]
     },
     "metadata": {},
     "output_type": "display_data"
    },
    {
     "name": "stderr",
     "output_type": "stream",
     "text": [
      "/opt/conda/envs/audio/lib/python3.10/site-packages/pytorch_lightning/trainer/connectors/data_connector.py:441: The 'val_dataloader' does not have many workers which may be a bottleneck. Consider increasing the value of the `num_workers` argument` to `num_workers=127` in the `DataLoader` to improve performance.\n",
      "/opt/conda/envs/audio/lib/python3.10/site-packages/torch/nn/modules/linear.py:116: UserWarning: Deterministic behavior was enabled with either `torch.use_deterministic_algorithms(True)` or `at::Context::setDeterministicAlgorithms(true)`, but this operation is not deterministic because it uses CuBLAS and you have CUDA >= 10.2. To enable deterministic behavior in this case, you must set an environment variable before running your PyTorch application: CUBLAS_WORKSPACE_CONFIG=:4096:8 or CUBLAS_WORKSPACE_CONFIG=:16:8. For more information, go to https://docs.nvidia.com/cuda/cublas/index.html#results-reproducibility (Triggered internally at ../aten/src/ATen/Context.cpp:185.)\n",
      "  return F.linear(input, self.weight, self.bias)\n",
      "/opt/conda/envs/audio/lib/python3.10/site-packages/torchmetrics/utilities/prints.py:43: TorchMetricsUserWarning: You are trying to use a metric in deterministic mode on GPU that uses `torch.cumsum`, which is currently not supported. The tensor will be copied to the CPU memory to compute it and then copied back to GPU. Expect some slowdowns.\n",
      "  warnings.warn(*args, **kwargs)  # noqa: B028\n",
      "/opt/conda/envs/audio/lib/python3.10/site-packages/torchmetrics/utilities/prints.py:43: UserWarning: No positive samples in targets, true positive value should be meaningless. Returning zero tensor in true positive score\n",
      "  warnings.warn(*args, **kwargs)  # noqa: B028\n",
      "/opt/conda/envs/audio/lib/python3.10/site-packages/pytorch_lightning/trainer/connectors/data_connector.py:441: The 'train_dataloader' does not have many workers which may be a bottleneck. Consider increasing the value of the `num_workers` argument` to `num_workers=127` in the `DataLoader` to improve performance.\n",
      "/opt/conda/envs/audio/lib/python3.10/site-packages/pytorch_lightning/loops/fit_loop.py:298: The number of training batches (4) is smaller than the logging interval Trainer(log_every_n_steps=50). Set a lower value for log_every_n_steps if you want to see logs for the training epoch.\n"
     ]
    },
    {
     "data": {
      "application/vnd.jupyter.widget-view+json": {
       "model_id": "93d73df17802496fa274e4bca24eb09d",
       "version_major": 2,
       "version_minor": 0
      },
      "text/plain": [
       "Training: |                                                                                                   …"
      ]
     },
     "metadata": {},
     "output_type": "display_data"
    },
    {
     "name": "stderr",
     "output_type": "stream",
     "text": [
      "/opt/conda/envs/audio/lib/python3.10/site-packages/torch/autograd/graph.py:744: UserWarning: Deterministic behavior was enabled with either `torch.use_deterministic_algorithms(True)` or `at::Context::setDeterministicAlgorithms(true)`, but this operation is not deterministic because it uses CuBLAS and you have CUDA >= 10.2. To enable deterministic behavior in this case, you must set an environment variable before running your PyTorch application: CUBLAS_WORKSPACE_CONFIG=:4096:8 or CUBLAS_WORKSPACE_CONFIG=:16:8. For more information, go to https://docs.nvidia.com/cuda/cublas/index.html#results-reproducibility (Triggered internally at ../aten/src/ATen/Context.cpp:185.)\n",
      "  return Variable._execution_engine.run_backward(  # Calls into the C++ engine to run the backward pass\n"
     ]
    },
    {
     "data": {
      "application/vnd.jupyter.widget-view+json": {
       "model_id": "b8dfa6f81e4a4433a66966d9b1800118",
       "version_major": 2,
       "version_minor": 0
      },
      "text/plain": [
       "Validation: |                                                                                                 …"
      ]
     },
     "metadata": {},
     "output_type": "display_data"
    },
    {
     "data": {
      "application/vnd.jupyter.widget-view+json": {
       "model_id": "72c283c7f6674db0b808142f4af706fe",
       "version_major": 2,
       "version_minor": 0
      },
      "text/plain": [
       "Validation: |                                                                                                 …"
      ]
     },
     "metadata": {},
     "output_type": "display_data"
    },
    {
     "data": {
      "application/vnd.jupyter.widget-view+json": {
       "model_id": "3bcbc94cb24e421c926ae34f92a31ce2",
       "version_major": 2,
       "version_minor": 0
      },
      "text/plain": [
       "Validation: |                                                                                                 …"
      ]
     },
     "metadata": {},
     "output_type": "display_data"
    },
    {
     "data": {
      "application/vnd.jupyter.widget-view+json": {
       "model_id": "5061cfde7ac044f382bf9a360729c3d4",
       "version_major": 2,
       "version_minor": 0
      },
      "text/plain": [
       "Validation: |                                                                                                 …"
      ]
     },
     "metadata": {},
     "output_type": "display_data"
    },
    {
     "data": {
      "application/vnd.jupyter.widget-view+json": {
       "model_id": "bce3fcb29bf1420e8fbc9fa32a49dd06",
       "version_major": 2,
       "version_minor": 0
      },
      "text/plain": [
       "Validation: |                                                                                                 …"
      ]
     },
     "metadata": {},
     "output_type": "display_data"
    },
    {
     "data": {
      "application/vnd.jupyter.widget-view+json": {
       "model_id": "ad249689f91742c9a2da522007e093aa",
       "version_major": 2,
       "version_minor": 0
      },
      "text/plain": [
       "Validation: |                                                                                                 …"
      ]
     },
     "metadata": {},
     "output_type": "display_data"
    },
    {
     "data": {
      "application/vnd.jupyter.widget-view+json": {
       "model_id": "acf6b629d03243d2a61a8af6ce038ce8",
       "version_major": 2,
       "version_minor": 0
      },
      "text/plain": [
       "Validation: |                                                                                                 …"
      ]
     },
     "metadata": {},
     "output_type": "display_data"
    },
    {
     "data": {
      "application/vnd.jupyter.widget-view+json": {
       "model_id": "33573f451de64dd7bc708ad976a37edc",
       "version_major": 2,
       "version_minor": 0
      },
      "text/plain": [
       "Validation: |                                                                                                 …"
      ]
     },
     "metadata": {},
     "output_type": "display_data"
    },
    {
     "data": {
      "application/vnd.jupyter.widget-view+json": {
       "model_id": "a9a3f5b2b0834fb6a5fdea6e0782891c",
       "version_major": 2,
       "version_minor": 0
      },
      "text/plain": [
       "Validation: |                                                                                                 …"
      ]
     },
     "metadata": {},
     "output_type": "display_data"
    },
    {
     "data": {
      "application/vnd.jupyter.widget-view+json": {
       "model_id": "f54371a5d18d4102969e6eebd40c09f5",
       "version_major": 2,
       "version_minor": 0
      },
      "text/plain": [
       "Validation: |                                                                                                 …"
      ]
     },
     "metadata": {},
     "output_type": "display_data"
    },
    {
     "data": {
      "application/vnd.jupyter.widget-view+json": {
       "model_id": "49b474562ff04dc2898fa8d6f8cbb519",
       "version_major": 2,
       "version_minor": 0
      },
      "text/plain": [
       "Validation: |                                                                                                 …"
      ]
     },
     "metadata": {},
     "output_type": "display_data"
    },
    {
     "data": {
      "application/vnd.jupyter.widget-view+json": {
       "model_id": "7e49a06d176d41508ec934c63a7a8a39",
       "version_major": 2,
       "version_minor": 0
      },
      "text/plain": [
       "Validation: |                                                                                                 …"
      ]
     },
     "metadata": {},
     "output_type": "display_data"
    },
    {
     "data": {
      "application/vnd.jupyter.widget-view+json": {
       "model_id": "c1ae68a54afb46ff867fb0e9c6bba32c",
       "version_major": 2,
       "version_minor": 0
      },
      "text/plain": [
       "Validation: |                                                                                                 …"
      ]
     },
     "metadata": {},
     "output_type": "display_data"
    },
    {
     "data": {
      "application/vnd.jupyter.widget-view+json": {
       "model_id": "3f776f0125694e9ab2a131a445e92390",
       "version_major": 2,
       "version_minor": 0
      },
      "text/plain": [
       "Validation: |                                                                                                 …"
      ]
     },
     "metadata": {},
     "output_type": "display_data"
    },
    {
     "data": {
      "application/vnd.jupyter.widget-view+json": {
       "model_id": "60f6cd688df5403289af7e234f76f688",
       "version_major": 2,
       "version_minor": 0
      },
      "text/plain": [
       "Validation: |                                                                                                 …"
      ]
     },
     "metadata": {},
     "output_type": "display_data"
    },
    {
     "data": {
      "application/vnd.jupyter.widget-view+json": {
       "model_id": "65bfde00e3254c6c9c10a4e1301a86f6",
       "version_major": 2,
       "version_minor": 0
      },
      "text/plain": [
       "Validation: |                                                                                                 …"
      ]
     },
     "metadata": {},
     "output_type": "display_data"
    },
    {
     "data": {
      "application/vnd.jupyter.widget-view+json": {
       "model_id": "158f2a1c81724491ae51b0babda51272",
       "version_major": 2,
       "version_minor": 0
      },
      "text/plain": [
       "Validation: |                                                                                                 …"
      ]
     },
     "metadata": {},
     "output_type": "display_data"
    },
    {
     "data": {
      "application/vnd.jupyter.widget-view+json": {
       "model_id": "d9f5ffd27eb041939fcb28a7a64d7c5d",
       "version_major": 2,
       "version_minor": 0
      },
      "text/plain": [
       "Validation: |                                                                                                 …"
      ]
     },
     "metadata": {},
     "output_type": "display_data"
    },
    {
     "data": {
      "application/vnd.jupyter.widget-view+json": {
       "model_id": "b58bbd163d974a5483c0fe04fbf8c4da",
       "version_major": 2,
       "version_minor": 0
      },
      "text/plain": [
       "Validation: |                                                                                                 …"
      ]
     },
     "metadata": {},
     "output_type": "display_data"
    },
    {
     "data": {
      "application/vnd.jupyter.widget-view+json": {
       "model_id": "7661a89272934ed197fa850db49ca522",
       "version_major": 2,
       "version_minor": 0
      },
      "text/plain": [
       "Validation: |                                                                                                 …"
      ]
     },
     "metadata": {},
     "output_type": "display_data"
    },
    {
     "data": {
      "application/vnd.jupyter.widget-view+json": {
       "model_id": "0979bcf51c644e4fba32993e8346b733",
       "version_major": 2,
       "version_minor": 0
      },
      "text/plain": [
       "Validation: |                                                                                                 …"
      ]
     },
     "metadata": {},
     "output_type": "display_data"
    },
    {
     "data": {
      "application/vnd.jupyter.widget-view+json": {
       "model_id": "67074b3513274b00a8678298e227f55f",
       "version_major": 2,
       "version_minor": 0
      },
      "text/plain": [
       "Validation: |                                                                                                 …"
      ]
     },
     "metadata": {},
     "output_type": "display_data"
    },
    {
     "data": {
      "application/vnd.jupyter.widget-view+json": {
       "model_id": "9b0a958a2c68420ea1727859a3bd3da4",
       "version_major": 2,
       "version_minor": 0
      },
      "text/plain": [
       "Validation: |                                                                                                 …"
      ]
     },
     "metadata": {},
     "output_type": "display_data"
    },
    {
     "data": {
      "application/vnd.jupyter.widget-view+json": {
       "model_id": "72ec053132fe46538c5389a488dd53ce",
       "version_major": 2,
       "version_minor": 0
      },
      "text/plain": [
       "Validation: |                                                                                                 …"
      ]
     },
     "metadata": {},
     "output_type": "display_data"
    },
    {
     "data": {
      "application/vnd.jupyter.widget-view+json": {
       "model_id": "783191140bdc4546932ffac7396094ec",
       "version_major": 2,
       "version_minor": 0
      },
      "text/plain": [
       "Validation: |                                                                                                 …"
      ]
     },
     "metadata": {},
     "output_type": "display_data"
    },
    {
     "data": {
      "application/vnd.jupyter.widget-view+json": {
       "model_id": "b1ba8911c484479dafb45d33b897b7cc",
       "version_major": 2,
       "version_minor": 0
      },
      "text/plain": [
       "Validation: |                                                                                                 …"
      ]
     },
     "metadata": {},
     "output_type": "display_data"
    },
    {
     "data": {
      "application/vnd.jupyter.widget-view+json": {
       "model_id": "4e589e75115e4fdca2d8408128fcb8cc",
       "version_major": 2,
       "version_minor": 0
      },
      "text/plain": [
       "Validation: |                                                                                                 …"
      ]
     },
     "metadata": {},
     "output_type": "display_data"
    },
    {
     "data": {
      "application/vnd.jupyter.widget-view+json": {
       "model_id": "f76a0f84e0524af28169a75e24955216",
       "version_major": 2,
       "version_minor": 0
      },
      "text/plain": [
       "Validation: |                                                                                                 …"
      ]
     },
     "metadata": {},
     "output_type": "display_data"
    },
    {
     "data": {
      "application/vnd.jupyter.widget-view+json": {
       "model_id": "c0bc8f789e214e5a8ec36b8df734483e",
       "version_major": 2,
       "version_minor": 0
      },
      "text/plain": [
       "Validation: |                                                                                                 …"
      ]
     },
     "metadata": {},
     "output_type": "display_data"
    },
    {
     "data": {
      "application/vnd.jupyter.widget-view+json": {
       "model_id": "3c2c6a98163440ef994a9a5b6ba83a14",
       "version_major": 2,
       "version_minor": 0
      },
      "text/plain": [
       "Validation: |                                                                                                 …"
      ]
     },
     "metadata": {},
     "output_type": "display_data"
    },
    {
     "name": "stderr",
     "output_type": "stream",
     "text": [
      "`Trainer.fit` stopped: `max_epochs=30` reached.\n",
      "LOCAL_RANK: 0 - CUDA_VISIBLE_DEVICES: [0,1,2,3,4,5,6]\n",
      "/opt/conda/envs/audio/lib/python3.10/site-packages/pytorch_lightning/trainer/connectors/data_connector.py:441: The 'test_dataloader' does not have many workers which may be a bottleneck. Consider increasing the value of the `num_workers` argument` to `num_workers=127` in the `DataLoader` to improve performance.\n"
     ]
    },
    {
     "data": {
      "application/vnd.jupyter.widget-view+json": {
       "model_id": "7ec248c11bf940509aa2107e02eae88d",
       "version_major": 2,
       "version_minor": 0
      },
      "text/plain": [
       "Testing: |                                                                                                    …"
      ]
     },
     "metadata": {},
     "output_type": "display_data"
    },
    {
     "name": "stderr",
     "output_type": "stream",
     "text": [
      "/opt/conda/envs/audio/lib/python3.10/site-packages/sklearn/model_selection/_split.py:737: UserWarning: The least populated class in y has only 1 members, which is less than n_splits=2.\n",
      "  warnings.warn(\n",
      "GPU available: True (cuda), used: True\n",
      "TPU available: False, using: 0 TPU cores\n",
      "IPU available: False, using: 0 IPUs\n",
      "HPU available: False, using: 0 HPUs\n",
      "LOCAL_RANK: 0 - CUDA_VISIBLE_DEVICES: [0,1,2,3,4,5,6]\n",
      "\n",
      "   | Name          | Type               | Params\n",
      "------------------------------------------------------\n",
      "0  | tab_enc       | TabularEncoder     | 4.9 K \n",
      "1  | rnn           | GRU                | 369 K \n",
      "2  | head          | Linear             | 129   \n",
      "3  | criterion     | MSELoss            | 0     \n",
      "4  | train_mae     | MeanAbsoluteError  | 0     \n",
      "5  | val_mae       | MeanAbsoluteError  | 0     \n",
      "6  | test_mae      | MeanAbsoluteError  | 0     \n",
      "7  | train_rmse    | MeanSquaredError   | 0     \n",
      "8  | val_rmse      | MeanSquaredError   | 0     \n",
      "9  | test_rmse     | MeanSquaredError   | 0     \n",
      "10 | train_acc     | MulticlassAccuracy | 0     \n",
      "11 | val_acc       | MulticlassAccuracy | 0     \n",
      "12 | test_acc      | MulticlassAccuracy | 0     \n",
      "13 | train_acc_tol | SumMetric          | 0     \n",
      "14 | val_acc_tol   | SumMetric          | 0     \n",
      "15 | test_acc_tol  | SumMetric          | 0     \n",
      "16 | train_cnt     | SumMetric          | 0     \n",
      "17 | val_cnt       | SumMetric          | 0     \n",
      "18 | test_cnt      | SumMetric          | 0     \n",
      "19 | train_auroc   | MulticlassAUROC    | 0     \n",
      "20 | val_auroc     | MulticlassAUROC    | 0     \n",
      "21 | test_auroc    | MulticlassAUROC    | 0     \n",
      "------------------------------------------------------\n",
      "374 K     Trainable params\n",
      "0         Non-trainable params\n",
      "374 K     Total params\n",
      "1.498     Total estimated model params size (MB)\n"
     ]
    },
    {
     "name": "stdout",
     "output_type": "stream",
     "text": [
      "Fold 3 (Test PID: WEBSS-005): {'test_loss': 2.316225528717041, 'test_mae': 1.307163953781128, 'test_rmse': 1.521915078163147, 'test_acc': 0.3333333432674408, 'test_acc±1': 0.3333333432674408, 'auroc': 0.2142857313156128, 'fold': 3, 'test_pid': 'WEBSS-005'}\n"
     ]
    },
    {
     "data": {
      "application/vnd.jupyter.widget-view+json": {
       "model_id": "6615b367fed6422ba75ac2bef63d4611",
       "version_major": 2,
       "version_minor": 0
      },
      "text/plain": [
       "Sanity Checking: |                                                                                            …"
      ]
     },
     "metadata": {},
     "output_type": "display_data"
    },
    {
     "name": "stderr",
     "output_type": "stream",
     "text": [
      "/opt/conda/envs/audio/lib/python3.10/site-packages/pytorch_lightning/trainer/connectors/data_connector.py:441: The 'val_dataloader' does not have many workers which may be a bottleneck. Consider increasing the value of the `num_workers` argument` to `num_workers=127` in the `DataLoader` to improve performance.\n",
      "/opt/conda/envs/audio/lib/python3.10/site-packages/torch/nn/modules/linear.py:116: UserWarning: Deterministic behavior was enabled with either `torch.use_deterministic_algorithms(True)` or `at::Context::setDeterministicAlgorithms(true)`, but this operation is not deterministic because it uses CuBLAS and you have CUDA >= 10.2. To enable deterministic behavior in this case, you must set an environment variable before running your PyTorch application: CUBLAS_WORKSPACE_CONFIG=:4096:8 or CUBLAS_WORKSPACE_CONFIG=:16:8. For more information, go to https://docs.nvidia.com/cuda/cublas/index.html#results-reproducibility (Triggered internally at ../aten/src/ATen/Context.cpp:185.)\n",
      "  return F.linear(input, self.weight, self.bias)\n",
      "/opt/conda/envs/audio/lib/python3.10/site-packages/torchmetrics/utilities/prints.py:43: TorchMetricsUserWarning: You are trying to use a metric in deterministic mode on GPU that uses `torch.cumsum`, which is currently not supported. The tensor will be copied to the CPU memory to compute it and then copied back to GPU. Expect some slowdowns.\n",
      "  warnings.warn(*args, **kwargs)  # noqa: B028\n",
      "/opt/conda/envs/audio/lib/python3.10/site-packages/torchmetrics/utilities/prints.py:43: UserWarning: No positive samples in targets, true positive value should be meaningless. Returning zero tensor in true positive score\n",
      "  warnings.warn(*args, **kwargs)  # noqa: B028\n",
      "/opt/conda/envs/audio/lib/python3.10/site-packages/pytorch_lightning/trainer/connectors/data_connector.py:441: The 'train_dataloader' does not have many workers which may be a bottleneck. Consider increasing the value of the `num_workers` argument` to `num_workers=127` in the `DataLoader` to improve performance.\n",
      "/opt/conda/envs/audio/lib/python3.10/site-packages/pytorch_lightning/loops/fit_loop.py:298: The number of training batches (4) is smaller than the logging interval Trainer(log_every_n_steps=50). Set a lower value for log_every_n_steps if you want to see logs for the training epoch.\n"
     ]
    },
    {
     "data": {
      "application/vnd.jupyter.widget-view+json": {
       "model_id": "2123b91e094440fe808c78d604a63c86",
       "version_major": 2,
       "version_minor": 0
      },
      "text/plain": [
       "Training: |                                                                                                   …"
      ]
     },
     "metadata": {},
     "output_type": "display_data"
    },
    {
     "name": "stderr",
     "output_type": "stream",
     "text": [
      "/opt/conda/envs/audio/lib/python3.10/site-packages/torch/autograd/graph.py:744: UserWarning: Deterministic behavior was enabled with either `torch.use_deterministic_algorithms(True)` or `at::Context::setDeterministicAlgorithms(true)`, but this operation is not deterministic because it uses CuBLAS and you have CUDA >= 10.2. To enable deterministic behavior in this case, you must set an environment variable before running your PyTorch application: CUBLAS_WORKSPACE_CONFIG=:4096:8 or CUBLAS_WORKSPACE_CONFIG=:16:8. For more information, go to https://docs.nvidia.com/cuda/cublas/index.html#results-reproducibility (Triggered internally at ../aten/src/ATen/Context.cpp:185.)\n",
      "  return Variable._execution_engine.run_backward(  # Calls into the C++ engine to run the backward pass\n"
     ]
    },
    {
     "data": {
      "application/vnd.jupyter.widget-view+json": {
       "model_id": "9976c56e473543868865ebc3534f6875",
       "version_major": 2,
       "version_minor": 0
      },
      "text/plain": [
       "Validation: |                                                                                                 …"
      ]
     },
     "metadata": {},
     "output_type": "display_data"
    },
    {
     "data": {
      "application/vnd.jupyter.widget-view+json": {
       "model_id": "acbf902e387e4c8bb7e8c3785eb6ef96",
       "version_major": 2,
       "version_minor": 0
      },
      "text/plain": [
       "Validation: |                                                                                                 …"
      ]
     },
     "metadata": {},
     "output_type": "display_data"
    },
    {
     "data": {
      "application/vnd.jupyter.widget-view+json": {
       "model_id": "1b02f8d0494e4828878a60abd3ba46aa",
       "version_major": 2,
       "version_minor": 0
      },
      "text/plain": [
       "Validation: |                                                                                                 …"
      ]
     },
     "metadata": {},
     "output_type": "display_data"
    },
    {
     "data": {
      "application/vnd.jupyter.widget-view+json": {
       "model_id": "52d0b94cf22d47b28ffc60f640f8645b",
       "version_major": 2,
       "version_minor": 0
      },
      "text/plain": [
       "Validation: |                                                                                                 …"
      ]
     },
     "metadata": {},
     "output_type": "display_data"
    },
    {
     "data": {
      "application/vnd.jupyter.widget-view+json": {
       "model_id": "920a47836b3e478db7ddb81c49657c14",
       "version_major": 2,
       "version_minor": 0
      },
      "text/plain": [
       "Validation: |                                                                                                 …"
      ]
     },
     "metadata": {},
     "output_type": "display_data"
    },
    {
     "data": {
      "application/vnd.jupyter.widget-view+json": {
       "model_id": "947fd3459cec47f3b24d3c0437e250f8",
       "version_major": 2,
       "version_minor": 0
      },
      "text/plain": [
       "Validation: |                                                                                                 …"
      ]
     },
     "metadata": {},
     "output_type": "display_data"
    },
    {
     "data": {
      "application/vnd.jupyter.widget-view+json": {
       "model_id": "ad80b30f84174852833093608d33d8cc",
       "version_major": 2,
       "version_minor": 0
      },
      "text/plain": [
       "Validation: |                                                                                                 …"
      ]
     },
     "metadata": {},
     "output_type": "display_data"
    },
    {
     "data": {
      "application/vnd.jupyter.widget-view+json": {
       "model_id": "e470463463764ce3b676c68b0d4b6965",
       "version_major": 2,
       "version_minor": 0
      },
      "text/plain": [
       "Validation: |                                                                                                 …"
      ]
     },
     "metadata": {},
     "output_type": "display_data"
    },
    {
     "data": {
      "application/vnd.jupyter.widget-view+json": {
       "model_id": "2562023db2e445158e2f2be700cd5aa8",
       "version_major": 2,
       "version_minor": 0
      },
      "text/plain": [
       "Validation: |                                                                                                 …"
      ]
     },
     "metadata": {},
     "output_type": "display_data"
    },
    {
     "data": {
      "application/vnd.jupyter.widget-view+json": {
       "model_id": "29b30dc112b74f668e88be507f49c52a",
       "version_major": 2,
       "version_minor": 0
      },
      "text/plain": [
       "Validation: |                                                                                                 …"
      ]
     },
     "metadata": {},
     "output_type": "display_data"
    },
    {
     "data": {
      "application/vnd.jupyter.widget-view+json": {
       "model_id": "b99dc7b1a1984920a7248f3152a18e93",
       "version_major": 2,
       "version_minor": 0
      },
      "text/plain": [
       "Validation: |                                                                                                 …"
      ]
     },
     "metadata": {},
     "output_type": "display_data"
    },
    {
     "data": {
      "application/vnd.jupyter.widget-view+json": {
       "model_id": "6aac008a711c4ab3bd0a983fd9dd9127",
       "version_major": 2,
       "version_minor": 0
      },
      "text/plain": [
       "Validation: |                                                                                                 …"
      ]
     },
     "metadata": {},
     "output_type": "display_data"
    },
    {
     "data": {
      "application/vnd.jupyter.widget-view+json": {
       "model_id": "0efffc3796204d2e9740b9bc841830f9",
       "version_major": 2,
       "version_minor": 0
      },
      "text/plain": [
       "Validation: |                                                                                                 …"
      ]
     },
     "metadata": {},
     "output_type": "display_data"
    },
    {
     "data": {
      "application/vnd.jupyter.widget-view+json": {
       "model_id": "eb4f8e665a47490aa3f06b345632b316",
       "version_major": 2,
       "version_minor": 0
      },
      "text/plain": [
       "Validation: |                                                                                                 …"
      ]
     },
     "metadata": {},
     "output_type": "display_data"
    },
    {
     "data": {
      "application/vnd.jupyter.widget-view+json": {
       "model_id": "454fea85a06049c085fb5b98e24caa9c",
       "version_major": 2,
       "version_minor": 0
      },
      "text/plain": [
       "Validation: |                                                                                                 …"
      ]
     },
     "metadata": {},
     "output_type": "display_data"
    },
    {
     "data": {
      "application/vnd.jupyter.widget-view+json": {
       "model_id": "a5df020f27b44a3d9d7b5dcfa29d3c63",
       "version_major": 2,
       "version_minor": 0
      },
      "text/plain": [
       "Validation: |                                                                                                 …"
      ]
     },
     "metadata": {},
     "output_type": "display_data"
    },
    {
     "data": {
      "application/vnd.jupyter.widget-view+json": {
       "model_id": "5969e97119cd49eba5306767ae2ffb0d",
       "version_major": 2,
       "version_minor": 0
      },
      "text/plain": [
       "Validation: |                                                                                                 …"
      ]
     },
     "metadata": {},
     "output_type": "display_data"
    },
    {
     "data": {
      "application/vnd.jupyter.widget-view+json": {
       "model_id": "976f67359f1c4315a19fa33d8af28fa9",
       "version_major": 2,
       "version_minor": 0
      },
      "text/plain": [
       "Validation: |                                                                                                 …"
      ]
     },
     "metadata": {},
     "output_type": "display_data"
    },
    {
     "data": {
      "application/vnd.jupyter.widget-view+json": {
       "model_id": "522a5425b6d9476c803fc8f36721d8fd",
       "version_major": 2,
       "version_minor": 0
      },
      "text/plain": [
       "Validation: |                                                                                                 …"
      ]
     },
     "metadata": {},
     "output_type": "display_data"
    },
    {
     "data": {
      "application/vnd.jupyter.widget-view+json": {
       "model_id": "acaeaced1ca34c798a9396bb70267a47",
       "version_major": 2,
       "version_minor": 0
      },
      "text/plain": [
       "Validation: |                                                                                                 …"
      ]
     },
     "metadata": {},
     "output_type": "display_data"
    },
    {
     "data": {
      "application/vnd.jupyter.widget-view+json": {
       "model_id": "56a5ce5518db420487446d7f9d34baaf",
       "version_major": 2,
       "version_minor": 0
      },
      "text/plain": [
       "Validation: |                                                                                                 …"
      ]
     },
     "metadata": {},
     "output_type": "display_data"
    },
    {
     "data": {
      "application/vnd.jupyter.widget-view+json": {
       "model_id": "e8c36336eec6449fab729fba2f0518dd",
       "version_major": 2,
       "version_minor": 0
      },
      "text/plain": [
       "Validation: |                                                                                                 …"
      ]
     },
     "metadata": {},
     "output_type": "display_data"
    },
    {
     "data": {
      "application/vnd.jupyter.widget-view+json": {
       "model_id": "79559ad0437e42858c4b32723dc76cf2",
       "version_major": 2,
       "version_minor": 0
      },
      "text/plain": [
       "Validation: |                                                                                                 …"
      ]
     },
     "metadata": {},
     "output_type": "display_data"
    },
    {
     "data": {
      "application/vnd.jupyter.widget-view+json": {
       "model_id": "e4e77a006a96406cac43f92193f6239a",
       "version_major": 2,
       "version_minor": 0
      },
      "text/plain": [
       "Validation: |                                                                                                 …"
      ]
     },
     "metadata": {},
     "output_type": "display_data"
    },
    {
     "data": {
      "application/vnd.jupyter.widget-view+json": {
       "model_id": "441b78d933d647438c534437f3a11df9",
       "version_major": 2,
       "version_minor": 0
      },
      "text/plain": [
       "Validation: |                                                                                                 …"
      ]
     },
     "metadata": {},
     "output_type": "display_data"
    },
    {
     "data": {
      "application/vnd.jupyter.widget-view+json": {
       "model_id": "2c41b06d28be4344a9d677f50c93ae78",
       "version_major": 2,
       "version_minor": 0
      },
      "text/plain": [
       "Validation: |                                                                                                 …"
      ]
     },
     "metadata": {},
     "output_type": "display_data"
    },
    {
     "data": {
      "application/vnd.jupyter.widget-view+json": {
       "model_id": "191cf8ba4f164c0cb59d8c8bf7975e8d",
       "version_major": 2,
       "version_minor": 0
      },
      "text/plain": [
       "Validation: |                                                                                                 …"
      ]
     },
     "metadata": {},
     "output_type": "display_data"
    },
    {
     "data": {
      "application/vnd.jupyter.widget-view+json": {
       "model_id": "85b90c8b9a6047388a7e34cc69d154ef",
       "version_major": 2,
       "version_minor": 0
      },
      "text/plain": [
       "Validation: |                                                                                                 …"
      ]
     },
     "metadata": {},
     "output_type": "display_data"
    },
    {
     "data": {
      "application/vnd.jupyter.widget-view+json": {
       "model_id": "6a09e267bc8c4173a62ca073dc298e90",
       "version_major": 2,
       "version_minor": 0
      },
      "text/plain": [
       "Validation: |                                                                                                 …"
      ]
     },
     "metadata": {},
     "output_type": "display_data"
    },
    {
     "data": {
      "application/vnd.jupyter.widget-view+json": {
       "model_id": "388f882f870e4084be5e982593b70b04",
       "version_major": 2,
       "version_minor": 0
      },
      "text/plain": [
       "Validation: |                                                                                                 …"
      ]
     },
     "metadata": {},
     "output_type": "display_data"
    },
    {
     "name": "stderr",
     "output_type": "stream",
     "text": [
      "`Trainer.fit` stopped: `max_epochs=30` reached.\n",
      "LOCAL_RANK: 0 - CUDA_VISIBLE_DEVICES: [0,1,2,3,4,5,6]\n",
      "/opt/conda/envs/audio/lib/python3.10/site-packages/pytorch_lightning/trainer/connectors/data_connector.py:441: The 'test_dataloader' does not have many workers which may be a bottleneck. Consider increasing the value of the `num_workers` argument` to `num_workers=127` in the `DataLoader` to improve performance.\n"
     ]
    },
    {
     "data": {
      "application/vnd.jupyter.widget-view+json": {
       "model_id": "d5a07e02431641f19f9ff8f6f5f1b95c",
       "version_major": 2,
       "version_minor": 0
      },
      "text/plain": [
       "Testing: |                                                                                                    …"
      ]
     },
     "metadata": {},
     "output_type": "display_data"
    },
    {
     "name": "stderr",
     "output_type": "stream",
     "text": [
      "/opt/conda/envs/audio/lib/python3.10/site-packages/sklearn/model_selection/_split.py:737: UserWarning: The least populated class in y has only 1 members, which is less than n_splits=2.\n",
      "  warnings.warn(\n",
      "GPU available: True (cuda), used: True\n",
      "TPU available: False, using: 0 TPU cores\n",
      "IPU available: False, using: 0 IPUs\n",
      "HPU available: False, using: 0 HPUs\n",
      "LOCAL_RANK: 0 - CUDA_VISIBLE_DEVICES: [0,1,2,3,4,5,6]\n",
      "\n",
      "   | Name          | Type               | Params\n",
      "------------------------------------------------------\n",
      "0  | tab_enc       | TabularEncoder     | 4.9 K \n",
      "1  | rnn           | GRU                | 369 K \n",
      "2  | head          | Linear             | 129   \n",
      "3  | criterion     | MSELoss            | 0     \n",
      "4  | train_mae     | MeanAbsoluteError  | 0     \n",
      "5  | val_mae       | MeanAbsoluteError  | 0     \n",
      "6  | test_mae      | MeanAbsoluteError  | 0     \n",
      "7  | train_rmse    | MeanSquaredError   | 0     \n",
      "8  | val_rmse      | MeanSquaredError   | 0     \n",
      "9  | test_rmse     | MeanSquaredError   | 0     \n",
      "10 | train_acc     | MulticlassAccuracy | 0     \n",
      "11 | val_acc       | MulticlassAccuracy | 0     \n",
      "12 | test_acc      | MulticlassAccuracy | 0     \n",
      "13 | train_acc_tol | SumMetric          | 0     \n",
      "14 | val_acc_tol   | SumMetric          | 0     \n",
      "15 | test_acc_tol  | SumMetric          | 0     \n",
      "16 | train_cnt     | SumMetric          | 0     \n",
      "17 | val_cnt       | SumMetric          | 0     \n",
      "18 | test_cnt      | SumMetric          | 0     \n",
      "19 | train_auroc   | MulticlassAUROC    | 0     \n",
      "20 | val_auroc     | MulticlassAUROC    | 0     \n",
      "21 | test_auroc    | MulticlassAUROC    | 0     \n",
      "------------------------------------------------------\n",
      "374 K     Trainable params\n",
      "0         Non-trainable params\n",
      "374 K     Total params\n",
      "1.498     Total estimated model params size (MB)\n"
     ]
    },
    {
     "name": "stdout",
     "output_type": "stream",
     "text": [
      "Fold 4 (Test PID: WEBSS-006): {'test_loss': 3.15878963470459, 'test_mae': 1.6564669609069824, 'test_rmse': 1.7772984504699707, 'test_acc': 0.0, 'test_acc±1': 0.25, 'auroc': 0.2142857313156128, 'fold': 4, 'test_pid': 'WEBSS-006'}\n"
     ]
    },
    {
     "data": {
      "application/vnd.jupyter.widget-view+json": {
       "model_id": "4f0bb7d0b3ca4b378b8817dce1938173",
       "version_major": 2,
       "version_minor": 0
      },
      "text/plain": [
       "Sanity Checking: |                                                                                            …"
      ]
     },
     "metadata": {},
     "output_type": "display_data"
    },
    {
     "name": "stderr",
     "output_type": "stream",
     "text": [
      "/opt/conda/envs/audio/lib/python3.10/site-packages/pytorch_lightning/trainer/connectors/data_connector.py:441: The 'val_dataloader' does not have many workers which may be a bottleneck. Consider increasing the value of the `num_workers` argument` to `num_workers=127` in the `DataLoader` to improve performance.\n",
      "/opt/conda/envs/audio/lib/python3.10/site-packages/torch/nn/modules/linear.py:116: UserWarning: Deterministic behavior was enabled with either `torch.use_deterministic_algorithms(True)` or `at::Context::setDeterministicAlgorithms(true)`, but this operation is not deterministic because it uses CuBLAS and you have CUDA >= 10.2. To enable deterministic behavior in this case, you must set an environment variable before running your PyTorch application: CUBLAS_WORKSPACE_CONFIG=:4096:8 or CUBLAS_WORKSPACE_CONFIG=:16:8. For more information, go to https://docs.nvidia.com/cuda/cublas/index.html#results-reproducibility (Triggered internally at ../aten/src/ATen/Context.cpp:185.)\n",
      "  return F.linear(input, self.weight, self.bias)\n",
      "/opt/conda/envs/audio/lib/python3.10/site-packages/torchmetrics/utilities/prints.py:43: TorchMetricsUserWarning: You are trying to use a metric in deterministic mode on GPU that uses `torch.cumsum`, which is currently not supported. The tensor will be copied to the CPU memory to compute it and then copied back to GPU. Expect some slowdowns.\n",
      "  warnings.warn(*args, **kwargs)  # noqa: B028\n",
      "/opt/conda/envs/audio/lib/python3.10/site-packages/torchmetrics/utilities/prints.py:43: UserWarning: No positive samples in targets, true positive value should be meaningless. Returning zero tensor in true positive score\n",
      "  warnings.warn(*args, **kwargs)  # noqa: B028\n",
      "/opt/conda/envs/audio/lib/python3.10/site-packages/pytorch_lightning/trainer/connectors/data_connector.py:441: The 'train_dataloader' does not have many workers which may be a bottleneck. Consider increasing the value of the `num_workers` argument` to `num_workers=127` in the `DataLoader` to improve performance.\n",
      "/opt/conda/envs/audio/lib/python3.10/site-packages/pytorch_lightning/loops/fit_loop.py:298: The number of training batches (4) is smaller than the logging interval Trainer(log_every_n_steps=50). Set a lower value for log_every_n_steps if you want to see logs for the training epoch.\n"
     ]
    },
    {
     "data": {
      "application/vnd.jupyter.widget-view+json": {
       "model_id": "93d5c3ca5066430bbd0607c451fd9891",
       "version_major": 2,
       "version_minor": 0
      },
      "text/plain": [
       "Training: |                                                                                                   …"
      ]
     },
     "metadata": {},
     "output_type": "display_data"
    },
    {
     "name": "stderr",
     "output_type": "stream",
     "text": [
      "/opt/conda/envs/audio/lib/python3.10/site-packages/torch/autograd/graph.py:744: UserWarning: Deterministic behavior was enabled with either `torch.use_deterministic_algorithms(True)` or `at::Context::setDeterministicAlgorithms(true)`, but this operation is not deterministic because it uses CuBLAS and you have CUDA >= 10.2. To enable deterministic behavior in this case, you must set an environment variable before running your PyTorch application: CUBLAS_WORKSPACE_CONFIG=:4096:8 or CUBLAS_WORKSPACE_CONFIG=:16:8. For more information, go to https://docs.nvidia.com/cuda/cublas/index.html#results-reproducibility (Triggered internally at ../aten/src/ATen/Context.cpp:185.)\n",
      "  return Variable._execution_engine.run_backward(  # Calls into the C++ engine to run the backward pass\n"
     ]
    },
    {
     "data": {
      "application/vnd.jupyter.widget-view+json": {
       "model_id": "08c119ac2d9442c2a9d7f21665d7943c",
       "version_major": 2,
       "version_minor": 0
      },
      "text/plain": [
       "Validation: |                                                                                                 …"
      ]
     },
     "metadata": {},
     "output_type": "display_data"
    },
    {
     "data": {
      "application/vnd.jupyter.widget-view+json": {
       "model_id": "a555854b04c74b15ace3a04b07d90530",
       "version_major": 2,
       "version_minor": 0
      },
      "text/plain": [
       "Validation: |                                                                                                 …"
      ]
     },
     "metadata": {},
     "output_type": "display_data"
    },
    {
     "data": {
      "application/vnd.jupyter.widget-view+json": {
       "model_id": "702f2b4021b6472c8887465fb8ebb2b3",
       "version_major": 2,
       "version_minor": 0
      },
      "text/plain": [
       "Validation: |                                                                                                 …"
      ]
     },
     "metadata": {},
     "output_type": "display_data"
    },
    {
     "data": {
      "application/vnd.jupyter.widget-view+json": {
       "model_id": "c3897d7405b8423080cf65d652691f6a",
       "version_major": 2,
       "version_minor": 0
      },
      "text/plain": [
       "Validation: |                                                                                                 …"
      ]
     },
     "metadata": {},
     "output_type": "display_data"
    },
    {
     "data": {
      "application/vnd.jupyter.widget-view+json": {
       "model_id": "2ea5cadb0e984002a389cc7f271903f0",
       "version_major": 2,
       "version_minor": 0
      },
      "text/plain": [
       "Validation: |                                                                                                 …"
      ]
     },
     "metadata": {},
     "output_type": "display_data"
    },
    {
     "data": {
      "application/vnd.jupyter.widget-view+json": {
       "model_id": "b842217e3880441fb6d7dee99fbd621c",
       "version_major": 2,
       "version_minor": 0
      },
      "text/plain": [
       "Validation: |                                                                                                 …"
      ]
     },
     "metadata": {},
     "output_type": "display_data"
    },
    {
     "data": {
      "application/vnd.jupyter.widget-view+json": {
       "model_id": "792261d46d1348f295b96d29c7674516",
       "version_major": 2,
       "version_minor": 0
      },
      "text/plain": [
       "Validation: |                                                                                                 …"
      ]
     },
     "metadata": {},
     "output_type": "display_data"
    },
    {
     "data": {
      "application/vnd.jupyter.widget-view+json": {
       "model_id": "2d8e42436a1440d59cdcd99d1184d2f1",
       "version_major": 2,
       "version_minor": 0
      },
      "text/plain": [
       "Validation: |                                                                                                 …"
      ]
     },
     "metadata": {},
     "output_type": "display_data"
    },
    {
     "data": {
      "application/vnd.jupyter.widget-view+json": {
       "model_id": "fe56f5b4fdcc489c8828186b65145349",
       "version_major": 2,
       "version_minor": 0
      },
      "text/plain": [
       "Validation: |                                                                                                 …"
      ]
     },
     "metadata": {},
     "output_type": "display_data"
    },
    {
     "data": {
      "application/vnd.jupyter.widget-view+json": {
       "model_id": "c18a8e0edd554765b4ca0abb260c236d",
       "version_major": 2,
       "version_minor": 0
      },
      "text/plain": [
       "Validation: |                                                                                                 …"
      ]
     },
     "metadata": {},
     "output_type": "display_data"
    },
    {
     "data": {
      "application/vnd.jupyter.widget-view+json": {
       "model_id": "d538592c3e934359ab42eaf2ed222ae0",
       "version_major": 2,
       "version_minor": 0
      },
      "text/plain": [
       "Validation: |                                                                                                 …"
      ]
     },
     "metadata": {},
     "output_type": "display_data"
    },
    {
     "data": {
      "application/vnd.jupyter.widget-view+json": {
       "model_id": "b9b7ce3d25cb4391b9f5ea453afccb46",
       "version_major": 2,
       "version_minor": 0
      },
      "text/plain": [
       "Validation: |                                                                                                 …"
      ]
     },
     "metadata": {},
     "output_type": "display_data"
    },
    {
     "data": {
      "application/vnd.jupyter.widget-view+json": {
       "model_id": "b6283098bd4145358a84caf47fb43722",
       "version_major": 2,
       "version_minor": 0
      },
      "text/plain": [
       "Validation: |                                                                                                 …"
      ]
     },
     "metadata": {},
     "output_type": "display_data"
    },
    {
     "data": {
      "application/vnd.jupyter.widget-view+json": {
       "model_id": "24598907950e4d8c8229ba438ba69ff8",
       "version_major": 2,
       "version_minor": 0
      },
      "text/plain": [
       "Validation: |                                                                                                 …"
      ]
     },
     "metadata": {},
     "output_type": "display_data"
    },
    {
     "data": {
      "application/vnd.jupyter.widget-view+json": {
       "model_id": "e05cd39404bf4418aa37b7e700afafb9",
       "version_major": 2,
       "version_minor": 0
      },
      "text/plain": [
       "Validation: |                                                                                                 …"
      ]
     },
     "metadata": {},
     "output_type": "display_data"
    },
    {
     "data": {
      "application/vnd.jupyter.widget-view+json": {
       "model_id": "d08ca7c8defd463b86c4abd958604001",
       "version_major": 2,
       "version_minor": 0
      },
      "text/plain": [
       "Validation: |                                                                                                 …"
      ]
     },
     "metadata": {},
     "output_type": "display_data"
    },
    {
     "data": {
      "application/vnd.jupyter.widget-view+json": {
       "model_id": "dcf61741796741a79984996c8ca599f5",
       "version_major": 2,
       "version_minor": 0
      },
      "text/plain": [
       "Validation: |                                                                                                 …"
      ]
     },
     "metadata": {},
     "output_type": "display_data"
    },
    {
     "data": {
      "application/vnd.jupyter.widget-view+json": {
       "model_id": "b7131de403504fd29d1eff37bbd3d451",
       "version_major": 2,
       "version_minor": 0
      },
      "text/plain": [
       "Validation: |                                                                                                 …"
      ]
     },
     "metadata": {},
     "output_type": "display_data"
    },
    {
     "data": {
      "application/vnd.jupyter.widget-view+json": {
       "model_id": "c95d645e67d6466c8e385dcf979476f6",
       "version_major": 2,
       "version_minor": 0
      },
      "text/plain": [
       "Validation: |                                                                                                 …"
      ]
     },
     "metadata": {},
     "output_type": "display_data"
    },
    {
     "data": {
      "application/vnd.jupyter.widget-view+json": {
       "model_id": "130db9096a24401da6d0660ba82d3bd5",
       "version_major": 2,
       "version_minor": 0
      },
      "text/plain": [
       "Validation: |                                                                                                 …"
      ]
     },
     "metadata": {},
     "output_type": "display_data"
    },
    {
     "data": {
      "application/vnd.jupyter.widget-view+json": {
       "model_id": "6dcccfa3f7654a5287b08b977b122c81",
       "version_major": 2,
       "version_minor": 0
      },
      "text/plain": [
       "Validation: |                                                                                                 …"
      ]
     },
     "metadata": {},
     "output_type": "display_data"
    },
    {
     "data": {
      "application/vnd.jupyter.widget-view+json": {
       "model_id": "012b6def2cca4a8abf16ffa63e3f9924",
       "version_major": 2,
       "version_minor": 0
      },
      "text/plain": [
       "Validation: |                                                                                                 …"
      ]
     },
     "metadata": {},
     "output_type": "display_data"
    },
    {
     "data": {
      "application/vnd.jupyter.widget-view+json": {
       "model_id": "8103c4c2d2cf4f5b97334768ee340c09",
       "version_major": 2,
       "version_minor": 0
      },
      "text/plain": [
       "Validation: |                                                                                                 …"
      ]
     },
     "metadata": {},
     "output_type": "display_data"
    },
    {
     "data": {
      "application/vnd.jupyter.widget-view+json": {
       "model_id": "a5f512b29cb348ca9e88fbebdff7c40c",
       "version_major": 2,
       "version_minor": 0
      },
      "text/plain": [
       "Validation: |                                                                                                 …"
      ]
     },
     "metadata": {},
     "output_type": "display_data"
    },
    {
     "data": {
      "application/vnd.jupyter.widget-view+json": {
       "model_id": "7827eb2aa809428e99091de05a020209",
       "version_major": 2,
       "version_minor": 0
      },
      "text/plain": [
       "Validation: |                                                                                                 …"
      ]
     },
     "metadata": {},
     "output_type": "display_data"
    },
    {
     "data": {
      "application/vnd.jupyter.widget-view+json": {
       "model_id": "46415676742948228294b073c5c63a28",
       "version_major": 2,
       "version_minor": 0
      },
      "text/plain": [
       "Validation: |                                                                                                 …"
      ]
     },
     "metadata": {},
     "output_type": "display_data"
    },
    {
     "data": {
      "application/vnd.jupyter.widget-view+json": {
       "model_id": "779675d7d075419e992ab449236b1db3",
       "version_major": 2,
       "version_minor": 0
      },
      "text/plain": [
       "Validation: |                                                                                                 …"
      ]
     },
     "metadata": {},
     "output_type": "display_data"
    },
    {
     "data": {
      "application/vnd.jupyter.widget-view+json": {
       "model_id": "450f683b50314c2c8e0d124e6ac119f9",
       "version_major": 2,
       "version_minor": 0
      },
      "text/plain": [
       "Validation: |                                                                                                 …"
      ]
     },
     "metadata": {},
     "output_type": "display_data"
    },
    {
     "data": {
      "application/vnd.jupyter.widget-view+json": {
       "model_id": "99aa0b99e4604850893ec607b3336763",
       "version_major": 2,
       "version_minor": 0
      },
      "text/plain": [
       "Validation: |                                                                                                 …"
      ]
     },
     "metadata": {},
     "output_type": "display_data"
    },
    {
     "data": {
      "application/vnd.jupyter.widget-view+json": {
       "model_id": "391d784f1fd643c0927eced8de529788",
       "version_major": 2,
       "version_minor": 0
      },
      "text/plain": [
       "Validation: |                                                                                                 …"
      ]
     },
     "metadata": {},
     "output_type": "display_data"
    },
    {
     "name": "stderr",
     "output_type": "stream",
     "text": [
      "`Trainer.fit` stopped: `max_epochs=30` reached.\n",
      "LOCAL_RANK: 0 - CUDA_VISIBLE_DEVICES: [0,1,2,3,4,5,6]\n",
      "/opt/conda/envs/audio/lib/python3.10/site-packages/pytorch_lightning/trainer/connectors/data_connector.py:441: The 'test_dataloader' does not have many workers which may be a bottleneck. Consider increasing the value of the `num_workers` argument` to `num_workers=127` in the `DataLoader` to improve performance.\n"
     ]
    },
    {
     "data": {
      "application/vnd.jupyter.widget-view+json": {
       "model_id": "6958f3a258e342fdb99da0846dd1069d",
       "version_major": 2,
       "version_minor": 0
      },
      "text/plain": [
       "Testing: |                                                                                                    …"
      ]
     },
     "metadata": {},
     "output_type": "display_data"
    },
    {
     "name": "stderr",
     "output_type": "stream",
     "text": [
      "/opt/conda/envs/audio/lib/python3.10/site-packages/sklearn/model_selection/_split.py:737: UserWarning: The least populated class in y has only 1 members, which is less than n_splits=2.\n",
      "  warnings.warn(\n",
      "GPU available: True (cuda), used: True\n",
      "TPU available: False, using: 0 TPU cores\n",
      "IPU available: False, using: 0 IPUs\n",
      "HPU available: False, using: 0 HPUs\n",
      "LOCAL_RANK: 0 - CUDA_VISIBLE_DEVICES: [0,1,2,3,4,5,6]\n",
      "\n",
      "   | Name          | Type               | Params\n",
      "------------------------------------------------------\n",
      "0  | tab_enc       | TabularEncoder     | 4.9 K \n",
      "1  | rnn           | GRU                | 369 K \n",
      "2  | head          | Linear             | 129   \n",
      "3  | criterion     | MSELoss            | 0     \n",
      "4  | train_mae     | MeanAbsoluteError  | 0     \n",
      "5  | val_mae       | MeanAbsoluteError  | 0     \n",
      "6  | test_mae      | MeanAbsoluteError  | 0     \n",
      "7  | train_rmse    | MeanSquaredError   | 0     \n",
      "8  | val_rmse      | MeanSquaredError   | 0     \n",
      "9  | test_rmse     | MeanSquaredError   | 0     \n",
      "10 | train_acc     | MulticlassAccuracy | 0     \n",
      "11 | val_acc       | MulticlassAccuracy | 0     \n",
      "12 | test_acc      | MulticlassAccuracy | 0     \n",
      "13 | train_acc_tol | SumMetric          | 0     \n",
      "14 | val_acc_tol   | SumMetric          | 0     \n",
      "15 | test_acc_tol  | SumMetric          | 0     \n",
      "16 | train_cnt     | SumMetric          | 0     \n",
      "17 | val_cnt       | SumMetric          | 0     \n",
      "18 | test_cnt      | SumMetric          | 0     \n",
      "19 | train_auroc   | MulticlassAUROC    | 0     \n",
      "20 | val_auroc     | MulticlassAUROC    | 0     \n",
      "21 | test_auroc    | MulticlassAUROC    | 0     \n",
      "------------------------------------------------------\n",
      "374 K     Trainable params\n",
      "0         Non-trainable params\n",
      "374 K     Total params\n",
      "1.498     Total estimated model params size (MB)\n"
     ]
    },
    {
     "name": "stdout",
     "output_type": "stream",
     "text": [
      "Fold 5 (Test PID: WEBSS-007): {'test_loss': 6.624994277954102, 'test_mae': 2.4927175045013428, 'test_rmse': 2.573906421661377, 'test_acc': 0.0, 'test_acc±1': 0.0, 'auroc': 0.1428571492433548, 'fold': 5, 'test_pid': 'WEBSS-007'}\n"
     ]
    },
    {
     "data": {
      "application/vnd.jupyter.widget-view+json": {
       "model_id": "16fcbb96a69044819b7e9e94fdd4fb8e",
       "version_major": 2,
       "version_minor": 0
      },
      "text/plain": [
       "Sanity Checking: |                                                                                            …"
      ]
     },
     "metadata": {},
     "output_type": "display_data"
    },
    {
     "name": "stderr",
     "output_type": "stream",
     "text": [
      "/opt/conda/envs/audio/lib/python3.10/site-packages/pytorch_lightning/trainer/connectors/data_connector.py:441: The 'val_dataloader' does not have many workers which may be a bottleneck. Consider increasing the value of the `num_workers` argument` to `num_workers=127` in the `DataLoader` to improve performance.\n",
      "/opt/conda/envs/audio/lib/python3.10/site-packages/torch/nn/modules/linear.py:116: UserWarning: Deterministic behavior was enabled with either `torch.use_deterministic_algorithms(True)` or `at::Context::setDeterministicAlgorithms(true)`, but this operation is not deterministic because it uses CuBLAS and you have CUDA >= 10.2. To enable deterministic behavior in this case, you must set an environment variable before running your PyTorch application: CUBLAS_WORKSPACE_CONFIG=:4096:8 or CUBLAS_WORKSPACE_CONFIG=:16:8. For more information, go to https://docs.nvidia.com/cuda/cublas/index.html#results-reproducibility (Triggered internally at ../aten/src/ATen/Context.cpp:185.)\n",
      "  return F.linear(input, self.weight, self.bias)\n",
      "/opt/conda/envs/audio/lib/python3.10/site-packages/torchmetrics/utilities/prints.py:43: TorchMetricsUserWarning: You are trying to use a metric in deterministic mode on GPU that uses `torch.cumsum`, which is currently not supported. The tensor will be copied to the CPU memory to compute it and then copied back to GPU. Expect some slowdowns.\n",
      "  warnings.warn(*args, **kwargs)  # noqa: B028\n",
      "/opt/conda/envs/audio/lib/python3.10/site-packages/torchmetrics/utilities/prints.py:43: UserWarning: No positive samples in targets, true positive value should be meaningless. Returning zero tensor in true positive score\n",
      "  warnings.warn(*args, **kwargs)  # noqa: B028\n",
      "/opt/conda/envs/audio/lib/python3.10/site-packages/pytorch_lightning/trainer/connectors/data_connector.py:441: The 'train_dataloader' does not have many workers which may be a bottleneck. Consider increasing the value of the `num_workers` argument` to `num_workers=127` in the `DataLoader` to improve performance.\n",
      "/opt/conda/envs/audio/lib/python3.10/site-packages/pytorch_lightning/loops/fit_loop.py:298: The number of training batches (4) is smaller than the logging interval Trainer(log_every_n_steps=50). Set a lower value for log_every_n_steps if you want to see logs for the training epoch.\n"
     ]
    },
    {
     "data": {
      "application/vnd.jupyter.widget-view+json": {
       "model_id": "22cf81cef3524238afdb49962207afe4",
       "version_major": 2,
       "version_minor": 0
      },
      "text/plain": [
       "Training: |                                                                                                   …"
      ]
     },
     "metadata": {},
     "output_type": "display_data"
    },
    {
     "name": "stderr",
     "output_type": "stream",
     "text": [
      "/opt/conda/envs/audio/lib/python3.10/site-packages/torch/autograd/graph.py:744: UserWarning: Deterministic behavior was enabled with either `torch.use_deterministic_algorithms(True)` or `at::Context::setDeterministicAlgorithms(true)`, but this operation is not deterministic because it uses CuBLAS and you have CUDA >= 10.2. To enable deterministic behavior in this case, you must set an environment variable before running your PyTorch application: CUBLAS_WORKSPACE_CONFIG=:4096:8 or CUBLAS_WORKSPACE_CONFIG=:16:8. For more information, go to https://docs.nvidia.com/cuda/cublas/index.html#results-reproducibility (Triggered internally at ../aten/src/ATen/Context.cpp:185.)\n",
      "  return Variable._execution_engine.run_backward(  # Calls into the C++ engine to run the backward pass\n"
     ]
    },
    {
     "data": {
      "application/vnd.jupyter.widget-view+json": {
       "model_id": "e2bd1c77c3b34bf5bd18aab45ca1daae",
       "version_major": 2,
       "version_minor": 0
      },
      "text/plain": [
       "Validation: |                                                                                                 …"
      ]
     },
     "metadata": {},
     "output_type": "display_data"
    },
    {
     "data": {
      "application/vnd.jupyter.widget-view+json": {
       "model_id": "0a98c5d2465c4c5f8e18aebe7237af0e",
       "version_major": 2,
       "version_minor": 0
      },
      "text/plain": [
       "Validation: |                                                                                                 …"
      ]
     },
     "metadata": {},
     "output_type": "display_data"
    },
    {
     "data": {
      "application/vnd.jupyter.widget-view+json": {
       "model_id": "4ba32114906b4ef583607d6bec9c8fa8",
       "version_major": 2,
       "version_minor": 0
      },
      "text/plain": [
       "Validation: |                                                                                                 …"
      ]
     },
     "metadata": {},
     "output_type": "display_data"
    },
    {
     "data": {
      "application/vnd.jupyter.widget-view+json": {
       "model_id": "6552af074b474bbf9b3166f8df4ff336",
       "version_major": 2,
       "version_minor": 0
      },
      "text/plain": [
       "Validation: |                                                                                                 …"
      ]
     },
     "metadata": {},
     "output_type": "display_data"
    },
    {
     "data": {
      "application/vnd.jupyter.widget-view+json": {
       "model_id": "088bd0600f0d47f28ad7d60139211009",
       "version_major": 2,
       "version_minor": 0
      },
      "text/plain": [
       "Validation: |                                                                                                 …"
      ]
     },
     "metadata": {},
     "output_type": "display_data"
    },
    {
     "data": {
      "application/vnd.jupyter.widget-view+json": {
       "model_id": "90f0afe71c144e1b9e8c83998f0a208d",
       "version_major": 2,
       "version_minor": 0
      },
      "text/plain": [
       "Validation: |                                                                                                 …"
      ]
     },
     "metadata": {},
     "output_type": "display_data"
    },
    {
     "data": {
      "application/vnd.jupyter.widget-view+json": {
       "model_id": "f82497861b534c409e288b99f0e679d2",
       "version_major": 2,
       "version_minor": 0
      },
      "text/plain": [
       "Validation: |                                                                                                 …"
      ]
     },
     "metadata": {},
     "output_type": "display_data"
    },
    {
     "data": {
      "application/vnd.jupyter.widget-view+json": {
       "model_id": "1a88bfee92714eea86d0236cbf5ed76b",
       "version_major": 2,
       "version_minor": 0
      },
      "text/plain": [
       "Validation: |                                                                                                 …"
      ]
     },
     "metadata": {},
     "output_type": "display_data"
    },
    {
     "data": {
      "application/vnd.jupyter.widget-view+json": {
       "model_id": "4db9a586b4ae4de1b30a94b1b85cb363",
       "version_major": 2,
       "version_minor": 0
      },
      "text/plain": [
       "Validation: |                                                                                                 …"
      ]
     },
     "metadata": {},
     "output_type": "display_data"
    },
    {
     "data": {
      "application/vnd.jupyter.widget-view+json": {
       "model_id": "aa3b4e3781bc4a8496aa128dac6ce715",
       "version_major": 2,
       "version_minor": 0
      },
      "text/plain": [
       "Validation: |                                                                                                 …"
      ]
     },
     "metadata": {},
     "output_type": "display_data"
    },
    {
     "data": {
      "application/vnd.jupyter.widget-view+json": {
       "model_id": "721b6354608f41298c0db333de3580da",
       "version_major": 2,
       "version_minor": 0
      },
      "text/plain": [
       "Validation: |                                                                                                 …"
      ]
     },
     "metadata": {},
     "output_type": "display_data"
    },
    {
     "data": {
      "application/vnd.jupyter.widget-view+json": {
       "model_id": "341796a11a33440a91fb31af76cf9a6a",
       "version_major": 2,
       "version_minor": 0
      },
      "text/plain": [
       "Validation: |                                                                                                 …"
      ]
     },
     "metadata": {},
     "output_type": "display_data"
    },
    {
     "data": {
      "application/vnd.jupyter.widget-view+json": {
       "model_id": "7d38203a3a5e4123a368d5fc461e5739",
       "version_major": 2,
       "version_minor": 0
      },
      "text/plain": [
       "Validation: |                                                                                                 …"
      ]
     },
     "metadata": {},
     "output_type": "display_data"
    },
    {
     "data": {
      "application/vnd.jupyter.widget-view+json": {
       "model_id": "d4518c58b084499eb3a16c8ccdec8a19",
       "version_major": 2,
       "version_minor": 0
      },
      "text/plain": [
       "Validation: |                                                                                                 …"
      ]
     },
     "metadata": {},
     "output_type": "display_data"
    },
    {
     "data": {
      "application/vnd.jupyter.widget-view+json": {
       "model_id": "87f0e9d4f62f41b7837f321ca729d839",
       "version_major": 2,
       "version_minor": 0
      },
      "text/plain": [
       "Validation: |                                                                                                 …"
      ]
     },
     "metadata": {},
     "output_type": "display_data"
    },
    {
     "data": {
      "application/vnd.jupyter.widget-view+json": {
       "model_id": "b570e728800040cfb77ecdf510c6b4a1",
       "version_major": 2,
       "version_minor": 0
      },
      "text/plain": [
       "Validation: |                                                                                                 …"
      ]
     },
     "metadata": {},
     "output_type": "display_data"
    },
    {
     "data": {
      "application/vnd.jupyter.widget-view+json": {
       "model_id": "97d2d0e6e7e44cb9ab8a0e8c71f00702",
       "version_major": 2,
       "version_minor": 0
      },
      "text/plain": [
       "Validation: |                                                                                                 …"
      ]
     },
     "metadata": {},
     "output_type": "display_data"
    },
    {
     "data": {
      "application/vnd.jupyter.widget-view+json": {
       "model_id": "1e4d8add6b2c47ea8d7e4e8674d64343",
       "version_major": 2,
       "version_minor": 0
      },
      "text/plain": [
       "Validation: |                                                                                                 …"
      ]
     },
     "metadata": {},
     "output_type": "display_data"
    },
    {
     "data": {
      "application/vnd.jupyter.widget-view+json": {
       "model_id": "aedad1c84e1f42efba9b420c74a3b84e",
       "version_major": 2,
       "version_minor": 0
      },
      "text/plain": [
       "Validation: |                                                                                                 …"
      ]
     },
     "metadata": {},
     "output_type": "display_data"
    },
    {
     "data": {
      "application/vnd.jupyter.widget-view+json": {
       "model_id": "3e59ded7cbb6455eadcbebe687a43626",
       "version_major": 2,
       "version_minor": 0
      },
      "text/plain": [
       "Validation: |                                                                                                 …"
      ]
     },
     "metadata": {},
     "output_type": "display_data"
    },
    {
     "data": {
      "application/vnd.jupyter.widget-view+json": {
       "model_id": "542f0e58bf084564a8b1604783be1eb4",
       "version_major": 2,
       "version_minor": 0
      },
      "text/plain": [
       "Validation: |                                                                                                 …"
      ]
     },
     "metadata": {},
     "output_type": "display_data"
    },
    {
     "data": {
      "application/vnd.jupyter.widget-view+json": {
       "model_id": "f253bc70ef96416c96fcd5966ef2b5d2",
       "version_major": 2,
       "version_minor": 0
      },
      "text/plain": [
       "Validation: |                                                                                                 …"
      ]
     },
     "metadata": {},
     "output_type": "display_data"
    },
    {
     "data": {
      "application/vnd.jupyter.widget-view+json": {
       "model_id": "7b90673b677144ba9e66212f18f70aff",
       "version_major": 2,
       "version_minor": 0
      },
      "text/plain": [
       "Validation: |                                                                                                 …"
      ]
     },
     "metadata": {},
     "output_type": "display_data"
    },
    {
     "data": {
      "application/vnd.jupyter.widget-view+json": {
       "model_id": "c106c97eb03a438b80725aae8d452d19",
       "version_major": 2,
       "version_minor": 0
      },
      "text/plain": [
       "Validation: |                                                                                                 …"
      ]
     },
     "metadata": {},
     "output_type": "display_data"
    },
    {
     "data": {
      "application/vnd.jupyter.widget-view+json": {
       "model_id": "784a2f3a26c6422e8b6c05170cfeab73",
       "version_major": 2,
       "version_minor": 0
      },
      "text/plain": [
       "Validation: |                                                                                                 …"
      ]
     },
     "metadata": {},
     "output_type": "display_data"
    },
    {
     "data": {
      "application/vnd.jupyter.widget-view+json": {
       "model_id": "26dd047139c9413c85394eb0454eaa98",
       "version_major": 2,
       "version_minor": 0
      },
      "text/plain": [
       "Validation: |                                                                                                 …"
      ]
     },
     "metadata": {},
     "output_type": "display_data"
    },
    {
     "data": {
      "application/vnd.jupyter.widget-view+json": {
       "model_id": "ed9d782e702e45139aa4cf89348305b3",
       "version_major": 2,
       "version_minor": 0
      },
      "text/plain": [
       "Validation: |                                                                                                 …"
      ]
     },
     "metadata": {},
     "output_type": "display_data"
    },
    {
     "data": {
      "application/vnd.jupyter.widget-view+json": {
       "model_id": "2e20fcd567244694a9f3c874e800d8ff",
       "version_major": 2,
       "version_minor": 0
      },
      "text/plain": [
       "Validation: |                                                                                                 …"
      ]
     },
     "metadata": {},
     "output_type": "display_data"
    },
    {
     "data": {
      "application/vnd.jupyter.widget-view+json": {
       "model_id": "4e6dc787ab3b47d7a7c1dd049ea4a749",
       "version_major": 2,
       "version_minor": 0
      },
      "text/plain": [
       "Validation: |                                                                                                 …"
      ]
     },
     "metadata": {},
     "output_type": "display_data"
    },
    {
     "data": {
      "application/vnd.jupyter.widget-view+json": {
       "model_id": "2a3e420ae7b847c0bce66fb2d1457c36",
       "version_major": 2,
       "version_minor": 0
      },
      "text/plain": [
       "Validation: |                                                                                                 …"
      ]
     },
     "metadata": {},
     "output_type": "display_data"
    },
    {
     "name": "stderr",
     "output_type": "stream",
     "text": [
      "`Trainer.fit` stopped: `max_epochs=30` reached.\n",
      "LOCAL_RANK: 0 - CUDA_VISIBLE_DEVICES: [0,1,2,3,4,5,6]\n",
      "/opt/conda/envs/audio/lib/python3.10/site-packages/pytorch_lightning/trainer/connectors/data_connector.py:441: The 'test_dataloader' does not have many workers which may be a bottleneck. Consider increasing the value of the `num_workers` argument` to `num_workers=127` in the `DataLoader` to improve performance.\n"
     ]
    },
    {
     "data": {
      "application/vnd.jupyter.widget-view+json": {
       "model_id": "d8169da2a2c046a4995a987ed334afa1",
       "version_major": 2,
       "version_minor": 0
      },
      "text/plain": [
       "Testing: |                                                                                                    …"
      ]
     },
     "metadata": {},
     "output_type": "display_data"
    },
    {
     "name": "stderr",
     "output_type": "stream",
     "text": [
      "/opt/conda/envs/audio/lib/python3.10/site-packages/torchmetrics/utilities/prints.py:43: UserWarning: No negative samples in targets, false positive value should be meaningless. Returning zero tensor in false positive score\n",
      "  warnings.warn(*args, **kwargs)  # noqa: B028\n",
      "/opt/conda/envs/audio/lib/python3.10/site-packages/sklearn/model_selection/_split.py:737: UserWarning: The least populated class in y has only 1 members, which is less than n_splits=2.\n",
      "  warnings.warn(\n",
      "GPU available: True (cuda), used: True\n",
      "TPU available: False, using: 0 TPU cores\n",
      "IPU available: False, using: 0 IPUs\n",
      "HPU available: False, using: 0 HPUs\n",
      "LOCAL_RANK: 0 - CUDA_VISIBLE_DEVICES: [0,1,2,3,4,5,6]\n",
      "\n",
      "   | Name          | Type               | Params\n",
      "------------------------------------------------------\n",
      "0  | tab_enc       | TabularEncoder     | 4.9 K \n",
      "1  | rnn           | GRU                | 369 K \n",
      "2  | head          | Linear             | 129   \n",
      "3  | criterion     | MSELoss            | 0     \n",
      "4  | train_mae     | MeanAbsoluteError  | 0     \n",
      "5  | val_mae       | MeanAbsoluteError  | 0     \n",
      "6  | test_mae      | MeanAbsoluteError  | 0     \n",
      "7  | train_rmse    | MeanSquaredError   | 0     \n",
      "8  | val_rmse      | MeanSquaredError   | 0     \n",
      "9  | test_rmse     | MeanSquaredError   | 0     \n",
      "10 | train_acc     | MulticlassAccuracy | 0     \n",
      "11 | val_acc       | MulticlassAccuracy | 0     \n",
      "12 | test_acc      | MulticlassAccuracy | 0     \n",
      "13 | train_acc_tol | SumMetric          | 0     \n",
      "14 | val_acc_tol   | SumMetric          | 0     \n",
      "15 | test_acc_tol  | SumMetric          | 0     \n",
      "16 | train_cnt     | SumMetric          | 0     \n",
      "17 | val_cnt       | SumMetric          | 0     \n",
      "18 | test_cnt      | SumMetric          | 0     \n",
      "19 | train_auroc   | MulticlassAUROC    | 0     \n",
      "20 | val_auroc     | MulticlassAUROC    | 0     \n",
      "21 | test_auroc    | MulticlassAUROC    | 0     \n",
      "------------------------------------------------------\n",
      "374 K     Trainable params\n",
      "0         Non-trainable params\n",
      "374 K     Total params\n",
      "1.498     Total estimated model params size (MB)\n"
     ]
    },
    {
     "name": "stdout",
     "output_type": "stream",
     "text": [
      "Fold 6 (Test PID: normal-5): {'test_loss': 0.055518824607133865, 'test_mae': 0.23562432825565338, 'test_rmse': 0.23562432825565338, 'test_acc': 1.0, 'test_acc±1': 1.0, 'auroc': 0.0, 'fold': 6, 'test_pid': 'normal-5'}\n"
     ]
    },
    {
     "data": {
      "application/vnd.jupyter.widget-view+json": {
       "model_id": "28e79285e6ee45118f1e329036efdd3c",
       "version_major": 2,
       "version_minor": 0
      },
      "text/plain": [
       "Sanity Checking: |                                                                                            …"
      ]
     },
     "metadata": {},
     "output_type": "display_data"
    },
    {
     "name": "stderr",
     "output_type": "stream",
     "text": [
      "/opt/conda/envs/audio/lib/python3.10/site-packages/pytorch_lightning/trainer/connectors/data_connector.py:441: The 'val_dataloader' does not have many workers which may be a bottleneck. Consider increasing the value of the `num_workers` argument` to `num_workers=127` in the `DataLoader` to improve performance.\n",
      "/opt/conda/envs/audio/lib/python3.10/site-packages/torch/nn/modules/linear.py:116: UserWarning: Deterministic behavior was enabled with either `torch.use_deterministic_algorithms(True)` or `at::Context::setDeterministicAlgorithms(true)`, but this operation is not deterministic because it uses CuBLAS and you have CUDA >= 10.2. To enable deterministic behavior in this case, you must set an environment variable before running your PyTorch application: CUBLAS_WORKSPACE_CONFIG=:4096:8 or CUBLAS_WORKSPACE_CONFIG=:16:8. For more information, go to https://docs.nvidia.com/cuda/cublas/index.html#results-reproducibility (Triggered internally at ../aten/src/ATen/Context.cpp:185.)\n",
      "  return F.linear(input, self.weight, self.bias)\n",
      "/opt/conda/envs/audio/lib/python3.10/site-packages/torchmetrics/utilities/prints.py:43: TorchMetricsUserWarning: You are trying to use a metric in deterministic mode on GPU that uses `torch.cumsum`, which is currently not supported. The tensor will be copied to the CPU memory to compute it and then copied back to GPU. Expect some slowdowns.\n",
      "  warnings.warn(*args, **kwargs)  # noqa: B028\n",
      "/opt/conda/envs/audio/lib/python3.10/site-packages/torchmetrics/utilities/prints.py:43: UserWarning: No positive samples in targets, true positive value should be meaningless. Returning zero tensor in true positive score\n",
      "  warnings.warn(*args, **kwargs)  # noqa: B028\n",
      "/opt/conda/envs/audio/lib/python3.10/site-packages/pytorch_lightning/trainer/connectors/data_connector.py:441: The 'train_dataloader' does not have many workers which may be a bottleneck. Consider increasing the value of the `num_workers` argument` to `num_workers=127` in the `DataLoader` to improve performance.\n",
      "/opt/conda/envs/audio/lib/python3.10/site-packages/pytorch_lightning/loops/fit_loop.py:298: The number of training batches (4) is smaller than the logging interval Trainer(log_every_n_steps=50). Set a lower value for log_every_n_steps if you want to see logs for the training epoch.\n"
     ]
    },
    {
     "data": {
      "application/vnd.jupyter.widget-view+json": {
       "model_id": "c83853c0c6044833b9e03169a0b321d1",
       "version_major": 2,
       "version_minor": 0
      },
      "text/plain": [
       "Training: |                                                                                                   …"
      ]
     },
     "metadata": {},
     "output_type": "display_data"
    },
    {
     "name": "stderr",
     "output_type": "stream",
     "text": [
      "/opt/conda/envs/audio/lib/python3.10/site-packages/torch/autograd/graph.py:744: UserWarning: Deterministic behavior was enabled with either `torch.use_deterministic_algorithms(True)` or `at::Context::setDeterministicAlgorithms(true)`, but this operation is not deterministic because it uses CuBLAS and you have CUDA >= 10.2. To enable deterministic behavior in this case, you must set an environment variable before running your PyTorch application: CUBLAS_WORKSPACE_CONFIG=:4096:8 or CUBLAS_WORKSPACE_CONFIG=:16:8. For more information, go to https://docs.nvidia.com/cuda/cublas/index.html#results-reproducibility (Triggered internally at ../aten/src/ATen/Context.cpp:185.)\n",
      "  return Variable._execution_engine.run_backward(  # Calls into the C++ engine to run the backward pass\n"
     ]
    },
    {
     "data": {
      "application/vnd.jupyter.widget-view+json": {
       "model_id": "9ff64d8d723b4fb08f87cd69dfeac0b2",
       "version_major": 2,
       "version_minor": 0
      },
      "text/plain": [
       "Validation: |                                                                                                 …"
      ]
     },
     "metadata": {},
     "output_type": "display_data"
    },
    {
     "data": {
      "application/vnd.jupyter.widget-view+json": {
       "model_id": "69395ff1494c4febb153d503c3987aea",
       "version_major": 2,
       "version_minor": 0
      },
      "text/plain": [
       "Validation: |                                                                                                 …"
      ]
     },
     "metadata": {},
     "output_type": "display_data"
    },
    {
     "data": {
      "application/vnd.jupyter.widget-view+json": {
       "model_id": "8f2c36eae0094d83bd8fa0e3fcbe1775",
       "version_major": 2,
       "version_minor": 0
      },
      "text/plain": [
       "Validation: |                                                                                                 …"
      ]
     },
     "metadata": {},
     "output_type": "display_data"
    },
    {
     "data": {
      "application/vnd.jupyter.widget-view+json": {
       "model_id": "94763d86004840c6b102cc18cf3ddc3c",
       "version_major": 2,
       "version_minor": 0
      },
      "text/plain": [
       "Validation: |                                                                                                 …"
      ]
     },
     "metadata": {},
     "output_type": "display_data"
    },
    {
     "data": {
      "application/vnd.jupyter.widget-view+json": {
       "model_id": "c052cc776cd04598aa7cb7157157bab5",
       "version_major": 2,
       "version_minor": 0
      },
      "text/plain": [
       "Validation: |                                                                                                 …"
      ]
     },
     "metadata": {},
     "output_type": "display_data"
    },
    {
     "data": {
      "application/vnd.jupyter.widget-view+json": {
       "model_id": "b510904a9379409197b71d04baf8b29c",
       "version_major": 2,
       "version_minor": 0
      },
      "text/plain": [
       "Validation: |                                                                                                 …"
      ]
     },
     "metadata": {},
     "output_type": "display_data"
    },
    {
     "data": {
      "application/vnd.jupyter.widget-view+json": {
       "model_id": "962a3ffd95b5484aa127915c073ad546",
       "version_major": 2,
       "version_minor": 0
      },
      "text/plain": [
       "Validation: |                                                                                                 …"
      ]
     },
     "metadata": {},
     "output_type": "display_data"
    },
    {
     "data": {
      "application/vnd.jupyter.widget-view+json": {
       "model_id": "1d6c794e01444d8584ea270e4880c729",
       "version_major": 2,
       "version_minor": 0
      },
      "text/plain": [
       "Validation: |                                                                                                 …"
      ]
     },
     "metadata": {},
     "output_type": "display_data"
    },
    {
     "data": {
      "application/vnd.jupyter.widget-view+json": {
       "model_id": "179dff4bdd2c4c299658d1e399b853dd",
       "version_major": 2,
       "version_minor": 0
      },
      "text/plain": [
       "Validation: |                                                                                                 …"
      ]
     },
     "metadata": {},
     "output_type": "display_data"
    },
    {
     "data": {
      "application/vnd.jupyter.widget-view+json": {
       "model_id": "7dad646b9faa4f2098135ee9f09fdf17",
       "version_major": 2,
       "version_minor": 0
      },
      "text/plain": [
       "Validation: |                                                                                                 …"
      ]
     },
     "metadata": {},
     "output_type": "display_data"
    },
    {
     "data": {
      "application/vnd.jupyter.widget-view+json": {
       "model_id": "679e1cde355e4b8f8d44a30ef10db518",
       "version_major": 2,
       "version_minor": 0
      },
      "text/plain": [
       "Validation: |                                                                                                 …"
      ]
     },
     "metadata": {},
     "output_type": "display_data"
    },
    {
     "data": {
      "application/vnd.jupyter.widget-view+json": {
       "model_id": "7e92f164fc0044188dc1a6a2aff75b93",
       "version_major": 2,
       "version_minor": 0
      },
      "text/plain": [
       "Validation: |                                                                                                 …"
      ]
     },
     "metadata": {},
     "output_type": "display_data"
    },
    {
     "data": {
      "application/vnd.jupyter.widget-view+json": {
       "model_id": "066961690d9e4366b9877dbd19054bc2",
       "version_major": 2,
       "version_minor": 0
      },
      "text/plain": [
       "Validation: |                                                                                                 …"
      ]
     },
     "metadata": {},
     "output_type": "display_data"
    },
    {
     "data": {
      "application/vnd.jupyter.widget-view+json": {
       "model_id": "53cccb862f8f49619cdb3b8690798f5a",
       "version_major": 2,
       "version_minor": 0
      },
      "text/plain": [
       "Validation: |                                                                                                 …"
      ]
     },
     "metadata": {},
     "output_type": "display_data"
    },
    {
     "data": {
      "application/vnd.jupyter.widget-view+json": {
       "model_id": "59d09b417673477f957454875cd68e5d",
       "version_major": 2,
       "version_minor": 0
      },
      "text/plain": [
       "Validation: |                                                                                                 …"
      ]
     },
     "metadata": {},
     "output_type": "display_data"
    },
    {
     "data": {
      "application/vnd.jupyter.widget-view+json": {
       "model_id": "5268edb5c3e04df1ae6c4244fbe754e2",
       "version_major": 2,
       "version_minor": 0
      },
      "text/plain": [
       "Validation: |                                                                                                 …"
      ]
     },
     "metadata": {},
     "output_type": "display_data"
    },
    {
     "data": {
      "application/vnd.jupyter.widget-view+json": {
       "model_id": "9c55e18e39e24b378f086b65ebb9800f",
       "version_major": 2,
       "version_minor": 0
      },
      "text/plain": [
       "Validation: |                                                                                                 …"
      ]
     },
     "metadata": {},
     "output_type": "display_data"
    },
    {
     "data": {
      "application/vnd.jupyter.widget-view+json": {
       "model_id": "cee93cc87343416e9aa70f67e1a3f0c2",
       "version_major": 2,
       "version_minor": 0
      },
      "text/plain": [
       "Validation: |                                                                                                 …"
      ]
     },
     "metadata": {},
     "output_type": "display_data"
    },
    {
     "data": {
      "application/vnd.jupyter.widget-view+json": {
       "model_id": "6ccc1c7bcda147cfa018ddad51a13b61",
       "version_major": 2,
       "version_minor": 0
      },
      "text/plain": [
       "Validation: |                                                                                                 …"
      ]
     },
     "metadata": {},
     "output_type": "display_data"
    },
    {
     "data": {
      "application/vnd.jupyter.widget-view+json": {
       "model_id": "a9146e273b6847059b852d6c8349f9be",
       "version_major": 2,
       "version_minor": 0
      },
      "text/plain": [
       "Validation: |                                                                                                 …"
      ]
     },
     "metadata": {},
     "output_type": "display_data"
    },
    {
     "data": {
      "application/vnd.jupyter.widget-view+json": {
       "model_id": "c55402f8e8434942b066944af5a124c9",
       "version_major": 2,
       "version_minor": 0
      },
      "text/plain": [
       "Validation: |                                                                                                 …"
      ]
     },
     "metadata": {},
     "output_type": "display_data"
    },
    {
     "data": {
      "application/vnd.jupyter.widget-view+json": {
       "model_id": "c5d8499571004feba3b0bfe2bb2cd45d",
       "version_major": 2,
       "version_minor": 0
      },
      "text/plain": [
       "Validation: |                                                                                                 …"
      ]
     },
     "metadata": {},
     "output_type": "display_data"
    },
    {
     "data": {
      "application/vnd.jupyter.widget-view+json": {
       "model_id": "e9351401163848f68e515f43f89cb971",
       "version_major": 2,
       "version_minor": 0
      },
      "text/plain": [
       "Validation: |                                                                                                 …"
      ]
     },
     "metadata": {},
     "output_type": "display_data"
    },
    {
     "data": {
      "application/vnd.jupyter.widget-view+json": {
       "model_id": "49acf3b5baad42af87ac7e3c1af9fe05",
       "version_major": 2,
       "version_minor": 0
      },
      "text/plain": [
       "Validation: |                                                                                                 …"
      ]
     },
     "metadata": {},
     "output_type": "display_data"
    },
    {
     "data": {
      "application/vnd.jupyter.widget-view+json": {
       "model_id": "ebe52c6b44fa422c9d57a074d5552496",
       "version_major": 2,
       "version_minor": 0
      },
      "text/plain": [
       "Validation: |                                                                                                 …"
      ]
     },
     "metadata": {},
     "output_type": "display_data"
    },
    {
     "data": {
      "application/vnd.jupyter.widget-view+json": {
       "model_id": "f1a7e277655e42dc87beb7a6afa5368c",
       "version_major": 2,
       "version_minor": 0
      },
      "text/plain": [
       "Validation: |                                                                                                 …"
      ]
     },
     "metadata": {},
     "output_type": "display_data"
    },
    {
     "data": {
      "application/vnd.jupyter.widget-view+json": {
       "model_id": "8bb33b391af24ff9ac44dea9d5c15757",
       "version_major": 2,
       "version_minor": 0
      },
      "text/plain": [
       "Validation: |                                                                                                 …"
      ]
     },
     "metadata": {},
     "output_type": "display_data"
    },
    {
     "data": {
      "application/vnd.jupyter.widget-view+json": {
       "model_id": "75abbcd339d04b9cb5c8968ecb221826",
       "version_major": 2,
       "version_minor": 0
      },
      "text/plain": [
       "Validation: |                                                                                                 …"
      ]
     },
     "metadata": {},
     "output_type": "display_data"
    },
    {
     "data": {
      "application/vnd.jupyter.widget-view+json": {
       "model_id": "d707467a7df84cc2a762b66c41903073",
       "version_major": 2,
       "version_minor": 0
      },
      "text/plain": [
       "Validation: |                                                                                                 …"
      ]
     },
     "metadata": {},
     "output_type": "display_data"
    },
    {
     "data": {
      "application/vnd.jupyter.widget-view+json": {
       "model_id": "34afaf0fb3e1421b9ef57f8a9f28d9df",
       "version_major": 2,
       "version_minor": 0
      },
      "text/plain": [
       "Validation: |                                                                                                 …"
      ]
     },
     "metadata": {},
     "output_type": "display_data"
    },
    {
     "name": "stderr",
     "output_type": "stream",
     "text": [
      "`Trainer.fit` stopped: `max_epochs=30` reached.\n",
      "LOCAL_RANK: 0 - CUDA_VISIBLE_DEVICES: [0,1,2,3,4,5,6]\n",
      "/opt/conda/envs/audio/lib/python3.10/site-packages/pytorch_lightning/trainer/connectors/data_connector.py:441: The 'test_dataloader' does not have many workers which may be a bottleneck. Consider increasing the value of the `num_workers` argument` to `num_workers=127` in the `DataLoader` to improve performance.\n"
     ]
    },
    {
     "data": {
      "application/vnd.jupyter.widget-view+json": {
       "model_id": "34afd6de17974d4d97a46c5dec0123b6",
       "version_major": 2,
       "version_minor": 0
      },
      "text/plain": [
       "Testing: |                                                                                                    …"
      ]
     },
     "metadata": {},
     "output_type": "display_data"
    },
    {
     "name": "stderr",
     "output_type": "stream",
     "text": [
      "/opt/conda/envs/audio/lib/python3.10/site-packages/torchmetrics/utilities/prints.py:43: UserWarning: No negative samples in targets, false positive value should be meaningless. Returning zero tensor in false positive score\n",
      "  warnings.warn(*args, **kwargs)  # noqa: B028\n",
      "/opt/conda/envs/audio/lib/python3.10/site-packages/sklearn/model_selection/_split.py:737: UserWarning: The least populated class in y has only 1 members, which is less than n_splits=2.\n",
      "  warnings.warn(\n",
      "GPU available: True (cuda), used: True\n",
      "TPU available: False, using: 0 TPU cores\n",
      "IPU available: False, using: 0 IPUs\n",
      "HPU available: False, using: 0 HPUs\n",
      "LOCAL_RANK: 0 - CUDA_VISIBLE_DEVICES: [0,1,2,3,4,5,6]\n",
      "\n",
      "   | Name          | Type               | Params\n",
      "------------------------------------------------------\n",
      "0  | tab_enc       | TabularEncoder     | 4.9 K \n",
      "1  | rnn           | GRU                | 369 K \n",
      "2  | head          | Linear             | 129   \n",
      "3  | criterion     | MSELoss            | 0     \n",
      "4  | train_mae     | MeanAbsoluteError  | 0     \n",
      "5  | val_mae       | MeanAbsoluteError  | 0     \n",
      "6  | test_mae      | MeanAbsoluteError  | 0     \n",
      "7  | train_rmse    | MeanSquaredError   | 0     \n",
      "8  | val_rmse      | MeanSquaredError   | 0     \n",
      "9  | test_rmse     | MeanSquaredError   | 0     \n",
      "10 | train_acc     | MulticlassAccuracy | 0     \n",
      "11 | val_acc       | MulticlassAccuracy | 0     \n",
      "12 | test_acc      | MulticlassAccuracy | 0     \n",
      "13 | train_acc_tol | SumMetric          | 0     \n",
      "14 | val_acc_tol   | SumMetric          | 0     \n",
      "15 | test_acc_tol  | SumMetric          | 0     \n",
      "16 | train_cnt     | SumMetric          | 0     \n",
      "17 | val_cnt       | SumMetric          | 0     \n",
      "18 | test_cnt      | SumMetric          | 0     \n",
      "19 | train_auroc   | MulticlassAUROC    | 0     \n",
      "20 | val_auroc     | MulticlassAUROC    | 0     \n",
      "21 | test_auroc    | MulticlassAUROC    | 0     \n",
      "------------------------------------------------------\n",
      "374 K     Trainable params\n",
      "0         Non-trainable params\n",
      "374 K     Total params\n",
      "1.498     Total estimated model params size (MB)\n"
     ]
    },
    {
     "name": "stdout",
     "output_type": "stream",
     "text": [
      "Fold 7 (Test PID: normal-12): {'test_loss': 0.4128095209598541, 'test_mae': 0.6425025463104248, 'test_rmse': 0.6425025463104248, 'test_acc': 0.0, 'test_acc±1': 1.0, 'auroc': 0.0, 'fold': 7, 'test_pid': 'normal-12'}\n"
     ]
    },
    {
     "data": {
      "application/vnd.jupyter.widget-view+json": {
       "model_id": "cbb903376cec4833a4826b0c6b20bba7",
       "version_major": 2,
       "version_minor": 0
      },
      "text/plain": [
       "Sanity Checking: |                                                                                            …"
      ]
     },
     "metadata": {},
     "output_type": "display_data"
    },
    {
     "name": "stderr",
     "output_type": "stream",
     "text": [
      "/opt/conda/envs/audio/lib/python3.10/site-packages/pytorch_lightning/trainer/connectors/data_connector.py:441: The 'val_dataloader' does not have many workers which may be a bottleneck. Consider increasing the value of the `num_workers` argument` to `num_workers=127` in the `DataLoader` to improve performance.\n",
      "/opt/conda/envs/audio/lib/python3.10/site-packages/torch/nn/modules/linear.py:116: UserWarning: Deterministic behavior was enabled with either `torch.use_deterministic_algorithms(True)` or `at::Context::setDeterministicAlgorithms(true)`, but this operation is not deterministic because it uses CuBLAS and you have CUDA >= 10.2. To enable deterministic behavior in this case, you must set an environment variable before running your PyTorch application: CUBLAS_WORKSPACE_CONFIG=:4096:8 or CUBLAS_WORKSPACE_CONFIG=:16:8. For more information, go to https://docs.nvidia.com/cuda/cublas/index.html#results-reproducibility (Triggered internally at ../aten/src/ATen/Context.cpp:185.)\n",
      "  return F.linear(input, self.weight, self.bias)\n",
      "/opt/conda/envs/audio/lib/python3.10/site-packages/torchmetrics/utilities/prints.py:43: TorchMetricsUserWarning: You are trying to use a metric in deterministic mode on GPU that uses `torch.cumsum`, which is currently not supported. The tensor will be copied to the CPU memory to compute it and then copied back to GPU. Expect some slowdowns.\n",
      "  warnings.warn(*args, **kwargs)  # noqa: B028\n",
      "/opt/conda/envs/audio/lib/python3.10/site-packages/torchmetrics/utilities/prints.py:43: UserWarning: No positive samples in targets, true positive value should be meaningless. Returning zero tensor in true positive score\n",
      "  warnings.warn(*args, **kwargs)  # noqa: B028\n",
      "/opt/conda/envs/audio/lib/python3.10/site-packages/pytorch_lightning/trainer/connectors/data_connector.py:441: The 'train_dataloader' does not have many workers which may be a bottleneck. Consider increasing the value of the `num_workers` argument` to `num_workers=127` in the `DataLoader` to improve performance.\n",
      "/opt/conda/envs/audio/lib/python3.10/site-packages/pytorch_lightning/loops/fit_loop.py:298: The number of training batches (4) is smaller than the logging interval Trainer(log_every_n_steps=50). Set a lower value for log_every_n_steps if you want to see logs for the training epoch.\n"
     ]
    },
    {
     "data": {
      "application/vnd.jupyter.widget-view+json": {
       "model_id": "046996b192a54487861a1b12106b2130",
       "version_major": 2,
       "version_minor": 0
      },
      "text/plain": [
       "Training: |                                                                                                   …"
      ]
     },
     "metadata": {},
     "output_type": "display_data"
    },
    {
     "name": "stderr",
     "output_type": "stream",
     "text": [
      "/opt/conda/envs/audio/lib/python3.10/site-packages/torch/autograd/graph.py:744: UserWarning: Deterministic behavior was enabled with either `torch.use_deterministic_algorithms(True)` or `at::Context::setDeterministicAlgorithms(true)`, but this operation is not deterministic because it uses CuBLAS and you have CUDA >= 10.2. To enable deterministic behavior in this case, you must set an environment variable before running your PyTorch application: CUBLAS_WORKSPACE_CONFIG=:4096:8 or CUBLAS_WORKSPACE_CONFIG=:16:8. For more information, go to https://docs.nvidia.com/cuda/cublas/index.html#results-reproducibility (Triggered internally at ../aten/src/ATen/Context.cpp:185.)\n",
      "  return Variable._execution_engine.run_backward(  # Calls into the C++ engine to run the backward pass\n"
     ]
    },
    {
     "data": {
      "application/vnd.jupyter.widget-view+json": {
       "model_id": "f265bf4b65b747188abf4ec96ad75468",
       "version_major": 2,
       "version_minor": 0
      },
      "text/plain": [
       "Validation: |                                                                                                 …"
      ]
     },
     "metadata": {},
     "output_type": "display_data"
    },
    {
     "data": {
      "application/vnd.jupyter.widget-view+json": {
       "model_id": "92c7f2f0ba3f47bda541a3f8d83b967b",
       "version_major": 2,
       "version_minor": 0
      },
      "text/plain": [
       "Validation: |                                                                                                 …"
      ]
     },
     "metadata": {},
     "output_type": "display_data"
    },
    {
     "data": {
      "application/vnd.jupyter.widget-view+json": {
       "model_id": "77853981f22641dd98f7a750c62f09d5",
       "version_major": 2,
       "version_minor": 0
      },
      "text/plain": [
       "Validation: |                                                                                                 …"
      ]
     },
     "metadata": {},
     "output_type": "display_data"
    },
    {
     "data": {
      "application/vnd.jupyter.widget-view+json": {
       "model_id": "cb3393bb8f5c40f982044209f935dba8",
       "version_major": 2,
       "version_minor": 0
      },
      "text/plain": [
       "Validation: |                                                                                                 …"
      ]
     },
     "metadata": {},
     "output_type": "display_data"
    },
    {
     "data": {
      "application/vnd.jupyter.widget-view+json": {
       "model_id": "da482340bb4e4c4c96924fb75e2b0bca",
       "version_major": 2,
       "version_minor": 0
      },
      "text/plain": [
       "Validation: |                                                                                                 …"
      ]
     },
     "metadata": {},
     "output_type": "display_data"
    },
    {
     "data": {
      "application/vnd.jupyter.widget-view+json": {
       "model_id": "50cece53e6cf4ed2ad1ef540e42d75b7",
       "version_major": 2,
       "version_minor": 0
      },
      "text/plain": [
       "Validation: |                                                                                                 …"
      ]
     },
     "metadata": {},
     "output_type": "display_data"
    },
    {
     "data": {
      "application/vnd.jupyter.widget-view+json": {
       "model_id": "7699b511e8b94595b019bfa310eabc16",
       "version_major": 2,
       "version_minor": 0
      },
      "text/plain": [
       "Validation: |                                                                                                 …"
      ]
     },
     "metadata": {},
     "output_type": "display_data"
    },
    {
     "data": {
      "application/vnd.jupyter.widget-view+json": {
       "model_id": "061ff5c327a04bfe85407e919362317c",
       "version_major": 2,
       "version_minor": 0
      },
      "text/plain": [
       "Validation: |                                                                                                 …"
      ]
     },
     "metadata": {},
     "output_type": "display_data"
    },
    {
     "data": {
      "application/vnd.jupyter.widget-view+json": {
       "model_id": "38c8e367ba0c46efb0a77342aa1d0f9d",
       "version_major": 2,
       "version_minor": 0
      },
      "text/plain": [
       "Validation: |                                                                                                 …"
      ]
     },
     "metadata": {},
     "output_type": "display_data"
    },
    {
     "data": {
      "application/vnd.jupyter.widget-view+json": {
       "model_id": "4b829162056c40739f878b612cd24016",
       "version_major": 2,
       "version_minor": 0
      },
      "text/plain": [
       "Validation: |                                                                                                 …"
      ]
     },
     "metadata": {},
     "output_type": "display_data"
    },
    {
     "data": {
      "application/vnd.jupyter.widget-view+json": {
       "model_id": "6f05264da6304c3dbaca3becfe9ff9bc",
       "version_major": 2,
       "version_minor": 0
      },
      "text/plain": [
       "Validation: |                                                                                                 …"
      ]
     },
     "metadata": {},
     "output_type": "display_data"
    },
    {
     "data": {
      "application/vnd.jupyter.widget-view+json": {
       "model_id": "1c31250892734b74ab24ba3673b710da",
       "version_major": 2,
       "version_minor": 0
      },
      "text/plain": [
       "Validation: |                                                                                                 …"
      ]
     },
     "metadata": {},
     "output_type": "display_data"
    },
    {
     "data": {
      "application/vnd.jupyter.widget-view+json": {
       "model_id": "4f5a4bf01d4b4ea0b4c6a2483b664bb0",
       "version_major": 2,
       "version_minor": 0
      },
      "text/plain": [
       "Validation: |                                                                                                 …"
      ]
     },
     "metadata": {},
     "output_type": "display_data"
    },
    {
     "data": {
      "application/vnd.jupyter.widget-view+json": {
       "model_id": "2ea33937775c4e3f9ac241fcaac70898",
       "version_major": 2,
       "version_minor": 0
      },
      "text/plain": [
       "Validation: |                                                                                                 …"
      ]
     },
     "metadata": {},
     "output_type": "display_data"
    },
    {
     "data": {
      "application/vnd.jupyter.widget-view+json": {
       "model_id": "d0ed97f65f27439892907e5133489ac8",
       "version_major": 2,
       "version_minor": 0
      },
      "text/plain": [
       "Validation: |                                                                                                 …"
      ]
     },
     "metadata": {},
     "output_type": "display_data"
    },
    {
     "data": {
      "application/vnd.jupyter.widget-view+json": {
       "model_id": "f6e27e3a64c04d63afb151bf1a3bcbb1",
       "version_major": 2,
       "version_minor": 0
      },
      "text/plain": [
       "Validation: |                                                                                                 …"
      ]
     },
     "metadata": {},
     "output_type": "display_data"
    },
    {
     "data": {
      "application/vnd.jupyter.widget-view+json": {
       "model_id": "99c763b886b84130a969870eeba30113",
       "version_major": 2,
       "version_minor": 0
      },
      "text/plain": [
       "Validation: |                                                                                                 …"
      ]
     },
     "metadata": {},
     "output_type": "display_data"
    },
    {
     "data": {
      "application/vnd.jupyter.widget-view+json": {
       "model_id": "e96e0adf6a3c4acbbf6243a543004f40",
       "version_major": 2,
       "version_minor": 0
      },
      "text/plain": [
       "Validation: |                                                                                                 …"
      ]
     },
     "metadata": {},
     "output_type": "display_data"
    },
    {
     "data": {
      "application/vnd.jupyter.widget-view+json": {
       "model_id": "3b908811d3904694a34d889fbb226b37",
       "version_major": 2,
       "version_minor": 0
      },
      "text/plain": [
       "Validation: |                                                                                                 …"
      ]
     },
     "metadata": {},
     "output_type": "display_data"
    },
    {
     "data": {
      "application/vnd.jupyter.widget-view+json": {
       "model_id": "d0d8c3b5ec594adbb5061c3e7e7648ae",
       "version_major": 2,
       "version_minor": 0
      },
      "text/plain": [
       "Validation: |                                                                                                 …"
      ]
     },
     "metadata": {},
     "output_type": "display_data"
    },
    {
     "data": {
      "application/vnd.jupyter.widget-view+json": {
       "model_id": "30112fc596b442d0ab843801d4eea2a6",
       "version_major": 2,
       "version_minor": 0
      },
      "text/plain": [
       "Validation: |                                                                                                 …"
      ]
     },
     "metadata": {},
     "output_type": "display_data"
    },
    {
     "data": {
      "application/vnd.jupyter.widget-view+json": {
       "model_id": "cfd52f4c9ced4f568563acb9fa10b818",
       "version_major": 2,
       "version_minor": 0
      },
      "text/plain": [
       "Validation: |                                                                                                 …"
      ]
     },
     "metadata": {},
     "output_type": "display_data"
    },
    {
     "data": {
      "application/vnd.jupyter.widget-view+json": {
       "model_id": "1a104b6235b543198dade4db2dfa3418",
       "version_major": 2,
       "version_minor": 0
      },
      "text/plain": [
       "Validation: |                                                                                                 …"
      ]
     },
     "metadata": {},
     "output_type": "display_data"
    },
    {
     "data": {
      "application/vnd.jupyter.widget-view+json": {
       "model_id": "55b5c58000e3405ba5d825f3072aeb2c",
       "version_major": 2,
       "version_minor": 0
      },
      "text/plain": [
       "Validation: |                                                                                                 …"
      ]
     },
     "metadata": {},
     "output_type": "display_data"
    },
    {
     "data": {
      "application/vnd.jupyter.widget-view+json": {
       "model_id": "867e1be73d364306989e18efdb5a1acd",
       "version_major": 2,
       "version_minor": 0
      },
      "text/plain": [
       "Validation: |                                                                                                 …"
      ]
     },
     "metadata": {},
     "output_type": "display_data"
    },
    {
     "data": {
      "application/vnd.jupyter.widget-view+json": {
       "model_id": "a61db69a7a7648e7b1f89dda085346f0",
       "version_major": 2,
       "version_minor": 0
      },
      "text/plain": [
       "Validation: |                                                                                                 …"
      ]
     },
     "metadata": {},
     "output_type": "display_data"
    },
    {
     "data": {
      "application/vnd.jupyter.widget-view+json": {
       "model_id": "17d008ea73a04a69b82821025234ace1",
       "version_major": 2,
       "version_minor": 0
      },
      "text/plain": [
       "Validation: |                                                                                                 …"
      ]
     },
     "metadata": {},
     "output_type": "display_data"
    },
    {
     "data": {
      "application/vnd.jupyter.widget-view+json": {
       "model_id": "77625b73d08d423ea52c9c2a5d30510d",
       "version_major": 2,
       "version_minor": 0
      },
      "text/plain": [
       "Validation: |                                                                                                 …"
      ]
     },
     "metadata": {},
     "output_type": "display_data"
    },
    {
     "data": {
      "application/vnd.jupyter.widget-view+json": {
       "model_id": "dc16c8b47d704fae9b7b78ea09237bf9",
       "version_major": 2,
       "version_minor": 0
      },
      "text/plain": [
       "Validation: |                                                                                                 …"
      ]
     },
     "metadata": {},
     "output_type": "display_data"
    },
    {
     "data": {
      "application/vnd.jupyter.widget-view+json": {
       "model_id": "995036ea94314f04bfcd3299d8993a52",
       "version_major": 2,
       "version_minor": 0
      },
      "text/plain": [
       "Validation: |                                                                                                 …"
      ]
     },
     "metadata": {},
     "output_type": "display_data"
    },
    {
     "name": "stderr",
     "output_type": "stream",
     "text": [
      "`Trainer.fit` stopped: `max_epochs=30` reached.\n",
      "LOCAL_RANK: 0 - CUDA_VISIBLE_DEVICES: [0,1,2,3,4,5,6]\n",
      "/opt/conda/envs/audio/lib/python3.10/site-packages/pytorch_lightning/trainer/connectors/data_connector.py:441: The 'test_dataloader' does not have many workers which may be a bottleneck. Consider increasing the value of the `num_workers` argument` to `num_workers=127` in the `DataLoader` to improve performance.\n"
     ]
    },
    {
     "data": {
      "application/vnd.jupyter.widget-view+json": {
       "model_id": "b7e1916a1120409bb486deacb9252ddf",
       "version_major": 2,
       "version_minor": 0
      },
      "text/plain": [
       "Testing: |                                                                                                    …"
      ]
     },
     "metadata": {},
     "output_type": "display_data"
    },
    {
     "name": "stderr",
     "output_type": "stream",
     "text": [
      "/opt/conda/envs/audio/lib/python3.10/site-packages/torchmetrics/utilities/prints.py:43: UserWarning: No negative samples in targets, false positive value should be meaningless. Returning zero tensor in false positive score\n",
      "  warnings.warn(*args, **kwargs)  # noqa: B028\n",
      "/opt/conda/envs/audio/lib/python3.10/site-packages/sklearn/model_selection/_split.py:737: UserWarning: The least populated class in y has only 1 members, which is less than n_splits=2.\n",
      "  warnings.warn(\n",
      "GPU available: True (cuda), used: True\n",
      "TPU available: False, using: 0 TPU cores\n",
      "IPU available: False, using: 0 IPUs\n",
      "HPU available: False, using: 0 HPUs\n",
      "LOCAL_RANK: 0 - CUDA_VISIBLE_DEVICES: [0,1,2,3,4,5,6]\n",
      "\n",
      "   | Name          | Type               | Params\n",
      "------------------------------------------------------\n",
      "0  | tab_enc       | TabularEncoder     | 4.9 K \n",
      "1  | rnn           | GRU                | 369 K \n",
      "2  | head          | Linear             | 129   \n",
      "3  | criterion     | MSELoss            | 0     \n",
      "4  | train_mae     | MeanAbsoluteError  | 0     \n",
      "5  | val_mae       | MeanAbsoluteError  | 0     \n",
      "6  | test_mae      | MeanAbsoluteError  | 0     \n",
      "7  | train_rmse    | MeanSquaredError   | 0     \n",
      "8  | val_rmse      | MeanSquaredError   | 0     \n",
      "9  | test_rmse     | MeanSquaredError   | 0     \n",
      "10 | train_acc     | MulticlassAccuracy | 0     \n",
      "11 | val_acc       | MulticlassAccuracy | 0     \n",
      "12 | test_acc      | MulticlassAccuracy | 0     \n",
      "13 | train_acc_tol | SumMetric          | 0     \n",
      "14 | val_acc_tol   | SumMetric          | 0     \n",
      "15 | test_acc_tol  | SumMetric          | 0     \n",
      "16 | train_cnt     | SumMetric          | 0     \n",
      "17 | val_cnt       | SumMetric          | 0     \n",
      "18 | test_cnt      | SumMetric          | 0     \n",
      "19 | train_auroc   | MulticlassAUROC    | 0     \n",
      "20 | val_auroc     | MulticlassAUROC    | 0     \n",
      "21 | test_auroc    | MulticlassAUROC    | 0     \n",
      "------------------------------------------------------\n",
      "374 K     Trainable params\n",
      "0         Non-trainable params\n",
      "374 K     Total params\n",
      "1.498     Total estimated model params size (MB)\n"
     ]
    },
    {
     "name": "stdout",
     "output_type": "stream",
     "text": [
      "Fold 8 (Test PID: normal-16): {'test_loss': 0.009184114634990692, 'test_mae': 0.09583378583192825, 'test_rmse': 0.09583378583192825, 'test_acc': 1.0, 'test_acc±1': 1.0, 'auroc': 0.0, 'fold': 8, 'test_pid': 'normal-16'}\n"
     ]
    },
    {
     "data": {
      "application/vnd.jupyter.widget-view+json": {
       "model_id": "e6acd94e96624adc8e39f14e4cef9cfd",
       "version_major": 2,
       "version_minor": 0
      },
      "text/plain": [
       "Sanity Checking: |                                                                                            …"
      ]
     },
     "metadata": {},
     "output_type": "display_data"
    },
    {
     "name": "stderr",
     "output_type": "stream",
     "text": [
      "/opt/conda/envs/audio/lib/python3.10/site-packages/pytorch_lightning/trainer/connectors/data_connector.py:441: The 'val_dataloader' does not have many workers which may be a bottleneck. Consider increasing the value of the `num_workers` argument` to `num_workers=127` in the `DataLoader` to improve performance.\n",
      "/opt/conda/envs/audio/lib/python3.10/site-packages/torch/nn/modules/linear.py:116: UserWarning: Deterministic behavior was enabled with either `torch.use_deterministic_algorithms(True)` or `at::Context::setDeterministicAlgorithms(true)`, but this operation is not deterministic because it uses CuBLAS and you have CUDA >= 10.2. To enable deterministic behavior in this case, you must set an environment variable before running your PyTorch application: CUBLAS_WORKSPACE_CONFIG=:4096:8 or CUBLAS_WORKSPACE_CONFIG=:16:8. For more information, go to https://docs.nvidia.com/cuda/cublas/index.html#results-reproducibility (Triggered internally at ../aten/src/ATen/Context.cpp:185.)\n",
      "  return F.linear(input, self.weight, self.bias)\n",
      "/opt/conda/envs/audio/lib/python3.10/site-packages/torchmetrics/utilities/prints.py:43: TorchMetricsUserWarning: You are trying to use a metric in deterministic mode on GPU that uses `torch.cumsum`, which is currently not supported. The tensor will be copied to the CPU memory to compute it and then copied back to GPU. Expect some slowdowns.\n",
      "  warnings.warn(*args, **kwargs)  # noqa: B028\n",
      "/opt/conda/envs/audio/lib/python3.10/site-packages/torchmetrics/utilities/prints.py:43: UserWarning: No positive samples in targets, true positive value should be meaningless. Returning zero tensor in true positive score\n",
      "  warnings.warn(*args, **kwargs)  # noqa: B028\n",
      "/opt/conda/envs/audio/lib/python3.10/site-packages/pytorch_lightning/trainer/connectors/data_connector.py:441: The 'train_dataloader' does not have many workers which may be a bottleneck. Consider increasing the value of the `num_workers` argument` to `num_workers=127` in the `DataLoader` to improve performance.\n",
      "/opt/conda/envs/audio/lib/python3.10/site-packages/pytorch_lightning/loops/fit_loop.py:298: The number of training batches (4) is smaller than the logging interval Trainer(log_every_n_steps=50). Set a lower value for log_every_n_steps if you want to see logs for the training epoch.\n"
     ]
    },
    {
     "data": {
      "application/vnd.jupyter.widget-view+json": {
       "model_id": "bb9c2640851c4765bdcd3c0d5578b44f",
       "version_major": 2,
       "version_minor": 0
      },
      "text/plain": [
       "Training: |                                                                                                   …"
      ]
     },
     "metadata": {},
     "output_type": "display_data"
    },
    {
     "name": "stderr",
     "output_type": "stream",
     "text": [
      "/opt/conda/envs/audio/lib/python3.10/site-packages/torch/autograd/graph.py:744: UserWarning: Deterministic behavior was enabled with either `torch.use_deterministic_algorithms(True)` or `at::Context::setDeterministicAlgorithms(true)`, but this operation is not deterministic because it uses CuBLAS and you have CUDA >= 10.2. To enable deterministic behavior in this case, you must set an environment variable before running your PyTorch application: CUBLAS_WORKSPACE_CONFIG=:4096:8 or CUBLAS_WORKSPACE_CONFIG=:16:8. For more information, go to https://docs.nvidia.com/cuda/cublas/index.html#results-reproducibility (Triggered internally at ../aten/src/ATen/Context.cpp:185.)\n",
      "  return Variable._execution_engine.run_backward(  # Calls into the C++ engine to run the backward pass\n"
     ]
    },
    {
     "data": {
      "application/vnd.jupyter.widget-view+json": {
       "model_id": "f2282372e3f541ddb304a7246d9abb4e",
       "version_major": 2,
       "version_minor": 0
      },
      "text/plain": [
       "Validation: |                                                                                                 …"
      ]
     },
     "metadata": {},
     "output_type": "display_data"
    },
    {
     "data": {
      "application/vnd.jupyter.widget-view+json": {
       "model_id": "f545dc61a87c4a00b94e51cc27dff328",
       "version_major": 2,
       "version_minor": 0
      },
      "text/plain": [
       "Validation: |                                                                                                 …"
      ]
     },
     "metadata": {},
     "output_type": "display_data"
    },
    {
     "data": {
      "application/vnd.jupyter.widget-view+json": {
       "model_id": "c244dc2d19de489e814f032d0c63a5de",
       "version_major": 2,
       "version_minor": 0
      },
      "text/plain": [
       "Validation: |                                                                                                 …"
      ]
     },
     "metadata": {},
     "output_type": "display_data"
    },
    {
     "data": {
      "application/vnd.jupyter.widget-view+json": {
       "model_id": "27a0a0edf1094128a3134ce05b92910c",
       "version_major": 2,
       "version_minor": 0
      },
      "text/plain": [
       "Validation: |                                                                                                 …"
      ]
     },
     "metadata": {},
     "output_type": "display_data"
    },
    {
     "data": {
      "application/vnd.jupyter.widget-view+json": {
       "model_id": "d8871c758997402a88cd99f0185bb8ef",
       "version_major": 2,
       "version_minor": 0
      },
      "text/plain": [
       "Validation: |                                                                                                 …"
      ]
     },
     "metadata": {},
     "output_type": "display_data"
    },
    {
     "data": {
      "application/vnd.jupyter.widget-view+json": {
       "model_id": "fc12b0dc7b4f4d68bd4223a7315ab618",
       "version_major": 2,
       "version_minor": 0
      },
      "text/plain": [
       "Validation: |                                                                                                 …"
      ]
     },
     "metadata": {},
     "output_type": "display_data"
    },
    {
     "data": {
      "application/vnd.jupyter.widget-view+json": {
       "model_id": "8ade1ed88f3d415ba273011af0d1c5eb",
       "version_major": 2,
       "version_minor": 0
      },
      "text/plain": [
       "Validation: |                                                                                                 …"
      ]
     },
     "metadata": {},
     "output_type": "display_data"
    },
    {
     "data": {
      "application/vnd.jupyter.widget-view+json": {
       "model_id": "0d3effaf71ad4b6f9d74ff8710b915be",
       "version_major": 2,
       "version_minor": 0
      },
      "text/plain": [
       "Validation: |                                                                                                 …"
      ]
     },
     "metadata": {},
     "output_type": "display_data"
    },
    {
     "data": {
      "application/vnd.jupyter.widget-view+json": {
       "model_id": "270721e12dd64258813d575903f69694",
       "version_major": 2,
       "version_minor": 0
      },
      "text/plain": [
       "Validation: |                                                                                                 …"
      ]
     },
     "metadata": {},
     "output_type": "display_data"
    },
    {
     "data": {
      "application/vnd.jupyter.widget-view+json": {
       "model_id": "08360acd684e42c798016f5c32103941",
       "version_major": 2,
       "version_minor": 0
      },
      "text/plain": [
       "Validation: |                                                                                                 …"
      ]
     },
     "metadata": {},
     "output_type": "display_data"
    },
    {
     "data": {
      "application/vnd.jupyter.widget-view+json": {
       "model_id": "04c2746f397940e783d84d2ad60b3b94",
       "version_major": 2,
       "version_minor": 0
      },
      "text/plain": [
       "Validation: |                                                                                                 …"
      ]
     },
     "metadata": {},
     "output_type": "display_data"
    },
    {
     "data": {
      "application/vnd.jupyter.widget-view+json": {
       "model_id": "9f4fa50cf9e2493c98d7edd0796f01d1",
       "version_major": 2,
       "version_minor": 0
      },
      "text/plain": [
       "Validation: |                                                                                                 …"
      ]
     },
     "metadata": {},
     "output_type": "display_data"
    },
    {
     "data": {
      "application/vnd.jupyter.widget-view+json": {
       "model_id": "e162e7f65366490badbd8127da19d064",
       "version_major": 2,
       "version_minor": 0
      },
      "text/plain": [
       "Validation: |                                                                                                 …"
      ]
     },
     "metadata": {},
     "output_type": "display_data"
    },
    {
     "data": {
      "application/vnd.jupyter.widget-view+json": {
       "model_id": "2b4a501c1fd344d6b7a0d8654a204d3a",
       "version_major": 2,
       "version_minor": 0
      },
      "text/plain": [
       "Validation: |                                                                                                 …"
      ]
     },
     "metadata": {},
     "output_type": "display_data"
    },
    {
     "data": {
      "application/vnd.jupyter.widget-view+json": {
       "model_id": "b73e0b8a10bc402e907e3ec1d03a9f4c",
       "version_major": 2,
       "version_minor": 0
      },
      "text/plain": [
       "Validation: |                                                                                                 …"
      ]
     },
     "metadata": {},
     "output_type": "display_data"
    },
    {
     "data": {
      "application/vnd.jupyter.widget-view+json": {
       "model_id": "35296c7a1b274cf6a7c9e72b08c5d39d",
       "version_major": 2,
       "version_minor": 0
      },
      "text/plain": [
       "Validation: |                                                                                                 …"
      ]
     },
     "metadata": {},
     "output_type": "display_data"
    },
    {
     "data": {
      "application/vnd.jupyter.widget-view+json": {
       "model_id": "7e94e821ebd64b4daba3ca0c6a5a20de",
       "version_major": 2,
       "version_minor": 0
      },
      "text/plain": [
       "Validation: |                                                                                                 …"
      ]
     },
     "metadata": {},
     "output_type": "display_data"
    },
    {
     "data": {
      "application/vnd.jupyter.widget-view+json": {
       "model_id": "178d1606c1064a268345bb886b1b0525",
       "version_major": 2,
       "version_minor": 0
      },
      "text/plain": [
       "Validation: |                                                                                                 …"
      ]
     },
     "metadata": {},
     "output_type": "display_data"
    },
    {
     "data": {
      "application/vnd.jupyter.widget-view+json": {
       "model_id": "2df4c0b4d9ec4be3be56fd773c608b55",
       "version_major": 2,
       "version_minor": 0
      },
      "text/plain": [
       "Validation: |                                                                                                 …"
      ]
     },
     "metadata": {},
     "output_type": "display_data"
    },
    {
     "data": {
      "application/vnd.jupyter.widget-view+json": {
       "model_id": "534a8a097b344426b22c90c2a6d51179",
       "version_major": 2,
       "version_minor": 0
      },
      "text/plain": [
       "Validation: |                                                                                                 …"
      ]
     },
     "metadata": {},
     "output_type": "display_data"
    },
    {
     "data": {
      "application/vnd.jupyter.widget-view+json": {
       "model_id": "897ed983254743b8ac01a25a6c821e12",
       "version_major": 2,
       "version_minor": 0
      },
      "text/plain": [
       "Validation: |                                                                                                 …"
      ]
     },
     "metadata": {},
     "output_type": "display_data"
    },
    {
     "data": {
      "application/vnd.jupyter.widget-view+json": {
       "model_id": "5c1c3fb5ad5c4ddca6f6fa16ebf175b2",
       "version_major": 2,
       "version_minor": 0
      },
      "text/plain": [
       "Validation: |                                                                                                 …"
      ]
     },
     "metadata": {},
     "output_type": "display_data"
    },
    {
     "data": {
      "application/vnd.jupyter.widget-view+json": {
       "model_id": "f928b3b575ad4b89ae7f0f339abb1850",
       "version_major": 2,
       "version_minor": 0
      },
      "text/plain": [
       "Validation: |                                                                                                 …"
      ]
     },
     "metadata": {},
     "output_type": "display_data"
    },
    {
     "data": {
      "application/vnd.jupyter.widget-view+json": {
       "model_id": "d3d6a81856674a4891c8ce135344f95c",
       "version_major": 2,
       "version_minor": 0
      },
      "text/plain": [
       "Validation: |                                                                                                 …"
      ]
     },
     "metadata": {},
     "output_type": "display_data"
    },
    {
     "data": {
      "application/vnd.jupyter.widget-view+json": {
       "model_id": "ad9f12e0d9ea455e80c10d93294d1e75",
       "version_major": 2,
       "version_minor": 0
      },
      "text/plain": [
       "Validation: |                                                                                                 …"
      ]
     },
     "metadata": {},
     "output_type": "display_data"
    },
    {
     "data": {
      "application/vnd.jupyter.widget-view+json": {
       "model_id": "7bd60a3188c34234a8f75e1ac56cadec",
       "version_major": 2,
       "version_minor": 0
      },
      "text/plain": [
       "Validation: |                                                                                                 …"
      ]
     },
     "metadata": {},
     "output_type": "display_data"
    },
    {
     "data": {
      "application/vnd.jupyter.widget-view+json": {
       "model_id": "10b56ced44474484a5925b3688082bfd",
       "version_major": 2,
       "version_minor": 0
      },
      "text/plain": [
       "Validation: |                                                                                                 …"
      ]
     },
     "metadata": {},
     "output_type": "display_data"
    },
    {
     "data": {
      "application/vnd.jupyter.widget-view+json": {
       "model_id": "a089ab56b3d74e02a9d40c10b2f5ebc0",
       "version_major": 2,
       "version_minor": 0
      },
      "text/plain": [
       "Validation: |                                                                                                 …"
      ]
     },
     "metadata": {},
     "output_type": "display_data"
    },
    {
     "data": {
      "application/vnd.jupyter.widget-view+json": {
       "model_id": "250a06ca06d9454d9023102fb72a3a74",
       "version_major": 2,
       "version_minor": 0
      },
      "text/plain": [
       "Validation: |                                                                                                 …"
      ]
     },
     "metadata": {},
     "output_type": "display_data"
    },
    {
     "data": {
      "application/vnd.jupyter.widget-view+json": {
       "model_id": "7d4816b3185c452884be38fb57789654",
       "version_major": 2,
       "version_minor": 0
      },
      "text/plain": [
       "Validation: |                                                                                                 …"
      ]
     },
     "metadata": {},
     "output_type": "display_data"
    },
    {
     "name": "stderr",
     "output_type": "stream",
     "text": [
      "`Trainer.fit` stopped: `max_epochs=30` reached.\n",
      "LOCAL_RANK: 0 - CUDA_VISIBLE_DEVICES: [0,1,2,3,4,5,6]\n",
      "/opt/conda/envs/audio/lib/python3.10/site-packages/pytorch_lightning/trainer/connectors/data_connector.py:441: The 'test_dataloader' does not have many workers which may be a bottleneck. Consider increasing the value of the `num_workers` argument` to `num_workers=127` in the `DataLoader` to improve performance.\n"
     ]
    },
    {
     "data": {
      "application/vnd.jupyter.widget-view+json": {
       "model_id": "3ee058aed1174e17a4052f9faf756dd9",
       "version_major": 2,
       "version_minor": 0
      },
      "text/plain": [
       "Testing: |                                                                                                    …"
      ]
     },
     "metadata": {},
     "output_type": "display_data"
    },
    {
     "name": "stderr",
     "output_type": "stream",
     "text": [
      "/opt/conda/envs/audio/lib/python3.10/site-packages/torchmetrics/utilities/prints.py:43: UserWarning: No negative samples in targets, false positive value should be meaningless. Returning zero tensor in false positive score\n",
      "  warnings.warn(*args, **kwargs)  # noqa: B028\n",
      "/opt/conda/envs/audio/lib/python3.10/site-packages/sklearn/model_selection/_split.py:737: UserWarning: The least populated class in y has only 1 members, which is less than n_splits=2.\n",
      "  warnings.warn(\n",
      "GPU available: True (cuda), used: True\n",
      "TPU available: False, using: 0 TPU cores\n",
      "IPU available: False, using: 0 IPUs\n",
      "HPU available: False, using: 0 HPUs\n",
      "LOCAL_RANK: 0 - CUDA_VISIBLE_DEVICES: [0,1,2,3,4,5,6]\n",
      "\n",
      "   | Name          | Type               | Params\n",
      "------------------------------------------------------\n",
      "0  | tab_enc       | TabularEncoder     | 4.9 K \n",
      "1  | rnn           | GRU                | 369 K \n",
      "2  | head          | Linear             | 129   \n",
      "3  | criterion     | MSELoss            | 0     \n",
      "4  | train_mae     | MeanAbsoluteError  | 0     \n",
      "5  | val_mae       | MeanAbsoluteError  | 0     \n",
      "6  | test_mae      | MeanAbsoluteError  | 0     \n",
      "7  | train_rmse    | MeanSquaredError   | 0     \n",
      "8  | val_rmse      | MeanSquaredError   | 0     \n",
      "9  | test_rmse     | MeanSquaredError   | 0     \n",
      "10 | train_acc     | MulticlassAccuracy | 0     \n",
      "11 | val_acc       | MulticlassAccuracy | 0     \n",
      "12 | test_acc      | MulticlassAccuracy | 0     \n",
      "13 | train_acc_tol | SumMetric          | 0     \n",
      "14 | val_acc_tol   | SumMetric          | 0     \n",
      "15 | test_acc_tol  | SumMetric          | 0     \n",
      "16 | train_cnt     | SumMetric          | 0     \n",
      "17 | val_cnt       | SumMetric          | 0     \n",
      "18 | test_cnt      | SumMetric          | 0     \n",
      "19 | train_auroc   | MulticlassAUROC    | 0     \n",
      "20 | val_auroc     | MulticlassAUROC    | 0     \n",
      "21 | test_auroc    | MulticlassAUROC    | 0     \n",
      "------------------------------------------------------\n",
      "374 K     Trainable params\n",
      "0         Non-trainable params\n",
      "374 K     Total params\n",
      "1.498     Total estimated model params size (MB)\n"
     ]
    },
    {
     "name": "stdout",
     "output_type": "stream",
     "text": [
      "Fold 9 (Test PID: normal-1): {'test_loss': 0.20200215280056, 'test_mae': 0.44944649934768677, 'test_rmse': 0.44944649934768677, 'test_acc': 1.0, 'test_acc±1': 1.0, 'auroc': 0.0, 'fold': 9, 'test_pid': 'normal-1'}\n"
     ]
    },
    {
     "data": {
      "application/vnd.jupyter.widget-view+json": {
       "model_id": "3af92d393dd54d29b8537d241089b322",
       "version_major": 2,
       "version_minor": 0
      },
      "text/plain": [
       "Sanity Checking: |                                                                                            …"
      ]
     },
     "metadata": {},
     "output_type": "display_data"
    },
    {
     "name": "stderr",
     "output_type": "stream",
     "text": [
      "/opt/conda/envs/audio/lib/python3.10/site-packages/pytorch_lightning/trainer/connectors/data_connector.py:441: The 'val_dataloader' does not have many workers which may be a bottleneck. Consider increasing the value of the `num_workers` argument` to `num_workers=127` in the `DataLoader` to improve performance.\n",
      "/opt/conda/envs/audio/lib/python3.10/site-packages/torch/nn/modules/linear.py:116: UserWarning: Deterministic behavior was enabled with either `torch.use_deterministic_algorithms(True)` or `at::Context::setDeterministicAlgorithms(true)`, but this operation is not deterministic because it uses CuBLAS and you have CUDA >= 10.2. To enable deterministic behavior in this case, you must set an environment variable before running your PyTorch application: CUBLAS_WORKSPACE_CONFIG=:4096:8 or CUBLAS_WORKSPACE_CONFIG=:16:8. For more information, go to https://docs.nvidia.com/cuda/cublas/index.html#results-reproducibility (Triggered internally at ../aten/src/ATen/Context.cpp:185.)\n",
      "  return F.linear(input, self.weight, self.bias)\n",
      "/opt/conda/envs/audio/lib/python3.10/site-packages/torchmetrics/utilities/prints.py:43: TorchMetricsUserWarning: You are trying to use a metric in deterministic mode on GPU that uses `torch.cumsum`, which is currently not supported. The tensor will be copied to the CPU memory to compute it and then copied back to GPU. Expect some slowdowns.\n",
      "  warnings.warn(*args, **kwargs)  # noqa: B028\n",
      "/opt/conda/envs/audio/lib/python3.10/site-packages/torchmetrics/utilities/prints.py:43: UserWarning: No positive samples in targets, true positive value should be meaningless. Returning zero tensor in true positive score\n",
      "  warnings.warn(*args, **kwargs)  # noqa: B028\n",
      "/opt/conda/envs/audio/lib/python3.10/site-packages/pytorch_lightning/trainer/connectors/data_connector.py:441: The 'train_dataloader' does not have many workers which may be a bottleneck. Consider increasing the value of the `num_workers` argument` to `num_workers=127` in the `DataLoader` to improve performance.\n",
      "/opt/conda/envs/audio/lib/python3.10/site-packages/pytorch_lightning/loops/fit_loop.py:298: The number of training batches (4) is smaller than the logging interval Trainer(log_every_n_steps=50). Set a lower value for log_every_n_steps if you want to see logs for the training epoch.\n"
     ]
    },
    {
     "data": {
      "application/vnd.jupyter.widget-view+json": {
       "model_id": "54785c31451546d19246963eb4b12267",
       "version_major": 2,
       "version_minor": 0
      },
      "text/plain": [
       "Training: |                                                                                                   …"
      ]
     },
     "metadata": {},
     "output_type": "display_data"
    },
    {
     "name": "stderr",
     "output_type": "stream",
     "text": [
      "/opt/conda/envs/audio/lib/python3.10/site-packages/torch/autograd/graph.py:744: UserWarning: Deterministic behavior was enabled with either `torch.use_deterministic_algorithms(True)` or `at::Context::setDeterministicAlgorithms(true)`, but this operation is not deterministic because it uses CuBLAS and you have CUDA >= 10.2. To enable deterministic behavior in this case, you must set an environment variable before running your PyTorch application: CUBLAS_WORKSPACE_CONFIG=:4096:8 or CUBLAS_WORKSPACE_CONFIG=:16:8. For more information, go to https://docs.nvidia.com/cuda/cublas/index.html#results-reproducibility (Triggered internally at ../aten/src/ATen/Context.cpp:185.)\n",
      "  return Variable._execution_engine.run_backward(  # Calls into the C++ engine to run the backward pass\n"
     ]
    },
    {
     "data": {
      "application/vnd.jupyter.widget-view+json": {
       "model_id": "12c50c239f44404b900f5e4638aeeda4",
       "version_major": 2,
       "version_minor": 0
      },
      "text/plain": [
       "Validation: |                                                                                                 …"
      ]
     },
     "metadata": {},
     "output_type": "display_data"
    },
    {
     "data": {
      "application/vnd.jupyter.widget-view+json": {
       "model_id": "a62863bc61ce4d91985ad299b43ef39f",
       "version_major": 2,
       "version_minor": 0
      },
      "text/plain": [
       "Validation: |                                                                                                 …"
      ]
     },
     "metadata": {},
     "output_type": "display_data"
    },
    {
     "data": {
      "application/vnd.jupyter.widget-view+json": {
       "model_id": "12df72f070684a75a2fe4728c9a04cbe",
       "version_major": 2,
       "version_minor": 0
      },
      "text/plain": [
       "Validation: |                                                                                                 …"
      ]
     },
     "metadata": {},
     "output_type": "display_data"
    },
    {
     "data": {
      "application/vnd.jupyter.widget-view+json": {
       "model_id": "70a83fae856340498be7888846e28ac3",
       "version_major": 2,
       "version_minor": 0
      },
      "text/plain": [
       "Validation: |                                                                                                 …"
      ]
     },
     "metadata": {},
     "output_type": "display_data"
    },
    {
     "data": {
      "application/vnd.jupyter.widget-view+json": {
       "model_id": "229f7c2251fc4790beafe7748e84b56f",
       "version_major": 2,
       "version_minor": 0
      },
      "text/plain": [
       "Validation: |                                                                                                 …"
      ]
     },
     "metadata": {},
     "output_type": "display_data"
    },
    {
     "data": {
      "application/vnd.jupyter.widget-view+json": {
       "model_id": "133540eb23f64297b057c2820ac6379d",
       "version_major": 2,
       "version_minor": 0
      },
      "text/plain": [
       "Validation: |                                                                                                 …"
      ]
     },
     "metadata": {},
     "output_type": "display_data"
    },
    {
     "data": {
      "application/vnd.jupyter.widget-view+json": {
       "model_id": "8d3873e5013a4184bc9f8b438ea33281",
       "version_major": 2,
       "version_minor": 0
      },
      "text/plain": [
       "Validation: |                                                                                                 …"
      ]
     },
     "metadata": {},
     "output_type": "display_data"
    },
    {
     "data": {
      "application/vnd.jupyter.widget-view+json": {
       "model_id": "8066420c456943e6a9152d8ed1462e48",
       "version_major": 2,
       "version_minor": 0
      },
      "text/plain": [
       "Validation: |                                                                                                 …"
      ]
     },
     "metadata": {},
     "output_type": "display_data"
    },
    {
     "data": {
      "application/vnd.jupyter.widget-view+json": {
       "model_id": "5ca260364c854a339d6af0816bd56fb1",
       "version_major": 2,
       "version_minor": 0
      },
      "text/plain": [
       "Validation: |                                                                                                 …"
      ]
     },
     "metadata": {},
     "output_type": "display_data"
    },
    {
     "data": {
      "application/vnd.jupyter.widget-view+json": {
       "model_id": "f9da498c5702463bb0f80fb8972b4d9b",
       "version_major": 2,
       "version_minor": 0
      },
      "text/plain": [
       "Validation: |                                                                                                 …"
      ]
     },
     "metadata": {},
     "output_type": "display_data"
    },
    {
     "data": {
      "application/vnd.jupyter.widget-view+json": {
       "model_id": "08c3d6943724460c84643a74b9f43d6c",
       "version_major": 2,
       "version_minor": 0
      },
      "text/plain": [
       "Validation: |                                                                                                 …"
      ]
     },
     "metadata": {},
     "output_type": "display_data"
    },
    {
     "data": {
      "application/vnd.jupyter.widget-view+json": {
       "model_id": "77cee97ac3054ff582122b63bb64e203",
       "version_major": 2,
       "version_minor": 0
      },
      "text/plain": [
       "Validation: |                                                                                                 …"
      ]
     },
     "metadata": {},
     "output_type": "display_data"
    },
    {
     "data": {
      "application/vnd.jupyter.widget-view+json": {
       "model_id": "024f556895e540e58c30cbc463981e6c",
       "version_major": 2,
       "version_minor": 0
      },
      "text/plain": [
       "Validation: |                                                                                                 …"
      ]
     },
     "metadata": {},
     "output_type": "display_data"
    },
    {
     "data": {
      "application/vnd.jupyter.widget-view+json": {
       "model_id": "55c51434e7354215a4dda41acb8f4a3b",
       "version_major": 2,
       "version_minor": 0
      },
      "text/plain": [
       "Validation: |                                                                                                 …"
      ]
     },
     "metadata": {},
     "output_type": "display_data"
    },
    {
     "data": {
      "application/vnd.jupyter.widget-view+json": {
       "model_id": "591ec18a4ce14579b24e7d9472bdbab4",
       "version_major": 2,
       "version_minor": 0
      },
      "text/plain": [
       "Validation: |                                                                                                 …"
      ]
     },
     "metadata": {},
     "output_type": "display_data"
    },
    {
     "data": {
      "application/vnd.jupyter.widget-view+json": {
       "model_id": "538d7193031044fd8c024813d5c30a79",
       "version_major": 2,
       "version_minor": 0
      },
      "text/plain": [
       "Validation: |                                                                                                 …"
      ]
     },
     "metadata": {},
     "output_type": "display_data"
    },
    {
     "data": {
      "application/vnd.jupyter.widget-view+json": {
       "model_id": "a804f7e9e820477b8f2b2889c7bfae92",
       "version_major": 2,
       "version_minor": 0
      },
      "text/plain": [
       "Validation: |                                                                                                 …"
      ]
     },
     "metadata": {},
     "output_type": "display_data"
    },
    {
     "data": {
      "application/vnd.jupyter.widget-view+json": {
       "model_id": "f4a0a9af9e404c24b8c1b7a91c24f0eb",
       "version_major": 2,
       "version_minor": 0
      },
      "text/plain": [
       "Validation: |                                                                                                 …"
      ]
     },
     "metadata": {},
     "output_type": "display_data"
    },
    {
     "data": {
      "application/vnd.jupyter.widget-view+json": {
       "model_id": "591ec7200fc3475ea17a319969c0b9e3",
       "version_major": 2,
       "version_minor": 0
      },
      "text/plain": [
       "Validation: |                                                                                                 …"
      ]
     },
     "metadata": {},
     "output_type": "display_data"
    },
    {
     "data": {
      "application/vnd.jupyter.widget-view+json": {
       "model_id": "a9ef7554f2bb4bad8ae48ca5ef883d39",
       "version_major": 2,
       "version_minor": 0
      },
      "text/plain": [
       "Validation: |                                                                                                 …"
      ]
     },
     "metadata": {},
     "output_type": "display_data"
    },
    {
     "data": {
      "application/vnd.jupyter.widget-view+json": {
       "model_id": "70d1074b23794c57ad58d5723712ae23",
       "version_major": 2,
       "version_minor": 0
      },
      "text/plain": [
       "Validation: |                                                                                                 …"
      ]
     },
     "metadata": {},
     "output_type": "display_data"
    },
    {
     "data": {
      "application/vnd.jupyter.widget-view+json": {
       "model_id": "99a751991ddb4088b91d3b7c69e8a837",
       "version_major": 2,
       "version_minor": 0
      },
      "text/plain": [
       "Validation: |                                                                                                 …"
      ]
     },
     "metadata": {},
     "output_type": "display_data"
    },
    {
     "data": {
      "application/vnd.jupyter.widget-view+json": {
       "model_id": "78a5ba4ea9cb4b06adb219c91c433e00",
       "version_major": 2,
       "version_minor": 0
      },
      "text/plain": [
       "Validation: |                                                                                                 …"
      ]
     },
     "metadata": {},
     "output_type": "display_data"
    },
    {
     "data": {
      "application/vnd.jupyter.widget-view+json": {
       "model_id": "18a726a8cce3477a829cae38a00fae5e",
       "version_major": 2,
       "version_minor": 0
      },
      "text/plain": [
       "Validation: |                                                                                                 …"
      ]
     },
     "metadata": {},
     "output_type": "display_data"
    },
    {
     "data": {
      "application/vnd.jupyter.widget-view+json": {
       "model_id": "c81e8aada4dd49e78d86d12372b612b0",
       "version_major": 2,
       "version_minor": 0
      },
      "text/plain": [
       "Validation: |                                                                                                 …"
      ]
     },
     "metadata": {},
     "output_type": "display_data"
    },
    {
     "data": {
      "application/vnd.jupyter.widget-view+json": {
       "model_id": "a4dad3b855db44389c8b6ca1896a6508",
       "version_major": 2,
       "version_minor": 0
      },
      "text/plain": [
       "Validation: |                                                                                                 …"
      ]
     },
     "metadata": {},
     "output_type": "display_data"
    },
    {
     "data": {
      "application/vnd.jupyter.widget-view+json": {
       "model_id": "742d3318df3f47fd80ba33d6f7330ebd",
       "version_major": 2,
       "version_minor": 0
      },
      "text/plain": [
       "Validation: |                                                                                                 …"
      ]
     },
     "metadata": {},
     "output_type": "display_data"
    },
    {
     "data": {
      "application/vnd.jupyter.widget-view+json": {
       "model_id": "8bb68ca2257f465f9ad6bf70637e5111",
       "version_major": 2,
       "version_minor": 0
      },
      "text/plain": [
       "Validation: |                                                                                                 …"
      ]
     },
     "metadata": {},
     "output_type": "display_data"
    },
    {
     "data": {
      "application/vnd.jupyter.widget-view+json": {
       "model_id": "bd7daaa614424981af36a9d9548ad04e",
       "version_major": 2,
       "version_minor": 0
      },
      "text/plain": [
       "Validation: |                                                                                                 …"
      ]
     },
     "metadata": {},
     "output_type": "display_data"
    },
    {
     "data": {
      "application/vnd.jupyter.widget-view+json": {
       "model_id": "fa17cd2a0b2340ec9e9d20114315efdc",
       "version_major": 2,
       "version_minor": 0
      },
      "text/plain": [
       "Validation: |                                                                                                 …"
      ]
     },
     "metadata": {},
     "output_type": "display_data"
    },
    {
     "name": "stderr",
     "output_type": "stream",
     "text": [
      "`Trainer.fit` stopped: `max_epochs=30` reached.\n",
      "LOCAL_RANK: 0 - CUDA_VISIBLE_DEVICES: [0,1,2,3,4,5,6]\n",
      "/opt/conda/envs/audio/lib/python3.10/site-packages/pytorch_lightning/trainer/connectors/data_connector.py:441: The 'test_dataloader' does not have many workers which may be a bottleneck. Consider increasing the value of the `num_workers` argument` to `num_workers=127` in the `DataLoader` to improve performance.\n"
     ]
    },
    {
     "data": {
      "application/vnd.jupyter.widget-view+json": {
       "model_id": "307b61b67b2b4fbc9a496951ab03b9ea",
       "version_major": 2,
       "version_minor": 0
      },
      "text/plain": [
       "Testing: |                                                                                                    …"
      ]
     },
     "metadata": {},
     "output_type": "display_data"
    },
    {
     "name": "stderr",
     "output_type": "stream",
     "text": [
      "/opt/conda/envs/audio/lib/python3.10/site-packages/torchmetrics/utilities/prints.py:43: UserWarning: No negative samples in targets, false positive value should be meaningless. Returning zero tensor in false positive score\n",
      "  warnings.warn(*args, **kwargs)  # noqa: B028\n",
      "/opt/conda/envs/audio/lib/python3.10/site-packages/sklearn/model_selection/_split.py:737: UserWarning: The least populated class in y has only 1 members, which is less than n_splits=2.\n",
      "  warnings.warn(\n",
      "GPU available: True (cuda), used: True\n",
      "TPU available: False, using: 0 TPU cores\n",
      "IPU available: False, using: 0 IPUs\n",
      "HPU available: False, using: 0 HPUs\n",
      "LOCAL_RANK: 0 - CUDA_VISIBLE_DEVICES: [0,1,2,3,4,5,6]\n",
      "\n",
      "   | Name          | Type               | Params\n",
      "------------------------------------------------------\n",
      "0  | tab_enc       | TabularEncoder     | 4.9 K \n",
      "1  | rnn           | GRU                | 369 K \n",
      "2  | head          | Linear             | 129   \n",
      "3  | criterion     | MSELoss            | 0     \n",
      "4  | train_mae     | MeanAbsoluteError  | 0     \n",
      "5  | val_mae       | MeanAbsoluteError  | 0     \n",
      "6  | test_mae      | MeanAbsoluteError  | 0     \n",
      "7  | train_rmse    | MeanSquaredError   | 0     \n",
      "8  | val_rmse      | MeanSquaredError   | 0     \n",
      "9  | test_rmse     | MeanSquaredError   | 0     \n",
      "10 | train_acc     | MulticlassAccuracy | 0     \n",
      "11 | val_acc       | MulticlassAccuracy | 0     \n",
      "12 | test_acc      | MulticlassAccuracy | 0     \n",
      "13 | train_acc_tol | SumMetric          | 0     \n",
      "14 | val_acc_tol   | SumMetric          | 0     \n",
      "15 | test_acc_tol  | SumMetric          | 0     \n",
      "16 | train_cnt     | SumMetric          | 0     \n",
      "17 | val_cnt       | SumMetric          | 0     \n",
      "18 | test_cnt      | SumMetric          | 0     \n",
      "19 | train_auroc   | MulticlassAUROC    | 0     \n",
      "20 | val_auroc     | MulticlassAUROC    | 0     \n",
      "21 | test_auroc    | MulticlassAUROC    | 0     \n",
      "------------------------------------------------------\n",
      "374 K     Trainable params\n",
      "0         Non-trainable params\n",
      "374 K     Total params\n",
      "1.498     Total estimated model params size (MB)\n"
     ]
    },
    {
     "name": "stdout",
     "output_type": "stream",
     "text": [
      "Fold 10 (Test PID: normal-17): {'test_loss': 0.0022682351991534233, 'test_mae': 0.04762599244713783, 'test_rmse': 0.04762599244713783, 'test_acc': 1.0, 'test_acc±1': 1.0, 'auroc': 0.0, 'fold': 10, 'test_pid': 'normal-17'}\n"
     ]
    },
    {
     "data": {
      "application/vnd.jupyter.widget-view+json": {
       "model_id": "da36655c67bc4de0906f3a2240877eee",
       "version_major": 2,
       "version_minor": 0
      },
      "text/plain": [
       "Sanity Checking: |                                                                                            …"
      ]
     },
     "metadata": {},
     "output_type": "display_data"
    },
    {
     "name": "stderr",
     "output_type": "stream",
     "text": [
      "/opt/conda/envs/audio/lib/python3.10/site-packages/pytorch_lightning/trainer/connectors/data_connector.py:441: The 'val_dataloader' does not have many workers which may be a bottleneck. Consider increasing the value of the `num_workers` argument` to `num_workers=127` in the `DataLoader` to improve performance.\n",
      "/opt/conda/envs/audio/lib/python3.10/site-packages/torch/nn/modules/linear.py:116: UserWarning: Deterministic behavior was enabled with either `torch.use_deterministic_algorithms(True)` or `at::Context::setDeterministicAlgorithms(true)`, but this operation is not deterministic because it uses CuBLAS and you have CUDA >= 10.2. To enable deterministic behavior in this case, you must set an environment variable before running your PyTorch application: CUBLAS_WORKSPACE_CONFIG=:4096:8 or CUBLAS_WORKSPACE_CONFIG=:16:8. For more information, go to https://docs.nvidia.com/cuda/cublas/index.html#results-reproducibility (Triggered internally at ../aten/src/ATen/Context.cpp:185.)\n",
      "  return F.linear(input, self.weight, self.bias)\n",
      "/opt/conda/envs/audio/lib/python3.10/site-packages/torchmetrics/utilities/prints.py:43: TorchMetricsUserWarning: You are trying to use a metric in deterministic mode on GPU that uses `torch.cumsum`, which is currently not supported. The tensor will be copied to the CPU memory to compute it and then copied back to GPU. Expect some slowdowns.\n",
      "  warnings.warn(*args, **kwargs)  # noqa: B028\n",
      "/opt/conda/envs/audio/lib/python3.10/site-packages/torchmetrics/utilities/prints.py:43: UserWarning: No positive samples in targets, true positive value should be meaningless. Returning zero tensor in true positive score\n",
      "  warnings.warn(*args, **kwargs)  # noqa: B028\n",
      "/opt/conda/envs/audio/lib/python3.10/site-packages/pytorch_lightning/trainer/connectors/data_connector.py:441: The 'train_dataloader' does not have many workers which may be a bottleneck. Consider increasing the value of the `num_workers` argument` to `num_workers=127` in the `DataLoader` to improve performance.\n",
      "/opt/conda/envs/audio/lib/python3.10/site-packages/pytorch_lightning/loops/fit_loop.py:298: The number of training batches (4) is smaller than the logging interval Trainer(log_every_n_steps=50). Set a lower value for log_every_n_steps if you want to see logs for the training epoch.\n"
     ]
    },
    {
     "data": {
      "application/vnd.jupyter.widget-view+json": {
       "model_id": "0b913c7a363f4d0589ce2353ff5caebf",
       "version_major": 2,
       "version_minor": 0
      },
      "text/plain": [
       "Training: |                                                                                                   …"
      ]
     },
     "metadata": {},
     "output_type": "display_data"
    },
    {
     "name": "stderr",
     "output_type": "stream",
     "text": [
      "/opt/conda/envs/audio/lib/python3.10/site-packages/torch/autograd/graph.py:744: UserWarning: Deterministic behavior was enabled with either `torch.use_deterministic_algorithms(True)` or `at::Context::setDeterministicAlgorithms(true)`, but this operation is not deterministic because it uses CuBLAS and you have CUDA >= 10.2. To enable deterministic behavior in this case, you must set an environment variable before running your PyTorch application: CUBLAS_WORKSPACE_CONFIG=:4096:8 or CUBLAS_WORKSPACE_CONFIG=:16:8. For more information, go to https://docs.nvidia.com/cuda/cublas/index.html#results-reproducibility (Triggered internally at ../aten/src/ATen/Context.cpp:185.)\n",
      "  return Variable._execution_engine.run_backward(  # Calls into the C++ engine to run the backward pass\n"
     ]
    },
    {
     "data": {
      "application/vnd.jupyter.widget-view+json": {
       "model_id": "dc396cf216f846b196c95dda521c010f",
       "version_major": 2,
       "version_minor": 0
      },
      "text/plain": [
       "Validation: |                                                                                                 …"
      ]
     },
     "metadata": {},
     "output_type": "display_data"
    },
    {
     "data": {
      "application/vnd.jupyter.widget-view+json": {
       "model_id": "12db9ce475b74cc49c9812168095147e",
       "version_major": 2,
       "version_minor": 0
      },
      "text/plain": [
       "Validation: |                                                                                                 …"
      ]
     },
     "metadata": {},
     "output_type": "display_data"
    },
    {
     "data": {
      "application/vnd.jupyter.widget-view+json": {
       "model_id": "da3c5f044cd34aaab330ebfe8f28edab",
       "version_major": 2,
       "version_minor": 0
      },
      "text/plain": [
       "Validation: |                                                                                                 …"
      ]
     },
     "metadata": {},
     "output_type": "display_data"
    },
    {
     "data": {
      "application/vnd.jupyter.widget-view+json": {
       "model_id": "b1600cc102d044fabf0db721be97c15b",
       "version_major": 2,
       "version_minor": 0
      },
      "text/plain": [
       "Validation: |                                                                                                 …"
      ]
     },
     "metadata": {},
     "output_type": "display_data"
    },
    {
     "data": {
      "application/vnd.jupyter.widget-view+json": {
       "model_id": "0068570f6a744b3f9668898bc08b83b8",
       "version_major": 2,
       "version_minor": 0
      },
      "text/plain": [
       "Validation: |                                                                                                 …"
      ]
     },
     "metadata": {},
     "output_type": "display_data"
    },
    {
     "data": {
      "application/vnd.jupyter.widget-view+json": {
       "model_id": "58aa542719c04838939d4d8d34575ea2",
       "version_major": 2,
       "version_minor": 0
      },
      "text/plain": [
       "Validation: |                                                                                                 …"
      ]
     },
     "metadata": {},
     "output_type": "display_data"
    },
    {
     "data": {
      "application/vnd.jupyter.widget-view+json": {
       "model_id": "145966877ce849cdbef310079f5e0ef3",
       "version_major": 2,
       "version_minor": 0
      },
      "text/plain": [
       "Validation: |                                                                                                 …"
      ]
     },
     "metadata": {},
     "output_type": "display_data"
    },
    {
     "data": {
      "application/vnd.jupyter.widget-view+json": {
       "model_id": "470b216fd575479dbf84c5bed12c267f",
       "version_major": 2,
       "version_minor": 0
      },
      "text/plain": [
       "Validation: |                                                                                                 …"
      ]
     },
     "metadata": {},
     "output_type": "display_data"
    },
    {
     "data": {
      "application/vnd.jupyter.widget-view+json": {
       "model_id": "a23cd2de42d443bb9157357cd8a847d1",
       "version_major": 2,
       "version_minor": 0
      },
      "text/plain": [
       "Validation: |                                                                                                 …"
      ]
     },
     "metadata": {},
     "output_type": "display_data"
    },
    {
     "data": {
      "application/vnd.jupyter.widget-view+json": {
       "model_id": "84fd2ae607804fb797d85f7c8aed4af1",
       "version_major": 2,
       "version_minor": 0
      },
      "text/plain": [
       "Validation: |                                                                                                 …"
      ]
     },
     "metadata": {},
     "output_type": "display_data"
    },
    {
     "data": {
      "application/vnd.jupyter.widget-view+json": {
       "model_id": "4cb682081d2d46f7b1882b01a5fae65a",
       "version_major": 2,
       "version_minor": 0
      },
      "text/plain": [
       "Validation: |                                                                                                 …"
      ]
     },
     "metadata": {},
     "output_type": "display_data"
    },
    {
     "data": {
      "application/vnd.jupyter.widget-view+json": {
       "model_id": "a9c43a7e97a14b7ba0a8c32863bfc79b",
       "version_major": 2,
       "version_minor": 0
      },
      "text/plain": [
       "Validation: |                                                                                                 …"
      ]
     },
     "metadata": {},
     "output_type": "display_data"
    },
    {
     "data": {
      "application/vnd.jupyter.widget-view+json": {
       "model_id": "19c2c5e1cd884c6b94073473207a46d8",
       "version_major": 2,
       "version_minor": 0
      },
      "text/plain": [
       "Validation: |                                                                                                 …"
      ]
     },
     "metadata": {},
     "output_type": "display_data"
    },
    {
     "data": {
      "application/vnd.jupyter.widget-view+json": {
       "model_id": "11b6561ef69d4469996ac3075c6d1b03",
       "version_major": 2,
       "version_minor": 0
      },
      "text/plain": [
       "Validation: |                                                                                                 …"
      ]
     },
     "metadata": {},
     "output_type": "display_data"
    },
    {
     "data": {
      "application/vnd.jupyter.widget-view+json": {
       "model_id": "3cc53ea97b0b416e8de1add5ecb51249",
       "version_major": 2,
       "version_minor": 0
      },
      "text/plain": [
       "Validation: |                                                                                                 …"
      ]
     },
     "metadata": {},
     "output_type": "display_data"
    },
    {
     "data": {
      "application/vnd.jupyter.widget-view+json": {
       "model_id": "0a9622ea6c744629aa13bc12e138db00",
       "version_major": 2,
       "version_minor": 0
      },
      "text/plain": [
       "Validation: |                                                                                                 …"
      ]
     },
     "metadata": {},
     "output_type": "display_data"
    },
    {
     "data": {
      "application/vnd.jupyter.widget-view+json": {
       "model_id": "69fb43ca633d4dc2acfb6274187be8be",
       "version_major": 2,
       "version_minor": 0
      },
      "text/plain": [
       "Validation: |                                                                                                 …"
      ]
     },
     "metadata": {},
     "output_type": "display_data"
    },
    {
     "data": {
      "application/vnd.jupyter.widget-view+json": {
       "model_id": "f76608453d104e7ca5eccf16902fdbd4",
       "version_major": 2,
       "version_minor": 0
      },
      "text/plain": [
       "Validation: |                                                                                                 …"
      ]
     },
     "metadata": {},
     "output_type": "display_data"
    },
    {
     "data": {
      "application/vnd.jupyter.widget-view+json": {
       "model_id": "3036751238734d0e9b7d32cc4b2d593d",
       "version_major": 2,
       "version_minor": 0
      },
      "text/plain": [
       "Validation: |                                                                                                 …"
      ]
     },
     "metadata": {},
     "output_type": "display_data"
    },
    {
     "data": {
      "application/vnd.jupyter.widget-view+json": {
       "model_id": "47dd156d272544c0ad94f05893b0db0f",
       "version_major": 2,
       "version_minor": 0
      },
      "text/plain": [
       "Validation: |                                                                                                 …"
      ]
     },
     "metadata": {},
     "output_type": "display_data"
    },
    {
     "data": {
      "application/vnd.jupyter.widget-view+json": {
       "model_id": "0992174f6ae34802853446ddfc087b23",
       "version_major": 2,
       "version_minor": 0
      },
      "text/plain": [
       "Validation: |                                                                                                 …"
      ]
     },
     "metadata": {},
     "output_type": "display_data"
    },
    {
     "data": {
      "application/vnd.jupyter.widget-view+json": {
       "model_id": "9ddaa5d3164e4eff83ef58b8c36a0c86",
       "version_major": 2,
       "version_minor": 0
      },
      "text/plain": [
       "Validation: |                                                                                                 …"
      ]
     },
     "metadata": {},
     "output_type": "display_data"
    },
    {
     "data": {
      "application/vnd.jupyter.widget-view+json": {
       "model_id": "a8ea9c9378444112bc73b5ecbefc65ca",
       "version_major": 2,
       "version_minor": 0
      },
      "text/plain": [
       "Validation: |                                                                                                 …"
      ]
     },
     "metadata": {},
     "output_type": "display_data"
    },
    {
     "data": {
      "application/vnd.jupyter.widget-view+json": {
       "model_id": "da5fc309e6d147e4813dcbf8a5ae2240",
       "version_major": 2,
       "version_minor": 0
      },
      "text/plain": [
       "Validation: |                                                                                                 …"
      ]
     },
     "metadata": {},
     "output_type": "display_data"
    },
    {
     "data": {
      "application/vnd.jupyter.widget-view+json": {
       "model_id": "f1dcfefc9e6444119420c66a6b14c08e",
       "version_major": 2,
       "version_minor": 0
      },
      "text/plain": [
       "Validation: |                                                                                                 …"
      ]
     },
     "metadata": {},
     "output_type": "display_data"
    },
    {
     "data": {
      "application/vnd.jupyter.widget-view+json": {
       "model_id": "d0b9c51b22104e2aab4ecce5c68cab57",
       "version_major": 2,
       "version_minor": 0
      },
      "text/plain": [
       "Validation: |                                                                                                 …"
      ]
     },
     "metadata": {},
     "output_type": "display_data"
    },
    {
     "data": {
      "application/vnd.jupyter.widget-view+json": {
       "model_id": "8f803dc46df747089649149b7e6b2e0e",
       "version_major": 2,
       "version_minor": 0
      },
      "text/plain": [
       "Validation: |                                                                                                 …"
      ]
     },
     "metadata": {},
     "output_type": "display_data"
    },
    {
     "data": {
      "application/vnd.jupyter.widget-view+json": {
       "model_id": "1ca7f0cb8dc44f7190b73d5bd8cc34b7",
       "version_major": 2,
       "version_minor": 0
      },
      "text/plain": [
       "Validation: |                                                                                                 …"
      ]
     },
     "metadata": {},
     "output_type": "display_data"
    },
    {
     "data": {
      "application/vnd.jupyter.widget-view+json": {
       "model_id": "9f1177fd91f54c6e81410cd29c62bb79",
       "version_major": 2,
       "version_minor": 0
      },
      "text/plain": [
       "Validation: |                                                                                                 …"
      ]
     },
     "metadata": {},
     "output_type": "display_data"
    },
    {
     "data": {
      "application/vnd.jupyter.widget-view+json": {
       "model_id": "eab2c24b52d0416fa5e3997c38619eb5",
       "version_major": 2,
       "version_minor": 0
      },
      "text/plain": [
       "Validation: |                                                                                                 …"
      ]
     },
     "metadata": {},
     "output_type": "display_data"
    },
    {
     "name": "stderr",
     "output_type": "stream",
     "text": [
      "`Trainer.fit` stopped: `max_epochs=30` reached.\n",
      "LOCAL_RANK: 0 - CUDA_VISIBLE_DEVICES: [0,1,2,3,4,5,6]\n",
      "/opt/conda/envs/audio/lib/python3.10/site-packages/pytorch_lightning/trainer/connectors/data_connector.py:441: The 'test_dataloader' does not have many workers which may be a bottleneck. Consider increasing the value of the `num_workers` argument` to `num_workers=127` in the `DataLoader` to improve performance.\n"
     ]
    },
    {
     "data": {
      "application/vnd.jupyter.widget-view+json": {
       "model_id": "6da5bf02c07b4bff99783a42c388e501",
       "version_major": 2,
       "version_minor": 0
      },
      "text/plain": [
       "Testing: |                                                                                                    …"
      ]
     },
     "metadata": {},
     "output_type": "display_data"
    },
    {
     "name": "stderr",
     "output_type": "stream",
     "text": [
      "/opt/conda/envs/audio/lib/python3.10/site-packages/torchmetrics/utilities/prints.py:43: UserWarning: No negative samples in targets, false positive value should be meaningless. Returning zero tensor in false positive score\n",
      "  warnings.warn(*args, **kwargs)  # noqa: B028\n",
      "/opt/conda/envs/audio/lib/python3.10/site-packages/sklearn/model_selection/_split.py:737: UserWarning: The least populated class in y has only 1 members, which is less than n_splits=2.\n",
      "  warnings.warn(\n",
      "GPU available: True (cuda), used: True\n",
      "TPU available: False, using: 0 TPU cores\n",
      "IPU available: False, using: 0 IPUs\n",
      "HPU available: False, using: 0 HPUs\n",
      "LOCAL_RANK: 0 - CUDA_VISIBLE_DEVICES: [0,1,2,3,4,5,6]\n",
      "\n",
      "   | Name          | Type               | Params\n",
      "------------------------------------------------------\n",
      "0  | tab_enc       | TabularEncoder     | 4.9 K \n",
      "1  | rnn           | GRU                | 369 K \n",
      "2  | head          | Linear             | 129   \n",
      "3  | criterion     | MSELoss            | 0     \n",
      "4  | train_mae     | MeanAbsoluteError  | 0     \n",
      "5  | val_mae       | MeanAbsoluteError  | 0     \n",
      "6  | test_mae      | MeanAbsoluteError  | 0     \n",
      "7  | train_rmse    | MeanSquaredError   | 0     \n",
      "8  | val_rmse      | MeanSquaredError   | 0     \n",
      "9  | test_rmse     | MeanSquaredError   | 0     \n",
      "10 | train_acc     | MulticlassAccuracy | 0     \n",
      "11 | val_acc       | MulticlassAccuracy | 0     \n",
      "12 | test_acc      | MulticlassAccuracy | 0     \n",
      "13 | train_acc_tol | SumMetric          | 0     \n",
      "14 | val_acc_tol   | SumMetric          | 0     \n",
      "15 | test_acc_tol  | SumMetric          | 0     \n",
      "16 | train_cnt     | SumMetric          | 0     \n",
      "17 | val_cnt       | SumMetric          | 0     \n",
      "18 | test_cnt      | SumMetric          | 0     \n",
      "19 | train_auroc   | MulticlassAUROC    | 0     \n",
      "20 | val_auroc     | MulticlassAUROC    | 0     \n",
      "21 | test_auroc    | MulticlassAUROC    | 0     \n",
      "------------------------------------------------------\n",
      "374 K     Trainable params\n",
      "0         Non-trainable params\n",
      "374 K     Total params\n",
      "1.498     Total estimated model params size (MB)\n"
     ]
    },
    {
     "name": "stdout",
     "output_type": "stream",
     "text": [
      "Fold 11 (Test PID: normal-13): {'test_loss': 0.00026771932607516646, 'test_mae': 0.016362130641937256, 'test_rmse': 0.016362130641937256, 'test_acc': 1.0, 'test_acc±1': 1.0, 'auroc': 0.0, 'fold': 11, 'test_pid': 'normal-13'}\n"
     ]
    },
    {
     "data": {
      "application/vnd.jupyter.widget-view+json": {
       "model_id": "c71e9bd1150b4a7b851317ad33ed15b5",
       "version_major": 2,
       "version_minor": 0
      },
      "text/plain": [
       "Sanity Checking: |                                                                                            …"
      ]
     },
     "metadata": {},
     "output_type": "display_data"
    },
    {
     "name": "stderr",
     "output_type": "stream",
     "text": [
      "/opt/conda/envs/audio/lib/python3.10/site-packages/pytorch_lightning/trainer/connectors/data_connector.py:441: The 'val_dataloader' does not have many workers which may be a bottleneck. Consider increasing the value of the `num_workers` argument` to `num_workers=127` in the `DataLoader` to improve performance.\n",
      "/opt/conda/envs/audio/lib/python3.10/site-packages/torch/nn/modules/linear.py:116: UserWarning: Deterministic behavior was enabled with either `torch.use_deterministic_algorithms(True)` or `at::Context::setDeterministicAlgorithms(true)`, but this operation is not deterministic because it uses CuBLAS and you have CUDA >= 10.2. To enable deterministic behavior in this case, you must set an environment variable before running your PyTorch application: CUBLAS_WORKSPACE_CONFIG=:4096:8 or CUBLAS_WORKSPACE_CONFIG=:16:8. For more information, go to https://docs.nvidia.com/cuda/cublas/index.html#results-reproducibility (Triggered internally at ../aten/src/ATen/Context.cpp:185.)\n",
      "  return F.linear(input, self.weight, self.bias)\n",
      "/opt/conda/envs/audio/lib/python3.10/site-packages/torchmetrics/utilities/prints.py:43: TorchMetricsUserWarning: You are trying to use a metric in deterministic mode on GPU that uses `torch.cumsum`, which is currently not supported. The tensor will be copied to the CPU memory to compute it and then copied back to GPU. Expect some slowdowns.\n",
      "  warnings.warn(*args, **kwargs)  # noqa: B028\n",
      "/opt/conda/envs/audio/lib/python3.10/site-packages/torchmetrics/utilities/prints.py:43: UserWarning: No positive samples in targets, true positive value should be meaningless. Returning zero tensor in true positive score\n",
      "  warnings.warn(*args, **kwargs)  # noqa: B028\n",
      "/opt/conda/envs/audio/lib/python3.10/site-packages/pytorch_lightning/trainer/connectors/data_connector.py:441: The 'train_dataloader' does not have many workers which may be a bottleneck. Consider increasing the value of the `num_workers` argument` to `num_workers=127` in the `DataLoader` to improve performance.\n",
      "/opt/conda/envs/audio/lib/python3.10/site-packages/pytorch_lightning/loops/fit_loop.py:298: The number of training batches (4) is smaller than the logging interval Trainer(log_every_n_steps=50). Set a lower value for log_every_n_steps if you want to see logs for the training epoch.\n"
     ]
    },
    {
     "data": {
      "application/vnd.jupyter.widget-view+json": {
       "model_id": "8a1d8e9c6f0c48c89b0927cb3b5323e4",
       "version_major": 2,
       "version_minor": 0
      },
      "text/plain": [
       "Training: |                                                                                                   …"
      ]
     },
     "metadata": {},
     "output_type": "display_data"
    },
    {
     "name": "stderr",
     "output_type": "stream",
     "text": [
      "/opt/conda/envs/audio/lib/python3.10/site-packages/torch/autograd/graph.py:744: UserWarning: Deterministic behavior was enabled with either `torch.use_deterministic_algorithms(True)` or `at::Context::setDeterministicAlgorithms(true)`, but this operation is not deterministic because it uses CuBLAS and you have CUDA >= 10.2. To enable deterministic behavior in this case, you must set an environment variable before running your PyTorch application: CUBLAS_WORKSPACE_CONFIG=:4096:8 or CUBLAS_WORKSPACE_CONFIG=:16:8. For more information, go to https://docs.nvidia.com/cuda/cublas/index.html#results-reproducibility (Triggered internally at ../aten/src/ATen/Context.cpp:185.)\n",
      "  return Variable._execution_engine.run_backward(  # Calls into the C++ engine to run the backward pass\n"
     ]
    },
    {
     "data": {
      "application/vnd.jupyter.widget-view+json": {
       "model_id": "e9bdaccd8d2544598195733c3186cc04",
       "version_major": 2,
       "version_minor": 0
      },
      "text/plain": [
       "Validation: |                                                                                                 …"
      ]
     },
     "metadata": {},
     "output_type": "display_data"
    },
    {
     "data": {
      "application/vnd.jupyter.widget-view+json": {
       "model_id": "ae8d074601e34420a0217fd110a65998",
       "version_major": 2,
       "version_minor": 0
      },
      "text/plain": [
       "Validation: |                                                                                                 …"
      ]
     },
     "metadata": {},
     "output_type": "display_data"
    },
    {
     "data": {
      "application/vnd.jupyter.widget-view+json": {
       "model_id": "4f833f86adde461bbcda1d452081a44a",
       "version_major": 2,
       "version_minor": 0
      },
      "text/plain": [
       "Validation: |                                                                                                 …"
      ]
     },
     "metadata": {},
     "output_type": "display_data"
    },
    {
     "data": {
      "application/vnd.jupyter.widget-view+json": {
       "model_id": "932367c73e1d4b5a86796ab4e4fbf26d",
       "version_major": 2,
       "version_minor": 0
      },
      "text/plain": [
       "Validation: |                                                                                                 …"
      ]
     },
     "metadata": {},
     "output_type": "display_data"
    },
    {
     "data": {
      "application/vnd.jupyter.widget-view+json": {
       "model_id": "3d6ec6152fd547cd8f4c32cbdf53e7e7",
       "version_major": 2,
       "version_minor": 0
      },
      "text/plain": [
       "Validation: |                                                                                                 …"
      ]
     },
     "metadata": {},
     "output_type": "display_data"
    },
    {
     "data": {
      "application/vnd.jupyter.widget-view+json": {
       "model_id": "7f2227000823431dbdd347ed84576aa3",
       "version_major": 2,
       "version_minor": 0
      },
      "text/plain": [
       "Validation: |                                                                                                 …"
      ]
     },
     "metadata": {},
     "output_type": "display_data"
    },
    {
     "data": {
      "application/vnd.jupyter.widget-view+json": {
       "model_id": "eb48269602bb4aa88506fb8f2c371e4b",
       "version_major": 2,
       "version_minor": 0
      },
      "text/plain": [
       "Validation: |                                                                                                 …"
      ]
     },
     "metadata": {},
     "output_type": "display_data"
    },
    {
     "data": {
      "application/vnd.jupyter.widget-view+json": {
       "model_id": "f6d3bd311b754ffd8f75c6815772afab",
       "version_major": 2,
       "version_minor": 0
      },
      "text/plain": [
       "Validation: |                                                                                                 …"
      ]
     },
     "metadata": {},
     "output_type": "display_data"
    },
    {
     "data": {
      "application/vnd.jupyter.widget-view+json": {
       "model_id": "388ac935f86f4712a14af93b12e41a20",
       "version_major": 2,
       "version_minor": 0
      },
      "text/plain": [
       "Validation: |                                                                                                 …"
      ]
     },
     "metadata": {},
     "output_type": "display_data"
    },
    {
     "data": {
      "application/vnd.jupyter.widget-view+json": {
       "model_id": "81dce4d095564b71aa35cf460dbd5249",
       "version_major": 2,
       "version_minor": 0
      },
      "text/plain": [
       "Validation: |                                                                                                 …"
      ]
     },
     "metadata": {},
     "output_type": "display_data"
    },
    {
     "data": {
      "application/vnd.jupyter.widget-view+json": {
       "model_id": "4dc52cbc2ebc45f088c18d8f8926d4f8",
       "version_major": 2,
       "version_minor": 0
      },
      "text/plain": [
       "Validation: |                                                                                                 …"
      ]
     },
     "metadata": {},
     "output_type": "display_data"
    },
    {
     "data": {
      "application/vnd.jupyter.widget-view+json": {
       "model_id": "576576c354594d4092d35e73d717783d",
       "version_major": 2,
       "version_minor": 0
      },
      "text/plain": [
       "Validation: |                                                                                                 …"
      ]
     },
     "metadata": {},
     "output_type": "display_data"
    },
    {
     "data": {
      "application/vnd.jupyter.widget-view+json": {
       "model_id": "59eac0fd9bd04e9caf22c632f869f983",
       "version_major": 2,
       "version_minor": 0
      },
      "text/plain": [
       "Validation: |                                                                                                 …"
      ]
     },
     "metadata": {},
     "output_type": "display_data"
    },
    {
     "data": {
      "application/vnd.jupyter.widget-view+json": {
       "model_id": "7bc6b806bd24406f9a8a11a69d12da56",
       "version_major": 2,
       "version_minor": 0
      },
      "text/plain": [
       "Validation: |                                                                                                 …"
      ]
     },
     "metadata": {},
     "output_type": "display_data"
    },
    {
     "data": {
      "application/vnd.jupyter.widget-view+json": {
       "model_id": "c8e72f2c270f4b90b74c5e7673ac9e23",
       "version_major": 2,
       "version_minor": 0
      },
      "text/plain": [
       "Validation: |                                                                                                 …"
      ]
     },
     "metadata": {},
     "output_type": "display_data"
    },
    {
     "data": {
      "application/vnd.jupyter.widget-view+json": {
       "model_id": "f21a23a48f434d9fbfad427d18faa157",
       "version_major": 2,
       "version_minor": 0
      },
      "text/plain": [
       "Validation: |                                                                                                 …"
      ]
     },
     "metadata": {},
     "output_type": "display_data"
    },
    {
     "data": {
      "application/vnd.jupyter.widget-view+json": {
       "model_id": "f93f03a9bb1a4281b67a3b3f43ca8f9f",
       "version_major": 2,
       "version_minor": 0
      },
      "text/plain": [
       "Validation: |                                                                                                 …"
      ]
     },
     "metadata": {},
     "output_type": "display_data"
    },
    {
     "data": {
      "application/vnd.jupyter.widget-view+json": {
       "model_id": "12471acfb9e74825a94e3aee5a947de2",
       "version_major": 2,
       "version_minor": 0
      },
      "text/plain": [
       "Validation: |                                                                                                 …"
      ]
     },
     "metadata": {},
     "output_type": "display_data"
    },
    {
     "data": {
      "application/vnd.jupyter.widget-view+json": {
       "model_id": "277e58782ab947838e4f4cf3b46c6dbe",
       "version_major": 2,
       "version_minor": 0
      },
      "text/plain": [
       "Validation: |                                                                                                 …"
      ]
     },
     "metadata": {},
     "output_type": "display_data"
    },
    {
     "data": {
      "application/vnd.jupyter.widget-view+json": {
       "model_id": "4612792119dd40dda50f1b601d1f2e96",
       "version_major": 2,
       "version_minor": 0
      },
      "text/plain": [
       "Validation: |                                                                                                 …"
      ]
     },
     "metadata": {},
     "output_type": "display_data"
    },
    {
     "data": {
      "application/vnd.jupyter.widget-view+json": {
       "model_id": "6e147658d10b4c24a11295f2a10ce7dd",
       "version_major": 2,
       "version_minor": 0
      },
      "text/plain": [
       "Validation: |                                                                                                 …"
      ]
     },
     "metadata": {},
     "output_type": "display_data"
    },
    {
     "data": {
      "application/vnd.jupyter.widget-view+json": {
       "model_id": "2b5c2c136c1943d99842bf12b65ccbad",
       "version_major": 2,
       "version_minor": 0
      },
      "text/plain": [
       "Validation: |                                                                                                 …"
      ]
     },
     "metadata": {},
     "output_type": "display_data"
    },
    {
     "data": {
      "application/vnd.jupyter.widget-view+json": {
       "model_id": "8c3ccf7d5010491b955bfe7669b925d1",
       "version_major": 2,
       "version_minor": 0
      },
      "text/plain": [
       "Validation: |                                                                                                 …"
      ]
     },
     "metadata": {},
     "output_type": "display_data"
    },
    {
     "data": {
      "application/vnd.jupyter.widget-view+json": {
       "model_id": "8e5ef8deafe54cb2839f988480e26ca0",
       "version_major": 2,
       "version_minor": 0
      },
      "text/plain": [
       "Validation: |                                                                                                 …"
      ]
     },
     "metadata": {},
     "output_type": "display_data"
    },
    {
     "data": {
      "application/vnd.jupyter.widget-view+json": {
       "model_id": "ca9a724f622742db8fa2edbd1eed7c83",
       "version_major": 2,
       "version_minor": 0
      },
      "text/plain": [
       "Validation: |                                                                                                 …"
      ]
     },
     "metadata": {},
     "output_type": "display_data"
    },
    {
     "data": {
      "application/vnd.jupyter.widget-view+json": {
       "model_id": "c6e6eb19813b4c07b05860d015250273",
       "version_major": 2,
       "version_minor": 0
      },
      "text/plain": [
       "Validation: |                                                                                                 …"
      ]
     },
     "metadata": {},
     "output_type": "display_data"
    },
    {
     "data": {
      "application/vnd.jupyter.widget-view+json": {
       "model_id": "b9d4a7d13b314264ac99c7a61d9aaaf5",
       "version_major": 2,
       "version_minor": 0
      },
      "text/plain": [
       "Validation: |                                                                                                 …"
      ]
     },
     "metadata": {},
     "output_type": "display_data"
    },
    {
     "data": {
      "application/vnd.jupyter.widget-view+json": {
       "model_id": "1c6d505acec644b4bc3865a3aa541627",
       "version_major": 2,
       "version_minor": 0
      },
      "text/plain": [
       "Validation: |                                                                                                 …"
      ]
     },
     "metadata": {},
     "output_type": "display_data"
    },
    {
     "data": {
      "application/vnd.jupyter.widget-view+json": {
       "model_id": "ee8d4108535941caa35acff0c732b18a",
       "version_major": 2,
       "version_minor": 0
      },
      "text/plain": [
       "Validation: |                                                                                                 …"
      ]
     },
     "metadata": {},
     "output_type": "display_data"
    },
    {
     "data": {
      "application/vnd.jupyter.widget-view+json": {
       "model_id": "83cccf91ab324efd9082b103983fbb68",
       "version_major": 2,
       "version_minor": 0
      },
      "text/plain": [
       "Validation: |                                                                                                 …"
      ]
     },
     "metadata": {},
     "output_type": "display_data"
    },
    {
     "name": "stderr",
     "output_type": "stream",
     "text": [
      "`Trainer.fit` stopped: `max_epochs=30` reached.\n",
      "LOCAL_RANK: 0 - CUDA_VISIBLE_DEVICES: [0,1,2,3,4,5,6]\n",
      "/opt/conda/envs/audio/lib/python3.10/site-packages/pytorch_lightning/trainer/connectors/data_connector.py:441: The 'test_dataloader' does not have many workers which may be a bottleneck. Consider increasing the value of the `num_workers` argument` to `num_workers=127` in the `DataLoader` to improve performance.\n"
     ]
    },
    {
     "data": {
      "application/vnd.jupyter.widget-view+json": {
       "model_id": "e1076459e12c4646aab57c3e1c03a797",
       "version_major": 2,
       "version_minor": 0
      },
      "text/plain": [
       "Testing: |                                                                                                    …"
      ]
     },
     "metadata": {},
     "output_type": "display_data"
    },
    {
     "name": "stderr",
     "output_type": "stream",
     "text": [
      "/opt/conda/envs/audio/lib/python3.10/site-packages/torchmetrics/utilities/prints.py:43: UserWarning: No negative samples in targets, false positive value should be meaningless. Returning zero tensor in false positive score\n",
      "  warnings.warn(*args, **kwargs)  # noqa: B028\n",
      "/opt/conda/envs/audio/lib/python3.10/site-packages/sklearn/model_selection/_split.py:737: UserWarning: The least populated class in y has only 1 members, which is less than n_splits=2.\n",
      "  warnings.warn(\n",
      "GPU available: True (cuda), used: True\n",
      "TPU available: False, using: 0 TPU cores\n",
      "IPU available: False, using: 0 IPUs\n",
      "HPU available: False, using: 0 HPUs\n",
      "LOCAL_RANK: 0 - CUDA_VISIBLE_DEVICES: [0,1,2,3,4,5,6]\n",
      "\n",
      "   | Name          | Type               | Params\n",
      "------------------------------------------------------\n",
      "0  | tab_enc       | TabularEncoder     | 4.9 K \n",
      "1  | rnn           | GRU                | 369 K \n",
      "2  | head          | Linear             | 129   \n",
      "3  | criterion     | MSELoss            | 0     \n",
      "4  | train_mae     | MeanAbsoluteError  | 0     \n",
      "5  | val_mae       | MeanAbsoluteError  | 0     \n",
      "6  | test_mae      | MeanAbsoluteError  | 0     \n",
      "7  | train_rmse    | MeanSquaredError   | 0     \n",
      "8  | val_rmse      | MeanSquaredError   | 0     \n",
      "9  | test_rmse     | MeanSquaredError   | 0     \n",
      "10 | train_acc     | MulticlassAccuracy | 0     \n",
      "11 | val_acc       | MulticlassAccuracy | 0     \n",
      "12 | test_acc      | MulticlassAccuracy | 0     \n",
      "13 | train_acc_tol | SumMetric          | 0     \n",
      "14 | val_acc_tol   | SumMetric          | 0     \n",
      "15 | test_acc_tol  | SumMetric          | 0     \n",
      "16 | train_cnt     | SumMetric          | 0     \n",
      "17 | val_cnt       | SumMetric          | 0     \n",
      "18 | test_cnt      | SumMetric          | 0     \n",
      "19 | train_auroc   | MulticlassAUROC    | 0     \n",
      "20 | val_auroc     | MulticlassAUROC    | 0     \n",
      "21 | test_auroc    | MulticlassAUROC    | 0     \n",
      "------------------------------------------------------\n",
      "374 K     Trainable params\n",
      "0         Non-trainable params\n",
      "374 K     Total params\n",
      "1.498     Total estimated model params size (MB)\n"
     ]
    },
    {
     "name": "stdout",
     "output_type": "stream",
     "text": [
      "Fold 12 (Test PID: normal-8): {'test_loss': 0.14633551239967346, 'test_mae': 0.3825382590293884, 'test_rmse': 0.3825382590293884, 'test_acc': 1.0, 'test_acc±1': 1.0, 'auroc': 0.0, 'fold': 12, 'test_pid': 'normal-8'}\n"
     ]
    },
    {
     "data": {
      "application/vnd.jupyter.widget-view+json": {
       "model_id": "e19ba1fb415c4a8f9f5644d976b58845",
       "version_major": 2,
       "version_minor": 0
      },
      "text/plain": [
       "Sanity Checking: |                                                                                            …"
      ]
     },
     "metadata": {},
     "output_type": "display_data"
    },
    {
     "name": "stderr",
     "output_type": "stream",
     "text": [
      "/opt/conda/envs/audio/lib/python3.10/site-packages/pytorch_lightning/trainer/connectors/data_connector.py:441: The 'val_dataloader' does not have many workers which may be a bottleneck. Consider increasing the value of the `num_workers` argument` to `num_workers=127` in the `DataLoader` to improve performance.\n",
      "/opt/conda/envs/audio/lib/python3.10/site-packages/torch/nn/modules/linear.py:116: UserWarning: Deterministic behavior was enabled with either `torch.use_deterministic_algorithms(True)` or `at::Context::setDeterministicAlgorithms(true)`, but this operation is not deterministic because it uses CuBLAS and you have CUDA >= 10.2. To enable deterministic behavior in this case, you must set an environment variable before running your PyTorch application: CUBLAS_WORKSPACE_CONFIG=:4096:8 or CUBLAS_WORKSPACE_CONFIG=:16:8. For more information, go to https://docs.nvidia.com/cuda/cublas/index.html#results-reproducibility (Triggered internally at ../aten/src/ATen/Context.cpp:185.)\n",
      "  return F.linear(input, self.weight, self.bias)\n",
      "/opt/conda/envs/audio/lib/python3.10/site-packages/torchmetrics/utilities/prints.py:43: TorchMetricsUserWarning: You are trying to use a metric in deterministic mode on GPU that uses `torch.cumsum`, which is currently not supported. The tensor will be copied to the CPU memory to compute it and then copied back to GPU. Expect some slowdowns.\n",
      "  warnings.warn(*args, **kwargs)  # noqa: B028\n",
      "/opt/conda/envs/audio/lib/python3.10/site-packages/torchmetrics/utilities/prints.py:43: UserWarning: No positive samples in targets, true positive value should be meaningless. Returning zero tensor in true positive score\n",
      "  warnings.warn(*args, **kwargs)  # noqa: B028\n",
      "/opt/conda/envs/audio/lib/python3.10/site-packages/pytorch_lightning/trainer/connectors/data_connector.py:441: The 'train_dataloader' does not have many workers which may be a bottleneck. Consider increasing the value of the `num_workers` argument` to `num_workers=127` in the `DataLoader` to improve performance.\n",
      "/opt/conda/envs/audio/lib/python3.10/site-packages/pytorch_lightning/loops/fit_loop.py:298: The number of training batches (4) is smaller than the logging interval Trainer(log_every_n_steps=50). Set a lower value for log_every_n_steps if you want to see logs for the training epoch.\n"
     ]
    },
    {
     "data": {
      "application/vnd.jupyter.widget-view+json": {
       "model_id": "58e7c662d41143b5b41297d1b9bc0836",
       "version_major": 2,
       "version_minor": 0
      },
      "text/plain": [
       "Training: |                                                                                                   …"
      ]
     },
     "metadata": {},
     "output_type": "display_data"
    },
    {
     "name": "stderr",
     "output_type": "stream",
     "text": [
      "/opt/conda/envs/audio/lib/python3.10/site-packages/torch/autograd/graph.py:744: UserWarning: Deterministic behavior was enabled with either `torch.use_deterministic_algorithms(True)` or `at::Context::setDeterministicAlgorithms(true)`, but this operation is not deterministic because it uses CuBLAS and you have CUDA >= 10.2. To enable deterministic behavior in this case, you must set an environment variable before running your PyTorch application: CUBLAS_WORKSPACE_CONFIG=:4096:8 or CUBLAS_WORKSPACE_CONFIG=:16:8. For more information, go to https://docs.nvidia.com/cuda/cublas/index.html#results-reproducibility (Triggered internally at ../aten/src/ATen/Context.cpp:185.)\n",
      "  return Variable._execution_engine.run_backward(  # Calls into the C++ engine to run the backward pass\n"
     ]
    },
    {
     "data": {
      "application/vnd.jupyter.widget-view+json": {
       "model_id": "22fc5af28cb14aa287ad841c6f46252b",
       "version_major": 2,
       "version_minor": 0
      },
      "text/plain": [
       "Validation: |                                                                                                 …"
      ]
     },
     "metadata": {},
     "output_type": "display_data"
    },
    {
     "data": {
      "application/vnd.jupyter.widget-view+json": {
       "model_id": "f8b22ac1160140ba819bc395f34ff711",
       "version_major": 2,
       "version_minor": 0
      },
      "text/plain": [
       "Validation: |                                                                                                 …"
      ]
     },
     "metadata": {},
     "output_type": "display_data"
    },
    {
     "data": {
      "application/vnd.jupyter.widget-view+json": {
       "model_id": "4104299d64774353b817da76aa8d958d",
       "version_major": 2,
       "version_minor": 0
      },
      "text/plain": [
       "Validation: |                                                                                                 …"
      ]
     },
     "metadata": {},
     "output_type": "display_data"
    },
    {
     "data": {
      "application/vnd.jupyter.widget-view+json": {
       "model_id": "053861e46b184864aa26cf36472abe94",
       "version_major": 2,
       "version_minor": 0
      },
      "text/plain": [
       "Validation: |                                                                                                 …"
      ]
     },
     "metadata": {},
     "output_type": "display_data"
    },
    {
     "data": {
      "application/vnd.jupyter.widget-view+json": {
       "model_id": "98232aa59ab44e8cbd62d0a253ac2e40",
       "version_major": 2,
       "version_minor": 0
      },
      "text/plain": [
       "Validation: |                                                                                                 …"
      ]
     },
     "metadata": {},
     "output_type": "display_data"
    },
    {
     "data": {
      "application/vnd.jupyter.widget-view+json": {
       "model_id": "f7600c9dcfef475aa174cbdbb4fc1879",
       "version_major": 2,
       "version_minor": 0
      },
      "text/plain": [
       "Validation: |                                                                                                 …"
      ]
     },
     "metadata": {},
     "output_type": "display_data"
    },
    {
     "data": {
      "application/vnd.jupyter.widget-view+json": {
       "model_id": "c400c7c9531b4b96a2938ea50dadbb15",
       "version_major": 2,
       "version_minor": 0
      },
      "text/plain": [
       "Validation: |                                                                                                 …"
      ]
     },
     "metadata": {},
     "output_type": "display_data"
    },
    {
     "data": {
      "application/vnd.jupyter.widget-view+json": {
       "model_id": "6cc675c3c6a14e0683cff2df7f165240",
       "version_major": 2,
       "version_minor": 0
      },
      "text/plain": [
       "Validation: |                                                                                                 …"
      ]
     },
     "metadata": {},
     "output_type": "display_data"
    },
    {
     "data": {
      "application/vnd.jupyter.widget-view+json": {
       "model_id": "608ff705de15406d8135b14329b5526d",
       "version_major": 2,
       "version_minor": 0
      },
      "text/plain": [
       "Validation: |                                                                                                 …"
      ]
     },
     "metadata": {},
     "output_type": "display_data"
    },
    {
     "data": {
      "application/vnd.jupyter.widget-view+json": {
       "model_id": "47dc5c64fd744e03a1fa850e69d5a899",
       "version_major": 2,
       "version_minor": 0
      },
      "text/plain": [
       "Validation: |                                                                                                 …"
      ]
     },
     "metadata": {},
     "output_type": "display_data"
    },
    {
     "data": {
      "application/vnd.jupyter.widget-view+json": {
       "model_id": "e2f73f9472484fc1bacba28334d1a2d8",
       "version_major": 2,
       "version_minor": 0
      },
      "text/plain": [
       "Validation: |                                                                                                 …"
      ]
     },
     "metadata": {},
     "output_type": "display_data"
    },
    {
     "data": {
      "application/vnd.jupyter.widget-view+json": {
       "model_id": "ef6472d2a39640a8a0fd4575f82e7383",
       "version_major": 2,
       "version_minor": 0
      },
      "text/plain": [
       "Validation: |                                                                                                 …"
      ]
     },
     "metadata": {},
     "output_type": "display_data"
    },
    {
     "data": {
      "application/vnd.jupyter.widget-view+json": {
       "model_id": "ccaba293bf044c6b928ee9b761b3c07e",
       "version_major": 2,
       "version_minor": 0
      },
      "text/plain": [
       "Validation: |                                                                                                 …"
      ]
     },
     "metadata": {},
     "output_type": "display_data"
    },
    {
     "data": {
      "application/vnd.jupyter.widget-view+json": {
       "model_id": "5b583fd57dbd4c368f8ff74a3bf2cb80",
       "version_major": 2,
       "version_minor": 0
      },
      "text/plain": [
       "Validation: |                                                                                                 …"
      ]
     },
     "metadata": {},
     "output_type": "display_data"
    },
    {
     "data": {
      "application/vnd.jupyter.widget-view+json": {
       "model_id": "fc7658e1fba44d829c6f29deade8608a",
       "version_major": 2,
       "version_minor": 0
      },
      "text/plain": [
       "Validation: |                                                                                                 …"
      ]
     },
     "metadata": {},
     "output_type": "display_data"
    },
    {
     "data": {
      "application/vnd.jupyter.widget-view+json": {
       "model_id": "83b2384d3b1d445ba8966cf418b05c5f",
       "version_major": 2,
       "version_minor": 0
      },
      "text/plain": [
       "Validation: |                                                                                                 …"
      ]
     },
     "metadata": {},
     "output_type": "display_data"
    },
    {
     "data": {
      "application/vnd.jupyter.widget-view+json": {
       "model_id": "60754e3c896d40c6b0c81973cfadb978",
       "version_major": 2,
       "version_minor": 0
      },
      "text/plain": [
       "Validation: |                                                                                                 …"
      ]
     },
     "metadata": {},
     "output_type": "display_data"
    },
    {
     "data": {
      "application/vnd.jupyter.widget-view+json": {
       "model_id": "0baa3ac36831452498d9b5f832d2ec1e",
       "version_major": 2,
       "version_minor": 0
      },
      "text/plain": [
       "Validation: |                                                                                                 …"
      ]
     },
     "metadata": {},
     "output_type": "display_data"
    },
    {
     "data": {
      "application/vnd.jupyter.widget-view+json": {
       "model_id": "ecd285fae2cf4b229a73bce34729761d",
       "version_major": 2,
       "version_minor": 0
      },
      "text/plain": [
       "Validation: |                                                                                                 …"
      ]
     },
     "metadata": {},
     "output_type": "display_data"
    },
    {
     "data": {
      "application/vnd.jupyter.widget-view+json": {
       "model_id": "c1e21dfbc5cf44d0b875716b75b21c0c",
       "version_major": 2,
       "version_minor": 0
      },
      "text/plain": [
       "Validation: |                                                                                                 …"
      ]
     },
     "metadata": {},
     "output_type": "display_data"
    },
    {
     "data": {
      "application/vnd.jupyter.widget-view+json": {
       "model_id": "7125e5facfce4c139735bcb7cf9de695",
       "version_major": 2,
       "version_minor": 0
      },
      "text/plain": [
       "Validation: |                                                                                                 …"
      ]
     },
     "metadata": {},
     "output_type": "display_data"
    },
    {
     "data": {
      "application/vnd.jupyter.widget-view+json": {
       "model_id": "ce6ed98596ba491ca10698b2d6851dc5",
       "version_major": 2,
       "version_minor": 0
      },
      "text/plain": [
       "Validation: |                                                                                                 …"
      ]
     },
     "metadata": {},
     "output_type": "display_data"
    },
    {
     "data": {
      "application/vnd.jupyter.widget-view+json": {
       "model_id": "c1156695f6a44fc0b6d7e54bbb0642fa",
       "version_major": 2,
       "version_minor": 0
      },
      "text/plain": [
       "Validation: |                                                                                                 …"
      ]
     },
     "metadata": {},
     "output_type": "display_data"
    },
    {
     "data": {
      "application/vnd.jupyter.widget-view+json": {
       "model_id": "190e0924ea3e4284bf467c3a267ad5a7",
       "version_major": 2,
       "version_minor": 0
      },
      "text/plain": [
       "Validation: |                                                                                                 …"
      ]
     },
     "metadata": {},
     "output_type": "display_data"
    },
    {
     "data": {
      "application/vnd.jupyter.widget-view+json": {
       "model_id": "9dd5b65fa753474f98fb9b80ea76dba1",
       "version_major": 2,
       "version_minor": 0
      },
      "text/plain": [
       "Validation: |                                                                                                 …"
      ]
     },
     "metadata": {},
     "output_type": "display_data"
    },
    {
     "data": {
      "application/vnd.jupyter.widget-view+json": {
       "model_id": "340d951c037e4de0ab1f27928011ceaf",
       "version_major": 2,
       "version_minor": 0
      },
      "text/plain": [
       "Validation: |                                                                                                 …"
      ]
     },
     "metadata": {},
     "output_type": "display_data"
    },
    {
     "data": {
      "application/vnd.jupyter.widget-view+json": {
       "model_id": "25eeb4a3325649a386a0fcb0c7d5df47",
       "version_major": 2,
       "version_minor": 0
      },
      "text/plain": [
       "Validation: |                                                                                                 …"
      ]
     },
     "metadata": {},
     "output_type": "display_data"
    },
    {
     "data": {
      "application/vnd.jupyter.widget-view+json": {
       "model_id": "c98957098a644c7ab58ea8f19186dca0",
       "version_major": 2,
       "version_minor": 0
      },
      "text/plain": [
       "Validation: |                                                                                                 …"
      ]
     },
     "metadata": {},
     "output_type": "display_data"
    },
    {
     "data": {
      "application/vnd.jupyter.widget-view+json": {
       "model_id": "070ca989f3f34730ac003a835bc1e6b3",
       "version_major": 2,
       "version_minor": 0
      },
      "text/plain": [
       "Validation: |                                                                                                 …"
      ]
     },
     "metadata": {},
     "output_type": "display_data"
    },
    {
     "data": {
      "application/vnd.jupyter.widget-view+json": {
       "model_id": "3393c6fb5fca4cddb7f11533594055ad",
       "version_major": 2,
       "version_minor": 0
      },
      "text/plain": [
       "Validation: |                                                                                                 …"
      ]
     },
     "metadata": {},
     "output_type": "display_data"
    },
    {
     "name": "stderr",
     "output_type": "stream",
     "text": [
      "`Trainer.fit` stopped: `max_epochs=30` reached.\n",
      "LOCAL_RANK: 0 - CUDA_VISIBLE_DEVICES: [0,1,2,3,4,5,6]\n",
      "/opt/conda/envs/audio/lib/python3.10/site-packages/pytorch_lightning/trainer/connectors/data_connector.py:441: The 'test_dataloader' does not have many workers which may be a bottleneck. Consider increasing the value of the `num_workers` argument` to `num_workers=127` in the `DataLoader` to improve performance.\n"
     ]
    },
    {
     "data": {
      "application/vnd.jupyter.widget-view+json": {
       "model_id": "2ab3f7d5cc094a97915a0cdab311074a",
       "version_major": 2,
       "version_minor": 0
      },
      "text/plain": [
       "Testing: |                                                                                                    …"
      ]
     },
     "metadata": {},
     "output_type": "display_data"
    },
    {
     "name": "stderr",
     "output_type": "stream",
     "text": [
      "/opt/conda/envs/audio/lib/python3.10/site-packages/torchmetrics/utilities/prints.py:43: UserWarning: No negative samples in targets, false positive value should be meaningless. Returning zero tensor in false positive score\n",
      "  warnings.warn(*args, **kwargs)  # noqa: B028\n",
      "/opt/conda/envs/audio/lib/python3.10/site-packages/sklearn/model_selection/_split.py:737: UserWarning: The least populated class in y has only 1 members, which is less than n_splits=2.\n",
      "  warnings.warn(\n",
      "GPU available: True (cuda), used: True\n",
      "TPU available: False, using: 0 TPU cores\n",
      "IPU available: False, using: 0 IPUs\n",
      "HPU available: False, using: 0 HPUs\n",
      "LOCAL_RANK: 0 - CUDA_VISIBLE_DEVICES: [0,1,2,3,4,5,6]\n",
      "\n",
      "   | Name          | Type               | Params\n",
      "------------------------------------------------------\n",
      "0  | tab_enc       | TabularEncoder     | 4.9 K \n",
      "1  | rnn           | GRU                | 369 K \n",
      "2  | head          | Linear             | 129   \n",
      "3  | criterion     | MSELoss            | 0     \n",
      "4  | train_mae     | MeanAbsoluteError  | 0     \n",
      "5  | val_mae       | MeanAbsoluteError  | 0     \n",
      "6  | test_mae      | MeanAbsoluteError  | 0     \n",
      "7  | train_rmse    | MeanSquaredError   | 0     \n",
      "8  | val_rmse      | MeanSquaredError   | 0     \n",
      "9  | test_rmse     | MeanSquaredError   | 0     \n",
      "10 | train_acc     | MulticlassAccuracy | 0     \n",
      "11 | val_acc       | MulticlassAccuracy | 0     \n",
      "12 | test_acc      | MulticlassAccuracy | 0     \n",
      "13 | train_acc_tol | SumMetric          | 0     \n",
      "14 | val_acc_tol   | SumMetric          | 0     \n",
      "15 | test_acc_tol  | SumMetric          | 0     \n",
      "16 | train_cnt     | SumMetric          | 0     \n",
      "17 | val_cnt       | SumMetric          | 0     \n",
      "18 | test_cnt      | SumMetric          | 0     \n",
      "19 | train_auroc   | MulticlassAUROC    | 0     \n",
      "20 | val_auroc     | MulticlassAUROC    | 0     \n",
      "21 | test_auroc    | MulticlassAUROC    | 0     \n",
      "------------------------------------------------------\n",
      "374 K     Trainable params\n",
      "0         Non-trainable params\n",
      "374 K     Total params\n",
      "1.498     Total estimated model params size (MB)\n"
     ]
    },
    {
     "name": "stdout",
     "output_type": "stream",
     "text": [
      "Fold 13 (Test PID: normal-4): {'test_loss': 0.0009762905538082123, 'test_mae': 0.031245648860931396, 'test_rmse': 0.031245648860931396, 'test_acc': 1.0, 'test_acc±1': 1.0, 'auroc': 0.0, 'fold': 13, 'test_pid': 'normal-4'}\n"
     ]
    },
    {
     "data": {
      "application/vnd.jupyter.widget-view+json": {
       "model_id": "dab7cdd9f4974ba2bbd1591f59f8909b",
       "version_major": 2,
       "version_minor": 0
      },
      "text/plain": [
       "Sanity Checking: |                                                                                            …"
      ]
     },
     "metadata": {},
     "output_type": "display_data"
    },
    {
     "name": "stderr",
     "output_type": "stream",
     "text": [
      "/opt/conda/envs/audio/lib/python3.10/site-packages/pytorch_lightning/trainer/connectors/data_connector.py:441: The 'val_dataloader' does not have many workers which may be a bottleneck. Consider increasing the value of the `num_workers` argument` to `num_workers=127` in the `DataLoader` to improve performance.\n",
      "/opt/conda/envs/audio/lib/python3.10/site-packages/torch/nn/modules/linear.py:116: UserWarning: Deterministic behavior was enabled with either `torch.use_deterministic_algorithms(True)` or `at::Context::setDeterministicAlgorithms(true)`, but this operation is not deterministic because it uses CuBLAS and you have CUDA >= 10.2. To enable deterministic behavior in this case, you must set an environment variable before running your PyTorch application: CUBLAS_WORKSPACE_CONFIG=:4096:8 or CUBLAS_WORKSPACE_CONFIG=:16:8. For more information, go to https://docs.nvidia.com/cuda/cublas/index.html#results-reproducibility (Triggered internally at ../aten/src/ATen/Context.cpp:185.)\n",
      "  return F.linear(input, self.weight, self.bias)\n",
      "/opt/conda/envs/audio/lib/python3.10/site-packages/torchmetrics/utilities/prints.py:43: TorchMetricsUserWarning: You are trying to use a metric in deterministic mode on GPU that uses `torch.cumsum`, which is currently not supported. The tensor will be copied to the CPU memory to compute it and then copied back to GPU. Expect some slowdowns.\n",
      "  warnings.warn(*args, **kwargs)  # noqa: B028\n",
      "/opt/conda/envs/audio/lib/python3.10/site-packages/torchmetrics/utilities/prints.py:43: UserWarning: No positive samples in targets, true positive value should be meaningless. Returning zero tensor in true positive score\n",
      "  warnings.warn(*args, **kwargs)  # noqa: B028\n",
      "/opt/conda/envs/audio/lib/python3.10/site-packages/pytorch_lightning/trainer/connectors/data_connector.py:441: The 'train_dataloader' does not have many workers which may be a bottleneck. Consider increasing the value of the `num_workers` argument` to `num_workers=127` in the `DataLoader` to improve performance.\n",
      "/opt/conda/envs/audio/lib/python3.10/site-packages/pytorch_lightning/loops/fit_loop.py:298: The number of training batches (4) is smaller than the logging interval Trainer(log_every_n_steps=50). Set a lower value for log_every_n_steps if you want to see logs for the training epoch.\n"
     ]
    },
    {
     "data": {
      "application/vnd.jupyter.widget-view+json": {
       "model_id": "21304da0d9e34b1a8e6e0fcb62c594cc",
       "version_major": 2,
       "version_minor": 0
      },
      "text/plain": [
       "Training: |                                                                                                   …"
      ]
     },
     "metadata": {},
     "output_type": "display_data"
    },
    {
     "name": "stderr",
     "output_type": "stream",
     "text": [
      "/opt/conda/envs/audio/lib/python3.10/site-packages/torch/autograd/graph.py:744: UserWarning: Deterministic behavior was enabled with either `torch.use_deterministic_algorithms(True)` or `at::Context::setDeterministicAlgorithms(true)`, but this operation is not deterministic because it uses CuBLAS and you have CUDA >= 10.2. To enable deterministic behavior in this case, you must set an environment variable before running your PyTorch application: CUBLAS_WORKSPACE_CONFIG=:4096:8 or CUBLAS_WORKSPACE_CONFIG=:16:8. For more information, go to https://docs.nvidia.com/cuda/cublas/index.html#results-reproducibility (Triggered internally at ../aten/src/ATen/Context.cpp:185.)\n",
      "  return Variable._execution_engine.run_backward(  # Calls into the C++ engine to run the backward pass\n"
     ]
    },
    {
     "data": {
      "application/vnd.jupyter.widget-view+json": {
       "model_id": "010d228a7b8641f6a9d44e9598b426ee",
       "version_major": 2,
       "version_minor": 0
      },
      "text/plain": [
       "Validation: |                                                                                                 …"
      ]
     },
     "metadata": {},
     "output_type": "display_data"
    },
    {
     "data": {
      "application/vnd.jupyter.widget-view+json": {
       "model_id": "c02f620e48234fbb808cc48edbb62d9c",
       "version_major": 2,
       "version_minor": 0
      },
      "text/plain": [
       "Validation: |                                                                                                 …"
      ]
     },
     "metadata": {},
     "output_type": "display_data"
    },
    {
     "data": {
      "application/vnd.jupyter.widget-view+json": {
       "model_id": "7701aa954a6f473496934f2d5d6933de",
       "version_major": 2,
       "version_minor": 0
      },
      "text/plain": [
       "Validation: |                                                                                                 …"
      ]
     },
     "metadata": {},
     "output_type": "display_data"
    },
    {
     "data": {
      "application/vnd.jupyter.widget-view+json": {
       "model_id": "1b11aa6e5bea4a129ecde30cf28e378c",
       "version_major": 2,
       "version_minor": 0
      },
      "text/plain": [
       "Validation: |                                                                                                 …"
      ]
     },
     "metadata": {},
     "output_type": "display_data"
    },
    {
     "data": {
      "application/vnd.jupyter.widget-view+json": {
       "model_id": "77f395d25e6940cdbe59aece4999b556",
       "version_major": 2,
       "version_minor": 0
      },
      "text/plain": [
       "Validation: |                                                                                                 …"
      ]
     },
     "metadata": {},
     "output_type": "display_data"
    },
    {
     "data": {
      "application/vnd.jupyter.widget-view+json": {
       "model_id": "f4337cffcacc42d8b1bd4f8dc32d820f",
       "version_major": 2,
       "version_minor": 0
      },
      "text/plain": [
       "Validation: |                                                                                                 …"
      ]
     },
     "metadata": {},
     "output_type": "display_data"
    },
    {
     "data": {
      "application/vnd.jupyter.widget-view+json": {
       "model_id": "c038439b147e435c930867921ba02c43",
       "version_major": 2,
       "version_minor": 0
      },
      "text/plain": [
       "Validation: |                                                                                                 …"
      ]
     },
     "metadata": {},
     "output_type": "display_data"
    },
    {
     "data": {
      "application/vnd.jupyter.widget-view+json": {
       "model_id": "f427c9ee8fd14eb99d75298ea89e84b7",
       "version_major": 2,
       "version_minor": 0
      },
      "text/plain": [
       "Validation: |                                                                                                 …"
      ]
     },
     "metadata": {},
     "output_type": "display_data"
    },
    {
     "data": {
      "application/vnd.jupyter.widget-view+json": {
       "model_id": "35598c92fed84a3280e8b787fa0d364b",
       "version_major": 2,
       "version_minor": 0
      },
      "text/plain": [
       "Validation: |                                                                                                 …"
      ]
     },
     "metadata": {},
     "output_type": "display_data"
    },
    {
     "data": {
      "application/vnd.jupyter.widget-view+json": {
       "model_id": "d57ecd3955b945b89d5abb47225bfc20",
       "version_major": 2,
       "version_minor": 0
      },
      "text/plain": [
       "Validation: |                                                                                                 …"
      ]
     },
     "metadata": {},
     "output_type": "display_data"
    },
    {
     "data": {
      "application/vnd.jupyter.widget-view+json": {
       "model_id": "71772e0671134d1e99579f04547b5372",
       "version_major": 2,
       "version_minor": 0
      },
      "text/plain": [
       "Validation: |                                                                                                 …"
      ]
     },
     "metadata": {},
     "output_type": "display_data"
    },
    {
     "data": {
      "application/vnd.jupyter.widget-view+json": {
       "model_id": "8e6dab260616456ea508f7b92cf8991a",
       "version_major": 2,
       "version_minor": 0
      },
      "text/plain": [
       "Validation: |                                                                                                 …"
      ]
     },
     "metadata": {},
     "output_type": "display_data"
    },
    {
     "data": {
      "application/vnd.jupyter.widget-view+json": {
       "model_id": "30f6fa663e594472b9b3fa82ad63090c",
       "version_major": 2,
       "version_minor": 0
      },
      "text/plain": [
       "Validation: |                                                                                                 …"
      ]
     },
     "metadata": {},
     "output_type": "display_data"
    },
    {
     "data": {
      "application/vnd.jupyter.widget-view+json": {
       "model_id": "90d8fbf4848d415ea5474f2fa5de4f28",
       "version_major": 2,
       "version_minor": 0
      },
      "text/plain": [
       "Validation: |                                                                                                 …"
      ]
     },
     "metadata": {},
     "output_type": "display_data"
    },
    {
     "data": {
      "application/vnd.jupyter.widget-view+json": {
       "model_id": "524d9c8ec54042d98ed46e23712d9590",
       "version_major": 2,
       "version_minor": 0
      },
      "text/plain": [
       "Validation: |                                                                                                 …"
      ]
     },
     "metadata": {},
     "output_type": "display_data"
    },
    {
     "data": {
      "application/vnd.jupyter.widget-view+json": {
       "model_id": "6e5276f7133c47e6b0fa044acd3894c0",
       "version_major": 2,
       "version_minor": 0
      },
      "text/plain": [
       "Validation: |                                                                                                 …"
      ]
     },
     "metadata": {},
     "output_type": "display_data"
    },
    {
     "data": {
      "application/vnd.jupyter.widget-view+json": {
       "model_id": "8a4c775ae63a4671b598ea78c8c4f875",
       "version_major": 2,
       "version_minor": 0
      },
      "text/plain": [
       "Validation: |                                                                                                 …"
      ]
     },
     "metadata": {},
     "output_type": "display_data"
    },
    {
     "data": {
      "application/vnd.jupyter.widget-view+json": {
       "model_id": "204bd1a3c6c34fda853310a6a72c966d",
       "version_major": 2,
       "version_minor": 0
      },
      "text/plain": [
       "Validation: |                                                                                                 …"
      ]
     },
     "metadata": {},
     "output_type": "display_data"
    },
    {
     "data": {
      "application/vnd.jupyter.widget-view+json": {
       "model_id": "48523a3640464165bc7e59c6ca48b50f",
       "version_major": 2,
       "version_minor": 0
      },
      "text/plain": [
       "Validation: |                                                                                                 …"
      ]
     },
     "metadata": {},
     "output_type": "display_data"
    },
    {
     "data": {
      "application/vnd.jupyter.widget-view+json": {
       "model_id": "bdbabb5fc08c4d9c9fcdf1e8d728ea27",
       "version_major": 2,
       "version_minor": 0
      },
      "text/plain": [
       "Validation: |                                                                                                 …"
      ]
     },
     "metadata": {},
     "output_type": "display_data"
    },
    {
     "data": {
      "application/vnd.jupyter.widget-view+json": {
       "model_id": "62cd404c5de84a85becc45fa4ffe7d5e",
       "version_major": 2,
       "version_minor": 0
      },
      "text/plain": [
       "Validation: |                                                                                                 …"
      ]
     },
     "metadata": {},
     "output_type": "display_data"
    },
    {
     "data": {
      "application/vnd.jupyter.widget-view+json": {
       "model_id": "1890490a0f8b435d9fcc78122730df45",
       "version_major": 2,
       "version_minor": 0
      },
      "text/plain": [
       "Validation: |                                                                                                 …"
      ]
     },
     "metadata": {},
     "output_type": "display_data"
    },
    {
     "data": {
      "application/vnd.jupyter.widget-view+json": {
       "model_id": "3a7339eb4d8d4af8b5424b040783f70f",
       "version_major": 2,
       "version_minor": 0
      },
      "text/plain": [
       "Validation: |                                                                                                 …"
      ]
     },
     "metadata": {},
     "output_type": "display_data"
    },
    {
     "data": {
      "application/vnd.jupyter.widget-view+json": {
       "model_id": "e2a6496510f64694a17ef1a2d8d5f3e6",
       "version_major": 2,
       "version_minor": 0
      },
      "text/plain": [
       "Validation: |                                                                                                 …"
      ]
     },
     "metadata": {},
     "output_type": "display_data"
    },
    {
     "data": {
      "application/vnd.jupyter.widget-view+json": {
       "model_id": "35581303dadc4c93b11951dac850fccd",
       "version_major": 2,
       "version_minor": 0
      },
      "text/plain": [
       "Validation: |                                                                                                 …"
      ]
     },
     "metadata": {},
     "output_type": "display_data"
    },
    {
     "data": {
      "application/vnd.jupyter.widget-view+json": {
       "model_id": "9764ab77ce174aa6bc4b05801d701ed4",
       "version_major": 2,
       "version_minor": 0
      },
      "text/plain": [
       "Validation: |                                                                                                 …"
      ]
     },
     "metadata": {},
     "output_type": "display_data"
    },
    {
     "data": {
      "application/vnd.jupyter.widget-view+json": {
       "model_id": "bbc88fdade134109b67c5417b812348f",
       "version_major": 2,
       "version_minor": 0
      },
      "text/plain": [
       "Validation: |                                                                                                 …"
      ]
     },
     "metadata": {},
     "output_type": "display_data"
    },
    {
     "data": {
      "application/vnd.jupyter.widget-view+json": {
       "model_id": "d9b5db359e1e478b9f4775ac8ef0f0a5",
       "version_major": 2,
       "version_minor": 0
      },
      "text/plain": [
       "Validation: |                                                                                                 …"
      ]
     },
     "metadata": {},
     "output_type": "display_data"
    },
    {
     "data": {
      "application/vnd.jupyter.widget-view+json": {
       "model_id": "fcb73a153a6647538c33414c3e0943ae",
       "version_major": 2,
       "version_minor": 0
      },
      "text/plain": [
       "Validation: |                                                                                                 …"
      ]
     },
     "metadata": {},
     "output_type": "display_data"
    },
    {
     "data": {
      "application/vnd.jupyter.widget-view+json": {
       "model_id": "761eb8f18b1b470a8f727b993d5d2aa5",
       "version_major": 2,
       "version_minor": 0
      },
      "text/plain": [
       "Validation: |                                                                                                 …"
      ]
     },
     "metadata": {},
     "output_type": "display_data"
    },
    {
     "name": "stderr",
     "output_type": "stream",
     "text": [
      "`Trainer.fit` stopped: `max_epochs=30` reached.\n",
      "LOCAL_RANK: 0 - CUDA_VISIBLE_DEVICES: [0,1,2,3,4,5,6]\n",
      "/opt/conda/envs/audio/lib/python3.10/site-packages/pytorch_lightning/trainer/connectors/data_connector.py:441: The 'test_dataloader' does not have many workers which may be a bottleneck. Consider increasing the value of the `num_workers` argument` to `num_workers=127` in the `DataLoader` to improve performance.\n"
     ]
    },
    {
     "data": {
      "application/vnd.jupyter.widget-view+json": {
       "model_id": "8114a3980f9a4d3f934babbf6cbcb10c",
       "version_major": 2,
       "version_minor": 0
      },
      "text/plain": [
       "Testing: |                                                                                                    …"
      ]
     },
     "metadata": {},
     "output_type": "display_data"
    },
    {
     "name": "stderr",
     "output_type": "stream",
     "text": [
      "/opt/conda/envs/audio/lib/python3.10/site-packages/torchmetrics/utilities/prints.py:43: UserWarning: No negative samples in targets, false positive value should be meaningless. Returning zero tensor in false positive score\n",
      "  warnings.warn(*args, **kwargs)  # noqa: B028\n",
      "/opt/conda/envs/audio/lib/python3.10/site-packages/sklearn/model_selection/_split.py:737: UserWarning: The least populated class in y has only 1 members, which is less than n_splits=2.\n",
      "  warnings.warn(\n",
      "GPU available: True (cuda), used: True\n",
      "TPU available: False, using: 0 TPU cores\n",
      "IPU available: False, using: 0 IPUs\n",
      "HPU available: False, using: 0 HPUs\n",
      "LOCAL_RANK: 0 - CUDA_VISIBLE_DEVICES: [0,1,2,3,4,5,6]\n",
      "\n",
      "   | Name          | Type               | Params\n",
      "------------------------------------------------------\n",
      "0  | tab_enc       | TabularEncoder     | 4.9 K \n",
      "1  | rnn           | GRU                | 369 K \n",
      "2  | head          | Linear             | 129   \n",
      "3  | criterion     | MSELoss            | 0     \n",
      "4  | train_mae     | MeanAbsoluteError  | 0     \n",
      "5  | val_mae       | MeanAbsoluteError  | 0     \n",
      "6  | test_mae      | MeanAbsoluteError  | 0     \n",
      "7  | train_rmse    | MeanSquaredError   | 0     \n",
      "8  | val_rmse      | MeanSquaredError   | 0     \n",
      "9  | test_rmse     | MeanSquaredError   | 0     \n",
      "10 | train_acc     | MulticlassAccuracy | 0     \n",
      "11 | val_acc       | MulticlassAccuracy | 0     \n",
      "12 | test_acc      | MulticlassAccuracy | 0     \n",
      "13 | train_acc_tol | SumMetric          | 0     \n",
      "14 | val_acc_tol   | SumMetric          | 0     \n",
      "15 | test_acc_tol  | SumMetric          | 0     \n",
      "16 | train_cnt     | SumMetric          | 0     \n",
      "17 | val_cnt       | SumMetric          | 0     \n",
      "18 | test_cnt      | SumMetric          | 0     \n",
      "19 | train_auroc   | MulticlassAUROC    | 0     \n",
      "20 | val_auroc     | MulticlassAUROC    | 0     \n",
      "21 | test_auroc    | MulticlassAUROC    | 0     \n",
      "------------------------------------------------------\n",
      "374 K     Trainable params\n",
      "0         Non-trainable params\n",
      "374 K     Total params\n",
      "1.498     Total estimated model params size (MB)\n"
     ]
    },
    {
     "name": "stdout",
     "output_type": "stream",
     "text": [
      "Fold 14 (Test PID: normal-2): {'test_loss': 8.008067379705608e-05, 'test_mae': 0.008948780596256256, 'test_rmse': 0.008948780596256256, 'test_acc': 1.0, 'test_acc±1': 1.0, 'auroc': 0.0, 'fold': 14, 'test_pid': 'normal-2'}\n"
     ]
    },
    {
     "data": {
      "application/vnd.jupyter.widget-view+json": {
       "model_id": "83c7407bdf984d809f52d39eb7c1434f",
       "version_major": 2,
       "version_minor": 0
      },
      "text/plain": [
       "Sanity Checking: |                                                                                            …"
      ]
     },
     "metadata": {},
     "output_type": "display_data"
    },
    {
     "name": "stderr",
     "output_type": "stream",
     "text": [
      "/opt/conda/envs/audio/lib/python3.10/site-packages/pytorch_lightning/trainer/connectors/data_connector.py:441: The 'val_dataloader' does not have many workers which may be a bottleneck. Consider increasing the value of the `num_workers` argument` to `num_workers=127` in the `DataLoader` to improve performance.\n",
      "/opt/conda/envs/audio/lib/python3.10/site-packages/torch/nn/modules/linear.py:116: UserWarning: Deterministic behavior was enabled with either `torch.use_deterministic_algorithms(True)` or `at::Context::setDeterministicAlgorithms(true)`, but this operation is not deterministic because it uses CuBLAS and you have CUDA >= 10.2. To enable deterministic behavior in this case, you must set an environment variable before running your PyTorch application: CUBLAS_WORKSPACE_CONFIG=:4096:8 or CUBLAS_WORKSPACE_CONFIG=:16:8. For more information, go to https://docs.nvidia.com/cuda/cublas/index.html#results-reproducibility (Triggered internally at ../aten/src/ATen/Context.cpp:185.)\n",
      "  return F.linear(input, self.weight, self.bias)\n",
      "/opt/conda/envs/audio/lib/python3.10/site-packages/torchmetrics/utilities/prints.py:43: TorchMetricsUserWarning: You are trying to use a metric in deterministic mode on GPU that uses `torch.cumsum`, which is currently not supported. The tensor will be copied to the CPU memory to compute it and then copied back to GPU. Expect some slowdowns.\n",
      "  warnings.warn(*args, **kwargs)  # noqa: B028\n",
      "/opt/conda/envs/audio/lib/python3.10/site-packages/torchmetrics/utilities/prints.py:43: UserWarning: No positive samples in targets, true positive value should be meaningless. Returning zero tensor in true positive score\n",
      "  warnings.warn(*args, **kwargs)  # noqa: B028\n",
      "/opt/conda/envs/audio/lib/python3.10/site-packages/pytorch_lightning/trainer/connectors/data_connector.py:441: The 'train_dataloader' does not have many workers which may be a bottleneck. Consider increasing the value of the `num_workers` argument` to `num_workers=127` in the `DataLoader` to improve performance.\n",
      "/opt/conda/envs/audio/lib/python3.10/site-packages/pytorch_lightning/loops/fit_loop.py:298: The number of training batches (4) is smaller than the logging interval Trainer(log_every_n_steps=50). Set a lower value for log_every_n_steps if you want to see logs for the training epoch.\n"
     ]
    },
    {
     "data": {
      "application/vnd.jupyter.widget-view+json": {
       "model_id": "ac4b72fb34cd414c9659bd2f4fa63a33",
       "version_major": 2,
       "version_minor": 0
      },
      "text/plain": [
       "Training: |                                                                                                   …"
      ]
     },
     "metadata": {},
     "output_type": "display_data"
    },
    {
     "name": "stderr",
     "output_type": "stream",
     "text": [
      "/opt/conda/envs/audio/lib/python3.10/site-packages/torch/autograd/graph.py:744: UserWarning: Deterministic behavior was enabled with either `torch.use_deterministic_algorithms(True)` or `at::Context::setDeterministicAlgorithms(true)`, but this operation is not deterministic because it uses CuBLAS and you have CUDA >= 10.2. To enable deterministic behavior in this case, you must set an environment variable before running your PyTorch application: CUBLAS_WORKSPACE_CONFIG=:4096:8 or CUBLAS_WORKSPACE_CONFIG=:16:8. For more information, go to https://docs.nvidia.com/cuda/cublas/index.html#results-reproducibility (Triggered internally at ../aten/src/ATen/Context.cpp:185.)\n",
      "  return Variable._execution_engine.run_backward(  # Calls into the C++ engine to run the backward pass\n"
     ]
    },
    {
     "data": {
      "application/vnd.jupyter.widget-view+json": {
       "model_id": "f948b1af45ca453b842d3c36f1db38c3",
       "version_major": 2,
       "version_minor": 0
      },
      "text/plain": [
       "Validation: |                                                                                                 …"
      ]
     },
     "metadata": {},
     "output_type": "display_data"
    },
    {
     "data": {
      "application/vnd.jupyter.widget-view+json": {
       "model_id": "b5fdc2cfc6d34a21bab9fd38e422bee9",
       "version_major": 2,
       "version_minor": 0
      },
      "text/plain": [
       "Validation: |                                                                                                 …"
      ]
     },
     "metadata": {},
     "output_type": "display_data"
    },
    {
     "data": {
      "application/vnd.jupyter.widget-view+json": {
       "model_id": "84142646b9ba4d618972fd74d845b14e",
       "version_major": 2,
       "version_minor": 0
      },
      "text/plain": [
       "Validation: |                                                                                                 …"
      ]
     },
     "metadata": {},
     "output_type": "display_data"
    },
    {
     "data": {
      "application/vnd.jupyter.widget-view+json": {
       "model_id": "8857b38e116e4f6da878e985ab435a64",
       "version_major": 2,
       "version_minor": 0
      },
      "text/plain": [
       "Validation: |                                                                                                 …"
      ]
     },
     "metadata": {},
     "output_type": "display_data"
    },
    {
     "data": {
      "application/vnd.jupyter.widget-view+json": {
       "model_id": "586c9ca1dd534a51b8195c4e7fdc5ada",
       "version_major": 2,
       "version_minor": 0
      },
      "text/plain": [
       "Validation: |                                                                                                 …"
      ]
     },
     "metadata": {},
     "output_type": "display_data"
    },
    {
     "data": {
      "application/vnd.jupyter.widget-view+json": {
       "model_id": "2812612dccf14299866f5c42e48e1b40",
       "version_major": 2,
       "version_minor": 0
      },
      "text/plain": [
       "Validation: |                                                                                                 …"
      ]
     },
     "metadata": {},
     "output_type": "display_data"
    },
    {
     "data": {
      "application/vnd.jupyter.widget-view+json": {
       "model_id": "16e7a75575cf484da76883dde46365e6",
       "version_major": 2,
       "version_minor": 0
      },
      "text/plain": [
       "Validation: |                                                                                                 …"
      ]
     },
     "metadata": {},
     "output_type": "display_data"
    },
    {
     "data": {
      "application/vnd.jupyter.widget-view+json": {
       "model_id": "3c41c1bece6a402b93342ba66dbfba4e",
       "version_major": 2,
       "version_minor": 0
      },
      "text/plain": [
       "Validation: |                                                                                                 …"
      ]
     },
     "metadata": {},
     "output_type": "display_data"
    },
    {
     "data": {
      "application/vnd.jupyter.widget-view+json": {
       "model_id": "97b8b471ef6d49f6af8e2b76d8b4305a",
       "version_major": 2,
       "version_minor": 0
      },
      "text/plain": [
       "Validation: |                                                                                                 …"
      ]
     },
     "metadata": {},
     "output_type": "display_data"
    },
    {
     "data": {
      "application/vnd.jupyter.widget-view+json": {
       "model_id": "47939fd460f34917a34df320aa221d9e",
       "version_major": 2,
       "version_minor": 0
      },
      "text/plain": [
       "Validation: |                                                                                                 …"
      ]
     },
     "metadata": {},
     "output_type": "display_data"
    },
    {
     "data": {
      "application/vnd.jupyter.widget-view+json": {
       "model_id": "ffe56c167ac94b7897b91af99e9e2620",
       "version_major": 2,
       "version_minor": 0
      },
      "text/plain": [
       "Validation: |                                                                                                 …"
      ]
     },
     "metadata": {},
     "output_type": "display_data"
    },
    {
     "data": {
      "application/vnd.jupyter.widget-view+json": {
       "model_id": "dd5a4a3cc8114e66b9e5012945ca3cc5",
       "version_major": 2,
       "version_minor": 0
      },
      "text/plain": [
       "Validation: |                                                                                                 …"
      ]
     },
     "metadata": {},
     "output_type": "display_data"
    },
    {
     "data": {
      "application/vnd.jupyter.widget-view+json": {
       "model_id": "cb1a6137df59449abecf378a0866d0a1",
       "version_major": 2,
       "version_minor": 0
      },
      "text/plain": [
       "Validation: |                                                                                                 …"
      ]
     },
     "metadata": {},
     "output_type": "display_data"
    },
    {
     "data": {
      "application/vnd.jupyter.widget-view+json": {
       "model_id": "0dff23b1bd6e4454928f0b45d8f9a2e0",
       "version_major": 2,
       "version_minor": 0
      },
      "text/plain": [
       "Validation: |                                                                                                 …"
      ]
     },
     "metadata": {},
     "output_type": "display_data"
    },
    {
     "data": {
      "application/vnd.jupyter.widget-view+json": {
       "model_id": "51de2ffd94564a6b96f0eac8668f5942",
       "version_major": 2,
       "version_minor": 0
      },
      "text/plain": [
       "Validation: |                                                                                                 …"
      ]
     },
     "metadata": {},
     "output_type": "display_data"
    },
    {
     "data": {
      "application/vnd.jupyter.widget-view+json": {
       "model_id": "c9d828f83fe54fefa032819da555869a",
       "version_major": 2,
       "version_minor": 0
      },
      "text/plain": [
       "Validation: |                                                                                                 …"
      ]
     },
     "metadata": {},
     "output_type": "display_data"
    },
    {
     "data": {
      "application/vnd.jupyter.widget-view+json": {
       "model_id": "9b2adc5073b4485eb464210656c837ef",
       "version_major": 2,
       "version_minor": 0
      },
      "text/plain": [
       "Validation: |                                                                                                 …"
      ]
     },
     "metadata": {},
     "output_type": "display_data"
    },
    {
     "data": {
      "application/vnd.jupyter.widget-view+json": {
       "model_id": "49d8afc6b2ab42a9b79b2d8965557aa4",
       "version_major": 2,
       "version_minor": 0
      },
      "text/plain": [
       "Validation: |                                                                                                 …"
      ]
     },
     "metadata": {},
     "output_type": "display_data"
    },
    {
     "data": {
      "application/vnd.jupyter.widget-view+json": {
       "model_id": "3e0035b15b5c41a18a11ad9b3398c2ea",
       "version_major": 2,
       "version_minor": 0
      },
      "text/plain": [
       "Validation: |                                                                                                 …"
      ]
     },
     "metadata": {},
     "output_type": "display_data"
    },
    {
     "data": {
      "application/vnd.jupyter.widget-view+json": {
       "model_id": "013bba28a2c54e169911baa7566bbce5",
       "version_major": 2,
       "version_minor": 0
      },
      "text/plain": [
       "Validation: |                                                                                                 …"
      ]
     },
     "metadata": {},
     "output_type": "display_data"
    },
    {
     "data": {
      "application/vnd.jupyter.widget-view+json": {
       "model_id": "823d665ae4e84f2493342273dd872c99",
       "version_major": 2,
       "version_minor": 0
      },
      "text/plain": [
       "Validation: |                                                                                                 …"
      ]
     },
     "metadata": {},
     "output_type": "display_data"
    },
    {
     "data": {
      "application/vnd.jupyter.widget-view+json": {
       "model_id": "e1db079e3fd9419f9bbc7f0a026108e7",
       "version_major": 2,
       "version_minor": 0
      },
      "text/plain": [
       "Validation: |                                                                                                 …"
      ]
     },
     "metadata": {},
     "output_type": "display_data"
    },
    {
     "data": {
      "application/vnd.jupyter.widget-view+json": {
       "model_id": "dec9a118de1e47a09fe55cfd0b2e9184",
       "version_major": 2,
       "version_minor": 0
      },
      "text/plain": [
       "Validation: |                                                                                                 …"
      ]
     },
     "metadata": {},
     "output_type": "display_data"
    },
    {
     "data": {
      "application/vnd.jupyter.widget-view+json": {
       "model_id": "b09285595bd1489b9508fb2ae029add4",
       "version_major": 2,
       "version_minor": 0
      },
      "text/plain": [
       "Validation: |                                                                                                 …"
      ]
     },
     "metadata": {},
     "output_type": "display_data"
    },
    {
     "data": {
      "application/vnd.jupyter.widget-view+json": {
       "model_id": "68c128b932df455d9f73a04ef9b502ea",
       "version_major": 2,
       "version_minor": 0
      },
      "text/plain": [
       "Validation: |                                                                                                 …"
      ]
     },
     "metadata": {},
     "output_type": "display_data"
    },
    {
     "data": {
      "application/vnd.jupyter.widget-view+json": {
       "model_id": "0312b42b34b742fb81aa45f2bc6b5e9e",
       "version_major": 2,
       "version_minor": 0
      },
      "text/plain": [
       "Validation: |                                                                                                 …"
      ]
     },
     "metadata": {},
     "output_type": "display_data"
    },
    {
     "data": {
      "application/vnd.jupyter.widget-view+json": {
       "model_id": "9299101a5dbf4213afaf2a6fd2bc541f",
       "version_major": 2,
       "version_minor": 0
      },
      "text/plain": [
       "Validation: |                                                                                                 …"
      ]
     },
     "metadata": {},
     "output_type": "display_data"
    },
    {
     "data": {
      "application/vnd.jupyter.widget-view+json": {
       "model_id": "2d79a21fbde6439e8b18b31ce44d50a2",
       "version_major": 2,
       "version_minor": 0
      },
      "text/plain": [
       "Validation: |                                                                                                 …"
      ]
     },
     "metadata": {},
     "output_type": "display_data"
    },
    {
     "data": {
      "application/vnd.jupyter.widget-view+json": {
       "model_id": "7cb76636dd1e4bce84c9c139e72997ab",
       "version_major": 2,
       "version_minor": 0
      },
      "text/plain": [
       "Validation: |                                                                                                 …"
      ]
     },
     "metadata": {},
     "output_type": "display_data"
    },
    {
     "data": {
      "application/vnd.jupyter.widget-view+json": {
       "model_id": "41a651c9715a4c5a8d8e559ccbc92ed2",
       "version_major": 2,
       "version_minor": 0
      },
      "text/plain": [
       "Validation: |                                                                                                 …"
      ]
     },
     "metadata": {},
     "output_type": "display_data"
    },
    {
     "name": "stderr",
     "output_type": "stream",
     "text": [
      "`Trainer.fit` stopped: `max_epochs=30` reached.\n",
      "LOCAL_RANK: 0 - CUDA_VISIBLE_DEVICES: [0,1,2,3,4,5,6]\n",
      "/opt/conda/envs/audio/lib/python3.10/site-packages/pytorch_lightning/trainer/connectors/data_connector.py:441: The 'test_dataloader' does not have many workers which may be a bottleneck. Consider increasing the value of the `num_workers` argument` to `num_workers=127` in the `DataLoader` to improve performance.\n"
     ]
    },
    {
     "data": {
      "application/vnd.jupyter.widget-view+json": {
       "model_id": "b105655c429b4673b56e87198fd9ec3d",
       "version_major": 2,
       "version_minor": 0
      },
      "text/plain": [
       "Testing: |                                                                                                    …"
      ]
     },
     "metadata": {},
     "output_type": "display_data"
    },
    {
     "name": "stderr",
     "output_type": "stream",
     "text": [
      "/opt/conda/envs/audio/lib/python3.10/site-packages/torchmetrics/utilities/prints.py:43: UserWarning: No negative samples in targets, false positive value should be meaningless. Returning zero tensor in false positive score\n",
      "  warnings.warn(*args, **kwargs)  # noqa: B028\n",
      "/opt/conda/envs/audio/lib/python3.10/site-packages/sklearn/model_selection/_split.py:737: UserWarning: The least populated class in y has only 1 members, which is less than n_splits=2.\n",
      "  warnings.warn(\n",
      "GPU available: True (cuda), used: True\n",
      "TPU available: False, using: 0 TPU cores\n",
      "IPU available: False, using: 0 IPUs\n",
      "HPU available: False, using: 0 HPUs\n",
      "LOCAL_RANK: 0 - CUDA_VISIBLE_DEVICES: [0,1,2,3,4,5,6]\n",
      "\n",
      "   | Name          | Type               | Params\n",
      "------------------------------------------------------\n",
      "0  | tab_enc       | TabularEncoder     | 4.9 K \n",
      "1  | rnn           | GRU                | 369 K \n",
      "2  | head          | Linear             | 129   \n",
      "3  | criterion     | MSELoss            | 0     \n",
      "4  | train_mae     | MeanAbsoluteError  | 0     \n",
      "5  | val_mae       | MeanAbsoluteError  | 0     \n",
      "6  | test_mae      | MeanAbsoluteError  | 0     \n",
      "7  | train_rmse    | MeanSquaredError   | 0     \n",
      "8  | val_rmse      | MeanSquaredError   | 0     \n",
      "9  | test_rmse     | MeanSquaredError   | 0     \n",
      "10 | train_acc     | MulticlassAccuracy | 0     \n",
      "11 | val_acc       | MulticlassAccuracy | 0     \n",
      "12 | test_acc      | MulticlassAccuracy | 0     \n",
      "13 | train_acc_tol | SumMetric          | 0     \n",
      "14 | val_acc_tol   | SumMetric          | 0     \n",
      "15 | test_acc_tol  | SumMetric          | 0     \n",
      "16 | train_cnt     | SumMetric          | 0     \n",
      "17 | val_cnt       | SumMetric          | 0     \n",
      "18 | test_cnt      | SumMetric          | 0     \n",
      "19 | train_auroc   | MulticlassAUROC    | 0     \n",
      "20 | val_auroc     | MulticlassAUROC    | 0     \n",
      "21 | test_auroc    | MulticlassAUROC    | 0     \n",
      "------------------------------------------------------\n",
      "374 K     Trainable params\n",
      "0         Non-trainable params\n",
      "374 K     Total params\n",
      "1.498     Total estimated model params size (MB)\n"
     ]
    },
    {
     "name": "stdout",
     "output_type": "stream",
     "text": [
      "Fold 15 (Test PID: normal-7): {'test_loss': 0.05746502801775932, 'test_mae': 0.23971864581108093, 'test_rmse': 0.23971864581108093, 'test_acc': 1.0, 'test_acc±1': 1.0, 'auroc': 0.0, 'fold': 15, 'test_pid': 'normal-7'}\n"
     ]
    },
    {
     "data": {
      "application/vnd.jupyter.widget-view+json": {
       "model_id": "e5eb0c392451455d816e448bd5080c71",
       "version_major": 2,
       "version_minor": 0
      },
      "text/plain": [
       "Sanity Checking: |                                                                                            …"
      ]
     },
     "metadata": {},
     "output_type": "display_data"
    },
    {
     "name": "stderr",
     "output_type": "stream",
     "text": [
      "/opt/conda/envs/audio/lib/python3.10/site-packages/pytorch_lightning/trainer/connectors/data_connector.py:441: The 'val_dataloader' does not have many workers which may be a bottleneck. Consider increasing the value of the `num_workers` argument` to `num_workers=127` in the `DataLoader` to improve performance.\n",
      "/opt/conda/envs/audio/lib/python3.10/site-packages/torch/nn/modules/linear.py:116: UserWarning: Deterministic behavior was enabled with either `torch.use_deterministic_algorithms(True)` or `at::Context::setDeterministicAlgorithms(true)`, but this operation is not deterministic because it uses CuBLAS and you have CUDA >= 10.2. To enable deterministic behavior in this case, you must set an environment variable before running your PyTorch application: CUBLAS_WORKSPACE_CONFIG=:4096:8 or CUBLAS_WORKSPACE_CONFIG=:16:8. For more information, go to https://docs.nvidia.com/cuda/cublas/index.html#results-reproducibility (Triggered internally at ../aten/src/ATen/Context.cpp:185.)\n",
      "  return F.linear(input, self.weight, self.bias)\n",
      "/opt/conda/envs/audio/lib/python3.10/site-packages/torchmetrics/utilities/prints.py:43: TorchMetricsUserWarning: You are trying to use a metric in deterministic mode on GPU that uses `torch.cumsum`, which is currently not supported. The tensor will be copied to the CPU memory to compute it and then copied back to GPU. Expect some slowdowns.\n",
      "  warnings.warn(*args, **kwargs)  # noqa: B028\n",
      "/opt/conda/envs/audio/lib/python3.10/site-packages/torchmetrics/utilities/prints.py:43: UserWarning: No positive samples in targets, true positive value should be meaningless. Returning zero tensor in true positive score\n",
      "  warnings.warn(*args, **kwargs)  # noqa: B028\n",
      "/opt/conda/envs/audio/lib/python3.10/site-packages/pytorch_lightning/trainer/connectors/data_connector.py:441: The 'train_dataloader' does not have many workers which may be a bottleneck. Consider increasing the value of the `num_workers` argument` to `num_workers=127` in the `DataLoader` to improve performance.\n",
      "/opt/conda/envs/audio/lib/python3.10/site-packages/pytorch_lightning/loops/fit_loop.py:298: The number of training batches (4) is smaller than the logging interval Trainer(log_every_n_steps=50). Set a lower value for log_every_n_steps if you want to see logs for the training epoch.\n"
     ]
    },
    {
     "data": {
      "application/vnd.jupyter.widget-view+json": {
       "model_id": "aafa8abee93545d0a83e5d76d7dbf6d0",
       "version_major": 2,
       "version_minor": 0
      },
      "text/plain": [
       "Training: |                                                                                                   …"
      ]
     },
     "metadata": {},
     "output_type": "display_data"
    },
    {
     "name": "stderr",
     "output_type": "stream",
     "text": [
      "/opt/conda/envs/audio/lib/python3.10/site-packages/torch/autograd/graph.py:744: UserWarning: Deterministic behavior was enabled with either `torch.use_deterministic_algorithms(True)` or `at::Context::setDeterministicAlgorithms(true)`, but this operation is not deterministic because it uses CuBLAS and you have CUDA >= 10.2. To enable deterministic behavior in this case, you must set an environment variable before running your PyTorch application: CUBLAS_WORKSPACE_CONFIG=:4096:8 or CUBLAS_WORKSPACE_CONFIG=:16:8. For more information, go to https://docs.nvidia.com/cuda/cublas/index.html#results-reproducibility (Triggered internally at ../aten/src/ATen/Context.cpp:185.)\n",
      "  return Variable._execution_engine.run_backward(  # Calls into the C++ engine to run the backward pass\n"
     ]
    },
    {
     "data": {
      "application/vnd.jupyter.widget-view+json": {
       "model_id": "17d8300c8426424ab12acf491d272031",
       "version_major": 2,
       "version_minor": 0
      },
      "text/plain": [
       "Validation: |                                                                                                 …"
      ]
     },
     "metadata": {},
     "output_type": "display_data"
    },
    {
     "data": {
      "application/vnd.jupyter.widget-view+json": {
       "model_id": "011588f9f68a4c2e8d800720ccf35b76",
       "version_major": 2,
       "version_minor": 0
      },
      "text/plain": [
       "Validation: |                                                                                                 …"
      ]
     },
     "metadata": {},
     "output_type": "display_data"
    },
    {
     "data": {
      "application/vnd.jupyter.widget-view+json": {
       "model_id": "0c45f8112b814dc4badaf890571b6e53",
       "version_major": 2,
       "version_minor": 0
      },
      "text/plain": [
       "Validation: |                                                                                                 …"
      ]
     },
     "metadata": {},
     "output_type": "display_data"
    },
    {
     "data": {
      "application/vnd.jupyter.widget-view+json": {
       "model_id": "64fc093db30e4864afbfc36d9611f1d2",
       "version_major": 2,
       "version_minor": 0
      },
      "text/plain": [
       "Validation: |                                                                                                 …"
      ]
     },
     "metadata": {},
     "output_type": "display_data"
    },
    {
     "data": {
      "application/vnd.jupyter.widget-view+json": {
       "model_id": "d6f6bf355494456790ae02fcf2b6fe52",
       "version_major": 2,
       "version_minor": 0
      },
      "text/plain": [
       "Validation: |                                                                                                 …"
      ]
     },
     "metadata": {},
     "output_type": "display_data"
    },
    {
     "data": {
      "application/vnd.jupyter.widget-view+json": {
       "model_id": "bb9dab0fa712411b904244fadac89ae5",
       "version_major": 2,
       "version_minor": 0
      },
      "text/plain": [
       "Validation: |                                                                                                 …"
      ]
     },
     "metadata": {},
     "output_type": "display_data"
    },
    {
     "data": {
      "application/vnd.jupyter.widget-view+json": {
       "model_id": "386bac8333a44b83859bf0e9f3c3a10a",
       "version_major": 2,
       "version_minor": 0
      },
      "text/plain": [
       "Validation: |                                                                                                 …"
      ]
     },
     "metadata": {},
     "output_type": "display_data"
    },
    {
     "data": {
      "application/vnd.jupyter.widget-view+json": {
       "model_id": "8837a013e6294b23b7cacee80b199f57",
       "version_major": 2,
       "version_minor": 0
      },
      "text/plain": [
       "Validation: |                                                                                                 …"
      ]
     },
     "metadata": {},
     "output_type": "display_data"
    },
    {
     "data": {
      "application/vnd.jupyter.widget-view+json": {
       "model_id": "f85cf2fd0a044ed0902ecbae11e64846",
       "version_major": 2,
       "version_minor": 0
      },
      "text/plain": [
       "Validation: |                                                                                                 …"
      ]
     },
     "metadata": {},
     "output_type": "display_data"
    },
    {
     "data": {
      "application/vnd.jupyter.widget-view+json": {
       "model_id": "0c728c1edbb64027a2984dff60fa4b67",
       "version_major": 2,
       "version_minor": 0
      },
      "text/plain": [
       "Validation: |                                                                                                 …"
      ]
     },
     "metadata": {},
     "output_type": "display_data"
    },
    {
     "data": {
      "application/vnd.jupyter.widget-view+json": {
       "model_id": "c665317663854bd7b93e61b28443c575",
       "version_major": 2,
       "version_minor": 0
      },
      "text/plain": [
       "Validation: |                                                                                                 …"
      ]
     },
     "metadata": {},
     "output_type": "display_data"
    },
    {
     "data": {
      "application/vnd.jupyter.widget-view+json": {
       "model_id": "a6077ec5413145c497e589c1e267e0c4",
       "version_major": 2,
       "version_minor": 0
      },
      "text/plain": [
       "Validation: |                                                                                                 …"
      ]
     },
     "metadata": {},
     "output_type": "display_data"
    },
    {
     "data": {
      "application/vnd.jupyter.widget-view+json": {
       "model_id": "de4659a4607b4b26958aef423eb96b64",
       "version_major": 2,
       "version_minor": 0
      },
      "text/plain": [
       "Validation: |                                                                                                 …"
      ]
     },
     "metadata": {},
     "output_type": "display_data"
    },
    {
     "data": {
      "application/vnd.jupyter.widget-view+json": {
       "model_id": "c32e038b542a4b6ab9670afa6d287077",
       "version_major": 2,
       "version_minor": 0
      },
      "text/plain": [
       "Validation: |                                                                                                 …"
      ]
     },
     "metadata": {},
     "output_type": "display_data"
    },
    {
     "data": {
      "application/vnd.jupyter.widget-view+json": {
       "model_id": "702e3121f7dd4a9ca27727f75a9abfd3",
       "version_major": 2,
       "version_minor": 0
      },
      "text/plain": [
       "Validation: |                                                                                                 …"
      ]
     },
     "metadata": {},
     "output_type": "display_data"
    },
    {
     "data": {
      "application/vnd.jupyter.widget-view+json": {
       "model_id": "ae0c16b4c97945709c02b53485ed7f85",
       "version_major": 2,
       "version_minor": 0
      },
      "text/plain": [
       "Validation: |                                                                                                 …"
      ]
     },
     "metadata": {},
     "output_type": "display_data"
    },
    {
     "data": {
      "application/vnd.jupyter.widget-view+json": {
       "model_id": "2d43ebb52cb74790b6431f8d13649adf",
       "version_major": 2,
       "version_minor": 0
      },
      "text/plain": [
       "Validation: |                                                                                                 …"
      ]
     },
     "metadata": {},
     "output_type": "display_data"
    },
    {
     "data": {
      "application/vnd.jupyter.widget-view+json": {
       "model_id": "93e73b5feb0249f0833f3fde458cc3cc",
       "version_major": 2,
       "version_minor": 0
      },
      "text/plain": [
       "Validation: |                                                                                                 …"
      ]
     },
     "metadata": {},
     "output_type": "display_data"
    },
    {
     "data": {
      "application/vnd.jupyter.widget-view+json": {
       "model_id": "ceb7cd55f6d14e39a2edabfb17a37274",
       "version_major": 2,
       "version_minor": 0
      },
      "text/plain": [
       "Validation: |                                                                                                 …"
      ]
     },
     "metadata": {},
     "output_type": "display_data"
    },
    {
     "data": {
      "application/vnd.jupyter.widget-view+json": {
       "model_id": "e87f3a979aac48d88e4cbeb25ce12928",
       "version_major": 2,
       "version_minor": 0
      },
      "text/plain": [
       "Validation: |                                                                                                 …"
      ]
     },
     "metadata": {},
     "output_type": "display_data"
    },
    {
     "data": {
      "application/vnd.jupyter.widget-view+json": {
       "model_id": "390f8bc880234dc0b80c0b58d91b74f2",
       "version_major": 2,
       "version_minor": 0
      },
      "text/plain": [
       "Validation: |                                                                                                 …"
      ]
     },
     "metadata": {},
     "output_type": "display_data"
    },
    {
     "data": {
      "application/vnd.jupyter.widget-view+json": {
       "model_id": "cc9ab7c272d9444c8ff7dd333505251b",
       "version_major": 2,
       "version_minor": 0
      },
      "text/plain": [
       "Validation: |                                                                                                 …"
      ]
     },
     "metadata": {},
     "output_type": "display_data"
    },
    {
     "data": {
      "application/vnd.jupyter.widget-view+json": {
       "model_id": "66a4f70e3d364461b081b7c47990f5a4",
       "version_major": 2,
       "version_minor": 0
      },
      "text/plain": [
       "Validation: |                                                                                                 …"
      ]
     },
     "metadata": {},
     "output_type": "display_data"
    },
    {
     "data": {
      "application/vnd.jupyter.widget-view+json": {
       "model_id": "caf9bdf713b246c9ad2773c7e5dd5233",
       "version_major": 2,
       "version_minor": 0
      },
      "text/plain": [
       "Validation: |                                                                                                 …"
      ]
     },
     "metadata": {},
     "output_type": "display_data"
    },
    {
     "data": {
      "application/vnd.jupyter.widget-view+json": {
       "model_id": "f5f184229d2849b18652d94183b57e72",
       "version_major": 2,
       "version_minor": 0
      },
      "text/plain": [
       "Validation: |                                                                                                 …"
      ]
     },
     "metadata": {},
     "output_type": "display_data"
    },
    {
     "data": {
      "application/vnd.jupyter.widget-view+json": {
       "model_id": "7eff2a0949a54343b82fbdc6ce64deef",
       "version_major": 2,
       "version_minor": 0
      },
      "text/plain": [
       "Validation: |                                                                                                 …"
      ]
     },
     "metadata": {},
     "output_type": "display_data"
    },
    {
     "data": {
      "application/vnd.jupyter.widget-view+json": {
       "model_id": "786c82043b20414d8b73549ba11c6d76",
       "version_major": 2,
       "version_minor": 0
      },
      "text/plain": [
       "Validation: |                                                                                                 …"
      ]
     },
     "metadata": {},
     "output_type": "display_data"
    },
    {
     "data": {
      "application/vnd.jupyter.widget-view+json": {
       "model_id": "351817bb12dc4674822e4e15f72387c4",
       "version_major": 2,
       "version_minor": 0
      },
      "text/plain": [
       "Validation: |                                                                                                 …"
      ]
     },
     "metadata": {},
     "output_type": "display_data"
    },
    {
     "data": {
      "application/vnd.jupyter.widget-view+json": {
       "model_id": "e5f10a3d72b642aab98bd6f0d2c42c07",
       "version_major": 2,
       "version_minor": 0
      },
      "text/plain": [
       "Validation: |                                                                                                 …"
      ]
     },
     "metadata": {},
     "output_type": "display_data"
    },
    {
     "data": {
      "application/vnd.jupyter.widget-view+json": {
       "model_id": "f7bcec9a343943789a8a26095a36e864",
       "version_major": 2,
       "version_minor": 0
      },
      "text/plain": [
       "Validation: |                                                                                                 …"
      ]
     },
     "metadata": {},
     "output_type": "display_data"
    },
    {
     "name": "stderr",
     "output_type": "stream",
     "text": [
      "`Trainer.fit` stopped: `max_epochs=30` reached.\n",
      "LOCAL_RANK: 0 - CUDA_VISIBLE_DEVICES: [0,1,2,3,4,5,6]\n",
      "/opt/conda/envs/audio/lib/python3.10/site-packages/pytorch_lightning/trainer/connectors/data_connector.py:441: The 'test_dataloader' does not have many workers which may be a bottleneck. Consider increasing the value of the `num_workers` argument` to `num_workers=127` in the `DataLoader` to improve performance.\n"
     ]
    },
    {
     "data": {
      "application/vnd.jupyter.widget-view+json": {
       "model_id": "16b85f2c2eaf4489a1ca54e8fad4b332",
       "version_major": 2,
       "version_minor": 0
      },
      "text/plain": [
       "Testing: |                                                                                                    …"
      ]
     },
     "metadata": {},
     "output_type": "display_data"
    },
    {
     "name": "stderr",
     "output_type": "stream",
     "text": [
      "/opt/conda/envs/audio/lib/python3.10/site-packages/torchmetrics/utilities/prints.py:43: UserWarning: No negative samples in targets, false positive value should be meaningless. Returning zero tensor in false positive score\n",
      "  warnings.warn(*args, **kwargs)  # noqa: B028\n",
      "/opt/conda/envs/audio/lib/python3.10/site-packages/sklearn/model_selection/_split.py:737: UserWarning: The least populated class in y has only 1 members, which is less than n_splits=2.\n",
      "  warnings.warn(\n",
      "GPU available: True (cuda), used: True\n",
      "TPU available: False, using: 0 TPU cores\n",
      "IPU available: False, using: 0 IPUs\n",
      "HPU available: False, using: 0 HPUs\n",
      "LOCAL_RANK: 0 - CUDA_VISIBLE_DEVICES: [0,1,2,3,4,5,6]\n",
      "\n",
      "   | Name          | Type               | Params\n",
      "------------------------------------------------------\n",
      "0  | tab_enc       | TabularEncoder     | 4.9 K \n",
      "1  | rnn           | GRU                | 369 K \n",
      "2  | head          | Linear             | 129   \n",
      "3  | criterion     | MSELoss            | 0     \n",
      "4  | train_mae     | MeanAbsoluteError  | 0     \n",
      "5  | val_mae       | MeanAbsoluteError  | 0     \n",
      "6  | test_mae      | MeanAbsoluteError  | 0     \n",
      "7  | train_rmse    | MeanSquaredError   | 0     \n",
      "8  | val_rmse      | MeanSquaredError   | 0     \n",
      "9  | test_rmse     | MeanSquaredError   | 0     \n",
      "10 | train_acc     | MulticlassAccuracy | 0     \n",
      "11 | val_acc       | MulticlassAccuracy | 0     \n",
      "12 | test_acc      | MulticlassAccuracy | 0     \n",
      "13 | train_acc_tol | SumMetric          | 0     \n",
      "14 | val_acc_tol   | SumMetric          | 0     \n",
      "15 | test_acc_tol  | SumMetric          | 0     \n",
      "16 | train_cnt     | SumMetric          | 0     \n",
      "17 | val_cnt       | SumMetric          | 0     \n",
      "18 | test_cnt      | SumMetric          | 0     \n",
      "19 | train_auroc   | MulticlassAUROC    | 0     \n",
      "20 | val_auroc     | MulticlassAUROC    | 0     \n",
      "21 | test_auroc    | MulticlassAUROC    | 0     \n",
      "------------------------------------------------------\n",
      "374 K     Trainable params\n",
      "0         Non-trainable params\n",
      "374 K     Total params\n",
      "1.498     Total estimated model params size (MB)\n"
     ]
    },
    {
     "name": "stdout",
     "output_type": "stream",
     "text": [
      "Fold 16 (Test PID: normal-11): {'test_loss': 0.0004461098287720233, 'test_mae': 0.0211213119328022, 'test_rmse': 0.0211213119328022, 'test_acc': 1.0, 'test_acc±1': 1.0, 'auroc': 0.0, 'fold': 16, 'test_pid': 'normal-11'}\n"
     ]
    },
    {
     "data": {
      "application/vnd.jupyter.widget-view+json": {
       "model_id": "30b333647e474638b1a43d8ce5cced12",
       "version_major": 2,
       "version_minor": 0
      },
      "text/plain": [
       "Sanity Checking: |                                                                                            …"
      ]
     },
     "metadata": {},
     "output_type": "display_data"
    },
    {
     "name": "stderr",
     "output_type": "stream",
     "text": [
      "/opt/conda/envs/audio/lib/python3.10/site-packages/pytorch_lightning/trainer/connectors/data_connector.py:441: The 'val_dataloader' does not have many workers which may be a bottleneck. Consider increasing the value of the `num_workers` argument` to `num_workers=127` in the `DataLoader` to improve performance.\n",
      "/opt/conda/envs/audio/lib/python3.10/site-packages/torch/nn/modules/linear.py:116: UserWarning: Deterministic behavior was enabled with either `torch.use_deterministic_algorithms(True)` or `at::Context::setDeterministicAlgorithms(true)`, but this operation is not deterministic because it uses CuBLAS and you have CUDA >= 10.2. To enable deterministic behavior in this case, you must set an environment variable before running your PyTorch application: CUBLAS_WORKSPACE_CONFIG=:4096:8 or CUBLAS_WORKSPACE_CONFIG=:16:8. For more information, go to https://docs.nvidia.com/cuda/cublas/index.html#results-reproducibility (Triggered internally at ../aten/src/ATen/Context.cpp:185.)\n",
      "  return F.linear(input, self.weight, self.bias)\n",
      "/opt/conda/envs/audio/lib/python3.10/site-packages/torchmetrics/utilities/prints.py:43: TorchMetricsUserWarning: You are trying to use a metric in deterministic mode on GPU that uses `torch.cumsum`, which is currently not supported. The tensor will be copied to the CPU memory to compute it and then copied back to GPU. Expect some slowdowns.\n",
      "  warnings.warn(*args, **kwargs)  # noqa: B028\n",
      "/opt/conda/envs/audio/lib/python3.10/site-packages/torchmetrics/utilities/prints.py:43: UserWarning: No positive samples in targets, true positive value should be meaningless. Returning zero tensor in true positive score\n",
      "  warnings.warn(*args, **kwargs)  # noqa: B028\n",
      "/opt/conda/envs/audio/lib/python3.10/site-packages/pytorch_lightning/trainer/connectors/data_connector.py:441: The 'train_dataloader' does not have many workers which may be a bottleneck. Consider increasing the value of the `num_workers` argument` to `num_workers=127` in the `DataLoader` to improve performance.\n",
      "/opt/conda/envs/audio/lib/python3.10/site-packages/pytorch_lightning/loops/fit_loop.py:298: The number of training batches (4) is smaller than the logging interval Trainer(log_every_n_steps=50). Set a lower value for log_every_n_steps if you want to see logs for the training epoch.\n"
     ]
    },
    {
     "data": {
      "application/vnd.jupyter.widget-view+json": {
       "model_id": "7e893046baf0406fa6fc1da9b08f3341",
       "version_major": 2,
       "version_minor": 0
      },
      "text/plain": [
       "Training: |                                                                                                   …"
      ]
     },
     "metadata": {},
     "output_type": "display_data"
    },
    {
     "name": "stderr",
     "output_type": "stream",
     "text": [
      "/opt/conda/envs/audio/lib/python3.10/site-packages/torch/autograd/graph.py:744: UserWarning: Deterministic behavior was enabled with either `torch.use_deterministic_algorithms(True)` or `at::Context::setDeterministicAlgorithms(true)`, but this operation is not deterministic because it uses CuBLAS and you have CUDA >= 10.2. To enable deterministic behavior in this case, you must set an environment variable before running your PyTorch application: CUBLAS_WORKSPACE_CONFIG=:4096:8 or CUBLAS_WORKSPACE_CONFIG=:16:8. For more information, go to https://docs.nvidia.com/cuda/cublas/index.html#results-reproducibility (Triggered internally at ../aten/src/ATen/Context.cpp:185.)\n",
      "  return Variable._execution_engine.run_backward(  # Calls into the C++ engine to run the backward pass\n"
     ]
    },
    {
     "data": {
      "application/vnd.jupyter.widget-view+json": {
       "model_id": "a61cc1f44edd49a5af73915f7cfb1c0f",
       "version_major": 2,
       "version_minor": 0
      },
      "text/plain": [
       "Validation: |                                                                                                 …"
      ]
     },
     "metadata": {},
     "output_type": "display_data"
    },
    {
     "data": {
      "application/vnd.jupyter.widget-view+json": {
       "model_id": "7c6155e54eb748d3a6d8be8c55ea1b37",
       "version_major": 2,
       "version_minor": 0
      },
      "text/plain": [
       "Validation: |                                                                                                 …"
      ]
     },
     "metadata": {},
     "output_type": "display_data"
    },
    {
     "data": {
      "application/vnd.jupyter.widget-view+json": {
       "model_id": "7a76ca1379c4469d86366642b89e7ede",
       "version_major": 2,
       "version_minor": 0
      },
      "text/plain": [
       "Validation: |                                                                                                 …"
      ]
     },
     "metadata": {},
     "output_type": "display_data"
    },
    {
     "data": {
      "application/vnd.jupyter.widget-view+json": {
       "model_id": "9f8e32e5fa514d35b35b264ac8fa6b09",
       "version_major": 2,
       "version_minor": 0
      },
      "text/plain": [
       "Validation: |                                                                                                 …"
      ]
     },
     "metadata": {},
     "output_type": "display_data"
    },
    {
     "data": {
      "application/vnd.jupyter.widget-view+json": {
       "model_id": "9713fbfee9b049a1a9990aba90742741",
       "version_major": 2,
       "version_minor": 0
      },
      "text/plain": [
       "Validation: |                                                                                                 …"
      ]
     },
     "metadata": {},
     "output_type": "display_data"
    },
    {
     "data": {
      "application/vnd.jupyter.widget-view+json": {
       "model_id": "924855971cdb4180bafa71d88f0cf9c3",
       "version_major": 2,
       "version_minor": 0
      },
      "text/plain": [
       "Validation: |                                                                                                 …"
      ]
     },
     "metadata": {},
     "output_type": "display_data"
    },
    {
     "data": {
      "application/vnd.jupyter.widget-view+json": {
       "model_id": "2c796d0a621d426390e5b32a36a7720b",
       "version_major": 2,
       "version_minor": 0
      },
      "text/plain": [
       "Validation: |                                                                                                 …"
      ]
     },
     "metadata": {},
     "output_type": "display_data"
    },
    {
     "data": {
      "application/vnd.jupyter.widget-view+json": {
       "model_id": "14d6978fa6924d54944f5d101804e49d",
       "version_major": 2,
       "version_minor": 0
      },
      "text/plain": [
       "Validation: |                                                                                                 …"
      ]
     },
     "metadata": {},
     "output_type": "display_data"
    },
    {
     "data": {
      "application/vnd.jupyter.widget-view+json": {
       "model_id": "5218d16c1e8f4719875c57b599de3791",
       "version_major": 2,
       "version_minor": 0
      },
      "text/plain": [
       "Validation: |                                                                                                 …"
      ]
     },
     "metadata": {},
     "output_type": "display_data"
    },
    {
     "data": {
      "application/vnd.jupyter.widget-view+json": {
       "model_id": "1ff3bbaed27149b08f93cf49e7142d74",
       "version_major": 2,
       "version_minor": 0
      },
      "text/plain": [
       "Validation: |                                                                                                 …"
      ]
     },
     "metadata": {},
     "output_type": "display_data"
    },
    {
     "data": {
      "application/vnd.jupyter.widget-view+json": {
       "model_id": "248abf8f5fed45978ee88d0331baf6c3",
       "version_major": 2,
       "version_minor": 0
      },
      "text/plain": [
       "Validation: |                                                                                                 …"
      ]
     },
     "metadata": {},
     "output_type": "display_data"
    },
    {
     "data": {
      "application/vnd.jupyter.widget-view+json": {
       "model_id": "b83b5bd3d022492a98d87fcef7a1f203",
       "version_major": 2,
       "version_minor": 0
      },
      "text/plain": [
       "Validation: |                                                                                                 …"
      ]
     },
     "metadata": {},
     "output_type": "display_data"
    },
    {
     "data": {
      "application/vnd.jupyter.widget-view+json": {
       "model_id": "26f57c4f00af486cb2398728892779ca",
       "version_major": 2,
       "version_minor": 0
      },
      "text/plain": [
       "Validation: |                                                                                                 …"
      ]
     },
     "metadata": {},
     "output_type": "display_data"
    },
    {
     "data": {
      "application/vnd.jupyter.widget-view+json": {
       "model_id": "3c40877875994fe2bd83068fb5293ebf",
       "version_major": 2,
       "version_minor": 0
      },
      "text/plain": [
       "Validation: |                                                                                                 …"
      ]
     },
     "metadata": {},
     "output_type": "display_data"
    },
    {
     "data": {
      "application/vnd.jupyter.widget-view+json": {
       "model_id": "2c1c4b006bc849f2a58077fd421a646d",
       "version_major": 2,
       "version_minor": 0
      },
      "text/plain": [
       "Validation: |                                                                                                 …"
      ]
     },
     "metadata": {},
     "output_type": "display_data"
    },
    {
     "data": {
      "application/vnd.jupyter.widget-view+json": {
       "model_id": "34ab1e6ae5a3405db63ff6b8b0c745a3",
       "version_major": 2,
       "version_minor": 0
      },
      "text/plain": [
       "Validation: |                                                                                                 …"
      ]
     },
     "metadata": {},
     "output_type": "display_data"
    },
    {
     "data": {
      "application/vnd.jupyter.widget-view+json": {
       "model_id": "c6ff3818b92c48609dacfd1333560392",
       "version_major": 2,
       "version_minor": 0
      },
      "text/plain": [
       "Validation: |                                                                                                 …"
      ]
     },
     "metadata": {},
     "output_type": "display_data"
    },
    {
     "data": {
      "application/vnd.jupyter.widget-view+json": {
       "model_id": "30339f17b5a445229e8f0e2d91c74505",
       "version_major": 2,
       "version_minor": 0
      },
      "text/plain": [
       "Validation: |                                                                                                 …"
      ]
     },
     "metadata": {},
     "output_type": "display_data"
    },
    {
     "data": {
      "application/vnd.jupyter.widget-view+json": {
       "model_id": "ac710bfa43c34ac1bf9c2eea87cdf9ed",
       "version_major": 2,
       "version_minor": 0
      },
      "text/plain": [
       "Validation: |                                                                                                 …"
      ]
     },
     "metadata": {},
     "output_type": "display_data"
    },
    {
     "data": {
      "application/vnd.jupyter.widget-view+json": {
       "model_id": "3cec7447ee6148a890a621640113531c",
       "version_major": 2,
       "version_minor": 0
      },
      "text/plain": [
       "Validation: |                                                                                                 …"
      ]
     },
     "metadata": {},
     "output_type": "display_data"
    },
    {
     "data": {
      "application/vnd.jupyter.widget-view+json": {
       "model_id": "8dfa582374684b6594c5c7bfa5fa8063",
       "version_major": 2,
       "version_minor": 0
      },
      "text/plain": [
       "Validation: |                                                                                                 …"
      ]
     },
     "metadata": {},
     "output_type": "display_data"
    },
    {
     "data": {
      "application/vnd.jupyter.widget-view+json": {
       "model_id": "8986ad6da3324f2cba1430608ac4c3b8",
       "version_major": 2,
       "version_minor": 0
      },
      "text/plain": [
       "Validation: |                                                                                                 …"
      ]
     },
     "metadata": {},
     "output_type": "display_data"
    },
    {
     "data": {
      "application/vnd.jupyter.widget-view+json": {
       "model_id": "09f30445059d41e082a295561598f627",
       "version_major": 2,
       "version_minor": 0
      },
      "text/plain": [
       "Validation: |                                                                                                 …"
      ]
     },
     "metadata": {},
     "output_type": "display_data"
    },
    {
     "data": {
      "application/vnd.jupyter.widget-view+json": {
       "model_id": "cc52f4a50ce04e9b9e21472ed4162b0d",
       "version_major": 2,
       "version_minor": 0
      },
      "text/plain": [
       "Validation: |                                                                                                 …"
      ]
     },
     "metadata": {},
     "output_type": "display_data"
    },
    {
     "data": {
      "application/vnd.jupyter.widget-view+json": {
       "model_id": "dc31584ec9b74085a9eb56843963ce36",
       "version_major": 2,
       "version_minor": 0
      },
      "text/plain": [
       "Validation: |                                                                                                 …"
      ]
     },
     "metadata": {},
     "output_type": "display_data"
    },
    {
     "data": {
      "application/vnd.jupyter.widget-view+json": {
       "model_id": "5e1c87079591438ca630efebf9f7eb9e",
       "version_major": 2,
       "version_minor": 0
      },
      "text/plain": [
       "Validation: |                                                                                                 …"
      ]
     },
     "metadata": {},
     "output_type": "display_data"
    },
    {
     "data": {
      "application/vnd.jupyter.widget-view+json": {
       "model_id": "efd5f9132a2c409a9de527f3a671968e",
       "version_major": 2,
       "version_minor": 0
      },
      "text/plain": [
       "Validation: |                                                                                                 …"
      ]
     },
     "metadata": {},
     "output_type": "display_data"
    },
    {
     "data": {
      "application/vnd.jupyter.widget-view+json": {
       "model_id": "1761a6baf9334896b88d9702e3c1efb8",
       "version_major": 2,
       "version_minor": 0
      },
      "text/plain": [
       "Validation: |                                                                                                 …"
      ]
     },
     "metadata": {},
     "output_type": "display_data"
    },
    {
     "data": {
      "application/vnd.jupyter.widget-view+json": {
       "model_id": "635449255ae74d42820e7478c589dc57",
       "version_major": 2,
       "version_minor": 0
      },
      "text/plain": [
       "Validation: |                                                                                                 …"
      ]
     },
     "metadata": {},
     "output_type": "display_data"
    },
    {
     "data": {
      "application/vnd.jupyter.widget-view+json": {
       "model_id": "f89d3c4bc8d24b39b45043bbae728914",
       "version_major": 2,
       "version_minor": 0
      },
      "text/plain": [
       "Validation: |                                                                                                 …"
      ]
     },
     "metadata": {},
     "output_type": "display_data"
    },
    {
     "name": "stderr",
     "output_type": "stream",
     "text": [
      "`Trainer.fit` stopped: `max_epochs=30` reached.\n",
      "LOCAL_RANK: 0 - CUDA_VISIBLE_DEVICES: [0,1,2,3,4,5,6]\n",
      "/opt/conda/envs/audio/lib/python3.10/site-packages/pytorch_lightning/trainer/connectors/data_connector.py:441: The 'test_dataloader' does not have many workers which may be a bottleneck. Consider increasing the value of the `num_workers` argument` to `num_workers=127` in the `DataLoader` to improve performance.\n"
     ]
    },
    {
     "data": {
      "application/vnd.jupyter.widget-view+json": {
       "model_id": "310b140676374f57a9d1b2f903946c60",
       "version_major": 2,
       "version_minor": 0
      },
      "text/plain": [
       "Testing: |                                                                                                    …"
      ]
     },
     "metadata": {},
     "output_type": "display_data"
    },
    {
     "name": "stderr",
     "output_type": "stream",
     "text": [
      "/opt/conda/envs/audio/lib/python3.10/site-packages/torchmetrics/utilities/prints.py:43: UserWarning: No negative samples in targets, false positive value should be meaningless. Returning zero tensor in false positive score\n",
      "  warnings.warn(*args, **kwargs)  # noqa: B028\n",
      "/opt/conda/envs/audio/lib/python3.10/site-packages/sklearn/model_selection/_split.py:737: UserWarning: The least populated class in y has only 1 members, which is less than n_splits=2.\n",
      "  warnings.warn(\n",
      "GPU available: True (cuda), used: True\n",
      "TPU available: False, using: 0 TPU cores\n",
      "IPU available: False, using: 0 IPUs\n",
      "HPU available: False, using: 0 HPUs\n",
      "LOCAL_RANK: 0 - CUDA_VISIBLE_DEVICES: [0,1,2,3,4,5,6]\n",
      "\n",
      "   | Name          | Type               | Params\n",
      "------------------------------------------------------\n",
      "0  | tab_enc       | TabularEncoder     | 4.9 K \n",
      "1  | rnn           | GRU                | 369 K \n",
      "2  | head          | Linear             | 129   \n",
      "3  | criterion     | MSELoss            | 0     \n",
      "4  | train_mae     | MeanAbsoluteError  | 0     \n",
      "5  | val_mae       | MeanAbsoluteError  | 0     \n",
      "6  | test_mae      | MeanAbsoluteError  | 0     \n",
      "7  | train_rmse    | MeanSquaredError   | 0     \n",
      "8  | val_rmse      | MeanSquaredError   | 0     \n",
      "9  | test_rmse     | MeanSquaredError   | 0     \n",
      "10 | train_acc     | MulticlassAccuracy | 0     \n",
      "11 | val_acc       | MulticlassAccuracy | 0     \n",
      "12 | test_acc      | MulticlassAccuracy | 0     \n",
      "13 | train_acc_tol | SumMetric          | 0     \n",
      "14 | val_acc_tol   | SumMetric          | 0     \n",
      "15 | test_acc_tol  | SumMetric          | 0     \n",
      "16 | train_cnt     | SumMetric          | 0     \n",
      "17 | val_cnt       | SumMetric          | 0     \n",
      "18 | test_cnt      | SumMetric          | 0     \n",
      "19 | train_auroc   | MulticlassAUROC    | 0     \n",
      "20 | val_auroc     | MulticlassAUROC    | 0     \n",
      "21 | test_auroc    | MulticlassAUROC    | 0     \n",
      "------------------------------------------------------\n",
      "374 K     Trainable params\n",
      "0         Non-trainable params\n",
      "374 K     Total params\n",
      "1.498     Total estimated model params size (MB)\n"
     ]
    },
    {
     "name": "stdout",
     "output_type": "stream",
     "text": [
      "Fold 17 (Test PID: normal-15): {'test_loss': 0.07757946103811264, 'test_mae': 0.27853089570999146, 'test_rmse': 0.27853089570999146, 'test_acc': 1.0, 'test_acc±1': 1.0, 'auroc': 0.0, 'fold': 17, 'test_pid': 'normal-15'}\n"
     ]
    },
    {
     "data": {
      "application/vnd.jupyter.widget-view+json": {
       "model_id": "178b01fd24064c6ab18adbe009ddb148",
       "version_major": 2,
       "version_minor": 0
      },
      "text/plain": [
       "Sanity Checking: |                                                                                            …"
      ]
     },
     "metadata": {},
     "output_type": "display_data"
    },
    {
     "name": "stderr",
     "output_type": "stream",
     "text": [
      "/opt/conda/envs/audio/lib/python3.10/site-packages/pytorch_lightning/trainer/connectors/data_connector.py:441: The 'val_dataloader' does not have many workers which may be a bottleneck. Consider increasing the value of the `num_workers` argument` to `num_workers=127` in the `DataLoader` to improve performance.\n",
      "/opt/conda/envs/audio/lib/python3.10/site-packages/torch/nn/modules/linear.py:116: UserWarning: Deterministic behavior was enabled with either `torch.use_deterministic_algorithms(True)` or `at::Context::setDeterministicAlgorithms(true)`, but this operation is not deterministic because it uses CuBLAS and you have CUDA >= 10.2. To enable deterministic behavior in this case, you must set an environment variable before running your PyTorch application: CUBLAS_WORKSPACE_CONFIG=:4096:8 or CUBLAS_WORKSPACE_CONFIG=:16:8. For more information, go to https://docs.nvidia.com/cuda/cublas/index.html#results-reproducibility (Triggered internally at ../aten/src/ATen/Context.cpp:185.)\n",
      "  return F.linear(input, self.weight, self.bias)\n",
      "/opt/conda/envs/audio/lib/python3.10/site-packages/torchmetrics/utilities/prints.py:43: TorchMetricsUserWarning: You are trying to use a metric in deterministic mode on GPU that uses `torch.cumsum`, which is currently not supported. The tensor will be copied to the CPU memory to compute it and then copied back to GPU. Expect some slowdowns.\n",
      "  warnings.warn(*args, **kwargs)  # noqa: B028\n",
      "/opt/conda/envs/audio/lib/python3.10/site-packages/torchmetrics/utilities/prints.py:43: UserWarning: No positive samples in targets, true positive value should be meaningless. Returning zero tensor in true positive score\n",
      "  warnings.warn(*args, **kwargs)  # noqa: B028\n",
      "/opt/conda/envs/audio/lib/python3.10/site-packages/pytorch_lightning/trainer/connectors/data_connector.py:441: The 'train_dataloader' does not have many workers which may be a bottleneck. Consider increasing the value of the `num_workers` argument` to `num_workers=127` in the `DataLoader` to improve performance.\n",
      "/opt/conda/envs/audio/lib/python3.10/site-packages/pytorch_lightning/loops/fit_loop.py:298: The number of training batches (4) is smaller than the logging interval Trainer(log_every_n_steps=50). Set a lower value for log_every_n_steps if you want to see logs for the training epoch.\n"
     ]
    },
    {
     "data": {
      "application/vnd.jupyter.widget-view+json": {
       "model_id": "ee1c9a379eab46e9b9ea93ab0656a26e",
       "version_major": 2,
       "version_minor": 0
      },
      "text/plain": [
       "Training: |                                                                                                   …"
      ]
     },
     "metadata": {},
     "output_type": "display_data"
    },
    {
     "name": "stderr",
     "output_type": "stream",
     "text": [
      "/opt/conda/envs/audio/lib/python3.10/site-packages/torch/autograd/graph.py:744: UserWarning: Deterministic behavior was enabled with either `torch.use_deterministic_algorithms(True)` or `at::Context::setDeterministicAlgorithms(true)`, but this operation is not deterministic because it uses CuBLAS and you have CUDA >= 10.2. To enable deterministic behavior in this case, you must set an environment variable before running your PyTorch application: CUBLAS_WORKSPACE_CONFIG=:4096:8 or CUBLAS_WORKSPACE_CONFIG=:16:8. For more information, go to https://docs.nvidia.com/cuda/cublas/index.html#results-reproducibility (Triggered internally at ../aten/src/ATen/Context.cpp:185.)\n",
      "  return Variable._execution_engine.run_backward(  # Calls into the C++ engine to run the backward pass\n"
     ]
    },
    {
     "data": {
      "application/vnd.jupyter.widget-view+json": {
       "model_id": "ceec3ebdcc3940838e968eac2e4e2b70",
       "version_major": 2,
       "version_minor": 0
      },
      "text/plain": [
       "Validation: |                                                                                                 …"
      ]
     },
     "metadata": {},
     "output_type": "display_data"
    },
    {
     "data": {
      "application/vnd.jupyter.widget-view+json": {
       "model_id": "52c1e383a1c94e7b95b11c684629ad12",
       "version_major": 2,
       "version_minor": 0
      },
      "text/plain": [
       "Validation: |                                                                                                 …"
      ]
     },
     "metadata": {},
     "output_type": "display_data"
    },
    {
     "data": {
      "application/vnd.jupyter.widget-view+json": {
       "model_id": "d22ffe1355d44524ba19f0ed556420b3",
       "version_major": 2,
       "version_minor": 0
      },
      "text/plain": [
       "Validation: |                                                                                                 …"
      ]
     },
     "metadata": {},
     "output_type": "display_data"
    },
    {
     "data": {
      "application/vnd.jupyter.widget-view+json": {
       "model_id": "433dbd7d4de44f5ebd7c62379853da77",
       "version_major": 2,
       "version_minor": 0
      },
      "text/plain": [
       "Validation: |                                                                                                 …"
      ]
     },
     "metadata": {},
     "output_type": "display_data"
    },
    {
     "data": {
      "application/vnd.jupyter.widget-view+json": {
       "model_id": "5b6474164be443ea81ab6c68f47919b9",
       "version_major": 2,
       "version_minor": 0
      },
      "text/plain": [
       "Validation: |                                                                                                 …"
      ]
     },
     "metadata": {},
     "output_type": "display_data"
    },
    {
     "data": {
      "application/vnd.jupyter.widget-view+json": {
       "model_id": "1fa05b2dd09c4fad9daf0ee5139a0f46",
       "version_major": 2,
       "version_minor": 0
      },
      "text/plain": [
       "Validation: |                                                                                                 …"
      ]
     },
     "metadata": {},
     "output_type": "display_data"
    },
    {
     "data": {
      "application/vnd.jupyter.widget-view+json": {
       "model_id": "d43d701d8cd94665a94788033ab46535",
       "version_major": 2,
       "version_minor": 0
      },
      "text/plain": [
       "Validation: |                                                                                                 …"
      ]
     },
     "metadata": {},
     "output_type": "display_data"
    },
    {
     "data": {
      "application/vnd.jupyter.widget-view+json": {
       "model_id": "52fa9b1a760a477f8b960413be06fc7e",
       "version_major": 2,
       "version_minor": 0
      },
      "text/plain": [
       "Validation: |                                                                                                 …"
      ]
     },
     "metadata": {},
     "output_type": "display_data"
    },
    {
     "data": {
      "application/vnd.jupyter.widget-view+json": {
       "model_id": "e10a559278d6435db5cf8e711d396f7e",
       "version_major": 2,
       "version_minor": 0
      },
      "text/plain": [
       "Validation: |                                                                                                 …"
      ]
     },
     "metadata": {},
     "output_type": "display_data"
    },
    {
     "data": {
      "application/vnd.jupyter.widget-view+json": {
       "model_id": "4ae580c9c5654f6890ced0d41727cbe1",
       "version_major": 2,
       "version_minor": 0
      },
      "text/plain": [
       "Validation: |                                                                                                 …"
      ]
     },
     "metadata": {},
     "output_type": "display_data"
    },
    {
     "data": {
      "application/vnd.jupyter.widget-view+json": {
       "model_id": "52a2cbcc0b104179b43d37488da4021f",
       "version_major": 2,
       "version_minor": 0
      },
      "text/plain": [
       "Validation: |                                                                                                 …"
      ]
     },
     "metadata": {},
     "output_type": "display_data"
    },
    {
     "data": {
      "application/vnd.jupyter.widget-view+json": {
       "model_id": "6944522990a34ef3bcf9372ffaa0a4ca",
       "version_major": 2,
       "version_minor": 0
      },
      "text/plain": [
       "Validation: |                                                                                                 …"
      ]
     },
     "metadata": {},
     "output_type": "display_data"
    },
    {
     "data": {
      "application/vnd.jupyter.widget-view+json": {
       "model_id": "129f7e310a3f411fbc36c576244be293",
       "version_major": 2,
       "version_minor": 0
      },
      "text/plain": [
       "Validation: |                                                                                                 …"
      ]
     },
     "metadata": {},
     "output_type": "display_data"
    },
    {
     "data": {
      "application/vnd.jupyter.widget-view+json": {
       "model_id": "7bb82e85ba7441c9a3e1a8f7b2e7f3d9",
       "version_major": 2,
       "version_minor": 0
      },
      "text/plain": [
       "Validation: |                                                                                                 …"
      ]
     },
     "metadata": {},
     "output_type": "display_data"
    },
    {
     "data": {
      "application/vnd.jupyter.widget-view+json": {
       "model_id": "2ca1270e0f954bf68552e03a672ff5ef",
       "version_major": 2,
       "version_minor": 0
      },
      "text/plain": [
       "Validation: |                                                                                                 …"
      ]
     },
     "metadata": {},
     "output_type": "display_data"
    },
    {
     "data": {
      "application/vnd.jupyter.widget-view+json": {
       "model_id": "b4f91b81de3e4857b880b01d0ef41b59",
       "version_major": 2,
       "version_minor": 0
      },
      "text/plain": [
       "Validation: |                                                                                                 …"
      ]
     },
     "metadata": {},
     "output_type": "display_data"
    },
    {
     "data": {
      "application/vnd.jupyter.widget-view+json": {
       "model_id": "fff0ca6d49e24cd9ad754507fa303055",
       "version_major": 2,
       "version_minor": 0
      },
      "text/plain": [
       "Validation: |                                                                                                 …"
      ]
     },
     "metadata": {},
     "output_type": "display_data"
    },
    {
     "data": {
      "application/vnd.jupyter.widget-view+json": {
       "model_id": "bff2d0bbb05d4598a9c4a4605fa4e496",
       "version_major": 2,
       "version_minor": 0
      },
      "text/plain": [
       "Validation: |                                                                                                 …"
      ]
     },
     "metadata": {},
     "output_type": "display_data"
    },
    {
     "data": {
      "application/vnd.jupyter.widget-view+json": {
       "model_id": "65b1575983e34171963134dce9e0bfdc",
       "version_major": 2,
       "version_minor": 0
      },
      "text/plain": [
       "Validation: |                                                                                                 …"
      ]
     },
     "metadata": {},
     "output_type": "display_data"
    },
    {
     "data": {
      "application/vnd.jupyter.widget-view+json": {
       "model_id": "f8fff773888f4873b36a506599be3d02",
       "version_major": 2,
       "version_minor": 0
      },
      "text/plain": [
       "Validation: |                                                                                                 …"
      ]
     },
     "metadata": {},
     "output_type": "display_data"
    },
    {
     "data": {
      "application/vnd.jupyter.widget-view+json": {
       "model_id": "0c12b96d5cb646059b329baae066a8c6",
       "version_major": 2,
       "version_minor": 0
      },
      "text/plain": [
       "Validation: |                                                                                                 …"
      ]
     },
     "metadata": {},
     "output_type": "display_data"
    },
    {
     "data": {
      "application/vnd.jupyter.widget-view+json": {
       "model_id": "263aa3d2280e4a75b45af23b4fb768f0",
       "version_major": 2,
       "version_minor": 0
      },
      "text/plain": [
       "Validation: |                                                                                                 …"
      ]
     },
     "metadata": {},
     "output_type": "display_data"
    },
    {
     "data": {
      "application/vnd.jupyter.widget-view+json": {
       "model_id": "34763b1cde864556a57bca3bc7a0e3ff",
       "version_major": 2,
       "version_minor": 0
      },
      "text/plain": [
       "Validation: |                                                                                                 …"
      ]
     },
     "metadata": {},
     "output_type": "display_data"
    },
    {
     "data": {
      "application/vnd.jupyter.widget-view+json": {
       "model_id": "b802ad796ada41cc9619431943a1d5d3",
       "version_major": 2,
       "version_minor": 0
      },
      "text/plain": [
       "Validation: |                                                                                                 …"
      ]
     },
     "metadata": {},
     "output_type": "display_data"
    },
    {
     "data": {
      "application/vnd.jupyter.widget-view+json": {
       "model_id": "a88f2c40cf364ba296903ce572645ade",
       "version_major": 2,
       "version_minor": 0
      },
      "text/plain": [
       "Validation: |                                                                                                 …"
      ]
     },
     "metadata": {},
     "output_type": "display_data"
    },
    {
     "data": {
      "application/vnd.jupyter.widget-view+json": {
       "model_id": "08cc0a04ec6b420fa1979ae16afdf847",
       "version_major": 2,
       "version_minor": 0
      },
      "text/plain": [
       "Validation: |                                                                                                 …"
      ]
     },
     "metadata": {},
     "output_type": "display_data"
    },
    {
     "data": {
      "application/vnd.jupyter.widget-view+json": {
       "model_id": "0412d279ef6c4792be5e45b60d778a6c",
       "version_major": 2,
       "version_minor": 0
      },
      "text/plain": [
       "Validation: |                                                                                                 …"
      ]
     },
     "metadata": {},
     "output_type": "display_data"
    },
    {
     "data": {
      "application/vnd.jupyter.widget-view+json": {
       "model_id": "569c1dc8602b41aba112961ac5999332",
       "version_major": 2,
       "version_minor": 0
      },
      "text/plain": [
       "Validation: |                                                                                                 …"
      ]
     },
     "metadata": {},
     "output_type": "display_data"
    },
    {
     "data": {
      "application/vnd.jupyter.widget-view+json": {
       "model_id": "ee4d308a50f54dbbbfc04b2f9fdfe0c0",
       "version_major": 2,
       "version_minor": 0
      },
      "text/plain": [
       "Validation: |                                                                                                 …"
      ]
     },
     "metadata": {},
     "output_type": "display_data"
    },
    {
     "data": {
      "application/vnd.jupyter.widget-view+json": {
       "model_id": "8b449e4ca6ac41c7ac7da5b670a8c4c0",
       "version_major": 2,
       "version_minor": 0
      },
      "text/plain": [
       "Validation: |                                                                                                 …"
      ]
     },
     "metadata": {},
     "output_type": "display_data"
    },
    {
     "name": "stderr",
     "output_type": "stream",
     "text": [
      "`Trainer.fit` stopped: `max_epochs=30` reached.\n",
      "LOCAL_RANK: 0 - CUDA_VISIBLE_DEVICES: [0,1,2,3,4,5,6]\n",
      "/opt/conda/envs/audio/lib/python3.10/site-packages/pytorch_lightning/trainer/connectors/data_connector.py:441: The 'test_dataloader' does not have many workers which may be a bottleneck. Consider increasing the value of the `num_workers` argument` to `num_workers=127` in the `DataLoader` to improve performance.\n"
     ]
    },
    {
     "data": {
      "application/vnd.jupyter.widget-view+json": {
       "model_id": "3c2355152394467eac6ff0802e1ca647",
       "version_major": 2,
       "version_minor": 0
      },
      "text/plain": [
       "Testing: |                                                                                                    …"
      ]
     },
     "metadata": {},
     "output_type": "display_data"
    },
    {
     "name": "stderr",
     "output_type": "stream",
     "text": [
      "/opt/conda/envs/audio/lib/python3.10/site-packages/torchmetrics/utilities/prints.py:43: UserWarning: No negative samples in targets, false positive value should be meaningless. Returning zero tensor in false positive score\n",
      "  warnings.warn(*args, **kwargs)  # noqa: B028\n",
      "/opt/conda/envs/audio/lib/python3.10/site-packages/sklearn/model_selection/_split.py:737: UserWarning: The least populated class in y has only 1 members, which is less than n_splits=2.\n",
      "  warnings.warn(\n",
      "GPU available: True (cuda), used: True\n",
      "TPU available: False, using: 0 TPU cores\n",
      "IPU available: False, using: 0 IPUs\n",
      "HPU available: False, using: 0 HPUs\n",
      "LOCAL_RANK: 0 - CUDA_VISIBLE_DEVICES: [0,1,2,3,4,5,6]\n",
      "\n",
      "   | Name          | Type               | Params\n",
      "------------------------------------------------------\n",
      "0  | tab_enc       | TabularEncoder     | 4.9 K \n",
      "1  | rnn           | GRU                | 369 K \n",
      "2  | head          | Linear             | 129   \n",
      "3  | criterion     | MSELoss            | 0     \n",
      "4  | train_mae     | MeanAbsoluteError  | 0     \n",
      "5  | val_mae       | MeanAbsoluteError  | 0     \n",
      "6  | test_mae      | MeanAbsoluteError  | 0     \n",
      "7  | train_rmse    | MeanSquaredError   | 0     \n",
      "8  | val_rmse      | MeanSquaredError   | 0     \n",
      "9  | test_rmse     | MeanSquaredError   | 0     \n",
      "10 | train_acc     | MulticlassAccuracy | 0     \n",
      "11 | val_acc       | MulticlassAccuracy | 0     \n",
      "12 | test_acc      | MulticlassAccuracy | 0     \n",
      "13 | train_acc_tol | SumMetric          | 0     \n",
      "14 | val_acc_tol   | SumMetric          | 0     \n",
      "15 | test_acc_tol  | SumMetric          | 0     \n",
      "16 | train_cnt     | SumMetric          | 0     \n",
      "17 | val_cnt       | SumMetric          | 0     \n",
      "18 | test_cnt      | SumMetric          | 0     \n",
      "19 | train_auroc   | MulticlassAUROC    | 0     \n",
      "20 | val_auroc     | MulticlassAUROC    | 0     \n",
      "21 | test_auroc    | MulticlassAUROC    | 0     \n",
      "------------------------------------------------------\n",
      "374 K     Trainable params\n",
      "0         Non-trainable params\n",
      "374 K     Total params\n",
      "1.498     Total estimated model params size (MB)\n"
     ]
    },
    {
     "name": "stdout",
     "output_type": "stream",
     "text": [
      "Fold 18 (Test PID: normal-19): {'test_loss': 0.005092942621558905, 'test_mae': 0.0713648572564125, 'test_rmse': 0.0713648572564125, 'test_acc': 1.0, 'test_acc±1': 1.0, 'auroc': 0.0, 'fold': 18, 'test_pid': 'normal-19'}\n"
     ]
    },
    {
     "data": {
      "application/vnd.jupyter.widget-view+json": {
       "model_id": "dd3b5e0f16c4461482ad3f582fcdab52",
       "version_major": 2,
       "version_minor": 0
      },
      "text/plain": [
       "Sanity Checking: |                                                                                            …"
      ]
     },
     "metadata": {},
     "output_type": "display_data"
    },
    {
     "name": "stderr",
     "output_type": "stream",
     "text": [
      "/opt/conda/envs/audio/lib/python3.10/site-packages/pytorch_lightning/trainer/connectors/data_connector.py:441: The 'val_dataloader' does not have many workers which may be a bottleneck. Consider increasing the value of the `num_workers` argument` to `num_workers=127` in the `DataLoader` to improve performance.\n",
      "/opt/conda/envs/audio/lib/python3.10/site-packages/torch/nn/modules/linear.py:116: UserWarning: Deterministic behavior was enabled with either `torch.use_deterministic_algorithms(True)` or `at::Context::setDeterministicAlgorithms(true)`, but this operation is not deterministic because it uses CuBLAS and you have CUDA >= 10.2. To enable deterministic behavior in this case, you must set an environment variable before running your PyTorch application: CUBLAS_WORKSPACE_CONFIG=:4096:8 or CUBLAS_WORKSPACE_CONFIG=:16:8. For more information, go to https://docs.nvidia.com/cuda/cublas/index.html#results-reproducibility (Triggered internally at ../aten/src/ATen/Context.cpp:185.)\n",
      "  return F.linear(input, self.weight, self.bias)\n",
      "/opt/conda/envs/audio/lib/python3.10/site-packages/torchmetrics/utilities/prints.py:43: TorchMetricsUserWarning: You are trying to use a metric in deterministic mode on GPU that uses `torch.cumsum`, which is currently not supported. The tensor will be copied to the CPU memory to compute it and then copied back to GPU. Expect some slowdowns.\n",
      "  warnings.warn(*args, **kwargs)  # noqa: B028\n",
      "/opt/conda/envs/audio/lib/python3.10/site-packages/torchmetrics/utilities/prints.py:43: UserWarning: No positive samples in targets, true positive value should be meaningless. Returning zero tensor in true positive score\n",
      "  warnings.warn(*args, **kwargs)  # noqa: B028\n",
      "/opt/conda/envs/audio/lib/python3.10/site-packages/pytorch_lightning/trainer/connectors/data_connector.py:441: The 'train_dataloader' does not have many workers which may be a bottleneck. Consider increasing the value of the `num_workers` argument` to `num_workers=127` in the `DataLoader` to improve performance.\n",
      "/opt/conda/envs/audio/lib/python3.10/site-packages/pytorch_lightning/loops/fit_loop.py:298: The number of training batches (4) is smaller than the logging interval Trainer(log_every_n_steps=50). Set a lower value for log_every_n_steps if you want to see logs for the training epoch.\n"
     ]
    },
    {
     "data": {
      "application/vnd.jupyter.widget-view+json": {
       "model_id": "278d66b13a314f09b725d1f69ba9f537",
       "version_major": 2,
       "version_minor": 0
      },
      "text/plain": [
       "Training: |                                                                                                   …"
      ]
     },
     "metadata": {},
     "output_type": "display_data"
    },
    {
     "name": "stderr",
     "output_type": "stream",
     "text": [
      "/opt/conda/envs/audio/lib/python3.10/site-packages/torch/autograd/graph.py:744: UserWarning: Deterministic behavior was enabled with either `torch.use_deterministic_algorithms(True)` or `at::Context::setDeterministicAlgorithms(true)`, but this operation is not deterministic because it uses CuBLAS and you have CUDA >= 10.2. To enable deterministic behavior in this case, you must set an environment variable before running your PyTorch application: CUBLAS_WORKSPACE_CONFIG=:4096:8 or CUBLAS_WORKSPACE_CONFIG=:16:8. For more information, go to https://docs.nvidia.com/cuda/cublas/index.html#results-reproducibility (Triggered internally at ../aten/src/ATen/Context.cpp:185.)\n",
      "  return Variable._execution_engine.run_backward(  # Calls into the C++ engine to run the backward pass\n"
     ]
    },
    {
     "data": {
      "application/vnd.jupyter.widget-view+json": {
       "model_id": "3b5ed248fc604534b7124a35a715f87f",
       "version_major": 2,
       "version_minor": 0
      },
      "text/plain": [
       "Validation: |                                                                                                 …"
      ]
     },
     "metadata": {},
     "output_type": "display_data"
    },
    {
     "data": {
      "application/vnd.jupyter.widget-view+json": {
       "model_id": "2dc53776d120449bb921cfbc6b9ac6b7",
       "version_major": 2,
       "version_minor": 0
      },
      "text/plain": [
       "Validation: |                                                                                                 …"
      ]
     },
     "metadata": {},
     "output_type": "display_data"
    },
    {
     "data": {
      "application/vnd.jupyter.widget-view+json": {
       "model_id": "2d5d99a76a9a477a8c61f7802c467e0f",
       "version_major": 2,
       "version_minor": 0
      },
      "text/plain": [
       "Validation: |                                                                                                 …"
      ]
     },
     "metadata": {},
     "output_type": "display_data"
    },
    {
     "data": {
      "application/vnd.jupyter.widget-view+json": {
       "model_id": "28a4f84dc8054203ba91ad5f12464546",
       "version_major": 2,
       "version_minor": 0
      },
      "text/plain": [
       "Validation: |                                                                                                 …"
      ]
     },
     "metadata": {},
     "output_type": "display_data"
    },
    {
     "data": {
      "application/vnd.jupyter.widget-view+json": {
       "model_id": "e66edc6c7b0f4de5b946c7adea7498f5",
       "version_major": 2,
       "version_minor": 0
      },
      "text/plain": [
       "Validation: |                                                                                                 …"
      ]
     },
     "metadata": {},
     "output_type": "display_data"
    },
    {
     "data": {
      "application/vnd.jupyter.widget-view+json": {
       "model_id": "188d599369c440ada04ec984807813f7",
       "version_major": 2,
       "version_minor": 0
      },
      "text/plain": [
       "Validation: |                                                                                                 …"
      ]
     },
     "metadata": {},
     "output_type": "display_data"
    },
    {
     "data": {
      "application/vnd.jupyter.widget-view+json": {
       "model_id": "83acacdb60e442efa942efc94df7c79d",
       "version_major": 2,
       "version_minor": 0
      },
      "text/plain": [
       "Validation: |                                                                                                 …"
      ]
     },
     "metadata": {},
     "output_type": "display_data"
    },
    {
     "data": {
      "application/vnd.jupyter.widget-view+json": {
       "model_id": "714b128920334cc4b4b1b10b67da8976",
       "version_major": 2,
       "version_minor": 0
      },
      "text/plain": [
       "Validation: |                                                                                                 …"
      ]
     },
     "metadata": {},
     "output_type": "display_data"
    },
    {
     "data": {
      "application/vnd.jupyter.widget-view+json": {
       "model_id": "9e1c0da52ba3491181c40b2d0941a4b0",
       "version_major": 2,
       "version_minor": 0
      },
      "text/plain": [
       "Validation: |                                                                                                 …"
      ]
     },
     "metadata": {},
     "output_type": "display_data"
    },
    {
     "data": {
      "application/vnd.jupyter.widget-view+json": {
       "model_id": "a06fe3f7c91f43a6b7a39bdaa082717c",
       "version_major": 2,
       "version_minor": 0
      },
      "text/plain": [
       "Validation: |                                                                                                 …"
      ]
     },
     "metadata": {},
     "output_type": "display_data"
    },
    {
     "data": {
      "application/vnd.jupyter.widget-view+json": {
       "model_id": "ef7466f912c04dc99999dea1cd2f7a1b",
       "version_major": 2,
       "version_minor": 0
      },
      "text/plain": [
       "Validation: |                                                                                                 …"
      ]
     },
     "metadata": {},
     "output_type": "display_data"
    },
    {
     "data": {
      "application/vnd.jupyter.widget-view+json": {
       "model_id": "8c957fc0f7aa4daaa17d21f2cdaccf2e",
       "version_major": 2,
       "version_minor": 0
      },
      "text/plain": [
       "Validation: |                                                                                                 …"
      ]
     },
     "metadata": {},
     "output_type": "display_data"
    },
    {
     "data": {
      "application/vnd.jupyter.widget-view+json": {
       "model_id": "a96ba56159694c758332f8582c2988a9",
       "version_major": 2,
       "version_minor": 0
      },
      "text/plain": [
       "Validation: |                                                                                                 …"
      ]
     },
     "metadata": {},
     "output_type": "display_data"
    },
    {
     "data": {
      "application/vnd.jupyter.widget-view+json": {
       "model_id": "41b0e1d7b3dd4e5294e9cbc0abd104b9",
       "version_major": 2,
       "version_minor": 0
      },
      "text/plain": [
       "Validation: |                                                                                                 …"
      ]
     },
     "metadata": {},
     "output_type": "display_data"
    },
    {
     "data": {
      "application/vnd.jupyter.widget-view+json": {
       "model_id": "517571c68d8e46faaa6f6cfafedac352",
       "version_major": 2,
       "version_minor": 0
      },
      "text/plain": [
       "Validation: |                                                                                                 …"
      ]
     },
     "metadata": {},
     "output_type": "display_data"
    },
    {
     "data": {
      "application/vnd.jupyter.widget-view+json": {
       "model_id": "cc3946cb5fdc4cf7a59cc70b85e2e09d",
       "version_major": 2,
       "version_minor": 0
      },
      "text/plain": [
       "Validation: |                                                                                                 …"
      ]
     },
     "metadata": {},
     "output_type": "display_data"
    },
    {
     "data": {
      "application/vnd.jupyter.widget-view+json": {
       "model_id": "4060b38215564e4e950cda086e99f729",
       "version_major": 2,
       "version_minor": 0
      },
      "text/plain": [
       "Validation: |                                                                                                 …"
      ]
     },
     "metadata": {},
     "output_type": "display_data"
    },
    {
     "data": {
      "application/vnd.jupyter.widget-view+json": {
       "model_id": "454c49703f864542838fb86c49704885",
       "version_major": 2,
       "version_minor": 0
      },
      "text/plain": [
       "Validation: |                                                                                                 …"
      ]
     },
     "metadata": {},
     "output_type": "display_data"
    },
    {
     "data": {
      "application/vnd.jupyter.widget-view+json": {
       "model_id": "05a5f74c66b34f3d8189fdb70d6443f5",
       "version_major": 2,
       "version_minor": 0
      },
      "text/plain": [
       "Validation: |                                                                                                 …"
      ]
     },
     "metadata": {},
     "output_type": "display_data"
    },
    {
     "data": {
      "application/vnd.jupyter.widget-view+json": {
       "model_id": "2de2a56fd58849e394957bdfa215dfe5",
       "version_major": 2,
       "version_minor": 0
      },
      "text/plain": [
       "Validation: |                                                                                                 …"
      ]
     },
     "metadata": {},
     "output_type": "display_data"
    },
    {
     "data": {
      "application/vnd.jupyter.widget-view+json": {
       "model_id": "f861ef5688534a28a63a3d40230e2a80",
       "version_major": 2,
       "version_minor": 0
      },
      "text/plain": [
       "Validation: |                                                                                                 …"
      ]
     },
     "metadata": {},
     "output_type": "display_data"
    },
    {
     "data": {
      "application/vnd.jupyter.widget-view+json": {
       "model_id": "bf0e1a5d0f5f497db72c4f2881a1c984",
       "version_major": 2,
       "version_minor": 0
      },
      "text/plain": [
       "Validation: |                                                                                                 …"
      ]
     },
     "metadata": {},
     "output_type": "display_data"
    },
    {
     "data": {
      "application/vnd.jupyter.widget-view+json": {
       "model_id": "a9cdee5e823b406b818f9c455433923a",
       "version_major": 2,
       "version_minor": 0
      },
      "text/plain": [
       "Validation: |                                                                                                 …"
      ]
     },
     "metadata": {},
     "output_type": "display_data"
    },
    {
     "data": {
      "application/vnd.jupyter.widget-view+json": {
       "model_id": "a43efdb457784b34a19a3070d4830c66",
       "version_major": 2,
       "version_minor": 0
      },
      "text/plain": [
       "Validation: |                                                                                                 …"
      ]
     },
     "metadata": {},
     "output_type": "display_data"
    },
    {
     "data": {
      "application/vnd.jupyter.widget-view+json": {
       "model_id": "e3a888c42d4046918a00b44ce7d9b30c",
       "version_major": 2,
       "version_minor": 0
      },
      "text/plain": [
       "Validation: |                                                                                                 …"
      ]
     },
     "metadata": {},
     "output_type": "display_data"
    },
    {
     "data": {
      "application/vnd.jupyter.widget-view+json": {
       "model_id": "98fa4bb108c9447cad1e46a8c0ad23c3",
       "version_major": 2,
       "version_minor": 0
      },
      "text/plain": [
       "Validation: |                                                                                                 …"
      ]
     },
     "metadata": {},
     "output_type": "display_data"
    },
    {
     "data": {
      "application/vnd.jupyter.widget-view+json": {
       "model_id": "7ab066e9454d4409a8d3ebf558ed28ac",
       "version_major": 2,
       "version_minor": 0
      },
      "text/plain": [
       "Validation: |                                                                                                 …"
      ]
     },
     "metadata": {},
     "output_type": "display_data"
    },
    {
     "data": {
      "application/vnd.jupyter.widget-view+json": {
       "model_id": "5abbfc8e76aa466dba86997b094cc8b9",
       "version_major": 2,
       "version_minor": 0
      },
      "text/plain": [
       "Validation: |                                                                                                 …"
      ]
     },
     "metadata": {},
     "output_type": "display_data"
    },
    {
     "data": {
      "application/vnd.jupyter.widget-view+json": {
       "model_id": "b02e078517f7487993173721595c5d0f",
       "version_major": 2,
       "version_minor": 0
      },
      "text/plain": [
       "Validation: |                                                                                                 …"
      ]
     },
     "metadata": {},
     "output_type": "display_data"
    },
    {
     "data": {
      "application/vnd.jupyter.widget-view+json": {
       "model_id": "6e791808b5f64e3f933b09e72387d070",
       "version_major": 2,
       "version_minor": 0
      },
      "text/plain": [
       "Validation: |                                                                                                 …"
      ]
     },
     "metadata": {},
     "output_type": "display_data"
    },
    {
     "name": "stderr",
     "output_type": "stream",
     "text": [
      "`Trainer.fit` stopped: `max_epochs=30` reached.\n",
      "LOCAL_RANK: 0 - CUDA_VISIBLE_DEVICES: [0,1,2,3,4,5,6]\n",
      "/opt/conda/envs/audio/lib/python3.10/site-packages/pytorch_lightning/trainer/connectors/data_connector.py:441: The 'test_dataloader' does not have many workers which may be a bottleneck. Consider increasing the value of the `num_workers` argument` to `num_workers=127` in the `DataLoader` to improve performance.\n"
     ]
    },
    {
     "data": {
      "application/vnd.jupyter.widget-view+json": {
       "model_id": "ce311f5b4d114d81952c4f524371df7e",
       "version_major": 2,
       "version_minor": 0
      },
      "text/plain": [
       "Testing: |                                                                                                    …"
      ]
     },
     "metadata": {},
     "output_type": "display_data"
    },
    {
     "name": "stderr",
     "output_type": "stream",
     "text": [
      "/opt/conda/envs/audio/lib/python3.10/site-packages/torchmetrics/utilities/prints.py:43: UserWarning: No negative samples in targets, false positive value should be meaningless. Returning zero tensor in false positive score\n",
      "  warnings.warn(*args, **kwargs)  # noqa: B028\n",
      "/opt/conda/envs/audio/lib/python3.10/site-packages/sklearn/model_selection/_split.py:737: UserWarning: The least populated class in y has only 1 members, which is less than n_splits=2.\n",
      "  warnings.warn(\n",
      "GPU available: True (cuda), used: True\n",
      "TPU available: False, using: 0 TPU cores\n",
      "IPU available: False, using: 0 IPUs\n",
      "HPU available: False, using: 0 HPUs\n",
      "LOCAL_RANK: 0 - CUDA_VISIBLE_DEVICES: [0,1,2,3,4,5,6]\n",
      "\n",
      "   | Name          | Type               | Params\n",
      "------------------------------------------------------\n",
      "0  | tab_enc       | TabularEncoder     | 4.9 K \n",
      "1  | rnn           | GRU                | 369 K \n",
      "2  | head          | Linear             | 129   \n",
      "3  | criterion     | MSELoss            | 0     \n",
      "4  | train_mae     | MeanAbsoluteError  | 0     \n",
      "5  | val_mae       | MeanAbsoluteError  | 0     \n",
      "6  | test_mae      | MeanAbsoluteError  | 0     \n",
      "7  | train_rmse    | MeanSquaredError   | 0     \n",
      "8  | val_rmse      | MeanSquaredError   | 0     \n",
      "9  | test_rmse     | MeanSquaredError   | 0     \n",
      "10 | train_acc     | MulticlassAccuracy | 0     \n",
      "11 | val_acc       | MulticlassAccuracy | 0     \n",
      "12 | test_acc      | MulticlassAccuracy | 0     \n",
      "13 | train_acc_tol | SumMetric          | 0     \n",
      "14 | val_acc_tol   | SumMetric          | 0     \n",
      "15 | test_acc_tol  | SumMetric          | 0     \n",
      "16 | train_cnt     | SumMetric          | 0     \n",
      "17 | val_cnt       | SumMetric          | 0     \n",
      "18 | test_cnt      | SumMetric          | 0     \n",
      "19 | train_auroc   | MulticlassAUROC    | 0     \n",
      "20 | val_auroc     | MulticlassAUROC    | 0     \n",
      "21 | test_auroc    | MulticlassAUROC    | 0     \n",
      "------------------------------------------------------\n",
      "374 K     Trainable params\n",
      "0         Non-trainable params\n",
      "374 K     Total params\n",
      "1.498     Total estimated model params size (MB)\n"
     ]
    },
    {
     "name": "stdout",
     "output_type": "stream",
     "text": [
      "Fold 19 (Test PID: normal-10): {'test_loss': 0.006054800469428301, 'test_mae': 0.07781259715557098, 'test_rmse': 0.07781259715557098, 'test_acc': 1.0, 'test_acc±1': 1.0, 'auroc': 0.0, 'fold': 19, 'test_pid': 'normal-10'}\n"
     ]
    },
    {
     "data": {
      "application/vnd.jupyter.widget-view+json": {
       "model_id": "1988a5b38b4a454ab7cd5eb6ae85f077",
       "version_major": 2,
       "version_minor": 0
      },
      "text/plain": [
       "Sanity Checking: |                                                                                            …"
      ]
     },
     "metadata": {},
     "output_type": "display_data"
    },
    {
     "name": "stderr",
     "output_type": "stream",
     "text": [
      "/opt/conda/envs/audio/lib/python3.10/site-packages/pytorch_lightning/trainer/connectors/data_connector.py:441: The 'val_dataloader' does not have many workers which may be a bottleneck. Consider increasing the value of the `num_workers` argument` to `num_workers=127` in the `DataLoader` to improve performance.\n",
      "/opt/conda/envs/audio/lib/python3.10/site-packages/torch/nn/modules/linear.py:116: UserWarning: Deterministic behavior was enabled with either `torch.use_deterministic_algorithms(True)` or `at::Context::setDeterministicAlgorithms(true)`, but this operation is not deterministic because it uses CuBLAS and you have CUDA >= 10.2. To enable deterministic behavior in this case, you must set an environment variable before running your PyTorch application: CUBLAS_WORKSPACE_CONFIG=:4096:8 or CUBLAS_WORKSPACE_CONFIG=:16:8. For more information, go to https://docs.nvidia.com/cuda/cublas/index.html#results-reproducibility (Triggered internally at ../aten/src/ATen/Context.cpp:185.)\n",
      "  return F.linear(input, self.weight, self.bias)\n",
      "/opt/conda/envs/audio/lib/python3.10/site-packages/torchmetrics/utilities/prints.py:43: TorchMetricsUserWarning: You are trying to use a metric in deterministic mode on GPU that uses `torch.cumsum`, which is currently not supported. The tensor will be copied to the CPU memory to compute it and then copied back to GPU. Expect some slowdowns.\n",
      "  warnings.warn(*args, **kwargs)  # noqa: B028\n",
      "/opt/conda/envs/audio/lib/python3.10/site-packages/torchmetrics/utilities/prints.py:43: UserWarning: No positive samples in targets, true positive value should be meaningless. Returning zero tensor in true positive score\n",
      "  warnings.warn(*args, **kwargs)  # noqa: B028\n",
      "/opt/conda/envs/audio/lib/python3.10/site-packages/pytorch_lightning/trainer/connectors/data_connector.py:441: The 'train_dataloader' does not have many workers which may be a bottleneck. Consider increasing the value of the `num_workers` argument` to `num_workers=127` in the `DataLoader` to improve performance.\n",
      "/opt/conda/envs/audio/lib/python3.10/site-packages/pytorch_lightning/loops/fit_loop.py:298: The number of training batches (4) is smaller than the logging interval Trainer(log_every_n_steps=50). Set a lower value for log_every_n_steps if you want to see logs for the training epoch.\n"
     ]
    },
    {
     "data": {
      "application/vnd.jupyter.widget-view+json": {
       "model_id": "5f561099901b498bb39a946e8acd4e80",
       "version_major": 2,
       "version_minor": 0
      },
      "text/plain": [
       "Training: |                                                                                                   …"
      ]
     },
     "metadata": {},
     "output_type": "display_data"
    },
    {
     "name": "stderr",
     "output_type": "stream",
     "text": [
      "/opt/conda/envs/audio/lib/python3.10/site-packages/torch/autograd/graph.py:744: UserWarning: Deterministic behavior was enabled with either `torch.use_deterministic_algorithms(True)` or `at::Context::setDeterministicAlgorithms(true)`, but this operation is not deterministic because it uses CuBLAS and you have CUDA >= 10.2. To enable deterministic behavior in this case, you must set an environment variable before running your PyTorch application: CUBLAS_WORKSPACE_CONFIG=:4096:8 or CUBLAS_WORKSPACE_CONFIG=:16:8. For more information, go to https://docs.nvidia.com/cuda/cublas/index.html#results-reproducibility (Triggered internally at ../aten/src/ATen/Context.cpp:185.)\n",
      "  return Variable._execution_engine.run_backward(  # Calls into the C++ engine to run the backward pass\n"
     ]
    },
    {
     "data": {
      "application/vnd.jupyter.widget-view+json": {
       "model_id": "95df7379ef064601a9ba3660c73d2544",
       "version_major": 2,
       "version_minor": 0
      },
      "text/plain": [
       "Validation: |                                                                                                 …"
      ]
     },
     "metadata": {},
     "output_type": "display_data"
    },
    {
     "data": {
      "application/vnd.jupyter.widget-view+json": {
       "model_id": "f0f93ec18b31449997831ccb371c872d",
       "version_major": 2,
       "version_minor": 0
      },
      "text/plain": [
       "Validation: |                                                                                                 …"
      ]
     },
     "metadata": {},
     "output_type": "display_data"
    },
    {
     "data": {
      "application/vnd.jupyter.widget-view+json": {
       "model_id": "73338bc700684215a2372cc4378274ee",
       "version_major": 2,
       "version_minor": 0
      },
      "text/plain": [
       "Validation: |                                                                                                 …"
      ]
     },
     "metadata": {},
     "output_type": "display_data"
    },
    {
     "data": {
      "application/vnd.jupyter.widget-view+json": {
       "model_id": "566394792e7540378ebc86688f149bfb",
       "version_major": 2,
       "version_minor": 0
      },
      "text/plain": [
       "Validation: |                                                                                                 …"
      ]
     },
     "metadata": {},
     "output_type": "display_data"
    },
    {
     "data": {
      "application/vnd.jupyter.widget-view+json": {
       "model_id": "7ad28e44685f4f12bcfb2b9f617e1f19",
       "version_major": 2,
       "version_minor": 0
      },
      "text/plain": [
       "Validation: |                                                                                                 …"
      ]
     },
     "metadata": {},
     "output_type": "display_data"
    },
    {
     "data": {
      "application/vnd.jupyter.widget-view+json": {
       "model_id": "cbfe5583155d4c049e1775b32aa9e3a1",
       "version_major": 2,
       "version_minor": 0
      },
      "text/plain": [
       "Validation: |                                                                                                 …"
      ]
     },
     "metadata": {},
     "output_type": "display_data"
    },
    {
     "data": {
      "application/vnd.jupyter.widget-view+json": {
       "model_id": "360a9695c9c4461c95d7ec8f5bc72532",
       "version_major": 2,
       "version_minor": 0
      },
      "text/plain": [
       "Validation: |                                                                                                 …"
      ]
     },
     "metadata": {},
     "output_type": "display_data"
    },
    {
     "data": {
      "application/vnd.jupyter.widget-view+json": {
       "model_id": "9e6b7c69fc0a4f34970b2a09273ac34f",
       "version_major": 2,
       "version_minor": 0
      },
      "text/plain": [
       "Validation: |                                                                                                 …"
      ]
     },
     "metadata": {},
     "output_type": "display_data"
    },
    {
     "data": {
      "application/vnd.jupyter.widget-view+json": {
       "model_id": "aa88185d046e40fda354f35ce127d51d",
       "version_major": 2,
       "version_minor": 0
      },
      "text/plain": [
       "Validation: |                                                                                                 …"
      ]
     },
     "metadata": {},
     "output_type": "display_data"
    },
    {
     "data": {
      "application/vnd.jupyter.widget-view+json": {
       "model_id": "dd77b7ccbdc54d3ebdf9e6fc84d289c9",
       "version_major": 2,
       "version_minor": 0
      },
      "text/plain": [
       "Validation: |                                                                                                 …"
      ]
     },
     "metadata": {},
     "output_type": "display_data"
    },
    {
     "data": {
      "application/vnd.jupyter.widget-view+json": {
       "model_id": "593e881da138487f8cf240e28124df9f",
       "version_major": 2,
       "version_minor": 0
      },
      "text/plain": [
       "Validation: |                                                                                                 …"
      ]
     },
     "metadata": {},
     "output_type": "display_data"
    },
    {
     "data": {
      "application/vnd.jupyter.widget-view+json": {
       "model_id": "74f8c6d38472403093e2026acd926fb3",
       "version_major": 2,
       "version_minor": 0
      },
      "text/plain": [
       "Validation: |                                                                                                 …"
      ]
     },
     "metadata": {},
     "output_type": "display_data"
    },
    {
     "data": {
      "application/vnd.jupyter.widget-view+json": {
       "model_id": "aa5affdbe3c24d568a48be585858e7a9",
       "version_major": 2,
       "version_minor": 0
      },
      "text/plain": [
       "Validation: |                                                                                                 …"
      ]
     },
     "metadata": {},
     "output_type": "display_data"
    },
    {
     "data": {
      "application/vnd.jupyter.widget-view+json": {
       "model_id": "68a9c00e262c4863b0987d1fa034f596",
       "version_major": 2,
       "version_minor": 0
      },
      "text/plain": [
       "Validation: |                                                                                                 …"
      ]
     },
     "metadata": {},
     "output_type": "display_data"
    },
    {
     "data": {
      "application/vnd.jupyter.widget-view+json": {
       "model_id": "d95512659357480a8269c66c2d40c9ab",
       "version_major": 2,
       "version_minor": 0
      },
      "text/plain": [
       "Validation: |                                                                                                 …"
      ]
     },
     "metadata": {},
     "output_type": "display_data"
    },
    {
     "data": {
      "application/vnd.jupyter.widget-view+json": {
       "model_id": "23cf498fb93f4635a6120b40a1e0eb62",
       "version_major": 2,
       "version_minor": 0
      },
      "text/plain": [
       "Validation: |                                                                                                 …"
      ]
     },
     "metadata": {},
     "output_type": "display_data"
    },
    {
     "data": {
      "application/vnd.jupyter.widget-view+json": {
       "model_id": "65b809b9915b499891949cd91519b0ff",
       "version_major": 2,
       "version_minor": 0
      },
      "text/plain": [
       "Validation: |                                                                                                 …"
      ]
     },
     "metadata": {},
     "output_type": "display_data"
    },
    {
     "data": {
      "application/vnd.jupyter.widget-view+json": {
       "model_id": "77cd42e352e2456591fa8e689695f3e0",
       "version_major": 2,
       "version_minor": 0
      },
      "text/plain": [
       "Validation: |                                                                                                 …"
      ]
     },
     "metadata": {},
     "output_type": "display_data"
    },
    {
     "data": {
      "application/vnd.jupyter.widget-view+json": {
       "model_id": "8e1514d2775d482295434d2a3e311d88",
       "version_major": 2,
       "version_minor": 0
      },
      "text/plain": [
       "Validation: |                                                                                                 …"
      ]
     },
     "metadata": {},
     "output_type": "display_data"
    },
    {
     "data": {
      "application/vnd.jupyter.widget-view+json": {
       "model_id": "7743ad3a3c6b40b384c80cc4485181e8",
       "version_major": 2,
       "version_minor": 0
      },
      "text/plain": [
       "Validation: |                                                                                                 …"
      ]
     },
     "metadata": {},
     "output_type": "display_data"
    },
    {
     "data": {
      "application/vnd.jupyter.widget-view+json": {
       "model_id": "da427d7d57cb4303bcaebb0eb7398615",
       "version_major": 2,
       "version_minor": 0
      },
      "text/plain": [
       "Validation: |                                                                                                 …"
      ]
     },
     "metadata": {},
     "output_type": "display_data"
    },
    {
     "data": {
      "application/vnd.jupyter.widget-view+json": {
       "model_id": "e894308302b0454fa6d69d1da7e6d433",
       "version_major": 2,
       "version_minor": 0
      },
      "text/plain": [
       "Validation: |                                                                                                 …"
      ]
     },
     "metadata": {},
     "output_type": "display_data"
    },
    {
     "data": {
      "application/vnd.jupyter.widget-view+json": {
       "model_id": "8093ac0ea32f4c52934870d9a8124d84",
       "version_major": 2,
       "version_minor": 0
      },
      "text/plain": [
       "Validation: |                                                                                                 …"
      ]
     },
     "metadata": {},
     "output_type": "display_data"
    },
    {
     "data": {
      "application/vnd.jupyter.widget-view+json": {
       "model_id": "4d79f4c8e3f94a2cbeac400a2493ee07",
       "version_major": 2,
       "version_minor": 0
      },
      "text/plain": [
       "Validation: |                                                                                                 …"
      ]
     },
     "metadata": {},
     "output_type": "display_data"
    },
    {
     "data": {
      "application/vnd.jupyter.widget-view+json": {
       "model_id": "1712f63be5fc479291febb608a2ee5f1",
       "version_major": 2,
       "version_minor": 0
      },
      "text/plain": [
       "Validation: |                                                                                                 …"
      ]
     },
     "metadata": {},
     "output_type": "display_data"
    },
    {
     "data": {
      "application/vnd.jupyter.widget-view+json": {
       "model_id": "107eec30622547398d150258524f16d1",
       "version_major": 2,
       "version_minor": 0
      },
      "text/plain": [
       "Validation: |                                                                                                 …"
      ]
     },
     "metadata": {},
     "output_type": "display_data"
    },
    {
     "data": {
      "application/vnd.jupyter.widget-view+json": {
       "model_id": "f5113d79273e4d2cbe88cb2eab65a7d9",
       "version_major": 2,
       "version_minor": 0
      },
      "text/plain": [
       "Validation: |                                                                                                 …"
      ]
     },
     "metadata": {},
     "output_type": "display_data"
    },
    {
     "data": {
      "application/vnd.jupyter.widget-view+json": {
       "model_id": "dc81bafc4d494df1b568b41448699e0d",
       "version_major": 2,
       "version_minor": 0
      },
      "text/plain": [
       "Validation: |                                                                                                 …"
      ]
     },
     "metadata": {},
     "output_type": "display_data"
    },
    {
     "data": {
      "application/vnd.jupyter.widget-view+json": {
       "model_id": "faa149d9b2474ae883b37b1a9edb264f",
       "version_major": 2,
       "version_minor": 0
      },
      "text/plain": [
       "Validation: |                                                                                                 …"
      ]
     },
     "metadata": {},
     "output_type": "display_data"
    },
    {
     "data": {
      "application/vnd.jupyter.widget-view+json": {
       "model_id": "57f33e44976641309437b620272874b5",
       "version_major": 2,
       "version_minor": 0
      },
      "text/plain": [
       "Validation: |                                                                                                 …"
      ]
     },
     "metadata": {},
     "output_type": "display_data"
    },
    {
     "name": "stderr",
     "output_type": "stream",
     "text": [
      "`Trainer.fit` stopped: `max_epochs=30` reached.\n",
      "LOCAL_RANK: 0 - CUDA_VISIBLE_DEVICES: [0,1,2,3,4,5,6]\n",
      "/opt/conda/envs/audio/lib/python3.10/site-packages/pytorch_lightning/trainer/connectors/data_connector.py:441: The 'test_dataloader' does not have many workers which may be a bottleneck. Consider increasing the value of the `num_workers` argument` to `num_workers=127` in the `DataLoader` to improve performance.\n"
     ]
    },
    {
     "data": {
      "application/vnd.jupyter.widget-view+json": {
       "model_id": "9472778358d4411bbe9faec739113e85",
       "version_major": 2,
       "version_minor": 0
      },
      "text/plain": [
       "Testing: |                                                                                                    …"
      ]
     },
     "metadata": {},
     "output_type": "display_data"
    },
    {
     "name": "stderr",
     "output_type": "stream",
     "text": [
      "/opt/conda/envs/audio/lib/python3.10/site-packages/torchmetrics/utilities/prints.py:43: UserWarning: No negative samples in targets, false positive value should be meaningless. Returning zero tensor in false positive score\n",
      "  warnings.warn(*args, **kwargs)  # noqa: B028\n",
      "/opt/conda/envs/audio/lib/python3.10/site-packages/sklearn/model_selection/_split.py:737: UserWarning: The least populated class in y has only 1 members, which is less than n_splits=2.\n",
      "  warnings.warn(\n",
      "GPU available: True (cuda), used: True\n",
      "TPU available: False, using: 0 TPU cores\n",
      "IPU available: False, using: 0 IPUs\n",
      "HPU available: False, using: 0 HPUs\n",
      "LOCAL_RANK: 0 - CUDA_VISIBLE_DEVICES: [0,1,2,3,4,5,6]\n",
      "\n",
      "   | Name          | Type               | Params\n",
      "------------------------------------------------------\n",
      "0  | tab_enc       | TabularEncoder     | 4.9 K \n",
      "1  | rnn           | GRU                | 369 K \n",
      "2  | head          | Linear             | 129   \n",
      "3  | criterion     | MSELoss            | 0     \n",
      "4  | train_mae     | MeanAbsoluteError  | 0     \n",
      "5  | val_mae       | MeanAbsoluteError  | 0     \n",
      "6  | test_mae      | MeanAbsoluteError  | 0     \n",
      "7  | train_rmse    | MeanSquaredError   | 0     \n",
      "8  | val_rmse      | MeanSquaredError   | 0     \n",
      "9  | test_rmse     | MeanSquaredError   | 0     \n",
      "10 | train_acc     | MulticlassAccuracy | 0     \n",
      "11 | val_acc       | MulticlassAccuracy | 0     \n",
      "12 | test_acc      | MulticlassAccuracy | 0     \n",
      "13 | train_acc_tol | SumMetric          | 0     \n",
      "14 | val_acc_tol   | SumMetric          | 0     \n",
      "15 | test_acc_tol  | SumMetric          | 0     \n",
      "16 | train_cnt     | SumMetric          | 0     \n",
      "17 | val_cnt       | SumMetric          | 0     \n",
      "18 | test_cnt      | SumMetric          | 0     \n",
      "19 | train_auroc   | MulticlassAUROC    | 0     \n",
      "20 | val_auroc     | MulticlassAUROC    | 0     \n",
      "21 | test_auroc    | MulticlassAUROC    | 0     \n",
      "------------------------------------------------------\n",
      "374 K     Trainable params\n",
      "0         Non-trainable params\n",
      "374 K     Total params\n",
      "1.498     Total estimated model params size (MB)\n"
     ]
    },
    {
     "name": "stdout",
     "output_type": "stream",
     "text": [
      "Fold 20 (Test PID: normal-6): {'test_loss': 0.0018315493362024426, 'test_mae': 0.042796604335308075, 'test_rmse': 0.042796604335308075, 'test_acc': 1.0, 'test_acc±1': 1.0, 'auroc': 0.0, 'fold': 20, 'test_pid': 'normal-6'}\n"
     ]
    },
    {
     "data": {
      "application/vnd.jupyter.widget-view+json": {
       "model_id": "3813e458bbb24c4e897363646439a0e4",
       "version_major": 2,
       "version_minor": 0
      },
      "text/plain": [
       "Sanity Checking: |                                                                                            …"
      ]
     },
     "metadata": {},
     "output_type": "display_data"
    },
    {
     "name": "stderr",
     "output_type": "stream",
     "text": [
      "/opt/conda/envs/audio/lib/python3.10/site-packages/pytorch_lightning/trainer/connectors/data_connector.py:441: The 'val_dataloader' does not have many workers which may be a bottleneck. Consider increasing the value of the `num_workers` argument` to `num_workers=127` in the `DataLoader` to improve performance.\n",
      "/opt/conda/envs/audio/lib/python3.10/site-packages/torch/nn/modules/linear.py:116: UserWarning: Deterministic behavior was enabled with either `torch.use_deterministic_algorithms(True)` or `at::Context::setDeterministicAlgorithms(true)`, but this operation is not deterministic because it uses CuBLAS and you have CUDA >= 10.2. To enable deterministic behavior in this case, you must set an environment variable before running your PyTorch application: CUBLAS_WORKSPACE_CONFIG=:4096:8 or CUBLAS_WORKSPACE_CONFIG=:16:8. For more information, go to https://docs.nvidia.com/cuda/cublas/index.html#results-reproducibility (Triggered internally at ../aten/src/ATen/Context.cpp:185.)\n",
      "  return F.linear(input, self.weight, self.bias)\n",
      "/opt/conda/envs/audio/lib/python3.10/site-packages/torchmetrics/utilities/prints.py:43: TorchMetricsUserWarning: You are trying to use a metric in deterministic mode on GPU that uses `torch.cumsum`, which is currently not supported. The tensor will be copied to the CPU memory to compute it and then copied back to GPU. Expect some slowdowns.\n",
      "  warnings.warn(*args, **kwargs)  # noqa: B028\n",
      "/opt/conda/envs/audio/lib/python3.10/site-packages/torchmetrics/utilities/prints.py:43: UserWarning: No positive samples in targets, true positive value should be meaningless. Returning zero tensor in true positive score\n",
      "  warnings.warn(*args, **kwargs)  # noqa: B028\n",
      "/opt/conda/envs/audio/lib/python3.10/site-packages/pytorch_lightning/trainer/connectors/data_connector.py:441: The 'train_dataloader' does not have many workers which may be a bottleneck. Consider increasing the value of the `num_workers` argument` to `num_workers=127` in the `DataLoader` to improve performance.\n",
      "/opt/conda/envs/audio/lib/python3.10/site-packages/pytorch_lightning/loops/fit_loop.py:298: The number of training batches (4) is smaller than the logging interval Trainer(log_every_n_steps=50). Set a lower value for log_every_n_steps if you want to see logs for the training epoch.\n"
     ]
    },
    {
     "data": {
      "application/vnd.jupyter.widget-view+json": {
       "model_id": "e4fb09109e5f4ab4b7da4c6e9cd749f8",
       "version_major": 2,
       "version_minor": 0
      },
      "text/plain": [
       "Training: |                                                                                                   …"
      ]
     },
     "metadata": {},
     "output_type": "display_data"
    },
    {
     "name": "stderr",
     "output_type": "stream",
     "text": [
      "/opt/conda/envs/audio/lib/python3.10/site-packages/torch/autograd/graph.py:744: UserWarning: Deterministic behavior was enabled with either `torch.use_deterministic_algorithms(True)` or `at::Context::setDeterministicAlgorithms(true)`, but this operation is not deterministic because it uses CuBLAS and you have CUDA >= 10.2. To enable deterministic behavior in this case, you must set an environment variable before running your PyTorch application: CUBLAS_WORKSPACE_CONFIG=:4096:8 or CUBLAS_WORKSPACE_CONFIG=:16:8. For more information, go to https://docs.nvidia.com/cuda/cublas/index.html#results-reproducibility (Triggered internally at ../aten/src/ATen/Context.cpp:185.)\n",
      "  return Variable._execution_engine.run_backward(  # Calls into the C++ engine to run the backward pass\n"
     ]
    },
    {
     "data": {
      "application/vnd.jupyter.widget-view+json": {
       "model_id": "ff8a2a0c9fee440381e0c7bb94106a7e",
       "version_major": 2,
       "version_minor": 0
      },
      "text/plain": [
       "Validation: |                                                                                                 …"
      ]
     },
     "metadata": {},
     "output_type": "display_data"
    },
    {
     "data": {
      "application/vnd.jupyter.widget-view+json": {
       "model_id": "492c88ba38d7423c8593c92a3cacfdbb",
       "version_major": 2,
       "version_minor": 0
      },
      "text/plain": [
       "Validation: |                                                                                                 …"
      ]
     },
     "metadata": {},
     "output_type": "display_data"
    },
    {
     "data": {
      "application/vnd.jupyter.widget-view+json": {
       "model_id": "c34b267f471f48ae9729fd0cdb1d02e9",
       "version_major": 2,
       "version_minor": 0
      },
      "text/plain": [
       "Validation: |                                                                                                 …"
      ]
     },
     "metadata": {},
     "output_type": "display_data"
    },
    {
     "data": {
      "application/vnd.jupyter.widget-view+json": {
       "model_id": "c759d6b50c994740ae48845d02679189",
       "version_major": 2,
       "version_minor": 0
      },
      "text/plain": [
       "Validation: |                                                                                                 …"
      ]
     },
     "metadata": {},
     "output_type": "display_data"
    },
    {
     "data": {
      "application/vnd.jupyter.widget-view+json": {
       "model_id": "5d6998a23d0f45ff8a6b64e30c728455",
       "version_major": 2,
       "version_minor": 0
      },
      "text/plain": [
       "Validation: |                                                                                                 …"
      ]
     },
     "metadata": {},
     "output_type": "display_data"
    },
    {
     "data": {
      "application/vnd.jupyter.widget-view+json": {
       "model_id": "ac9818ed487d4d628f614f4a19ba5d25",
       "version_major": 2,
       "version_minor": 0
      },
      "text/plain": [
       "Validation: |                                                                                                 …"
      ]
     },
     "metadata": {},
     "output_type": "display_data"
    },
    {
     "data": {
      "application/vnd.jupyter.widget-view+json": {
       "model_id": "7556235184d445cfa648c825d06051c7",
       "version_major": 2,
       "version_minor": 0
      },
      "text/plain": [
       "Validation: |                                                                                                 …"
      ]
     },
     "metadata": {},
     "output_type": "display_data"
    },
    {
     "data": {
      "application/vnd.jupyter.widget-view+json": {
       "model_id": "ea7c5e1517444644bdaea1c4089e05a1",
       "version_major": 2,
       "version_minor": 0
      },
      "text/plain": [
       "Validation: |                                                                                                 …"
      ]
     },
     "metadata": {},
     "output_type": "display_data"
    },
    {
     "data": {
      "application/vnd.jupyter.widget-view+json": {
       "model_id": "f3ed879f8522413b87dfcb9f2774d6b5",
       "version_major": 2,
       "version_minor": 0
      },
      "text/plain": [
       "Validation: |                                                                                                 …"
      ]
     },
     "metadata": {},
     "output_type": "display_data"
    },
    {
     "data": {
      "application/vnd.jupyter.widget-view+json": {
       "model_id": "3e232c0700fe423886729f21876c2eaa",
       "version_major": 2,
       "version_minor": 0
      },
      "text/plain": [
       "Validation: |                                                                                                 …"
      ]
     },
     "metadata": {},
     "output_type": "display_data"
    },
    {
     "data": {
      "application/vnd.jupyter.widget-view+json": {
       "model_id": "c8be1c31c2b34c4a9e56f19c0f0a240d",
       "version_major": 2,
       "version_minor": 0
      },
      "text/plain": [
       "Validation: |                                                                                                 …"
      ]
     },
     "metadata": {},
     "output_type": "display_data"
    },
    {
     "data": {
      "application/vnd.jupyter.widget-view+json": {
       "model_id": "b8bd718bec9343ecb0b8c1ee7c35bd68",
       "version_major": 2,
       "version_minor": 0
      },
      "text/plain": [
       "Validation: |                                                                                                 …"
      ]
     },
     "metadata": {},
     "output_type": "display_data"
    },
    {
     "data": {
      "application/vnd.jupyter.widget-view+json": {
       "model_id": "670ad4d5e6b248dbbc7b591cedfcf385",
       "version_major": 2,
       "version_minor": 0
      },
      "text/plain": [
       "Validation: |                                                                                                 …"
      ]
     },
     "metadata": {},
     "output_type": "display_data"
    },
    {
     "data": {
      "application/vnd.jupyter.widget-view+json": {
       "model_id": "bdba331898ae4eeea6f6c219834bd0cd",
       "version_major": 2,
       "version_minor": 0
      },
      "text/plain": [
       "Validation: |                                                                                                 …"
      ]
     },
     "metadata": {},
     "output_type": "display_data"
    },
    {
     "data": {
      "application/vnd.jupyter.widget-view+json": {
       "model_id": "a20ace15d0ce4f5cb9d9906b61c41190",
       "version_major": 2,
       "version_minor": 0
      },
      "text/plain": [
       "Validation: |                                                                                                 …"
      ]
     },
     "metadata": {},
     "output_type": "display_data"
    },
    {
     "data": {
      "application/vnd.jupyter.widget-view+json": {
       "model_id": "34e811cd8ff443a5820b30bb84fe16f6",
       "version_major": 2,
       "version_minor": 0
      },
      "text/plain": [
       "Validation: |                                                                                                 …"
      ]
     },
     "metadata": {},
     "output_type": "display_data"
    },
    {
     "data": {
      "application/vnd.jupyter.widget-view+json": {
       "model_id": "284f210898f241109184dfabe1d2ba3b",
       "version_major": 2,
       "version_minor": 0
      },
      "text/plain": [
       "Validation: |                                                                                                 …"
      ]
     },
     "metadata": {},
     "output_type": "display_data"
    },
    {
     "data": {
      "application/vnd.jupyter.widget-view+json": {
       "model_id": "d3b13b77b576453b9a3af0169a5ea0c4",
       "version_major": 2,
       "version_minor": 0
      },
      "text/plain": [
       "Validation: |                                                                                                 …"
      ]
     },
     "metadata": {},
     "output_type": "display_data"
    },
    {
     "data": {
      "application/vnd.jupyter.widget-view+json": {
       "model_id": "8ad58358a784481bbc487bc9c7955e85",
       "version_major": 2,
       "version_minor": 0
      },
      "text/plain": [
       "Validation: |                                                                                                 …"
      ]
     },
     "metadata": {},
     "output_type": "display_data"
    },
    {
     "data": {
      "application/vnd.jupyter.widget-view+json": {
       "model_id": "049310c093954ecb80f1a6ec667579f3",
       "version_major": 2,
       "version_minor": 0
      },
      "text/plain": [
       "Validation: |                                                                                                 …"
      ]
     },
     "metadata": {},
     "output_type": "display_data"
    },
    {
     "data": {
      "application/vnd.jupyter.widget-view+json": {
       "model_id": "2d34e994c0634074b782f9495a1e8194",
       "version_major": 2,
       "version_minor": 0
      },
      "text/plain": [
       "Validation: |                                                                                                 …"
      ]
     },
     "metadata": {},
     "output_type": "display_data"
    },
    {
     "data": {
      "application/vnd.jupyter.widget-view+json": {
       "model_id": "adc7911573b64f14a7ecf8160b246de0",
       "version_major": 2,
       "version_minor": 0
      },
      "text/plain": [
       "Validation: |                                                                                                 …"
      ]
     },
     "metadata": {},
     "output_type": "display_data"
    },
    {
     "data": {
      "application/vnd.jupyter.widget-view+json": {
       "model_id": "bf4e1e29e5fb4f219db3fd8f7f828071",
       "version_major": 2,
       "version_minor": 0
      },
      "text/plain": [
       "Validation: |                                                                                                 …"
      ]
     },
     "metadata": {},
     "output_type": "display_data"
    },
    {
     "data": {
      "application/vnd.jupyter.widget-view+json": {
       "model_id": "70cb2f421119484f861225f6289276f4",
       "version_major": 2,
       "version_minor": 0
      },
      "text/plain": [
       "Validation: |                                                                                                 …"
      ]
     },
     "metadata": {},
     "output_type": "display_data"
    },
    {
     "data": {
      "application/vnd.jupyter.widget-view+json": {
       "model_id": "7d919a66d2f4436881c618ebc4801b92",
       "version_major": 2,
       "version_minor": 0
      },
      "text/plain": [
       "Validation: |                                                                                                 …"
      ]
     },
     "metadata": {},
     "output_type": "display_data"
    },
    {
     "data": {
      "application/vnd.jupyter.widget-view+json": {
       "model_id": "90215b801e974c9a96210ef2c6514885",
       "version_major": 2,
       "version_minor": 0
      },
      "text/plain": [
       "Validation: |                                                                                                 …"
      ]
     },
     "metadata": {},
     "output_type": "display_data"
    },
    {
     "data": {
      "application/vnd.jupyter.widget-view+json": {
       "model_id": "8245382a28284f77a0c0add40b370642",
       "version_major": 2,
       "version_minor": 0
      },
      "text/plain": [
       "Validation: |                                                                                                 …"
      ]
     },
     "metadata": {},
     "output_type": "display_data"
    },
    {
     "data": {
      "application/vnd.jupyter.widget-view+json": {
       "model_id": "fa929626c6564361b76d9c6da1dddd61",
       "version_major": 2,
       "version_minor": 0
      },
      "text/plain": [
       "Validation: |                                                                                                 …"
      ]
     },
     "metadata": {},
     "output_type": "display_data"
    },
    {
     "data": {
      "application/vnd.jupyter.widget-view+json": {
       "model_id": "c0408f644f284c8fb0164b2ac1e74fe5",
       "version_major": 2,
       "version_minor": 0
      },
      "text/plain": [
       "Validation: |                                                                                                 …"
      ]
     },
     "metadata": {},
     "output_type": "display_data"
    },
    {
     "data": {
      "application/vnd.jupyter.widget-view+json": {
       "model_id": "a55488a44a91413e9ce469c1b86a9988",
       "version_major": 2,
       "version_minor": 0
      },
      "text/plain": [
       "Validation: |                                                                                                 …"
      ]
     },
     "metadata": {},
     "output_type": "display_data"
    },
    {
     "name": "stderr",
     "output_type": "stream",
     "text": [
      "`Trainer.fit` stopped: `max_epochs=30` reached.\n",
      "LOCAL_RANK: 0 - CUDA_VISIBLE_DEVICES: [0,1,2,3,4,5,6]\n",
      "/opt/conda/envs/audio/lib/python3.10/site-packages/pytorch_lightning/trainer/connectors/data_connector.py:441: The 'test_dataloader' does not have many workers which may be a bottleneck. Consider increasing the value of the `num_workers` argument` to `num_workers=127` in the `DataLoader` to improve performance.\n"
     ]
    },
    {
     "data": {
      "application/vnd.jupyter.widget-view+json": {
       "model_id": "496b70f786b64a3ca2318fb67e9dbf25",
       "version_major": 2,
       "version_minor": 0
      },
      "text/plain": [
       "Testing: |                                                                                                    …"
      ]
     },
     "metadata": {},
     "output_type": "display_data"
    },
    {
     "name": "stderr",
     "output_type": "stream",
     "text": [
      "/opt/conda/envs/audio/lib/python3.10/site-packages/torchmetrics/utilities/prints.py:43: UserWarning: No negative samples in targets, false positive value should be meaningless. Returning zero tensor in false positive score\n",
      "  warnings.warn(*args, **kwargs)  # noqa: B028\n",
      "/opt/conda/envs/audio/lib/python3.10/site-packages/sklearn/model_selection/_split.py:737: UserWarning: The least populated class in y has only 1 members, which is less than n_splits=2.\n",
      "  warnings.warn(\n",
      "GPU available: True (cuda), used: True\n",
      "TPU available: False, using: 0 TPU cores\n",
      "IPU available: False, using: 0 IPUs\n",
      "HPU available: False, using: 0 HPUs\n",
      "LOCAL_RANK: 0 - CUDA_VISIBLE_DEVICES: [0,1,2,3,4,5,6]\n",
      "\n",
      "   | Name          | Type               | Params\n",
      "------------------------------------------------------\n",
      "0  | tab_enc       | TabularEncoder     | 4.9 K \n",
      "1  | rnn           | GRU                | 369 K \n",
      "2  | head          | Linear             | 129   \n",
      "3  | criterion     | MSELoss            | 0     \n",
      "4  | train_mae     | MeanAbsoluteError  | 0     \n",
      "5  | val_mae       | MeanAbsoluteError  | 0     \n",
      "6  | test_mae      | MeanAbsoluteError  | 0     \n",
      "7  | train_rmse    | MeanSquaredError   | 0     \n",
      "8  | val_rmse      | MeanSquaredError   | 0     \n",
      "9  | test_rmse     | MeanSquaredError   | 0     \n",
      "10 | train_acc     | MulticlassAccuracy | 0     \n",
      "11 | val_acc       | MulticlassAccuracy | 0     \n",
      "12 | test_acc      | MulticlassAccuracy | 0     \n",
      "13 | train_acc_tol | SumMetric          | 0     \n",
      "14 | val_acc_tol   | SumMetric          | 0     \n",
      "15 | test_acc_tol  | SumMetric          | 0     \n",
      "16 | train_cnt     | SumMetric          | 0     \n",
      "17 | val_cnt       | SumMetric          | 0     \n",
      "18 | test_cnt      | SumMetric          | 0     \n",
      "19 | train_auroc   | MulticlassAUROC    | 0     \n",
      "20 | val_auroc     | MulticlassAUROC    | 0     \n",
      "21 | test_auroc    | MulticlassAUROC    | 0     \n",
      "------------------------------------------------------\n",
      "374 K     Trainable params\n",
      "0         Non-trainable params\n",
      "374 K     Total params\n",
      "1.498     Total estimated model params size (MB)\n"
     ]
    },
    {
     "name": "stdout",
     "output_type": "stream",
     "text": [
      "Fold 21 (Test PID: normal-3): {'test_loss': 1.2975517165614292e-05, 'test_mae': 0.003602154552936554, 'test_rmse': 0.003602154552936554, 'test_acc': 1.0, 'test_acc±1': 1.0, 'auroc': 0.0, 'fold': 21, 'test_pid': 'normal-3'}\n"
     ]
    },
    {
     "data": {
      "application/vnd.jupyter.widget-view+json": {
       "model_id": "de555acbac764399bf301e4bf19abeb9",
       "version_major": 2,
       "version_minor": 0
      },
      "text/plain": [
       "Sanity Checking: |                                                                                            …"
      ]
     },
     "metadata": {},
     "output_type": "display_data"
    },
    {
     "name": "stderr",
     "output_type": "stream",
     "text": [
      "/opt/conda/envs/audio/lib/python3.10/site-packages/pytorch_lightning/trainer/connectors/data_connector.py:441: The 'val_dataloader' does not have many workers which may be a bottleneck. Consider increasing the value of the `num_workers` argument` to `num_workers=127` in the `DataLoader` to improve performance.\n",
      "/opt/conda/envs/audio/lib/python3.10/site-packages/torch/nn/modules/linear.py:116: UserWarning: Deterministic behavior was enabled with either `torch.use_deterministic_algorithms(True)` or `at::Context::setDeterministicAlgorithms(true)`, but this operation is not deterministic because it uses CuBLAS and you have CUDA >= 10.2. To enable deterministic behavior in this case, you must set an environment variable before running your PyTorch application: CUBLAS_WORKSPACE_CONFIG=:4096:8 or CUBLAS_WORKSPACE_CONFIG=:16:8. For more information, go to https://docs.nvidia.com/cuda/cublas/index.html#results-reproducibility (Triggered internally at ../aten/src/ATen/Context.cpp:185.)\n",
      "  return F.linear(input, self.weight, self.bias)\n",
      "/opt/conda/envs/audio/lib/python3.10/site-packages/torchmetrics/utilities/prints.py:43: TorchMetricsUserWarning: You are trying to use a metric in deterministic mode on GPU that uses `torch.cumsum`, which is currently not supported. The tensor will be copied to the CPU memory to compute it and then copied back to GPU. Expect some slowdowns.\n",
      "  warnings.warn(*args, **kwargs)  # noqa: B028\n",
      "/opt/conda/envs/audio/lib/python3.10/site-packages/torchmetrics/utilities/prints.py:43: UserWarning: No positive samples in targets, true positive value should be meaningless. Returning zero tensor in true positive score\n",
      "  warnings.warn(*args, **kwargs)  # noqa: B028\n",
      "/opt/conda/envs/audio/lib/python3.10/site-packages/pytorch_lightning/trainer/connectors/data_connector.py:441: The 'train_dataloader' does not have many workers which may be a bottleneck. Consider increasing the value of the `num_workers` argument` to `num_workers=127` in the `DataLoader` to improve performance.\n",
      "/opt/conda/envs/audio/lib/python3.10/site-packages/pytorch_lightning/loops/fit_loop.py:298: The number of training batches (4) is smaller than the logging interval Trainer(log_every_n_steps=50). Set a lower value for log_every_n_steps if you want to see logs for the training epoch.\n"
     ]
    },
    {
     "data": {
      "application/vnd.jupyter.widget-view+json": {
       "model_id": "c7eb197e3f8b45bf8fdd974b3baad3c8",
       "version_major": 2,
       "version_minor": 0
      },
      "text/plain": [
       "Training: |                                                                                                   …"
      ]
     },
     "metadata": {},
     "output_type": "display_data"
    },
    {
     "name": "stderr",
     "output_type": "stream",
     "text": [
      "/opt/conda/envs/audio/lib/python3.10/site-packages/torch/autograd/graph.py:744: UserWarning: Deterministic behavior was enabled with either `torch.use_deterministic_algorithms(True)` or `at::Context::setDeterministicAlgorithms(true)`, but this operation is not deterministic because it uses CuBLAS and you have CUDA >= 10.2. To enable deterministic behavior in this case, you must set an environment variable before running your PyTorch application: CUBLAS_WORKSPACE_CONFIG=:4096:8 or CUBLAS_WORKSPACE_CONFIG=:16:8. For more information, go to https://docs.nvidia.com/cuda/cublas/index.html#results-reproducibility (Triggered internally at ../aten/src/ATen/Context.cpp:185.)\n",
      "  return Variable._execution_engine.run_backward(  # Calls into the C++ engine to run the backward pass\n"
     ]
    },
    {
     "data": {
      "application/vnd.jupyter.widget-view+json": {
       "model_id": "a8a43ef9a0c343719bce3e06016a805b",
       "version_major": 2,
       "version_minor": 0
      },
      "text/plain": [
       "Validation: |                                                                                                 …"
      ]
     },
     "metadata": {},
     "output_type": "display_data"
    },
    {
     "data": {
      "application/vnd.jupyter.widget-view+json": {
       "model_id": "f287c11ccba548a8890d25670b22e227",
       "version_major": 2,
       "version_minor": 0
      },
      "text/plain": [
       "Validation: |                                                                                                 …"
      ]
     },
     "metadata": {},
     "output_type": "display_data"
    },
    {
     "data": {
      "application/vnd.jupyter.widget-view+json": {
       "model_id": "91b1b30289d44c88ac815577f267b97c",
       "version_major": 2,
       "version_minor": 0
      },
      "text/plain": [
       "Validation: |                                                                                                 …"
      ]
     },
     "metadata": {},
     "output_type": "display_data"
    },
    {
     "data": {
      "application/vnd.jupyter.widget-view+json": {
       "model_id": "511da217dc0f453ca3879009edf8cb29",
       "version_major": 2,
       "version_minor": 0
      },
      "text/plain": [
       "Validation: |                                                                                                 …"
      ]
     },
     "metadata": {},
     "output_type": "display_data"
    },
    {
     "data": {
      "application/vnd.jupyter.widget-view+json": {
       "model_id": "315238ed955543e5a97eecc0a871c3b2",
       "version_major": 2,
       "version_minor": 0
      },
      "text/plain": [
       "Validation: |                                                                                                 …"
      ]
     },
     "metadata": {},
     "output_type": "display_data"
    },
    {
     "data": {
      "application/vnd.jupyter.widget-view+json": {
       "model_id": "1298bd3e6bb540feab4e1848a56d93c0",
       "version_major": 2,
       "version_minor": 0
      },
      "text/plain": [
       "Validation: |                                                                                                 …"
      ]
     },
     "metadata": {},
     "output_type": "display_data"
    },
    {
     "data": {
      "application/vnd.jupyter.widget-view+json": {
       "model_id": "08ebad33ee9e420384419933c5d5a5a6",
       "version_major": 2,
       "version_minor": 0
      },
      "text/plain": [
       "Validation: |                                                                                                 …"
      ]
     },
     "metadata": {},
     "output_type": "display_data"
    },
    {
     "data": {
      "application/vnd.jupyter.widget-view+json": {
       "model_id": "87bb182b30ee47068507b5840ed6f5d4",
       "version_major": 2,
       "version_minor": 0
      },
      "text/plain": [
       "Validation: |                                                                                                 …"
      ]
     },
     "metadata": {},
     "output_type": "display_data"
    },
    {
     "data": {
      "application/vnd.jupyter.widget-view+json": {
       "model_id": "3067347e025e4f7c80c12858e2de4479",
       "version_major": 2,
       "version_minor": 0
      },
      "text/plain": [
       "Validation: |                                                                                                 …"
      ]
     },
     "metadata": {},
     "output_type": "display_data"
    },
    {
     "data": {
      "application/vnd.jupyter.widget-view+json": {
       "model_id": "05116677f215439390899d4ca232b54a",
       "version_major": 2,
       "version_minor": 0
      },
      "text/plain": [
       "Validation: |                                                                                                 …"
      ]
     },
     "metadata": {},
     "output_type": "display_data"
    },
    {
     "data": {
      "application/vnd.jupyter.widget-view+json": {
       "model_id": "015b805f2dc148b987318518d9c27396",
       "version_major": 2,
       "version_minor": 0
      },
      "text/plain": [
       "Validation: |                                                                                                 …"
      ]
     },
     "metadata": {},
     "output_type": "display_data"
    },
    {
     "data": {
      "application/vnd.jupyter.widget-view+json": {
       "model_id": "43104e77d7dc40688e34442469f7b679",
       "version_major": 2,
       "version_minor": 0
      },
      "text/plain": [
       "Validation: |                                                                                                 …"
      ]
     },
     "metadata": {},
     "output_type": "display_data"
    },
    {
     "data": {
      "application/vnd.jupyter.widget-view+json": {
       "model_id": "9ea8575cc24e499e90c4ef8cd5a561a7",
       "version_major": 2,
       "version_minor": 0
      },
      "text/plain": [
       "Validation: |                                                                                                 …"
      ]
     },
     "metadata": {},
     "output_type": "display_data"
    },
    {
     "data": {
      "application/vnd.jupyter.widget-view+json": {
       "model_id": "7ed55ecac08c4f8aa8a477eb22833773",
       "version_major": 2,
       "version_minor": 0
      },
      "text/plain": [
       "Validation: |                                                                                                 …"
      ]
     },
     "metadata": {},
     "output_type": "display_data"
    },
    {
     "data": {
      "application/vnd.jupyter.widget-view+json": {
       "model_id": "7afa5d94cbb14e1f8709cddbc84fe9b5",
       "version_major": 2,
       "version_minor": 0
      },
      "text/plain": [
       "Validation: |                                                                                                 …"
      ]
     },
     "metadata": {},
     "output_type": "display_data"
    },
    {
     "data": {
      "application/vnd.jupyter.widget-view+json": {
       "model_id": "0a27815813b34013a6907fa4b7db3a7b",
       "version_major": 2,
       "version_minor": 0
      },
      "text/plain": [
       "Validation: |                                                                                                 …"
      ]
     },
     "metadata": {},
     "output_type": "display_data"
    },
    {
     "data": {
      "application/vnd.jupyter.widget-view+json": {
       "model_id": "83aff407129e4770b7c8d2ec8556c07f",
       "version_major": 2,
       "version_minor": 0
      },
      "text/plain": [
       "Validation: |                                                                                                 …"
      ]
     },
     "metadata": {},
     "output_type": "display_data"
    },
    {
     "data": {
      "application/vnd.jupyter.widget-view+json": {
       "model_id": "a0275f2e8dd84cae90e354e6ddb73de8",
       "version_major": 2,
       "version_minor": 0
      },
      "text/plain": [
       "Validation: |                                                                                                 …"
      ]
     },
     "metadata": {},
     "output_type": "display_data"
    },
    {
     "data": {
      "application/vnd.jupyter.widget-view+json": {
       "model_id": "7c4ff8abba9d4f3c871700704b5f936a",
       "version_major": 2,
       "version_minor": 0
      },
      "text/plain": [
       "Validation: |                                                                                                 …"
      ]
     },
     "metadata": {},
     "output_type": "display_data"
    },
    {
     "data": {
      "application/vnd.jupyter.widget-view+json": {
       "model_id": "44606e4647fa4ec79830f34c60366ba0",
       "version_major": 2,
       "version_minor": 0
      },
      "text/plain": [
       "Validation: |                                                                                                 …"
      ]
     },
     "metadata": {},
     "output_type": "display_data"
    },
    {
     "data": {
      "application/vnd.jupyter.widget-view+json": {
       "model_id": "cbd94ac6871a4988a6f82948c7e39109",
       "version_major": 2,
       "version_minor": 0
      },
      "text/plain": [
       "Validation: |                                                                                                 …"
      ]
     },
     "metadata": {},
     "output_type": "display_data"
    },
    {
     "data": {
      "application/vnd.jupyter.widget-view+json": {
       "model_id": "bf11dda5937e411297b8bd238f08b1b2",
       "version_major": 2,
       "version_minor": 0
      },
      "text/plain": [
       "Validation: |                                                                                                 …"
      ]
     },
     "metadata": {},
     "output_type": "display_data"
    },
    {
     "data": {
      "application/vnd.jupyter.widget-view+json": {
       "model_id": "3de1ad6e09d64f05acc3a9c6150f5366",
       "version_major": 2,
       "version_minor": 0
      },
      "text/plain": [
       "Validation: |                                                                                                 …"
      ]
     },
     "metadata": {},
     "output_type": "display_data"
    },
    {
     "data": {
      "application/vnd.jupyter.widget-view+json": {
       "model_id": "a87947611cd2447a9de0f2068cbb7959",
       "version_major": 2,
       "version_minor": 0
      },
      "text/plain": [
       "Validation: |                                                                                                 …"
      ]
     },
     "metadata": {},
     "output_type": "display_data"
    },
    {
     "data": {
      "application/vnd.jupyter.widget-view+json": {
       "model_id": "2a1b40a1042a42eaac2c8e061c2c55cc",
       "version_major": 2,
       "version_minor": 0
      },
      "text/plain": [
       "Validation: |                                                                                                 …"
      ]
     },
     "metadata": {},
     "output_type": "display_data"
    },
    {
     "data": {
      "application/vnd.jupyter.widget-view+json": {
       "model_id": "f98e0f2299784c2eaf209efde7aa8699",
       "version_major": 2,
       "version_minor": 0
      },
      "text/plain": [
       "Validation: |                                                                                                 …"
      ]
     },
     "metadata": {},
     "output_type": "display_data"
    },
    {
     "data": {
      "application/vnd.jupyter.widget-view+json": {
       "model_id": "76da9cdda9c445ad8010c5eb56cb90ec",
       "version_major": 2,
       "version_minor": 0
      },
      "text/plain": [
       "Validation: |                                                                                                 …"
      ]
     },
     "metadata": {},
     "output_type": "display_data"
    },
    {
     "data": {
      "application/vnd.jupyter.widget-view+json": {
       "model_id": "d847e27cdf194f428c5014ec1729388e",
       "version_major": 2,
       "version_minor": 0
      },
      "text/plain": [
       "Validation: |                                                                                                 …"
      ]
     },
     "metadata": {},
     "output_type": "display_data"
    },
    {
     "data": {
      "application/vnd.jupyter.widget-view+json": {
       "model_id": "3cc510d2e7fd4fc5841b174bb3c987b2",
       "version_major": 2,
       "version_minor": 0
      },
      "text/plain": [
       "Validation: |                                                                                                 …"
      ]
     },
     "metadata": {},
     "output_type": "display_data"
    },
    {
     "data": {
      "application/vnd.jupyter.widget-view+json": {
       "model_id": "60b4033afe954e74b13f7a826cc7eed3",
       "version_major": 2,
       "version_minor": 0
      },
      "text/plain": [
       "Validation: |                                                                                                 …"
      ]
     },
     "metadata": {},
     "output_type": "display_data"
    },
    {
     "name": "stderr",
     "output_type": "stream",
     "text": [
      "`Trainer.fit` stopped: `max_epochs=30` reached.\n",
      "LOCAL_RANK: 0 - CUDA_VISIBLE_DEVICES: [0,1,2,3,4,5,6]\n",
      "/opt/conda/envs/audio/lib/python3.10/site-packages/pytorch_lightning/trainer/connectors/data_connector.py:441: The 'test_dataloader' does not have many workers which may be a bottleneck. Consider increasing the value of the `num_workers` argument` to `num_workers=127` in the `DataLoader` to improve performance.\n"
     ]
    },
    {
     "data": {
      "application/vnd.jupyter.widget-view+json": {
       "model_id": "99ba1c7346cb4681b06de3e780a8e5be",
       "version_major": 2,
       "version_minor": 0
      },
      "text/plain": [
       "Testing: |                                                                                                    …"
      ]
     },
     "metadata": {},
     "output_type": "display_data"
    },
    {
     "name": "stderr",
     "output_type": "stream",
     "text": [
      "/opt/conda/envs/audio/lib/python3.10/site-packages/torchmetrics/utilities/prints.py:43: UserWarning: No negative samples in targets, false positive value should be meaningless. Returning zero tensor in false positive score\n",
      "  warnings.warn(*args, **kwargs)  # noqa: B028\n",
      "/opt/conda/envs/audio/lib/python3.10/site-packages/sklearn/model_selection/_split.py:737: UserWarning: The least populated class in y has only 1 members, which is less than n_splits=2.\n",
      "  warnings.warn(\n",
      "GPU available: True (cuda), used: True\n",
      "TPU available: False, using: 0 TPU cores\n",
      "IPU available: False, using: 0 IPUs\n",
      "HPU available: False, using: 0 HPUs\n",
      "LOCAL_RANK: 0 - CUDA_VISIBLE_DEVICES: [0,1,2,3,4,5,6]\n",
      "\n",
      "   | Name          | Type               | Params\n",
      "------------------------------------------------------\n",
      "0  | tab_enc       | TabularEncoder     | 4.9 K \n",
      "1  | rnn           | GRU                | 369 K \n",
      "2  | head          | Linear             | 129   \n",
      "3  | criterion     | MSELoss            | 0     \n",
      "4  | train_mae     | MeanAbsoluteError  | 0     \n",
      "5  | val_mae       | MeanAbsoluteError  | 0     \n",
      "6  | test_mae      | MeanAbsoluteError  | 0     \n",
      "7  | train_rmse    | MeanSquaredError   | 0     \n",
      "8  | val_rmse      | MeanSquaredError   | 0     \n",
      "9  | test_rmse     | MeanSquaredError   | 0     \n",
      "10 | train_acc     | MulticlassAccuracy | 0     \n",
      "11 | val_acc       | MulticlassAccuracy | 0     \n",
      "12 | test_acc      | MulticlassAccuracy | 0     \n",
      "13 | train_acc_tol | SumMetric          | 0     \n",
      "14 | val_acc_tol   | SumMetric          | 0     \n",
      "15 | test_acc_tol  | SumMetric          | 0     \n",
      "16 | train_cnt     | SumMetric          | 0     \n",
      "17 | val_cnt       | SumMetric          | 0     \n",
      "18 | test_cnt      | SumMetric          | 0     \n",
      "19 | train_auroc   | MulticlassAUROC    | 0     \n",
      "20 | val_auroc     | MulticlassAUROC    | 0     \n",
      "21 | test_auroc    | MulticlassAUROC    | 0     \n",
      "------------------------------------------------------\n",
      "374 K     Trainable params\n",
      "0         Non-trainable params\n",
      "374 K     Total params\n",
      "1.498     Total estimated model params size (MB)\n"
     ]
    },
    {
     "name": "stdout",
     "output_type": "stream",
     "text": [
      "Fold 22 (Test PID: normal-14): {'test_loss': 0.01823640614748001, 'test_mae': 0.1350422352552414, 'test_rmse': 0.1350422352552414, 'test_acc': 1.0, 'test_acc±1': 1.0, 'auroc': 0.0, 'fold': 22, 'test_pid': 'normal-14'}\n"
     ]
    },
    {
     "data": {
      "application/vnd.jupyter.widget-view+json": {
       "model_id": "32bfadfb661e4173a355deb200bd70a9",
       "version_major": 2,
       "version_minor": 0
      },
      "text/plain": [
       "Sanity Checking: |                                                                                            …"
      ]
     },
     "metadata": {},
     "output_type": "display_data"
    },
    {
     "name": "stderr",
     "output_type": "stream",
     "text": [
      "/opt/conda/envs/audio/lib/python3.10/site-packages/pytorch_lightning/trainer/connectors/data_connector.py:441: The 'val_dataloader' does not have many workers which may be a bottleneck. Consider increasing the value of the `num_workers` argument` to `num_workers=127` in the `DataLoader` to improve performance.\n",
      "/opt/conda/envs/audio/lib/python3.10/site-packages/torch/nn/modules/linear.py:116: UserWarning: Deterministic behavior was enabled with either `torch.use_deterministic_algorithms(True)` or `at::Context::setDeterministicAlgorithms(true)`, but this operation is not deterministic because it uses CuBLAS and you have CUDA >= 10.2. To enable deterministic behavior in this case, you must set an environment variable before running your PyTorch application: CUBLAS_WORKSPACE_CONFIG=:4096:8 or CUBLAS_WORKSPACE_CONFIG=:16:8. For more information, go to https://docs.nvidia.com/cuda/cublas/index.html#results-reproducibility (Triggered internally at ../aten/src/ATen/Context.cpp:185.)\n",
      "  return F.linear(input, self.weight, self.bias)\n",
      "/opt/conda/envs/audio/lib/python3.10/site-packages/torchmetrics/utilities/prints.py:43: TorchMetricsUserWarning: You are trying to use a metric in deterministic mode on GPU that uses `torch.cumsum`, which is currently not supported. The tensor will be copied to the CPU memory to compute it and then copied back to GPU. Expect some slowdowns.\n",
      "  warnings.warn(*args, **kwargs)  # noqa: B028\n",
      "/opt/conda/envs/audio/lib/python3.10/site-packages/torchmetrics/utilities/prints.py:43: UserWarning: No positive samples in targets, true positive value should be meaningless. Returning zero tensor in true positive score\n",
      "  warnings.warn(*args, **kwargs)  # noqa: B028\n",
      "/opt/conda/envs/audio/lib/python3.10/site-packages/pytorch_lightning/trainer/connectors/data_connector.py:441: The 'train_dataloader' does not have many workers which may be a bottleneck. Consider increasing the value of the `num_workers` argument` to `num_workers=127` in the `DataLoader` to improve performance.\n",
      "/opt/conda/envs/audio/lib/python3.10/site-packages/pytorch_lightning/loops/fit_loop.py:298: The number of training batches (4) is smaller than the logging interval Trainer(log_every_n_steps=50). Set a lower value for log_every_n_steps if you want to see logs for the training epoch.\n"
     ]
    },
    {
     "data": {
      "application/vnd.jupyter.widget-view+json": {
       "model_id": "112abd51d5c549c9b45cc7643718f784",
       "version_major": 2,
       "version_minor": 0
      },
      "text/plain": [
       "Training: |                                                                                                   …"
      ]
     },
     "metadata": {},
     "output_type": "display_data"
    },
    {
     "name": "stderr",
     "output_type": "stream",
     "text": [
      "/opt/conda/envs/audio/lib/python3.10/site-packages/torch/autograd/graph.py:744: UserWarning: Deterministic behavior was enabled with either `torch.use_deterministic_algorithms(True)` or `at::Context::setDeterministicAlgorithms(true)`, but this operation is not deterministic because it uses CuBLAS and you have CUDA >= 10.2. To enable deterministic behavior in this case, you must set an environment variable before running your PyTorch application: CUBLAS_WORKSPACE_CONFIG=:4096:8 or CUBLAS_WORKSPACE_CONFIG=:16:8. For more information, go to https://docs.nvidia.com/cuda/cublas/index.html#results-reproducibility (Triggered internally at ../aten/src/ATen/Context.cpp:185.)\n",
      "  return Variable._execution_engine.run_backward(  # Calls into the C++ engine to run the backward pass\n"
     ]
    },
    {
     "data": {
      "application/vnd.jupyter.widget-view+json": {
       "model_id": "ef57367e257d4ec288e1b5d56aee496f",
       "version_major": 2,
       "version_minor": 0
      },
      "text/plain": [
       "Validation: |                                                                                                 …"
      ]
     },
     "metadata": {},
     "output_type": "display_data"
    },
    {
     "data": {
      "application/vnd.jupyter.widget-view+json": {
       "model_id": "5b0f6d910eff4d508c1d4dd80ea72d51",
       "version_major": 2,
       "version_minor": 0
      },
      "text/plain": [
       "Validation: |                                                                                                 …"
      ]
     },
     "metadata": {},
     "output_type": "display_data"
    },
    {
     "data": {
      "application/vnd.jupyter.widget-view+json": {
       "model_id": "580b29bde8c44fee9012fe6fbc044a46",
       "version_major": 2,
       "version_minor": 0
      },
      "text/plain": [
       "Validation: |                                                                                                 …"
      ]
     },
     "metadata": {},
     "output_type": "display_data"
    },
    {
     "data": {
      "application/vnd.jupyter.widget-view+json": {
       "model_id": "5e8fd056607d4656809b5b5df6b1cb7c",
       "version_major": 2,
       "version_minor": 0
      },
      "text/plain": [
       "Validation: |                                                                                                 …"
      ]
     },
     "metadata": {},
     "output_type": "display_data"
    },
    {
     "data": {
      "application/vnd.jupyter.widget-view+json": {
       "model_id": "3ddc666dde34416783491c4d6d88bd56",
       "version_major": 2,
       "version_minor": 0
      },
      "text/plain": [
       "Validation: |                                                                                                 …"
      ]
     },
     "metadata": {},
     "output_type": "display_data"
    },
    {
     "data": {
      "application/vnd.jupyter.widget-view+json": {
       "model_id": "497eb33908ed4f5f8c9b605e6d80a31c",
       "version_major": 2,
       "version_minor": 0
      },
      "text/plain": [
       "Validation: |                                                                                                 …"
      ]
     },
     "metadata": {},
     "output_type": "display_data"
    },
    {
     "data": {
      "application/vnd.jupyter.widget-view+json": {
       "model_id": "f75d56202ffd4fbfbd0e4695e394fe8e",
       "version_major": 2,
       "version_minor": 0
      },
      "text/plain": [
       "Validation: |                                                                                                 …"
      ]
     },
     "metadata": {},
     "output_type": "display_data"
    },
    {
     "data": {
      "application/vnd.jupyter.widget-view+json": {
       "model_id": "374c79add2fe4890aa6622dae4ab0c56",
       "version_major": 2,
       "version_minor": 0
      },
      "text/plain": [
       "Validation: |                                                                                                 …"
      ]
     },
     "metadata": {},
     "output_type": "display_data"
    },
    {
     "data": {
      "application/vnd.jupyter.widget-view+json": {
       "model_id": "e713478c3498415693a772066e2de9c7",
       "version_major": 2,
       "version_minor": 0
      },
      "text/plain": [
       "Validation: |                                                                                                 …"
      ]
     },
     "metadata": {},
     "output_type": "display_data"
    },
    {
     "data": {
      "application/vnd.jupyter.widget-view+json": {
       "model_id": "5e580ad15d7944ab83aeae8e52e83584",
       "version_major": 2,
       "version_minor": 0
      },
      "text/plain": [
       "Validation: |                                                                                                 …"
      ]
     },
     "metadata": {},
     "output_type": "display_data"
    },
    {
     "data": {
      "application/vnd.jupyter.widget-view+json": {
       "model_id": "eae675033e9e4eb8946345d9b9bba435",
       "version_major": 2,
       "version_minor": 0
      },
      "text/plain": [
       "Validation: |                                                                                                 …"
      ]
     },
     "metadata": {},
     "output_type": "display_data"
    },
    {
     "data": {
      "application/vnd.jupyter.widget-view+json": {
       "model_id": "2edcf848fd5f44fa8f99ca0a3d82bd4c",
       "version_major": 2,
       "version_minor": 0
      },
      "text/plain": [
       "Validation: |                                                                                                 …"
      ]
     },
     "metadata": {},
     "output_type": "display_data"
    },
    {
     "data": {
      "application/vnd.jupyter.widget-view+json": {
       "model_id": "69468741e0fb4849810fb6562af67743",
       "version_major": 2,
       "version_minor": 0
      },
      "text/plain": [
       "Validation: |                                                                                                 …"
      ]
     },
     "metadata": {},
     "output_type": "display_data"
    },
    {
     "data": {
      "application/vnd.jupyter.widget-view+json": {
       "model_id": "29196a9022544133aa6efea07850a3d5",
       "version_major": 2,
       "version_minor": 0
      },
      "text/plain": [
       "Validation: |                                                                                                 …"
      ]
     },
     "metadata": {},
     "output_type": "display_data"
    },
    {
     "data": {
      "application/vnd.jupyter.widget-view+json": {
       "model_id": "dafdefee6f7e4fa1aaa71d727f2b0866",
       "version_major": 2,
       "version_minor": 0
      },
      "text/plain": [
       "Validation: |                                                                                                 …"
      ]
     },
     "metadata": {},
     "output_type": "display_data"
    },
    {
     "data": {
      "application/vnd.jupyter.widget-view+json": {
       "model_id": "794ed6b96a2e4e9984e7f79ae5c26db7",
       "version_major": 2,
       "version_minor": 0
      },
      "text/plain": [
       "Validation: |                                                                                                 …"
      ]
     },
     "metadata": {},
     "output_type": "display_data"
    },
    {
     "data": {
      "application/vnd.jupyter.widget-view+json": {
       "model_id": "65fea8004b86416a82a1385d98707a9a",
       "version_major": 2,
       "version_minor": 0
      },
      "text/plain": [
       "Validation: |                                                                                                 …"
      ]
     },
     "metadata": {},
     "output_type": "display_data"
    },
    {
     "data": {
      "application/vnd.jupyter.widget-view+json": {
       "model_id": "c9e2a5038b9346a6a5e623b6bf533e00",
       "version_major": 2,
       "version_minor": 0
      },
      "text/plain": [
       "Validation: |                                                                                                 …"
      ]
     },
     "metadata": {},
     "output_type": "display_data"
    },
    {
     "data": {
      "application/vnd.jupyter.widget-view+json": {
       "model_id": "bccc75ceb8ff484583069a8659eea8a2",
       "version_major": 2,
       "version_minor": 0
      },
      "text/plain": [
       "Validation: |                                                                                                 …"
      ]
     },
     "metadata": {},
     "output_type": "display_data"
    },
    {
     "data": {
      "application/vnd.jupyter.widget-view+json": {
       "model_id": "e30a0b878ebc4d77bfa58ac33fa78594",
       "version_major": 2,
       "version_minor": 0
      },
      "text/plain": [
       "Validation: |                                                                                                 …"
      ]
     },
     "metadata": {},
     "output_type": "display_data"
    },
    {
     "data": {
      "application/vnd.jupyter.widget-view+json": {
       "model_id": "dce3fec6f1b74752800fe6d9be02e3fd",
       "version_major": 2,
       "version_minor": 0
      },
      "text/plain": [
       "Validation: |                                                                                                 …"
      ]
     },
     "metadata": {},
     "output_type": "display_data"
    },
    {
     "data": {
      "application/vnd.jupyter.widget-view+json": {
       "model_id": "1fd224c236b742b9acd8b23791f5a515",
       "version_major": 2,
       "version_minor": 0
      },
      "text/plain": [
       "Validation: |                                                                                                 …"
      ]
     },
     "metadata": {},
     "output_type": "display_data"
    },
    {
     "data": {
      "application/vnd.jupyter.widget-view+json": {
       "model_id": "7d552c998070475badad9d30fdd0cab7",
       "version_major": 2,
       "version_minor": 0
      },
      "text/plain": [
       "Validation: |                                                                                                 …"
      ]
     },
     "metadata": {},
     "output_type": "display_data"
    },
    {
     "data": {
      "application/vnd.jupyter.widget-view+json": {
       "model_id": "cba289a6391341c8a4947267ed5bf967",
       "version_major": 2,
       "version_minor": 0
      },
      "text/plain": [
       "Validation: |                                                                                                 …"
      ]
     },
     "metadata": {},
     "output_type": "display_data"
    },
    {
     "data": {
      "application/vnd.jupyter.widget-view+json": {
       "model_id": "a29600da30b94d3c96f4baac003eb28e",
       "version_major": 2,
       "version_minor": 0
      },
      "text/plain": [
       "Validation: |                                                                                                 …"
      ]
     },
     "metadata": {},
     "output_type": "display_data"
    },
    {
     "data": {
      "application/vnd.jupyter.widget-view+json": {
       "model_id": "294c9924a0a64bd788ff518cf8fca15d",
       "version_major": 2,
       "version_minor": 0
      },
      "text/plain": [
       "Validation: |                                                                                                 …"
      ]
     },
     "metadata": {},
     "output_type": "display_data"
    },
    {
     "data": {
      "application/vnd.jupyter.widget-view+json": {
       "model_id": "d9471880db634df381b02d3ae0adcecf",
       "version_major": 2,
       "version_minor": 0
      },
      "text/plain": [
       "Validation: |                                                                                                 …"
      ]
     },
     "metadata": {},
     "output_type": "display_data"
    },
    {
     "data": {
      "application/vnd.jupyter.widget-view+json": {
       "model_id": "812fdd3a40834c1c83398079bedba06c",
       "version_major": 2,
       "version_minor": 0
      },
      "text/plain": [
       "Validation: |                                                                                                 …"
      ]
     },
     "metadata": {},
     "output_type": "display_data"
    },
    {
     "data": {
      "application/vnd.jupyter.widget-view+json": {
       "model_id": "f13a3f7395184864b9a0f58410089035",
       "version_major": 2,
       "version_minor": 0
      },
      "text/plain": [
       "Validation: |                                                                                                 …"
      ]
     },
     "metadata": {},
     "output_type": "display_data"
    },
    {
     "data": {
      "application/vnd.jupyter.widget-view+json": {
       "model_id": "cd4c7b05d4fa4783aae37c967f2b21ed",
       "version_major": 2,
       "version_minor": 0
      },
      "text/plain": [
       "Validation: |                                                                                                 …"
      ]
     },
     "metadata": {},
     "output_type": "display_data"
    },
    {
     "name": "stderr",
     "output_type": "stream",
     "text": [
      "`Trainer.fit` stopped: `max_epochs=30` reached.\n",
      "LOCAL_RANK: 0 - CUDA_VISIBLE_DEVICES: [0,1,2,3,4,5,6]\n",
      "/opt/conda/envs/audio/lib/python3.10/site-packages/pytorch_lightning/trainer/connectors/data_connector.py:441: The 'test_dataloader' does not have many workers which may be a bottleneck. Consider increasing the value of the `num_workers` argument` to `num_workers=127` in the `DataLoader` to improve performance.\n"
     ]
    },
    {
     "data": {
      "application/vnd.jupyter.widget-view+json": {
       "model_id": "e15933bbc2734a7c8ee0911c72914045",
       "version_major": 2,
       "version_minor": 0
      },
      "text/plain": [
       "Testing: |                                                                                                    …"
      ]
     },
     "metadata": {},
     "output_type": "display_data"
    },
    {
     "name": "stderr",
     "output_type": "stream",
     "text": [
      "/opt/conda/envs/audio/lib/python3.10/site-packages/torchmetrics/utilities/prints.py:43: UserWarning: No negative samples in targets, false positive value should be meaningless. Returning zero tensor in false positive score\n",
      "  warnings.warn(*args, **kwargs)  # noqa: B028\n",
      "/opt/conda/envs/audio/lib/python3.10/site-packages/sklearn/model_selection/_split.py:737: UserWarning: The least populated class in y has only 1 members, which is less than n_splits=2.\n",
      "  warnings.warn(\n",
      "GPU available: True (cuda), used: True\n",
      "TPU available: False, using: 0 TPU cores\n",
      "IPU available: False, using: 0 IPUs\n",
      "HPU available: False, using: 0 HPUs\n",
      "LOCAL_RANK: 0 - CUDA_VISIBLE_DEVICES: [0,1,2,3,4,5,6]\n",
      "\n",
      "   | Name          | Type               | Params\n",
      "------------------------------------------------------\n",
      "0  | tab_enc       | TabularEncoder     | 4.9 K \n",
      "1  | rnn           | GRU                | 369 K \n",
      "2  | head          | Linear             | 129   \n",
      "3  | criterion     | MSELoss            | 0     \n",
      "4  | train_mae     | MeanAbsoluteError  | 0     \n",
      "5  | val_mae       | MeanAbsoluteError  | 0     \n",
      "6  | test_mae      | MeanAbsoluteError  | 0     \n",
      "7  | train_rmse    | MeanSquaredError   | 0     \n",
      "8  | val_rmse      | MeanSquaredError   | 0     \n",
      "9  | test_rmse     | MeanSquaredError   | 0     \n",
      "10 | train_acc     | MulticlassAccuracy | 0     \n",
      "11 | val_acc       | MulticlassAccuracy | 0     \n",
      "12 | test_acc      | MulticlassAccuracy | 0     \n",
      "13 | train_acc_tol | SumMetric          | 0     \n",
      "14 | val_acc_tol   | SumMetric          | 0     \n",
      "15 | test_acc_tol  | SumMetric          | 0     \n",
      "16 | train_cnt     | SumMetric          | 0     \n",
      "17 | val_cnt       | SumMetric          | 0     \n",
      "18 | test_cnt      | SumMetric          | 0     \n",
      "19 | train_auroc   | MulticlassAUROC    | 0     \n",
      "20 | val_auroc     | MulticlassAUROC    | 0     \n",
      "21 | test_auroc    | MulticlassAUROC    | 0     \n",
      "------------------------------------------------------\n",
      "374 K     Trainable params\n",
      "0         Non-trainable params\n",
      "374 K     Total params\n",
      "1.498     Total estimated model params size (MB)\n"
     ]
    },
    {
     "name": "stdout",
     "output_type": "stream",
     "text": [
      "Fold 23 (Test PID: normal-18): {'test_loss': 0.011626358143985271, 'test_mae': 0.10782559216022491, 'test_rmse': 0.10782559216022491, 'test_acc': 1.0, 'test_acc±1': 1.0, 'auroc': 0.0, 'fold': 23, 'test_pid': 'normal-18'}\n"
     ]
    },
    {
     "data": {
      "application/vnd.jupyter.widget-view+json": {
       "model_id": "f89d8f4e067e4c129aae07299f0db22b",
       "version_major": 2,
       "version_minor": 0
      },
      "text/plain": [
       "Sanity Checking: |                                                                                            …"
      ]
     },
     "metadata": {},
     "output_type": "display_data"
    },
    {
     "name": "stderr",
     "output_type": "stream",
     "text": [
      "/opt/conda/envs/audio/lib/python3.10/site-packages/pytorch_lightning/trainer/connectors/data_connector.py:441: The 'val_dataloader' does not have many workers which may be a bottleneck. Consider increasing the value of the `num_workers` argument` to `num_workers=127` in the `DataLoader` to improve performance.\n",
      "/opt/conda/envs/audio/lib/python3.10/site-packages/torch/nn/modules/linear.py:116: UserWarning: Deterministic behavior was enabled with either `torch.use_deterministic_algorithms(True)` or `at::Context::setDeterministicAlgorithms(true)`, but this operation is not deterministic because it uses CuBLAS and you have CUDA >= 10.2. To enable deterministic behavior in this case, you must set an environment variable before running your PyTorch application: CUBLAS_WORKSPACE_CONFIG=:4096:8 or CUBLAS_WORKSPACE_CONFIG=:16:8. For more information, go to https://docs.nvidia.com/cuda/cublas/index.html#results-reproducibility (Triggered internally at ../aten/src/ATen/Context.cpp:185.)\n",
      "  return F.linear(input, self.weight, self.bias)\n",
      "/opt/conda/envs/audio/lib/python3.10/site-packages/torchmetrics/utilities/prints.py:43: TorchMetricsUserWarning: You are trying to use a metric in deterministic mode on GPU that uses `torch.cumsum`, which is currently not supported. The tensor will be copied to the CPU memory to compute it and then copied back to GPU. Expect some slowdowns.\n",
      "  warnings.warn(*args, **kwargs)  # noqa: B028\n",
      "/opt/conda/envs/audio/lib/python3.10/site-packages/torchmetrics/utilities/prints.py:43: UserWarning: No positive samples in targets, true positive value should be meaningless. Returning zero tensor in true positive score\n",
      "  warnings.warn(*args, **kwargs)  # noqa: B028\n",
      "/opt/conda/envs/audio/lib/python3.10/site-packages/pytorch_lightning/trainer/connectors/data_connector.py:441: The 'train_dataloader' does not have many workers which may be a bottleneck. Consider increasing the value of the `num_workers` argument` to `num_workers=127` in the `DataLoader` to improve performance.\n",
      "/opt/conda/envs/audio/lib/python3.10/site-packages/pytorch_lightning/loops/fit_loop.py:298: The number of training batches (4) is smaller than the logging interval Trainer(log_every_n_steps=50). Set a lower value for log_every_n_steps if you want to see logs for the training epoch.\n"
     ]
    },
    {
     "data": {
      "application/vnd.jupyter.widget-view+json": {
       "model_id": "42133c13906a4f50ab2dbf8ba3172b54",
       "version_major": 2,
       "version_minor": 0
      },
      "text/plain": [
       "Training: |                                                                                                   …"
      ]
     },
     "metadata": {},
     "output_type": "display_data"
    },
    {
     "name": "stderr",
     "output_type": "stream",
     "text": [
      "/opt/conda/envs/audio/lib/python3.10/site-packages/torch/autograd/graph.py:744: UserWarning: Deterministic behavior was enabled with either `torch.use_deterministic_algorithms(True)` or `at::Context::setDeterministicAlgorithms(true)`, but this operation is not deterministic because it uses CuBLAS and you have CUDA >= 10.2. To enable deterministic behavior in this case, you must set an environment variable before running your PyTorch application: CUBLAS_WORKSPACE_CONFIG=:4096:8 or CUBLAS_WORKSPACE_CONFIG=:16:8. For more information, go to https://docs.nvidia.com/cuda/cublas/index.html#results-reproducibility (Triggered internally at ../aten/src/ATen/Context.cpp:185.)\n",
      "  return Variable._execution_engine.run_backward(  # Calls into the C++ engine to run the backward pass\n"
     ]
    },
    {
     "data": {
      "application/vnd.jupyter.widget-view+json": {
       "model_id": "6041e986daf34045bf50652170e3257d",
       "version_major": 2,
       "version_minor": 0
      },
      "text/plain": [
       "Validation: |                                                                                                 …"
      ]
     },
     "metadata": {},
     "output_type": "display_data"
    },
    {
     "data": {
      "application/vnd.jupyter.widget-view+json": {
       "model_id": "ea1b12a49077408aafcc9f3d6f748017",
       "version_major": 2,
       "version_minor": 0
      },
      "text/plain": [
       "Validation: |                                                                                                 …"
      ]
     },
     "metadata": {},
     "output_type": "display_data"
    },
    {
     "data": {
      "application/vnd.jupyter.widget-view+json": {
       "model_id": "2d77dfd5d203492c91807d93461b9962",
       "version_major": 2,
       "version_minor": 0
      },
      "text/plain": [
       "Validation: |                                                                                                 …"
      ]
     },
     "metadata": {},
     "output_type": "display_data"
    },
    {
     "data": {
      "application/vnd.jupyter.widget-view+json": {
       "model_id": "5baddff19fe34d5ba04b4db8d5847926",
       "version_major": 2,
       "version_minor": 0
      },
      "text/plain": [
       "Validation: |                                                                                                 …"
      ]
     },
     "metadata": {},
     "output_type": "display_data"
    },
    {
     "data": {
      "application/vnd.jupyter.widget-view+json": {
       "model_id": "b33ecb3f69e44397a03cf9048e322c71",
       "version_major": 2,
       "version_minor": 0
      },
      "text/plain": [
       "Validation: |                                                                                                 …"
      ]
     },
     "metadata": {},
     "output_type": "display_data"
    },
    {
     "data": {
      "application/vnd.jupyter.widget-view+json": {
       "model_id": "6ec384e89d21486ebceb6a891b553065",
       "version_major": 2,
       "version_minor": 0
      },
      "text/plain": [
       "Validation: |                                                                                                 …"
      ]
     },
     "metadata": {},
     "output_type": "display_data"
    },
    {
     "data": {
      "application/vnd.jupyter.widget-view+json": {
       "model_id": "653e95e022ef4f6ab59a8e920ca4ba4a",
       "version_major": 2,
       "version_minor": 0
      },
      "text/plain": [
       "Validation: |                                                                                                 …"
      ]
     },
     "metadata": {},
     "output_type": "display_data"
    },
    {
     "data": {
      "application/vnd.jupyter.widget-view+json": {
       "model_id": "7e0b2f7378ce4e7a899abc9c9c0f0a19",
       "version_major": 2,
       "version_minor": 0
      },
      "text/plain": [
       "Validation: |                                                                                                 …"
      ]
     },
     "metadata": {},
     "output_type": "display_data"
    },
    {
     "data": {
      "application/vnd.jupyter.widget-view+json": {
       "model_id": "728e00da45da4890a98bfd6bd0f1b455",
       "version_major": 2,
       "version_minor": 0
      },
      "text/plain": [
       "Validation: |                                                                                                 …"
      ]
     },
     "metadata": {},
     "output_type": "display_data"
    },
    {
     "data": {
      "application/vnd.jupyter.widget-view+json": {
       "model_id": "0c0aad4fe63e4d5c9cad8318fa8cddd3",
       "version_major": 2,
       "version_minor": 0
      },
      "text/plain": [
       "Validation: |                                                                                                 …"
      ]
     },
     "metadata": {},
     "output_type": "display_data"
    },
    {
     "data": {
      "application/vnd.jupyter.widget-view+json": {
       "model_id": "d237733254a04f71a1035a7135d50441",
       "version_major": 2,
       "version_minor": 0
      },
      "text/plain": [
       "Validation: |                                                                                                 …"
      ]
     },
     "metadata": {},
     "output_type": "display_data"
    },
    {
     "data": {
      "application/vnd.jupyter.widget-view+json": {
       "model_id": "9acd4b1d7ae7472f9658833007d26a05",
       "version_major": 2,
       "version_minor": 0
      },
      "text/plain": [
       "Validation: |                                                                                                 …"
      ]
     },
     "metadata": {},
     "output_type": "display_data"
    },
    {
     "data": {
      "application/vnd.jupyter.widget-view+json": {
       "model_id": "e873c4dff3774fb69cbc60fb58f088cd",
       "version_major": 2,
       "version_minor": 0
      },
      "text/plain": [
       "Validation: |                                                                                                 …"
      ]
     },
     "metadata": {},
     "output_type": "display_data"
    },
    {
     "data": {
      "application/vnd.jupyter.widget-view+json": {
       "model_id": "ff5e6073233b4579869a69f62f128912",
       "version_major": 2,
       "version_minor": 0
      },
      "text/plain": [
       "Validation: |                                                                                                 …"
      ]
     },
     "metadata": {},
     "output_type": "display_data"
    },
    {
     "data": {
      "application/vnd.jupyter.widget-view+json": {
       "model_id": "d096f58873aa4f68870c724148f6af97",
       "version_major": 2,
       "version_minor": 0
      },
      "text/plain": [
       "Validation: |                                                                                                 …"
      ]
     },
     "metadata": {},
     "output_type": "display_data"
    },
    {
     "data": {
      "application/vnd.jupyter.widget-view+json": {
       "model_id": "5a672047cccf4898a7af1ac610b36554",
       "version_major": 2,
       "version_minor": 0
      },
      "text/plain": [
       "Validation: |                                                                                                 …"
      ]
     },
     "metadata": {},
     "output_type": "display_data"
    },
    {
     "data": {
      "application/vnd.jupyter.widget-view+json": {
       "model_id": "c6c95ad911fd428695263002501be634",
       "version_major": 2,
       "version_minor": 0
      },
      "text/plain": [
       "Validation: |                                                                                                 …"
      ]
     },
     "metadata": {},
     "output_type": "display_data"
    },
    {
     "data": {
      "application/vnd.jupyter.widget-view+json": {
       "model_id": "38f01f05f71140eca18ee9b4cab284da",
       "version_major": 2,
       "version_minor": 0
      },
      "text/plain": [
       "Validation: |                                                                                                 …"
      ]
     },
     "metadata": {},
     "output_type": "display_data"
    },
    {
     "data": {
      "application/vnd.jupyter.widget-view+json": {
       "model_id": "a5fabd7339fe4ff1991fda5032292f44",
       "version_major": 2,
       "version_minor": 0
      },
      "text/plain": [
       "Validation: |                                                                                                 …"
      ]
     },
     "metadata": {},
     "output_type": "display_data"
    },
    {
     "data": {
      "application/vnd.jupyter.widget-view+json": {
       "model_id": "a3362ff1fd3f408fa690b86cda28441b",
       "version_major": 2,
       "version_minor": 0
      },
      "text/plain": [
       "Validation: |                                                                                                 …"
      ]
     },
     "metadata": {},
     "output_type": "display_data"
    },
    {
     "data": {
      "application/vnd.jupyter.widget-view+json": {
       "model_id": "de03b117652144ec9707190b24014d26",
       "version_major": 2,
       "version_minor": 0
      },
      "text/plain": [
       "Validation: |                                                                                                 …"
      ]
     },
     "metadata": {},
     "output_type": "display_data"
    },
    {
     "data": {
      "application/vnd.jupyter.widget-view+json": {
       "model_id": "1721e53b17c04c6e86637e48063da795",
       "version_major": 2,
       "version_minor": 0
      },
      "text/plain": [
       "Validation: |                                                                                                 …"
      ]
     },
     "metadata": {},
     "output_type": "display_data"
    },
    {
     "data": {
      "application/vnd.jupyter.widget-view+json": {
       "model_id": "6d0c7f4aba814808a44b1c911d7bbd0b",
       "version_major": 2,
       "version_minor": 0
      },
      "text/plain": [
       "Validation: |                                                                                                 …"
      ]
     },
     "metadata": {},
     "output_type": "display_data"
    },
    {
     "data": {
      "application/vnd.jupyter.widget-view+json": {
       "model_id": "7f0033d7ea554174a2c1c36f2775b941",
       "version_major": 2,
       "version_minor": 0
      },
      "text/plain": [
       "Validation: |                                                                                                 …"
      ]
     },
     "metadata": {},
     "output_type": "display_data"
    },
    {
     "data": {
      "application/vnd.jupyter.widget-view+json": {
       "model_id": "d069a5cad26b4fa1afd07b8b8dc9ff59",
       "version_major": 2,
       "version_minor": 0
      },
      "text/plain": [
       "Validation: |                                                                                                 …"
      ]
     },
     "metadata": {},
     "output_type": "display_data"
    },
    {
     "data": {
      "application/vnd.jupyter.widget-view+json": {
       "model_id": "9a8c91e4d45b4ec79ebe9cc2da739b61",
       "version_major": 2,
       "version_minor": 0
      },
      "text/plain": [
       "Validation: |                                                                                                 …"
      ]
     },
     "metadata": {},
     "output_type": "display_data"
    },
    {
     "data": {
      "application/vnd.jupyter.widget-view+json": {
       "model_id": "4c5e192db4cb4026a196f30882919a35",
       "version_major": 2,
       "version_minor": 0
      },
      "text/plain": [
       "Validation: |                                                                                                 …"
      ]
     },
     "metadata": {},
     "output_type": "display_data"
    },
    {
     "data": {
      "application/vnd.jupyter.widget-view+json": {
       "model_id": "fb3e52506c1e437fa22f1c1f03cc17e0",
       "version_major": 2,
       "version_minor": 0
      },
      "text/plain": [
       "Validation: |                                                                                                 …"
      ]
     },
     "metadata": {},
     "output_type": "display_data"
    },
    {
     "data": {
      "application/vnd.jupyter.widget-view+json": {
       "model_id": "6a248acbb98a48db878dbbc38d9aa8b9",
       "version_major": 2,
       "version_minor": 0
      },
      "text/plain": [
       "Validation: |                                                                                                 …"
      ]
     },
     "metadata": {},
     "output_type": "display_data"
    },
    {
     "data": {
      "application/vnd.jupyter.widget-view+json": {
       "model_id": "6d60fc242c994384820da246f6cd0e02",
       "version_major": 2,
       "version_minor": 0
      },
      "text/plain": [
       "Validation: |                                                                                                 …"
      ]
     },
     "metadata": {},
     "output_type": "display_data"
    },
    {
     "name": "stderr",
     "output_type": "stream",
     "text": [
      "`Trainer.fit` stopped: `max_epochs=30` reached.\n",
      "LOCAL_RANK: 0 - CUDA_VISIBLE_DEVICES: [0,1,2,3,4,5,6]\n",
      "/opt/conda/envs/audio/lib/python3.10/site-packages/pytorch_lightning/trainer/connectors/data_connector.py:441: The 'test_dataloader' does not have many workers which may be a bottleneck. Consider increasing the value of the `num_workers` argument` to `num_workers=127` in the `DataLoader` to improve performance.\n"
     ]
    },
    {
     "data": {
      "application/vnd.jupyter.widget-view+json": {
       "model_id": "0216c99a5ed441d6b816b471c9bf20cc",
       "version_major": 2,
       "version_minor": 0
      },
      "text/plain": [
       "Testing: |                                                                                                    …"
      ]
     },
     "metadata": {},
     "output_type": "display_data"
    },
    {
     "name": "stdout",
     "output_type": "stream",
     "text": [
      "Fold 24 (Test PID: normal-9): {'test_loss': 0.007443840615451336, 'test_mae': 0.08627769351005554, 'test_rmse': 0.08627769351005554, 'test_acc': 1.0, 'test_acc±1': 1.0, 'auroc': 0.0, 'fold': 24, 'test_pid': 'normal-9'}\n",
      "test_loss     0.708238\n",
      "test_mae      0.465468\n",
      "test_rmse     0.482834\n",
      "test_acc      0.763889\n",
      "test_acc±1    0.815972\n",
      "auroc         0.023810\n",
      "dtype: float64\n",
      "test_loss     1.526571\n",
      "test_mae      0.657141\n",
      "test_rmse     0.689282\n",
      "test_acc      0.413646\n",
      "test_acc±1    0.364815\n",
      "auroc         0.064109\n",
      "dtype: float64\n"
     ]
    },
    {
     "name": "stderr",
     "output_type": "stream",
     "text": [
      "/opt/conda/envs/audio/lib/python3.10/site-packages/torchmetrics/utilities/prints.py:43: UserWarning: No negative samples in targets, false positive value should be meaningless. Returning zero tensor in false positive score\n",
      "  warnings.warn(*args, **kwargs)  # noqa: B028\n"
     ]
    }
   ],
   "source": [
    "from sklearn.model_selection import StratifiedShuffleSplit\n",
    "fold_metrics = []\n",
    "\n",
    "pid_list = list(pid2label.keys())\n",
    "\n",
    "for fold, test_pid in enumerate(pid_list, 1):\n",
    "    # LOPO split\n",
    "    train_pids = [pid for pid in pid_list if pid != test_pid]\n",
    "    test_pids  = [test_pid]\n",
    "\n",
    "    # train → validation split (10%)\n",
    "    val_kfold = StratifiedKFold(n_splits=2, shuffle=True, random_state=fold)\n",
    "    train_labels = [pid2label[p] for p in train_pids]\n",
    "    train_pidx2, val_pidx2 = next(val_kfold.split(train_pids, train_labels))\n",
    "    val_pids   = [train_pids[i] for i in val_pidx2]\n",
    "    train_pids = [train_pids[i] for i in train_pidx2]\n",
    "\n",
    "    # 인덱스 추출\n",
    "    train_idx = [i for i, (_, _, _, pid) in enumerate(dataset.data) if pid in train_pids]\n",
    "    val_idx   = [i for i, (_, _, _, pid) in enumerate(dataset.data) if pid in val_pids]\n",
    "    test_idx  = [i for i, (_, _, _, pid) in enumerate(dataset.data) if pid in test_pids]\n",
    "\n",
    "    train_ds = Subset(dataset, train_idx)\n",
    "    val_ds   = Subset(dataset, val_idx)\n",
    "    test_ds  = Subset(dataset, test_idx)\n",
    "\n",
    "    # DataLoader\n",
    "    batch_size = 3\n",
    "    train_loader = DataLoader(train_ds, batch_size=batch_size, shuffle=True,  collate_fn=collate_pad)\n",
    "    val_loader   = DataLoader(val_ds,   batch_size=batch_size, shuffle=False, collate_fn=collate_pad)\n",
    "    test_loader  = DataLoader(test_ds,  batch_size=batch_size, shuffle=False, collate_fn=collate_pad)\n",
    "\n",
    "    # 모델 초기화 및 훈련\n",
    "    model = AudioTabularRNN(\n",
    "        audio_dim = 768,\n",
    "        tab_dim   = dataset.tab_dim,   # ← 데이터셋에서 자동 획득\n",
    "        tab_emb   = 64,\n",
    "        rnn_hid   = 128,\n",
    "        lr        = 1e-3,\n",
    "        pad_value = -100.0,            # collate_pad 와 동일\n",
    "    )\n",
    "\n",
    "# 5) Trainer\n",
    "    trainer = pl.Trainer(\n",
    "        max_epochs = 30,\n",
    "        accelerator = \"gpu\" if torch.cuda.is_available() else \"cpu\",\n",
    "        devices     = 1,\n",
    "    )\n",
    "    trainer.fit(model, train_loader, val_loader)\n",
    "\n",
    "    # 테스트 및 결과 저장\n",
    "    res = trainer.test(model, test_loader, verbose=False)[0]\n",
    "    res['fold'] = fold\n",
    "    res['test_pid'] = test_pid\n",
    "    fold_metrics.append(res)\n",
    "    print(f\"Fold {fold} (Test PID: {test_pid}): {res}\")\n",
    "\n",
    "# 결과 요약\n",
    "df_metrics = pd.DataFrame(fold_metrics).set_index('fold')\n",
    "print(df_metrics.mean(numeric_only=True))        # 평균\n",
    "print(df_metrics.std(ddof=0, numeric_only=True)) # 표준편차\n"
   ]
  },
  {
   "cell_type": "code",
   "execution_count": 15,
   "id": "bfc18ea9-8d5c-4210-b735-c04db38f0a5a",
   "metadata": {},
   "outputs": [
    {
     "data": {
      "text/plain": [
       "test_loss     0.708238\n",
       "test_mae      0.465468\n",
       "test_rmse     0.482834\n",
       "test_acc      0.763889\n",
       "test_acc±1    0.815972\n",
       "auroc         0.023810\n",
       "dtype: float64"
      ]
     },
     "execution_count": 15,
     "metadata": {},
     "output_type": "execute_result"
    }
   ],
   "source": [
    "df_metrics.mean(numeric_only=True)     "
   ]
  },
  {
   "cell_type": "code",
   "execution_count": 26,
   "id": "b6f2e9ac-d5f1-46de-811c-148d1fb937cc",
   "metadata": {
    "scrolled": true
   },
   "outputs": [
    {
     "data": {
      "text/html": [
       "<div>\n",
       "<style scoped>\n",
       "    .dataframe tbody tr th:only-of-type {\n",
       "        vertical-align: middle;\n",
       "    }\n",
       "\n",
       "    .dataframe tbody tr th {\n",
       "        vertical-align: top;\n",
       "    }\n",
       "\n",
       "    .dataframe thead th {\n",
       "        text-align: right;\n",
       "    }\n",
       "</style>\n",
       "<table border=\"1\" class=\"dataframe\">\n",
       "  <thead>\n",
       "    <tr style=\"text-align: right;\">\n",
       "      <th></th>\n",
       "      <th>test_loss</th>\n",
       "      <th>test_mae</th>\n",
       "      <th>test_rmse</th>\n",
       "      <th>test_acc</th>\n",
       "      <th>test_acc±1</th>\n",
       "      <th>auroc</th>\n",
       "      <th>test_pid</th>\n",
       "    </tr>\n",
       "    <tr>\n",
       "      <th>fold</th>\n",
       "      <th></th>\n",
       "      <th></th>\n",
       "      <th></th>\n",
       "      <th></th>\n",
       "      <th></th>\n",
       "      <th></th>\n",
       "      <th></th>\n",
       "    </tr>\n",
       "  </thead>\n",
       "  <tbody>\n",
       "    <tr>\n",
       "      <th>1</th>\n",
       "      <td>2.631363</td>\n",
       "      <td>1.622148</td>\n",
       "      <td>1.622148</td>\n",
       "      <td>0.000000</td>\n",
       "      <td>0.000000</td>\n",
       "      <td>0.000000</td>\n",
       "      <td>WEBSS-003</td>\n",
       "    </tr>\n",
       "    <tr>\n",
       "      <th>2</th>\n",
       "      <td>1.251103</td>\n",
       "      <td>1.118527</td>\n",
       "      <td>1.118527</td>\n",
       "      <td>0.000000</td>\n",
       "      <td>0.000000</td>\n",
       "      <td>0.000000</td>\n",
       "      <td>WEBSS-004</td>\n",
       "    </tr>\n",
       "    <tr>\n",
       "      <th>3</th>\n",
       "      <td>2.316226</td>\n",
       "      <td>1.307164</td>\n",
       "      <td>1.521915</td>\n",
       "      <td>0.333333</td>\n",
       "      <td>0.333333</td>\n",
       "      <td>0.214286</td>\n",
       "      <td>WEBSS-005</td>\n",
       "    </tr>\n",
       "    <tr>\n",
       "      <th>4</th>\n",
       "      <td>3.158790</td>\n",
       "      <td>1.656467</td>\n",
       "      <td>1.777298</td>\n",
       "      <td>0.000000</td>\n",
       "      <td>0.250000</td>\n",
       "      <td>0.214286</td>\n",
       "      <td>WEBSS-006</td>\n",
       "    </tr>\n",
       "    <tr>\n",
       "      <th>5</th>\n",
       "      <td>6.624994</td>\n",
       "      <td>2.492718</td>\n",
       "      <td>2.573906</td>\n",
       "      <td>0.000000</td>\n",
       "      <td>0.000000</td>\n",
       "      <td>0.142857</td>\n",
       "      <td>WEBSS-007</td>\n",
       "    </tr>\n",
       "    <tr>\n",
       "      <th>6</th>\n",
       "      <td>0.055519</td>\n",
       "      <td>0.235624</td>\n",
       "      <td>0.235624</td>\n",
       "      <td>1.000000</td>\n",
       "      <td>1.000000</td>\n",
       "      <td>0.000000</td>\n",
       "      <td>normal-5</td>\n",
       "    </tr>\n",
       "    <tr>\n",
       "      <th>7</th>\n",
       "      <td>0.412810</td>\n",
       "      <td>0.642503</td>\n",
       "      <td>0.642503</td>\n",
       "      <td>0.000000</td>\n",
       "      <td>1.000000</td>\n",
       "      <td>0.000000</td>\n",
       "      <td>normal-12</td>\n",
       "    </tr>\n",
       "    <tr>\n",
       "      <th>8</th>\n",
       "      <td>0.009184</td>\n",
       "      <td>0.095834</td>\n",
       "      <td>0.095834</td>\n",
       "      <td>1.000000</td>\n",
       "      <td>1.000000</td>\n",
       "      <td>0.000000</td>\n",
       "      <td>normal-16</td>\n",
       "    </tr>\n",
       "    <tr>\n",
       "      <th>9</th>\n",
       "      <td>0.202002</td>\n",
       "      <td>0.449446</td>\n",
       "      <td>0.449446</td>\n",
       "      <td>1.000000</td>\n",
       "      <td>1.000000</td>\n",
       "      <td>0.000000</td>\n",
       "      <td>normal-1</td>\n",
       "    </tr>\n",
       "    <tr>\n",
       "      <th>10</th>\n",
       "      <td>0.002268</td>\n",
       "      <td>0.047626</td>\n",
       "      <td>0.047626</td>\n",
       "      <td>1.000000</td>\n",
       "      <td>1.000000</td>\n",
       "      <td>0.000000</td>\n",
       "      <td>normal-17</td>\n",
       "    </tr>\n",
       "    <tr>\n",
       "      <th>11</th>\n",
       "      <td>0.000268</td>\n",
       "      <td>0.016362</td>\n",
       "      <td>0.016362</td>\n",
       "      <td>1.000000</td>\n",
       "      <td>1.000000</td>\n",
       "      <td>0.000000</td>\n",
       "      <td>normal-13</td>\n",
       "    </tr>\n",
       "    <tr>\n",
       "      <th>12</th>\n",
       "      <td>0.146336</td>\n",
       "      <td>0.382538</td>\n",
       "      <td>0.382538</td>\n",
       "      <td>1.000000</td>\n",
       "      <td>1.000000</td>\n",
       "      <td>0.000000</td>\n",
       "      <td>normal-8</td>\n",
       "    </tr>\n",
       "    <tr>\n",
       "      <th>13</th>\n",
       "      <td>0.000976</td>\n",
       "      <td>0.031246</td>\n",
       "      <td>0.031246</td>\n",
       "      <td>1.000000</td>\n",
       "      <td>1.000000</td>\n",
       "      <td>0.000000</td>\n",
       "      <td>normal-4</td>\n",
       "    </tr>\n",
       "    <tr>\n",
       "      <th>14</th>\n",
       "      <td>0.000080</td>\n",
       "      <td>0.008949</td>\n",
       "      <td>0.008949</td>\n",
       "      <td>1.000000</td>\n",
       "      <td>1.000000</td>\n",
       "      <td>0.000000</td>\n",
       "      <td>normal-2</td>\n",
       "    </tr>\n",
       "    <tr>\n",
       "      <th>15</th>\n",
       "      <td>0.057465</td>\n",
       "      <td>0.239719</td>\n",
       "      <td>0.239719</td>\n",
       "      <td>1.000000</td>\n",
       "      <td>1.000000</td>\n",
       "      <td>0.000000</td>\n",
       "      <td>normal-7</td>\n",
       "    </tr>\n",
       "    <tr>\n",
       "      <th>16</th>\n",
       "      <td>0.000446</td>\n",
       "      <td>0.021121</td>\n",
       "      <td>0.021121</td>\n",
       "      <td>1.000000</td>\n",
       "      <td>1.000000</td>\n",
       "      <td>0.000000</td>\n",
       "      <td>normal-11</td>\n",
       "    </tr>\n",
       "    <tr>\n",
       "      <th>17</th>\n",
       "      <td>0.077579</td>\n",
       "      <td>0.278531</td>\n",
       "      <td>0.278531</td>\n",
       "      <td>1.000000</td>\n",
       "      <td>1.000000</td>\n",
       "      <td>0.000000</td>\n",
       "      <td>normal-15</td>\n",
       "    </tr>\n",
       "    <tr>\n",
       "      <th>18</th>\n",
       "      <td>0.005093</td>\n",
       "      <td>0.071365</td>\n",
       "      <td>0.071365</td>\n",
       "      <td>1.000000</td>\n",
       "      <td>1.000000</td>\n",
       "      <td>0.000000</td>\n",
       "      <td>normal-19</td>\n",
       "    </tr>\n",
       "    <tr>\n",
       "      <th>19</th>\n",
       "      <td>0.006055</td>\n",
       "      <td>0.077813</td>\n",
       "      <td>0.077813</td>\n",
       "      <td>1.000000</td>\n",
       "      <td>1.000000</td>\n",
       "      <td>0.000000</td>\n",
       "      <td>normal-10</td>\n",
       "    </tr>\n",
       "    <tr>\n",
       "      <th>20</th>\n",
       "      <td>0.001832</td>\n",
       "      <td>0.042797</td>\n",
       "      <td>0.042797</td>\n",
       "      <td>1.000000</td>\n",
       "      <td>1.000000</td>\n",
       "      <td>0.000000</td>\n",
       "      <td>normal-6</td>\n",
       "    </tr>\n",
       "    <tr>\n",
       "      <th>21</th>\n",
       "      <td>0.000013</td>\n",
       "      <td>0.003602</td>\n",
       "      <td>0.003602</td>\n",
       "      <td>1.000000</td>\n",
       "      <td>1.000000</td>\n",
       "      <td>0.000000</td>\n",
       "      <td>normal-3</td>\n",
       "    </tr>\n",
       "    <tr>\n",
       "      <th>22</th>\n",
       "      <td>0.018236</td>\n",
       "      <td>0.135042</td>\n",
       "      <td>0.135042</td>\n",
       "      <td>1.000000</td>\n",
       "      <td>1.000000</td>\n",
       "      <td>0.000000</td>\n",
       "      <td>normal-14</td>\n",
       "    </tr>\n",
       "    <tr>\n",
       "      <th>23</th>\n",
       "      <td>0.011626</td>\n",
       "      <td>0.107826</td>\n",
       "      <td>0.107826</td>\n",
       "      <td>1.000000</td>\n",
       "      <td>1.000000</td>\n",
       "      <td>0.000000</td>\n",
       "      <td>normal-18</td>\n",
       "    </tr>\n",
       "    <tr>\n",
       "      <th>24</th>\n",
       "      <td>0.007444</td>\n",
       "      <td>0.086278</td>\n",
       "      <td>0.086278</td>\n",
       "      <td>1.000000</td>\n",
       "      <td>1.000000</td>\n",
       "      <td>0.000000</td>\n",
       "      <td>normal-9</td>\n",
       "    </tr>\n",
       "  </tbody>\n",
       "</table>\n",
       "</div>"
      ],
      "text/plain": [
       "      test_loss  test_mae  test_rmse  test_acc  test_acc±1     auroc  \\\n",
       "fold                                                                   \n",
       "1      2.631363  1.622148   1.622148  0.000000    0.000000  0.000000   \n",
       "2      1.251103  1.118527   1.118527  0.000000    0.000000  0.000000   \n",
       "3      2.316226  1.307164   1.521915  0.333333    0.333333  0.214286   \n",
       "4      3.158790  1.656467   1.777298  0.000000    0.250000  0.214286   \n",
       "5      6.624994  2.492718   2.573906  0.000000    0.000000  0.142857   \n",
       "6      0.055519  0.235624   0.235624  1.000000    1.000000  0.000000   \n",
       "7      0.412810  0.642503   0.642503  0.000000    1.000000  0.000000   \n",
       "8      0.009184  0.095834   0.095834  1.000000    1.000000  0.000000   \n",
       "9      0.202002  0.449446   0.449446  1.000000    1.000000  0.000000   \n",
       "10     0.002268  0.047626   0.047626  1.000000    1.000000  0.000000   \n",
       "11     0.000268  0.016362   0.016362  1.000000    1.000000  0.000000   \n",
       "12     0.146336  0.382538   0.382538  1.000000    1.000000  0.000000   \n",
       "13     0.000976  0.031246   0.031246  1.000000    1.000000  0.000000   \n",
       "14     0.000080  0.008949   0.008949  1.000000    1.000000  0.000000   \n",
       "15     0.057465  0.239719   0.239719  1.000000    1.000000  0.000000   \n",
       "16     0.000446  0.021121   0.021121  1.000000    1.000000  0.000000   \n",
       "17     0.077579  0.278531   0.278531  1.000000    1.000000  0.000000   \n",
       "18     0.005093  0.071365   0.071365  1.000000    1.000000  0.000000   \n",
       "19     0.006055  0.077813   0.077813  1.000000    1.000000  0.000000   \n",
       "20     0.001832  0.042797   0.042797  1.000000    1.000000  0.000000   \n",
       "21     0.000013  0.003602   0.003602  1.000000    1.000000  0.000000   \n",
       "22     0.018236  0.135042   0.135042  1.000000    1.000000  0.000000   \n",
       "23     0.011626  0.107826   0.107826  1.000000    1.000000  0.000000   \n",
       "24     0.007444  0.086278   0.086278  1.000000    1.000000  0.000000   \n",
       "\n",
       "       test_pid  \n",
       "fold             \n",
       "1     WEBSS-003  \n",
       "2     WEBSS-004  \n",
       "3     WEBSS-005  \n",
       "4     WEBSS-006  \n",
       "5     WEBSS-007  \n",
       "6      normal-5  \n",
       "7     normal-12  \n",
       "8     normal-16  \n",
       "9      normal-1  \n",
       "10    normal-17  \n",
       "11    normal-13  \n",
       "12     normal-8  \n",
       "13     normal-4  \n",
       "14     normal-2  \n",
       "15     normal-7  \n",
       "16    normal-11  \n",
       "17    normal-15  \n",
       "18    normal-19  \n",
       "19    normal-10  \n",
       "20     normal-6  \n",
       "21     normal-3  \n",
       "22    normal-14  \n",
       "23    normal-18  \n",
       "24     normal-9  "
      ]
     },
     "execution_count": 26,
     "metadata": {},
     "output_type": "execute_result"
    }
   ],
   "source": [
    "df_metrics"
   ]
  },
  {
   "cell_type": "markdown",
   "id": "abbf73ff-d0de-4dcb-ace5-9e1a4ba7625f",
   "metadata": {},
   "source": [
    "## abnormal 만"
   ]
  },
  {
   "cell_type": "code",
   "execution_count": 19,
   "id": "1e983807-2707-41ba-8344-7abe1d40472c",
   "metadata": {},
   "outputs": [
    {
     "name": "stderr",
     "output_type": "stream",
     "text": [
      "Seed set to 56\n",
      "GPU available: True (cuda), used: True\n",
      "TPU available: False, using: 0 TPU cores\n",
      "IPU available: False, using: 0 IPUs\n",
      "HPU available: False, using: 0 HPUs\n",
      "LOCAL_RANK: 0 - CUDA_VISIBLE_DEVICES: [0,1,2,3,4,5,6]\n"
     ]
    },
    {
     "name": "stdout",
     "output_type": "stream",
     "text": [
      "Strings that stayed strings: Series([], Name: 19, dtype: object)\n",
      "Strings that stayed strings: Series([], Name: 24, dtype: object)\n",
      "Strings that stayed strings: Series([], Name: 30, dtype: object)\n",
      "Strings that stayed strings: Series([], Name: 42, dtype: object)\n",
      "Strings that stayed strings: Series([], Name: 51, dtype: object)\n"
     ]
    },
    {
     "name": "stderr",
     "output_type": "stream",
     "text": [
      "\n",
      "   | Name          | Type               | Params\n",
      "------------------------------------------------------\n",
      "0  | tab_enc       | TabularEncoder     | 4.9 K \n",
      "1  | rnn           | GRU                | 369 K \n",
      "2  | head          | Linear             | 129   \n",
      "3  | criterion     | MSELoss            | 0     \n",
      "4  | train_mae     | MeanAbsoluteError  | 0     \n",
      "5  | val_mae       | MeanAbsoluteError  | 0     \n",
      "6  | test_mae      | MeanAbsoluteError  | 0     \n",
      "7  | train_rmse    | MeanSquaredError   | 0     \n",
      "8  | val_rmse      | MeanSquaredError   | 0     \n",
      "9  | test_rmse     | MeanSquaredError   | 0     \n",
      "10 | train_acc     | MulticlassAccuracy | 0     \n",
      "11 | val_acc       | MulticlassAccuracy | 0     \n",
      "12 | test_acc      | MulticlassAccuracy | 0     \n",
      "13 | train_acc_tol | SumMetric          | 0     \n",
      "14 | val_acc_tol   | SumMetric          | 0     \n",
      "15 | test_acc_tol  | SumMetric          | 0     \n",
      "16 | train_cnt     | SumMetric          | 0     \n",
      "17 | val_cnt       | SumMetric          | 0     \n",
      "18 | test_cnt      | SumMetric          | 0     \n",
      "19 | train_auroc   | MulticlassAUROC    | 0     \n",
      "20 | val_auroc     | MulticlassAUROC    | 0     \n",
      "21 | test_auroc    | MulticlassAUROC    | 0     \n",
      "------------------------------------------------------\n",
      "374 K     Trainable params\n",
      "0         Non-trainable params\n",
      "374 K     Total params\n",
      "1.498     Total estimated model params size (MB)\n"
     ]
    },
    {
     "data": {
      "application/vnd.jupyter.widget-view+json": {
       "model_id": "06853929f3394c03b3cb89ba0cdf418e",
       "version_major": 2,
       "version_minor": 0
      },
      "text/plain": [
       "Sanity Checking: |                                                                                            …"
      ]
     },
     "metadata": {},
     "output_type": "display_data"
    },
    {
     "name": "stderr",
     "output_type": "stream",
     "text": [
      "/opt/conda/envs/audio/lib/python3.10/site-packages/pytorch_lightning/trainer/connectors/data_connector.py:441: The 'val_dataloader' does not have many workers which may be a bottleneck. Consider increasing the value of the `num_workers` argument` to `num_workers=127` in the `DataLoader` to improve performance.\n",
      "/opt/conda/envs/audio/lib/python3.10/site-packages/torchmetrics/utilities/prints.py:43: TorchMetricsUserWarning: You are trying to use a metric in deterministic mode on GPU that uses `torch.cumsum`, which is currently not supported. The tensor will be copied to the CPU memory to compute it and then copied back to GPU. Expect some slowdowns.\n",
      "  warnings.warn(*args, **kwargs)  # noqa: B028\n",
      "/opt/conda/envs/audio/lib/python3.10/site-packages/torchmetrics/utilities/prints.py:43: UserWarning: No positive samples in targets, true positive value should be meaningless. Returning zero tensor in true positive score\n",
      "  warnings.warn(*args, **kwargs)  # noqa: B028\n",
      "/opt/conda/envs/audio/lib/python3.10/site-packages/pytorch_lightning/trainer/connectors/data_connector.py:441: The 'train_dataloader' does not have many workers which may be a bottleneck. Consider increasing the value of the `num_workers` argument` to `num_workers=127` in the `DataLoader` to improve performance.\n",
      "/opt/conda/envs/audio/lib/python3.10/site-packages/pytorch_lightning/loops/fit_loop.py:298: The number of training batches (1) is smaller than the logging interval Trainer(log_every_n_steps=50). Set a lower value for log_every_n_steps if you want to see logs for the training epoch.\n"
     ]
    },
    {
     "data": {
      "application/vnd.jupyter.widget-view+json": {
       "model_id": "0c24413fd5804f839faec4e5a4331f25",
       "version_major": 2,
       "version_minor": 0
      },
      "text/plain": [
       "Training: |                                                                                                   …"
      ]
     },
     "metadata": {},
     "output_type": "display_data"
    },
    {
     "data": {
      "application/vnd.jupyter.widget-view+json": {
       "model_id": "5f08aee0e82541459cae7ef149eb2b9a",
       "version_major": 2,
       "version_minor": 0
      },
      "text/plain": [
       "Validation: |                                                                                                 …"
      ]
     },
     "metadata": {},
     "output_type": "display_data"
    },
    {
     "data": {
      "application/vnd.jupyter.widget-view+json": {
       "model_id": "2603a67790e44a4598566e42e924097f",
       "version_major": 2,
       "version_minor": 0
      },
      "text/plain": [
       "Validation: |                                                                                                 …"
      ]
     },
     "metadata": {},
     "output_type": "display_data"
    },
    {
     "data": {
      "application/vnd.jupyter.widget-view+json": {
       "model_id": "437ed5580b6c46c892e278edaa7b18fe",
       "version_major": 2,
       "version_minor": 0
      },
      "text/plain": [
       "Validation: |                                                                                                 …"
      ]
     },
     "metadata": {},
     "output_type": "display_data"
    },
    {
     "data": {
      "application/vnd.jupyter.widget-view+json": {
       "model_id": "37c2d792c7fb486cb1931c81f269c61b",
       "version_major": 2,
       "version_minor": 0
      },
      "text/plain": [
       "Validation: |                                                                                                 …"
      ]
     },
     "metadata": {},
     "output_type": "display_data"
    },
    {
     "data": {
      "application/vnd.jupyter.widget-view+json": {
       "model_id": "39907a9372484229a084751f6b31435c",
       "version_major": 2,
       "version_minor": 0
      },
      "text/plain": [
       "Validation: |                                                                                                 …"
      ]
     },
     "metadata": {},
     "output_type": "display_data"
    },
    {
     "data": {
      "application/vnd.jupyter.widget-view+json": {
       "model_id": "0a4e9fd26e534ba5a22cb7b70de3100a",
       "version_major": 2,
       "version_minor": 0
      },
      "text/plain": [
       "Validation: |                                                                                                 …"
      ]
     },
     "metadata": {},
     "output_type": "display_data"
    },
    {
     "data": {
      "application/vnd.jupyter.widget-view+json": {
       "model_id": "cf11a3ee4500432cb38566cc41bdf892",
       "version_major": 2,
       "version_minor": 0
      },
      "text/plain": [
       "Validation: |                                                                                                 …"
      ]
     },
     "metadata": {},
     "output_type": "display_data"
    },
    {
     "data": {
      "application/vnd.jupyter.widget-view+json": {
       "model_id": "38690e6dc7c64317b84e7fb87d633ac8",
       "version_major": 2,
       "version_minor": 0
      },
      "text/plain": [
       "Validation: |                                                                                                 …"
      ]
     },
     "metadata": {},
     "output_type": "display_data"
    },
    {
     "data": {
      "application/vnd.jupyter.widget-view+json": {
       "model_id": "7fe112682c994837a82a2f43bd04a881",
       "version_major": 2,
       "version_minor": 0
      },
      "text/plain": [
       "Validation: |                                                                                                 …"
      ]
     },
     "metadata": {},
     "output_type": "display_data"
    },
    {
     "data": {
      "application/vnd.jupyter.widget-view+json": {
       "model_id": "32b9727b87864f23bd2d7a90fea5afd8",
       "version_major": 2,
       "version_minor": 0
      },
      "text/plain": [
       "Validation: |                                                                                                 …"
      ]
     },
     "metadata": {},
     "output_type": "display_data"
    },
    {
     "data": {
      "application/vnd.jupyter.widget-view+json": {
       "model_id": "8cf6fa6ce68b4857a07078d2bc165f9f",
       "version_major": 2,
       "version_minor": 0
      },
      "text/plain": [
       "Validation: |                                                                                                 …"
      ]
     },
     "metadata": {},
     "output_type": "display_data"
    },
    {
     "data": {
      "application/vnd.jupyter.widget-view+json": {
       "model_id": "5cea67eb4f1e44bc8a64d679da72de5d",
       "version_major": 2,
       "version_minor": 0
      },
      "text/plain": [
       "Validation: |                                                                                                 …"
      ]
     },
     "metadata": {},
     "output_type": "display_data"
    },
    {
     "data": {
      "application/vnd.jupyter.widget-view+json": {
       "model_id": "6999033d03414b8786243e8a9ed3357d",
       "version_major": 2,
       "version_minor": 0
      },
      "text/plain": [
       "Validation: |                                                                                                 …"
      ]
     },
     "metadata": {},
     "output_type": "display_data"
    },
    {
     "data": {
      "application/vnd.jupyter.widget-view+json": {
       "model_id": "a635b8cbe49b4fd487e8df3884cc8284",
       "version_major": 2,
       "version_minor": 0
      },
      "text/plain": [
       "Validation: |                                                                                                 …"
      ]
     },
     "metadata": {},
     "output_type": "display_data"
    },
    {
     "data": {
      "application/vnd.jupyter.widget-view+json": {
       "model_id": "f135fbe5a310419cade29168f2dff725",
       "version_major": 2,
       "version_minor": 0
      },
      "text/plain": [
       "Validation: |                                                                                                 …"
      ]
     },
     "metadata": {},
     "output_type": "display_data"
    },
    {
     "data": {
      "application/vnd.jupyter.widget-view+json": {
       "model_id": "f66370c9cfbc43e6ad8a71224dfbbf3e",
       "version_major": 2,
       "version_minor": 0
      },
      "text/plain": [
       "Validation: |                                                                                                 …"
      ]
     },
     "metadata": {},
     "output_type": "display_data"
    },
    {
     "data": {
      "application/vnd.jupyter.widget-view+json": {
       "model_id": "1b05aab8f95a43e693d4cf5fe86b5a37",
       "version_major": 2,
       "version_minor": 0
      },
      "text/plain": [
       "Validation: |                                                                                                 …"
      ]
     },
     "metadata": {},
     "output_type": "display_data"
    },
    {
     "data": {
      "application/vnd.jupyter.widget-view+json": {
       "model_id": "cc24910250934e0ba2784f06253a0df2",
       "version_major": 2,
       "version_minor": 0
      },
      "text/plain": [
       "Validation: |                                                                                                 …"
      ]
     },
     "metadata": {},
     "output_type": "display_data"
    },
    {
     "data": {
      "application/vnd.jupyter.widget-view+json": {
       "model_id": "094d8c66a28d4b7c9f68c7b0397334e9",
       "version_major": 2,
       "version_minor": 0
      },
      "text/plain": [
       "Validation: |                                                                                                 …"
      ]
     },
     "metadata": {},
     "output_type": "display_data"
    },
    {
     "data": {
      "application/vnd.jupyter.widget-view+json": {
       "model_id": "0613b49a5b2b4370bef399155abdaf06",
       "version_major": 2,
       "version_minor": 0
      },
      "text/plain": [
       "Validation: |                                                                                                 …"
      ]
     },
     "metadata": {},
     "output_type": "display_data"
    },
    {
     "data": {
      "application/vnd.jupyter.widget-view+json": {
       "model_id": "97b214a6db2948fa8138e0ed467e300c",
       "version_major": 2,
       "version_minor": 0
      },
      "text/plain": [
       "Validation: |                                                                                                 …"
      ]
     },
     "metadata": {},
     "output_type": "display_data"
    },
    {
     "data": {
      "application/vnd.jupyter.widget-view+json": {
       "model_id": "dd258bd969934e63a9cf4c2f711422ee",
       "version_major": 2,
       "version_minor": 0
      },
      "text/plain": [
       "Validation: |                                                                                                 …"
      ]
     },
     "metadata": {},
     "output_type": "display_data"
    },
    {
     "data": {
      "application/vnd.jupyter.widget-view+json": {
       "model_id": "f570e8a8211044b9bc7e02931c6f9148",
       "version_major": 2,
       "version_minor": 0
      },
      "text/plain": [
       "Validation: |                                                                                                 …"
      ]
     },
     "metadata": {},
     "output_type": "display_data"
    },
    {
     "data": {
      "application/vnd.jupyter.widget-view+json": {
       "model_id": "65a3ebfddd6049868a0457d588bbb297",
       "version_major": 2,
       "version_minor": 0
      },
      "text/plain": [
       "Validation: |                                                                                                 …"
      ]
     },
     "metadata": {},
     "output_type": "display_data"
    },
    {
     "data": {
      "application/vnd.jupyter.widget-view+json": {
       "model_id": "bc29754d368e439abf38f3eb619437c5",
       "version_major": 2,
       "version_minor": 0
      },
      "text/plain": [
       "Validation: |                                                                                                 …"
      ]
     },
     "metadata": {},
     "output_type": "display_data"
    },
    {
     "data": {
      "application/vnd.jupyter.widget-view+json": {
       "model_id": "6b000e5941df42e4b3d4af5917dcaba2",
       "version_major": 2,
       "version_minor": 0
      },
      "text/plain": [
       "Validation: |                                                                                                 …"
      ]
     },
     "metadata": {},
     "output_type": "display_data"
    },
    {
     "data": {
      "application/vnd.jupyter.widget-view+json": {
       "model_id": "a421ac9d08624542a6fbce2d76ec0b3e",
       "version_major": 2,
       "version_minor": 0
      },
      "text/plain": [
       "Validation: |                                                                                                 …"
      ]
     },
     "metadata": {},
     "output_type": "display_data"
    },
    {
     "data": {
      "application/vnd.jupyter.widget-view+json": {
       "model_id": "e475e1f8b00643dc9ed7bb23975c4d02",
       "version_major": 2,
       "version_minor": 0
      },
      "text/plain": [
       "Validation: |                                                                                                 …"
      ]
     },
     "metadata": {},
     "output_type": "display_data"
    },
    {
     "data": {
      "application/vnd.jupyter.widget-view+json": {
       "model_id": "2065c69c252b4ac3b15eeaacedf3fae1",
       "version_major": 2,
       "version_minor": 0
      },
      "text/plain": [
       "Validation: |                                                                                                 …"
      ]
     },
     "metadata": {},
     "output_type": "display_data"
    },
    {
     "data": {
      "application/vnd.jupyter.widget-view+json": {
       "model_id": "613e4161640548eb831856bdd96dfc2d",
       "version_major": 2,
       "version_minor": 0
      },
      "text/plain": [
       "Validation: |                                                                                                 …"
      ]
     },
     "metadata": {},
     "output_type": "display_data"
    },
    {
     "name": "stderr",
     "output_type": "stream",
     "text": [
      "`Trainer.fit` stopped: `max_epochs=30` reached.\n",
      "LOCAL_RANK: 0 - CUDA_VISIBLE_DEVICES: [0,1,2,3,4,5,6]\n",
      "/opt/conda/envs/audio/lib/python3.10/site-packages/pytorch_lightning/trainer/connectors/data_connector.py:441: The 'test_dataloader' does not have many workers which may be a bottleneck. Consider increasing the value of the `num_workers` argument` to `num_workers=127` in the `DataLoader` to improve performance.\n"
     ]
    },
    {
     "data": {
      "application/vnd.jupyter.widget-view+json": {
       "model_id": "c39ffe6418b44630b1400b2f1b45c9f0",
       "version_major": 2,
       "version_minor": 0
      },
      "text/plain": [
       "Testing: |                                                                                                    …"
      ]
     },
     "metadata": {},
     "output_type": "display_data"
    },
    {
     "name": "stdout",
     "output_type": "stream",
     "text": [
      "────────────────────────────────────────────────────────────────────────────────────────────────────────────────────────\n",
      "       Test metric             DataLoader 0\n",
      "────────────────────────────────────────────────────────────────────────────────────────────────────────────────────────\n",
      "          auroc                     0.0\n",
      "        test_acc                    0.0\n",
      "       test_acc±1                   1.0\n",
      "        test_loss           0.9200146198272705\n",
      "        test_mae            0.9591739177703857\n",
      "        test_rmse           0.9591739177703857\n",
      "────────────────────────────────────────────────────────────────────────────────────────────────────────────────────────\n"
     ]
    },
    {
     "name": "stderr",
     "output_type": "stream",
     "text": [
      "/opt/conda/envs/audio/lib/python3.10/site-packages/torchmetrics/utilities/prints.py:43: UserWarning: No negative samples in targets, false positive value should be meaningless. Returning zero tensor in false positive score\n",
      "  warnings.warn(*args, **kwargs)  # noqa: B028\n"
     ]
    },
    {
     "data": {
      "text/plain": [
       "[{'test_loss': 0.9200146198272705,\n",
       "  'test_mae': 0.9591739177703857,\n",
       "  'test_rmse': 0.9591739177703857,\n",
       "  'test_acc': 0.0,\n",
       "  'test_acc±1': 1.0,\n",
       "  'auroc': 0.0}]"
      ]
     },
     "execution_count": 19,
     "metadata": {},
     "output_type": "execute_result"
    }
   ],
   "source": [
    "from torch.utils.data import DataLoader, random_split\n",
    "import pytorch_lightning as pl\n",
    "\n",
    "import random\n",
    "import numpy as np\n",
    "import torch\n",
    "\n",
    "def seed_everything(seed=30):\n",
    "    random.seed(seed)\n",
    "    np.random.seed(seed)\n",
    "    torch.manual_seed(seed)\n",
    "    torch.cuda.manual_seed_all(seed)\n",
    "    torch.use_deterministic_algorithms(True, warn_only=True)  # 또는 False (안정성 vs 성능 trade-off)\n",
    "    pl.seed_everything(seed, workers=True)\n",
    "\n",
    "seed_everything(56)\n",
    "#56\n",
    "#158\n",
    "#78\n",
    "#38\n",
    "\n",
    "# 1) Dataset\n",
    "dataset = CRSTimeSeriesDataset(\n",
    "    meta_csv      = \"data/Yeo/Sheet 1-Tabular_asthma_data.csv\",\n",
    "    soundlist_npy = \"feature/yeo_eval/sound_dir_loc.npy\",\n",
    "    emb_npy       = \"feature/yeo_eval/operaCT768_feature.npy\",\n",
    ")\n",
    "\n",
    "# 2) Split\n",
    "n = len(dataset)\n",
    "generator = torch.Generator().manual_seed(56)\n",
    "\n",
    "val_len  = 1#int(n * 0.15)\n",
    "test_len = 1#int(n * 0.15)\n",
    "train_len = n - val_len - test_len\n",
    "\n",
    "train, val, test = random_split(dataset, [train_len, val_len, test_len], generator=generator)\n",
    "\n",
    "# 3) DataLoader\n",
    "batch_size = 3\n",
    "train_loader = DataLoader(train, batch_size=batch_size, shuffle=True,  collate_fn=collate_pad)\n",
    "val_loader   = DataLoader(val,   batch_size=batch_size, shuffle=False, collate_fn=collate_pad)\n",
    "test_loader  = DataLoader(test,  batch_size=batch_size, shuffle=False, collate_fn=collate_pad)\n",
    "\n",
    "# 4) Model\n",
    "model = AudioTabularRNN(\n",
    "    audio_dim = 768,\n",
    "    tab_dim   = dataset.tab_dim,   # ← 데이터셋에서 자동 획득\n",
    "    tab_emb   = 64,\n",
    "    rnn_hid   = 128,\n",
    "    lr        = 1e-3,\n",
    "    pad_value = -100.0,            # collate_pad 와 동일\n",
    ")\n",
    "\n",
    "# 5) Trainer\n",
    "trainer = pl.Trainer(\n",
    "    max_epochs = 30,\n",
    "    accelerator = \"gpu\" if torch.cuda.is_available() else \"cpu\",\n",
    "    devices     = 1,\n",
    ")\n",
    "\n",
    "# 6) 학습 / 평가\n",
    "trainer.fit(model, train_loader, val_loader)\n",
    "trainer.test(model, test_loader)\n"
   ]
  },
  {
   "cell_type": "code",
   "execution_count": null,
   "id": "b295ad9f-0733-458d-bf8d-7691d31faccb",
   "metadata": {},
   "outputs": [],
   "source": [
    "# ──────────────────────────────────────────────────────────────────────────────\n",
    "# 0. 기본 import 및 공통 설정\n",
    "# ──────────────────────────────────────────────────────────────────────────────\n",
    "import os, random, numpy as np, pandas as pd, torch, torch.nn as nn\n",
    "from torch.utils.data import Dataset, DataLoader, random_split\n",
    "from torch.nn.utils.rnn import pad_sequence\n",
    "import pytorch_lightning as pl\n",
    "import torchmetrics\n",
    "from torchmetrics.classification import MulticlassAUROC\n",
    "\n",
    "# reproducibility ─────────────────────────────────────────────────────────────\n",
    "def seed_everything(seed: int = 38):\n",
    "    random.seed(seed);  np.random.seed(seed)\n",
    "    torch.manual_seed(seed);  torch.cuda.manual_seed_all(seed)\n",
    "    torch.use_deterministic_algorithms(True, warn_only=True)\n",
    "    pl.seed_everything(seed, workers=True)\n",
    "\n",
    "seed_everything(38)\n",
    "\n",
    "\n",
    "# ──────────────────────────────────────────────────────────────────────────────\n",
    "# 1. 유틸\n",
    "# ──────────────────────────────────────────────────────────────────────────────\n",
    "def unify_filename(path: str) -> str:\n",
    "    \"\"\"대·소문자/경로/확장자 차이를 없애 파일명을 표준화.\"\"\"\n",
    "    return os.path.splitext(os.path.basename(path.strip().lower()))[0]\n",
    "\n",
    "\n",
    "# ──────────────────────────────────────────────────────────────────────────────\n",
    "# 2. Dataset  (시퀀스→원, +보조 시퀀스)\n",
    "# ──────────────────────────────────────────────────────────────────────────────\n",
    "class CRSTimeSeriesDataset(Dataset):\n",
    "    DRUG_COLS   = [\"Albuterol\", \"Atrovent\", \"Prednisolone\", \"Bolus\"]\n",
    "    NUMERIC     = [\"Age\", \"Height\", \"Weight\"]\n",
    "    CAT_ONEHOT  = [\"Ethnicity\", \"Diagnosis\"]      # factorize 예시\n",
    "    PAD_CRS     = -100.0                          # 시퀀스 padding 값\n",
    "\n",
    "    def __init__(self,\n",
    "                 meta_csv: str,\n",
    "                 soundlist_npy: str,\n",
    "                 emb_npy: str,\n",
    "                 transform=None):\n",
    "        super().__init__()\n",
    "        self.transform = transform\n",
    "\n",
    "        # 2‑1) 메타 CSV 로드 & 정리 ────────────────────────────────────────\n",
    "        df = pd.read_csv(meta_csv)\n",
    "\n",
    "        # 결측 보간/치환\n",
    "        id_cols = [\"Patient ID\", *self.NUMERIC, \"Gender\", *self.CAT_ONEHOT]\n",
    "        df[id_cols] = df[id_cols].ffill()\n",
    "\n",
    "        df[\"Date/Time\"] = pd.to_datetime(df[\"Date/Time\"], errors=\"coerce\")\n",
    "        df[\"Gender\"]    = df[\"Gender\"].map({\"Male\": 1, \"Female\": 0})\n",
    "\n",
    "        for col in self.DRUG_COLS:\n",
    "            df[col] = df[col].map({\"o\": 1, \"x\": 0}).fillna(0).astype(int)\n",
    "        for col in self.CAT_ONEHOT:\n",
    "            df[col] = pd.factorize(df[col])[0]\n",
    "\n",
    "        df[\"uf_name\"] = df[\"Audio File\"].apply(unify_filename)\n",
    "        med = df[self.NUMERIC].median()\n",
    "        df[self.NUMERIC] = df[self.NUMERIC].fillna(med)\n",
    "\n",
    "        # 2‑2) 오디오 임베딩 매핑 ────────────────────────────────────────\n",
    "        sound_paths = np.load(soundlist_npy, allow_pickle=True)\n",
    "        emb_mat     = np.load(emb_npy)                     # (N, 768)\n",
    "\n",
    "        index_dict  = {unify_filename(p): i\n",
    "                       for i, p in enumerate(sound_paths)}\n",
    "\n",
    "        # 2‑3) 시퀀스 파싱 → (inputs, aux‑target, next‑target) ────────────\n",
    "        self.data, self.pids = [], []\n",
    "        tab_cols = self.NUMERIC + [\"Gender\", *self.DRUG_COLS, *self.CAT_ONEHOT]\n",
    "\n",
    "        for pid, g in df.sort_values([\"Patient ID\", \"Date/Time\"])\\\n",
    "                        .groupby(\"Patient ID\", sort=False):\n",
    "\n",
    "            rows = []\n",
    "            for _, row in g.iterrows():\n",
    "                key = row[\"uf_name\"]\n",
    "                if key not in index_dict:\n",
    "                    continue\n",
    "                idx  = index_dict[key]\n",
    "                audio_feat = emb_mat[idx]\n",
    "                tab_arr    = row[tab_cols].apply(pd.to_numeric, errors=\"coerce\")\\\n",
    "                                           .to_numpy(dtype=np.float32)\n",
    "                crs_raw = row[\"CRS Score\"]\n",
    "                crs_val = float(crs_raw) if pd.notna(crs_raw) else self.PAD_CRS\n",
    "                rows.append((audio_feat, tab_arr, crs_val))\n",
    "\n",
    "            # 최소 2포인트(=다음 CRS 존재) 필요\n",
    "            if len(rows) < 2:\n",
    "                continue\n",
    "\n",
    "            audio_seq, tab_seq, crs_seq = map(\n",
    "                lambda x: np.stack(x).astype(np.float32), zip(*rows)\n",
    "            )\n",
    "\n",
    "            # 입력/타깃 분리  (마지막 시점은 예측용)\n",
    "            self.data.append((\n",
    "                audio_seq[:-1],          # (T‑1, 768)\n",
    "                tab_seq[:-1],            # (T‑1, F)\n",
    "                crs_seq[:-1],            # 보조 타깃  (T‑1,)\n",
    "                crs_seq[-1],             # 주 타깃    (scalar)\n",
    "                pid,\n",
    "            ))\n",
    "            self.pids.append(pid)\n",
    "\n",
    "        # feature‑dimension 외부 노출\n",
    "        self.tab_dim = len(tab_cols)\n",
    "\n",
    "    # 필수 메서드 ─────────────────────────────────────────────────────────\n",
    "    def __len__(self):  return len(self.data)\n",
    "\n",
    "    def __getitem__(self, idx):\n",
    "        audio, tab, crs_aux, crs_next, pid = self.data[idx]\n",
    "        if self.transform:\n",
    "            audio, tab = self.transform(audio, tab)\n",
    "\n",
    "        return (\n",
    "            torch.tensor(audio,    dtype=torch.float32),\n",
    "            torch.tensor(tab,      dtype=torch.float32),\n",
    "            torch.tensor(crs_aux,  dtype=torch.float32),\n",
    "            torch.tensor(crs_next, dtype=torch.float32),\n",
    "            pid,\n",
    "        )\n",
    "\n",
    "\n",
    "# ──────────────────────────────────────────────────────────────────────────────\n",
    "# 3. Collate Fn\n",
    "# ──────────────────────────────────────────────────────────────────────────────\n",
    "PAD_AUDIO, PAD_TAB = 0.0, 0.0\n",
    "PAD_CRS   = CRSTimeSeriesDataset.PAD_CRS     #  -100.0\n",
    "\n",
    "def collate_pad(batch):\n",
    "    \"\"\"\n",
    "    batch = list of (audio_seq, tab_seq, crs_aux_seq, crs_next, pid)\n",
    "    \"\"\"\n",
    "    audio, tab, crs_aux, crs_next, pids = zip(*batch)\n",
    "\n",
    "    lengths   = torch.tensor([x.shape[0] for x in audio])      # (B,)\n",
    "    audio_pad = pad_sequence(audio,    batch_first=True, padding_value=PAD_AUDIO)\n",
    "    tab_pad   = pad_sequence(tab,      batch_first=True, padding_value=PAD_TAB)\n",
    "    crs_pad   = pad_sequence(crs_aux,  batch_first=True, padding_value=PAD_CRS)\n",
    "    crs_next  = torch.stack(crs_next)                          # (B,)\n",
    "\n",
    "    return audio_pad, tab_pad, crs_pad, crs_next, lengths, pids\n",
    "\n",
    "\n",
    "# ──────────────────────────────────────────────────────────────────────────────\n",
    "# 4. Model\n",
    "# ──────────────────────────────────────────────────────────────────────────────\n",
    "class TabularEncoder(nn.Module):\n",
    "    def __init__(self, in_dim: int, hid: int = 64, out: int = 64):\n",
    "        super().__init__()\n",
    "        self.net = nn.Sequential(\n",
    "            nn.Linear(in_dim, hid), nn.ReLU(),\n",
    "            nn.Linear(hid, out),    nn.ReLU()\n",
    "        )\n",
    "\n",
    "    def forward(self, x):                # x: (B, T, F)\n",
    "        B, T, F = x.shape\n",
    "        x = self.net(x.view(B * T, F))\n",
    "        return x.view(B, T, -1)          # (B, T, out)\n",
    "\n",
    "\n",
    "class AudioTabularRNN(pl.LightningModule):\n",
    "    \"\"\"\n",
    "    ▌Main  : 다음 방문 CRS 예측  (sequence‑to‑one)\n",
    "    ▌Aux   : 관측 시퀀스 CRS 예측  (sequence‑to‑sequence)\n",
    "    ───────────────────────────────────────────────────────────────────────\n",
    "    \"\"\"\n",
    "    def __init__(\n",
    "        self,\n",
    "        audio_dim: int = 768,\n",
    "        tab_dim:   int = 10,         # Dataset에서 전달\n",
    "        tab_emb:   int = 64,\n",
    "        rnn_hid:   int = 128,\n",
    "        lr: float        = 1e-3,\n",
    "        pad_value: float = PAD_CRS,\n",
    "        max_crs: int     = 5,\n",
    "        tol: int         = 1,\n",
    "        λ_main: float    = 1.0,\n",
    "        λ_aux:  float    = 0.3,\n",
    "        α_weight: float  = 0.5,      # severe 가중치\n",
    "        num_classes: int = 7,        # 0–6 (혹은 0–5 + padding)\n",
    "    ):\n",
    "        super().__init__()\n",
    "        self.save_hyperparameters()\n",
    "\n",
    "        # ── 네트워크\n",
    "        self.tab_enc   = TabularEncoder(tab_dim, 64, tab_emb)\n",
    "        self.rnn       = nn.GRU(audio_dim + tab_emb, rnn_hid,\n",
    "                                batch_first=True)\n",
    "        self.head_aux  = nn.Linear(rnn_hid, 1)   # (B,Tmax,1)\n",
    "        self.head_main = nn.Linear(rnn_hid, 1)   # (B,1)\n",
    "\n",
    "        # ── 손실 & 메트릭\n",
    "        self.pad_value = pad_value\n",
    "        self.λ_main    = λ_main\n",
    "        self.λ_aux     = λ_aux\n",
    "        self.α         = α_weight\n",
    "        self.num_classes = num_classes\n",
    "\n",
    "        self.mse = nn.MSELoss(reduction=\"none\")\n",
    "\n",
    "        # 주‑과제 기준 메트릭\n",
    "        self.train_mae = torchmetrics.MeanAbsoluteError()\n",
    "        self.val_mae   = torchmetrics.MeanAbsoluteError()\n",
    "        self.test_mae  = torchmetrics.MeanAbsoluteError()\n",
    "\n",
    "        self.train_rmse = torchmetrics.MeanSquaredError(squared=False)\n",
    "        self.val_rmse   = torchmetrics.MeanSquaredError(squared=False)\n",
    "        self.test_rmse  = torchmetrics.MeanSquaredError(squared=False)\n",
    "\n",
    "        self.train_acc = torchmetrics.Accuracy(task=\"multiclass\",\n",
    "                                               num_classes=max_crs+1)\n",
    "        self.val_acc   = torchmetrics.Accuracy(task=\"multiclass\",\n",
    "                                               num_classes=max_crs+1)\n",
    "        self.test_acc  = torchmetrics.Accuracy(task=\"multiclass\",\n",
    "                                               num_classes=max_crs+1)\n",
    "\n",
    "        self.tol = tol\n",
    "        self.train_acc_tol = torchmetrics.SumMetric()\n",
    "        self.val_acc_tol   = torchmetrics.SumMetric()\n",
    "        self.test_acc_tol  = torchmetrics.SumMetric()\n",
    "        self.train_cnt     = torchmetrics.SumMetric()\n",
    "        self.val_cnt       = torchmetrics.SumMetric()\n",
    "        self.test_cnt      = torchmetrics.SumMetric()\n",
    "\n",
    "        self.train_auroc = MulticlassAUROC(num_classes=num_classes)\n",
    "        self.val_auroc   = MulticlassAUROC(num_classes=num_classes)\n",
    "        self.test_auroc  = MulticlassAUROC(num_classes=num_classes)\n",
    "\n",
    "    # ────────────────────────────────────────────────────────────── forward\n",
    "    def forward(self, audio, tab, lengths):\n",
    "        \"\"\"\n",
    "        audio : (B, Tmax, 768)\n",
    "        tab   : (B, Tmax, F)\n",
    "        lengths : 실제 길이  (B,)\n",
    "        \"\"\"\n",
    "        tab_f   = self.tab_enc(tab)                     # (B,T,tab_emb)\n",
    "        fused   = torch.cat([audio, tab_f], dim=-1)     # (B,T,D)\n",
    "\n",
    "        packed  = nn.utils.rnn.pack_padded_sequence(\n",
    "            fused, lengths.cpu(), batch_first=True, enforce_sorted=False\n",
    "        )\n",
    "        packed_out, h_n = self.rnn(packed)\n",
    "        out, _ = nn.utils.rnn.pad_packed_sequence(\n",
    "            packed_out, batch_first=True\n",
    "        )                                               # (B,Tmax,H)\n",
    "\n",
    "        pred_aux  = self.head_aux(out).squeeze(-1)      # (B,Tmax)\n",
    "        pred_main = self.head_main(h_n[0]).squeeze(-1)  # (B,)\n",
    "        return pred_aux, pred_main\n",
    "\n",
    "    # ────────────────────────────────────────────────────────────── step 공통\n",
    "    def _step(self, batch, stage):\n",
    "        audio, tab, crs_aux, crs_next, lengths, _ = batch\n",
    "        pred_aux, pred_main = self(audio, tab, lengths)\n",
    "\n",
    "        # Aux 마스킹\n",
    "        mask = (crs_aux != self.pad_value)          # (B,T)\n",
    "        aux_v = pred_aux[mask]\n",
    "        targ_aux = crs_aux[mask]\n",
    "\n",
    "        # Severe weight (1 + α * CRS)\n",
    "        w_aux = 1.0 + self.α * targ_aux\n",
    "        loss_aux  = (w_aux * (aux_v - targ_aux) ** 2).mean()\n",
    "\n",
    "        # Main loss\n",
    "        w_main = 1.0 + self.α * crs_next\n",
    "        loss_main = (w_main * (pred_main - crs_next) ** 2).mean()\n",
    "\n",
    "        loss = self.λ_main * loss_main + self.λ_aux * loss_aux\n",
    "        self.log(f\"{stage}_loss\", loss, prog_bar=(stage != \"test\"),\n",
    "                 batch_size=len(lengths))\n",
    "\n",
    "        # ── 메트릭 (주‑과제 기준) ─────────────────────────────────────\n",
    "        pred_round = torch.clamp(torch.round(pred_main), 0, 5).long()\n",
    "        targ_long  = crs_next.long()\n",
    "        logits     = torch.nn.functional.one_hot(pred_round,\n",
    "                                                 num_classes=self.num_classes) \\\n",
    "                                      .float()\n",
    "\n",
    "        def upd(metric, *args):\n",
    "            getattr(self, f\"{stage}_{metric}\").update(*args)\n",
    "\n",
    "        upd(\"mae\",  pred_main, crs_next)\n",
    "        upd(\"rmse\", pred_main, crs_next)\n",
    "        upd(\"acc\",  pred_round, targ_long)\n",
    "        upd(\"auroc\", logits,    targ_long)\n",
    "\n",
    "        within_tol = (torch.abs(pred_main - crs_next) <= self.tol).float().sum()\n",
    "        upd(\"acc_tol\", within_tol)\n",
    "        upd(\"cnt\",     torch.tensor(crs_next.numel(), device=self.device))\n",
    "\n",
    "        return loss\n",
    "\n",
    "    # ────────────────────────────────────────────────────────────── hooks\n",
    "    def training_step(self, batch, batch_idx):   return self._step(batch, \"train\")\n",
    "    def validation_step(self, batch, batch_idx): self._step(batch, \"val\")\n",
    "    def test_step(self, batch, batch_idx):       self._step(batch, \"test\")\n",
    "\n",
    "    def _epoch_end(self, stage):\n",
    "        mae  = getattr(self, f\"{stage}_mae\").compute()\n",
    "        rmse = getattr(self, f\"{stage}_rmse\").compute()\n",
    "        acc  = getattr(self, f\"{stage}_acc\").compute()\n",
    "        auroc = getattr(self, f\"{stage}_auroc\").compute()\n",
    "        acc_tol = getattr(self, f\"{stage}_acc_tol\").compute() \\\n",
    "                  / getattr(self, f\"{stage}_cnt\").compute()\n",
    "\n",
    "        self.log_dict({\n",
    "            f\"{stage}_mae\": mae,\n",
    "            f\"{stage}_rmse\": rmse,\n",
    "            f\"{stage}_acc\": acc,\n",
    "            f\"{stage}_acc±{self.tol}\": acc_tol,\n",
    "            f\"{stage}_auroc\": auroc,\n",
    "        }, prog_bar=True)\n",
    "\n",
    "        for key in [\"mae\", \"rmse\", \"acc\", \"acc_tol\", \"cnt\", \"auroc\"]:\n",
    "            getattr(self, f\"{stage}_{key}\").reset()\n",
    "\n",
    "    def on_train_epoch_end(self):      self._epoch_end(\"train\")\n",
    "    def on_validation_epoch_end(self): self._epoch_end(\"val\")\n",
    "    def on_test_epoch_end(self):       self._epoch_end(\"test\")\n",
    "\n",
    "    # ───────────────────────────────────────────────────────────── optim\n",
    "    def configure_optimizers(self):\n",
    "        return torch.optim.Adam(self.parameters(), lr=self.hparams.lr)\n",
    "\n",
    "\n",
    "# ──────────────────────────────────────────────────────────────────────────────\n",
    "# 5. 데이터 준비\n",
    "# ──────────────────────────────────────────────────────────────────────────────\n",
    "dataset = CRSTimeSeriesDataset(\n",
    "    meta_csv      = \"data/Yeo/Sheet 1-Tabular_asthma_data.csv\",\n",
    "    soundlist_npy = \"feature/yeo_eval/sound_dir_loc.npy\",\n",
    "    emb_npy       = \"feature/yeo_eval/operaCT768_feature.npy\",\n",
    ")\n",
    "\n",
    "# Stratified split이 어려우므로 동일 seed random_split\n",
    "n = len(dataset)\n",
    "g = torch.Generator().manual_seed(38)\n",
    "val_len  = int(n * 0.15)\n",
    "test_len = int(n * 0.15)\n",
    "train_len = n - val_len - test_len\n",
    "train_ds, val_ds, test_ds = random_split(dataset,\n",
    "                                         [train_len, val_len, test_len],\n",
    "                                         generator=g)\n",
    "\n",
    "batch_size = 3\n",
    "train_loader = DataLoader(train_ds, batch_size=batch_size,\n",
    "                          shuffle=True,  collate_fn=collate_pad)\n",
    "val_loader   = DataLoader(val_ds,   batch_size=batch_size,\n",
    "                          shuffle=False, collate_fn=collate_pad)\n",
    "test_loader  = DataLoader(test_ds,  batch_size=batch_size,\n",
    "                          shuffle=False, collate_fn=collate_pad)\n",
    "\n",
    "\n",
    "# ──────────────────────────────────────────────────────────────────────────────\n",
    "# 6. 학습\n",
    "# ──────────────────────────────────────────────────────────────────────────────\n",
    "model = AudioTabularRNN(\n",
    "    audio_dim = 768,\n",
    "    tab_dim   = dataset.tab_dim,\n",
    "    tab_emb   = 64,\n",
    "    rnn_hid   = 128,\n",
    "    lr        = 1e-3,\n",
    "    pad_value = PAD_CRS,\n",
    "    λ_main    = 1.0,\n",
    "    λ_aux     = 0.3,\n",
    "    α_weight  = 0.5,     # severe 가중치\n",
    ")\n",
    "\n",
    "trainer = pl.Trainer(\n",
    "    max_epochs = 30,\n",
    "    accelerator = \"gpu\" if torch.cuda.is_available() else \"cpu\",\n",
    "    devices     = 1,\n",
    "    deterministic = True,\n",
    ")\n",
    "\n",
    "trainer.fit(model, train_loader, val_loader)\n",
    "trainer.test(model, test_loader)\n"
   ]
  },
  {
   "cell_type": "code",
   "execution_count": 28,
   "id": "c3ff082b-530a-4a43-8e33-6ac0166bc2f4",
   "metadata": {},
   "outputs": [
    {
     "data": {
      "text/plain": [
       "['WEBSS-003', 'WEBSS-004', 'WEBSS-005', 'WEBSS-006', 'WEBSS-007']"
      ]
     },
     "execution_count": 28,
     "metadata": {},
     "output_type": "execute_result"
    }
   ],
   "source": [
    "dataset.pids"
   ]
  },
  {
   "cell_type": "code",
   "execution_count": null,
   "id": "6dc9b4c5-74ad-4c87-b597-53bdc21e1a84",
   "metadata": {},
   "outputs": [],
   "source": []
  },
  {
   "cell_type": "code",
   "execution_count": 30,
   "id": "f7198894-6d04-4b95-857f-64883ede9a31",
   "metadata": {},
   "outputs": [
    {
     "name": "stderr",
     "output_type": "stream",
     "text": [
      "GPU available: True (cuda), used: True\n",
      "TPU available: False, using: 0 TPU cores\n",
      "IPU available: False, using: 0 IPUs\n",
      "HPU available: False, using: 0 HPUs\n",
      "LOCAL_RANK: 0 - CUDA_VISIBLE_DEVICES: [0,1,2,3,4,5,6]\n",
      "\n",
      "   | Name          | Type               | Params\n",
      "------------------------------------------------------\n",
      "0  | tab_enc       | TabularEncoder     | 4.9 K \n",
      "1  | rnn           | GRU                | 369 K \n",
      "2  | head          | Linear             | 129   \n",
      "3  | criterion     | MSELoss            | 0     \n",
      "4  | train_mae     | MeanAbsoluteError  | 0     \n",
      "5  | val_mae       | MeanAbsoluteError  | 0     \n",
      "6  | test_mae      | MeanAbsoluteError  | 0     \n",
      "7  | train_rmse    | MeanSquaredError   | 0     \n",
      "8  | val_rmse      | MeanSquaredError   | 0     \n",
      "9  | test_rmse     | MeanSquaredError   | 0     \n",
      "10 | train_acc     | MulticlassAccuracy | 0     \n",
      "11 | val_acc       | MulticlassAccuracy | 0     \n",
      "12 | test_acc      | MulticlassAccuracy | 0     \n",
      "13 | train_acc_tol | SumMetric          | 0     \n",
      "14 | val_acc_tol   | SumMetric          | 0     \n",
      "15 | test_acc_tol  | SumMetric          | 0     \n",
      "16 | train_cnt     | SumMetric          | 0     \n",
      "17 | val_cnt       | SumMetric          | 0     \n",
      "18 | test_cnt      | SumMetric          | 0     \n",
      "19 | train_auroc   | MulticlassAUROC    | 0     \n",
      "20 | val_auroc     | MulticlassAUROC    | 0     \n",
      "21 | test_auroc    | MulticlassAUROC    | 0     \n",
      "------------------------------------------------------\n",
      "374 K     Trainable params\n",
      "0         Non-trainable params\n",
      "374 K     Total params\n",
      "1.498     Total estimated model params size (MB)\n"
     ]
    },
    {
     "data": {
      "application/vnd.jupyter.widget-view+json": {
       "model_id": "c767c147d8554eafa3bf49ed9da86f5f",
       "version_major": 2,
       "version_minor": 0
      },
      "text/plain": [
       "Sanity Checking: |                                                                                            …"
      ]
     },
     "metadata": {},
     "output_type": "display_data"
    },
    {
     "data": {
      "application/vnd.jupyter.widget-view+json": {
       "model_id": "2f62670db77647e9aef4ebeae6d969f6",
       "version_major": 2,
       "version_minor": 0
      },
      "text/plain": [
       "Training: |                                                                                                   …"
      ]
     },
     "metadata": {},
     "output_type": "display_data"
    },
    {
     "data": {
      "application/vnd.jupyter.widget-view+json": {
       "model_id": "1eb4b82db2194c14ae7f552754adaabd",
       "version_major": 2,
       "version_minor": 0
      },
      "text/plain": [
       "Validation: |                                                                                                 …"
      ]
     },
     "metadata": {},
     "output_type": "display_data"
    },
    {
     "data": {
      "application/vnd.jupyter.widget-view+json": {
       "model_id": "d8a6a84dad19416caf4cbc01bb423cf1",
       "version_major": 2,
       "version_minor": 0
      },
      "text/plain": [
       "Validation: |                                                                                                 …"
      ]
     },
     "metadata": {},
     "output_type": "display_data"
    },
    {
     "data": {
      "application/vnd.jupyter.widget-view+json": {
       "model_id": "5c3f3e94abce42c688269349a75fc7fd",
       "version_major": 2,
       "version_minor": 0
      },
      "text/plain": [
       "Validation: |                                                                                                 …"
      ]
     },
     "metadata": {},
     "output_type": "display_data"
    },
    {
     "data": {
      "application/vnd.jupyter.widget-view+json": {
       "model_id": "70906fdf97d64a4ba993efac58323c95",
       "version_major": 2,
       "version_minor": 0
      },
      "text/plain": [
       "Validation: |                                                                                                 …"
      ]
     },
     "metadata": {},
     "output_type": "display_data"
    },
    {
     "data": {
      "application/vnd.jupyter.widget-view+json": {
       "model_id": "ab357e913af5464787e722228788ab5e",
       "version_major": 2,
       "version_minor": 0
      },
      "text/plain": [
       "Validation: |                                                                                                 …"
      ]
     },
     "metadata": {},
     "output_type": "display_data"
    },
    {
     "data": {
      "application/vnd.jupyter.widget-view+json": {
       "model_id": "77570a5e6a9542bda6bd4745332bed86",
       "version_major": 2,
       "version_minor": 0
      },
      "text/plain": [
       "Validation: |                                                                                                 …"
      ]
     },
     "metadata": {},
     "output_type": "display_data"
    },
    {
     "data": {
      "application/vnd.jupyter.widget-view+json": {
       "model_id": "7a329012dbe64dc2abd0de5d6f77b32b",
       "version_major": 2,
       "version_minor": 0
      },
      "text/plain": [
       "Validation: |                                                                                                 …"
      ]
     },
     "metadata": {},
     "output_type": "display_data"
    },
    {
     "data": {
      "application/vnd.jupyter.widget-view+json": {
       "model_id": "279d9c37cfcd41bd82673cce45e97cd6",
       "version_major": 2,
       "version_minor": 0
      },
      "text/plain": [
       "Validation: |                                                                                                 …"
      ]
     },
     "metadata": {},
     "output_type": "display_data"
    },
    {
     "data": {
      "application/vnd.jupyter.widget-view+json": {
       "model_id": "2f70de9a2a3949c49c827e12b85e4ce4",
       "version_major": 2,
       "version_minor": 0
      },
      "text/plain": [
       "Validation: |                                                                                                 …"
      ]
     },
     "metadata": {},
     "output_type": "display_data"
    },
    {
     "data": {
      "application/vnd.jupyter.widget-view+json": {
       "model_id": "203a8692cac34ef0b8c6153e38ba83d0",
       "version_major": 2,
       "version_minor": 0
      },
      "text/plain": [
       "Validation: |                                                                                                 …"
      ]
     },
     "metadata": {},
     "output_type": "display_data"
    },
    {
     "data": {
      "application/vnd.jupyter.widget-view+json": {
       "model_id": "70bef2dd4fb44743a2ba1676bc9945a4",
       "version_major": 2,
       "version_minor": 0
      },
      "text/plain": [
       "Validation: |                                                                                                 …"
      ]
     },
     "metadata": {},
     "output_type": "display_data"
    },
    {
     "data": {
      "application/vnd.jupyter.widget-view+json": {
       "model_id": "19a387cab84d48e2bd32ce01af57b7df",
       "version_major": 2,
       "version_minor": 0
      },
      "text/plain": [
       "Validation: |                                                                                                 …"
      ]
     },
     "metadata": {},
     "output_type": "display_data"
    },
    {
     "data": {
      "application/vnd.jupyter.widget-view+json": {
       "model_id": "f84ed781dbe44ad9ad6f6e58c12bb799",
       "version_major": 2,
       "version_minor": 0
      },
      "text/plain": [
       "Validation: |                                                                                                 …"
      ]
     },
     "metadata": {},
     "output_type": "display_data"
    },
    {
     "data": {
      "application/vnd.jupyter.widget-view+json": {
       "model_id": "8a9ed4dc93d84af68e3bd3f0c11d0aec",
       "version_major": 2,
       "version_minor": 0
      },
      "text/plain": [
       "Validation: |                                                                                                 …"
      ]
     },
     "metadata": {},
     "output_type": "display_data"
    },
    {
     "data": {
      "application/vnd.jupyter.widget-view+json": {
       "model_id": "a3f73b177abb49c3bada48181f493cda",
       "version_major": 2,
       "version_minor": 0
      },
      "text/plain": [
       "Validation: |                                                                                                 …"
      ]
     },
     "metadata": {},
     "output_type": "display_data"
    },
    {
     "data": {
      "application/vnd.jupyter.widget-view+json": {
       "model_id": "93cd836342dc4ed8919dd77dc9c87b7b",
       "version_major": 2,
       "version_minor": 0
      },
      "text/plain": [
       "Validation: |                                                                                                 …"
      ]
     },
     "metadata": {},
     "output_type": "display_data"
    },
    {
     "data": {
      "application/vnd.jupyter.widget-view+json": {
       "model_id": "d932f64e60374edaadf40ee08ef5129f",
       "version_major": 2,
       "version_minor": 0
      },
      "text/plain": [
       "Validation: |                                                                                                 …"
      ]
     },
     "metadata": {},
     "output_type": "display_data"
    },
    {
     "data": {
      "application/vnd.jupyter.widget-view+json": {
       "model_id": "a543b0b26f084ee99307207c4ccc872d",
       "version_major": 2,
       "version_minor": 0
      },
      "text/plain": [
       "Validation: |                                                                                                 …"
      ]
     },
     "metadata": {},
     "output_type": "display_data"
    },
    {
     "data": {
      "application/vnd.jupyter.widget-view+json": {
       "model_id": "26857f944f9b42dfa63cc44d345113ee",
       "version_major": 2,
       "version_minor": 0
      },
      "text/plain": [
       "Validation: |                                                                                                 …"
      ]
     },
     "metadata": {},
     "output_type": "display_data"
    },
    {
     "data": {
      "application/vnd.jupyter.widget-view+json": {
       "model_id": "283f59ce43754f31b21f42d91c292cdd",
       "version_major": 2,
       "version_minor": 0
      },
      "text/plain": [
       "Validation: |                                                                                                 …"
      ]
     },
     "metadata": {},
     "output_type": "display_data"
    },
    {
     "data": {
      "application/vnd.jupyter.widget-view+json": {
       "model_id": "04935c3b48f04ee486d80f8d1548b2a5",
       "version_major": 2,
       "version_minor": 0
      },
      "text/plain": [
       "Validation: |                                                                                                 …"
      ]
     },
     "metadata": {},
     "output_type": "display_data"
    },
    {
     "data": {
      "application/vnd.jupyter.widget-view+json": {
       "model_id": "860123e2e95048db8ce637c889ee8810",
       "version_major": 2,
       "version_minor": 0
      },
      "text/plain": [
       "Validation: |                                                                                                 …"
      ]
     },
     "metadata": {},
     "output_type": "display_data"
    },
    {
     "data": {
      "application/vnd.jupyter.widget-view+json": {
       "model_id": "fbb9de14e4db4875b735658ef002a661",
       "version_major": 2,
       "version_minor": 0
      },
      "text/plain": [
       "Validation: |                                                                                                 …"
      ]
     },
     "metadata": {},
     "output_type": "display_data"
    },
    {
     "data": {
      "application/vnd.jupyter.widget-view+json": {
       "model_id": "bb03ef95ed86472086c0aa07abc95810",
       "version_major": 2,
       "version_minor": 0
      },
      "text/plain": [
       "Validation: |                                                                                                 …"
      ]
     },
     "metadata": {},
     "output_type": "display_data"
    },
    {
     "data": {
      "application/vnd.jupyter.widget-view+json": {
       "model_id": "1a144811a06946f88a91834477bfa715",
       "version_major": 2,
       "version_minor": 0
      },
      "text/plain": [
       "Validation: |                                                                                                 …"
      ]
     },
     "metadata": {},
     "output_type": "display_data"
    },
    {
     "data": {
      "application/vnd.jupyter.widget-view+json": {
       "model_id": "419e40c6122047db981b72ae7033fd2d",
       "version_major": 2,
       "version_minor": 0
      },
      "text/plain": [
       "Validation: |                                                                                                 …"
      ]
     },
     "metadata": {},
     "output_type": "display_data"
    },
    {
     "data": {
      "application/vnd.jupyter.widget-view+json": {
       "model_id": "4d87595fedd443979d068932649df410",
       "version_major": 2,
       "version_minor": 0
      },
      "text/plain": [
       "Validation: |                                                                                                 …"
      ]
     },
     "metadata": {},
     "output_type": "display_data"
    },
    {
     "data": {
      "application/vnd.jupyter.widget-view+json": {
       "model_id": "a771c6388572412eb8d3aec68b3cb479",
       "version_major": 2,
       "version_minor": 0
      },
      "text/plain": [
       "Validation: |                                                                                                 …"
      ]
     },
     "metadata": {},
     "output_type": "display_data"
    },
    {
     "data": {
      "application/vnd.jupyter.widget-view+json": {
       "model_id": "2cc51588ebaf4414906ddf12729f9e5e",
       "version_major": 2,
       "version_minor": 0
      },
      "text/plain": [
       "Validation: |                                                                                                 …"
      ]
     },
     "metadata": {},
     "output_type": "display_data"
    },
    {
     "data": {
      "application/vnd.jupyter.widget-view+json": {
       "model_id": "a50f8c1bceee4e418ec6fc70f02254ef",
       "version_major": 2,
       "version_minor": 0
      },
      "text/plain": [
       "Validation: |                                                                                                 …"
      ]
     },
     "metadata": {},
     "output_type": "display_data"
    },
    {
     "name": "stderr",
     "output_type": "stream",
     "text": [
      "`Trainer.fit` stopped: `max_epochs=30` reached.\n",
      "LOCAL_RANK: 0 - CUDA_VISIBLE_DEVICES: [0,1,2,3,4,5,6]\n"
     ]
    },
    {
     "data": {
      "application/vnd.jupyter.widget-view+json": {
       "model_id": "7d987c10c8c44b78b31c92e9e6097214",
       "version_major": 2,
       "version_minor": 0
      },
      "text/plain": [
       "Testing: |                                                                                                    …"
      ]
     },
     "metadata": {},
     "output_type": "display_data"
    },
    {
     "name": "stderr",
     "output_type": "stream",
     "text": [
      "GPU available: True (cuda), used: True\n",
      "TPU available: False, using: 0 TPU cores\n",
      "IPU available: False, using: 0 IPUs\n",
      "HPU available: False, using: 0 HPUs\n",
      "LOCAL_RANK: 0 - CUDA_VISIBLE_DEVICES: [0,1,2,3,4,5,6]\n",
      "\n",
      "   | Name          | Type               | Params\n",
      "------------------------------------------------------\n",
      "0  | tab_enc       | TabularEncoder     | 4.9 K \n",
      "1  | rnn           | GRU                | 369 K \n",
      "2  | head          | Linear             | 129   \n",
      "3  | criterion     | MSELoss            | 0     \n",
      "4  | train_mae     | MeanAbsoluteError  | 0     \n",
      "5  | val_mae       | MeanAbsoluteError  | 0     \n",
      "6  | test_mae      | MeanAbsoluteError  | 0     \n",
      "7  | train_rmse    | MeanSquaredError   | 0     \n",
      "8  | val_rmse      | MeanSquaredError   | 0     \n",
      "9  | test_rmse     | MeanSquaredError   | 0     \n",
      "10 | train_acc     | MulticlassAccuracy | 0     \n",
      "11 | val_acc       | MulticlassAccuracy | 0     \n",
      "12 | test_acc      | MulticlassAccuracy | 0     \n",
      "13 | train_acc_tol | SumMetric          | 0     \n",
      "14 | val_acc_tol   | SumMetric          | 0     \n",
      "15 | test_acc_tol  | SumMetric          | 0     \n",
      "16 | train_cnt     | SumMetric          | 0     \n",
      "17 | val_cnt       | SumMetric          | 0     \n",
      "18 | test_cnt      | SumMetric          | 0     \n",
      "19 | train_auroc   | MulticlassAUROC    | 0     \n",
      "20 | val_auroc     | MulticlassAUROC    | 0     \n",
      "21 | test_auroc    | MulticlassAUROC    | 0     \n",
      "------------------------------------------------------\n",
      "374 K     Trainable params\n",
      "0         Non-trainable params\n",
      "374 K     Total params\n",
      "1.498     Total estimated model params size (MB)\n"
     ]
    },
    {
     "name": "stdout",
     "output_type": "stream",
     "text": [
      "Fold 1 (Test PID: WEBSS-003): {'test_loss': 0.22738617658615112, 'test_mae': 0.4768502712249756, 'test_rmse': 0.4768502712249756, 'test_acc': 1.0, 'test_acc±1': 1.0, 'auroc': 0.0, 'fold': 1, 'test_pid': 'WEBSS-003'}\n"
     ]
    },
    {
     "data": {
      "application/vnd.jupyter.widget-view+json": {
       "model_id": "0a06c0b1678242119e9a9158a8e97eba",
       "version_major": 2,
       "version_minor": 0
      },
      "text/plain": [
       "Sanity Checking: |                                                                                            …"
      ]
     },
     "metadata": {},
     "output_type": "display_data"
    },
    {
     "data": {
      "application/vnd.jupyter.widget-view+json": {
       "model_id": "30376e63db444db5bed968bc35929af8",
       "version_major": 2,
       "version_minor": 0
      },
      "text/plain": [
       "Training: |                                                                                                   …"
      ]
     },
     "metadata": {},
     "output_type": "display_data"
    },
    {
     "data": {
      "application/vnd.jupyter.widget-view+json": {
       "model_id": "849ce44fce6d436d8d09bdabcde3dd51",
       "version_major": 2,
       "version_minor": 0
      },
      "text/plain": [
       "Validation: |                                                                                                 …"
      ]
     },
     "metadata": {},
     "output_type": "display_data"
    },
    {
     "data": {
      "application/vnd.jupyter.widget-view+json": {
       "model_id": "e76420b8833e42859cc719618bde725e",
       "version_major": 2,
       "version_minor": 0
      },
      "text/plain": [
       "Validation: |                                                                                                 …"
      ]
     },
     "metadata": {},
     "output_type": "display_data"
    },
    {
     "data": {
      "application/vnd.jupyter.widget-view+json": {
       "model_id": "95b905ec0a4c410c83d550d3d1a2b19f",
       "version_major": 2,
       "version_minor": 0
      },
      "text/plain": [
       "Validation: |                                                                                                 …"
      ]
     },
     "metadata": {},
     "output_type": "display_data"
    },
    {
     "data": {
      "application/vnd.jupyter.widget-view+json": {
       "model_id": "e771d19ac4bb4ad0b3e97aaa59b0bea8",
       "version_major": 2,
       "version_minor": 0
      },
      "text/plain": [
       "Validation: |                                                                                                 …"
      ]
     },
     "metadata": {},
     "output_type": "display_data"
    },
    {
     "data": {
      "application/vnd.jupyter.widget-view+json": {
       "model_id": "05359820e5054569a3237c5b33730146",
       "version_major": 2,
       "version_minor": 0
      },
      "text/plain": [
       "Validation: |                                                                                                 …"
      ]
     },
     "metadata": {},
     "output_type": "display_data"
    },
    {
     "data": {
      "application/vnd.jupyter.widget-view+json": {
       "model_id": "26919398f0d248babdb0b9deee73efb6",
       "version_major": 2,
       "version_minor": 0
      },
      "text/plain": [
       "Validation: |                                                                                                 …"
      ]
     },
     "metadata": {},
     "output_type": "display_data"
    },
    {
     "data": {
      "application/vnd.jupyter.widget-view+json": {
       "model_id": "c098ebd3ba8e4126b744f756dfffc4b6",
       "version_major": 2,
       "version_minor": 0
      },
      "text/plain": [
       "Validation: |                                                                                                 …"
      ]
     },
     "metadata": {},
     "output_type": "display_data"
    },
    {
     "data": {
      "application/vnd.jupyter.widget-view+json": {
       "model_id": "5c578effb2e443b8b5a2a67e6b47c179",
       "version_major": 2,
       "version_minor": 0
      },
      "text/plain": [
       "Validation: |                                                                                                 …"
      ]
     },
     "metadata": {},
     "output_type": "display_data"
    },
    {
     "data": {
      "application/vnd.jupyter.widget-view+json": {
       "model_id": "d8d3f938b917456dad54eaf7daaa58c9",
       "version_major": 2,
       "version_minor": 0
      },
      "text/plain": [
       "Validation: |                                                                                                 …"
      ]
     },
     "metadata": {},
     "output_type": "display_data"
    },
    {
     "data": {
      "application/vnd.jupyter.widget-view+json": {
       "model_id": "10d2b7034b4649c58ea9b4a76992c447",
       "version_major": 2,
       "version_minor": 0
      },
      "text/plain": [
       "Validation: |                                                                                                 …"
      ]
     },
     "metadata": {},
     "output_type": "display_data"
    },
    {
     "data": {
      "application/vnd.jupyter.widget-view+json": {
       "model_id": "333198dad9384b0dbb0535539d6da446",
       "version_major": 2,
       "version_minor": 0
      },
      "text/plain": [
       "Validation: |                                                                                                 …"
      ]
     },
     "metadata": {},
     "output_type": "display_data"
    },
    {
     "data": {
      "application/vnd.jupyter.widget-view+json": {
       "model_id": "2e3a2ae491f54887a189bfa4e6d92775",
       "version_major": 2,
       "version_minor": 0
      },
      "text/plain": [
       "Validation: |                                                                                                 …"
      ]
     },
     "metadata": {},
     "output_type": "display_data"
    },
    {
     "data": {
      "application/vnd.jupyter.widget-view+json": {
       "model_id": "29f311bdf16044b084000088e051f192",
       "version_major": 2,
       "version_minor": 0
      },
      "text/plain": [
       "Validation: |                                                                                                 …"
      ]
     },
     "metadata": {},
     "output_type": "display_data"
    },
    {
     "data": {
      "application/vnd.jupyter.widget-view+json": {
       "model_id": "0320cea6b51b46a883019cd495c3a722",
       "version_major": 2,
       "version_minor": 0
      },
      "text/plain": [
       "Validation: |                                                                                                 …"
      ]
     },
     "metadata": {},
     "output_type": "display_data"
    },
    {
     "data": {
      "application/vnd.jupyter.widget-view+json": {
       "model_id": "32cf21d8e2e647018143f539133c7192",
       "version_major": 2,
       "version_minor": 0
      },
      "text/plain": [
       "Validation: |                                                                                                 …"
      ]
     },
     "metadata": {},
     "output_type": "display_data"
    },
    {
     "data": {
      "application/vnd.jupyter.widget-view+json": {
       "model_id": "aedd876504f647b795a43ee5d0a801bd",
       "version_major": 2,
       "version_minor": 0
      },
      "text/plain": [
       "Validation: |                                                                                                 …"
      ]
     },
     "metadata": {},
     "output_type": "display_data"
    },
    {
     "data": {
      "application/vnd.jupyter.widget-view+json": {
       "model_id": "a9e70b5f3d764f1a9d0eda092eb1c570",
       "version_major": 2,
       "version_minor": 0
      },
      "text/plain": [
       "Validation: |                                                                                                 …"
      ]
     },
     "metadata": {},
     "output_type": "display_data"
    },
    {
     "data": {
      "application/vnd.jupyter.widget-view+json": {
       "model_id": "a8e22fa34ba64d6da5632e19b31f293e",
       "version_major": 2,
       "version_minor": 0
      },
      "text/plain": [
       "Validation: |                                                                                                 …"
      ]
     },
     "metadata": {},
     "output_type": "display_data"
    },
    {
     "data": {
      "application/vnd.jupyter.widget-view+json": {
       "model_id": "66d5d0247e59460db1f3ad33f848b65c",
       "version_major": 2,
       "version_minor": 0
      },
      "text/plain": [
       "Validation: |                                                                                                 …"
      ]
     },
     "metadata": {},
     "output_type": "display_data"
    },
    {
     "data": {
      "application/vnd.jupyter.widget-view+json": {
       "model_id": "95a223ef48944c02959d0e4c8ea1c027",
       "version_major": 2,
       "version_minor": 0
      },
      "text/plain": [
       "Validation: |                                                                                                 …"
      ]
     },
     "metadata": {},
     "output_type": "display_data"
    },
    {
     "data": {
      "application/vnd.jupyter.widget-view+json": {
       "model_id": "9b579af44d7d409f9ed51605dfe91780",
       "version_major": 2,
       "version_minor": 0
      },
      "text/plain": [
       "Validation: |                                                                                                 …"
      ]
     },
     "metadata": {},
     "output_type": "display_data"
    },
    {
     "data": {
      "application/vnd.jupyter.widget-view+json": {
       "model_id": "a63ec3feaae14d24822e5b3d6475df5e",
       "version_major": 2,
       "version_minor": 0
      },
      "text/plain": [
       "Validation: |                                                                                                 …"
      ]
     },
     "metadata": {},
     "output_type": "display_data"
    },
    {
     "data": {
      "application/vnd.jupyter.widget-view+json": {
       "model_id": "4fbaa6e712f84bc18085b7f084b1ab83",
       "version_major": 2,
       "version_minor": 0
      },
      "text/plain": [
       "Validation: |                                                                                                 …"
      ]
     },
     "metadata": {},
     "output_type": "display_data"
    },
    {
     "data": {
      "application/vnd.jupyter.widget-view+json": {
       "model_id": "8f47b23aba3d4e4cbdf4439e4f27fb0f",
       "version_major": 2,
       "version_minor": 0
      },
      "text/plain": [
       "Validation: |                                                                                                 …"
      ]
     },
     "metadata": {},
     "output_type": "display_data"
    },
    {
     "data": {
      "application/vnd.jupyter.widget-view+json": {
       "model_id": "9778b7f83bb446cda7ac8b55ad7d04c0",
       "version_major": 2,
       "version_minor": 0
      },
      "text/plain": [
       "Validation: |                                                                                                 …"
      ]
     },
     "metadata": {},
     "output_type": "display_data"
    },
    {
     "data": {
      "application/vnd.jupyter.widget-view+json": {
       "model_id": "723b236c79804396acb7e0346a21ca1b",
       "version_major": 2,
       "version_minor": 0
      },
      "text/plain": [
       "Validation: |                                                                                                 …"
      ]
     },
     "metadata": {},
     "output_type": "display_data"
    },
    {
     "data": {
      "application/vnd.jupyter.widget-view+json": {
       "model_id": "2ef9f470dbb64477b7ed2688ef2c33ef",
       "version_major": 2,
       "version_minor": 0
      },
      "text/plain": [
       "Validation: |                                                                                                 …"
      ]
     },
     "metadata": {},
     "output_type": "display_data"
    },
    {
     "data": {
      "application/vnd.jupyter.widget-view+json": {
       "model_id": "0caa1e3ff5384bc4b1301af11cddebc8",
       "version_major": 2,
       "version_minor": 0
      },
      "text/plain": [
       "Validation: |                                                                                                 …"
      ]
     },
     "metadata": {},
     "output_type": "display_data"
    },
    {
     "data": {
      "application/vnd.jupyter.widget-view+json": {
       "model_id": "3386c551cea04ecc88170fb89b60f981",
       "version_major": 2,
       "version_minor": 0
      },
      "text/plain": [
       "Validation: |                                                                                                 …"
      ]
     },
     "metadata": {},
     "output_type": "display_data"
    },
    {
     "data": {
      "application/vnd.jupyter.widget-view+json": {
       "model_id": "bc12678458d94b6a950dd3dc81d93c4f",
       "version_major": 2,
       "version_minor": 0
      },
      "text/plain": [
       "Validation: |                                                                                                 …"
      ]
     },
     "metadata": {},
     "output_type": "display_data"
    },
    {
     "name": "stderr",
     "output_type": "stream",
     "text": [
      "`Trainer.fit` stopped: `max_epochs=30` reached.\n",
      "LOCAL_RANK: 0 - CUDA_VISIBLE_DEVICES: [0,1,2,3,4,5,6]\n"
     ]
    },
    {
     "data": {
      "application/vnd.jupyter.widget-view+json": {
       "model_id": "14630ed298d24e80a7105091175c60b4",
       "version_major": 2,
       "version_minor": 0
      },
      "text/plain": [
       "Testing: |                                                                                                    …"
      ]
     },
     "metadata": {},
     "output_type": "display_data"
    },
    {
     "name": "stderr",
     "output_type": "stream",
     "text": [
      "GPU available: True (cuda), used: True\n",
      "TPU available: False, using: 0 TPU cores\n",
      "IPU available: False, using: 0 IPUs\n",
      "HPU available: False, using: 0 HPUs\n",
      "LOCAL_RANK: 0 - CUDA_VISIBLE_DEVICES: [0,1,2,3,4,5,6]\n",
      "\n",
      "   | Name          | Type               | Params\n",
      "------------------------------------------------------\n",
      "0  | tab_enc       | TabularEncoder     | 4.9 K \n",
      "1  | rnn           | GRU                | 369 K \n",
      "2  | head          | Linear             | 129   \n",
      "3  | criterion     | MSELoss            | 0     \n",
      "4  | train_mae     | MeanAbsoluteError  | 0     \n",
      "5  | val_mae       | MeanAbsoluteError  | 0     \n",
      "6  | test_mae      | MeanAbsoluteError  | 0     \n",
      "7  | train_rmse    | MeanSquaredError   | 0     \n",
      "8  | val_rmse      | MeanSquaredError   | 0     \n",
      "9  | test_rmse     | MeanSquaredError   | 0     \n",
      "10 | train_acc     | MulticlassAccuracy | 0     \n",
      "11 | val_acc       | MulticlassAccuracy | 0     \n",
      "12 | test_acc      | MulticlassAccuracy | 0     \n",
      "13 | train_acc_tol | SumMetric          | 0     \n",
      "14 | val_acc_tol   | SumMetric          | 0     \n",
      "15 | test_acc_tol  | SumMetric          | 0     \n",
      "16 | train_cnt     | SumMetric          | 0     \n",
      "17 | val_cnt       | SumMetric          | 0     \n",
      "18 | test_cnt      | SumMetric          | 0     \n",
      "19 | train_auroc   | MulticlassAUROC    | 0     \n",
      "20 | val_auroc     | MulticlassAUROC    | 0     \n",
      "21 | test_auroc    | MulticlassAUROC    | 0     \n",
      "------------------------------------------------------\n",
      "374 K     Trainable params\n",
      "0         Non-trainable params\n",
      "374 K     Total params\n",
      "1.498     Total estimated model params size (MB)\n"
     ]
    },
    {
     "name": "stdout",
     "output_type": "stream",
     "text": [
      "Fold 2 (Test PID: WEBSS-004): {'test_loss': 1.3420618772506714, 'test_mae': 1.1584739685058594, 'test_rmse': 1.1584739685058594, 'test_acc': 0.0, 'test_acc±1': 0.0, 'auroc': 0.0, 'fold': 2, 'test_pid': 'WEBSS-004'}\n"
     ]
    },
    {
     "data": {
      "application/vnd.jupyter.widget-view+json": {
       "model_id": "355a548a64b24916b1b57954360ca7c8",
       "version_major": 2,
       "version_minor": 0
      },
      "text/plain": [
       "Sanity Checking: |                                                                                            …"
      ]
     },
     "metadata": {},
     "output_type": "display_data"
    },
    {
     "data": {
      "application/vnd.jupyter.widget-view+json": {
       "model_id": "78711da902584baf8f50de7f60611990",
       "version_major": 2,
       "version_minor": 0
      },
      "text/plain": [
       "Training: |                                                                                                   …"
      ]
     },
     "metadata": {},
     "output_type": "display_data"
    },
    {
     "data": {
      "application/vnd.jupyter.widget-view+json": {
       "model_id": "264f905775954b68af5191669f3d1239",
       "version_major": 2,
       "version_minor": 0
      },
      "text/plain": [
       "Validation: |                                                                                                 …"
      ]
     },
     "metadata": {},
     "output_type": "display_data"
    },
    {
     "data": {
      "application/vnd.jupyter.widget-view+json": {
       "model_id": "faf7ad32ebbd4bd9b0f2ef31217dd320",
       "version_major": 2,
       "version_minor": 0
      },
      "text/plain": [
       "Validation: |                                                                                                 …"
      ]
     },
     "metadata": {},
     "output_type": "display_data"
    },
    {
     "data": {
      "application/vnd.jupyter.widget-view+json": {
       "model_id": "fb631ae6383544b2a7d7e559eaaa477b",
       "version_major": 2,
       "version_minor": 0
      },
      "text/plain": [
       "Validation: |                                                                                                 …"
      ]
     },
     "metadata": {},
     "output_type": "display_data"
    },
    {
     "data": {
      "application/vnd.jupyter.widget-view+json": {
       "model_id": "0f81340ae99543f2986444ba9d88f8af",
       "version_major": 2,
       "version_minor": 0
      },
      "text/plain": [
       "Validation: |                                                                                                 …"
      ]
     },
     "metadata": {},
     "output_type": "display_data"
    },
    {
     "data": {
      "application/vnd.jupyter.widget-view+json": {
       "model_id": "cf842226360a4c678a813fe204fa83b1",
       "version_major": 2,
       "version_minor": 0
      },
      "text/plain": [
       "Validation: |                                                                                                 …"
      ]
     },
     "metadata": {},
     "output_type": "display_data"
    },
    {
     "data": {
      "application/vnd.jupyter.widget-view+json": {
       "model_id": "c61a1594745c43ec89c0557b9e14d893",
       "version_major": 2,
       "version_minor": 0
      },
      "text/plain": [
       "Validation: |                                                                                                 …"
      ]
     },
     "metadata": {},
     "output_type": "display_data"
    },
    {
     "data": {
      "application/vnd.jupyter.widget-view+json": {
       "model_id": "bb76c1ca77f64a0a9230c75ab44869b9",
       "version_major": 2,
       "version_minor": 0
      },
      "text/plain": [
       "Validation: |                                                                                                 …"
      ]
     },
     "metadata": {},
     "output_type": "display_data"
    },
    {
     "data": {
      "application/vnd.jupyter.widget-view+json": {
       "model_id": "0b63ab457a404ef98b52383668ef69f0",
       "version_major": 2,
       "version_minor": 0
      },
      "text/plain": [
       "Validation: |                                                                                                 …"
      ]
     },
     "metadata": {},
     "output_type": "display_data"
    },
    {
     "data": {
      "application/vnd.jupyter.widget-view+json": {
       "model_id": "9735defc93034576a637750120417fd2",
       "version_major": 2,
       "version_minor": 0
      },
      "text/plain": [
       "Validation: |                                                                                                 …"
      ]
     },
     "metadata": {},
     "output_type": "display_data"
    },
    {
     "data": {
      "application/vnd.jupyter.widget-view+json": {
       "model_id": "2faec89611a54c9aac2aac319bb23797",
       "version_major": 2,
       "version_minor": 0
      },
      "text/plain": [
       "Validation: |                                                                                                 …"
      ]
     },
     "metadata": {},
     "output_type": "display_data"
    },
    {
     "data": {
      "application/vnd.jupyter.widget-view+json": {
       "model_id": "68e0b6d6f62a429c84ef52ee17467ded",
       "version_major": 2,
       "version_minor": 0
      },
      "text/plain": [
       "Validation: |                                                                                                 …"
      ]
     },
     "metadata": {},
     "output_type": "display_data"
    },
    {
     "data": {
      "application/vnd.jupyter.widget-view+json": {
       "model_id": "03ab9e98a6cf4f86b7e4985fe9d8bc46",
       "version_major": 2,
       "version_minor": 0
      },
      "text/plain": [
       "Validation: |                                                                                                 …"
      ]
     },
     "metadata": {},
     "output_type": "display_data"
    },
    {
     "data": {
      "application/vnd.jupyter.widget-view+json": {
       "model_id": "85917ce9ddc149918860cd5bee0b8518",
       "version_major": 2,
       "version_minor": 0
      },
      "text/plain": [
       "Validation: |                                                                                                 …"
      ]
     },
     "metadata": {},
     "output_type": "display_data"
    },
    {
     "data": {
      "application/vnd.jupyter.widget-view+json": {
       "model_id": "5d415ceab4fa4ca1a6ec55030498f62a",
       "version_major": 2,
       "version_minor": 0
      },
      "text/plain": [
       "Validation: |                                                                                                 …"
      ]
     },
     "metadata": {},
     "output_type": "display_data"
    },
    {
     "data": {
      "application/vnd.jupyter.widget-view+json": {
       "model_id": "e40fe9d047e54151b1aa0eec30dcf6b3",
       "version_major": 2,
       "version_minor": 0
      },
      "text/plain": [
       "Validation: |                                                                                                 …"
      ]
     },
     "metadata": {},
     "output_type": "display_data"
    },
    {
     "data": {
      "application/vnd.jupyter.widget-view+json": {
       "model_id": "9ad384c22e884462ae2bd665469ef8ac",
       "version_major": 2,
       "version_minor": 0
      },
      "text/plain": [
       "Validation: |                                                                                                 …"
      ]
     },
     "metadata": {},
     "output_type": "display_data"
    },
    {
     "data": {
      "application/vnd.jupyter.widget-view+json": {
       "model_id": "3b547b4e4af74071a9432a6afda6a5c4",
       "version_major": 2,
       "version_minor": 0
      },
      "text/plain": [
       "Validation: |                                                                                                 …"
      ]
     },
     "metadata": {},
     "output_type": "display_data"
    },
    {
     "data": {
      "application/vnd.jupyter.widget-view+json": {
       "model_id": "957f7c1d495441e6bd10ad695902d798",
       "version_major": 2,
       "version_minor": 0
      },
      "text/plain": [
       "Validation: |                                                                                                 …"
      ]
     },
     "metadata": {},
     "output_type": "display_data"
    },
    {
     "data": {
      "application/vnd.jupyter.widget-view+json": {
       "model_id": "daea8dff00af4d4d8c9417390fc9006d",
       "version_major": 2,
       "version_minor": 0
      },
      "text/plain": [
       "Validation: |                                                                                                 …"
      ]
     },
     "metadata": {},
     "output_type": "display_data"
    },
    {
     "data": {
      "application/vnd.jupyter.widget-view+json": {
       "model_id": "e36dc49ce0ad4cbb8b2d40953f488a42",
       "version_major": 2,
       "version_minor": 0
      },
      "text/plain": [
       "Validation: |                                                                                                 …"
      ]
     },
     "metadata": {},
     "output_type": "display_data"
    },
    {
     "data": {
      "application/vnd.jupyter.widget-view+json": {
       "model_id": "006975894a28449c91e5c84f12db4cbf",
       "version_major": 2,
       "version_minor": 0
      },
      "text/plain": [
       "Validation: |                                                                                                 …"
      ]
     },
     "metadata": {},
     "output_type": "display_data"
    },
    {
     "data": {
      "application/vnd.jupyter.widget-view+json": {
       "model_id": "75644ba8d1a349adb831b9365e122d03",
       "version_major": 2,
       "version_minor": 0
      },
      "text/plain": [
       "Validation: |                                                                                                 …"
      ]
     },
     "metadata": {},
     "output_type": "display_data"
    },
    {
     "data": {
      "application/vnd.jupyter.widget-view+json": {
       "model_id": "34aa41288eae4d0ea2a439aa178fd7f0",
       "version_major": 2,
       "version_minor": 0
      },
      "text/plain": [
       "Validation: |                                                                                                 …"
      ]
     },
     "metadata": {},
     "output_type": "display_data"
    },
    {
     "data": {
      "application/vnd.jupyter.widget-view+json": {
       "model_id": "f013573b0a0f4d01afa4d01ac8e5a92b",
       "version_major": 2,
       "version_minor": 0
      },
      "text/plain": [
       "Validation: |                                                                                                 …"
      ]
     },
     "metadata": {},
     "output_type": "display_data"
    },
    {
     "data": {
      "application/vnd.jupyter.widget-view+json": {
       "model_id": "2aed1d22d9c54a679da1f4ed7682ac91",
       "version_major": 2,
       "version_minor": 0
      },
      "text/plain": [
       "Validation: |                                                                                                 …"
      ]
     },
     "metadata": {},
     "output_type": "display_data"
    },
    {
     "data": {
      "application/vnd.jupyter.widget-view+json": {
       "model_id": "bc1955b199c64a098e15dfa90207de09",
       "version_major": 2,
       "version_minor": 0
      },
      "text/plain": [
       "Validation: |                                                                                                 …"
      ]
     },
     "metadata": {},
     "output_type": "display_data"
    },
    {
     "data": {
      "application/vnd.jupyter.widget-view+json": {
       "model_id": "d071d127afc14ce294467fc86fc4a44f",
       "version_major": 2,
       "version_minor": 0
      },
      "text/plain": [
       "Validation: |                                                                                                 …"
      ]
     },
     "metadata": {},
     "output_type": "display_data"
    },
    {
     "data": {
      "application/vnd.jupyter.widget-view+json": {
       "model_id": "7c6c5cbed47f42d3ad1a7c87b2e8e248",
       "version_major": 2,
       "version_minor": 0
      },
      "text/plain": [
       "Validation: |                                                                                                 …"
      ]
     },
     "metadata": {},
     "output_type": "display_data"
    },
    {
     "data": {
      "application/vnd.jupyter.widget-view+json": {
       "model_id": "f9ecb084740c4db5b836cb6699d9774c",
       "version_major": 2,
       "version_minor": 0
      },
      "text/plain": [
       "Validation: |                                                                                                 …"
      ]
     },
     "metadata": {},
     "output_type": "display_data"
    },
    {
     "data": {
      "application/vnd.jupyter.widget-view+json": {
       "model_id": "0ac2a5acff1c4000b15148717aabcc73",
       "version_major": 2,
       "version_minor": 0
      },
      "text/plain": [
       "Validation: |                                                                                                 …"
      ]
     },
     "metadata": {},
     "output_type": "display_data"
    },
    {
     "name": "stderr",
     "output_type": "stream",
     "text": [
      "`Trainer.fit` stopped: `max_epochs=30` reached.\n",
      "LOCAL_RANK: 0 - CUDA_VISIBLE_DEVICES: [0,1,2,3,4,5,6]\n"
     ]
    },
    {
     "data": {
      "application/vnd.jupyter.widget-view+json": {
       "model_id": "2d717b96337d4f859b835c794ab2d892",
       "version_major": 2,
       "version_minor": 0
      },
      "text/plain": [
       "Testing: |                                                                                                    …"
      ]
     },
     "metadata": {},
     "output_type": "display_data"
    },
    {
     "name": "stderr",
     "output_type": "stream",
     "text": [
      "GPU available: True (cuda), used: True\n",
      "TPU available: False, using: 0 TPU cores\n",
      "IPU available: False, using: 0 IPUs\n",
      "HPU available: False, using: 0 HPUs\n",
      "LOCAL_RANK: 0 - CUDA_VISIBLE_DEVICES: [0,1,2,3,4,5,6]\n",
      "\n",
      "   | Name          | Type               | Params\n",
      "------------------------------------------------------\n",
      "0  | tab_enc       | TabularEncoder     | 4.9 K \n",
      "1  | rnn           | GRU                | 369 K \n",
      "2  | head          | Linear             | 129   \n",
      "3  | criterion     | MSELoss            | 0     \n",
      "4  | train_mae     | MeanAbsoluteError  | 0     \n",
      "5  | val_mae       | MeanAbsoluteError  | 0     \n",
      "6  | test_mae      | MeanAbsoluteError  | 0     \n",
      "7  | train_rmse    | MeanSquaredError   | 0     \n",
      "8  | val_rmse      | MeanSquaredError   | 0     \n",
      "9  | test_rmse     | MeanSquaredError   | 0     \n",
      "10 | train_acc     | MulticlassAccuracy | 0     \n",
      "11 | val_acc       | MulticlassAccuracy | 0     \n",
      "12 | test_acc      | MulticlassAccuracy | 0     \n",
      "13 | train_acc_tol | SumMetric          | 0     \n",
      "14 | val_acc_tol   | SumMetric          | 0     \n",
      "15 | test_acc_tol  | SumMetric          | 0     \n",
      "16 | train_cnt     | SumMetric          | 0     \n",
      "17 | val_cnt       | SumMetric          | 0     \n",
      "18 | test_cnt      | SumMetric          | 0     \n",
      "19 | train_auroc   | MulticlassAUROC    | 0     \n",
      "20 | val_auroc     | MulticlassAUROC    | 0     \n",
      "21 | test_auroc    | MulticlassAUROC    | 0     \n",
      "------------------------------------------------------\n",
      "374 K     Trainable params\n",
      "0         Non-trainable params\n",
      "374 K     Total params\n",
      "1.498     Total estimated model params size (MB)\n"
     ]
    },
    {
     "name": "stdout",
     "output_type": "stream",
     "text": [
      "Fold 3 (Test PID: WEBSS-005): {'test_loss': 1.6076029539108276, 'test_mae': 1.0241366624832153, 'test_rmse': 1.2679128646850586, 'test_acc': 0.3333333432674408, 'test_acc±1': 0.3333333432674408, 'auroc': 0.2142857313156128, 'fold': 3, 'test_pid': 'WEBSS-005'}\n"
     ]
    },
    {
     "data": {
      "application/vnd.jupyter.widget-view+json": {
       "model_id": "3ff531fcbcbb4b4db3db33f2d944650a",
       "version_major": 2,
       "version_minor": 0
      },
      "text/plain": [
       "Sanity Checking: |                                                                                            …"
      ]
     },
     "metadata": {},
     "output_type": "display_data"
    },
    {
     "data": {
      "application/vnd.jupyter.widget-view+json": {
       "model_id": "7c795238382c44e1b0fb5a70a77dc6ba",
       "version_major": 2,
       "version_minor": 0
      },
      "text/plain": [
       "Training: |                                                                                                   …"
      ]
     },
     "metadata": {},
     "output_type": "display_data"
    },
    {
     "data": {
      "application/vnd.jupyter.widget-view+json": {
       "model_id": "d4e95f3315d948fb809950f788f27394",
       "version_major": 2,
       "version_minor": 0
      },
      "text/plain": [
       "Validation: |                                                                                                 …"
      ]
     },
     "metadata": {},
     "output_type": "display_data"
    },
    {
     "data": {
      "application/vnd.jupyter.widget-view+json": {
       "model_id": "32e5f07dc0ea48da8a01e587381dde0a",
       "version_major": 2,
       "version_minor": 0
      },
      "text/plain": [
       "Validation: |                                                                                                 …"
      ]
     },
     "metadata": {},
     "output_type": "display_data"
    },
    {
     "data": {
      "application/vnd.jupyter.widget-view+json": {
       "model_id": "fdba0a0171084bed98cec6069ae89d91",
       "version_major": 2,
       "version_minor": 0
      },
      "text/plain": [
       "Validation: |                                                                                                 …"
      ]
     },
     "metadata": {},
     "output_type": "display_data"
    },
    {
     "data": {
      "application/vnd.jupyter.widget-view+json": {
       "model_id": "db3729a2c5fe4ffcb0de7887f25c696d",
       "version_major": 2,
       "version_minor": 0
      },
      "text/plain": [
       "Validation: |                                                                                                 …"
      ]
     },
     "metadata": {},
     "output_type": "display_data"
    },
    {
     "data": {
      "application/vnd.jupyter.widget-view+json": {
       "model_id": "151e5523da2f467dba01f28ef54d65b6",
       "version_major": 2,
       "version_minor": 0
      },
      "text/plain": [
       "Validation: |                                                                                                 …"
      ]
     },
     "metadata": {},
     "output_type": "display_data"
    },
    {
     "data": {
      "application/vnd.jupyter.widget-view+json": {
       "model_id": "cc848e8daeba451b9cfda3d9b0b5c8bf",
       "version_major": 2,
       "version_minor": 0
      },
      "text/plain": [
       "Validation: |                                                                                                 …"
      ]
     },
     "metadata": {},
     "output_type": "display_data"
    },
    {
     "data": {
      "application/vnd.jupyter.widget-view+json": {
       "model_id": "e53eab9f66a9497584d8a270899b2ec8",
       "version_major": 2,
       "version_minor": 0
      },
      "text/plain": [
       "Validation: |                                                                                                 …"
      ]
     },
     "metadata": {},
     "output_type": "display_data"
    },
    {
     "data": {
      "application/vnd.jupyter.widget-view+json": {
       "model_id": "7e35ec1483be4b44be1401b1c670c6a1",
       "version_major": 2,
       "version_minor": 0
      },
      "text/plain": [
       "Validation: |                                                                                                 …"
      ]
     },
     "metadata": {},
     "output_type": "display_data"
    },
    {
     "data": {
      "application/vnd.jupyter.widget-view+json": {
       "model_id": "c14c322c0ec042e794c812f76ceae550",
       "version_major": 2,
       "version_minor": 0
      },
      "text/plain": [
       "Validation: |                                                                                                 …"
      ]
     },
     "metadata": {},
     "output_type": "display_data"
    },
    {
     "data": {
      "application/vnd.jupyter.widget-view+json": {
       "model_id": "042aab63f6c74c718f86a7491e5a88c7",
       "version_major": 2,
       "version_minor": 0
      },
      "text/plain": [
       "Validation: |                                                                                                 …"
      ]
     },
     "metadata": {},
     "output_type": "display_data"
    },
    {
     "data": {
      "application/vnd.jupyter.widget-view+json": {
       "model_id": "e3e9474f89ae42a1828903a21088c414",
       "version_major": 2,
       "version_minor": 0
      },
      "text/plain": [
       "Validation: |                                                                                                 …"
      ]
     },
     "metadata": {},
     "output_type": "display_data"
    },
    {
     "data": {
      "application/vnd.jupyter.widget-view+json": {
       "model_id": "05851b8ea920464a947c69d4d0c9e543",
       "version_major": 2,
       "version_minor": 0
      },
      "text/plain": [
       "Validation: |                                                                                                 …"
      ]
     },
     "metadata": {},
     "output_type": "display_data"
    },
    {
     "data": {
      "application/vnd.jupyter.widget-view+json": {
       "model_id": "ac345ca36f984c91a67ded60a019aa27",
       "version_major": 2,
       "version_minor": 0
      },
      "text/plain": [
       "Validation: |                                                                                                 …"
      ]
     },
     "metadata": {},
     "output_type": "display_data"
    },
    {
     "data": {
      "application/vnd.jupyter.widget-view+json": {
       "model_id": "5fdc922667f040f1932da17c357f665a",
       "version_major": 2,
       "version_minor": 0
      },
      "text/plain": [
       "Validation: |                                                                                                 …"
      ]
     },
     "metadata": {},
     "output_type": "display_data"
    },
    {
     "data": {
      "application/vnd.jupyter.widget-view+json": {
       "model_id": "d14e8a1ef45744ff817b6ef5d3c46bc2",
       "version_major": 2,
       "version_minor": 0
      },
      "text/plain": [
       "Validation: |                                                                                                 …"
      ]
     },
     "metadata": {},
     "output_type": "display_data"
    },
    {
     "data": {
      "application/vnd.jupyter.widget-view+json": {
       "model_id": "4119dd1d52a34849bb1c4a3a284975bd",
       "version_major": 2,
       "version_minor": 0
      },
      "text/plain": [
       "Validation: |                                                                                                 …"
      ]
     },
     "metadata": {},
     "output_type": "display_data"
    },
    {
     "data": {
      "application/vnd.jupyter.widget-view+json": {
       "model_id": "94b67fa2dbe246b1a0a0fbcbb6fc9036",
       "version_major": 2,
       "version_minor": 0
      },
      "text/plain": [
       "Validation: |                                                                                                 …"
      ]
     },
     "metadata": {},
     "output_type": "display_data"
    },
    {
     "data": {
      "application/vnd.jupyter.widget-view+json": {
       "model_id": "21b3c05a94f44f84bfa8e63679a13b77",
       "version_major": 2,
       "version_minor": 0
      },
      "text/plain": [
       "Validation: |                                                                                                 …"
      ]
     },
     "metadata": {},
     "output_type": "display_data"
    },
    {
     "data": {
      "application/vnd.jupyter.widget-view+json": {
       "model_id": "7df7997c5e744c07981d49f48599b99e",
       "version_major": 2,
       "version_minor": 0
      },
      "text/plain": [
       "Validation: |                                                                                                 …"
      ]
     },
     "metadata": {},
     "output_type": "display_data"
    },
    {
     "data": {
      "application/vnd.jupyter.widget-view+json": {
       "model_id": "1b91b23b459f4b7a92a2cc035a200b31",
       "version_major": 2,
       "version_minor": 0
      },
      "text/plain": [
       "Validation: |                                                                                                 …"
      ]
     },
     "metadata": {},
     "output_type": "display_data"
    },
    {
     "data": {
      "application/vnd.jupyter.widget-view+json": {
       "model_id": "8a14ddba1836471fac37fd0fd5ca6526",
       "version_major": 2,
       "version_minor": 0
      },
      "text/plain": [
       "Validation: |                                                                                                 …"
      ]
     },
     "metadata": {},
     "output_type": "display_data"
    },
    {
     "data": {
      "application/vnd.jupyter.widget-view+json": {
       "model_id": "3dd0a83efad04b7f845f3d3d63efe6a7",
       "version_major": 2,
       "version_minor": 0
      },
      "text/plain": [
       "Validation: |                                                                                                 …"
      ]
     },
     "metadata": {},
     "output_type": "display_data"
    },
    {
     "data": {
      "application/vnd.jupyter.widget-view+json": {
       "model_id": "88017af67f3f4da5a32134a0670d4c70",
       "version_major": 2,
       "version_minor": 0
      },
      "text/plain": [
       "Validation: |                                                                                                 …"
      ]
     },
     "metadata": {},
     "output_type": "display_data"
    },
    {
     "data": {
      "application/vnd.jupyter.widget-view+json": {
       "model_id": "2f01f0dc7b1d408cbd9671e5782bc1a6",
       "version_major": 2,
       "version_minor": 0
      },
      "text/plain": [
       "Validation: |                                                                                                 …"
      ]
     },
     "metadata": {},
     "output_type": "display_data"
    },
    {
     "data": {
      "application/vnd.jupyter.widget-view+json": {
       "model_id": "a206cffa1ee242d38def565dfec54dd5",
       "version_major": 2,
       "version_minor": 0
      },
      "text/plain": [
       "Validation: |                                                                                                 …"
      ]
     },
     "metadata": {},
     "output_type": "display_data"
    },
    {
     "data": {
      "application/vnd.jupyter.widget-view+json": {
       "model_id": "89660569ae3341acb0087745a7e83119",
       "version_major": 2,
       "version_minor": 0
      },
      "text/plain": [
       "Validation: |                                                                                                 …"
      ]
     },
     "metadata": {},
     "output_type": "display_data"
    },
    {
     "data": {
      "application/vnd.jupyter.widget-view+json": {
       "model_id": "30ab6c908e4142c29111c1f36dee5765",
       "version_major": 2,
       "version_minor": 0
      },
      "text/plain": [
       "Validation: |                                                                                                 …"
      ]
     },
     "metadata": {},
     "output_type": "display_data"
    },
    {
     "data": {
      "application/vnd.jupyter.widget-view+json": {
       "model_id": "d96c6565714c45d09ef83eae288ed9c4",
       "version_major": 2,
       "version_minor": 0
      },
      "text/plain": [
       "Validation: |                                                                                                 …"
      ]
     },
     "metadata": {},
     "output_type": "display_data"
    },
    {
     "data": {
      "application/vnd.jupyter.widget-view+json": {
       "model_id": "83c622b39c7c4337b4c1d6ae782eafde",
       "version_major": 2,
       "version_minor": 0
      },
      "text/plain": [
       "Validation: |                                                                                                 …"
      ]
     },
     "metadata": {},
     "output_type": "display_data"
    },
    {
     "data": {
      "application/vnd.jupyter.widget-view+json": {
       "model_id": "938f15e0b4ad4fbea95300595c7f0a79",
       "version_major": 2,
       "version_minor": 0
      },
      "text/plain": [
       "Validation: |                                                                                                 …"
      ]
     },
     "metadata": {},
     "output_type": "display_data"
    },
    {
     "name": "stderr",
     "output_type": "stream",
     "text": [
      "`Trainer.fit` stopped: `max_epochs=30` reached.\n",
      "LOCAL_RANK: 0 - CUDA_VISIBLE_DEVICES: [0,1,2,3,4,5,6]\n"
     ]
    },
    {
     "data": {
      "application/vnd.jupyter.widget-view+json": {
       "model_id": "b06a9e8d21cc40f78fa2a644760bbd11",
       "version_major": 2,
       "version_minor": 0
      },
      "text/plain": [
       "Testing: |                                                                                                    …"
      ]
     },
     "metadata": {},
     "output_type": "display_data"
    },
    {
     "name": "stderr",
     "output_type": "stream",
     "text": [
      "GPU available: True (cuda), used: True\n",
      "TPU available: False, using: 0 TPU cores\n",
      "IPU available: False, using: 0 IPUs\n",
      "HPU available: False, using: 0 HPUs\n",
      "LOCAL_RANK: 0 - CUDA_VISIBLE_DEVICES: [0,1,2,3,4,5,6]\n",
      "\n",
      "   | Name          | Type               | Params\n",
      "------------------------------------------------------\n",
      "0  | tab_enc       | TabularEncoder     | 4.9 K \n",
      "1  | rnn           | GRU                | 369 K \n",
      "2  | head          | Linear             | 129   \n",
      "3  | criterion     | MSELoss            | 0     \n",
      "4  | train_mae     | MeanAbsoluteError  | 0     \n",
      "5  | val_mae       | MeanAbsoluteError  | 0     \n",
      "6  | test_mae      | MeanAbsoluteError  | 0     \n",
      "7  | train_rmse    | MeanSquaredError   | 0     \n",
      "8  | val_rmse      | MeanSquaredError   | 0     \n",
      "9  | test_rmse     | MeanSquaredError   | 0     \n",
      "10 | train_acc     | MulticlassAccuracy | 0     \n",
      "11 | val_acc       | MulticlassAccuracy | 0     \n",
      "12 | test_acc      | MulticlassAccuracy | 0     \n",
      "13 | train_acc_tol | SumMetric          | 0     \n",
      "14 | val_acc_tol   | SumMetric          | 0     \n",
      "15 | test_acc_tol  | SumMetric          | 0     \n",
      "16 | train_cnt     | SumMetric          | 0     \n",
      "17 | val_cnt       | SumMetric          | 0     \n",
      "18 | test_cnt      | SumMetric          | 0     \n",
      "19 | train_auroc   | MulticlassAUROC    | 0     \n",
      "20 | val_auroc     | MulticlassAUROC    | 0     \n",
      "21 | test_auroc    | MulticlassAUROC    | 0     \n",
      "------------------------------------------------------\n",
      "374 K     Trainable params\n",
      "0         Non-trainable params\n",
      "374 K     Total params\n",
      "1.498     Total estimated model params size (MB)\n"
     ]
    },
    {
     "name": "stdout",
     "output_type": "stream",
     "text": [
      "Fold 4 (Test PID: WEBSS-006): {'test_loss': 4.258792877197266, 'test_mae': 1.5958001613616943, 'test_rmse': 2.0636842250823975, 'test_acc': 0.5, 'test_acc±1': 0.5, 'auroc': 0.2142857313156128, 'fold': 4, 'test_pid': 'WEBSS-006'}\n"
     ]
    },
    {
     "data": {
      "application/vnd.jupyter.widget-view+json": {
       "model_id": "ddf6f4d2b5b84301b5019f8311afd246",
       "version_major": 2,
       "version_minor": 0
      },
      "text/plain": [
       "Sanity Checking: |                                                                                            …"
      ]
     },
     "metadata": {},
     "output_type": "display_data"
    },
    {
     "data": {
      "application/vnd.jupyter.widget-view+json": {
       "model_id": "b54cfe0941854e2ba24f7d0b13d22014",
       "version_major": 2,
       "version_minor": 0
      },
      "text/plain": [
       "Training: |                                                                                                   …"
      ]
     },
     "metadata": {},
     "output_type": "display_data"
    },
    {
     "data": {
      "application/vnd.jupyter.widget-view+json": {
       "model_id": "db0fcaac35e14530abef6dd809d2ce9b",
       "version_major": 2,
       "version_minor": 0
      },
      "text/plain": [
       "Validation: |                                                                                                 …"
      ]
     },
     "metadata": {},
     "output_type": "display_data"
    },
    {
     "data": {
      "application/vnd.jupyter.widget-view+json": {
       "model_id": "3b9372fabdc34b3c8c48f085b56ae4aa",
       "version_major": 2,
       "version_minor": 0
      },
      "text/plain": [
       "Validation: |                                                                                                 …"
      ]
     },
     "metadata": {},
     "output_type": "display_data"
    },
    {
     "data": {
      "application/vnd.jupyter.widget-view+json": {
       "model_id": "20688b8caa924f6791884849ed678fda",
       "version_major": 2,
       "version_minor": 0
      },
      "text/plain": [
       "Validation: |                                                                                                 …"
      ]
     },
     "metadata": {},
     "output_type": "display_data"
    },
    {
     "data": {
      "application/vnd.jupyter.widget-view+json": {
       "model_id": "d6e2df61b8ad4e77b6c1805ad097e517",
       "version_major": 2,
       "version_minor": 0
      },
      "text/plain": [
       "Validation: |                                                                                                 …"
      ]
     },
     "metadata": {},
     "output_type": "display_data"
    },
    {
     "data": {
      "application/vnd.jupyter.widget-view+json": {
       "model_id": "0adea71dbf314ca4bd09bbbf0092bb13",
       "version_major": 2,
       "version_minor": 0
      },
      "text/plain": [
       "Validation: |                                                                                                 …"
      ]
     },
     "metadata": {},
     "output_type": "display_data"
    },
    {
     "data": {
      "application/vnd.jupyter.widget-view+json": {
       "model_id": "e310313cf81547eab30a123c9bbe5b91",
       "version_major": 2,
       "version_minor": 0
      },
      "text/plain": [
       "Validation: |                                                                                                 …"
      ]
     },
     "metadata": {},
     "output_type": "display_data"
    },
    {
     "data": {
      "application/vnd.jupyter.widget-view+json": {
       "model_id": "6024413e5ad54ee09353421023434b55",
       "version_major": 2,
       "version_minor": 0
      },
      "text/plain": [
       "Validation: |                                                                                                 …"
      ]
     },
     "metadata": {},
     "output_type": "display_data"
    },
    {
     "data": {
      "application/vnd.jupyter.widget-view+json": {
       "model_id": "8998e3e9e56f423095c6694b70ff9f70",
       "version_major": 2,
       "version_minor": 0
      },
      "text/plain": [
       "Validation: |                                                                                                 …"
      ]
     },
     "metadata": {},
     "output_type": "display_data"
    },
    {
     "data": {
      "application/vnd.jupyter.widget-view+json": {
       "model_id": "35572af1f4f74a31bf85e1381781edf8",
       "version_major": 2,
       "version_minor": 0
      },
      "text/plain": [
       "Validation: |                                                                                                 …"
      ]
     },
     "metadata": {},
     "output_type": "display_data"
    },
    {
     "data": {
      "application/vnd.jupyter.widget-view+json": {
       "model_id": "3b50af10d5514b7cadab236467d66e09",
       "version_major": 2,
       "version_minor": 0
      },
      "text/plain": [
       "Validation: |                                                                                                 …"
      ]
     },
     "metadata": {},
     "output_type": "display_data"
    },
    {
     "data": {
      "application/vnd.jupyter.widget-view+json": {
       "model_id": "e406d284fa614ea98d22a4641ff4d4a1",
       "version_major": 2,
       "version_minor": 0
      },
      "text/plain": [
       "Validation: |                                                                                                 …"
      ]
     },
     "metadata": {},
     "output_type": "display_data"
    },
    {
     "data": {
      "application/vnd.jupyter.widget-view+json": {
       "model_id": "c20ebf907d774e41b37c9e85e68feea1",
       "version_major": 2,
       "version_minor": 0
      },
      "text/plain": [
       "Validation: |                                                                                                 …"
      ]
     },
     "metadata": {},
     "output_type": "display_data"
    },
    {
     "data": {
      "application/vnd.jupyter.widget-view+json": {
       "model_id": "4c5177008fb34f9894e7b6e2b9dbb648",
       "version_major": 2,
       "version_minor": 0
      },
      "text/plain": [
       "Validation: |                                                                                                 …"
      ]
     },
     "metadata": {},
     "output_type": "display_data"
    },
    {
     "data": {
      "application/vnd.jupyter.widget-view+json": {
       "model_id": "45da35071da945baabbb84ff0b00e3a5",
       "version_major": 2,
       "version_minor": 0
      },
      "text/plain": [
       "Validation: |                                                                                                 …"
      ]
     },
     "metadata": {},
     "output_type": "display_data"
    },
    {
     "data": {
      "application/vnd.jupyter.widget-view+json": {
       "model_id": "fd2ad03e0a464900ba26acfe9a30e730",
       "version_major": 2,
       "version_minor": 0
      },
      "text/plain": [
       "Validation: |                                                                                                 …"
      ]
     },
     "metadata": {},
     "output_type": "display_data"
    },
    {
     "data": {
      "application/vnd.jupyter.widget-view+json": {
       "model_id": "36fa3aef8eb0472a81a921b855251399",
       "version_major": 2,
       "version_minor": 0
      },
      "text/plain": [
       "Validation: |                                                                                                 …"
      ]
     },
     "metadata": {},
     "output_type": "display_data"
    },
    {
     "data": {
      "application/vnd.jupyter.widget-view+json": {
       "model_id": "b6324a90f3824aa181d3bc5942c2b493",
       "version_major": 2,
       "version_minor": 0
      },
      "text/plain": [
       "Validation: |                                                                                                 …"
      ]
     },
     "metadata": {},
     "output_type": "display_data"
    },
    {
     "data": {
      "application/vnd.jupyter.widget-view+json": {
       "model_id": "a5a76050c59b46bca4809f33bf59bf11",
       "version_major": 2,
       "version_minor": 0
      },
      "text/plain": [
       "Validation: |                                                                                                 …"
      ]
     },
     "metadata": {},
     "output_type": "display_data"
    },
    {
     "data": {
      "application/vnd.jupyter.widget-view+json": {
       "model_id": "7ac33306ef4b4010894786a8317c113c",
       "version_major": 2,
       "version_minor": 0
      },
      "text/plain": [
       "Validation: |                                                                                                 …"
      ]
     },
     "metadata": {},
     "output_type": "display_data"
    },
    {
     "data": {
      "application/vnd.jupyter.widget-view+json": {
       "model_id": "37176bf29f34471dadcba77e654ce341",
       "version_major": 2,
       "version_minor": 0
      },
      "text/plain": [
       "Validation: |                                                                                                 …"
      ]
     },
     "metadata": {},
     "output_type": "display_data"
    },
    {
     "data": {
      "application/vnd.jupyter.widget-view+json": {
       "model_id": "092f189420ed48bda3756819f1b88da7",
       "version_major": 2,
       "version_minor": 0
      },
      "text/plain": [
       "Validation: |                                                                                                 …"
      ]
     },
     "metadata": {},
     "output_type": "display_data"
    },
    {
     "data": {
      "application/vnd.jupyter.widget-view+json": {
       "model_id": "50edfebeaf1b47b0944305448e78206b",
       "version_major": 2,
       "version_minor": 0
      },
      "text/plain": [
       "Validation: |                                                                                                 …"
      ]
     },
     "metadata": {},
     "output_type": "display_data"
    },
    {
     "data": {
      "application/vnd.jupyter.widget-view+json": {
       "model_id": "4730390a40d44f548bf24da0ae31f828",
       "version_major": 2,
       "version_minor": 0
      },
      "text/plain": [
       "Validation: |                                                                                                 …"
      ]
     },
     "metadata": {},
     "output_type": "display_data"
    },
    {
     "data": {
      "application/vnd.jupyter.widget-view+json": {
       "model_id": "5aef3f9c7d3740c7974446e52a084524",
       "version_major": 2,
       "version_minor": 0
      },
      "text/plain": [
       "Validation: |                                                                                                 …"
      ]
     },
     "metadata": {},
     "output_type": "display_data"
    },
    {
     "data": {
      "application/vnd.jupyter.widget-view+json": {
       "model_id": "fe7fac9d4cb44f05814da29aedd574a7",
       "version_major": 2,
       "version_minor": 0
      },
      "text/plain": [
       "Validation: |                                                                                                 …"
      ]
     },
     "metadata": {},
     "output_type": "display_data"
    },
    {
     "data": {
      "application/vnd.jupyter.widget-view+json": {
       "model_id": "ef0202af47d84370a318cc1fc244bb5b",
       "version_major": 2,
       "version_minor": 0
      },
      "text/plain": [
       "Validation: |                                                                                                 …"
      ]
     },
     "metadata": {},
     "output_type": "display_data"
    },
    {
     "data": {
      "application/vnd.jupyter.widget-view+json": {
       "model_id": "ad3c662ffa1b48a987df1ca07c07541a",
       "version_major": 2,
       "version_minor": 0
      },
      "text/plain": [
       "Validation: |                                                                                                 …"
      ]
     },
     "metadata": {},
     "output_type": "display_data"
    },
    {
     "data": {
      "application/vnd.jupyter.widget-view+json": {
       "model_id": "b7d19f646b8d41cab8e80985d65259d9",
       "version_major": 2,
       "version_minor": 0
      },
      "text/plain": [
       "Validation: |                                                                                                 …"
      ]
     },
     "metadata": {},
     "output_type": "display_data"
    },
    {
     "data": {
      "application/vnd.jupyter.widget-view+json": {
       "model_id": "367564095dbc4b0d8703f5a7093cd5cf",
       "version_major": 2,
       "version_minor": 0
      },
      "text/plain": [
       "Validation: |                                                                                                 …"
      ]
     },
     "metadata": {},
     "output_type": "display_data"
    },
    {
     "data": {
      "application/vnd.jupyter.widget-view+json": {
       "model_id": "efc3587e491d478db29eaa7922e5003a",
       "version_major": 2,
       "version_minor": 0
      },
      "text/plain": [
       "Validation: |                                                                                                 …"
      ]
     },
     "metadata": {},
     "output_type": "display_data"
    },
    {
     "name": "stderr",
     "output_type": "stream",
     "text": [
      "`Trainer.fit` stopped: `max_epochs=30` reached.\n",
      "LOCAL_RANK: 0 - CUDA_VISIBLE_DEVICES: [0,1,2,3,4,5,6]\n"
     ]
    },
    {
     "data": {
      "application/vnd.jupyter.widget-view+json": {
       "model_id": "0302f192840447d296ae7bb633c0580d",
       "version_major": 2,
       "version_minor": 0
      },
      "text/plain": [
       "Testing: |                                                                                                    …"
      ]
     },
     "metadata": {},
     "output_type": "display_data"
    },
    {
     "name": "stdout",
     "output_type": "stream",
     "text": [
      "Fold 5 (Test PID: WEBSS-007): {'test_loss': 5.114965438842773, 'test_mae': 2.1969223022460938, 'test_rmse': 2.2616288661956787, 'test_acc': 0.0, 'test_acc±1': 0.0, 'auroc': 0.1428571492433548, 'fold': 5, 'test_pid': 'WEBSS-007'}\n",
      "test_loss     2.510162\n",
      "test_mae      1.290437\n",
      "test_rmse     1.445710\n",
      "test_acc      0.366667\n",
      "test_acc±1    0.366667\n",
      "auroc         0.114286\n",
      "dtype: float64\n",
      "test_loss     1.856494\n",
      "test_mae      0.577099\n",
      "test_rmse     0.648139\n",
      "test_acc      0.371184\n",
      "test_acc±1    0.371184\n",
      "auroc         0.096890\n",
      "dtype: float64\n"
     ]
    }
   ],
   "source": [
    "from sklearn.model_selection import StratifiedKFold\n",
    "from torch.utils.data import Subset\n",
    "\n",
    "# 1) 환자별 label 산출\n",
    "pid2label = {}\n",
    "for idx, pid in enumerate(dataset.pids):          # dataset 은 이미 완성된 CRSTimeSeriesDataset\n",
    "    _, _, crs_seq, _ = dataset[idx]\n",
    "    pid2label[pid] = int(torch.max(crs_seq).item())   # 0–5\n",
    "\n",
    "pid_list   = list(pid2label.keys())\n",
    "labels     = [pid2label[p] for p in pid_list]\n",
    "pid_index  = {p: i for i, p in enumerate(pid_list)}\n",
    "\n",
    "\n",
    "from sklearn.model_selection import StratifiedShuffleSplit, ShuffleSplit\n",
    "from collections import Counter\n",
    "\n",
    "fold_metrics = []\n",
    "\n",
    "pid_list = list(pid2label.keys())\n",
    "\n",
    "\n",
    "\n",
    "for fold, test_pid in enumerate(pid_list, 1):\n",
    "    # LOPO split\n",
    "    # ─── train → validation split (~10 %) ─────────────────────────────────\n",
    "    train_pids = [pid for pid in pid_list if pid != test_pid]\n",
    "    test_pids  = [test_pid]\n",
    "    train_labels = [pid2label[p] for p in train_pids]\n",
    "    label_counts = Counter(train_labels)\n",
    "    min_count    = min(label_counts.values())\n",
    "    n_pool       = len(train_pids)\n",
    "    \n",
    "    if n_pool < 3:\n",
    "        # Too small to split ⇒ keep them all for training, no val set\n",
    "        val_pids   = []\n",
    "        train_idx2 = list(range(n_pool))\n",
    "    else:\n",
    "        if min_count >= 2 and len(label_counts) > 1:\n",
    "            splitter = StratifiedShuffleSplit(\n",
    "                n_splits     = 1,\n",
    "                test_size    = 0.10,\n",
    "                random_state = fold,\n",
    "            )\n",
    "            train_idx2, val_idx2 = next(splitter.split(train_pids, train_labels))\n",
    "        else:\n",
    "            splitter = ShuffleSplit(\n",
    "                n_splits     = 1,\n",
    "                test_size    = max(1, int(0.10 * n_pool)),  # < n_pool because n_pool ≥ 3\n",
    "                random_state = fold,\n",
    "            )\n",
    "            train_idx2, val_idx2 = next(splitter.split(train_pids))\n",
    "    \n",
    "        val_pids   = [train_pids[i] for i in val_idx2]\n",
    "        train_idx2 = list(train_idx2)          # ensure list if numpy array\n",
    "    \n",
    "    # Update the pid pools\n",
    "    train_pids = [train_pids[i] for i in train_idx2]\n",
    "\n",
    "    # 인덱스 추출\n",
    "    train_idx = [i for i, (_, _, _, pid) in enumerate(dataset.data) if pid in train_pids]\n",
    "    val_idx   = [i for i, (_, _, _, pid) in enumerate(dataset.data) if pid in val_pids]\n",
    "    test_idx  = [i for i, (_, _, _, pid) in enumerate(dataset.data) if pid in test_pids]\n",
    "\n",
    "    train_ds = Subset(dataset, train_idx)\n",
    "    val_ds   = Subset(dataset, val_idx)\n",
    "    test_ds  = Subset(dataset, test_idx)\n",
    "\n",
    "    # DataLoader\n",
    "    batch_size = 3\n",
    "    train_loader = DataLoader(train_ds, batch_size=batch_size, shuffle=True,  collate_fn=collate_pad)\n",
    "    val_loader   = (\n",
    "        DataLoader(val_ds,   batch_size=batch_size, shuffle=False, collate_fn=collate_pad)\n",
    "        if val_pids                                 # only build if it exists\n",
    "        else None\n",
    "    )\n",
    "    test_loader  = DataLoader(test_ds,  batch_size=batch_size, shuffle=False, collate_fn=collate_pad)\n",
    "\n",
    "    # 모델 초기화 및 훈련\n",
    "    model = AudioTabularRNN(\n",
    "        audio_dim = 768,\n",
    "        tab_dim   = dataset.tab_dim,   # ← 데이터셋에서 자동 획득\n",
    "        tab_emb   = 64,\n",
    "        rnn_hid   = 128,\n",
    "        lr        = 1e-3,\n",
    "        pad_value = -100.0,            # collate_pad 와 동일\n",
    "    )\n",
    "\n",
    "# 5) Trainer\n",
    "    trainer = pl.Trainer(\n",
    "        max_epochs = 30,\n",
    "        accelerator = \"gpu\" if torch.cuda.is_available() else \"cpu\",\n",
    "        devices     = 1,\n",
    "    )\n",
    "    trainer.fit(model, train_loader, val_loader if val_loader is not None else None )\n",
    "\n",
    "    # 테스트 및 결과 저장\n",
    "    res = trainer.test(model, test_loader, verbose=False)[0]\n",
    "    res['fold'] = fold\n",
    "    res['test_pid'] = test_pid\n",
    "    fold_metrics.append(res)\n",
    "    print(f\"Fold {fold} (Test PID: {test_pid}): {res}\")\n",
    "\n",
    "# 결과 요약\n",
    "df_metrics = pd.DataFrame(fold_metrics).set_index('fold')\n",
    "print(df_metrics.mean(numeric_only=True))        # 평균\n",
    "print(df_metrics.std(ddof=0, numeric_only=True)) # 표준편차\n"
   ]
  },
  {
   "cell_type": "code",
   "execution_count": 31,
   "id": "1e9c127e-bc0e-4d05-842e-f44101904a51",
   "metadata": {},
   "outputs": [
    {
     "data": {
      "text/html": [
       "<div>\n",
       "<style scoped>\n",
       "    .dataframe tbody tr th:only-of-type {\n",
       "        vertical-align: middle;\n",
       "    }\n",
       "\n",
       "    .dataframe tbody tr th {\n",
       "        vertical-align: top;\n",
       "    }\n",
       "\n",
       "    .dataframe thead th {\n",
       "        text-align: right;\n",
       "    }\n",
       "</style>\n",
       "<table border=\"1\" class=\"dataframe\">\n",
       "  <thead>\n",
       "    <tr style=\"text-align: right;\">\n",
       "      <th></th>\n",
       "      <th>test_loss</th>\n",
       "      <th>test_mae</th>\n",
       "      <th>test_rmse</th>\n",
       "      <th>test_acc</th>\n",
       "      <th>test_acc±1</th>\n",
       "      <th>auroc</th>\n",
       "      <th>test_pid</th>\n",
       "    </tr>\n",
       "    <tr>\n",
       "      <th>fold</th>\n",
       "      <th></th>\n",
       "      <th></th>\n",
       "      <th></th>\n",
       "      <th></th>\n",
       "      <th></th>\n",
       "      <th></th>\n",
       "      <th></th>\n",
       "    </tr>\n",
       "  </thead>\n",
       "  <tbody>\n",
       "    <tr>\n",
       "      <th>1</th>\n",
       "      <td>0.227386</td>\n",
       "      <td>0.476850</td>\n",
       "      <td>0.476850</td>\n",
       "      <td>1.000000</td>\n",
       "      <td>1.000000</td>\n",
       "      <td>0.000000</td>\n",
       "      <td>WEBSS-003</td>\n",
       "    </tr>\n",
       "    <tr>\n",
       "      <th>2</th>\n",
       "      <td>1.342062</td>\n",
       "      <td>1.158474</td>\n",
       "      <td>1.158474</td>\n",
       "      <td>0.000000</td>\n",
       "      <td>0.000000</td>\n",
       "      <td>0.000000</td>\n",
       "      <td>WEBSS-004</td>\n",
       "    </tr>\n",
       "    <tr>\n",
       "      <th>3</th>\n",
       "      <td>1.607603</td>\n",
       "      <td>1.024137</td>\n",
       "      <td>1.267913</td>\n",
       "      <td>0.333333</td>\n",
       "      <td>0.333333</td>\n",
       "      <td>0.214286</td>\n",
       "      <td>WEBSS-005</td>\n",
       "    </tr>\n",
       "    <tr>\n",
       "      <th>4</th>\n",
       "      <td>4.258793</td>\n",
       "      <td>1.595800</td>\n",
       "      <td>2.063684</td>\n",
       "      <td>0.500000</td>\n",
       "      <td>0.500000</td>\n",
       "      <td>0.214286</td>\n",
       "      <td>WEBSS-006</td>\n",
       "    </tr>\n",
       "    <tr>\n",
       "      <th>5</th>\n",
       "      <td>5.114965</td>\n",
       "      <td>2.196922</td>\n",
       "      <td>2.261629</td>\n",
       "      <td>0.000000</td>\n",
       "      <td>0.000000</td>\n",
       "      <td>0.142857</td>\n",
       "      <td>WEBSS-007</td>\n",
       "    </tr>\n",
       "  </tbody>\n",
       "</table>\n",
       "</div>"
      ],
      "text/plain": [
       "      test_loss  test_mae  test_rmse  test_acc  test_acc±1     auroc  \\\n",
       "fold                                                                   \n",
       "1      0.227386  0.476850   0.476850  1.000000    1.000000  0.000000   \n",
       "2      1.342062  1.158474   1.158474  0.000000    0.000000  0.000000   \n",
       "3      1.607603  1.024137   1.267913  0.333333    0.333333  0.214286   \n",
       "4      4.258793  1.595800   2.063684  0.500000    0.500000  0.214286   \n",
       "5      5.114965  2.196922   2.261629  0.000000    0.000000  0.142857   \n",
       "\n",
       "       test_pid  \n",
       "fold             \n",
       "1     WEBSS-003  \n",
       "2     WEBSS-004  \n",
       "3     WEBSS-005  \n",
       "4     WEBSS-006  \n",
       "5     WEBSS-007  "
      ]
     },
     "execution_count": 31,
     "metadata": {},
     "output_type": "execute_result"
    }
   ],
   "source": [
    "df_metrics"
   ]
  },
  {
   "cell_type": "code",
   "execution_count": 36,
   "id": "9e5083c2-a973-4a85-97fa-058c2901d44c",
   "metadata": {},
   "outputs": [
    {
     "data": {
      "text/plain": [
       "1.2904366"
      ]
     },
     "execution_count": 36,
     "metadata": {},
     "output_type": "execute_result"
    }
   ],
   "source": [
    "np.mean([0.476850,1.158474,1.024137,1.595800,2.196922])"
   ]
  },
  {
   "cell_type": "code",
   "execution_count": 37,
   "id": "7eb90def-a575-458b-bfff-25005a7f4c9f",
   "metadata": {},
   "outputs": [
    {
     "data": {
      "text/plain": [
       "0.5770988384897685"
      ]
     },
     "execution_count": 37,
     "metadata": {},
     "output_type": "execute_result"
    }
   ],
   "source": [
    "np.std([0.476850,1.158474,1.024137,1.595800,2.196922])"
   ]
  },
  {
   "cell_type": "code",
   "execution_count": null,
   "id": "7f92d3b4-9536-41fe-8149-2db8b131ae68",
   "metadata": {},
   "outputs": [],
   "source": []
  },
  {
   "cell_type": "code",
   "execution_count": null,
   "id": "cd977a03-4f2e-4478-871a-43f0a5d07480",
   "metadata": {},
   "outputs": [],
   "source": []
  },
  {
   "cell_type": "code",
   "execution_count": null,
   "id": "b1e15834-c717-40cf-84e7-ac056cd75997",
   "metadata": {},
   "outputs": [],
   "source": []
  },
  {
   "cell_type": "code",
   "execution_count": null,
   "id": "5e568a88-9aa1-4ef1-b220-8e36e5ff20e4",
   "metadata": {},
   "outputs": [],
   "source": []
  },
  {
   "cell_type": "markdown",
   "id": "591cc3f3-ad41-499c-98d4-e2aff0d7be44",
   "metadata": {},
   "source": [
    "# Sequence‑to‑Seq (Aux) + Seq‑to‑One (Main)"
   ]
  },
  {
   "cell_type": "code",
   "execution_count": 30,
   "id": "b8cb4a42-ece0-4d7d-885c-25fbd6dbb5e9",
   "metadata": {},
   "outputs": [
    {
     "data": {
      "text/html": [
       "<div>\n",
       "<style scoped>\n",
       "    .dataframe tbody tr th:only-of-type {\n",
       "        vertical-align: middle;\n",
       "    }\n",
       "\n",
       "    .dataframe tbody tr th {\n",
       "        vertical-align: top;\n",
       "    }\n",
       "\n",
       "    .dataframe thead th {\n",
       "        text-align: right;\n",
       "    }\n",
       "</style>\n",
       "<table border=\"1\" class=\"dataframe\">\n",
       "  <thead>\n",
       "    <tr style=\"text-align: right;\">\n",
       "      <th></th>\n",
       "      <th>pid</th>\n",
       "      <th>audio_total</th>\n",
       "      <th>audio_matched</th>\n",
       "      <th>crs_valid</th>\n",
       "    </tr>\n",
       "  </thead>\n",
       "  <tbody>\n",
       "    <tr>\n",
       "      <th>0</th>\n",
       "      <td>WEBSS-001</td>\n",
       "      <td>3</td>\n",
       "      <td>0</td>\n",
       "      <td>0</td>\n",
       "    </tr>\n",
       "    <tr>\n",
       "      <th>1</th>\n",
       "      <td>WEBSS-002</td>\n",
       "      <td>9</td>\n",
       "      <td>3</td>\n",
       "      <td>2</td>\n",
       "    </tr>\n",
       "    <tr>\n",
       "      <th>2</th>\n",
       "      <td>WEBSS-003</td>\n",
       "      <td>8</td>\n",
       "      <td>6</td>\n",
       "      <td>1</td>\n",
       "    </tr>\n",
       "    <tr>\n",
       "      <th>3</th>\n",
       "      <td>WEBSS-004</td>\n",
       "      <td>5</td>\n",
       "      <td>5</td>\n",
       "      <td>1</td>\n",
       "    </tr>\n",
       "    <tr>\n",
       "      <th>4</th>\n",
       "      <td>WEBSS-005</td>\n",
       "      <td>6</td>\n",
       "      <td>6</td>\n",
       "      <td>3</td>\n",
       "    </tr>\n",
       "    <tr>\n",
       "      <th>5</th>\n",
       "      <td>WEBSS-006</td>\n",
       "      <td>13</td>\n",
       "      <td>13</td>\n",
       "      <td>4</td>\n",
       "    </tr>\n",
       "    <tr>\n",
       "      <th>6</th>\n",
       "      <td>WEBSS-007</td>\n",
       "      <td>8</td>\n",
       "      <td>8</td>\n",
       "      <td>2</td>\n",
       "    </tr>\n",
       "    <tr>\n",
       "      <th>7</th>\n",
       "      <td>WEBSS-008</td>\n",
       "      <td>1</td>\n",
       "      <td>0</td>\n",
       "      <td>0</td>\n",
       "    </tr>\n",
       "    <tr>\n",
       "      <th>8</th>\n",
       "      <td>WEBSS-009</td>\n",
       "      <td>1</td>\n",
       "      <td>0</td>\n",
       "      <td>0</td>\n",
       "    </tr>\n",
       "    <tr>\n",
       "      <th>9</th>\n",
       "      <td>WEBSS-010</td>\n",
       "      <td>2</td>\n",
       "      <td>0</td>\n",
       "      <td>0</td>\n",
       "    </tr>\n",
       "  </tbody>\n",
       "</table>\n",
       "</div>"
      ],
      "text/plain": [
       "         pid  audio_total  audio_matched  crs_valid\n",
       "0  WEBSS-001            3              0          0\n",
       "1  WEBSS-002            9              3          2\n",
       "2  WEBSS-003            8              6          1\n",
       "3  WEBSS-004            5              5          1\n",
       "4  WEBSS-005            6              6          3\n",
       "5  WEBSS-006           13             13          4\n",
       "6  WEBSS-007            8              8          2\n",
       "7  WEBSS-008            1              0          0\n",
       "8  WEBSS-009            1              0          0\n",
       "9  WEBSS-010            2              0          0"
      ]
     },
     "execution_count": 30,
     "metadata": {},
     "output_type": "execute_result"
    }
   ],
   "source": [
    "from collections import Counter\n",
    "\n",
    "# ──────────────────────────────────────────────\n",
    "def audit_mapping(meta_csv, soundlist_npy):\n",
    "    df = pd.read_csv(meta_csv)\n",
    "\n",
    "    # ▶ Dataset 과 똑같이 ffill\n",
    "    id_cols = [\"Patient ID\", \"Age\", \"Height\", \"Weight\",\n",
    "               \"Gender\", \"Ethnicity\", \"Diagnosis\"]\n",
    "    df[id_cols] = df[id_cols].ffill()\n",
    "\n",
    "    df[\"uf_name\"] = df[\"Audio File\"].apply(unify_filename)\n",
    "\n",
    "    sound_paths = np.load(soundlist_npy, allow_pickle=True)\n",
    "    idx_dict = {unify_filename(p) for p in sound_paths}\n",
    "\n",
    "    rows = []\n",
    "    for pid, g in df.groupby(\"Patient ID\", sort=False):\n",
    "        rows.append(dict(\n",
    "            pid=pid,\n",
    "            audio_total=len(g),\n",
    "            audio_matched=g[\"uf_name\"].isin(idx_dict).sum(),\n",
    "            crs_valid=g[\"CRS Score\"].notna().sum(),\n",
    "        ))\n",
    "    return pd.DataFrame(rows)\n",
    "\n",
    "df_map = audit_mapping(\n",
    "    \"data/Yeo/Sheet 1-Tabular_asthma_data.csv\",\n",
    "    \"feature/yeo_eval_with_normal/sound_dir_loc.npy\",\n",
    ")\n",
    "df_map"
   ]
  },
  {
   "cell_type": "code",
   "execution_count": 1,
   "id": "a5d4e409-e8c5-4476-8fcf-e4171b5092b7",
   "metadata": {},
   "outputs": [],
   "source": [
    "# ──────────────────────────────────────────────────────────────────────────────\n",
    "# 0. 환경 변수 (★ cuBLAS 결정성 오류 방지)\n",
    "# ──────────────────────────────────────────────────────────────────────────────\n",
    "import os\n",
    "os.environ[\"CUBLAS_WORKSPACE_CONFIG\"] = \":16:8\"     # 반드시 torch import 전에!\n",
    "# ──────────────────────────────────────────────────────────────────────────────\n",
    "# 0. 기본 import 및 공통 설정\n",
    "# ──────────────────────────────────────────────────────────────────────────────\n",
    "import random, numpy as np, pandas as pd, torch, torch.nn as nn\n",
    "from torch.utils.data import Dataset, DataLoader, random_split\n",
    "from torch.nn.utils.rnn import pad_sequence\n",
    "import pytorch_lightning as pl\n",
    "import torchmetrics\n",
    "from torchmetrics.classification import MulticlassAUROC\n",
    "\n",
    "# reproducibility ─────────────────────────────────────────────────────────────\n",
    "def seed_everything(seed: int = 38):\n",
    "    random.seed(seed);  np.random.seed(seed)\n",
    "    torch.manual_seed(seed);  torch.cuda.manual_seed_all(seed)\n",
    "    torch.use_deterministic_algorithms(True, warn_only=True)\n",
    "    pl.seed_everything(seed, workers=True)\n",
    "\n",
    "\n",
    "# ──────────────────────────────────────────────────────────────────────────────\n",
    "# 1. 유틸\n",
    "# ──────────────────────────────────────────────────────────────────────────────\n",
    "import re, unicodedata\n",
    "\n",
    "_PAT = re.compile(r\"webss[^0-9]*(\\d+)[^0-9]+(\\d+)\", re.I)\n",
    "\n",
    "def unify_filename(path: str) -> str:\n",
    "    name = os.path.basename(path).lower()\n",
    "    # 다중 확장자(.wav.npy 등) 제거\n",
    "    while True:\n",
    "        name, ext = os.path.splitext(name)\n",
    "        if not ext:\n",
    "            break\n",
    "\n",
    "    name = unicodedata.normalize(\"NFC\", name)     # OS·언어 차이 보정\n",
    "    # 슬래시, 역슬래시, 공백 → 하이픈 치환\n",
    "    name = re.sub(r\"[\\\\/ ]+\", \"-\", name)\n",
    "\n",
    "    m = _PAT.search(name)\n",
    "    if m:\n",
    "        pid, tp = map(int, m.groups())\n",
    "        return f\"webss-{pid:03d}-{tp:02d}\"\n",
    "\n",
    "    # normal 폴더처럼 ‘숫자만’ 있는 파일은 그대로 (예: \"5\")\n",
    "    bare_num = re.fullmatch(r\"\\d+\", name)\n",
    "    if bare_num:\n",
    "        return bare_num.group()\n",
    "\n",
    "    return name\n",
    "\n",
    "\n",
    "# ──────────────────────────────────────────────────────────────────────────────\n",
    "# 2. Dataset  (시퀀스→원, +보조 시퀀스)\n",
    "# ──────────────────────────────────────────────────────────────────────────────\n",
    "class CRSTimeSeriesDataset(Dataset):\n",
    "    DRUG_COLS   = [\"Albuterol\", \"Atrovent\", \"Prednisolone\", \"Bolus\"]\n",
    "    NUMERIC     = [\"Age\", \"Height\", \"Weight\"]\n",
    "    CAT_ONEHOT  = [\"Ethnicity\", \"Diagnosis\"]      # factorize \n",
    "    PAD_CRS     = -100.0                          # 시퀀스 padding 값\n",
    "\n",
    "    def __init__(self,\n",
    "                 meta_csv: str,\n",
    "                 soundlist_npy: str,\n",
    "                 emb_npy: str,\n",
    "                 transform=None,\n",
    "                 normal_flag = False):\n",
    "        super().__init__()\n",
    "        self.transform = transform\n",
    "\n",
    "        # 2‑1) 메타 CSV 로드 & 정리 ────────────────────────────────────────\n",
    "        df = pd.read_csv(meta_csv)\n",
    "\n",
    "        # 결측 보간/치환\n",
    "        id_cols = [\"Patient ID\", *self.NUMERIC, \"Gender\", *self.CAT_ONEHOT]\n",
    "        df[id_cols] = df[id_cols].ffill()\n",
    "\n",
    "        df[\"Date/Time\"] = pd.to_datetime(df[\"Date/Time\"], errors=\"coerce\")\n",
    "        df[\"Gender\"]    = df[\"Gender\"].map({\"Male\": 1, \"Female\": 0})\n",
    "\n",
    "        for col in self.DRUG_COLS:\n",
    "            df[col] = df[col].map({\"o\": 1, \"x\": 0}).fillna(0).astype(int)\n",
    "        for col in self.CAT_ONEHOT:\n",
    "            df[col] = pd.factorize(df[col])[0]\n",
    "\n",
    "        df[\"uf_name\"] = df[\"Audio File\"].apply(unify_filename)\n",
    "        med = df[self.NUMERIC].median()\n",
    "        df[self.NUMERIC] = df[self.NUMERIC].fillna(med)\n",
    "\n",
    "        # 2‑2) 오디오 임베딩 매핑 ────────────────────────────────────────\n",
    "        sound_paths = np.load(soundlist_npy, allow_pickle=True)\n",
    "        emb_mat     = np.load(emb_npy)                     # (N, 768)\n",
    "\n",
    "        index_dict  = {unify_filename(p): i\n",
    "                       for i, p in enumerate(sound_paths)}\n",
    "\n",
    "        # 2‑3) 시퀀스 파싱 → (inputs, aux‑target, next‑target) ────────────\n",
    "        self.data, self.pids = [], []\n",
    "        tab_cols = self.NUMERIC + [\"Gender\", *self.DRUG_COLS, *self.CAT_ONEHOT]\n",
    "\n",
    "        # CRS Score 중간 구멍 메우기 (환자별 forward‑fill)\n",
    "        df[\"CRS Score\"] = df.groupby(\"Patient ID\")[\"CRS Score\"].ffill()\n",
    "\n",
    "\n",
    "        # for debugging\n",
    "        # csv_names = {unify_filename(x) for x in df[\"Audio File\"]}\n",
    "        # npy_names = {unify_filename(p) for p in sound_paths}\n",
    "        # print(\"intersection :\", len(csv_names & npy_names))\n",
    "        # print(\"csv‑only     :\", list(csv_names - npy_names)[:])\n",
    "        # print(\"npy‑only     :\", list(npy_names - csv_names)[:])\n",
    "\n",
    "        # def crs_audit(df):\n",
    "        #     for pid, g in df.groupby(\"Patient ID\"):\n",
    "        #         total = len(g)\n",
    "        #         n_audio = sum(g[\"uf_name\"].isin(index_dict))          # 매칭된 시점\n",
    "        #         n_valid = g[\"CRS Score\"].notna().sum()               # CRS 채워진 시점\n",
    "        #         print(f\"{pid:10s}  audio={n_audio:2d}  CRS_valid={n_valid}\")\n",
    "                \n",
    "        # crs_audit(df)\n",
    "\n",
    "        for pid, g in df.sort_values([\"Patient ID\", \"Date/Time\"])\\\n",
    "                        .groupby(\"Patient ID\", sort=False):\n",
    "\n",
    "            rows = []\n",
    "            for _, row in g.iterrows():\n",
    "                key = row[\"uf_name\"]\n",
    "                if key not in index_dict:\n",
    "                    continue\n",
    "                idx  = index_dict[key]\n",
    "                audio_feat = emb_mat[idx]\n",
    "                tab_arr    = row[tab_cols].apply(pd.to_numeric, errors=\"coerce\")\\\n",
    "                                           .to_numpy(dtype=np.float32)\n",
    "                crs_raw = row[\"CRS Score\"]\n",
    "                crs_val = float(crs_raw) if pd.notna(crs_raw) else self.PAD_CRS\n",
    "                rows.append((audio_feat, tab_arr, crs_val))\n",
    "\n",
    "            # 최소 2포인트(=다음 CRS 존재) 필요\n",
    "            if len(rows) < 2:\n",
    "                continue\n",
    "\n",
    "            audio_seq, tab_seq, crs_seq = map(\n",
    "                lambda x: np.stack(x).astype(np.float32), zip(*rows)\n",
    "            )\n",
    "\n",
    "            # ------------------------------\n",
    "            valid_idx = np.where(crs_seq != self.PAD_CRS)[0]\n",
    "            if len(valid_idx) == 0:      # 한 개도 없으면 skip\n",
    "                continue\n",
    "            \n",
    "            last = valid_idx[-1]  # 가장 최근 유효 CRS\n",
    "            # ----- 입력 시퀀스 (최소 1 step) ------------------------\n",
    "            audio_seq_in = audio_seq[:last] if last > 0 else audio_seq[:1]  # 0  ... last-1 (T‑1, 768)\n",
    "            tab_seq_in   = tab_seq[:last]  if last > 0 else tab_seq[:1] # (T‑1, F)\n",
    "            crs_aux_seq  = crs_seq[:last]  if last > 0 else crs_seq[:1] # 보조 타깃  (T‑1,)\n",
    "            \n",
    "            # ----- Main‑타깃 ─ 없으면 PAD -------------------------\n",
    "            crs_next_val = crs_seq[last] if last > 0 else self.PAD_CRS\n",
    "            \n",
    "            self.data.append((audio_seq_in, tab_seq_in, crs_aux_seq,\n",
    "                              crs_next_val, pid))\n",
    "            self.pids.append(pid)\n",
    "\n",
    "        # feature‑dimension 외부 노출\n",
    "        self.tab_dim = len(tab_cols)\n",
    "        # ── normal 추가부 ─────────────────────────────────────────────\n",
    "        if normal_flag:\n",
    "            zero_tab = np.zeros(self.tab_dim, dtype=np.float32)   # ★\n",
    "            for i, p in enumerate(sound_paths):\n",
    "                key = unify_filename(p)\n",
    "                if key.isdigit() or \"/normal/\" in p.lower():\n",
    "                    audio_feat = emb_mat[i]\n",
    "                    pid = f\"normal-{key}\"\n",
    "                    self.data.append((\n",
    "                        audio_feat[None, :],             # (1,768)\n",
    "                        zero_tab[None, :],               # (1,F)\n",
    "                        np.array([0.0], np.float32),     # aux\n",
    "                        0.0,                             # next CRS\n",
    "                        pid,\n",
    "                    ))\n",
    "                    self.pids.append(pid)\n",
    "\n",
    "    # 필수 메서드 ─────────────────────────────────────────────────────────\n",
    "    def __len__(self):  return len(self.data)\n",
    "\n",
    "    def __getitem__(self, idx):\n",
    "        audio, tab, crs_aux, crs_next, pid = self.data[idx]\n",
    "        if self.transform:\n",
    "            audio, tab = self.transform(audio, tab)\n",
    "\n",
    "        return (\n",
    "            torch.tensor(audio,    dtype=torch.float32),\n",
    "            torch.tensor(tab,      dtype=torch.float32),\n",
    "            torch.tensor(crs_aux,  dtype=torch.float32),\n",
    "            torch.tensor(crs_next, dtype=torch.float32),\n",
    "            pid,\n",
    "        )\n",
    "\n",
    "\n",
    "# ──────────────────────────────────────────────────────────────────────────────\n",
    "# 3. Collate Fn\n",
    "# ──────────────────────────────────────────────────────────────────────────────\n",
    "PAD_AUDIO, PAD_TAB = 0.0, 0.0\n",
    "PAD_CRS   = CRSTimeSeriesDataset.PAD_CRS     #  -100.0\n",
    "\n",
    "def collate_pad(batch):\n",
    "    \"\"\"\n",
    "    batch = list of (audio_seq, tab_seq, crs_aux_seq, crs_next, pid)\n",
    "    \"\"\"\n",
    "    audio, tab, crs_aux, crs_next, pids = zip(*batch)\n",
    "\n",
    "    lengths   = torch.tensor([x.shape[0] for x in audio])      # (B,)\n",
    "    audio_pad = pad_sequence(audio,    batch_first=True, padding_value=PAD_AUDIO)\n",
    "    tab_pad   = pad_sequence(tab,      batch_first=True, padding_value=PAD_TAB)\n",
    "    crs_pad   = pad_sequence(crs_aux,  batch_first=True, padding_value=PAD_CRS)\n",
    "    crs_next  = torch.stack(crs_next)                          # (B,)\n",
    "\n",
    "    return audio_pad, tab_pad, crs_pad, crs_next, lengths, pids\n",
    "\n",
    "\n",
    "# ──────────────────────────────────────────────────────────────────────────────\n",
    "# 4. Model\n",
    "# ──────────────────────────────────────────────────────────────────────────────\n",
    "class TabularEncoder(nn.Module):\n",
    "    def __init__(self, in_dim: int, hid: int = 64, out: int = 64):\n",
    "        super().__init__()\n",
    "        self.net = nn.Sequential(\n",
    "            nn.Linear(in_dim, hid), nn.ReLU(),\n",
    "            nn.Linear(hid, out),    nn.ReLU()\n",
    "        )\n",
    "\n",
    "    def forward(self, x):                # x: (B, T, F)\n",
    "        B, T, F = x.shape\n",
    "        x = self.net(x.view(B * T, F))\n",
    "        return x.view(B, T, -1)          # (B, T, out)\n",
    "\n",
    "\n",
    "class AudioTabularRNN(pl.LightningModule):\n",
    "    \"\"\"\n",
    "    ▌Main  : 다음 방문 CRS 예측  (sequence‑to‑one)\n",
    "    ▌Aux   : 관측 시퀀스 CRS 예측  (sequence‑to‑sequence)\n",
    "    ───────────────────────────────────────────────────────────────────────\n",
    "    \"\"\"\n",
    "    def __init__(\n",
    "        self,\n",
    "        audio_dim: int = 768,\n",
    "        tab_dim:   int = 10,         # Dataset에서 전달\n",
    "        tab_emb:   int = 64,\n",
    "        rnn_hid:   int = 128,\n",
    "        lr: float        = 1e-3,\n",
    "        pad_value: float = PAD_CRS,\n",
    "        max_crs: int     = 5,\n",
    "        tol: int         = 1,\n",
    "        λ_main: float    = 1.0,\n",
    "        λ_aux:  float    = 0.3,\n",
    "        α_weight: float  = 0.5,      # severe 가중치\n",
    "        num_classes: int = 7,        # 0–6 (혹은 0–5 + padding)\n",
    "    ):\n",
    "        super().__init__()\n",
    "        self.save_hyperparameters()\n",
    "\n",
    "        # ── 네트워크\n",
    "        self.tab_enc   = TabularEncoder(tab_dim, 64, tab_emb)\n",
    "        self.rnn       = nn.GRU(audio_dim + tab_emb, rnn_hid,\n",
    "                                batch_first=True)\n",
    "        self.head_aux  = nn.Linear(rnn_hid, 1)   # (B,Tmax,1)\n",
    "        self.head_main = nn.Linear(rnn_hid, 1)   # (B,1)\n",
    "\n",
    "        # ── 손실 & 메트릭\n",
    "        self.pad_value = pad_value\n",
    "        self.λ_main    = λ_main\n",
    "        self.λ_aux     = λ_aux\n",
    "        self.α         = α_weight\n",
    "        self.num_classes = num_classes\n",
    "\n",
    "        self.mse = nn.MSELoss(reduction=\"none\")\n",
    "\n",
    "        # 주‑과제 기준 메트릭\n",
    "        self.train_mae = torchmetrics.MeanAbsoluteError()\n",
    "        self.val_mae   = torchmetrics.MeanAbsoluteError()\n",
    "        self.test_mae  = torchmetrics.MeanAbsoluteError()\n",
    "\n",
    "        self.train_rmse = torchmetrics.MeanSquaredError(squared=False)\n",
    "        self.val_rmse   = torchmetrics.MeanSquaredError(squared=False)\n",
    "        self.test_rmse  = torchmetrics.MeanSquaredError(squared=False)\n",
    "\n",
    "        self.train_acc = torchmetrics.Accuracy(task=\"multiclass\",\n",
    "                                               num_classes=max_crs+1)\n",
    "        self.val_acc   = torchmetrics.Accuracy(task=\"multiclass\",\n",
    "                                               num_classes=max_crs+1)\n",
    "        self.test_acc  = torchmetrics.Accuracy(task=\"multiclass\",\n",
    "                                               num_classes=max_crs+1)\n",
    "\n",
    "        self.tol = tol\n",
    "        self.train_acc_tol = torchmetrics.SumMetric()\n",
    "        self.val_acc_tol   = torchmetrics.SumMetric()\n",
    "        self.test_acc_tol  = torchmetrics.SumMetric()\n",
    "        self.train_cnt     = torchmetrics.SumMetric()\n",
    "        self.val_cnt       = torchmetrics.SumMetric()\n",
    "        self.test_cnt      = torchmetrics.SumMetric()\n",
    "\n",
    "        self.train_auroc = MulticlassAUROC(num_classes=num_classes)\n",
    "        self.val_auroc   = MulticlassAUROC(num_classes=num_classes)\n",
    "        self.test_auroc  = MulticlassAUROC(num_classes=num_classes)\n",
    "\n",
    "        self.train_mae_aux = torchmetrics.MeanAbsoluteError()\n",
    "        self.val_mae_aux   = torchmetrics.MeanAbsoluteError()\n",
    "        self.test_mae_aux  = torchmetrics.MeanAbsoluteError()\n",
    "\n",
    "    # ────────────────────────────────────────────────────────────── forward\n",
    "    def forward(self, audio, tab, lengths):\n",
    "        \"\"\"\n",
    "        audio : (B, Tmax, 768)\n",
    "        tab   : (B, Tmax, F)\n",
    "        lengths : 실제 길이  (B,)\n",
    "        \"\"\"\n",
    "        tab_f   = self.tab_enc(tab)                     # (B,T,tab_emb)\n",
    "        fused   = torch.cat([audio, tab_f], dim=-1)     # (B,T,D)\n",
    "\n",
    "        packed  = nn.utils.rnn.pack_padded_sequence(\n",
    "            fused, lengths.cpu(), batch_first=True, enforce_sorted=False\n",
    "        )\n",
    "        packed_out, h_n = self.rnn(packed)\n",
    "        out, _ = nn.utils.rnn.pad_packed_sequence(\n",
    "            packed_out, batch_first=True\n",
    "        )                                               # (B,Tmax,H)\n",
    "\n",
    "        pred_aux  = self.head_aux(out).squeeze(-1)      # (B,Tmax)\n",
    "        pred_main = self.head_main(h_n[0]).squeeze(-1)  # (B,)\n",
    "        return pred_aux, pred_main\n",
    "\n",
    "    # ────────────────────────────────────────────────────────────── step 공통\n",
    "    def _step(self, batch, stage):\n",
    "        audio, tab, crs_aux, crs_next, lengths, _ = batch\n",
    "        pred_aux, pred_main = self(audio, tab, lengths)\n",
    "\n",
    "        # Aux 마스킹\n",
    "        mask = (crs_aux != self.pad_value)          # (B,T)\n",
    "        aux_v = pred_aux[mask]\n",
    "        targ_aux = crs_aux[mask]\n",
    "\n",
    "\n",
    "        # Severe weight (1 + α * CRS)\n",
    "        w_aux = 1.0 + self.α * targ_aux\n",
    "        loss_aux  = (w_aux * (aux_v - targ_aux) ** 2).mean()\n",
    "\n",
    "        # Main loss\n",
    "        main_mask = (crs_next != self.pad_value)\n",
    "        if main_mask.any():\n",
    "            w_main   = 1.0 + self.α * crs_next[main_mask]\n",
    "            loss_main = (w_main * (pred_main[main_mask] - crs_next[main_mask])**2).mean()\n",
    "        else:\n",
    "            loss_main = torch.tensor(0.0, device=self.device)\n",
    "\n",
    "\n",
    "        loss = self.λ_main * loss_main + self.λ_aux * loss_aux\n",
    "        # self.log(f\"{stage}_loss\", loss, prog_bar=(stage != \"test\"),\n",
    "        #          batch_size=len(lengths))\n",
    "\n",
    "        # 손실 로그를 분리\n",
    "        self.log(f\"{stage}_loss_main\", loss_main, prog_bar=False, batch_size=len(lengths))\n",
    "        self.log(f\"{stage}_loss_aux\",  loss_aux,  prog_bar=False, batch_size=len(lengths))\n",
    "\n",
    "\n",
    "        # ── 메트릭 (주‑과제 기준) ─────────────────────────────────────\n",
    "        pred_round = torch.clamp(torch.round(pred_main), 0, 5).long()\n",
    "        targ_long  = crs_next.long()\n",
    "        logits     = torch.nn.functional.one_hot(pred_round,\n",
    "                                                 num_classes=self.num_classes) \\\n",
    "                                      .float()\n",
    "\n",
    "        if aux_v.numel() > 0:     #aux loss     # ← 패딩 전부일 수도 있으므로\n",
    "            getattr(self, f\"{stage}_mae_aux\").update(aux_v, targ_aux)\n",
    "        \n",
    "\n",
    "        def upd(metric, *args):\n",
    "            getattr(self, f\"{stage}_{metric}\").update(*args)\n",
    "\n",
    "        upd(\"mae\",  pred_main, crs_next)\n",
    "        upd(\"rmse\", pred_main, crs_next)\n",
    "        upd(\"acc\",  pred_round, targ_long)\n",
    "        upd(\"auroc\", logits,    targ_long)\n",
    "\n",
    "        within_tol = (torch.abs(pred_main - crs_next) <= self.tol).float().sum()\n",
    "        upd(\"acc_tol\", within_tol)\n",
    "        upd(\"cnt\",     torch.tensor(crs_next.numel(), device=self.device))\n",
    "\n",
    "        return loss\n",
    "\n",
    "    # ────────────────────────────────────────────────────────────── hooks\n",
    "    def training_step(self, batch, batch_idx):   return self._step(batch, \"train\")\n",
    "    def validation_step(self, batch, batch_idx): self._step(batch, \"val\")\n",
    "    def test_step(self, batch, batch_idx):       self._step(batch, \"test\")\n",
    "\n",
    "    def _epoch_end(self, stage):\n",
    "        mae  = getattr(self, f\"{stage}_mae\").compute()\n",
    "        rmse = getattr(self, f\"{stage}_rmse\").compute()\n",
    "        acc  = getattr(self, f\"{stage}_acc\").compute()\n",
    "        auroc = getattr(self, f\"{stage}_auroc\").compute()\n",
    "        acc_tol = getattr(self, f\"{stage}_acc_tol\").compute() \\\n",
    "                  / getattr(self, f\"{stage}_cnt\").compute()\n",
    "        \n",
    "        self.log_dict({\n",
    "            f\"{stage}_mae\": mae,\n",
    "            f\"{stage}_rmse\": rmse,\n",
    "            f\"{stage}_acc\": acc,\n",
    "            f\"{stage}_acc±{self.tol}\": acc_tol,\n",
    "            f\"{stage}_auroc\": auroc,\n",
    "        }, prog_bar=True)\n",
    "\n",
    "        mae_aux = getattr(self, f\"{stage}_mae_aux\").compute()\n",
    "        self.log_dict({f\"{stage}_mae_aux\": mae_aux}, prog_bar=True)\n",
    "        getattr(self, f\"{stage}_mae_aux\").reset()\n",
    "\n",
    "        for key in [\"mae\", \"rmse\", \"acc\", \"acc_tol\", \"cnt\", \"auroc\"]:\n",
    "            getattr(self, f\"{stage}_{key}\").reset()\n",
    "            \n",
    "        \n",
    "    def on_train_epoch_end(self):      self._epoch_end(\"train\")\n",
    "    def on_validation_epoch_end(self): self._epoch_end(\"val\")\n",
    "    def on_test_epoch_end(self):       self._epoch_end(\"test\")\n",
    "\n",
    "    # ───────────────────────────────────────────────────────────── optim\n",
    "    def configure_optimizers(self):\n",
    "        return torch.optim.Adam(self.parameters(), lr=self.hparams.lr)"
   ]
  },
  {
   "cell_type": "code",
   "execution_count": 6,
   "id": "98d859d5-03d1-4e80-92b1-b76636a71bb4",
   "metadata": {},
   "outputs": [],
   "source": [
    "from torch.utils.data import Subset\n",
    "\n",
    "def loocv_train_test(dataset, trainer_kwargs=None, loader_kwargs=None):\n",
    "    \"\"\"Patient‑level LOOCV 학습·평가 루프.\n",
    "       Returns: list of dict  ← test metrics per patient\n",
    "    \"\"\"\n",
    "    if trainer_kwargs is None:\n",
    "        trainer_kwargs = dict(max_epochs=30, accelerator=\"cpu\", devices=1, log_every_n_steps=10)\n",
    "    if loader_kwargs is None:\n",
    "        loader_kwargs = dict(batch_size=3, num_workers=0, collate_fn=collate_pad)\n",
    "\n",
    "    unique_pids = sorted(set(dataset.pids))\n",
    "    results = []\n",
    "\n",
    "    for test_pid in unique_pids:\n",
    "        test_indices  = [i for i,p in enumerate(dataset.pids) if p == test_pid]\n",
    "        train_indices = [i for i,p in enumerate(dataset.pids) if p != test_pid]\n",
    "        if len(test_indices) == 0 or len(train_indices) == 0:\n",
    "            continue                                         # 안전장치\n",
    "\n",
    "        train_loader = DataLoader(Subset(dataset, train_indices),\n",
    "                                  shuffle=True,  **loader_kwargs)\n",
    "        test_loader  = DataLoader(Subset(dataset, test_indices),\n",
    "                                  shuffle=False, **loader_kwargs)\n",
    "\n",
    "        # “val” 을 train 에서 10% 쪼개거나 None 으로 둘 수도 있음\n",
    "        model = AudioTabularRNN(audio_dim=768, tab_dim=dataset.tab_dim)\n",
    "\n",
    "        trainer = pl.Trainer(**trainer_kwargs)\n",
    "        trainer.fit(model, train_loader, val_dataloaders=None)\n",
    "        test_metrics = trainer.test(model, test_loader, verbose=False)[0]\n",
    "        test_metrics[\"pid\"] = test_pid\n",
    "        results.append(test_metrics)\n",
    "\n",
    "        print(f\"[LOOCV] PID={test_pid:>10s}  MAE={test_metrics['test_mae']:.3f} \"\n",
    "              f\"RMSE={test_metrics['test_rmse']:.3f}\")\n",
    "\n",
    "    return results\n"
   ]
  },
  {
   "cell_type": "markdown",
   "id": "12ea27ba-8357-4f98-b5e9-2a9f6171ad73",
   "metadata": {
    "jp-MarkdownHeadingCollapsed": true
   },
   "source": [
    "## w/ normal"
   ]
  },
  {
   "cell_type": "code",
   "execution_count": 14,
   "id": "d1150594-3e00-4b80-9627-3c1af2e5ab01",
   "metadata": {},
   "outputs": [
    {
     "name": "stderr",
     "output_type": "stream",
     "text": [
      "Seed set to 128\n",
      "GPU available: True (cuda), used: True\n",
      "TPU available: False, using: 0 TPU cores\n",
      "IPU available: False, using: 0 IPUs\n",
      "HPU available: False, using: 0 HPUs\n"
     ]
    },
    {
     "name": "stdout",
     "output_type": "stream",
     "text": [
      "split lengths: [19, 3, 3] / dataset len = 25\n"
     ]
    },
    {
     "name": "stderr",
     "output_type": "stream",
     "text": [
      "LOCAL_RANK: 0 - CUDA_VISIBLE_DEVICES: [0,1,2,3,4,5,6]\n",
      "\n",
      "   | Name          | Type               | Params\n",
      "------------------------------------------------------\n",
      "0  | tab_enc       | TabularEncoder     | 4.9 K \n",
      "1  | rnn           | GRU                | 369 K \n",
      "2  | head_aux      | Linear             | 129   \n",
      "3  | head_main     | Linear             | 129   \n",
      "4  | mse           | MSELoss            | 0     \n",
      "5  | train_mae     | MeanAbsoluteError  | 0     \n",
      "6  | val_mae       | MeanAbsoluteError  | 0     \n",
      "7  | test_mae      | MeanAbsoluteError  | 0     \n",
      "8  | train_rmse    | MeanSquaredError   | 0     \n",
      "9  | val_rmse      | MeanSquaredError   | 0     \n",
      "10 | test_rmse     | MeanSquaredError   | 0     \n",
      "11 | train_acc     | MulticlassAccuracy | 0     \n",
      "12 | val_acc       | MulticlassAccuracy | 0     \n",
      "13 | test_acc      | MulticlassAccuracy | 0     \n",
      "14 | train_acc_tol | SumMetric          | 0     \n",
      "15 | val_acc_tol   | SumMetric          | 0     \n",
      "16 | test_acc_tol  | SumMetric          | 0     \n",
      "17 | train_cnt     | SumMetric          | 0     \n",
      "18 | val_cnt       | SumMetric          | 0     \n",
      "19 | test_cnt      | SumMetric          | 0     \n",
      "20 | train_auroc   | MulticlassAUROC    | 0     \n",
      "21 | val_auroc     | MulticlassAUROC    | 0     \n",
      "22 | test_auroc    | MulticlassAUROC    | 0     \n",
      "23 | train_mae_aux | MeanAbsoluteError  | 0     \n",
      "24 | val_mae_aux   | MeanAbsoluteError  | 0     \n",
      "25 | test_mae_aux  | MeanAbsoluteError  | 0     \n",
      "------------------------------------------------------\n",
      "374 K     Trainable params\n",
      "0         Non-trainable params\n",
      "374 K     Total params\n",
      "1.498     Total estimated model params size (MB)\n"
     ]
    },
    {
     "data": {
      "application/vnd.jupyter.widget-view+json": {
       "model_id": "829ea5b20794466b98157c1b56b116cc",
       "version_major": 2,
       "version_minor": 0
      },
      "text/plain": [
       "Sanity Checking: |                                                                                            …"
      ]
     },
     "metadata": {},
     "output_type": "display_data"
    },
    {
     "name": "stderr",
     "output_type": "stream",
     "text": [
      "/opt/conda/envs/audio/lib/python3.10/site-packages/pytorch_lightning/trainer/connectors/data_connector.py:441: The 'val_dataloader' does not have many workers which may be a bottleneck. Consider increasing the value of the `num_workers` argument` to `num_workers=127` in the `DataLoader` to improve performance.\n",
      "/opt/conda/envs/audio/lib/python3.10/site-packages/torchmetrics/utilities/prints.py:43: TorchMetricsUserWarning: You are trying to use a metric in deterministic mode on GPU that uses `torch.cumsum`, which is currently not supported. The tensor will be copied to the CPU memory to compute it and then copied back to GPU. Expect some slowdowns.\n",
      "  warnings.warn(*args, **kwargs)  # noqa: B028\n",
      "/opt/conda/envs/audio/lib/python3.10/site-packages/torchmetrics/utilities/prints.py:43: UserWarning: No positive samples in targets, true positive value should be meaningless. Returning zero tensor in true positive score\n",
      "  warnings.warn(*args, **kwargs)  # noqa: B028\n",
      "/opt/conda/envs/audio/lib/python3.10/site-packages/pytorch_lightning/trainer/connectors/data_connector.py:441: The 'train_dataloader' does not have many workers which may be a bottleneck. Consider increasing the value of the `num_workers` argument` to `num_workers=127` in the `DataLoader` to improve performance.\n"
     ]
    },
    {
     "data": {
      "application/vnd.jupyter.widget-view+json": {
       "model_id": "47a4755dba0346e08b40d8a0a3143582",
       "version_major": 2,
       "version_minor": 0
      },
      "text/plain": [
       "Training: |                                                                                                   …"
      ]
     },
     "metadata": {},
     "output_type": "display_data"
    },
    {
     "data": {
      "application/vnd.jupyter.widget-view+json": {
       "model_id": "4e900b2671b94b89b92986f64c9485d1",
       "version_major": 2,
       "version_minor": 0
      },
      "text/plain": [
       "Validation: |                                                                                                 …"
      ]
     },
     "metadata": {},
     "output_type": "display_data"
    },
    {
     "data": {
      "application/vnd.jupyter.widget-view+json": {
       "model_id": "77f02530aabc4fb6857b8deeeae4e308",
       "version_major": 2,
       "version_minor": 0
      },
      "text/plain": [
       "Validation: |                                                                                                 …"
      ]
     },
     "metadata": {},
     "output_type": "display_data"
    },
    {
     "data": {
      "application/vnd.jupyter.widget-view+json": {
       "model_id": "254711254df247309300a66c6e1219ca",
       "version_major": 2,
       "version_minor": 0
      },
      "text/plain": [
       "Validation: |                                                                                                 …"
      ]
     },
     "metadata": {},
     "output_type": "display_data"
    },
    {
     "data": {
      "application/vnd.jupyter.widget-view+json": {
       "model_id": "2a35e65a477343c9916a07e374618216",
       "version_major": 2,
       "version_minor": 0
      },
      "text/plain": [
       "Validation: |                                                                                                 …"
      ]
     },
     "metadata": {},
     "output_type": "display_data"
    },
    {
     "data": {
      "application/vnd.jupyter.widget-view+json": {
       "model_id": "d8df8852b69643249fe7e3ec1dff05e3",
       "version_major": 2,
       "version_minor": 0
      },
      "text/plain": [
       "Validation: |                                                                                                 …"
      ]
     },
     "metadata": {},
     "output_type": "display_data"
    },
    {
     "data": {
      "application/vnd.jupyter.widget-view+json": {
       "model_id": "201e31da13ef4a7890a8eaf4c38e2554",
       "version_major": 2,
       "version_minor": 0
      },
      "text/plain": [
       "Validation: |                                                                                                 …"
      ]
     },
     "metadata": {},
     "output_type": "display_data"
    },
    {
     "data": {
      "application/vnd.jupyter.widget-view+json": {
       "model_id": "566c9f47de0b4cb1ae9bb73ba24b0ebb",
       "version_major": 2,
       "version_minor": 0
      },
      "text/plain": [
       "Validation: |                                                                                                 …"
      ]
     },
     "metadata": {},
     "output_type": "display_data"
    },
    {
     "data": {
      "application/vnd.jupyter.widget-view+json": {
       "model_id": "917e2b447c69424d85aa7d593be25e00",
       "version_major": 2,
       "version_minor": 0
      },
      "text/plain": [
       "Validation: |                                                                                                 …"
      ]
     },
     "metadata": {},
     "output_type": "display_data"
    },
    {
     "data": {
      "application/vnd.jupyter.widget-view+json": {
       "model_id": "4b24258ae8704dc098825b2adbbe9d6d",
       "version_major": 2,
       "version_minor": 0
      },
      "text/plain": [
       "Validation: |                                                                                                 …"
      ]
     },
     "metadata": {},
     "output_type": "display_data"
    },
    {
     "data": {
      "application/vnd.jupyter.widget-view+json": {
       "model_id": "e3aea68b394f4b36ae422d4598226221",
       "version_major": 2,
       "version_minor": 0
      },
      "text/plain": [
       "Validation: |                                                                                                 …"
      ]
     },
     "metadata": {},
     "output_type": "display_data"
    },
    {
     "data": {
      "application/vnd.jupyter.widget-view+json": {
       "model_id": "bf744e0148924889baacb723be90ab52",
       "version_major": 2,
       "version_minor": 0
      },
      "text/plain": [
       "Validation: |                                                                                                 …"
      ]
     },
     "metadata": {},
     "output_type": "display_data"
    },
    {
     "data": {
      "application/vnd.jupyter.widget-view+json": {
       "model_id": "36bbd0e906e045c8b7b8d416d5f35e37",
       "version_major": 2,
       "version_minor": 0
      },
      "text/plain": [
       "Validation: |                                                                                                 …"
      ]
     },
     "metadata": {},
     "output_type": "display_data"
    },
    {
     "data": {
      "application/vnd.jupyter.widget-view+json": {
       "model_id": "cdc43ff4cee14521a057467d0f459153",
       "version_major": 2,
       "version_minor": 0
      },
      "text/plain": [
       "Validation: |                                                                                                 …"
      ]
     },
     "metadata": {},
     "output_type": "display_data"
    },
    {
     "data": {
      "application/vnd.jupyter.widget-view+json": {
       "model_id": "5a6a5cc1a9524bea9fd4120e280c4a2a",
       "version_major": 2,
       "version_minor": 0
      },
      "text/plain": [
       "Validation: |                                                                                                 …"
      ]
     },
     "metadata": {},
     "output_type": "display_data"
    },
    {
     "data": {
      "application/vnd.jupyter.widget-view+json": {
       "model_id": "052e5bef42e44a649e767b060afe3968",
       "version_major": 2,
       "version_minor": 0
      },
      "text/plain": [
       "Validation: |                                                                                                 …"
      ]
     },
     "metadata": {},
     "output_type": "display_data"
    },
    {
     "data": {
      "application/vnd.jupyter.widget-view+json": {
       "model_id": "d3a21960f0ad4a16ad23ecbfc4d33ffb",
       "version_major": 2,
       "version_minor": 0
      },
      "text/plain": [
       "Validation: |                                                                                                 …"
      ]
     },
     "metadata": {},
     "output_type": "display_data"
    },
    {
     "data": {
      "application/vnd.jupyter.widget-view+json": {
       "model_id": "d84111643260401b92ee7cc3aa2280eb",
       "version_major": 2,
       "version_minor": 0
      },
      "text/plain": [
       "Validation: |                                                                                                 …"
      ]
     },
     "metadata": {},
     "output_type": "display_data"
    },
    {
     "data": {
      "application/vnd.jupyter.widget-view+json": {
       "model_id": "6a6d08e7d39147829320980f74722230",
       "version_major": 2,
       "version_minor": 0
      },
      "text/plain": [
       "Validation: |                                                                                                 …"
      ]
     },
     "metadata": {},
     "output_type": "display_data"
    },
    {
     "data": {
      "application/vnd.jupyter.widget-view+json": {
       "model_id": "954db3e1724f40479ff4e5e54f90dbf1",
       "version_major": 2,
       "version_minor": 0
      },
      "text/plain": [
       "Validation: |                                                                                                 …"
      ]
     },
     "metadata": {},
     "output_type": "display_data"
    },
    {
     "data": {
      "application/vnd.jupyter.widget-view+json": {
       "model_id": "0965cf43620749378ec62f97505be1ce",
       "version_major": 2,
       "version_minor": 0
      },
      "text/plain": [
       "Validation: |                                                                                                 …"
      ]
     },
     "metadata": {},
     "output_type": "display_data"
    },
    {
     "data": {
      "application/vnd.jupyter.widget-view+json": {
       "model_id": "b34751cc5775435d97d22f33dc82f04b",
       "version_major": 2,
       "version_minor": 0
      },
      "text/plain": [
       "Validation: |                                                                                                 …"
      ]
     },
     "metadata": {},
     "output_type": "display_data"
    },
    {
     "data": {
      "application/vnd.jupyter.widget-view+json": {
       "model_id": "5b299512faf34267ac2065d44884700f",
       "version_major": 2,
       "version_minor": 0
      },
      "text/plain": [
       "Validation: |                                                                                                 …"
      ]
     },
     "metadata": {},
     "output_type": "display_data"
    },
    {
     "data": {
      "application/vnd.jupyter.widget-view+json": {
       "model_id": "2689a6d450cb471a808c1636d84d7ff9",
       "version_major": 2,
       "version_minor": 0
      },
      "text/plain": [
       "Validation: |                                                                                                 …"
      ]
     },
     "metadata": {},
     "output_type": "display_data"
    },
    {
     "data": {
      "application/vnd.jupyter.widget-view+json": {
       "model_id": "1d3dde0777e8482c89d13e5cd79007f3",
       "version_major": 2,
       "version_minor": 0
      },
      "text/plain": [
       "Validation: |                                                                                                 …"
      ]
     },
     "metadata": {},
     "output_type": "display_data"
    },
    {
     "data": {
      "application/vnd.jupyter.widget-view+json": {
       "model_id": "5b5eb361d2004c818c4f59d6ed67954a",
       "version_major": 2,
       "version_minor": 0
      },
      "text/plain": [
       "Validation: |                                                                                                 …"
      ]
     },
     "metadata": {},
     "output_type": "display_data"
    },
    {
     "data": {
      "application/vnd.jupyter.widget-view+json": {
       "model_id": "7239b8215dbf4105b450d503e43a0b19",
       "version_major": 2,
       "version_minor": 0
      },
      "text/plain": [
       "Validation: |                                                                                                 …"
      ]
     },
     "metadata": {},
     "output_type": "display_data"
    },
    {
     "data": {
      "application/vnd.jupyter.widget-view+json": {
       "model_id": "7ec19e2b385a4822aa34f1814f56f1c6",
       "version_major": 2,
       "version_minor": 0
      },
      "text/plain": [
       "Validation: |                                                                                                 …"
      ]
     },
     "metadata": {},
     "output_type": "display_data"
    },
    {
     "data": {
      "application/vnd.jupyter.widget-view+json": {
       "model_id": "c3ed437b24fe4599ae62c51a8da6022c",
       "version_major": 2,
       "version_minor": 0
      },
      "text/plain": [
       "Validation: |                                                                                                 …"
      ]
     },
     "metadata": {},
     "output_type": "display_data"
    },
    {
     "data": {
      "application/vnd.jupyter.widget-view+json": {
       "model_id": "5073990bb6f54c18a9fc7e0f45d04b77",
       "version_major": 2,
       "version_minor": 0
      },
      "text/plain": [
       "Validation: |                                                                                                 …"
      ]
     },
     "metadata": {},
     "output_type": "display_data"
    },
    {
     "data": {
      "application/vnd.jupyter.widget-view+json": {
       "model_id": "c3d50f1d012844b586b110ece7b8797e",
       "version_major": 2,
       "version_minor": 0
      },
      "text/plain": [
       "Validation: |                                                                                                 …"
      ]
     },
     "metadata": {},
     "output_type": "display_data"
    },
    {
     "name": "stderr",
     "output_type": "stream",
     "text": [
      "`Trainer.fit` stopped: `max_epochs=30` reached.\n",
      "LOCAL_RANK: 0 - CUDA_VISIBLE_DEVICES: [0,1,2,3,4,5,6]\n",
      "/opt/conda/envs/audio/lib/python3.10/site-packages/pytorch_lightning/trainer/connectors/data_connector.py:441: The 'test_dataloader' does not have many workers which may be a bottleneck. Consider increasing the value of the `num_workers` argument` to `num_workers=127` in the `DataLoader` to improve performance.\n"
     ]
    },
    {
     "data": {
      "application/vnd.jupyter.widget-view+json": {
       "model_id": "5ef90cd5ed0244f087dee415a3594130",
       "version_major": 2,
       "version_minor": 0
      },
      "text/plain": [
       "Testing: |                                                                                                    …"
      ]
     },
     "metadata": {},
     "output_type": "display_data"
    },
    {
     "name": "stdout",
     "output_type": "stream",
     "text": [
      "────────────────────────────────────────────────────────────────────────────────────────────────────────────────────────\n",
      "       Test metric             DataLoader 0\n",
      "────────────────────────────────────────────────────────────────────────────────────────────────────────────────────────\n",
      "        test_acc            0.6666666865348816\n",
      "       test_acc±1           0.6666666865348816\n",
      "       test_auroc           0.2142857313156128\n",
      "      test_loss_aux          8.416223526000977\n",
      "     test_loss_main          1.911158561706543\n",
      "        test_mae            0.5850417017936707\n",
      "      test_mae_aux          1.3917428255081177\n",
      "        test_rmse           0.9777060747146606\n",
      "────────────────────────────────────────────────────────────────────────────────────────────────────────────────────────\n"
     ]
    },
    {
     "data": {
      "text/plain": [
       "[{'test_loss_main': 1.911158561706543,\n",
       "  'test_loss_aux': 8.416223526000977,\n",
       "  'test_mae': 0.5850417017936707,\n",
       "  'test_rmse': 0.9777060747146606,\n",
       "  'test_acc': 0.6666666865348816,\n",
       "  'test_acc±1': 0.6666666865348816,\n",
       "  'test_auroc': 0.2142857313156128,\n",
       "  'test_mae_aux': 1.3917428255081177}]"
      ]
     },
     "execution_count": 14,
     "metadata": {},
     "output_type": "execute_result"
    }
   ],
   "source": [
    "# ──────────────────────────────────────────────────────────────────────────────\n",
    "# 5. 데이터 준비\n",
    "# ──────────────────────────────────────────────────────────────────────────────\n",
    "dataset = CRSTimeSeriesDataset(\n",
    "    meta_csv      = \"data/Yeo/Sheet 1-Tabular_asthma_data.csv\",\n",
    "    soundlist_npy = \"feature/yeo_eval_with_normal/sound_dir_loc.npy\",\n",
    "    emb_npy       = \"feature/yeo_eval_with_normal/operaCT768_feature.npy\",\n",
    "    normal_flag = True\n",
    ")\n",
    "\n",
    "# ── 안전 split 함수 ───────────────────────────────────────────────────\n",
    "def split_lengths(n, val_ratio=0.15, test_ratio=0.15):\n",
    "    \"\"\"dataset 길이 n을 train/val/test 세 부분으로 나누어\n",
    "       ─ 각 파트가 최소 1 샘플 (단 n<3이면 가능한 만큼)\n",
    "       ─ 합계가 정확히 n\n",
    "       를 만족하는 길이 리스트를 반환\"\"\"\n",
    "    if n < 3:                    # 샘플 0/1/2 개 특수 처리\n",
    "        if n == 0:\n",
    "            return [0, 0, 0]\n",
    "        if n == 1:\n",
    "            return [1, 0, 0]\n",
    "        if n == 2:\n",
    "            return [1, 1, 0]\n",
    "\n",
    "    # 초안 길이\n",
    "    val_len  = max(1, int(n * val_ratio))\n",
    "    test_len = max(1, int(n * test_ratio))\n",
    "    train_len = n - val_len - test_len\n",
    "\n",
    "    # train_len 이 1 미만이면 val/test 를 줄여 보정\n",
    "    if train_len < 1:\n",
    "        # 부족한 개수\n",
    "        shortage = 1 - train_len\n",
    "        # val/test 에서 뺄 수 있는 만큼 차감\n",
    "        take_from_val  = min(shortage, val_len - 1)\n",
    "        val_len  -= take_from_val\n",
    "        shortage -= take_from_val\n",
    "        test_len -= shortage          # 남으면 test 에서\n",
    "\n",
    "        train_len = 1\n",
    "\n",
    "    # (드물지만) 합계 초과 시 train 에서 차감\n",
    "    total = train_len + val_len + test_len\n",
    "    if total > n:\n",
    "        train_len -= total - n\n",
    "\n",
    "    return [train_len, val_len, test_len]\n",
    "\n",
    "\n",
    "# ──────────────────────────────────────────────────────────────────\n",
    "\n",
    "n = len(dataset)\n",
    "seed_everything(128)\n",
    "g = torch.Generator().manual_seed(128) #38\n",
    "val_len  = max(1, int(n * 0.15))\n",
    "test_len = max(1, int(n * 0.15))\n",
    "train_len = max(1, n - val_len - test_len)\n",
    "lengths = split_lengths(n, val_ratio=0.15, test_ratio=0.15)\n",
    "train_ds, val_ds, test_ds = random_split(dataset, lengths,\n",
    "                                         generator=g)\n",
    "print(f\"split lengths: {lengths} / dataset len = {n}\")\n",
    "\n",
    "\n",
    "# train_ds, val_ds, test_ds = random_split(dataset,\n",
    "#                                          [train_len, val_len, test_len],\n",
    "#                                          generator=g)\n",
    "\n",
    "batch_size = 2\n",
    "\n",
    "\n",
    "def make_loader(ds, shuffle):\n",
    "    if len(ds) == 0:\n",
    "        return None                    # val/test 가 비어 있으면 None\n",
    "    return DataLoader(ds,\n",
    "                      batch_size=min(3, len(ds)),   # batch_size ≤ dataset\n",
    "                      shuffle=(shuffle and len(ds) > 1),\n",
    "                      num_workers=0,\n",
    "                      collate_fn=collate_pad)\n",
    "\n",
    "train_loader = make_loader(train_ds, shuffle=True)\n",
    "val_loader   = make_loader(val_ds,   shuffle=False)\n",
    "test_loader  = make_loader(test_ds,  shuffle=False)\n",
    "\n",
    "\n",
    "\n",
    "# ──────────────────────────────────────────────────────────────────────────────\n",
    "# 6. 학습\n",
    "# ──────────────────────────────────────────────────────────────────────────────\n",
    "model = AudioTabularRNN(\n",
    "    audio_dim = 768,\n",
    "    tab_dim   = dataset.tab_dim,\n",
    "    tab_emb   = 64,\n",
    "    rnn_hid   = 128,\n",
    "    lr        = 1e-3,\n",
    "    pad_value = PAD_CRS,\n",
    "    λ_main    = 1.0,\n",
    "    λ_aux     = 0.3,\n",
    "    α_weight  = 0.5,     # severe 가중치\n",
    ")\n",
    "\n",
    "trainer = pl.Trainer(\n",
    "    max_epochs = 30,\n",
    "    accelerator = \"gpu\" if torch.cuda.is_available() else \"cpu\",\n",
    "    devices     = 1,\n",
    "    log_every_n_steps = 1,\n",
    ")\n",
    "\n",
    "trainer.fit(model, train_loader, val_loader)\n",
    "trainer.test(model, test_loader)"
   ]
  },
  {
   "cell_type": "code",
   "execution_count": null,
   "id": "a0477305-931e-4f3e-a4b4-187be1596b63",
   "metadata": {},
   "outputs": [],
   "source": []
  },
  {
   "cell_type": "code",
   "execution_count": 15,
   "id": "0d658609-eed0-4897-9a67-08d5ff13cb3b",
   "metadata": {
    "scrolled": true
   },
   "outputs": [
    {
     "name": "stderr",
     "output_type": "stream",
     "text": [
      "GPU available: True (cuda), used: True\n",
      "TPU available: False, using: 0 TPU cores\n",
      "IPU available: False, using: 0 IPUs\n",
      "HPU available: False, using: 0 HPUs\n",
      "/opt/conda/envs/audio/lib/python3.10/site-packages/pytorch_lightning/trainer/configuration_validator.py:74: You defined a `validation_step` but have no `val_dataloader`. Skipping val loop.\n",
      "LOCAL_RANK: 0 - CUDA_VISIBLE_DEVICES: [0,1,2,3,4,5,6]\n",
      "\n",
      "   | Name          | Type               | Params\n",
      "------------------------------------------------------\n",
      "0  | tab_enc       | TabularEncoder     | 4.9 K \n",
      "1  | rnn           | GRU                | 369 K \n",
      "2  | head_aux      | Linear             | 129   \n",
      "3  | head_main     | Linear             | 129   \n",
      "4  | mse           | MSELoss            | 0     \n",
      "5  | train_mae     | MeanAbsoluteError  | 0     \n",
      "6  | val_mae       | MeanAbsoluteError  | 0     \n",
      "7  | test_mae      | MeanAbsoluteError  | 0     \n",
      "8  | train_rmse    | MeanSquaredError   | 0     \n",
      "9  | val_rmse      | MeanSquaredError   | 0     \n",
      "10 | test_rmse     | MeanSquaredError   | 0     \n",
      "11 | train_acc     | MulticlassAccuracy | 0     \n",
      "12 | val_acc       | MulticlassAccuracy | 0     \n",
      "13 | test_acc      | MulticlassAccuracy | 0     \n",
      "14 | train_acc_tol | SumMetric          | 0     \n",
      "15 | val_acc_tol   | SumMetric          | 0     \n",
      "16 | test_acc_tol  | SumMetric          | 0     \n",
      "17 | train_cnt     | SumMetric          | 0     \n",
      "18 | val_cnt       | SumMetric          | 0     \n",
      "19 | test_cnt      | SumMetric          | 0     \n",
      "20 | train_auroc   | MulticlassAUROC    | 0     \n",
      "21 | val_auroc     | MulticlassAUROC    | 0     \n",
      "22 | test_auroc    | MulticlassAUROC    | 0     \n",
      "23 | train_mae_aux | MeanAbsoluteError  | 0     \n",
      "24 | val_mae_aux   | MeanAbsoluteError  | 0     \n",
      "25 | test_mae_aux  | MeanAbsoluteError  | 0     \n",
      "------------------------------------------------------\n",
      "374 K     Trainable params\n",
      "0         Non-trainable params\n",
      "374 K     Total params\n",
      "1.498     Total estimated model params size (MB)\n"
     ]
    },
    {
     "data": {
      "application/vnd.jupyter.widget-view+json": {
       "model_id": "6716ec43a0ff4d03b1b345ee044d47eb",
       "version_major": 2,
       "version_minor": 0
      },
      "text/plain": [
       "Training: |                                                                                                   …"
      ]
     },
     "metadata": {},
     "output_type": "display_data"
    },
    {
     "name": "stderr",
     "output_type": "stream",
     "text": [
      "`Trainer.fit` stopped: `max_epochs=50` reached.\n",
      "LOCAL_RANK: 0 - CUDA_VISIBLE_DEVICES: [0,1,2,3,4,5,6]\n"
     ]
    },
    {
     "data": {
      "application/vnd.jupyter.widget-view+json": {
       "model_id": "21bff60b974447a5ad8c6d831615cfa6",
       "version_major": 2,
       "version_minor": 0
      },
      "text/plain": [
       "Testing: |                                                                                                    …"
      ]
     },
     "metadata": {},
     "output_type": "display_data"
    },
    {
     "name": "stderr",
     "output_type": "stream",
     "text": [
      "/opt/conda/envs/audio/lib/python3.10/site-packages/torchmetrics/utilities/prints.py:43: UserWarning: No negative samples in targets, false positive value should be meaningless. Returning zero tensor in false positive score\n",
      "  warnings.warn(*args, **kwargs)  # noqa: B028\n",
      "GPU available: True (cuda), used: True\n",
      "TPU available: False, using: 0 TPU cores\n",
      "IPU available: False, using: 0 IPUs\n",
      "HPU available: False, using: 0 HPUs\n",
      "LOCAL_RANK: 0 - CUDA_VISIBLE_DEVICES: [0,1,2,3,4,5,6]\n",
      "\n",
      "   | Name          | Type               | Params\n",
      "------------------------------------------------------\n",
      "0  | tab_enc       | TabularEncoder     | 4.9 K \n",
      "1  | rnn           | GRU                | 369 K \n",
      "2  | head_aux      | Linear             | 129   \n",
      "3  | head_main     | Linear             | 129   \n",
      "4  | mse           | MSELoss            | 0     \n",
      "5  | train_mae     | MeanAbsoluteError  | 0     \n",
      "6  | val_mae       | MeanAbsoluteError  | 0     \n",
      "7  | test_mae      | MeanAbsoluteError  | 0     \n",
      "8  | train_rmse    | MeanSquaredError   | 0     \n",
      "9  | val_rmse      | MeanSquaredError   | 0     \n",
      "10 | test_rmse     | MeanSquaredError   | 0     \n",
      "11 | train_acc     | MulticlassAccuracy | 0     \n",
      "12 | val_acc       | MulticlassAccuracy | 0     \n",
      "13 | test_acc      | MulticlassAccuracy | 0     \n",
      "14 | train_acc_tol | SumMetric          | 0     \n",
      "15 | val_acc_tol   | SumMetric          | 0     \n",
      "16 | test_acc_tol  | SumMetric          | 0     \n",
      "17 | train_cnt     | SumMetric          | 0     \n",
      "18 | val_cnt       | SumMetric          | 0     \n",
      "19 | test_cnt      | SumMetric          | 0     \n",
      "20 | train_auroc   | MulticlassAUROC    | 0     \n",
      "21 | val_auroc     | MulticlassAUROC    | 0     \n",
      "22 | test_auroc    | MulticlassAUROC    | 0     \n",
      "23 | train_mae_aux | MeanAbsoluteError  | 0     \n",
      "24 | val_mae_aux   | MeanAbsoluteError  | 0     \n",
      "25 | test_mae_aux  | MeanAbsoluteError  | 0     \n",
      "------------------------------------------------------\n",
      "374 K     Trainable params\n",
      "0         Non-trainable params\n",
      "374 K     Total params\n",
      "1.498     Total estimated model params size (MB)\n"
     ]
    },
    {
     "name": "stdout",
     "output_type": "stream",
     "text": [
      "[LOOCV] PID= WEBSS-002  MAE=1.748 RMSE=1.748\n"
     ]
    },
    {
     "data": {
      "application/vnd.jupyter.widget-view+json": {
       "model_id": "1aa7ff67e70f43edb4ff3bdc123b24e4",
       "version_major": 2,
       "version_minor": 0
      },
      "text/plain": [
       "Training: |                                                                                                   …"
      ]
     },
     "metadata": {},
     "output_type": "display_data"
    },
    {
     "name": "stderr",
     "output_type": "stream",
     "text": [
      "`Trainer.fit` stopped: `max_epochs=50` reached.\n",
      "LOCAL_RANK: 0 - CUDA_VISIBLE_DEVICES: [0,1,2,3,4,5,6]\n"
     ]
    },
    {
     "data": {
      "application/vnd.jupyter.widget-view+json": {
       "model_id": "57de8c9d06bd4e62bbb32fb9cdb5960b",
       "version_major": 2,
       "version_minor": 0
      },
      "text/plain": [
       "Testing: |                                                                                                    …"
      ]
     },
     "metadata": {},
     "output_type": "display_data"
    },
    {
     "name": "stderr",
     "output_type": "stream",
     "text": [
      "GPU available: True (cuda), used: True\n",
      "TPU available: False, using: 0 TPU cores\n",
      "IPU available: False, using: 0 IPUs\n",
      "HPU available: False, using: 0 HPUs\n",
      "LOCAL_RANK: 0 - CUDA_VISIBLE_DEVICES: [0,1,2,3,4,5,6]\n",
      "\n",
      "   | Name          | Type               | Params\n",
      "------------------------------------------------------\n",
      "0  | tab_enc       | TabularEncoder     | 4.9 K \n",
      "1  | rnn           | GRU                | 369 K \n",
      "2  | head_aux      | Linear             | 129   \n",
      "3  | head_main     | Linear             | 129   \n",
      "4  | mse           | MSELoss            | 0     \n",
      "5  | train_mae     | MeanAbsoluteError  | 0     \n",
      "6  | val_mae       | MeanAbsoluteError  | 0     \n",
      "7  | test_mae      | MeanAbsoluteError  | 0     \n",
      "8  | train_rmse    | MeanSquaredError   | 0     \n",
      "9  | val_rmse      | MeanSquaredError   | 0     \n",
      "10 | test_rmse     | MeanSquaredError   | 0     \n",
      "11 | train_acc     | MulticlassAccuracy | 0     \n",
      "12 | val_acc       | MulticlassAccuracy | 0     \n",
      "13 | test_acc      | MulticlassAccuracy | 0     \n",
      "14 | train_acc_tol | SumMetric          | 0     \n",
      "15 | val_acc_tol   | SumMetric          | 0     \n",
      "16 | test_acc_tol  | SumMetric          | 0     \n",
      "17 | train_cnt     | SumMetric          | 0     \n",
      "18 | val_cnt       | SumMetric          | 0     \n",
      "19 | test_cnt      | SumMetric          | 0     \n",
      "20 | train_auroc   | MulticlassAUROC    | 0     \n",
      "21 | val_auroc     | MulticlassAUROC    | 0     \n",
      "22 | test_auroc    | MulticlassAUROC    | 0     \n",
      "23 | train_mae_aux | MeanAbsoluteError  | 0     \n",
      "24 | val_mae_aux   | MeanAbsoluteError  | 0     \n",
      "25 | test_mae_aux  | MeanAbsoluteError  | 0     \n",
      "------------------------------------------------------\n",
      "374 K     Trainable params\n",
      "0         Non-trainable params\n",
      "374 K     Total params\n",
      "1.498     Total estimated model params size (MB)\n"
     ]
    },
    {
     "name": "stdout",
     "output_type": "stream",
     "text": [
      "[LOOCV] PID= WEBSS-003  MAE=0.008 RMSE=0.008\n"
     ]
    },
    {
     "data": {
      "application/vnd.jupyter.widget-view+json": {
       "model_id": "09213bbbb3974ce3a9470246d7dfe39a",
       "version_major": 2,
       "version_minor": 0
      },
      "text/plain": [
       "Training: |                                                                                                   …"
      ]
     },
     "metadata": {},
     "output_type": "display_data"
    },
    {
     "name": "stderr",
     "output_type": "stream",
     "text": [
      "`Trainer.fit` stopped: `max_epochs=50` reached.\n",
      "LOCAL_RANK: 0 - CUDA_VISIBLE_DEVICES: [0,1,2,3,4,5,6]\n"
     ]
    },
    {
     "data": {
      "application/vnd.jupyter.widget-view+json": {
       "model_id": "47d3a917a6484f189f5488da7ba13c44",
       "version_major": 2,
       "version_minor": 0
      },
      "text/plain": [
       "Testing: |                                                                                                    …"
      ]
     },
     "metadata": {},
     "output_type": "display_data"
    },
    {
     "name": "stderr",
     "output_type": "stream",
     "text": [
      "GPU available: True (cuda), used: True\n",
      "TPU available: False, using: 0 TPU cores\n",
      "IPU available: False, using: 0 IPUs\n",
      "HPU available: False, using: 0 HPUs\n",
      "LOCAL_RANK: 0 - CUDA_VISIBLE_DEVICES: [0,1,2,3,4,5,6]\n",
      "\n",
      "   | Name          | Type               | Params\n",
      "------------------------------------------------------\n",
      "0  | tab_enc       | TabularEncoder     | 4.9 K \n",
      "1  | rnn           | GRU                | 369 K \n",
      "2  | head_aux      | Linear             | 129   \n",
      "3  | head_main     | Linear             | 129   \n",
      "4  | mse           | MSELoss            | 0     \n",
      "5  | train_mae     | MeanAbsoluteError  | 0     \n",
      "6  | val_mae       | MeanAbsoluteError  | 0     \n",
      "7  | test_mae      | MeanAbsoluteError  | 0     \n",
      "8  | train_rmse    | MeanSquaredError   | 0     \n",
      "9  | val_rmse      | MeanSquaredError   | 0     \n",
      "10 | test_rmse     | MeanSquaredError   | 0     \n",
      "11 | train_acc     | MulticlassAccuracy | 0     \n",
      "12 | val_acc       | MulticlassAccuracy | 0     \n",
      "13 | test_acc      | MulticlassAccuracy | 0     \n",
      "14 | train_acc_tol | SumMetric          | 0     \n",
      "15 | val_acc_tol   | SumMetric          | 0     \n",
      "16 | test_acc_tol  | SumMetric          | 0     \n",
      "17 | train_cnt     | SumMetric          | 0     \n",
      "18 | val_cnt       | SumMetric          | 0     \n",
      "19 | test_cnt      | SumMetric          | 0     \n",
      "20 | train_auroc   | MulticlassAUROC    | 0     \n",
      "21 | val_auroc     | MulticlassAUROC    | 0     \n",
      "22 | test_auroc    | MulticlassAUROC    | 0     \n",
      "23 | train_mae_aux | MeanAbsoluteError  | 0     \n",
      "24 | val_mae_aux   | MeanAbsoluteError  | 0     \n",
      "25 | test_mae_aux  | MeanAbsoluteError  | 0     \n",
      "------------------------------------------------------\n",
      "374 K     Trainable params\n",
      "0         Non-trainable params\n",
      "374 K     Total params\n",
      "1.498     Total estimated model params size (MB)\n"
     ]
    },
    {
     "name": "stdout",
     "output_type": "stream",
     "text": [
      "[LOOCV] PID= WEBSS-004  MAE=1.579 RMSE=1.579\n"
     ]
    },
    {
     "data": {
      "application/vnd.jupyter.widget-view+json": {
       "model_id": "cad442dfc2cd48faa86b4fff227a3a9a",
       "version_major": 2,
       "version_minor": 0
      },
      "text/plain": [
       "Training: |                                                                                                   …"
      ]
     },
     "metadata": {},
     "output_type": "display_data"
    },
    {
     "name": "stderr",
     "output_type": "stream",
     "text": [
      "`Trainer.fit` stopped: `max_epochs=50` reached.\n",
      "LOCAL_RANK: 0 - CUDA_VISIBLE_DEVICES: [0,1,2,3,4,5,6]\n"
     ]
    },
    {
     "data": {
      "application/vnd.jupyter.widget-view+json": {
       "model_id": "bfd44eaa033f453a94e02096176a495f",
       "version_major": 2,
       "version_minor": 0
      },
      "text/plain": [
       "Testing: |                                                                                                    …"
      ]
     },
     "metadata": {},
     "output_type": "display_data"
    },
    {
     "name": "stderr",
     "output_type": "stream",
     "text": [
      "GPU available: True (cuda), used: True\n",
      "TPU available: False, using: 0 TPU cores\n",
      "IPU available: False, using: 0 IPUs\n",
      "HPU available: False, using: 0 HPUs\n",
      "LOCAL_RANK: 0 - CUDA_VISIBLE_DEVICES: [0,1,2,3,4,5,6]\n",
      "\n",
      "   | Name          | Type               | Params\n",
      "------------------------------------------------------\n",
      "0  | tab_enc       | TabularEncoder     | 4.9 K \n",
      "1  | rnn           | GRU                | 369 K \n",
      "2  | head_aux      | Linear             | 129   \n",
      "3  | head_main     | Linear             | 129   \n",
      "4  | mse           | MSELoss            | 0     \n",
      "5  | train_mae     | MeanAbsoluteError  | 0     \n",
      "6  | val_mae       | MeanAbsoluteError  | 0     \n",
      "7  | test_mae      | MeanAbsoluteError  | 0     \n",
      "8  | train_rmse    | MeanSquaredError   | 0     \n",
      "9  | val_rmse      | MeanSquaredError   | 0     \n",
      "10 | test_rmse     | MeanSquaredError   | 0     \n",
      "11 | train_acc     | MulticlassAccuracy | 0     \n",
      "12 | val_acc       | MulticlassAccuracy | 0     \n",
      "13 | test_acc      | MulticlassAccuracy | 0     \n",
      "14 | train_acc_tol | SumMetric          | 0     \n",
      "15 | val_acc_tol   | SumMetric          | 0     \n",
      "16 | test_acc_tol  | SumMetric          | 0     \n",
      "17 | train_cnt     | SumMetric          | 0     \n",
      "18 | val_cnt       | SumMetric          | 0     \n",
      "19 | test_cnt      | SumMetric          | 0     \n",
      "20 | train_auroc   | MulticlassAUROC    | 0     \n",
      "21 | val_auroc     | MulticlassAUROC    | 0     \n",
      "22 | test_auroc    | MulticlassAUROC    | 0     \n",
      "23 | train_mae_aux | MeanAbsoluteError  | 0     \n",
      "24 | val_mae_aux   | MeanAbsoluteError  | 0     \n",
      "25 | test_mae_aux  | MeanAbsoluteError  | 0     \n",
      "------------------------------------------------------\n",
      "374 K     Trainable params\n",
      "0         Non-trainable params\n",
      "374 K     Total params\n",
      "1.498     Total estimated model params size (MB)\n"
     ]
    },
    {
     "name": "stdout",
     "output_type": "stream",
     "text": [
      "[LOOCV] PID= WEBSS-005  MAE=0.344 RMSE=0.344\n"
     ]
    },
    {
     "data": {
      "application/vnd.jupyter.widget-view+json": {
       "model_id": "3f4e2ce4066047dbbc881b5f6a1206ab",
       "version_major": 2,
       "version_minor": 0
      },
      "text/plain": [
       "Training: |                                                                                                   …"
      ]
     },
     "metadata": {},
     "output_type": "display_data"
    },
    {
     "name": "stderr",
     "output_type": "stream",
     "text": [
      "`Trainer.fit` stopped: `max_epochs=50` reached.\n",
      "LOCAL_RANK: 0 - CUDA_VISIBLE_DEVICES: [0,1,2,3,4,5,6]\n"
     ]
    },
    {
     "data": {
      "application/vnd.jupyter.widget-view+json": {
       "model_id": "33368605b8fe470095e9f2058b738bf9",
       "version_major": 2,
       "version_minor": 0
      },
      "text/plain": [
       "Testing: |                                                                                                    …"
      ]
     },
     "metadata": {},
     "output_type": "display_data"
    },
    {
     "name": "stderr",
     "output_type": "stream",
     "text": [
      "GPU available: True (cuda), used: True\n",
      "TPU available: False, using: 0 TPU cores\n",
      "IPU available: False, using: 0 IPUs\n",
      "HPU available: False, using: 0 HPUs\n",
      "LOCAL_RANK: 0 - CUDA_VISIBLE_DEVICES: [0,1,2,3,4,5,6]\n",
      "\n",
      "   | Name          | Type               | Params\n",
      "------------------------------------------------------\n",
      "0  | tab_enc       | TabularEncoder     | 4.9 K \n",
      "1  | rnn           | GRU                | 369 K \n",
      "2  | head_aux      | Linear             | 129   \n",
      "3  | head_main     | Linear             | 129   \n",
      "4  | mse           | MSELoss            | 0     \n",
      "5  | train_mae     | MeanAbsoluteError  | 0     \n",
      "6  | val_mae       | MeanAbsoluteError  | 0     \n",
      "7  | test_mae      | MeanAbsoluteError  | 0     \n",
      "8  | train_rmse    | MeanSquaredError   | 0     \n",
      "9  | val_rmse      | MeanSquaredError   | 0     \n",
      "10 | test_rmse     | MeanSquaredError   | 0     \n",
      "11 | train_acc     | MulticlassAccuracy | 0     \n",
      "12 | val_acc       | MulticlassAccuracy | 0     \n",
      "13 | test_acc      | MulticlassAccuracy | 0     \n",
      "14 | train_acc_tol | SumMetric          | 0     \n",
      "15 | val_acc_tol   | SumMetric          | 0     \n",
      "16 | test_acc_tol  | SumMetric          | 0     \n",
      "17 | train_cnt     | SumMetric          | 0     \n",
      "18 | val_cnt       | SumMetric          | 0     \n",
      "19 | test_cnt      | SumMetric          | 0     \n",
      "20 | train_auroc   | MulticlassAUROC    | 0     \n",
      "21 | val_auroc     | MulticlassAUROC    | 0     \n",
      "22 | test_auroc    | MulticlassAUROC    | 0     \n",
      "23 | train_mae_aux | MeanAbsoluteError  | 0     \n",
      "24 | val_mae_aux   | MeanAbsoluteError  | 0     \n",
      "25 | test_mae_aux  | MeanAbsoluteError  | 0     \n",
      "------------------------------------------------------\n",
      "374 K     Trainable params\n",
      "0         Non-trainable params\n",
      "374 K     Total params\n",
      "1.498     Total estimated model params size (MB)\n"
     ]
    },
    {
     "name": "stdout",
     "output_type": "stream",
     "text": [
      "[LOOCV] PID= WEBSS-006  MAE=0.263 RMSE=0.263\n"
     ]
    },
    {
     "data": {
      "application/vnd.jupyter.widget-view+json": {
       "model_id": "0a9809f607e9416680e626e491aa4a49",
       "version_major": 2,
       "version_minor": 0
      },
      "text/plain": [
       "Training: |                                                                                                   …"
      ]
     },
     "metadata": {},
     "output_type": "display_data"
    },
    {
     "name": "stderr",
     "output_type": "stream",
     "text": [
      "`Trainer.fit` stopped: `max_epochs=50` reached.\n",
      "LOCAL_RANK: 0 - CUDA_VISIBLE_DEVICES: [0,1,2,3,4,5,6]\n"
     ]
    },
    {
     "data": {
      "application/vnd.jupyter.widget-view+json": {
       "model_id": "24d102ab81d549c8b3636767b78b3c36",
       "version_major": 2,
       "version_minor": 0
      },
      "text/plain": [
       "Testing: |                                                                                                    …"
      ]
     },
     "metadata": {},
     "output_type": "display_data"
    },
    {
     "name": "stderr",
     "output_type": "stream",
     "text": [
      "GPU available: True (cuda), used: True\n",
      "TPU available: False, using: 0 TPU cores\n",
      "IPU available: False, using: 0 IPUs\n",
      "HPU available: False, using: 0 HPUs\n",
      "LOCAL_RANK: 0 - CUDA_VISIBLE_DEVICES: [0,1,2,3,4,5,6]\n",
      "\n",
      "   | Name          | Type               | Params\n",
      "------------------------------------------------------\n",
      "0  | tab_enc       | TabularEncoder     | 4.9 K \n",
      "1  | rnn           | GRU                | 369 K \n",
      "2  | head_aux      | Linear             | 129   \n",
      "3  | head_main     | Linear             | 129   \n",
      "4  | mse           | MSELoss            | 0     \n",
      "5  | train_mae     | MeanAbsoluteError  | 0     \n",
      "6  | val_mae       | MeanAbsoluteError  | 0     \n",
      "7  | test_mae      | MeanAbsoluteError  | 0     \n",
      "8  | train_rmse    | MeanSquaredError   | 0     \n",
      "9  | val_rmse      | MeanSquaredError   | 0     \n",
      "10 | test_rmse     | MeanSquaredError   | 0     \n",
      "11 | train_acc     | MulticlassAccuracy | 0     \n",
      "12 | val_acc       | MulticlassAccuracy | 0     \n",
      "13 | test_acc      | MulticlassAccuracy | 0     \n",
      "14 | train_acc_tol | SumMetric          | 0     \n",
      "15 | val_acc_tol   | SumMetric          | 0     \n",
      "16 | test_acc_tol  | SumMetric          | 0     \n",
      "17 | train_cnt     | SumMetric          | 0     \n",
      "18 | val_cnt       | SumMetric          | 0     \n",
      "19 | test_cnt      | SumMetric          | 0     \n",
      "20 | train_auroc   | MulticlassAUROC    | 0     \n",
      "21 | val_auroc     | MulticlassAUROC    | 0     \n",
      "22 | test_auroc    | MulticlassAUROC    | 0     \n",
      "23 | train_mae_aux | MeanAbsoluteError  | 0     \n",
      "24 | val_mae_aux   | MeanAbsoluteError  | 0     \n",
      "25 | test_mae_aux  | MeanAbsoluteError  | 0     \n",
      "------------------------------------------------------\n",
      "374 K     Trainable params\n",
      "0         Non-trainable params\n",
      "374 K     Total params\n",
      "1.498     Total estimated model params size (MB)\n"
     ]
    },
    {
     "name": "stdout",
     "output_type": "stream",
     "text": [
      "[LOOCV] PID= WEBSS-007  MAE=1.472 RMSE=1.472\n"
     ]
    },
    {
     "data": {
      "application/vnd.jupyter.widget-view+json": {
       "model_id": "39778340c1e34de6852b060ce77c645b",
       "version_major": 2,
       "version_minor": 0
      },
      "text/plain": [
       "Training: |                                                                                                   …"
      ]
     },
     "metadata": {},
     "output_type": "display_data"
    },
    {
     "name": "stderr",
     "output_type": "stream",
     "text": [
      "`Trainer.fit` stopped: `max_epochs=50` reached.\n",
      "LOCAL_RANK: 0 - CUDA_VISIBLE_DEVICES: [0,1,2,3,4,5,6]\n"
     ]
    },
    {
     "data": {
      "application/vnd.jupyter.widget-view+json": {
       "model_id": "bf0575cbf8194331aaf8b7e4321ba319",
       "version_major": 2,
       "version_minor": 0
      },
      "text/plain": [
       "Testing: |                                                                                                    …"
      ]
     },
     "metadata": {},
     "output_type": "display_data"
    },
    {
     "name": "stderr",
     "output_type": "stream",
     "text": [
      "GPU available: True (cuda), used: True\n",
      "TPU available: False, using: 0 TPU cores\n",
      "IPU available: False, using: 0 IPUs\n",
      "HPU available: False, using: 0 HPUs\n",
      "LOCAL_RANK: 0 - CUDA_VISIBLE_DEVICES: [0,1,2,3,4,5,6]\n",
      "\n",
      "   | Name          | Type               | Params\n",
      "------------------------------------------------------\n",
      "0  | tab_enc       | TabularEncoder     | 4.9 K \n",
      "1  | rnn           | GRU                | 369 K \n",
      "2  | head_aux      | Linear             | 129   \n",
      "3  | head_main     | Linear             | 129   \n",
      "4  | mse           | MSELoss            | 0     \n",
      "5  | train_mae     | MeanAbsoluteError  | 0     \n",
      "6  | val_mae       | MeanAbsoluteError  | 0     \n",
      "7  | test_mae      | MeanAbsoluteError  | 0     \n",
      "8  | train_rmse    | MeanSquaredError   | 0     \n",
      "9  | val_rmse      | MeanSquaredError   | 0     \n",
      "10 | test_rmse     | MeanSquaredError   | 0     \n",
      "11 | train_acc     | MulticlassAccuracy | 0     \n",
      "12 | val_acc       | MulticlassAccuracy | 0     \n",
      "13 | test_acc      | MulticlassAccuracy | 0     \n",
      "14 | train_acc_tol | SumMetric          | 0     \n",
      "15 | val_acc_tol   | SumMetric          | 0     \n",
      "16 | test_acc_tol  | SumMetric          | 0     \n",
      "17 | train_cnt     | SumMetric          | 0     \n",
      "18 | val_cnt       | SumMetric          | 0     \n",
      "19 | test_cnt      | SumMetric          | 0     \n",
      "20 | train_auroc   | MulticlassAUROC    | 0     \n",
      "21 | val_auroc     | MulticlassAUROC    | 0     \n",
      "22 | test_auroc    | MulticlassAUROC    | 0     \n",
      "23 | train_mae_aux | MeanAbsoluteError  | 0     \n",
      "24 | val_mae_aux   | MeanAbsoluteError  | 0     \n",
      "25 | test_mae_aux  | MeanAbsoluteError  | 0     \n",
      "------------------------------------------------------\n",
      "374 K     Trainable params\n",
      "0         Non-trainable params\n",
      "374 K     Total params\n",
      "1.498     Total estimated model params size (MB)\n"
     ]
    },
    {
     "name": "stdout",
     "output_type": "stream",
     "text": [
      "[LOOCV] PID=  normal-1  MAE=0.087 RMSE=0.087\n"
     ]
    },
    {
     "data": {
      "application/vnd.jupyter.widget-view+json": {
       "model_id": "bae0dc10d1924b4a818af0614168ee40",
       "version_major": 2,
       "version_minor": 0
      },
      "text/plain": [
       "Training: |                                                                                                   …"
      ]
     },
     "metadata": {},
     "output_type": "display_data"
    },
    {
     "name": "stderr",
     "output_type": "stream",
     "text": [
      "`Trainer.fit` stopped: `max_epochs=50` reached.\n",
      "LOCAL_RANK: 0 - CUDA_VISIBLE_DEVICES: [0,1,2,3,4,5,6]\n"
     ]
    },
    {
     "data": {
      "application/vnd.jupyter.widget-view+json": {
       "model_id": "2a2dde3c40534cc3833607f08ef09146",
       "version_major": 2,
       "version_minor": 0
      },
      "text/plain": [
       "Testing: |                                                                                                    …"
      ]
     },
     "metadata": {},
     "output_type": "display_data"
    },
    {
     "name": "stderr",
     "output_type": "stream",
     "text": [
      "GPU available: True (cuda), used: True\n",
      "TPU available: False, using: 0 TPU cores\n",
      "IPU available: False, using: 0 IPUs\n",
      "HPU available: False, using: 0 HPUs\n",
      "LOCAL_RANK: 0 - CUDA_VISIBLE_DEVICES: [0,1,2,3,4,5,6]\n",
      "\n",
      "   | Name          | Type               | Params\n",
      "------------------------------------------------------\n",
      "0  | tab_enc       | TabularEncoder     | 4.9 K \n",
      "1  | rnn           | GRU                | 369 K \n",
      "2  | head_aux      | Linear             | 129   \n",
      "3  | head_main     | Linear             | 129   \n",
      "4  | mse           | MSELoss            | 0     \n",
      "5  | train_mae     | MeanAbsoluteError  | 0     \n",
      "6  | val_mae       | MeanAbsoluteError  | 0     \n",
      "7  | test_mae      | MeanAbsoluteError  | 0     \n",
      "8  | train_rmse    | MeanSquaredError   | 0     \n",
      "9  | val_rmse      | MeanSquaredError   | 0     \n",
      "10 | test_rmse     | MeanSquaredError   | 0     \n",
      "11 | train_acc     | MulticlassAccuracy | 0     \n",
      "12 | val_acc       | MulticlassAccuracy | 0     \n",
      "13 | test_acc      | MulticlassAccuracy | 0     \n",
      "14 | train_acc_tol | SumMetric          | 0     \n",
      "15 | val_acc_tol   | SumMetric          | 0     \n",
      "16 | test_acc_tol  | SumMetric          | 0     \n",
      "17 | train_cnt     | SumMetric          | 0     \n",
      "18 | val_cnt       | SumMetric          | 0     \n",
      "19 | test_cnt      | SumMetric          | 0     \n",
      "20 | train_auroc   | MulticlassAUROC    | 0     \n",
      "21 | val_auroc     | MulticlassAUROC    | 0     \n",
      "22 | test_auroc    | MulticlassAUROC    | 0     \n",
      "23 | train_mae_aux | MeanAbsoluteError  | 0     \n",
      "24 | val_mae_aux   | MeanAbsoluteError  | 0     \n",
      "25 | test_mae_aux  | MeanAbsoluteError  | 0     \n",
      "------------------------------------------------------\n",
      "374 K     Trainable params\n",
      "0         Non-trainable params\n",
      "374 K     Total params\n",
      "1.498     Total estimated model params size (MB)\n"
     ]
    },
    {
     "name": "stdout",
     "output_type": "stream",
     "text": [
      "[LOOCV] PID= normal-10  MAE=0.023 RMSE=0.023\n"
     ]
    },
    {
     "data": {
      "application/vnd.jupyter.widget-view+json": {
       "model_id": "f6f75ccd0db946a089160756e37c7c03",
       "version_major": 2,
       "version_minor": 0
      },
      "text/plain": [
       "Training: |                                                                                                   …"
      ]
     },
     "metadata": {},
     "output_type": "display_data"
    },
    {
     "name": "stderr",
     "output_type": "stream",
     "text": [
      "`Trainer.fit` stopped: `max_epochs=50` reached.\n",
      "LOCAL_RANK: 0 - CUDA_VISIBLE_DEVICES: [0,1,2,3,4,5,6]\n"
     ]
    },
    {
     "data": {
      "application/vnd.jupyter.widget-view+json": {
       "model_id": "da6701de8f5d485b93ae9d5db255c9e0",
       "version_major": 2,
       "version_minor": 0
      },
      "text/plain": [
       "Testing: |                                                                                                    …"
      ]
     },
     "metadata": {},
     "output_type": "display_data"
    },
    {
     "name": "stderr",
     "output_type": "stream",
     "text": [
      "GPU available: True (cuda), used: True\n",
      "TPU available: False, using: 0 TPU cores\n",
      "IPU available: False, using: 0 IPUs\n",
      "HPU available: False, using: 0 HPUs\n",
      "LOCAL_RANK: 0 - CUDA_VISIBLE_DEVICES: [0,1,2,3,4,5,6]\n",
      "\n",
      "   | Name          | Type               | Params\n",
      "------------------------------------------------------\n",
      "0  | tab_enc       | TabularEncoder     | 4.9 K \n",
      "1  | rnn           | GRU                | 369 K \n",
      "2  | head_aux      | Linear             | 129   \n",
      "3  | head_main     | Linear             | 129   \n",
      "4  | mse           | MSELoss            | 0     \n",
      "5  | train_mae     | MeanAbsoluteError  | 0     \n",
      "6  | val_mae       | MeanAbsoluteError  | 0     \n",
      "7  | test_mae      | MeanAbsoluteError  | 0     \n",
      "8  | train_rmse    | MeanSquaredError   | 0     \n",
      "9  | val_rmse      | MeanSquaredError   | 0     \n",
      "10 | test_rmse     | MeanSquaredError   | 0     \n",
      "11 | train_acc     | MulticlassAccuracy | 0     \n",
      "12 | val_acc       | MulticlassAccuracy | 0     \n",
      "13 | test_acc      | MulticlassAccuracy | 0     \n",
      "14 | train_acc_tol | SumMetric          | 0     \n",
      "15 | val_acc_tol   | SumMetric          | 0     \n",
      "16 | test_acc_tol  | SumMetric          | 0     \n",
      "17 | train_cnt     | SumMetric          | 0     \n",
      "18 | val_cnt       | SumMetric          | 0     \n",
      "19 | test_cnt      | SumMetric          | 0     \n",
      "20 | train_auroc   | MulticlassAUROC    | 0     \n",
      "21 | val_auroc     | MulticlassAUROC    | 0     \n",
      "22 | test_auroc    | MulticlassAUROC    | 0     \n",
      "23 | train_mae_aux | MeanAbsoluteError  | 0     \n",
      "24 | val_mae_aux   | MeanAbsoluteError  | 0     \n",
      "25 | test_mae_aux  | MeanAbsoluteError  | 0     \n",
      "------------------------------------------------------\n",
      "374 K     Trainable params\n",
      "0         Non-trainable params\n",
      "374 K     Total params\n",
      "1.498     Total estimated model params size (MB)\n"
     ]
    },
    {
     "name": "stdout",
     "output_type": "stream",
     "text": [
      "[LOOCV] PID= normal-11  MAE=0.047 RMSE=0.047\n"
     ]
    },
    {
     "data": {
      "application/vnd.jupyter.widget-view+json": {
       "model_id": "cce291fe086b4db9aeede7edf1ab208a",
       "version_major": 2,
       "version_minor": 0
      },
      "text/plain": [
       "Training: |                                                                                                   …"
      ]
     },
     "metadata": {},
     "output_type": "display_data"
    },
    {
     "name": "stderr",
     "output_type": "stream",
     "text": [
      "`Trainer.fit` stopped: `max_epochs=50` reached.\n",
      "LOCAL_RANK: 0 - CUDA_VISIBLE_DEVICES: [0,1,2,3,4,5,6]\n"
     ]
    },
    {
     "data": {
      "application/vnd.jupyter.widget-view+json": {
       "model_id": "4f1d5c8507694f48bb8393e06b08a42f",
       "version_major": 2,
       "version_minor": 0
      },
      "text/plain": [
       "Testing: |                                                                                                    …"
      ]
     },
     "metadata": {},
     "output_type": "display_data"
    },
    {
     "name": "stderr",
     "output_type": "stream",
     "text": [
      "GPU available: True (cuda), used: True\n",
      "TPU available: False, using: 0 TPU cores\n",
      "IPU available: False, using: 0 IPUs\n",
      "HPU available: False, using: 0 HPUs\n",
      "LOCAL_RANK: 0 - CUDA_VISIBLE_DEVICES: [0,1,2,3,4,5,6]\n",
      "\n",
      "   | Name          | Type               | Params\n",
      "------------------------------------------------------\n",
      "0  | tab_enc       | TabularEncoder     | 4.9 K \n",
      "1  | rnn           | GRU                | 369 K \n",
      "2  | head_aux      | Linear             | 129   \n",
      "3  | head_main     | Linear             | 129   \n",
      "4  | mse           | MSELoss            | 0     \n",
      "5  | train_mae     | MeanAbsoluteError  | 0     \n",
      "6  | val_mae       | MeanAbsoluteError  | 0     \n",
      "7  | test_mae      | MeanAbsoluteError  | 0     \n",
      "8  | train_rmse    | MeanSquaredError   | 0     \n",
      "9  | val_rmse      | MeanSquaredError   | 0     \n",
      "10 | test_rmse     | MeanSquaredError   | 0     \n",
      "11 | train_acc     | MulticlassAccuracy | 0     \n",
      "12 | val_acc       | MulticlassAccuracy | 0     \n",
      "13 | test_acc      | MulticlassAccuracy | 0     \n",
      "14 | train_acc_tol | SumMetric          | 0     \n",
      "15 | val_acc_tol   | SumMetric          | 0     \n",
      "16 | test_acc_tol  | SumMetric          | 0     \n",
      "17 | train_cnt     | SumMetric          | 0     \n",
      "18 | val_cnt       | SumMetric          | 0     \n",
      "19 | test_cnt      | SumMetric          | 0     \n",
      "20 | train_auroc   | MulticlassAUROC    | 0     \n",
      "21 | val_auroc     | MulticlassAUROC    | 0     \n",
      "22 | test_auroc    | MulticlassAUROC    | 0     \n",
      "23 | train_mae_aux | MeanAbsoluteError  | 0     \n",
      "24 | val_mae_aux   | MeanAbsoluteError  | 0     \n",
      "25 | test_mae_aux  | MeanAbsoluteError  | 0     \n",
      "------------------------------------------------------\n",
      "374 K     Trainable params\n",
      "0         Non-trainable params\n",
      "374 K     Total params\n",
      "1.498     Total estimated model params size (MB)\n"
     ]
    },
    {
     "name": "stdout",
     "output_type": "stream",
     "text": [
      "[LOOCV] PID= normal-12  MAE=1.061 RMSE=1.061\n"
     ]
    },
    {
     "data": {
      "application/vnd.jupyter.widget-view+json": {
       "model_id": "53df66d4f2374f099bab5e8e367a6203",
       "version_major": 2,
       "version_minor": 0
      },
      "text/plain": [
       "Training: |                                                                                                   …"
      ]
     },
     "metadata": {},
     "output_type": "display_data"
    },
    {
     "name": "stderr",
     "output_type": "stream",
     "text": [
      "`Trainer.fit` stopped: `max_epochs=50` reached.\n",
      "LOCAL_RANK: 0 - CUDA_VISIBLE_DEVICES: [0,1,2,3,4,5,6]\n"
     ]
    },
    {
     "data": {
      "application/vnd.jupyter.widget-view+json": {
       "model_id": "465209906dc3404483431ee67b029b6a",
       "version_major": 2,
       "version_minor": 0
      },
      "text/plain": [
       "Testing: |                                                                                                    …"
      ]
     },
     "metadata": {},
     "output_type": "display_data"
    },
    {
     "name": "stderr",
     "output_type": "stream",
     "text": [
      "GPU available: True (cuda), used: True\n",
      "TPU available: False, using: 0 TPU cores\n",
      "IPU available: False, using: 0 IPUs\n",
      "HPU available: False, using: 0 HPUs\n",
      "LOCAL_RANK: 0 - CUDA_VISIBLE_DEVICES: [0,1,2,3,4,5,6]\n",
      "\n",
      "   | Name          | Type               | Params\n",
      "------------------------------------------------------\n",
      "0  | tab_enc       | TabularEncoder     | 4.9 K \n",
      "1  | rnn           | GRU                | 369 K \n",
      "2  | head_aux      | Linear             | 129   \n",
      "3  | head_main     | Linear             | 129   \n",
      "4  | mse           | MSELoss            | 0     \n",
      "5  | train_mae     | MeanAbsoluteError  | 0     \n",
      "6  | val_mae       | MeanAbsoluteError  | 0     \n",
      "7  | test_mae      | MeanAbsoluteError  | 0     \n",
      "8  | train_rmse    | MeanSquaredError   | 0     \n",
      "9  | val_rmse      | MeanSquaredError   | 0     \n",
      "10 | test_rmse     | MeanSquaredError   | 0     \n",
      "11 | train_acc     | MulticlassAccuracy | 0     \n",
      "12 | val_acc       | MulticlassAccuracy | 0     \n",
      "13 | test_acc      | MulticlassAccuracy | 0     \n",
      "14 | train_acc_tol | SumMetric          | 0     \n",
      "15 | val_acc_tol   | SumMetric          | 0     \n",
      "16 | test_acc_tol  | SumMetric          | 0     \n",
      "17 | train_cnt     | SumMetric          | 0     \n",
      "18 | val_cnt       | SumMetric          | 0     \n",
      "19 | test_cnt      | SumMetric          | 0     \n",
      "20 | train_auroc   | MulticlassAUROC    | 0     \n",
      "21 | val_auroc     | MulticlassAUROC    | 0     \n",
      "22 | test_auroc    | MulticlassAUROC    | 0     \n",
      "23 | train_mae_aux | MeanAbsoluteError  | 0     \n",
      "24 | val_mae_aux   | MeanAbsoluteError  | 0     \n",
      "25 | test_mae_aux  | MeanAbsoluteError  | 0     \n",
      "------------------------------------------------------\n",
      "374 K     Trainable params\n",
      "0         Non-trainable params\n",
      "374 K     Total params\n",
      "1.498     Total estimated model params size (MB)\n"
     ]
    },
    {
     "name": "stdout",
     "output_type": "stream",
     "text": [
      "[LOOCV] PID= normal-13  MAE=0.049 RMSE=0.049\n"
     ]
    },
    {
     "data": {
      "application/vnd.jupyter.widget-view+json": {
       "model_id": "d5efc292ebc74635b302af2b0712dd37",
       "version_major": 2,
       "version_minor": 0
      },
      "text/plain": [
       "Training: |                                                                                                   …"
      ]
     },
     "metadata": {},
     "output_type": "display_data"
    },
    {
     "name": "stderr",
     "output_type": "stream",
     "text": [
      "`Trainer.fit` stopped: `max_epochs=50` reached.\n",
      "LOCAL_RANK: 0 - CUDA_VISIBLE_DEVICES: [0,1,2,3,4,5,6]\n"
     ]
    },
    {
     "data": {
      "application/vnd.jupyter.widget-view+json": {
       "model_id": "bab8c6a8ad4f466bbcb69d253b1e9035",
       "version_major": 2,
       "version_minor": 0
      },
      "text/plain": [
       "Testing: |                                                                                                    …"
      ]
     },
     "metadata": {},
     "output_type": "display_data"
    },
    {
     "name": "stderr",
     "output_type": "stream",
     "text": [
      "GPU available: True (cuda), used: True\n",
      "TPU available: False, using: 0 TPU cores\n",
      "IPU available: False, using: 0 IPUs\n",
      "HPU available: False, using: 0 HPUs\n",
      "LOCAL_RANK: 0 - CUDA_VISIBLE_DEVICES: [0,1,2,3,4,5,6]\n",
      "\n",
      "   | Name          | Type               | Params\n",
      "------------------------------------------------------\n",
      "0  | tab_enc       | TabularEncoder     | 4.9 K \n",
      "1  | rnn           | GRU                | 369 K \n",
      "2  | head_aux      | Linear             | 129   \n",
      "3  | head_main     | Linear             | 129   \n",
      "4  | mse           | MSELoss            | 0     \n",
      "5  | train_mae     | MeanAbsoluteError  | 0     \n",
      "6  | val_mae       | MeanAbsoluteError  | 0     \n",
      "7  | test_mae      | MeanAbsoluteError  | 0     \n",
      "8  | train_rmse    | MeanSquaredError   | 0     \n",
      "9  | val_rmse      | MeanSquaredError   | 0     \n",
      "10 | test_rmse     | MeanSquaredError   | 0     \n",
      "11 | train_acc     | MulticlassAccuracy | 0     \n",
      "12 | val_acc       | MulticlassAccuracy | 0     \n",
      "13 | test_acc      | MulticlassAccuracy | 0     \n",
      "14 | train_acc_tol | SumMetric          | 0     \n",
      "15 | val_acc_tol   | SumMetric          | 0     \n",
      "16 | test_acc_tol  | SumMetric          | 0     \n",
      "17 | train_cnt     | SumMetric          | 0     \n",
      "18 | val_cnt       | SumMetric          | 0     \n",
      "19 | test_cnt      | SumMetric          | 0     \n",
      "20 | train_auroc   | MulticlassAUROC    | 0     \n",
      "21 | val_auroc     | MulticlassAUROC    | 0     \n",
      "22 | test_auroc    | MulticlassAUROC    | 0     \n",
      "23 | train_mae_aux | MeanAbsoluteError  | 0     \n",
      "24 | val_mae_aux   | MeanAbsoluteError  | 0     \n",
      "25 | test_mae_aux  | MeanAbsoluteError  | 0     \n",
      "------------------------------------------------------\n",
      "374 K     Trainable params\n",
      "0         Non-trainable params\n",
      "374 K     Total params\n",
      "1.498     Total estimated model params size (MB)\n"
     ]
    },
    {
     "name": "stdout",
     "output_type": "stream",
     "text": [
      "[LOOCV] PID= normal-14  MAE=0.205 RMSE=0.205\n"
     ]
    },
    {
     "data": {
      "application/vnd.jupyter.widget-view+json": {
       "model_id": "1534543464c44dd0a074b7f4312dc351",
       "version_major": 2,
       "version_minor": 0
      },
      "text/plain": [
       "Training: |                                                                                                   …"
      ]
     },
     "metadata": {},
     "output_type": "display_data"
    },
    {
     "name": "stderr",
     "output_type": "stream",
     "text": [
      "`Trainer.fit` stopped: `max_epochs=50` reached.\n",
      "LOCAL_RANK: 0 - CUDA_VISIBLE_DEVICES: [0,1,2,3,4,5,6]\n"
     ]
    },
    {
     "data": {
      "application/vnd.jupyter.widget-view+json": {
       "model_id": "2387029250bb4fdf9e6c0607b4703ba6",
       "version_major": 2,
       "version_minor": 0
      },
      "text/plain": [
       "Testing: |                                                                                                    …"
      ]
     },
     "metadata": {},
     "output_type": "display_data"
    },
    {
     "name": "stderr",
     "output_type": "stream",
     "text": [
      "GPU available: True (cuda), used: True\n",
      "TPU available: False, using: 0 TPU cores\n",
      "IPU available: False, using: 0 IPUs\n",
      "HPU available: False, using: 0 HPUs\n",
      "LOCAL_RANK: 0 - CUDA_VISIBLE_DEVICES: [0,1,2,3,4,5,6]\n",
      "\n",
      "   | Name          | Type               | Params\n",
      "------------------------------------------------------\n",
      "0  | tab_enc       | TabularEncoder     | 4.9 K \n",
      "1  | rnn           | GRU                | 369 K \n",
      "2  | head_aux      | Linear             | 129   \n",
      "3  | head_main     | Linear             | 129   \n",
      "4  | mse           | MSELoss            | 0     \n",
      "5  | train_mae     | MeanAbsoluteError  | 0     \n",
      "6  | val_mae       | MeanAbsoluteError  | 0     \n",
      "7  | test_mae      | MeanAbsoluteError  | 0     \n",
      "8  | train_rmse    | MeanSquaredError   | 0     \n",
      "9  | val_rmse      | MeanSquaredError   | 0     \n",
      "10 | test_rmse     | MeanSquaredError   | 0     \n",
      "11 | train_acc     | MulticlassAccuracy | 0     \n",
      "12 | val_acc       | MulticlassAccuracy | 0     \n",
      "13 | test_acc      | MulticlassAccuracy | 0     \n",
      "14 | train_acc_tol | SumMetric          | 0     \n",
      "15 | val_acc_tol   | SumMetric          | 0     \n",
      "16 | test_acc_tol  | SumMetric          | 0     \n",
      "17 | train_cnt     | SumMetric          | 0     \n",
      "18 | val_cnt       | SumMetric          | 0     \n",
      "19 | test_cnt      | SumMetric          | 0     \n",
      "20 | train_auroc   | MulticlassAUROC    | 0     \n",
      "21 | val_auroc     | MulticlassAUROC    | 0     \n",
      "22 | test_auroc    | MulticlassAUROC    | 0     \n",
      "23 | train_mae_aux | MeanAbsoluteError  | 0     \n",
      "24 | val_mae_aux   | MeanAbsoluteError  | 0     \n",
      "25 | test_mae_aux  | MeanAbsoluteError  | 0     \n",
      "------------------------------------------------------\n",
      "374 K     Trainable params\n",
      "0         Non-trainable params\n",
      "374 K     Total params\n",
      "1.498     Total estimated model params size (MB)\n"
     ]
    },
    {
     "name": "stdout",
     "output_type": "stream",
     "text": [
      "[LOOCV] PID= normal-15  MAE=1.210 RMSE=1.210\n"
     ]
    },
    {
     "data": {
      "application/vnd.jupyter.widget-view+json": {
       "model_id": "6cd1159610e64c1db03d868af304b512",
       "version_major": 2,
       "version_minor": 0
      },
      "text/plain": [
       "Training: |                                                                                                   …"
      ]
     },
     "metadata": {},
     "output_type": "display_data"
    },
    {
     "name": "stderr",
     "output_type": "stream",
     "text": [
      "`Trainer.fit` stopped: `max_epochs=50` reached.\n",
      "LOCAL_RANK: 0 - CUDA_VISIBLE_DEVICES: [0,1,2,3,4,5,6]\n"
     ]
    },
    {
     "data": {
      "application/vnd.jupyter.widget-view+json": {
       "model_id": "47d69f6e434745819c68c1e793ff7da9",
       "version_major": 2,
       "version_minor": 0
      },
      "text/plain": [
       "Testing: |                                                                                                    …"
      ]
     },
     "metadata": {},
     "output_type": "display_data"
    },
    {
     "name": "stderr",
     "output_type": "stream",
     "text": [
      "GPU available: True (cuda), used: True\n",
      "TPU available: False, using: 0 TPU cores\n",
      "IPU available: False, using: 0 IPUs\n",
      "HPU available: False, using: 0 HPUs\n",
      "LOCAL_RANK: 0 - CUDA_VISIBLE_DEVICES: [0,1,2,3,4,5,6]\n",
      "\n",
      "   | Name          | Type               | Params\n",
      "------------------------------------------------------\n",
      "0  | tab_enc       | TabularEncoder     | 4.9 K \n",
      "1  | rnn           | GRU                | 369 K \n",
      "2  | head_aux      | Linear             | 129   \n",
      "3  | head_main     | Linear             | 129   \n",
      "4  | mse           | MSELoss            | 0     \n",
      "5  | train_mae     | MeanAbsoluteError  | 0     \n",
      "6  | val_mae       | MeanAbsoluteError  | 0     \n",
      "7  | test_mae      | MeanAbsoluteError  | 0     \n",
      "8  | train_rmse    | MeanSquaredError   | 0     \n",
      "9  | val_rmse      | MeanSquaredError   | 0     \n",
      "10 | test_rmse     | MeanSquaredError   | 0     \n",
      "11 | train_acc     | MulticlassAccuracy | 0     \n",
      "12 | val_acc       | MulticlassAccuracy | 0     \n",
      "13 | test_acc      | MulticlassAccuracy | 0     \n",
      "14 | train_acc_tol | SumMetric          | 0     \n",
      "15 | val_acc_tol   | SumMetric          | 0     \n",
      "16 | test_acc_tol  | SumMetric          | 0     \n",
      "17 | train_cnt     | SumMetric          | 0     \n",
      "18 | val_cnt       | SumMetric          | 0     \n",
      "19 | test_cnt      | SumMetric          | 0     \n",
      "20 | train_auroc   | MulticlassAUROC    | 0     \n",
      "21 | val_auroc     | MulticlassAUROC    | 0     \n",
      "22 | test_auroc    | MulticlassAUROC    | 0     \n",
      "23 | train_mae_aux | MeanAbsoluteError  | 0     \n",
      "24 | val_mae_aux   | MeanAbsoluteError  | 0     \n",
      "25 | test_mae_aux  | MeanAbsoluteError  | 0     \n",
      "------------------------------------------------------\n",
      "374 K     Trainable params\n",
      "0         Non-trainable params\n",
      "374 K     Total params\n",
      "1.498     Total estimated model params size (MB)\n"
     ]
    },
    {
     "name": "stdout",
     "output_type": "stream",
     "text": [
      "[LOOCV] PID= normal-16  MAE=0.137 RMSE=0.137\n"
     ]
    },
    {
     "data": {
      "application/vnd.jupyter.widget-view+json": {
       "model_id": "f36df2d1d478400590a1b65b7f9fd69e",
       "version_major": 2,
       "version_minor": 0
      },
      "text/plain": [
       "Training: |                                                                                                   …"
      ]
     },
     "metadata": {},
     "output_type": "display_data"
    },
    {
     "name": "stderr",
     "output_type": "stream",
     "text": [
      "`Trainer.fit` stopped: `max_epochs=50` reached.\n",
      "LOCAL_RANK: 0 - CUDA_VISIBLE_DEVICES: [0,1,2,3,4,5,6]\n"
     ]
    },
    {
     "data": {
      "application/vnd.jupyter.widget-view+json": {
       "model_id": "cfbe032a39264ea59d60ef9106f53da8",
       "version_major": 2,
       "version_minor": 0
      },
      "text/plain": [
       "Testing: |                                                                                                    …"
      ]
     },
     "metadata": {},
     "output_type": "display_data"
    },
    {
     "name": "stderr",
     "output_type": "stream",
     "text": [
      "GPU available: True (cuda), used: True\n",
      "TPU available: False, using: 0 TPU cores\n",
      "IPU available: False, using: 0 IPUs\n",
      "HPU available: False, using: 0 HPUs\n",
      "LOCAL_RANK: 0 - CUDA_VISIBLE_DEVICES: [0,1,2,3,4,5,6]\n",
      "\n",
      "   | Name          | Type               | Params\n",
      "------------------------------------------------------\n",
      "0  | tab_enc       | TabularEncoder     | 4.9 K \n",
      "1  | rnn           | GRU                | 369 K \n",
      "2  | head_aux      | Linear             | 129   \n",
      "3  | head_main     | Linear             | 129   \n",
      "4  | mse           | MSELoss            | 0     \n",
      "5  | train_mae     | MeanAbsoluteError  | 0     \n",
      "6  | val_mae       | MeanAbsoluteError  | 0     \n",
      "7  | test_mae      | MeanAbsoluteError  | 0     \n",
      "8  | train_rmse    | MeanSquaredError   | 0     \n",
      "9  | val_rmse      | MeanSquaredError   | 0     \n",
      "10 | test_rmse     | MeanSquaredError   | 0     \n",
      "11 | train_acc     | MulticlassAccuracy | 0     \n",
      "12 | val_acc       | MulticlassAccuracy | 0     \n",
      "13 | test_acc      | MulticlassAccuracy | 0     \n",
      "14 | train_acc_tol | SumMetric          | 0     \n",
      "15 | val_acc_tol   | SumMetric          | 0     \n",
      "16 | test_acc_tol  | SumMetric          | 0     \n",
      "17 | train_cnt     | SumMetric          | 0     \n",
      "18 | val_cnt       | SumMetric          | 0     \n",
      "19 | test_cnt      | SumMetric          | 0     \n",
      "20 | train_auroc   | MulticlassAUROC    | 0     \n",
      "21 | val_auroc     | MulticlassAUROC    | 0     \n",
      "22 | test_auroc    | MulticlassAUROC    | 0     \n",
      "23 | train_mae_aux | MeanAbsoluteError  | 0     \n",
      "24 | val_mae_aux   | MeanAbsoluteError  | 0     \n",
      "25 | test_mae_aux  | MeanAbsoluteError  | 0     \n",
      "------------------------------------------------------\n",
      "374 K     Trainable params\n",
      "0         Non-trainable params\n",
      "374 K     Total params\n",
      "1.498     Total estimated model params size (MB)\n"
     ]
    },
    {
     "name": "stdout",
     "output_type": "stream",
     "text": [
      "[LOOCV] PID= normal-17  MAE=0.091 RMSE=0.091\n"
     ]
    },
    {
     "data": {
      "application/vnd.jupyter.widget-view+json": {
       "model_id": "0e463c39f0a1400bb5c95c601e51674b",
       "version_major": 2,
       "version_minor": 0
      },
      "text/plain": [
       "Training: |                                                                                                   …"
      ]
     },
     "metadata": {},
     "output_type": "display_data"
    },
    {
     "name": "stderr",
     "output_type": "stream",
     "text": [
      "`Trainer.fit` stopped: `max_epochs=50` reached.\n",
      "LOCAL_RANK: 0 - CUDA_VISIBLE_DEVICES: [0,1,2,3,4,5,6]\n"
     ]
    },
    {
     "data": {
      "application/vnd.jupyter.widget-view+json": {
       "model_id": "3f8d3845c7994b19bd0bb10f72684bb1",
       "version_major": 2,
       "version_minor": 0
      },
      "text/plain": [
       "Testing: |                                                                                                    …"
      ]
     },
     "metadata": {},
     "output_type": "display_data"
    },
    {
     "name": "stderr",
     "output_type": "stream",
     "text": [
      "GPU available: True (cuda), used: True\n",
      "TPU available: False, using: 0 TPU cores\n",
      "IPU available: False, using: 0 IPUs\n",
      "HPU available: False, using: 0 HPUs\n",
      "LOCAL_RANK: 0 - CUDA_VISIBLE_DEVICES: [0,1,2,3,4,5,6]\n",
      "\n",
      "   | Name          | Type               | Params\n",
      "------------------------------------------------------\n",
      "0  | tab_enc       | TabularEncoder     | 4.9 K \n",
      "1  | rnn           | GRU                | 369 K \n",
      "2  | head_aux      | Linear             | 129   \n",
      "3  | head_main     | Linear             | 129   \n",
      "4  | mse           | MSELoss            | 0     \n",
      "5  | train_mae     | MeanAbsoluteError  | 0     \n",
      "6  | val_mae       | MeanAbsoluteError  | 0     \n",
      "7  | test_mae      | MeanAbsoluteError  | 0     \n",
      "8  | train_rmse    | MeanSquaredError   | 0     \n",
      "9  | val_rmse      | MeanSquaredError   | 0     \n",
      "10 | test_rmse     | MeanSquaredError   | 0     \n",
      "11 | train_acc     | MulticlassAccuracy | 0     \n",
      "12 | val_acc       | MulticlassAccuracy | 0     \n",
      "13 | test_acc      | MulticlassAccuracy | 0     \n",
      "14 | train_acc_tol | SumMetric          | 0     \n",
      "15 | val_acc_tol   | SumMetric          | 0     \n",
      "16 | test_acc_tol  | SumMetric          | 0     \n",
      "17 | train_cnt     | SumMetric          | 0     \n",
      "18 | val_cnt       | SumMetric          | 0     \n",
      "19 | test_cnt      | SumMetric          | 0     \n",
      "20 | train_auroc   | MulticlassAUROC    | 0     \n",
      "21 | val_auroc     | MulticlassAUROC    | 0     \n",
      "22 | test_auroc    | MulticlassAUROC    | 0     \n",
      "23 | train_mae_aux | MeanAbsoluteError  | 0     \n",
      "24 | val_mae_aux   | MeanAbsoluteError  | 0     \n",
      "25 | test_mae_aux  | MeanAbsoluteError  | 0     \n",
      "------------------------------------------------------\n",
      "374 K     Trainable params\n",
      "0         Non-trainable params\n",
      "374 K     Total params\n",
      "1.498     Total estimated model params size (MB)\n"
     ]
    },
    {
     "name": "stdout",
     "output_type": "stream",
     "text": [
      "[LOOCV] PID= normal-18  MAE=0.010 RMSE=0.010\n"
     ]
    },
    {
     "data": {
      "application/vnd.jupyter.widget-view+json": {
       "model_id": "7b730b45b27643939644c17ce05a7acf",
       "version_major": 2,
       "version_minor": 0
      },
      "text/plain": [
       "Training: |                                                                                                   …"
      ]
     },
     "metadata": {},
     "output_type": "display_data"
    },
    {
     "name": "stderr",
     "output_type": "stream",
     "text": [
      "`Trainer.fit` stopped: `max_epochs=50` reached.\n",
      "LOCAL_RANK: 0 - CUDA_VISIBLE_DEVICES: [0,1,2,3,4,5,6]\n"
     ]
    },
    {
     "data": {
      "application/vnd.jupyter.widget-view+json": {
       "model_id": "c8fdb6137d9848a78951d3b409a010e6",
       "version_major": 2,
       "version_minor": 0
      },
      "text/plain": [
       "Testing: |                                                                                                    …"
      ]
     },
     "metadata": {},
     "output_type": "display_data"
    },
    {
     "name": "stderr",
     "output_type": "stream",
     "text": [
      "GPU available: True (cuda), used: True\n",
      "TPU available: False, using: 0 TPU cores\n",
      "IPU available: False, using: 0 IPUs\n",
      "HPU available: False, using: 0 HPUs\n",
      "LOCAL_RANK: 0 - CUDA_VISIBLE_DEVICES: [0,1,2,3,4,5,6]\n",
      "\n",
      "   | Name          | Type               | Params\n",
      "------------------------------------------------------\n",
      "0  | tab_enc       | TabularEncoder     | 4.9 K \n",
      "1  | rnn           | GRU                | 369 K \n",
      "2  | head_aux      | Linear             | 129   \n",
      "3  | head_main     | Linear             | 129   \n",
      "4  | mse           | MSELoss            | 0     \n",
      "5  | train_mae     | MeanAbsoluteError  | 0     \n",
      "6  | val_mae       | MeanAbsoluteError  | 0     \n",
      "7  | test_mae      | MeanAbsoluteError  | 0     \n",
      "8  | train_rmse    | MeanSquaredError   | 0     \n",
      "9  | val_rmse      | MeanSquaredError   | 0     \n",
      "10 | test_rmse     | MeanSquaredError   | 0     \n",
      "11 | train_acc     | MulticlassAccuracy | 0     \n",
      "12 | val_acc       | MulticlassAccuracy | 0     \n",
      "13 | test_acc      | MulticlassAccuracy | 0     \n",
      "14 | train_acc_tol | SumMetric          | 0     \n",
      "15 | val_acc_tol   | SumMetric          | 0     \n",
      "16 | test_acc_tol  | SumMetric          | 0     \n",
      "17 | train_cnt     | SumMetric          | 0     \n",
      "18 | val_cnt       | SumMetric          | 0     \n",
      "19 | test_cnt      | SumMetric          | 0     \n",
      "20 | train_auroc   | MulticlassAUROC    | 0     \n",
      "21 | val_auroc     | MulticlassAUROC    | 0     \n",
      "22 | test_auroc    | MulticlassAUROC    | 0     \n",
      "23 | train_mae_aux | MeanAbsoluteError  | 0     \n",
      "24 | val_mae_aux   | MeanAbsoluteError  | 0     \n",
      "25 | test_mae_aux  | MeanAbsoluteError  | 0     \n",
      "------------------------------------------------------\n",
      "374 K     Trainable params\n",
      "0         Non-trainable params\n",
      "374 K     Total params\n",
      "1.498     Total estimated model params size (MB)\n"
     ]
    },
    {
     "name": "stdout",
     "output_type": "stream",
     "text": [
      "[LOOCV] PID= normal-19  MAE=0.735 RMSE=0.735\n"
     ]
    },
    {
     "data": {
      "application/vnd.jupyter.widget-view+json": {
       "model_id": "604b41943f9147b0b6a1e63caf72e5b7",
       "version_major": 2,
       "version_minor": 0
      },
      "text/plain": [
       "Training: |                                                                                                   …"
      ]
     },
     "metadata": {},
     "output_type": "display_data"
    },
    {
     "name": "stderr",
     "output_type": "stream",
     "text": [
      "`Trainer.fit` stopped: `max_epochs=50` reached.\n",
      "LOCAL_RANK: 0 - CUDA_VISIBLE_DEVICES: [0,1,2,3,4,5,6]\n"
     ]
    },
    {
     "data": {
      "application/vnd.jupyter.widget-view+json": {
       "model_id": "a0d742a39e7f44c58f816ae609dd7b89",
       "version_major": 2,
       "version_minor": 0
      },
      "text/plain": [
       "Testing: |                                                                                                    …"
      ]
     },
     "metadata": {},
     "output_type": "display_data"
    },
    {
     "name": "stderr",
     "output_type": "stream",
     "text": [
      "GPU available: True (cuda), used: True\n",
      "TPU available: False, using: 0 TPU cores\n",
      "IPU available: False, using: 0 IPUs\n",
      "HPU available: False, using: 0 HPUs\n",
      "LOCAL_RANK: 0 - CUDA_VISIBLE_DEVICES: [0,1,2,3,4,5,6]\n",
      "\n",
      "   | Name          | Type               | Params\n",
      "------------------------------------------------------\n",
      "0  | tab_enc       | TabularEncoder     | 4.9 K \n",
      "1  | rnn           | GRU                | 369 K \n",
      "2  | head_aux      | Linear             | 129   \n",
      "3  | head_main     | Linear             | 129   \n",
      "4  | mse           | MSELoss            | 0     \n",
      "5  | train_mae     | MeanAbsoluteError  | 0     \n",
      "6  | val_mae       | MeanAbsoluteError  | 0     \n",
      "7  | test_mae      | MeanAbsoluteError  | 0     \n",
      "8  | train_rmse    | MeanSquaredError   | 0     \n",
      "9  | val_rmse      | MeanSquaredError   | 0     \n",
      "10 | test_rmse     | MeanSquaredError   | 0     \n",
      "11 | train_acc     | MulticlassAccuracy | 0     \n",
      "12 | val_acc       | MulticlassAccuracy | 0     \n",
      "13 | test_acc      | MulticlassAccuracy | 0     \n",
      "14 | train_acc_tol | SumMetric          | 0     \n",
      "15 | val_acc_tol   | SumMetric          | 0     \n",
      "16 | test_acc_tol  | SumMetric          | 0     \n",
      "17 | train_cnt     | SumMetric          | 0     \n",
      "18 | val_cnt       | SumMetric          | 0     \n",
      "19 | test_cnt      | SumMetric          | 0     \n",
      "20 | train_auroc   | MulticlassAUROC    | 0     \n",
      "21 | val_auroc     | MulticlassAUROC    | 0     \n",
      "22 | test_auroc    | MulticlassAUROC    | 0     \n",
      "23 | train_mae_aux | MeanAbsoluteError  | 0     \n",
      "24 | val_mae_aux   | MeanAbsoluteError  | 0     \n",
      "25 | test_mae_aux  | MeanAbsoluteError  | 0     \n",
      "------------------------------------------------------\n",
      "374 K     Trainable params\n",
      "0         Non-trainable params\n",
      "374 K     Total params\n",
      "1.498     Total estimated model params size (MB)\n"
     ]
    },
    {
     "name": "stdout",
     "output_type": "stream",
     "text": [
      "[LOOCV] PID=  normal-2  MAE=0.099 RMSE=0.099\n"
     ]
    },
    {
     "data": {
      "application/vnd.jupyter.widget-view+json": {
       "model_id": "51c28142a56e4e368b582ef956bc6b35",
       "version_major": 2,
       "version_minor": 0
      },
      "text/plain": [
       "Training: |                                                                                                   …"
      ]
     },
     "metadata": {},
     "output_type": "display_data"
    },
    {
     "name": "stderr",
     "output_type": "stream",
     "text": [
      "`Trainer.fit` stopped: `max_epochs=50` reached.\n",
      "LOCAL_RANK: 0 - CUDA_VISIBLE_DEVICES: [0,1,2,3,4,5,6]\n"
     ]
    },
    {
     "data": {
      "application/vnd.jupyter.widget-view+json": {
       "model_id": "c7f58aa2e7a34a9e9d3d9de4e7fe8b3e",
       "version_major": 2,
       "version_minor": 0
      },
      "text/plain": [
       "Testing: |                                                                                                    …"
      ]
     },
     "metadata": {},
     "output_type": "display_data"
    },
    {
     "name": "stderr",
     "output_type": "stream",
     "text": [
      "GPU available: True (cuda), used: True\n",
      "TPU available: False, using: 0 TPU cores\n",
      "IPU available: False, using: 0 IPUs\n",
      "HPU available: False, using: 0 HPUs\n",
      "LOCAL_RANK: 0 - CUDA_VISIBLE_DEVICES: [0,1,2,3,4,5,6]\n",
      "\n",
      "   | Name          | Type               | Params\n",
      "------------------------------------------------------\n",
      "0  | tab_enc       | TabularEncoder     | 4.9 K \n",
      "1  | rnn           | GRU                | 369 K \n",
      "2  | head_aux      | Linear             | 129   \n",
      "3  | head_main     | Linear             | 129   \n",
      "4  | mse           | MSELoss            | 0     \n",
      "5  | train_mae     | MeanAbsoluteError  | 0     \n",
      "6  | val_mae       | MeanAbsoluteError  | 0     \n",
      "7  | test_mae      | MeanAbsoluteError  | 0     \n",
      "8  | train_rmse    | MeanSquaredError   | 0     \n",
      "9  | val_rmse      | MeanSquaredError   | 0     \n",
      "10 | test_rmse     | MeanSquaredError   | 0     \n",
      "11 | train_acc     | MulticlassAccuracy | 0     \n",
      "12 | val_acc       | MulticlassAccuracy | 0     \n",
      "13 | test_acc      | MulticlassAccuracy | 0     \n",
      "14 | train_acc_tol | SumMetric          | 0     \n",
      "15 | val_acc_tol   | SumMetric          | 0     \n",
      "16 | test_acc_tol  | SumMetric          | 0     \n",
      "17 | train_cnt     | SumMetric          | 0     \n",
      "18 | val_cnt       | SumMetric          | 0     \n",
      "19 | test_cnt      | SumMetric          | 0     \n",
      "20 | train_auroc   | MulticlassAUROC    | 0     \n",
      "21 | val_auroc     | MulticlassAUROC    | 0     \n",
      "22 | test_auroc    | MulticlassAUROC    | 0     \n",
      "23 | train_mae_aux | MeanAbsoluteError  | 0     \n",
      "24 | val_mae_aux   | MeanAbsoluteError  | 0     \n",
      "25 | test_mae_aux  | MeanAbsoluteError  | 0     \n",
      "------------------------------------------------------\n",
      "374 K     Trainable params\n",
      "0         Non-trainable params\n",
      "374 K     Total params\n",
      "1.498     Total estimated model params size (MB)\n"
     ]
    },
    {
     "name": "stdout",
     "output_type": "stream",
     "text": [
      "[LOOCV] PID=  normal-3  MAE=0.043 RMSE=0.043\n"
     ]
    },
    {
     "data": {
      "application/vnd.jupyter.widget-view+json": {
       "model_id": "d983540194b648a09bce43e3f079de99",
       "version_major": 2,
       "version_minor": 0
      },
      "text/plain": [
       "Training: |                                                                                                   …"
      ]
     },
     "metadata": {},
     "output_type": "display_data"
    },
    {
     "name": "stderr",
     "output_type": "stream",
     "text": [
      "`Trainer.fit` stopped: `max_epochs=50` reached.\n",
      "LOCAL_RANK: 0 - CUDA_VISIBLE_DEVICES: [0,1,2,3,4,5,6]\n"
     ]
    },
    {
     "data": {
      "application/vnd.jupyter.widget-view+json": {
       "model_id": "fc1800e5d8cc468bac1ebbd2d19f49d8",
       "version_major": 2,
       "version_minor": 0
      },
      "text/plain": [
       "Testing: |                                                                                                    …"
      ]
     },
     "metadata": {},
     "output_type": "display_data"
    },
    {
     "name": "stderr",
     "output_type": "stream",
     "text": [
      "GPU available: True (cuda), used: True\n",
      "TPU available: False, using: 0 TPU cores\n",
      "IPU available: False, using: 0 IPUs\n",
      "HPU available: False, using: 0 HPUs\n",
      "LOCAL_RANK: 0 - CUDA_VISIBLE_DEVICES: [0,1,2,3,4,5,6]\n",
      "\n",
      "   | Name          | Type               | Params\n",
      "------------------------------------------------------\n",
      "0  | tab_enc       | TabularEncoder     | 4.9 K \n",
      "1  | rnn           | GRU                | 369 K \n",
      "2  | head_aux      | Linear             | 129   \n",
      "3  | head_main     | Linear             | 129   \n",
      "4  | mse           | MSELoss            | 0     \n",
      "5  | train_mae     | MeanAbsoluteError  | 0     \n",
      "6  | val_mae       | MeanAbsoluteError  | 0     \n",
      "7  | test_mae      | MeanAbsoluteError  | 0     \n",
      "8  | train_rmse    | MeanSquaredError   | 0     \n",
      "9  | val_rmse      | MeanSquaredError   | 0     \n",
      "10 | test_rmse     | MeanSquaredError   | 0     \n",
      "11 | train_acc     | MulticlassAccuracy | 0     \n",
      "12 | val_acc       | MulticlassAccuracy | 0     \n",
      "13 | test_acc      | MulticlassAccuracy | 0     \n",
      "14 | train_acc_tol | SumMetric          | 0     \n",
      "15 | val_acc_tol   | SumMetric          | 0     \n",
      "16 | test_acc_tol  | SumMetric          | 0     \n",
      "17 | train_cnt     | SumMetric          | 0     \n",
      "18 | val_cnt       | SumMetric          | 0     \n",
      "19 | test_cnt      | SumMetric          | 0     \n",
      "20 | train_auroc   | MulticlassAUROC    | 0     \n",
      "21 | val_auroc     | MulticlassAUROC    | 0     \n",
      "22 | test_auroc    | MulticlassAUROC    | 0     \n",
      "23 | train_mae_aux | MeanAbsoluteError  | 0     \n",
      "24 | val_mae_aux   | MeanAbsoluteError  | 0     \n",
      "25 | test_mae_aux  | MeanAbsoluteError  | 0     \n",
      "------------------------------------------------------\n",
      "374 K     Trainable params\n",
      "0         Non-trainable params\n",
      "374 K     Total params\n",
      "1.498     Total estimated model params size (MB)\n"
     ]
    },
    {
     "name": "stdout",
     "output_type": "stream",
     "text": [
      "[LOOCV] PID=  normal-4  MAE=0.076 RMSE=0.076\n"
     ]
    },
    {
     "data": {
      "application/vnd.jupyter.widget-view+json": {
       "model_id": "899b37ada374459e92e005d92c8186d6",
       "version_major": 2,
       "version_minor": 0
      },
      "text/plain": [
       "Training: |                                                                                                   …"
      ]
     },
     "metadata": {},
     "output_type": "display_data"
    },
    {
     "name": "stderr",
     "output_type": "stream",
     "text": [
      "`Trainer.fit` stopped: `max_epochs=50` reached.\n",
      "LOCAL_RANK: 0 - CUDA_VISIBLE_DEVICES: [0,1,2,3,4,5,6]\n"
     ]
    },
    {
     "data": {
      "application/vnd.jupyter.widget-view+json": {
       "model_id": "642c3da1cfdd4c9c8889198fb2e6b51e",
       "version_major": 2,
       "version_minor": 0
      },
      "text/plain": [
       "Testing: |                                                                                                    …"
      ]
     },
     "metadata": {},
     "output_type": "display_data"
    },
    {
     "name": "stderr",
     "output_type": "stream",
     "text": [
      "GPU available: True (cuda), used: True\n",
      "TPU available: False, using: 0 TPU cores\n",
      "IPU available: False, using: 0 IPUs\n",
      "HPU available: False, using: 0 HPUs\n",
      "LOCAL_RANK: 0 - CUDA_VISIBLE_DEVICES: [0,1,2,3,4,5,6]\n",
      "\n",
      "   | Name          | Type               | Params\n",
      "------------------------------------------------------\n",
      "0  | tab_enc       | TabularEncoder     | 4.9 K \n",
      "1  | rnn           | GRU                | 369 K \n",
      "2  | head_aux      | Linear             | 129   \n",
      "3  | head_main     | Linear             | 129   \n",
      "4  | mse           | MSELoss            | 0     \n",
      "5  | train_mae     | MeanAbsoluteError  | 0     \n",
      "6  | val_mae       | MeanAbsoluteError  | 0     \n",
      "7  | test_mae      | MeanAbsoluteError  | 0     \n",
      "8  | train_rmse    | MeanSquaredError   | 0     \n",
      "9  | val_rmse      | MeanSquaredError   | 0     \n",
      "10 | test_rmse     | MeanSquaredError   | 0     \n",
      "11 | train_acc     | MulticlassAccuracy | 0     \n",
      "12 | val_acc       | MulticlassAccuracy | 0     \n",
      "13 | test_acc      | MulticlassAccuracy | 0     \n",
      "14 | train_acc_tol | SumMetric          | 0     \n",
      "15 | val_acc_tol   | SumMetric          | 0     \n",
      "16 | test_acc_tol  | SumMetric          | 0     \n",
      "17 | train_cnt     | SumMetric          | 0     \n",
      "18 | val_cnt       | SumMetric          | 0     \n",
      "19 | test_cnt      | SumMetric          | 0     \n",
      "20 | train_auroc   | MulticlassAUROC    | 0     \n",
      "21 | val_auroc     | MulticlassAUROC    | 0     \n",
      "22 | test_auroc    | MulticlassAUROC    | 0     \n",
      "23 | train_mae_aux | MeanAbsoluteError  | 0     \n",
      "24 | val_mae_aux   | MeanAbsoluteError  | 0     \n",
      "25 | test_mae_aux  | MeanAbsoluteError  | 0     \n",
      "------------------------------------------------------\n",
      "374 K     Trainable params\n",
      "0         Non-trainable params\n",
      "374 K     Total params\n",
      "1.498     Total estimated model params size (MB)\n"
     ]
    },
    {
     "name": "stdout",
     "output_type": "stream",
     "text": [
      "[LOOCV] PID=  normal-5  MAE=0.033 RMSE=0.033\n"
     ]
    },
    {
     "data": {
      "application/vnd.jupyter.widget-view+json": {
       "model_id": "29410a9068674a81afaa248a5da6c791",
       "version_major": 2,
       "version_minor": 0
      },
      "text/plain": [
       "Training: |                                                                                                   …"
      ]
     },
     "metadata": {},
     "output_type": "display_data"
    },
    {
     "name": "stderr",
     "output_type": "stream",
     "text": [
      "`Trainer.fit` stopped: `max_epochs=50` reached.\n",
      "LOCAL_RANK: 0 - CUDA_VISIBLE_DEVICES: [0,1,2,3,4,5,6]\n"
     ]
    },
    {
     "data": {
      "application/vnd.jupyter.widget-view+json": {
       "model_id": "edf3fd1ace754156b4f2bcbcf78f129b",
       "version_major": 2,
       "version_minor": 0
      },
      "text/plain": [
       "Testing: |                                                                                                    …"
      ]
     },
     "metadata": {},
     "output_type": "display_data"
    },
    {
     "name": "stderr",
     "output_type": "stream",
     "text": [
      "GPU available: True (cuda), used: True\n",
      "TPU available: False, using: 0 TPU cores\n",
      "IPU available: False, using: 0 IPUs\n",
      "HPU available: False, using: 0 HPUs\n",
      "LOCAL_RANK: 0 - CUDA_VISIBLE_DEVICES: [0,1,2,3,4,5,6]\n",
      "\n",
      "   | Name          | Type               | Params\n",
      "------------------------------------------------------\n",
      "0  | tab_enc       | TabularEncoder     | 4.9 K \n",
      "1  | rnn           | GRU                | 369 K \n",
      "2  | head_aux      | Linear             | 129   \n",
      "3  | head_main     | Linear             | 129   \n",
      "4  | mse           | MSELoss            | 0     \n",
      "5  | train_mae     | MeanAbsoluteError  | 0     \n",
      "6  | val_mae       | MeanAbsoluteError  | 0     \n",
      "7  | test_mae      | MeanAbsoluteError  | 0     \n",
      "8  | train_rmse    | MeanSquaredError   | 0     \n",
      "9  | val_rmse      | MeanSquaredError   | 0     \n",
      "10 | test_rmse     | MeanSquaredError   | 0     \n",
      "11 | train_acc     | MulticlassAccuracy | 0     \n",
      "12 | val_acc       | MulticlassAccuracy | 0     \n",
      "13 | test_acc      | MulticlassAccuracy | 0     \n",
      "14 | train_acc_tol | SumMetric          | 0     \n",
      "15 | val_acc_tol   | SumMetric          | 0     \n",
      "16 | test_acc_tol  | SumMetric          | 0     \n",
      "17 | train_cnt     | SumMetric          | 0     \n",
      "18 | val_cnt       | SumMetric          | 0     \n",
      "19 | test_cnt      | SumMetric          | 0     \n",
      "20 | train_auroc   | MulticlassAUROC    | 0     \n",
      "21 | val_auroc     | MulticlassAUROC    | 0     \n",
      "22 | test_auroc    | MulticlassAUROC    | 0     \n",
      "23 | train_mae_aux | MeanAbsoluteError  | 0     \n",
      "24 | val_mae_aux   | MeanAbsoluteError  | 0     \n",
      "25 | test_mae_aux  | MeanAbsoluteError  | 0     \n",
      "------------------------------------------------------\n",
      "374 K     Trainable params\n",
      "0         Non-trainable params\n",
      "374 K     Total params\n",
      "1.498     Total estimated model params size (MB)\n"
     ]
    },
    {
     "name": "stdout",
     "output_type": "stream",
     "text": [
      "[LOOCV] PID=  normal-6  MAE=0.024 RMSE=0.024\n"
     ]
    },
    {
     "data": {
      "application/vnd.jupyter.widget-view+json": {
       "model_id": "686076ea00734819b323234b82b075c6",
       "version_major": 2,
       "version_minor": 0
      },
      "text/plain": [
       "Training: |                                                                                                   …"
      ]
     },
     "metadata": {},
     "output_type": "display_data"
    },
    {
     "name": "stderr",
     "output_type": "stream",
     "text": [
      "`Trainer.fit` stopped: `max_epochs=50` reached.\n",
      "LOCAL_RANK: 0 - CUDA_VISIBLE_DEVICES: [0,1,2,3,4,5,6]\n"
     ]
    },
    {
     "data": {
      "application/vnd.jupyter.widget-view+json": {
       "model_id": "2033acbfc3324dd8a54e7ec7bd66f822",
       "version_major": 2,
       "version_minor": 0
      },
      "text/plain": [
       "Testing: |                                                                                                    …"
      ]
     },
     "metadata": {},
     "output_type": "display_data"
    },
    {
     "name": "stderr",
     "output_type": "stream",
     "text": [
      "GPU available: True (cuda), used: True\n",
      "TPU available: False, using: 0 TPU cores\n",
      "IPU available: False, using: 0 IPUs\n",
      "HPU available: False, using: 0 HPUs\n",
      "LOCAL_RANK: 0 - CUDA_VISIBLE_DEVICES: [0,1,2,3,4,5,6]\n",
      "\n",
      "   | Name          | Type               | Params\n",
      "------------------------------------------------------\n",
      "0  | tab_enc       | TabularEncoder     | 4.9 K \n",
      "1  | rnn           | GRU                | 369 K \n",
      "2  | head_aux      | Linear             | 129   \n",
      "3  | head_main     | Linear             | 129   \n",
      "4  | mse           | MSELoss            | 0     \n",
      "5  | train_mae     | MeanAbsoluteError  | 0     \n",
      "6  | val_mae       | MeanAbsoluteError  | 0     \n",
      "7  | test_mae      | MeanAbsoluteError  | 0     \n",
      "8  | train_rmse    | MeanSquaredError   | 0     \n",
      "9  | val_rmse      | MeanSquaredError   | 0     \n",
      "10 | test_rmse     | MeanSquaredError   | 0     \n",
      "11 | train_acc     | MulticlassAccuracy | 0     \n",
      "12 | val_acc       | MulticlassAccuracy | 0     \n",
      "13 | test_acc      | MulticlassAccuracy | 0     \n",
      "14 | train_acc_tol | SumMetric          | 0     \n",
      "15 | val_acc_tol   | SumMetric          | 0     \n",
      "16 | test_acc_tol  | SumMetric          | 0     \n",
      "17 | train_cnt     | SumMetric          | 0     \n",
      "18 | val_cnt       | SumMetric          | 0     \n",
      "19 | test_cnt      | SumMetric          | 0     \n",
      "20 | train_auroc   | MulticlassAUROC    | 0     \n",
      "21 | val_auroc     | MulticlassAUROC    | 0     \n",
      "22 | test_auroc    | MulticlassAUROC    | 0     \n",
      "23 | train_mae_aux | MeanAbsoluteError  | 0     \n",
      "24 | val_mae_aux   | MeanAbsoluteError  | 0     \n",
      "25 | test_mae_aux  | MeanAbsoluteError  | 0     \n",
      "------------------------------------------------------\n",
      "374 K     Trainable params\n",
      "0         Non-trainable params\n",
      "374 K     Total params\n",
      "1.498     Total estimated model params size (MB)\n"
     ]
    },
    {
     "name": "stdout",
     "output_type": "stream",
     "text": [
      "[LOOCV] PID=  normal-7  MAE=0.058 RMSE=0.058\n"
     ]
    },
    {
     "data": {
      "application/vnd.jupyter.widget-view+json": {
       "model_id": "22d7468aed19460bb62e9dcf9a81b077",
       "version_major": 2,
       "version_minor": 0
      },
      "text/plain": [
       "Training: |                                                                                                   …"
      ]
     },
     "metadata": {},
     "output_type": "display_data"
    },
    {
     "name": "stderr",
     "output_type": "stream",
     "text": [
      "`Trainer.fit` stopped: `max_epochs=50` reached.\n",
      "LOCAL_RANK: 0 - CUDA_VISIBLE_DEVICES: [0,1,2,3,4,5,6]\n"
     ]
    },
    {
     "data": {
      "application/vnd.jupyter.widget-view+json": {
       "model_id": "18837a11b4cb4d49b19b66525a653b28",
       "version_major": 2,
       "version_minor": 0
      },
      "text/plain": [
       "Testing: |                                                                                                    …"
      ]
     },
     "metadata": {},
     "output_type": "display_data"
    },
    {
     "name": "stderr",
     "output_type": "stream",
     "text": [
      "GPU available: True (cuda), used: True\n",
      "TPU available: False, using: 0 TPU cores\n",
      "IPU available: False, using: 0 IPUs\n",
      "HPU available: False, using: 0 HPUs\n",
      "LOCAL_RANK: 0 - CUDA_VISIBLE_DEVICES: [0,1,2,3,4,5,6]\n",
      "\n",
      "   | Name          | Type               | Params\n",
      "------------------------------------------------------\n",
      "0  | tab_enc       | TabularEncoder     | 4.9 K \n",
      "1  | rnn           | GRU                | 369 K \n",
      "2  | head_aux      | Linear             | 129   \n",
      "3  | head_main     | Linear             | 129   \n",
      "4  | mse           | MSELoss            | 0     \n",
      "5  | train_mae     | MeanAbsoluteError  | 0     \n",
      "6  | val_mae       | MeanAbsoluteError  | 0     \n",
      "7  | test_mae      | MeanAbsoluteError  | 0     \n",
      "8  | train_rmse    | MeanSquaredError   | 0     \n",
      "9  | val_rmse      | MeanSquaredError   | 0     \n",
      "10 | test_rmse     | MeanSquaredError   | 0     \n",
      "11 | train_acc     | MulticlassAccuracy | 0     \n",
      "12 | val_acc       | MulticlassAccuracy | 0     \n",
      "13 | test_acc      | MulticlassAccuracy | 0     \n",
      "14 | train_acc_tol | SumMetric          | 0     \n",
      "15 | val_acc_tol   | SumMetric          | 0     \n",
      "16 | test_acc_tol  | SumMetric          | 0     \n",
      "17 | train_cnt     | SumMetric          | 0     \n",
      "18 | val_cnt       | SumMetric          | 0     \n",
      "19 | test_cnt      | SumMetric          | 0     \n",
      "20 | train_auroc   | MulticlassAUROC    | 0     \n",
      "21 | val_auroc     | MulticlassAUROC    | 0     \n",
      "22 | test_auroc    | MulticlassAUROC    | 0     \n",
      "23 | train_mae_aux | MeanAbsoluteError  | 0     \n",
      "24 | val_mae_aux   | MeanAbsoluteError  | 0     \n",
      "25 | test_mae_aux  | MeanAbsoluteError  | 0     \n",
      "------------------------------------------------------\n",
      "374 K     Trainable params\n",
      "0         Non-trainable params\n",
      "374 K     Total params\n",
      "1.498     Total estimated model params size (MB)\n"
     ]
    },
    {
     "name": "stdout",
     "output_type": "stream",
     "text": [
      "[LOOCV] PID=  normal-8  MAE=0.250 RMSE=0.250\n"
     ]
    },
    {
     "data": {
      "application/vnd.jupyter.widget-view+json": {
       "model_id": "28e4f3510c6c42988bff308b39d08514",
       "version_major": 2,
       "version_minor": 0
      },
      "text/plain": [
       "Training: |                                                                                                   …"
      ]
     },
     "metadata": {},
     "output_type": "display_data"
    },
    {
     "name": "stderr",
     "output_type": "stream",
     "text": [
      "`Trainer.fit` stopped: `max_epochs=50` reached.\n",
      "LOCAL_RANK: 0 - CUDA_VISIBLE_DEVICES: [0,1,2,3,4,5,6]\n"
     ]
    },
    {
     "data": {
      "application/vnd.jupyter.widget-view+json": {
       "model_id": "ab6acef797ba48f186f850d30ba9f92d",
       "version_major": 2,
       "version_minor": 0
      },
      "text/plain": [
       "Testing: |                                                                                                    …"
      ]
     },
     "metadata": {},
     "output_type": "display_data"
    },
    {
     "name": "stdout",
     "output_type": "stream",
     "text": [
      "[LOOCV] PID=  normal-9  MAE=0.041 RMSE=0.041\n"
     ]
    }
   ],
   "source": [
    "results = loocv_train_test(dataset,\n",
    "                           trainer_kwargs=dict(max_epochs=50,\n",
    "                                               accelerator=\"gpu\",\n",
    "                                               devices=1,\n",
    "                                               log_every_n_steps=1))\n",
    "\n"
   ]
  },
  {
   "cell_type": "code",
   "execution_count": 16,
   "id": "7d173f76-0555-467c-8c35-019097cd3136",
   "metadata": {},
   "outputs": [
    {
     "data": {
      "text/html": [
       "<div>\n",
       "<style scoped>\n",
       "    .dataframe tbody tr th:only-of-type {\n",
       "        vertical-align: middle;\n",
       "    }\n",
       "\n",
       "    .dataframe tbody tr th {\n",
       "        vertical-align: top;\n",
       "    }\n",
       "\n",
       "    .dataframe thead th {\n",
       "        text-align: right;\n",
       "    }\n",
       "</style>\n",
       "<table border=\"1\" class=\"dataframe\">\n",
       "  <thead>\n",
       "    <tr style=\"text-align: right;\">\n",
       "      <th></th>\n",
       "      <th>test_loss_main</th>\n",
       "      <th>test_loss_aux</th>\n",
       "      <th>test_mae</th>\n",
       "      <th>test_rmse</th>\n",
       "      <th>test_acc</th>\n",
       "      <th>test_acc±1</th>\n",
       "      <th>test_auroc</th>\n",
       "      <th>test_mae_aux</th>\n",
       "      <th>pid</th>\n",
       "    </tr>\n",
       "  </thead>\n",
       "  <tbody>\n",
       "    <tr>\n",
       "      <th>0</th>\n",
       "      <td>10.695080</td>\n",
       "      <td>8.513073e-01</td>\n",
       "      <td>1.748067</td>\n",
       "      <td>1.748067</td>\n",
       "      <td>0.0</td>\n",
       "      <td>0.0</td>\n",
       "      <td>0.0</td>\n",
       "      <td>0.422231</td>\n",
       "      <td>WEBSS-002</td>\n",
       "    </tr>\n",
       "    <tr>\n",
       "      <th>1</th>\n",
       "      <td>0.000162</td>\n",
       "      <td>3.226040e+00</td>\n",
       "      <td>0.008054</td>\n",
       "      <td>0.008054</td>\n",
       "      <td>1.0</td>\n",
       "      <td>1.0</td>\n",
       "      <td>0.0</td>\n",
       "      <td>1.065602</td>\n",
       "      <td>WEBSS-003</td>\n",
       "    </tr>\n",
       "    <tr>\n",
       "      <th>2</th>\n",
       "      <td>8.722425</td>\n",
       "      <td>1.812477e+01</td>\n",
       "      <td>1.578645</td>\n",
       "      <td>1.578645</td>\n",
       "      <td>0.0</td>\n",
       "      <td>0.0</td>\n",
       "      <td>0.0</td>\n",
       "      <td>2.220979</td>\n",
       "      <td>WEBSS-004</td>\n",
       "    </tr>\n",
       "    <tr>\n",
       "      <th>3</th>\n",
       "      <td>0.413668</td>\n",
       "      <td>1.721811e+00</td>\n",
       "      <td>0.343789</td>\n",
       "      <td>0.343789</td>\n",
       "      <td>1.0</td>\n",
       "      <td>1.0</td>\n",
       "      <td>0.0</td>\n",
       "      <td>0.656790</td>\n",
       "      <td>WEBSS-005</td>\n",
       "    </tr>\n",
       "    <tr>\n",
       "      <th>4</th>\n",
       "      <td>0.207811</td>\n",
       "      <td>4.882217e+00</td>\n",
       "      <td>0.263193</td>\n",
       "      <td>0.263193</td>\n",
       "      <td>1.0</td>\n",
       "      <td>1.0</td>\n",
       "      <td>0.0</td>\n",
       "      <td>1.225988</td>\n",
       "      <td>WEBSS-006</td>\n",
       "    </tr>\n",
       "    <tr>\n",
       "      <th>5</th>\n",
       "      <td>4.332916</td>\n",
       "      <td>1.604978e+01</td>\n",
       "      <td>1.471889</td>\n",
       "      <td>1.471889</td>\n",
       "      <td>0.0</td>\n",
       "      <td>0.0</td>\n",
       "      <td>0.0</td>\n",
       "      <td>1.987622</td>\n",
       "      <td>WEBSS-007</td>\n",
       "    </tr>\n",
       "    <tr>\n",
       "      <th>6</th>\n",
       "      <td>0.007534</td>\n",
       "      <td>1.582015e-02</td>\n",
       "      <td>0.086798</td>\n",
       "      <td>0.086798</td>\n",
       "      <td>1.0</td>\n",
       "      <td>1.0</td>\n",
       "      <td>0.0</td>\n",
       "      <td>0.125778</td>\n",
       "      <td>normal-1</td>\n",
       "    </tr>\n",
       "    <tr>\n",
       "      <th>7</th>\n",
       "      <td>0.000529</td>\n",
       "      <td>1.756512e-02</td>\n",
       "      <td>0.022999</td>\n",
       "      <td>0.022999</td>\n",
       "      <td>1.0</td>\n",
       "      <td>1.0</td>\n",
       "      <td>0.0</td>\n",
       "      <td>0.132533</td>\n",
       "      <td>normal-10</td>\n",
       "    </tr>\n",
       "    <tr>\n",
       "      <th>8</th>\n",
       "      <td>0.002245</td>\n",
       "      <td>3.805922e-02</td>\n",
       "      <td>0.047378</td>\n",
       "      <td>0.047378</td>\n",
       "      <td>1.0</td>\n",
       "      <td>1.0</td>\n",
       "      <td>0.0</td>\n",
       "      <td>0.195088</td>\n",
       "      <td>normal-11</td>\n",
       "    </tr>\n",
       "    <tr>\n",
       "      <th>9</th>\n",
       "      <td>1.125699</td>\n",
       "      <td>1.887872e+00</td>\n",
       "      <td>1.060990</td>\n",
       "      <td>1.060990</td>\n",
       "      <td>0.0</td>\n",
       "      <td>0.0</td>\n",
       "      <td>0.0</td>\n",
       "      <td>1.373999</td>\n",
       "      <td>normal-12</td>\n",
       "    </tr>\n",
       "    <tr>\n",
       "      <th>10</th>\n",
       "      <td>0.002400</td>\n",
       "      <td>1.274473e-02</td>\n",
       "      <td>0.048994</td>\n",
       "      <td>0.048994</td>\n",
       "      <td>1.0</td>\n",
       "      <td>1.0</td>\n",
       "      <td>0.0</td>\n",
       "      <td>0.112893</td>\n",
       "      <td>normal-13</td>\n",
       "    </tr>\n",
       "    <tr>\n",
       "      <th>11</th>\n",
       "      <td>0.041973</td>\n",
       "      <td>2.084378e-01</td>\n",
       "      <td>0.204873</td>\n",
       "      <td>0.204873</td>\n",
       "      <td>1.0</td>\n",
       "      <td>1.0</td>\n",
       "      <td>0.0</td>\n",
       "      <td>0.456550</td>\n",
       "      <td>normal-14</td>\n",
       "    </tr>\n",
       "    <tr>\n",
       "      <th>12</th>\n",
       "      <td>1.463114</td>\n",
       "      <td>1.007507e+00</td>\n",
       "      <td>1.209593</td>\n",
       "      <td>1.209593</td>\n",
       "      <td>0.0</td>\n",
       "      <td>0.0</td>\n",
       "      <td>0.0</td>\n",
       "      <td>1.003746</td>\n",
       "      <td>normal-15</td>\n",
       "    </tr>\n",
       "    <tr>\n",
       "      <th>13</th>\n",
       "      <td>0.018730</td>\n",
       "      <td>3.664656e-02</td>\n",
       "      <td>0.136858</td>\n",
       "      <td>0.136858</td>\n",
       "      <td>1.0</td>\n",
       "      <td>1.0</td>\n",
       "      <td>0.0</td>\n",
       "      <td>0.191433</td>\n",
       "      <td>normal-16</td>\n",
       "    </tr>\n",
       "    <tr>\n",
       "      <th>14</th>\n",
       "      <td>0.008361</td>\n",
       "      <td>3.521447e-03</td>\n",
       "      <td>0.091440</td>\n",
       "      <td>0.091440</td>\n",
       "      <td>1.0</td>\n",
       "      <td>1.0</td>\n",
       "      <td>0.0</td>\n",
       "      <td>0.059342</td>\n",
       "      <td>normal-17</td>\n",
       "    </tr>\n",
       "    <tr>\n",
       "      <th>15</th>\n",
       "      <td>0.000096</td>\n",
       "      <td>1.924821e-02</td>\n",
       "      <td>0.009787</td>\n",
       "      <td>0.009787</td>\n",
       "      <td>1.0</td>\n",
       "      <td>1.0</td>\n",
       "      <td>0.0</td>\n",
       "      <td>0.138738</td>\n",
       "      <td>normal-18</td>\n",
       "    </tr>\n",
       "    <tr>\n",
       "      <th>16</th>\n",
       "      <td>0.539699</td>\n",
       "      <td>2.527339e-01</td>\n",
       "      <td>0.734642</td>\n",
       "      <td>0.734642</td>\n",
       "      <td>0.0</td>\n",
       "      <td>1.0</td>\n",
       "      <td>0.0</td>\n",
       "      <td>0.502726</td>\n",
       "      <td>normal-19</td>\n",
       "    </tr>\n",
       "    <tr>\n",
       "      <th>17</th>\n",
       "      <td>0.009717</td>\n",
       "      <td>8.625805e-09</td>\n",
       "      <td>0.098574</td>\n",
       "      <td>0.098574</td>\n",
       "      <td>1.0</td>\n",
       "      <td>1.0</td>\n",
       "      <td>0.0</td>\n",
       "      <td>0.000093</td>\n",
       "      <td>normal-2</td>\n",
       "    </tr>\n",
       "    <tr>\n",
       "      <th>18</th>\n",
       "      <td>0.001813</td>\n",
       "      <td>2.989850e-02</td>\n",
       "      <td>0.042576</td>\n",
       "      <td>0.042576</td>\n",
       "      <td>1.0</td>\n",
       "      <td>1.0</td>\n",
       "      <td>0.0</td>\n",
       "      <td>0.172912</td>\n",
       "      <td>normal-3</td>\n",
       "    </tr>\n",
       "    <tr>\n",
       "      <th>19</th>\n",
       "      <td>0.005752</td>\n",
       "      <td>1.197534e-02</td>\n",
       "      <td>0.075845</td>\n",
       "      <td>0.075845</td>\n",
       "      <td>1.0</td>\n",
       "      <td>1.0</td>\n",
       "      <td>0.0</td>\n",
       "      <td>0.109432</td>\n",
       "      <td>normal-4</td>\n",
       "    </tr>\n",
       "    <tr>\n",
       "      <th>20</th>\n",
       "      <td>0.001063</td>\n",
       "      <td>1.470588e-01</td>\n",
       "      <td>0.032610</td>\n",
       "      <td>0.032610</td>\n",
       "      <td>1.0</td>\n",
       "      <td>1.0</td>\n",
       "      <td>0.0</td>\n",
       "      <td>0.383482</td>\n",
       "      <td>normal-5</td>\n",
       "    </tr>\n",
       "    <tr>\n",
       "      <th>21</th>\n",
       "      <td>0.000563</td>\n",
       "      <td>9.474793e-03</td>\n",
       "      <td>0.023730</td>\n",
       "      <td>0.023730</td>\n",
       "      <td>1.0</td>\n",
       "      <td>1.0</td>\n",
       "      <td>0.0</td>\n",
       "      <td>0.097339</td>\n",
       "      <td>normal-6</td>\n",
       "    </tr>\n",
       "    <tr>\n",
       "      <th>22</th>\n",
       "      <td>0.003367</td>\n",
       "      <td>7.375530e-03</td>\n",
       "      <td>0.058029</td>\n",
       "      <td>0.058029</td>\n",
       "      <td>1.0</td>\n",
       "      <td>1.0</td>\n",
       "      <td>0.0</td>\n",
       "      <td>0.085881</td>\n",
       "      <td>normal-7</td>\n",
       "    </tr>\n",
       "    <tr>\n",
       "      <th>23</th>\n",
       "      <td>0.062329</td>\n",
       "      <td>5.073503e-02</td>\n",
       "      <td>0.249657</td>\n",
       "      <td>0.249657</td>\n",
       "      <td>1.0</td>\n",
       "      <td>1.0</td>\n",
       "      <td>0.0</td>\n",
       "      <td>0.225244</td>\n",
       "      <td>normal-8</td>\n",
       "    </tr>\n",
       "    <tr>\n",
       "      <th>24</th>\n",
       "      <td>0.001686</td>\n",
       "      <td>7.440594e-03</td>\n",
       "      <td>0.041057</td>\n",
       "      <td>0.041057</td>\n",
       "      <td>1.0</td>\n",
       "      <td>1.0</td>\n",
       "      <td>0.0</td>\n",
       "      <td>0.086259</td>\n",
       "      <td>normal-9</td>\n",
       "    </tr>\n",
       "  </tbody>\n",
       "</table>\n",
       "</div>"
      ],
      "text/plain": [
       "    test_loss_main  test_loss_aux  test_mae  test_rmse  test_acc  test_acc±1  \\\n",
       "0        10.695080   8.513073e-01  1.748067   1.748067       0.0         0.0   \n",
       "1         0.000162   3.226040e+00  0.008054   0.008054       1.0         1.0   \n",
       "2         8.722425   1.812477e+01  1.578645   1.578645       0.0         0.0   \n",
       "3         0.413668   1.721811e+00  0.343789   0.343789       1.0         1.0   \n",
       "4         0.207811   4.882217e+00  0.263193   0.263193       1.0         1.0   \n",
       "5         4.332916   1.604978e+01  1.471889   1.471889       0.0         0.0   \n",
       "6         0.007534   1.582015e-02  0.086798   0.086798       1.0         1.0   \n",
       "7         0.000529   1.756512e-02  0.022999   0.022999       1.0         1.0   \n",
       "8         0.002245   3.805922e-02  0.047378   0.047378       1.0         1.0   \n",
       "9         1.125699   1.887872e+00  1.060990   1.060990       0.0         0.0   \n",
       "10        0.002400   1.274473e-02  0.048994   0.048994       1.0         1.0   \n",
       "11        0.041973   2.084378e-01  0.204873   0.204873       1.0         1.0   \n",
       "12        1.463114   1.007507e+00  1.209593   1.209593       0.0         0.0   \n",
       "13        0.018730   3.664656e-02  0.136858   0.136858       1.0         1.0   \n",
       "14        0.008361   3.521447e-03  0.091440   0.091440       1.0         1.0   \n",
       "15        0.000096   1.924821e-02  0.009787   0.009787       1.0         1.0   \n",
       "16        0.539699   2.527339e-01  0.734642   0.734642       0.0         1.0   \n",
       "17        0.009717   8.625805e-09  0.098574   0.098574       1.0         1.0   \n",
       "18        0.001813   2.989850e-02  0.042576   0.042576       1.0         1.0   \n",
       "19        0.005752   1.197534e-02  0.075845   0.075845       1.0         1.0   \n",
       "20        0.001063   1.470588e-01  0.032610   0.032610       1.0         1.0   \n",
       "21        0.000563   9.474793e-03  0.023730   0.023730       1.0         1.0   \n",
       "22        0.003367   7.375530e-03  0.058029   0.058029       1.0         1.0   \n",
       "23        0.062329   5.073503e-02  0.249657   0.249657       1.0         1.0   \n",
       "24        0.001686   7.440594e-03  0.041057   0.041057       1.0         1.0   \n",
       "\n",
       "    test_auroc  test_mae_aux        pid  \n",
       "0          0.0      0.422231  WEBSS-002  \n",
       "1          0.0      1.065602  WEBSS-003  \n",
       "2          0.0      2.220979  WEBSS-004  \n",
       "3          0.0      0.656790  WEBSS-005  \n",
       "4          0.0      1.225988  WEBSS-006  \n",
       "5          0.0      1.987622  WEBSS-007  \n",
       "6          0.0      0.125778   normal-1  \n",
       "7          0.0      0.132533  normal-10  \n",
       "8          0.0      0.195088  normal-11  \n",
       "9          0.0      1.373999  normal-12  \n",
       "10         0.0      0.112893  normal-13  \n",
       "11         0.0      0.456550  normal-14  \n",
       "12         0.0      1.003746  normal-15  \n",
       "13         0.0      0.191433  normal-16  \n",
       "14         0.0      0.059342  normal-17  \n",
       "15         0.0      0.138738  normal-18  \n",
       "16         0.0      0.502726  normal-19  \n",
       "17         0.0      0.000093   normal-2  \n",
       "18         0.0      0.172912   normal-3  \n",
       "19         0.0      0.109432   normal-4  \n",
       "20         0.0      0.383482   normal-5  \n",
       "21         0.0      0.097339   normal-6  \n",
       "22         0.0      0.085881   normal-7  \n",
       "23         0.0      0.225244   normal-8  \n",
       "24         0.0      0.086259   normal-9  "
      ]
     },
     "execution_count": 16,
     "metadata": {},
     "output_type": "execute_result"
    }
   ],
   "source": [
    "df_res = pd.DataFrame(results)\n",
    "df_res"
   ]
  },
  {
   "cell_type": "code",
   "execution_count": 17,
   "id": "5f532667-46d9-447f-af96-3114dd3b1da4",
   "metadata": {},
   "outputs": [
    {
     "name": "stdout",
     "output_type": "stream",
     "text": [
      "<pandas.core.groupby.generic.DataFrameGroupBy object at 0x7f18cc24ef80>\n",
      "평균 MAE(main) : 0.38760261945426466\n",
      "평균 MAE(aux)  : 0.5213071201741696\n",
      "std MAE(main) : 0.5568744121468205\n",
      "std MAE(aux)  : 0.6158218644299931\n"
     ]
    }
   ],
   "source": [
    "print(df_res.groupby('pid')[['test_mae','test_mae_aux']])\n",
    "print(\"평균 MAE(main) :\", df_res['test_mae'].mean())\n",
    "print(\"평균 MAE(aux)  :\", df_res['test_mae_aux'].mean())\n",
    "print(\"std MAE(main) :\", df_res['test_mae'].std())\n",
    "print(\"std MAE(aux)  :\", df_res['test_mae_aux'].std())"
   ]
  },
  {
   "cell_type": "markdown",
   "id": "918aac0e-4c1f-4bcb-82b1-0b66f062fbd7",
   "metadata": {},
   "source": [
    "## w/o normal"
   ]
  },
  {
   "cell_type": "code",
   "execution_count": 31,
   "id": "9070398c-8649-462b-b29c-6619bf31d2ba",
   "metadata": {
    "scrolled": true
   },
   "outputs": [
    {
     "name": "stderr",
     "output_type": "stream",
     "text": [
      "Seed set to 12\n",
      "GPU available: True (cuda), used: True\n",
      "TPU available: False, using: 0 TPU cores\n",
      "IPU available: False, using: 0 IPUs\n",
      "HPU available: False, using: 0 HPUs\n",
      "LOCAL_RANK: 0 - CUDA_VISIBLE_DEVICES: [0,1,2,3,4,5,6]\n",
      "\n",
      "   | Name          | Type               | Params\n",
      "------------------------------------------------------\n",
      "0  | tab_enc       | TabularEncoder     | 4.9 K \n",
      "1  | rnn           | GRU                | 369 K \n",
      "2  | head_aux      | Linear             | 129   \n",
      "3  | head_main     | Linear             | 129   \n",
      "4  | mse           | MSELoss            | 0     \n",
      "5  | train_mae     | MeanAbsoluteError  | 0     \n",
      "6  | val_mae       | MeanAbsoluteError  | 0     \n",
      "7  | test_mae      | MeanAbsoluteError  | 0     \n",
      "8  | train_rmse    | MeanSquaredError   | 0     \n",
      "9  | val_rmse      | MeanSquaredError   | 0     \n",
      "10 | test_rmse     | MeanSquaredError   | 0     \n",
      "11 | train_acc     | MulticlassAccuracy | 0     \n",
      "12 | val_acc       | MulticlassAccuracy | 0     \n",
      "13 | test_acc      | MulticlassAccuracy | 0     \n",
      "14 | train_acc_tol | SumMetric          | 0     \n",
      "15 | val_acc_tol   | SumMetric          | 0     \n",
      "16 | test_acc_tol  | SumMetric          | 0     \n",
      "17 | train_cnt     | SumMetric          | 0     \n",
      "18 | val_cnt       | SumMetric          | 0     \n",
      "19 | test_cnt      | SumMetric          | 0     \n",
      "20 | train_auroc   | MulticlassAUROC    | 0     \n",
      "21 | val_auroc     | MulticlassAUROC    | 0     \n",
      "22 | test_auroc    | MulticlassAUROC    | 0     \n",
      "23 | train_mae_aux | MeanAbsoluteError  | 0     \n",
      "24 | val_mae_aux   | MeanAbsoluteError  | 0     \n",
      "25 | test_mae_aux  | MeanAbsoluteError  | 0     \n",
      "------------------------------------------------------\n",
      "374 K     Trainable params\n",
      "0         Non-trainable params\n",
      "374 K     Total params\n",
      "1.498     Total estimated model params size (MB)\n"
     ]
    },
    {
     "name": "stdout",
     "output_type": "stream",
     "text": [
      "split lengths: [4, 1, 1] / dataset len = 6\n"
     ]
    },
    {
     "data": {
      "application/vnd.jupyter.widget-view+json": {
       "model_id": "074d4f448fe24c6b997ae836364a4948",
       "version_major": 2,
       "version_minor": 0
      },
      "text/plain": [
       "Sanity Checking: |                                                                                            …"
      ]
     },
     "metadata": {},
     "output_type": "display_data"
    },
    {
     "name": "stderr",
     "output_type": "stream",
     "text": [
      "/opt/conda/envs/audio/lib/python3.10/site-packages/pytorch_lightning/trainer/connectors/data_connector.py:441: The 'val_dataloader' does not have many workers which may be a bottleneck. Consider increasing the value of the `num_workers` argument` to `num_workers=127` in the `DataLoader` to improve performance.\n",
      "/opt/conda/envs/audio/lib/python3.10/site-packages/torchmetrics/utilities/prints.py:43: TorchMetricsUserWarning: You are trying to use a metric in deterministic mode on GPU that uses `torch.cumsum`, which is currently not supported. The tensor will be copied to the CPU memory to compute it and then copied back to GPU. Expect some slowdowns.\n",
      "  warnings.warn(*args, **kwargs)  # noqa: B028\n",
      "/opt/conda/envs/audio/lib/python3.10/site-packages/torchmetrics/utilities/prints.py:43: UserWarning: No positive samples in targets, true positive value should be meaningless. Returning zero tensor in true positive score\n",
      "  warnings.warn(*args, **kwargs)  # noqa: B028\n",
      "/opt/conda/envs/audio/lib/python3.10/site-packages/torchmetrics/utilities/prints.py:43: UserWarning: No negative samples in targets, false positive value should be meaningless. Returning zero tensor in false positive score\n",
      "  warnings.warn(*args, **kwargs)  # noqa: B028\n",
      "/opt/conda/envs/audio/lib/python3.10/site-packages/pytorch_lightning/trainer/connectors/data_connector.py:441: The 'train_dataloader' does not have many workers which may be a bottleneck. Consider increasing the value of the `num_workers` argument` to `num_workers=127` in the `DataLoader` to improve performance.\n"
     ]
    },
    {
     "data": {
      "application/vnd.jupyter.widget-view+json": {
       "model_id": "487bf90cfc8f43f594a8d528c67afe46",
       "version_major": 2,
       "version_minor": 0
      },
      "text/plain": [
       "Training: |                                                                                                   …"
      ]
     },
     "metadata": {},
     "output_type": "display_data"
    },
    {
     "data": {
      "application/vnd.jupyter.widget-view+json": {
       "model_id": "5e9398e567ac4e61a77879eba99495de",
       "version_major": 2,
       "version_minor": 0
      },
      "text/plain": [
       "Validation: |                                                                                                 …"
      ]
     },
     "metadata": {},
     "output_type": "display_data"
    },
    {
     "data": {
      "application/vnd.jupyter.widget-view+json": {
       "model_id": "d4455d68c8a44fe8843d470f810f0d71",
       "version_major": 2,
       "version_minor": 0
      },
      "text/plain": [
       "Validation: |                                                                                                 …"
      ]
     },
     "metadata": {},
     "output_type": "display_data"
    },
    {
     "data": {
      "application/vnd.jupyter.widget-view+json": {
       "model_id": "fdfc68d127364fbe89703a84864b1dbd",
       "version_major": 2,
       "version_minor": 0
      },
      "text/plain": [
       "Validation: |                                                                                                 …"
      ]
     },
     "metadata": {},
     "output_type": "display_data"
    },
    {
     "data": {
      "application/vnd.jupyter.widget-view+json": {
       "model_id": "cdf28d910ee74e3b862840026cd7da0c",
       "version_major": 2,
       "version_minor": 0
      },
      "text/plain": [
       "Validation: |                                                                                                 …"
      ]
     },
     "metadata": {},
     "output_type": "display_data"
    },
    {
     "data": {
      "application/vnd.jupyter.widget-view+json": {
       "model_id": "23f56af848fe4e98a4446d021688de52",
       "version_major": 2,
       "version_minor": 0
      },
      "text/plain": [
       "Validation: |                                                                                                 …"
      ]
     },
     "metadata": {},
     "output_type": "display_data"
    },
    {
     "data": {
      "application/vnd.jupyter.widget-view+json": {
       "model_id": "f107abc4f6744ac19ae9892dfd955c6f",
       "version_major": 2,
       "version_minor": 0
      },
      "text/plain": [
       "Validation: |                                                                                                 …"
      ]
     },
     "metadata": {},
     "output_type": "display_data"
    },
    {
     "data": {
      "application/vnd.jupyter.widget-view+json": {
       "model_id": "c1907de0b58c4f30a48f829abbdd4684",
       "version_major": 2,
       "version_minor": 0
      },
      "text/plain": [
       "Validation: |                                                                                                 …"
      ]
     },
     "metadata": {},
     "output_type": "display_data"
    },
    {
     "data": {
      "application/vnd.jupyter.widget-view+json": {
       "model_id": "b4d0afc386cc4de099e69659ac123065",
       "version_major": 2,
       "version_minor": 0
      },
      "text/plain": [
       "Validation: |                                                                                                 …"
      ]
     },
     "metadata": {},
     "output_type": "display_data"
    },
    {
     "data": {
      "application/vnd.jupyter.widget-view+json": {
       "model_id": "0305fce62834412bbd02eb5d0a3ab5dc",
       "version_major": 2,
       "version_minor": 0
      },
      "text/plain": [
       "Validation: |                                                                                                 …"
      ]
     },
     "metadata": {},
     "output_type": "display_data"
    },
    {
     "data": {
      "application/vnd.jupyter.widget-view+json": {
       "model_id": "e6b46c0917ab4cc6887267247046219f",
       "version_major": 2,
       "version_minor": 0
      },
      "text/plain": [
       "Validation: |                                                                                                 …"
      ]
     },
     "metadata": {},
     "output_type": "display_data"
    },
    {
     "data": {
      "application/vnd.jupyter.widget-view+json": {
       "model_id": "65f708015ff8431db7686994e2b6bc11",
       "version_major": 2,
       "version_minor": 0
      },
      "text/plain": [
       "Validation: |                                                                                                 …"
      ]
     },
     "metadata": {},
     "output_type": "display_data"
    },
    {
     "data": {
      "application/vnd.jupyter.widget-view+json": {
       "model_id": "57aaf6a057d14a8ba6eeb9cc832b8d6a",
       "version_major": 2,
       "version_minor": 0
      },
      "text/plain": [
       "Validation: |                                                                                                 …"
      ]
     },
     "metadata": {},
     "output_type": "display_data"
    },
    {
     "data": {
      "application/vnd.jupyter.widget-view+json": {
       "model_id": "6989ec37d2494a259e200b275cabf180",
       "version_major": 2,
       "version_minor": 0
      },
      "text/plain": [
       "Validation: |                                                                                                 …"
      ]
     },
     "metadata": {},
     "output_type": "display_data"
    },
    {
     "data": {
      "application/vnd.jupyter.widget-view+json": {
       "model_id": "c2cd8fe83db04dd9ba18135d9cf0b98a",
       "version_major": 2,
       "version_minor": 0
      },
      "text/plain": [
       "Validation: |                                                                                                 …"
      ]
     },
     "metadata": {},
     "output_type": "display_data"
    },
    {
     "data": {
      "application/vnd.jupyter.widget-view+json": {
       "model_id": "9bd36f599c734407bd1078252d98774e",
       "version_major": 2,
       "version_minor": 0
      },
      "text/plain": [
       "Validation: |                                                                                                 …"
      ]
     },
     "metadata": {},
     "output_type": "display_data"
    },
    {
     "data": {
      "application/vnd.jupyter.widget-view+json": {
       "model_id": "3ee2b7bfa5b94bca90e1a7722571a903",
       "version_major": 2,
       "version_minor": 0
      },
      "text/plain": [
       "Validation: |                                                                                                 …"
      ]
     },
     "metadata": {},
     "output_type": "display_data"
    },
    {
     "data": {
      "application/vnd.jupyter.widget-view+json": {
       "model_id": "6e7618819d5d497499b6006f710600e0",
       "version_major": 2,
       "version_minor": 0
      },
      "text/plain": [
       "Validation: |                                                                                                 …"
      ]
     },
     "metadata": {},
     "output_type": "display_data"
    },
    {
     "data": {
      "application/vnd.jupyter.widget-view+json": {
       "model_id": "2682a4e88bc1436786e1acbbf597328c",
       "version_major": 2,
       "version_minor": 0
      },
      "text/plain": [
       "Validation: |                                                                                                 …"
      ]
     },
     "metadata": {},
     "output_type": "display_data"
    },
    {
     "data": {
      "application/vnd.jupyter.widget-view+json": {
       "model_id": "b71645c7d94e4322ac4a4defb43022a6",
       "version_major": 2,
       "version_minor": 0
      },
      "text/plain": [
       "Validation: |                                                                                                 …"
      ]
     },
     "metadata": {},
     "output_type": "display_data"
    },
    {
     "data": {
      "application/vnd.jupyter.widget-view+json": {
       "model_id": "91e1249789c64df7b9577abb1f026fcb",
       "version_major": 2,
       "version_minor": 0
      },
      "text/plain": [
       "Validation: |                                                                                                 …"
      ]
     },
     "metadata": {},
     "output_type": "display_data"
    },
    {
     "data": {
      "application/vnd.jupyter.widget-view+json": {
       "model_id": "4f7108c78e6d4ae985ec828224e61282",
       "version_major": 2,
       "version_minor": 0
      },
      "text/plain": [
       "Validation: |                                                                                                 …"
      ]
     },
     "metadata": {},
     "output_type": "display_data"
    },
    {
     "data": {
      "application/vnd.jupyter.widget-view+json": {
       "model_id": "f448802e6b52429896c159e427f4d560",
       "version_major": 2,
       "version_minor": 0
      },
      "text/plain": [
       "Validation: |                                                                                                 …"
      ]
     },
     "metadata": {},
     "output_type": "display_data"
    },
    {
     "data": {
      "application/vnd.jupyter.widget-view+json": {
       "model_id": "21c8767ea1c24c578f80cb883a6e6e1a",
       "version_major": 2,
       "version_minor": 0
      },
      "text/plain": [
       "Validation: |                                                                                                 …"
      ]
     },
     "metadata": {},
     "output_type": "display_data"
    },
    {
     "data": {
      "application/vnd.jupyter.widget-view+json": {
       "model_id": "3470ace2331a47aba790a15cc3f62d14",
       "version_major": 2,
       "version_minor": 0
      },
      "text/plain": [
       "Validation: |                                                                                                 …"
      ]
     },
     "metadata": {},
     "output_type": "display_data"
    },
    {
     "data": {
      "application/vnd.jupyter.widget-view+json": {
       "model_id": "dbf77ef1ac3f4854a35514b91972984a",
       "version_major": 2,
       "version_minor": 0
      },
      "text/plain": [
       "Validation: |                                                                                                 …"
      ]
     },
     "metadata": {},
     "output_type": "display_data"
    },
    {
     "data": {
      "application/vnd.jupyter.widget-view+json": {
       "model_id": "6dbbde27f84e4993a7304f05d751f72c",
       "version_major": 2,
       "version_minor": 0
      },
      "text/plain": [
       "Validation: |                                                                                                 …"
      ]
     },
     "metadata": {},
     "output_type": "display_data"
    },
    {
     "data": {
      "application/vnd.jupyter.widget-view+json": {
       "model_id": "a45e08c9d2084563b321f51511eb1ddb",
       "version_major": 2,
       "version_minor": 0
      },
      "text/plain": [
       "Validation: |                                                                                                 …"
      ]
     },
     "metadata": {},
     "output_type": "display_data"
    },
    {
     "data": {
      "application/vnd.jupyter.widget-view+json": {
       "model_id": "f4eb37244a954fe4bc447a45d007599c",
       "version_major": 2,
       "version_minor": 0
      },
      "text/plain": [
       "Validation: |                                                                                                 …"
      ]
     },
     "metadata": {},
     "output_type": "display_data"
    },
    {
     "data": {
      "application/vnd.jupyter.widget-view+json": {
       "model_id": "156bd22bdf94433aa40953230edf1ebb",
       "version_major": 2,
       "version_minor": 0
      },
      "text/plain": [
       "Validation: |                                                                                                 …"
      ]
     },
     "metadata": {},
     "output_type": "display_data"
    },
    {
     "data": {
      "application/vnd.jupyter.widget-view+json": {
       "model_id": "2946ab8046744185b144da1109b50f9a",
       "version_major": 2,
       "version_minor": 0
      },
      "text/plain": [
       "Validation: |                                                                                                 …"
      ]
     },
     "metadata": {},
     "output_type": "display_data"
    },
    {
     "name": "stderr",
     "output_type": "stream",
     "text": [
      "`Trainer.fit` stopped: `max_epochs=30` reached.\n",
      "LOCAL_RANK: 0 - CUDA_VISIBLE_DEVICES: [0,1,2,3,4,5,6]\n",
      "/opt/conda/envs/audio/lib/python3.10/site-packages/pytorch_lightning/trainer/connectors/data_connector.py:441: The 'test_dataloader' does not have many workers which may be a bottleneck. Consider increasing the value of the `num_workers` argument` to `num_workers=127` in the `DataLoader` to improve performance.\n"
     ]
    },
    {
     "data": {
      "application/vnd.jupyter.widget-view+json": {
       "model_id": "a98124caa6274a31ac5e09139e00519b",
       "version_major": 2,
       "version_minor": 0
      },
      "text/plain": [
       "Testing: |                                                                                                    …"
      ]
     },
     "metadata": {},
     "output_type": "display_data"
    },
    {
     "name": "stderr",
     "output_type": "stream",
     "text": [
      "Seed set to 15\n",
      "GPU available: True (cuda), used: True\n",
      "TPU available: False, using: 0 TPU cores\n",
      "IPU available: False, using: 0 IPUs\n",
      "HPU available: False, using: 0 HPUs\n",
      "LOCAL_RANK: 0 - CUDA_VISIBLE_DEVICES: [0,1,2,3,4,5,6]\n",
      "\n",
      "   | Name          | Type               | Params\n",
      "------------------------------------------------------\n",
      "0  | tab_enc       | TabularEncoder     | 4.9 K \n",
      "1  | rnn           | GRU                | 369 K \n",
      "2  | head_aux      | Linear             | 129   \n",
      "3  | head_main     | Linear             | 129   \n",
      "4  | mse           | MSELoss            | 0     \n",
      "5  | train_mae     | MeanAbsoluteError  | 0     \n",
      "6  | val_mae       | MeanAbsoluteError  | 0     \n",
      "7  | test_mae      | MeanAbsoluteError  | 0     \n",
      "8  | train_rmse    | MeanSquaredError   | 0     \n",
      "9  | val_rmse      | MeanSquaredError   | 0     \n",
      "10 | test_rmse     | MeanSquaredError   | 0     \n",
      "11 | train_acc     | MulticlassAccuracy | 0     \n",
      "12 | val_acc       | MulticlassAccuracy | 0     \n",
      "13 | test_acc      | MulticlassAccuracy | 0     \n",
      "14 | train_acc_tol | SumMetric          | 0     \n",
      "15 | val_acc_tol   | SumMetric          | 0     \n",
      "16 | test_acc_tol  | SumMetric          | 0     \n",
      "17 | train_cnt     | SumMetric          | 0     \n",
      "18 | val_cnt       | SumMetric          | 0     \n",
      "19 | test_cnt      | SumMetric          | 0     \n",
      "20 | train_auroc   | MulticlassAUROC    | 0     \n",
      "21 | val_auroc     | MulticlassAUROC    | 0     \n",
      "22 | test_auroc    | MulticlassAUROC    | 0     \n",
      "23 | train_mae_aux | MeanAbsoluteError  | 0     \n",
      "24 | val_mae_aux   | MeanAbsoluteError  | 0     \n",
      "25 | test_mae_aux  | MeanAbsoluteError  | 0     \n",
      "------------------------------------------------------\n",
      "374 K     Trainable params\n",
      "0         Non-trainable params\n",
      "374 K     Total params\n",
      "1.498     Total estimated model params size (MB)\n"
     ]
    },
    {
     "name": "stdout",
     "output_type": "stream",
     "text": [
      "────────────────────────────────────────────────────────────────────────────────────────────────────────────────────────\n",
      "       Test metric             DataLoader 0\n",
      "────────────────────────────────────────────────────────────────────────────────────────────────────────────────────────\n",
      "        test_acc                    0.0\n",
      "       test_acc±1                   0.0\n",
      "       test_auroc                   0.0\n",
      "      test_loss_aux          4.489660263061523\n",
      "     test_loss_main          4.169790267944336\n",
      "        test_mae            1.0914983749389648\n",
      "      test_mae_aux           1.131862998008728\n",
      "        test_rmse           1.0914983749389648\n",
      "────────────────────────────────────────────────────────────────────────────────────────────────────────────────────────\n",
      "split lengths: [4, 1, 1] / dataset len = 6\n"
     ]
    },
    {
     "data": {
      "application/vnd.jupyter.widget-view+json": {
       "model_id": "13ad1579a42642c8bb49f11d268a7d1b",
       "version_major": 2,
       "version_minor": 0
      },
      "text/plain": [
       "Sanity Checking: |                                                                                            …"
      ]
     },
     "metadata": {},
     "output_type": "display_data"
    },
    {
     "data": {
      "application/vnd.jupyter.widget-view+json": {
       "model_id": "60b60dd2f99040608ce384684a951e8d",
       "version_major": 2,
       "version_minor": 0
      },
      "text/plain": [
       "Training: |                                                                                                   …"
      ]
     },
     "metadata": {},
     "output_type": "display_data"
    },
    {
     "data": {
      "application/vnd.jupyter.widget-view+json": {
       "model_id": "8388dd7d39cb45a69707c6d7382ef72e",
       "version_major": 2,
       "version_minor": 0
      },
      "text/plain": [
       "Validation: |                                                                                                 …"
      ]
     },
     "metadata": {},
     "output_type": "display_data"
    },
    {
     "data": {
      "application/vnd.jupyter.widget-view+json": {
       "model_id": "7377cd7969984e859b80ae23058e7f98",
       "version_major": 2,
       "version_minor": 0
      },
      "text/plain": [
       "Validation: |                                                                                                 …"
      ]
     },
     "metadata": {},
     "output_type": "display_data"
    },
    {
     "data": {
      "application/vnd.jupyter.widget-view+json": {
       "model_id": "02117deb251147b5a6ec2369a7473f26",
       "version_major": 2,
       "version_minor": 0
      },
      "text/plain": [
       "Validation: |                                                                                                 …"
      ]
     },
     "metadata": {},
     "output_type": "display_data"
    },
    {
     "data": {
      "application/vnd.jupyter.widget-view+json": {
       "model_id": "9dc6099783af46d994c0016c049919a9",
       "version_major": 2,
       "version_minor": 0
      },
      "text/plain": [
       "Validation: |                                                                                                 …"
      ]
     },
     "metadata": {},
     "output_type": "display_data"
    },
    {
     "data": {
      "application/vnd.jupyter.widget-view+json": {
       "model_id": "be0024689d694ee8b9ec515299e5a23d",
       "version_major": 2,
       "version_minor": 0
      },
      "text/plain": [
       "Validation: |                                                                                                 …"
      ]
     },
     "metadata": {},
     "output_type": "display_data"
    },
    {
     "data": {
      "application/vnd.jupyter.widget-view+json": {
       "model_id": "433991e85bd44e4a8d64309c7d97cb3a",
       "version_major": 2,
       "version_minor": 0
      },
      "text/plain": [
       "Validation: |                                                                                                 …"
      ]
     },
     "metadata": {},
     "output_type": "display_data"
    },
    {
     "data": {
      "application/vnd.jupyter.widget-view+json": {
       "model_id": "6f769c7088cc4ae09cdc97c1ee369448",
       "version_major": 2,
       "version_minor": 0
      },
      "text/plain": [
       "Validation: |                                                                                                 …"
      ]
     },
     "metadata": {},
     "output_type": "display_data"
    },
    {
     "data": {
      "application/vnd.jupyter.widget-view+json": {
       "model_id": "e9632a9bad134ed39d111f0ea1cbe2a3",
       "version_major": 2,
       "version_minor": 0
      },
      "text/plain": [
       "Validation: |                                                                                                 …"
      ]
     },
     "metadata": {},
     "output_type": "display_data"
    },
    {
     "data": {
      "application/vnd.jupyter.widget-view+json": {
       "model_id": "5810cc2c583f4c5ea269e5cf6a865a29",
       "version_major": 2,
       "version_minor": 0
      },
      "text/plain": [
       "Validation: |                                                                                                 …"
      ]
     },
     "metadata": {},
     "output_type": "display_data"
    },
    {
     "data": {
      "application/vnd.jupyter.widget-view+json": {
       "model_id": "a2477120ef2440509a61fc5f03db82fd",
       "version_major": 2,
       "version_minor": 0
      },
      "text/plain": [
       "Validation: |                                                                                                 …"
      ]
     },
     "metadata": {},
     "output_type": "display_data"
    },
    {
     "data": {
      "application/vnd.jupyter.widget-view+json": {
       "model_id": "f03673e4f8534738a79b333106d895c1",
       "version_major": 2,
       "version_minor": 0
      },
      "text/plain": [
       "Validation: |                                                                                                 …"
      ]
     },
     "metadata": {},
     "output_type": "display_data"
    },
    {
     "data": {
      "application/vnd.jupyter.widget-view+json": {
       "model_id": "67135dcb30e64644a9c44d50212eaa9a",
       "version_major": 2,
       "version_minor": 0
      },
      "text/plain": [
       "Validation: |                                                                                                 …"
      ]
     },
     "metadata": {},
     "output_type": "display_data"
    },
    {
     "data": {
      "application/vnd.jupyter.widget-view+json": {
       "model_id": "6bff667f024146e1adf284906506a3a9",
       "version_major": 2,
       "version_minor": 0
      },
      "text/plain": [
       "Validation: |                                                                                                 …"
      ]
     },
     "metadata": {},
     "output_type": "display_data"
    },
    {
     "data": {
      "application/vnd.jupyter.widget-view+json": {
       "model_id": "34157b1f788d4688a665a78cd0892596",
       "version_major": 2,
       "version_minor": 0
      },
      "text/plain": [
       "Validation: |                                                                                                 …"
      ]
     },
     "metadata": {},
     "output_type": "display_data"
    },
    {
     "data": {
      "application/vnd.jupyter.widget-view+json": {
       "model_id": "ccb207ab7d5644febae6225f020f4bcc",
       "version_major": 2,
       "version_minor": 0
      },
      "text/plain": [
       "Validation: |                                                                                                 …"
      ]
     },
     "metadata": {},
     "output_type": "display_data"
    },
    {
     "data": {
      "application/vnd.jupyter.widget-view+json": {
       "model_id": "ba3e440d16af4667b659022f5c8e6ddf",
       "version_major": 2,
       "version_minor": 0
      },
      "text/plain": [
       "Validation: |                                                                                                 …"
      ]
     },
     "metadata": {},
     "output_type": "display_data"
    },
    {
     "data": {
      "application/vnd.jupyter.widget-view+json": {
       "model_id": "8ea4e717d80242fa9117ed0dbc5dab03",
       "version_major": 2,
       "version_minor": 0
      },
      "text/plain": [
       "Validation: |                                                                                                 …"
      ]
     },
     "metadata": {},
     "output_type": "display_data"
    },
    {
     "data": {
      "application/vnd.jupyter.widget-view+json": {
       "model_id": "0005735ef6664e40955fb47b7bbbc7c8",
       "version_major": 2,
       "version_minor": 0
      },
      "text/plain": [
       "Validation: |                                                                                                 …"
      ]
     },
     "metadata": {},
     "output_type": "display_data"
    },
    {
     "data": {
      "application/vnd.jupyter.widget-view+json": {
       "model_id": "9f64179c6f7d42d08a337550e5a269d6",
       "version_major": 2,
       "version_minor": 0
      },
      "text/plain": [
       "Validation: |                                                                                                 …"
      ]
     },
     "metadata": {},
     "output_type": "display_data"
    },
    {
     "data": {
      "application/vnd.jupyter.widget-view+json": {
       "model_id": "a5b1634f21fe4f9d8f5344402512dd0e",
       "version_major": 2,
       "version_minor": 0
      },
      "text/plain": [
       "Validation: |                                                                                                 …"
      ]
     },
     "metadata": {},
     "output_type": "display_data"
    },
    {
     "data": {
      "application/vnd.jupyter.widget-view+json": {
       "model_id": "3513414dd7644c91b8a9320d345e0235",
       "version_major": 2,
       "version_minor": 0
      },
      "text/plain": [
       "Validation: |                                                                                                 …"
      ]
     },
     "metadata": {},
     "output_type": "display_data"
    },
    {
     "data": {
      "application/vnd.jupyter.widget-view+json": {
       "model_id": "a55b8a8e81c24c6d804ff0c797423a90",
       "version_major": 2,
       "version_minor": 0
      },
      "text/plain": [
       "Validation: |                                                                                                 …"
      ]
     },
     "metadata": {},
     "output_type": "display_data"
    },
    {
     "data": {
      "application/vnd.jupyter.widget-view+json": {
       "model_id": "57460624578746b792a86f8e846bacc8",
       "version_major": 2,
       "version_minor": 0
      },
      "text/plain": [
       "Validation: |                                                                                                 …"
      ]
     },
     "metadata": {},
     "output_type": "display_data"
    },
    {
     "data": {
      "application/vnd.jupyter.widget-view+json": {
       "model_id": "c724bf9835c6443c90c9cf74dafa49e6",
       "version_major": 2,
       "version_minor": 0
      },
      "text/plain": [
       "Validation: |                                                                                                 …"
      ]
     },
     "metadata": {},
     "output_type": "display_data"
    },
    {
     "data": {
      "application/vnd.jupyter.widget-view+json": {
       "model_id": "9324d70e19104cc48af61fe6f0de06f0",
       "version_major": 2,
       "version_minor": 0
      },
      "text/plain": [
       "Validation: |                                                                                                 …"
      ]
     },
     "metadata": {},
     "output_type": "display_data"
    },
    {
     "data": {
      "application/vnd.jupyter.widget-view+json": {
       "model_id": "12254d85aae042ef89478e212c285cb6",
       "version_major": 2,
       "version_minor": 0
      },
      "text/plain": [
       "Validation: |                                                                                                 …"
      ]
     },
     "metadata": {},
     "output_type": "display_data"
    },
    {
     "data": {
      "application/vnd.jupyter.widget-view+json": {
       "model_id": "27a5cc668b064e1bbb44d84bfbd5e00d",
       "version_major": 2,
       "version_minor": 0
      },
      "text/plain": [
       "Validation: |                                                                                                 …"
      ]
     },
     "metadata": {},
     "output_type": "display_data"
    },
    {
     "data": {
      "application/vnd.jupyter.widget-view+json": {
       "model_id": "f5cc461d1f7e42fca978afde737f80ed",
       "version_major": 2,
       "version_minor": 0
      },
      "text/plain": [
       "Validation: |                                                                                                 …"
      ]
     },
     "metadata": {},
     "output_type": "display_data"
    },
    {
     "data": {
      "application/vnd.jupyter.widget-view+json": {
       "model_id": "6d58c338bf6841e1b12f705ba50a3507",
       "version_major": 2,
       "version_minor": 0
      },
      "text/plain": [
       "Validation: |                                                                                                 …"
      ]
     },
     "metadata": {},
     "output_type": "display_data"
    },
    {
     "data": {
      "application/vnd.jupyter.widget-view+json": {
       "model_id": "d7200fff7ad940199ffbdaa6d151b3c1",
       "version_major": 2,
       "version_minor": 0
      },
      "text/plain": [
       "Validation: |                                                                                                 …"
      ]
     },
     "metadata": {},
     "output_type": "display_data"
    },
    {
     "name": "stderr",
     "output_type": "stream",
     "text": [
      "`Trainer.fit` stopped: `max_epochs=30` reached.\n",
      "LOCAL_RANK: 0 - CUDA_VISIBLE_DEVICES: [0,1,2,3,4,5,6]\n"
     ]
    },
    {
     "data": {
      "application/vnd.jupyter.widget-view+json": {
       "model_id": "4c825f7da4e4414cae5e8bf3fdc98fad",
       "version_major": 2,
       "version_minor": 0
      },
      "text/plain": [
       "Testing: |                                                                                                    …"
      ]
     },
     "metadata": {},
     "output_type": "display_data"
    },
    {
     "name": "stdout",
     "output_type": "stream",
     "text": [
      "────────────────────────────────────────────────────────────────────────────────────────────────────────────────────────\n",
      "       Test metric             DataLoader 0\n",
      "────────────────────────────────────────────────────────────────────────────────────────────────────────────────────────\n",
      "        test_acc                    0.0\n",
      "       test_acc±1                   1.0\n",
      "       test_auroc                   0.0\n",
      "      test_loss_aux          7.595382213592529\n",
      "     test_loss_main          0.881035566329956\n",
      "        test_mae            0.5419211387634277\n",
      "      test_mae_aux          1.6345645189285278\n",
      "        test_rmse           0.5419211387634277\n",
      "────────────────────────────────────────────────────────────────────────────────────────────────────────────────────────\n"
     ]
    }
   ],
   "source": [
    "\n",
    "dataset = CRSTimeSeriesDataset(\n",
    "    meta_csv      = \"data/Yeo/Sheet 1-Tabular_asthma_data.csv\",\n",
    "    soundlist_npy = \"feature/yeo_eval/sound_dir_loc.npy\",\n",
    "    emb_npy       = \"feature/yeo_eval/operaCT768_feature.npy\",\n",
    "    normal_flag = False\n",
    ")\n",
    "\n",
    "n = len(dataset)\n",
    "\n",
    "for seed in [12,15]:\n",
    "    seed_everything(seed)\n",
    "    g = torch.Generator().manual_seed(seed) #38 #128    \n",
    "    val_len  = max(1, int(n * 0.15))\n",
    "    test_len = max(1, int(n * 0.15))\n",
    "    train_len = max(1, n - val_len - test_len)\n",
    "    lengths = split_lengths(n, val_ratio=0.15, test_ratio=0.15)\n",
    "    train_ds, val_ds, test_ds = random_split(dataset, lengths,\n",
    "                                             generator=g)\n",
    "    print(f\"split lengths: {lengths} / dataset len = {n}\")\n",
    "    \n",
    "    \n",
    "    batch_size = 3\n",
    "    \n",
    "    train_loader = make_loader(train_ds, shuffle=True)\n",
    "    val_loader   = make_loader(val_ds,   shuffle=False)\n",
    "    test_loader  = make_loader(test_ds,  shuffle=False)\n",
    "    \n",
    "    model = AudioTabularRNN(\n",
    "        audio_dim = 768,\n",
    "        tab_dim   = dataset.tab_dim,\n",
    "        tab_emb   = 64,\n",
    "        rnn_hid   = 128,\n",
    "        lr        = 1e-3,\n",
    "        pad_value = PAD_CRS,\n",
    "        λ_main    = 1.0,\n",
    "        λ_aux     = 0.3,\n",
    "        α_weight  = 0.5,     # severe 가중치\n",
    "    )\n",
    "    \n",
    "    trainer = pl.Trainer(\n",
    "        max_epochs = 30,\n",
    "        accelerator = \"gpu\" if torch.cuda.is_available() else \"cpu\",\n",
    "        devices     = 1,\n",
    "        log_every_n_steps = 1,\n",
    "    )\n",
    "    \n",
    "    trainer.fit(model, train_loader, val_loader)\n",
    "    trainer.test(model, test_loader)\n",
    "\n",
    "\n",
    "\n"
   ]
  },
  {
   "cell_type": "code",
   "execution_count": 32,
   "id": "487fdcc8-18c1-48e4-b684-179e5c4c7470",
   "metadata": {
    "scrolled": true
   },
   "outputs": [
    {
     "name": "stderr",
     "output_type": "stream",
     "text": [
      "GPU available: True (cuda), used: True\n",
      "TPU available: False, using: 0 TPU cores\n",
      "IPU available: False, using: 0 IPUs\n",
      "HPU available: False, using: 0 HPUs\n",
      "/opt/conda/envs/audio/lib/python3.10/site-packages/pytorch_lightning/trainer/configuration_validator.py:74: You defined a `validation_step` but have no `val_dataloader`. Skipping val loop.\n",
      "LOCAL_RANK: 0 - CUDA_VISIBLE_DEVICES: [0,1,2,3,4,5,6]\n",
      "\n",
      "   | Name          | Type               | Params\n",
      "------------------------------------------------------\n",
      "0  | tab_enc       | TabularEncoder     | 4.9 K \n",
      "1  | rnn           | GRU                | 369 K \n",
      "2  | head_aux      | Linear             | 129   \n",
      "3  | head_main     | Linear             | 129   \n",
      "4  | mse           | MSELoss            | 0     \n",
      "5  | train_mae     | MeanAbsoluteError  | 0     \n",
      "6  | val_mae       | MeanAbsoluteError  | 0     \n",
      "7  | test_mae      | MeanAbsoluteError  | 0     \n",
      "8  | train_rmse    | MeanSquaredError   | 0     \n",
      "9  | val_rmse      | MeanSquaredError   | 0     \n",
      "10 | test_rmse     | MeanSquaredError   | 0     \n",
      "11 | train_acc     | MulticlassAccuracy | 0     \n",
      "12 | val_acc       | MulticlassAccuracy | 0     \n",
      "13 | test_acc      | MulticlassAccuracy | 0     \n",
      "14 | train_acc_tol | SumMetric          | 0     \n",
      "15 | val_acc_tol   | SumMetric          | 0     \n",
      "16 | test_acc_tol  | SumMetric          | 0     \n",
      "17 | train_cnt     | SumMetric          | 0     \n",
      "18 | val_cnt       | SumMetric          | 0     \n",
      "19 | test_cnt      | SumMetric          | 0     \n",
      "20 | train_auroc   | MulticlassAUROC    | 0     \n",
      "21 | val_auroc     | MulticlassAUROC    | 0     \n",
      "22 | test_auroc    | MulticlassAUROC    | 0     \n",
      "23 | train_mae_aux | MeanAbsoluteError  | 0     \n",
      "24 | val_mae_aux   | MeanAbsoluteError  | 0     \n",
      "25 | test_mae_aux  | MeanAbsoluteError  | 0     \n",
      "------------------------------------------------------\n",
      "374 K     Trainable params\n",
      "0         Non-trainable params\n",
      "374 K     Total params\n",
      "1.498     Total estimated model params size (MB)\n"
     ]
    },
    {
     "data": {
      "application/vnd.jupyter.widget-view+json": {
       "model_id": "a8f18d2ad9ec40618bd82a490dbae814",
       "version_major": 2,
       "version_minor": 0
      },
      "text/plain": [
       "Training: |                                                                                                   …"
      ]
     },
     "metadata": {},
     "output_type": "display_data"
    },
    {
     "name": "stderr",
     "output_type": "stream",
     "text": [
      "`Trainer.fit` stopped: `max_epochs=50` reached.\n",
      "LOCAL_RANK: 0 - CUDA_VISIBLE_DEVICES: [0,1,2,3,4,5,6]\n"
     ]
    },
    {
     "data": {
      "application/vnd.jupyter.widget-view+json": {
       "model_id": "8418ce7c58194d9389648f09d534d935",
       "version_major": 2,
       "version_minor": 0
      },
      "text/plain": [
       "Testing: |                                                                                                    …"
      ]
     },
     "metadata": {},
     "output_type": "display_data"
    },
    {
     "name": "stderr",
     "output_type": "stream",
     "text": [
      "GPU available: True (cuda), used: True\n",
      "TPU available: False, using: 0 TPU cores\n",
      "IPU available: False, using: 0 IPUs\n",
      "HPU available: False, using: 0 HPUs\n",
      "LOCAL_RANK: 0 - CUDA_VISIBLE_DEVICES: [0,1,2,3,4,5,6]\n",
      "\n",
      "   | Name          | Type               | Params\n",
      "------------------------------------------------------\n",
      "0  | tab_enc       | TabularEncoder     | 4.9 K \n",
      "1  | rnn           | GRU                | 369 K \n",
      "2  | head_aux      | Linear             | 129   \n",
      "3  | head_main     | Linear             | 129   \n",
      "4  | mse           | MSELoss            | 0     \n",
      "5  | train_mae     | MeanAbsoluteError  | 0     \n",
      "6  | val_mae       | MeanAbsoluteError  | 0     \n",
      "7  | test_mae      | MeanAbsoluteError  | 0     \n",
      "8  | train_rmse    | MeanSquaredError   | 0     \n",
      "9  | val_rmse      | MeanSquaredError   | 0     \n",
      "10 | test_rmse     | MeanSquaredError   | 0     \n",
      "11 | train_acc     | MulticlassAccuracy | 0     \n",
      "12 | val_acc       | MulticlassAccuracy | 0     \n",
      "13 | test_acc      | MulticlassAccuracy | 0     \n",
      "14 | train_acc_tol | SumMetric          | 0     \n",
      "15 | val_acc_tol   | SumMetric          | 0     \n",
      "16 | test_acc_tol  | SumMetric          | 0     \n",
      "17 | train_cnt     | SumMetric          | 0     \n",
      "18 | val_cnt       | SumMetric          | 0     \n",
      "19 | test_cnt      | SumMetric          | 0     \n",
      "20 | train_auroc   | MulticlassAUROC    | 0     \n",
      "21 | val_auroc     | MulticlassAUROC    | 0     \n",
      "22 | test_auroc    | MulticlassAUROC    | 0     \n",
      "23 | train_mae_aux | MeanAbsoluteError  | 0     \n",
      "24 | val_mae_aux   | MeanAbsoluteError  | 0     \n",
      "25 | test_mae_aux  | MeanAbsoluteError  | 0     \n",
      "------------------------------------------------------\n",
      "374 K     Trainable params\n",
      "0         Non-trainable params\n",
      "374 K     Total params\n",
      "1.498     Total estimated model params size (MB)\n"
     ]
    },
    {
     "name": "stdout",
     "output_type": "stream",
     "text": [
      "[LOOCV] PID= WEBSS-002  MAE=2.067 RMSE=2.067\n"
     ]
    },
    {
     "data": {
      "application/vnd.jupyter.widget-view+json": {
       "model_id": "e5b50613ab5a47a8bc07f7339bef0299",
       "version_major": 2,
       "version_minor": 0
      },
      "text/plain": [
       "Training: |                                                                                                   …"
      ]
     },
     "metadata": {},
     "output_type": "display_data"
    },
    {
     "name": "stderr",
     "output_type": "stream",
     "text": [
      "`Trainer.fit` stopped: `max_epochs=50` reached.\n",
      "LOCAL_RANK: 0 - CUDA_VISIBLE_DEVICES: [0,1,2,3,4,5,6]\n"
     ]
    },
    {
     "data": {
      "application/vnd.jupyter.widget-view+json": {
       "model_id": "6f0b585a4bc04acbb45299591d329b2c",
       "version_major": 2,
       "version_minor": 0
      },
      "text/plain": [
       "Testing: |                                                                                                    …"
      ]
     },
     "metadata": {},
     "output_type": "display_data"
    },
    {
     "name": "stderr",
     "output_type": "stream",
     "text": [
      "GPU available: True (cuda), used: True\n",
      "TPU available: False, using: 0 TPU cores\n",
      "IPU available: False, using: 0 IPUs\n",
      "HPU available: False, using: 0 HPUs\n",
      "LOCAL_RANK: 0 - CUDA_VISIBLE_DEVICES: [0,1,2,3,4,5,6]\n",
      "\n",
      "   | Name          | Type               | Params\n",
      "------------------------------------------------------\n",
      "0  | tab_enc       | TabularEncoder     | 4.9 K \n",
      "1  | rnn           | GRU                | 369 K \n",
      "2  | head_aux      | Linear             | 129   \n",
      "3  | head_main     | Linear             | 129   \n",
      "4  | mse           | MSELoss            | 0     \n",
      "5  | train_mae     | MeanAbsoluteError  | 0     \n",
      "6  | val_mae       | MeanAbsoluteError  | 0     \n",
      "7  | test_mae      | MeanAbsoluteError  | 0     \n",
      "8  | train_rmse    | MeanSquaredError   | 0     \n",
      "9  | val_rmse      | MeanSquaredError   | 0     \n",
      "10 | test_rmse     | MeanSquaredError   | 0     \n",
      "11 | train_acc     | MulticlassAccuracy | 0     \n",
      "12 | val_acc       | MulticlassAccuracy | 0     \n",
      "13 | test_acc      | MulticlassAccuracy | 0     \n",
      "14 | train_acc_tol | SumMetric          | 0     \n",
      "15 | val_acc_tol   | SumMetric          | 0     \n",
      "16 | test_acc_tol  | SumMetric          | 0     \n",
      "17 | train_cnt     | SumMetric          | 0     \n",
      "18 | val_cnt       | SumMetric          | 0     \n",
      "19 | test_cnt      | SumMetric          | 0     \n",
      "20 | train_auroc   | MulticlassAUROC    | 0     \n",
      "21 | val_auroc     | MulticlassAUROC    | 0     \n",
      "22 | test_auroc    | MulticlassAUROC    | 0     \n",
      "23 | train_mae_aux | MeanAbsoluteError  | 0     \n",
      "24 | val_mae_aux   | MeanAbsoluteError  | 0     \n",
      "25 | test_mae_aux  | MeanAbsoluteError  | 0     \n",
      "------------------------------------------------------\n",
      "374 K     Trainable params\n",
      "0         Non-trainable params\n",
      "374 K     Total params\n",
      "1.498     Total estimated model params size (MB)\n"
     ]
    },
    {
     "name": "stdout",
     "output_type": "stream",
     "text": [
      "[LOOCV] PID= WEBSS-003  MAE=0.579 RMSE=0.579\n"
     ]
    },
    {
     "data": {
      "application/vnd.jupyter.widget-view+json": {
       "model_id": "e28d58a824d7480f96b66a627ace3e2d",
       "version_major": 2,
       "version_minor": 0
      },
      "text/plain": [
       "Training: |                                                                                                   …"
      ]
     },
     "metadata": {},
     "output_type": "display_data"
    },
    {
     "name": "stderr",
     "output_type": "stream",
     "text": [
      "`Trainer.fit` stopped: `max_epochs=50` reached.\n",
      "LOCAL_RANK: 0 - CUDA_VISIBLE_DEVICES: [0,1,2,3,4,5,6]\n"
     ]
    },
    {
     "data": {
      "application/vnd.jupyter.widget-view+json": {
       "model_id": "9b2631a85db44a4baa8cac1ebdabd118",
       "version_major": 2,
       "version_minor": 0
      },
      "text/plain": [
       "Testing: |                                                                                                    …"
      ]
     },
     "metadata": {},
     "output_type": "display_data"
    },
    {
     "name": "stderr",
     "output_type": "stream",
     "text": [
      "GPU available: True (cuda), used: True\n",
      "TPU available: False, using: 0 TPU cores\n",
      "IPU available: False, using: 0 IPUs\n",
      "HPU available: False, using: 0 HPUs\n",
      "LOCAL_RANK: 0 - CUDA_VISIBLE_DEVICES: [0,1,2,3,4,5,6]\n",
      "\n",
      "   | Name          | Type               | Params\n",
      "------------------------------------------------------\n",
      "0  | tab_enc       | TabularEncoder     | 4.9 K \n",
      "1  | rnn           | GRU                | 369 K \n",
      "2  | head_aux      | Linear             | 129   \n",
      "3  | head_main     | Linear             | 129   \n",
      "4  | mse           | MSELoss            | 0     \n",
      "5  | train_mae     | MeanAbsoluteError  | 0     \n",
      "6  | val_mae       | MeanAbsoluteError  | 0     \n",
      "7  | test_mae      | MeanAbsoluteError  | 0     \n",
      "8  | train_rmse    | MeanSquaredError   | 0     \n",
      "9  | val_rmse      | MeanSquaredError   | 0     \n",
      "10 | test_rmse     | MeanSquaredError   | 0     \n",
      "11 | train_acc     | MulticlassAccuracy | 0     \n",
      "12 | val_acc       | MulticlassAccuracy | 0     \n",
      "13 | test_acc      | MulticlassAccuracy | 0     \n",
      "14 | train_acc_tol | SumMetric          | 0     \n",
      "15 | val_acc_tol   | SumMetric          | 0     \n",
      "16 | test_acc_tol  | SumMetric          | 0     \n",
      "17 | train_cnt     | SumMetric          | 0     \n",
      "18 | val_cnt       | SumMetric          | 0     \n",
      "19 | test_cnt      | SumMetric          | 0     \n",
      "20 | train_auroc   | MulticlassAUROC    | 0     \n",
      "21 | val_auroc     | MulticlassAUROC    | 0     \n",
      "22 | test_auroc    | MulticlassAUROC    | 0     \n",
      "23 | train_mae_aux | MeanAbsoluteError  | 0     \n",
      "24 | val_mae_aux   | MeanAbsoluteError  | 0     \n",
      "25 | test_mae_aux  | MeanAbsoluteError  | 0     \n",
      "------------------------------------------------------\n",
      "374 K     Trainable params\n",
      "0         Non-trainable params\n",
      "374 K     Total params\n",
      "1.498     Total estimated model params size (MB)\n"
     ]
    },
    {
     "name": "stdout",
     "output_type": "stream",
     "text": [
      "[LOOCV] PID= WEBSS-004  MAE=0.736 RMSE=0.736\n"
     ]
    },
    {
     "data": {
      "application/vnd.jupyter.widget-view+json": {
       "model_id": "d0ef289f1710492aab4d286ed856c544",
       "version_major": 2,
       "version_minor": 0
      },
      "text/plain": [
       "Training: |                                                                                                   …"
      ]
     },
     "metadata": {},
     "output_type": "display_data"
    },
    {
     "name": "stderr",
     "output_type": "stream",
     "text": [
      "`Trainer.fit` stopped: `max_epochs=50` reached.\n",
      "LOCAL_RANK: 0 - CUDA_VISIBLE_DEVICES: [0,1,2,3,4,5,6]\n"
     ]
    },
    {
     "data": {
      "application/vnd.jupyter.widget-view+json": {
       "model_id": "2fddfa29982c4fb387b6d299fa1ca620",
       "version_major": 2,
       "version_minor": 0
      },
      "text/plain": [
       "Testing: |                                                                                                    …"
      ]
     },
     "metadata": {},
     "output_type": "display_data"
    },
    {
     "name": "stdout",
     "output_type": "stream",
     "text": [
      "[LOOCV] PID= WEBSS-005  MAE=0.498 RMSE=0.498\n"
     ]
    },
    {
     "name": "stderr",
     "output_type": "stream",
     "text": [
      "GPU available: True (cuda), used: True\n",
      "TPU available: False, using: 0 TPU cores\n",
      "IPU available: False, using: 0 IPUs\n",
      "HPU available: False, using: 0 HPUs\n",
      "LOCAL_RANK: 0 - CUDA_VISIBLE_DEVICES: [0,1,2,3,4,5,6]\n",
      "\n",
      "   | Name          | Type               | Params\n",
      "------------------------------------------------------\n",
      "0  | tab_enc       | TabularEncoder     | 4.9 K \n",
      "1  | rnn           | GRU                | 369 K \n",
      "2  | head_aux      | Linear             | 129   \n",
      "3  | head_main     | Linear             | 129   \n",
      "4  | mse           | MSELoss            | 0     \n",
      "5  | train_mae     | MeanAbsoluteError  | 0     \n",
      "6  | val_mae       | MeanAbsoluteError  | 0     \n",
      "7  | test_mae      | MeanAbsoluteError  | 0     \n",
      "8  | train_rmse    | MeanSquaredError   | 0     \n",
      "9  | val_rmse      | MeanSquaredError   | 0     \n",
      "10 | test_rmse     | MeanSquaredError   | 0     \n",
      "11 | train_acc     | MulticlassAccuracy | 0     \n",
      "12 | val_acc       | MulticlassAccuracy | 0     \n",
      "13 | test_acc      | MulticlassAccuracy | 0     \n",
      "14 | train_acc_tol | SumMetric          | 0     \n",
      "15 | val_acc_tol   | SumMetric          | 0     \n",
      "16 | test_acc_tol  | SumMetric          | 0     \n",
      "17 | train_cnt     | SumMetric          | 0     \n",
      "18 | val_cnt       | SumMetric          | 0     \n",
      "19 | test_cnt      | SumMetric          | 0     \n",
      "20 | train_auroc   | MulticlassAUROC    | 0     \n",
      "21 | val_auroc     | MulticlassAUROC    | 0     \n",
      "22 | test_auroc    | MulticlassAUROC    | 0     \n",
      "23 | train_mae_aux | MeanAbsoluteError  | 0     \n",
      "24 | val_mae_aux   | MeanAbsoluteError  | 0     \n",
      "25 | test_mae_aux  | MeanAbsoluteError  | 0     \n",
      "------------------------------------------------------\n",
      "374 K     Trainable params\n",
      "0         Non-trainable params\n",
      "374 K     Total params\n",
      "1.498     Total estimated model params size (MB)\n"
     ]
    },
    {
     "data": {
      "application/vnd.jupyter.widget-view+json": {
       "model_id": "2cce0193d13e40b38c43b5677f3b2d64",
       "version_major": 2,
       "version_minor": 0
      },
      "text/plain": [
       "Training: |                                                                                                   …"
      ]
     },
     "metadata": {},
     "output_type": "display_data"
    },
    {
     "name": "stderr",
     "output_type": "stream",
     "text": [
      "`Trainer.fit` stopped: `max_epochs=50` reached.\n",
      "LOCAL_RANK: 0 - CUDA_VISIBLE_DEVICES: [0,1,2,3,4,5,6]\n"
     ]
    },
    {
     "data": {
      "application/vnd.jupyter.widget-view+json": {
       "model_id": "88c5bf26c5644906986a6b42f7baec0b",
       "version_major": 2,
       "version_minor": 0
      },
      "text/plain": [
       "Testing: |                                                                                                    …"
      ]
     },
     "metadata": {},
     "output_type": "display_data"
    },
    {
     "name": "stderr",
     "output_type": "stream",
     "text": [
      "GPU available: True (cuda), used: True\n",
      "TPU available: False, using: 0 TPU cores\n",
      "IPU available: False, using: 0 IPUs\n",
      "HPU available: False, using: 0 HPUs\n",
      "LOCAL_RANK: 0 - CUDA_VISIBLE_DEVICES: [0,1,2,3,4,5,6]\n",
      "\n",
      "   | Name          | Type               | Params\n",
      "------------------------------------------------------\n",
      "0  | tab_enc       | TabularEncoder     | 4.9 K \n",
      "1  | rnn           | GRU                | 369 K \n",
      "2  | head_aux      | Linear             | 129   \n",
      "3  | head_main     | Linear             | 129   \n",
      "4  | mse           | MSELoss            | 0     \n",
      "5  | train_mae     | MeanAbsoluteError  | 0     \n",
      "6  | val_mae       | MeanAbsoluteError  | 0     \n",
      "7  | test_mae      | MeanAbsoluteError  | 0     \n",
      "8  | train_rmse    | MeanSquaredError   | 0     \n",
      "9  | val_rmse      | MeanSquaredError   | 0     \n",
      "10 | test_rmse     | MeanSquaredError   | 0     \n",
      "11 | train_acc     | MulticlassAccuracy | 0     \n",
      "12 | val_acc       | MulticlassAccuracy | 0     \n",
      "13 | test_acc      | MulticlassAccuracy | 0     \n",
      "14 | train_acc_tol | SumMetric          | 0     \n",
      "15 | val_acc_tol   | SumMetric          | 0     \n",
      "16 | test_acc_tol  | SumMetric          | 0     \n",
      "17 | train_cnt     | SumMetric          | 0     \n",
      "18 | val_cnt       | SumMetric          | 0     \n",
      "19 | test_cnt      | SumMetric          | 0     \n",
      "20 | train_auroc   | MulticlassAUROC    | 0     \n",
      "21 | val_auroc     | MulticlassAUROC    | 0     \n",
      "22 | test_auroc    | MulticlassAUROC    | 0     \n",
      "23 | train_mae_aux | MeanAbsoluteError  | 0     \n",
      "24 | val_mae_aux   | MeanAbsoluteError  | 0     \n",
      "25 | test_mae_aux  | MeanAbsoluteError  | 0     \n",
      "------------------------------------------------------\n",
      "374 K     Trainable params\n",
      "0         Non-trainable params\n",
      "374 K     Total params\n",
      "1.498     Total estimated model params size (MB)\n"
     ]
    },
    {
     "name": "stdout",
     "output_type": "stream",
     "text": [
      "[LOOCV] PID= WEBSS-006  MAE=0.997 RMSE=0.997\n"
     ]
    },
    {
     "data": {
      "application/vnd.jupyter.widget-view+json": {
       "model_id": "6dc8acf34fa44508ae5b1b5521cf1fa9",
       "version_major": 2,
       "version_minor": 0
      },
      "text/plain": [
       "Training: |                                                                                                   …"
      ]
     },
     "metadata": {},
     "output_type": "display_data"
    },
    {
     "name": "stderr",
     "output_type": "stream",
     "text": [
      "`Trainer.fit` stopped: `max_epochs=50` reached.\n",
      "LOCAL_RANK: 0 - CUDA_VISIBLE_DEVICES: [0,1,2,3,4,5,6]\n"
     ]
    },
    {
     "data": {
      "application/vnd.jupyter.widget-view+json": {
       "model_id": "a59415b18935499da90d225d2f4cd0fa",
       "version_major": 2,
       "version_minor": 0
      },
      "text/plain": [
       "Testing: |                                                                                                    …"
      ]
     },
     "metadata": {},
     "output_type": "display_data"
    },
    {
     "name": "stdout",
     "output_type": "stream",
     "text": [
      "[LOOCV] PID= WEBSS-007  MAE=1.686 RMSE=1.686\n"
     ]
    }
   ],
   "source": [
    "results_patient_only = loocv_train_test(dataset,\n",
    "                           trainer_kwargs=dict(max_epochs=50,\n",
    "                                               accelerator=\"gpu\",\n",
    "                                               devices=1,\n",
    "                                               log_every_n_steps=1))"
   ]
  },
  {
   "cell_type": "code",
   "execution_count": 33,
   "id": "da4e13f7-c5d0-48d7-b714-520079c1c365",
   "metadata": {},
   "outputs": [
    {
     "data": {
      "text/html": [
       "<div>\n",
       "<style scoped>\n",
       "    .dataframe tbody tr th:only-of-type {\n",
       "        vertical-align: middle;\n",
       "    }\n",
       "\n",
       "    .dataframe tbody tr th {\n",
       "        vertical-align: top;\n",
       "    }\n",
       "\n",
       "    .dataframe thead th {\n",
       "        text-align: right;\n",
       "    }\n",
       "</style>\n",
       "<table border=\"1\" class=\"dataframe\">\n",
       "  <thead>\n",
       "    <tr style=\"text-align: right;\">\n",
       "      <th></th>\n",
       "      <th>test_loss_main</th>\n",
       "      <th>test_loss_aux</th>\n",
       "      <th>test_mae</th>\n",
       "      <th>test_rmse</th>\n",
       "      <th>test_acc</th>\n",
       "      <th>test_acc±1</th>\n",
       "      <th>test_auroc</th>\n",
       "      <th>test_mae_aux</th>\n",
       "      <th>pid</th>\n",
       "    </tr>\n",
       "  </thead>\n",
       "  <tbody>\n",
       "    <tr>\n",
       "      <th>0</th>\n",
       "      <td>14.955394</td>\n",
       "      <td>1.302412</td>\n",
       "      <td>2.067116</td>\n",
       "      <td>2.067116</td>\n",
       "      <td>0.0</td>\n",
       "      <td>0.0</td>\n",
       "      <td>0.0</td>\n",
       "      <td>0.568271</td>\n",
       "      <td>WEBSS-002</td>\n",
       "    </tr>\n",
       "    <tr>\n",
       "      <th>1</th>\n",
       "      <td>0.836663</td>\n",
       "      <td>5.063198</td>\n",
       "      <td>0.578502</td>\n",
       "      <td>0.578502</td>\n",
       "      <td>0.0</td>\n",
       "      <td>1.0</td>\n",
       "      <td>0.0</td>\n",
       "      <td>1.420115</td>\n",
       "      <td>WEBSS-003</td>\n",
       "    </tr>\n",
       "    <tr>\n",
       "      <th>2</th>\n",
       "      <td>1.897460</td>\n",
       "      <td>5.280364</td>\n",
       "      <td>0.736296</td>\n",
       "      <td>0.736296</td>\n",
       "      <td>0.0</td>\n",
       "      <td>1.0</td>\n",
       "      <td>0.0</td>\n",
       "      <td>1.208195</td>\n",
       "      <td>WEBSS-004</td>\n",
       "    </tr>\n",
       "    <tr>\n",
       "      <th>3</th>\n",
       "      <td>0.866511</td>\n",
       "      <td>1.330074</td>\n",
       "      <td>0.497569</td>\n",
       "      <td>0.497569</td>\n",
       "      <td>1.0</td>\n",
       "      <td>1.0</td>\n",
       "      <td>0.0</td>\n",
       "      <td>0.593408</td>\n",
       "      <td>WEBSS-005</td>\n",
       "    </tr>\n",
       "    <tr>\n",
       "      <th>4</th>\n",
       "      <td>2.983426</td>\n",
       "      <td>6.521261</td>\n",
       "      <td>0.997234</td>\n",
       "      <td>0.997234</td>\n",
       "      <td>0.0</td>\n",
       "      <td>1.0</td>\n",
       "      <td>0.0</td>\n",
       "      <td>1.467895</td>\n",
       "      <td>WEBSS-006</td>\n",
       "    </tr>\n",
       "    <tr>\n",
       "      <th>5</th>\n",
       "      <td>5.684630</td>\n",
       "      <td>13.216990</td>\n",
       "      <td>1.685917</td>\n",
       "      <td>1.685917</td>\n",
       "      <td>0.0</td>\n",
       "      <td>0.0</td>\n",
       "      <td>0.0</td>\n",
       "      <td>1.938668</td>\n",
       "      <td>WEBSS-007</td>\n",
       "    </tr>\n",
       "  </tbody>\n",
       "</table>\n",
       "</div>"
      ],
      "text/plain": [
       "   test_loss_main  test_loss_aux  test_mae  test_rmse  test_acc  test_acc±1  \\\n",
       "0       14.955394       1.302412  2.067116   2.067116       0.0         0.0   \n",
       "1        0.836663       5.063198  0.578502   0.578502       0.0         1.0   \n",
       "2        1.897460       5.280364  0.736296   0.736296       0.0         1.0   \n",
       "3        0.866511       1.330074  0.497569   0.497569       1.0         1.0   \n",
       "4        2.983426       6.521261  0.997234   0.997234       0.0         1.0   \n",
       "5        5.684630      13.216990  1.685917   1.685917       0.0         0.0   \n",
       "\n",
       "   test_auroc  test_mae_aux        pid  \n",
       "0         0.0      0.568271  WEBSS-002  \n",
       "1         0.0      1.420115  WEBSS-003  \n",
       "2         0.0      1.208195  WEBSS-004  \n",
       "3         0.0      0.593408  WEBSS-005  \n",
       "4         0.0      1.467895  WEBSS-006  \n",
       "5         0.0      1.938668  WEBSS-007  "
      ]
     },
     "execution_count": 33,
     "metadata": {},
     "output_type": "execute_result"
    }
   ],
   "source": [
    "df_res_2 = pd.DataFrame(results_patient_only)\n",
    "df_res_2"
   ]
  },
  {
   "cell_type": "code",
   "execution_count": 34,
   "id": "3ac3d3d4-ba64-4f45-a045-66823033ad06",
   "metadata": {},
   "outputs": [
    {
     "name": "stdout",
     "output_type": "stream",
     "text": [
      "<pandas.core.groupby.generic.DataFrameGroupBy object at 0x7f18cce4ceb0>\n",
      "평균 MAE(main) : 1.093772252400716\n",
      "std MAE(main) : 0.6412650770936309\n",
      "평균 MAE(aux)  : 1.1994254887104034\n",
      "std MAE(aux)  : 0.5353408355590775\n"
     ]
    }
   ],
   "source": [
    "print(df_res_2.groupby('pid')[['test_mae','test_mae_aux']])\n",
    "print(\"평균 MAE(main) :\", df_res_2['test_mae'].mean())\n",
    "print(\"std MAE(main) :\", df_res_2['test_mae'].std())\n",
    "print(\"평균 MAE(aux)  :\", df_res_2['test_mae_aux'].mean())\n",
    "print(\"std MAE(aux)  :\", df_res_2['test_mae_aux'].std())"
   ]
  },
  {
   "cell_type": "markdown",
   "id": "1ded4fa4-64b3-4fe9-840d-031b7dceab91",
   "metadata": {},
   "source": [
    "# light"
   ]
  },
  {
   "cell_type": "code",
   "execution_count": null,
   "id": "441042e0-7679-4fc6-be94-0a5f2feae281",
   "metadata": {},
   "outputs": [],
   "source": []
  },
  {
   "cell_type": "code",
   "execution_count": null,
   "id": "3ae07ad7-d082-4492-b7c8-31d2ec0fd060",
   "metadata": {},
   "outputs": [],
   "source": []
  }
 ],
 "metadata": {
  "kernelspec": {
   "display_name": "audio",
   "language": "python",
   "name": "audio"
  },
  "language_info": {
   "codemirror_mode": {
    "name": "ipython",
    "version": 3
   },
   "file_extension": ".py",
   "mimetype": "text/x-python",
   "name": "python",
   "nbconvert_exporter": "python",
   "pygments_lexer": "ipython3",
   "version": "3.10.4"
  }
 },
 "nbformat": 4,
 "nbformat_minor": 5
}
